{
  "cells": [
    {
      "cell_type": "markdown",
      "metadata": {
        "id": "view-in-github",
        "colab_type": "text"
      },
      "source": [
        "<a href=\"https://colab.research.google.com/github/mathengem/Algorithmic-Trading-Backtesting-in-python/blob/main/test2.ipynb\" target=\"_parent\"><img src=\"https://colab.research.google.com/assets/colab-badge.svg\" alt=\"Open In Colab\"/></a>"
      ]
    },
    {
      "cell_type": "code",
      "source": [
        "!pip install base58"
      ],
      "metadata": {
        "colab": {
          "base_uri": "https://localhost:8080/"
        },
        "id": "wqbphJWcClv8",
        "outputId": "70512b95-7f11-4865-881b-f5cf2b243b6e"
      },
      "execution_count": 3,
      "outputs": [
        {
          "output_type": "stream",
          "name": "stdout",
          "text": [
            "Requirement already satisfied: base58 in /usr/local/lib/python3.10/dist-packages (2.1.1)\n"
          ]
        }
      ]
    },
    {
      "cell_type": "code",
      "source": [
        "!pip install bitcoin"
      ],
      "metadata": {
        "colab": {
          "base_uri": "https://localhost:8080/"
        },
        "id": "S1UMVH7VeotN",
        "outputId": "4dfb7d52-fb5c-4cba-b310-f004780b8acd"
      },
      "execution_count": 4,
      "outputs": [
        {
          "output_type": "stream",
          "name": "stdout",
          "text": [
            "Requirement already satisfied: bitcoin in /usr/local/lib/python3.10/dist-packages (1.1.42)\n"
          ]
        }
      ]
    },
    {
      "cell_type": "code",
      "source": [
        "!pip install bitstring"
      ],
      "metadata": {
        "colab": {
          "base_uri": "https://localhost:8080/"
        },
        "id": "iEx1wdbgebQj",
        "outputId": "cb62cd51-0771-484d-e9c5-0341031db860"
      },
      "execution_count": 5,
      "outputs": [
        {
          "output_type": "stream",
          "name": "stdout",
          "text": [
            "Requirement already satisfied: bitstring in /usr/local/lib/python3.10/dist-packages (4.2.3)\n",
            "Requirement already satisfied: bitarray<3.0.0,>=2.9.0 in /usr/local/lib/python3.10/dist-packages (from bitstring) (2.9.2)\n"
          ]
        }
      ]
    },
    {
      "cell_type": "code",
      "execution_count": 6,
      "metadata": {
        "colab": {
          "base_uri": "https://localhost:8080/"
        },
        "id": "RLq1iUjcVIE2",
        "outputId": "6ddeb420-2a68-40dc-fa3d-8a1aea245534"
      },
      "outputs": [
        {
          "output_type": "stream",
          "name": "stdout",
          "text": [
            "Requirement already satisfied: gmpy2 in /usr/local/lib/python3.10/dist-packages (2.2.1)\n"
          ]
        }
      ],
      "source": [
        "!pip install gmpy2\n"
      ]
    },
    {
      "cell_type": "code",
      "execution_count": 7,
      "metadata": {
        "colab": {
          "base_uri": "https://localhost:8080/"
        },
        "id": "lpD9vJ-jHzN7",
        "outputId": "e75d4328-32f5-4555-fbde-7bd5bd7d5e33"
      },
      "outputs": [
        {
          "output_type": "stream",
          "name": "stdout",
          "text": [
            "Requirement already satisfied: ecdsa in /usr/local/lib/python3.10/dist-packages (0.19.0)\n",
            "Requirement already satisfied: six>=1.9.0 in /usr/local/lib/python3.10/dist-packages (from ecdsa) (1.16.0)\n"
          ]
        }
      ],
      "source": [
        "!pip install ecdsa"
      ]
    },
    {
      "cell_type": "code",
      "execution_count": 8,
      "metadata": {
        "colab": {
          "base_uri": "https://localhost:8080/"
        },
        "id": "P-4zeXH_HsBg",
        "outputId": "970d2eaf-6b07-45da-8e1e-c9dfbe75f47c"
      },
      "outputs": [
        {
          "output_type": "stream",
          "name": "stdout",
          "text": [
            "Requirement already satisfied: pycryptodome in /usr/local/lib/python3.10/dist-packages (3.20.0)\n"
          ]
        }
      ],
      "source": [
        "!pip install pycryptodome"
      ]
    },
    {
      "cell_type": "code",
      "execution_count": 9,
      "metadata": {
        "colab": {
          "base_uri": "https://localhost:8080/"
        },
        "id": "zMRPzmUz5Xiu",
        "outputId": "b60cdd5f-517c-4a3e-9783-067e8cc369b1"
      },
      "outputs": [
        {
          "output_type": "stream",
          "name": "stdout",
          "text": [
            "fatal: destination path 'secp256k1' already exists and is not an empty directory.\n"
          ]
        }
      ],
      "source": [
        "!git clone https://github.com/iceland2k14/secp256k1.git"
      ]
    },
    {
      "cell_type": "code",
      "execution_count": 10,
      "metadata": {
        "colab": {
          "base_uri": "https://localhost:8080/"
        },
        "id": "fBDRrSt05ad7",
        "outputId": "90297881-5b60-47fa-93ae-e5469de42b97"
      },
      "outputs": [
        {
          "output_type": "stream",
          "name": "stdout",
          "text": [
            "/content/secp256k1\n"
          ]
        }
      ],
      "source": [
        "%cd secp256k1"
      ]
    },
    {
      "cell_type": "code",
      "source": [
        "import secp256k1 as ice\n",
        "\n",
        "#############################################################################\n",
        "# Set the number of public keys to generate\n",
        "#############################################################################\n",
        "start_key = 1\n",
        "num_public_keys = 2**32 #(about 4 billions of keys)\n",
        "bits_to_store = 64\n",
        "bytes_to_store = bits_to_store//8\n",
        "rate_of_key_to_generate = 128\n",
        "rate_of_key_to_store = rate_of_key_to_generate\n",
        "\n",
        "interval_to_generate = range(start_key, start_key + num_public_keys, rate_of_key_to_store)\n",
        "interval_to_store = range(start_key,start_key + num_public_keys,rate_of_key_to_store)\n",
        "\n",
        "binary_mode = 1\n",
        "\n",
        "#############################################################################\n",
        "\n",
        "\n",
        "if (binary_mode == 1):\n",
        "\n",
        "\tf = open(\"public_keys_database.bin\", \"wb\") #binary mode\n",
        "\n",
        "\t########################################generation#############################################\n",
        "\tpublic_keys=[]\n",
        "\n",
        "\n",
        "\tpublic_keys_complete=list(map(ice.scalar_multiplication,interval_to_generate)) #generates the public keys complete\n",
        "\tpublic_keys=list(map(lambda w: int(w[33-bytes_to_store:33].hex(),16),public_keys_complete)) #extract only the last bytes_to_store\n",
        "\n",
        "\n",
        "\n",
        "\t########################################writing the db##########################################\n",
        "\tfor i in range(0,len(interval_to_store)):\n",
        "\t\tf.write(public_keys[i].to_bytes(bytes_to_store,byteorder='big'))  #writes each key\n",
        "\n",
        "\tf.close()\n",
        "\n",
        "else:\n",
        "\n",
        "\tf = open(\"public_keys_database.txt\", \"w\")\n",
        "\n",
        "\t#generation\n",
        "\tpublic_keys=[]\n",
        "\n",
        "\tfor i in interval_to_generate:\n",
        "\t\tP4 = ice.scalar_multiplication(i)\n",
        "\t\tpublic_keys.append(P4[33-bytes_to_store:33].hex())\n",
        "\n",
        "\t#writing the db\n",
        "\tfor i in range(0,len(interval_to_store)):\n",
        "\t\tf.write(public_keys[i])\n",
        "\n",
        "\tf.close()"
      ],
      "metadata": {
        "id": "Mkr5tUfVPiOs"
      },
      "execution_count": 5,
      "outputs": []
    },
    {
      "cell_type": "code",
      "source": [
        "import secp256k1 as ice\n",
        "\n",
        "#############################################################################\n",
        "# Set the number of public keys to generate\n",
        "#############################################################################\n",
        "start_key = 1\n",
        "num_public_keys = 2**32 * 14 #(about 56 trillion keys)\n",
        "bits_to_store = 64\n",
        "bytes_to_store = bits_to_store//8\n",
        "rate_of_key_to_generate = 128\n",
        "rate_of_key_to_store = rate_of_key_to_generate\n",
        "\n",
        "interval_to_generate = range(start_key, start_key + num_public_keys, rate_of_key_to_store)\n",
        "interval_to_store = range(start_key, start_key + num_public_keys, rate_of_key_to_store)\n",
        "\n",
        "binary_mode = 1\n",
        "\n",
        "public_key = bytes.fromhex('03e1ea4a810944e6b5b1f598fae9984629c6cbcb9c0471f39c752809b44ed6ce11')\n",
        "\n",
        "#############################################################################\n",
        "\n",
        "\n",
        "if (binary_mode == 1):\n",
        "\n",
        "\tf = open(\"public_keys_database.bin\", \"wb\") #binary mode\n",
        "\n",
        "\t########################################generation#############################################\n",
        "\tfor i in range(0, len(interval_to_generate), rate_of_key_to_generate):\n",
        "\t\tpublic_keys=[]\n",
        "\t\tfor j in range(i, min(i + rate_of_key_to_generate, len(interval_to_generate))):\n",
        "\t\t\tP4 = ice.scalar_multiplication(interval_to_generate[j])\n",
        "\t\t\tpublic_keys.append(int(P4[33-bytes_to_store:33].hex(), 16))\n",
        "\n",
        "\t\t########################################writing the db##########################################\n",
        "\t\tfor k in range(len(public_keys)):\n",
        "\t\t\tf.write(public_keys[k].to_bytes(bytes_to_store, byteorder='big'))  #writes each key\n",
        "\n",
        "\t\t# Clear the RAM\n",
        "\t\tdel public_keys\n",
        "\t\tpublic_keys = None\n",
        "\n",
        "\tf.close()\n",
        "\n",
        "else:\n",
        "\n",
        "\tf = open(\"public_keys_database.txt\", \"w\")\n",
        "\n",
        "\t#generation\n",
        "\tfor i in range(0, len(interval_to_generate), rate_of_key_to_generate):\n",
        "\t\tpublic_keys=[]\n",
        "\t\tfor j in range(i, min(i + rate_of_key_to_generate, len(interval_to_generate))):\n",
        "\t\t\tP4 = ice.scalar_multiplication(interval_to_generate[j])\n",
        "\t\t\tpublic_keys.append(P4[33-bytes_to_store:33].hex())\n",
        "\n",
        "\t\t#writing the db\n",
        "\t\tfor k in range(len(public_keys)):\n",
        "\t\t\tf.write(public_keys[k] + '\\n')\n",
        "\n",
        "\t\t# Clear the RAM\n",
        "\t\tdel public_keys\n",
        "\t\tpublic_keys = None\n",
        "\n",
        "\tf.close()"
      ],
      "metadata": {
        "id": "5D8GMykbd4-I"
      },
      "execution_count": 14,
      "outputs": []
    },
    {
      "cell_type": "code",
      "source": [
        "import secp256k1 as ice\n",
        "import random\n",
        "import sys\n",
        "\n",
        "#############################################################################\n",
        "# Set the number of public keys to generate\n",
        "#############################################################################\n",
        "\n",
        "start_key = 1\n",
        "num_public_keys = 2**32\n",
        "bits_to_store = 64\n",
        "bytes_to_store = bits_to_store//8\n",
        "rate_of_key_to_generate = 128\n",
        "rate_of_key_to_store = rate_of_key_to_generate\n",
        "\n",
        "split_database = 16 #read only a fraction of the database to speedup the finding of the string\n",
        "\n",
        "interval_to_generate = range(start_key,start_key + num_public_keys, rate_of_key_to_store)\n",
        "\n",
        "interval_to_store = range(start_key,start_key + num_public_keys,rate_of_key_to_store)\n",
        "\n",
        "binary_mode = 1\n",
        "\n",
        "\n",
        "\n",
        "#########################################################################################\n",
        "\n",
        "#pk = 0x3243 = 12867\n",
        "#P = ice.scalar_multiplication(12867)\n",
        "#P=\"0x6800b#b8a9dffe1709ceac95d7d06646188c2cb656c09cd2e717ec67487ce1be3\"\n",
        "\n",
        "\n",
        "#############generates random private key and public key#################################\n",
        "pk= random.randint(start_key, start_key + num_public_keys)\n",
        "P = ice.scalar_multiplication(pk)\n",
        "print()\n",
        "print(\"This is the public key: \" + P[1:33].hex())\n",
        "print(\"I need to find this private key: \"+str(pk))\n",
        "\n",
        "\n",
        "###################subtraction of : P - 1G,  P - 2G, ..., P - rate_of_key*G################\n",
        "substract_pub = ice.scalar_multiplication(1)\n",
        "complete_pub= ice.point_loop_subtraction(rate_of_key_to_generate, P, substract_pub)\n",
        "\n",
        "\n",
        "partial_pub=[] #need only the last bytes_to_store\n",
        "P2=int(P[33-bytes_to_store:33].hex(),16).to_bytes(bytes_to_store,byteorder='big')\n",
        "partial_pub.append(P2)\n",
        "\n",
        "for i in range(1,rate_of_key_to_store+1):\n",
        "\tpartial_pub.append(int(complete_pub[(i-1)*65+33-bytes_to_store:(i-1)*65+33].hex(),16).to_bytes(bytes_to_store,byteorder='big'))\n",
        "\n",
        "\n",
        "\n",
        "\n",
        "################search in database##########################################################\n",
        "with open(\"public_keys_database.bin\", 'r+b') as f:\n",
        "\n",
        "\ts = f.read()\n",
        "\tl=len(s)\n",
        "\n",
        "\tfor k in range(0,l, l//split_database):\n",
        "\t\tj=1\n",
        "\t\tfor i in partial_pub:\n",
        "\t\t\tn = s[k:k+l//split_database].find(i)\n",
        "\t\t\tif n > -1:\n",
        "\t\t\t\tprint()\n",
        "\t\t\t\tprint(\"Private key found!!!\")\n",
        "\t\t\t\tprivate_key = (n+k)//bytes_to_store*rate_of_key_to_generate + j\n",
        "\t\t\t\tprint(private_key)\n",
        "\t\t\t\tP3 = ice.scalar_multiplication(private_key)\n",
        "\t\t\t\tpub_key=P3[1:33].hex()\n",
        "\t\t\t\tprint((pub_key)[:])\n",
        "\t\t\t\tf.close()\n",
        "\t\t\t\tsys.exit(0)\n",
        "\t\t\tj=j+1\n",
        "\n",
        "\n",
        "print(\"string not found\")\n",
        "\n",
        "\n",
        "f.close()"
      ],
      "metadata": {
        "colab": {
          "base_uri": "https://localhost:8080/",
          "height": 245
        },
        "id": "6EtbP8lDRA47",
        "outputId": "3d9776ac-fa20-49b2-a33b-900a98859a76"
      },
      "execution_count": 6,
      "outputs": [
        {
          "output_type": "stream",
          "name": "stdout",
          "text": [
            "\n",
            "This is the public key: 77c20d4b86e3838bd346f70b9f51efc663d41e1b1cadacf87b09f424679079d4\n",
            "I need to find this private key: 2807233377\n",
            "\n",
            "Private key found!!!\n",
            "2807233377\n",
            "77c20d4b86e3838bd346f70b9f51efc663d41e1b1cadacf87b09f424679079d4\n"
          ]
        },
        {
          "output_type": "error",
          "ename": "SystemExit",
          "evalue": "0",
          "traceback": [
            "An exception has occurred, use %tb to see the full traceback.\n",
            "\u001b[0;31mSystemExit\u001b[0m\u001b[0;31m:\u001b[0m 0\n"
          ]
        },
        {
          "output_type": "stream",
          "name": "stderr",
          "text": [
            "/usr/local/lib/python3.10/dist-packages/IPython/core/interactiveshell.py:3561: UserWarning: To exit: use 'exit', 'quit', or Ctrl-D.\n",
            "  warn(\"To exit: use 'exit', 'quit', or Ctrl-D.\", stacklevel=1)\n"
          ]
        }
      ]
    },
    {
      "cell_type": "code",
      "source": [
        "import secp256k1 as ice\n",
        "import random\n",
        "import sys\n",
        "\n",
        "#############################################################################\n",
        "# Set the number of public keys to generate\n",
        "#############################################################################\n",
        "\n",
        "start_key = 1\n",
        "num_public_keys = 2**32\n",
        "bits_to_store = 64\n",
        "bytes_to_store = bits_to_store//8\n",
        "rate_of_key_to_generate = 128\n",
        "rate_of_key_to_store = rate_of_key_to_generate\n",
        "\n",
        "split_database = 16 #read only a fraction of the database to speedup the finding of the string\n",
        "\n",
        "interval_to_generate = range(start_key,start_key + num_public_keys, rate_of_key_to_store)\n",
        "\n",
        "interval_to_store = range(start_key,start_key + num_public_keys,rate_of_key_to_store)\n",
        "\n",
        "binary_mode = 1\n",
        "\n",
        "\n",
        "\n",
        "#########################################################################################\n",
        "\n",
        "#pk = 0x3243 = 12867\n",
        "#P = ice.scalar_multiplication(12867)\n",
        "#P=\"0x6800b#b8a9dffe1709ceac95d7d06646188c2cb656c09cd2e717ec67487ce1be3\"\n",
        "\n",
        "\n",
        "#############generates random private key and public key#################################\n",
        "pk= random.randint(start_key, start_key + num_public_keys)\n",
        "P = ice.scalar_multiplication(pk)\n",
        "print()\n",
        "print(\"This is the public key: \" + P[1:33].hex())\n",
        "print(\"I need to find this private key: \"+str(pk))\n",
        "\n",
        "\n",
        "###################subtraction of : P - 1G,  P - 2G, ..., P - rate_of_key*G################\n",
        "substract_pub = ice.scalar_multiplication(1)\n",
        "complete_pub= ice.point_loop_subtraction(rate_of_key_to_generate, P, substract_pub)\n",
        "\n",
        "\n",
        "partial_pub=[] #need only the last bytes_to_store\n",
        "P2=int(P[33-bytes_to_store:33].hex(),16).to_bytes(bytes_to_store,byteorder='big')\n",
        "partial_pub.append(P2)\n",
        "\n",
        "for i in range(1,rate_of_key_to_store+1):\n",
        "\tpartial_pub.append(int(complete_pub[(i-1)*65+33-bytes_to_store:(i-1)*65+33].hex(),16).to_bytes(bytes_to_store,byteorder='big'))\n",
        "\n",
        "\n",
        "\n",
        "\n",
        "################search in database##########################################################\n",
        "with open(\"public_keys_database.bin\", 'r+b') as f:\n",
        "\n",
        "\ts = f.read()\n",
        "\tl=len(s)\n",
        "\n",
        "\tfor k in range(0,l, l//split_database):\n",
        "\t\tj=1\n",
        "\t\tfor i in partial_pub:\n",
        "\t\t\tn = s[k:k+l//split_database].find(i)\n",
        "\t\t\tif n > -1:\n",
        "\t\t\t\tprint()\n",
        "\t\t\t\tprint(\"Private key found!!!\")\n",
        "\t\t\t\tprivate_key = (n+k)//bytes_to_store*rate_of_key_to_generate + j\n",
        "\t\t\t\tprint(private_key)\n",
        "\t\t\t\tP3 = ice.scalar_multiplication(private_key)\n",
        "\t\t\t\tpub_key=P3[1:33].hex()\n",
        "\t\t\t\tprint((pub_key)[:])\n",
        "\t\t\t\t# f.close() # This line is no longer needed as the 'with' statement handles file closing\n",
        "\t\t\t\t# sys.exit(0) # Commenting out this line to prevent premature exit\n",
        "\t\t\t\tbreak # Exit the inner loop after finding the key\n",
        "\t\t\tj=j+1\n",
        "\n",
        "\n",
        "print(\"string not found\")\n",
        "\n",
        "\n",
        "# f.close() # This line is no longer needed as the 'with' statement handles file closing"
      ],
      "metadata": {
        "colab": {
          "base_uri": "https://localhost:8080/"
        },
        "id": "HBMl1bolU_d-",
        "outputId": "991010b2-3f92-4885-a632-06e3c096221d"
      },
      "execution_count": 8,
      "outputs": [
        {
          "output_type": "stream",
          "name": "stdout",
          "text": [
            "\n",
            "This is the public key: b55275906987717ef498f564f89fd14d9520a09894bce36a07062656a0231b43\n",
            "I need to find this private key: 2754393154\n",
            "\n",
            "Private key found!!!\n",
            "2754393154\n",
            "b55275906987717ef498f564f89fd14d9520a09894bce36a07062656a0231b43\n",
            "string not found\n"
          ]
        }
      ]
    },
    {
      "cell_type": "code",
      "execution_count": null,
      "metadata": {
        "id": "G_RlnPfh9fLm"
      },
      "outputs": [],
      "source": [
        "from sympy import mod_inverse\n",
        "import secp256k1 as ice\n",
        "pub=ice.pub2upub('03e1ea4a810944e6b5b1f598fae9984629c6cbcb9c0471f39c752809b44ed6ce11')\n",
        "N=0xFFFFFFFFFFFFFFFFFFFFFFFFFFFFFFFEBAAEDCE6AF48A03BBFD25E8CD0364141\n",
        "\n",
        "k=mod_inverse(2,N)\n",
        "neg1=ice.point_negation(ice.scalar_multiplication(1))\n",
        "\n",
        "\n",
        "def ters(Qx,Scalar):\n",
        "     ScalarBin = str(bin(Scalar))[2:]\n",
        "     le=len(ScalarBin)\n",
        "     for i in range (1,le+1):\n",
        "        if ScalarBin[le-i] == \"0\":\n",
        "            Qx=ice.point_multiplication(k,Qx)\n",
        "        else:\n",
        "            Qx=ice.point_addition(Qx,neg1)\n",
        "            Qx=ice.point_multiplication(k,Qx)\n",
        "     return ice.point_to_cpub(Qx)\n",
        "\n",
        "\n",
        "for x in range(1,65536):\n",
        "         print(ters(pub,x))\n"
      ]
    },
    {
      "cell_type": "code",
      "execution_count": 11,
      "metadata": {
        "colab": {
          "base_uri": "https://localhost:8080/"
        },
        "id": "BF7pOHmQHDuu",
        "outputId": "2513cdbd-1641-46e3-fade-278037bc9981"
      },
      "outputs": [
        {
          "output_type": "stream",
          "name": "stdout",
          "text": [
            "Private key found: 00000000000000000000000000000000000000000000000000000000000d2c55\n"
          ]
        }
      ],
      "source": [
        "import ecdsa\n",
        "import hashlib\n",
        "import base58\n",
        "from Crypto.Hash import RIPEMD\n",
        "import concurrent.futures\n",
        "\n",
        "def has_equal_bits(n):\n",
        "    \"\"\"Checks if an integer has an equal number of 0 and 1 bits in its binary representation.\"\"\"\n",
        "    binary = bin(n)[2:]\n",
        "    return binary.count('0') == binary.count('1')\n",
        "\n",
        "def generate_bitcoin_address(public_key):\n",
        "  \"\"\"Generates a Bitcoin address from a public key.\"\"\"\n",
        "  sha256_hash = hashlib.sha256(public_key).digest()\n",
        "  ripemd160_hash = RIPEMD.new(sha256_hash).digest()\n",
        "  extended_ripemd160_hash = b'\\x00' + ripemd160_hash\n",
        "  sha256_hash_2 = hashlib.sha256(extended_ripemd160_hash).digest()\n",
        "  sha256_hash_3 = hashlib.sha256(sha256_hash_2).digest()\n",
        "  checksum = sha256_hash_3[:4]\n",
        "  address_bytes = extended_ripemd160_hash + checksum\n",
        "  address = base58.b58encode(address_bytes).decode('utf-8')\n",
        "  return address\n",
        "\n",
        "def find_private_key_in_range(start, end, target_address):\n",
        "    for i in range(start, end):\n",
        "        if has_equal_bits(i):\n",
        "            private_key = i.to_bytes(32, 'big')\n",
        "            sk = ecdsa.SigningKey.from_string(private_key, curve=ecdsa.SECP256k1)\n",
        "            vk = sk.get_verifying_key()\n",
        "            x = vk.pubkey.point.x()\n",
        "            y = vk.pubkey.point.y()\n",
        "            compressed_public_key = b'\\x02' + x.to_bytes(32, 'big') if y % 2 == 0 else b'\\x03' + x.to_bytes(32, 'big')\n",
        "            address = generate_bitcoin_address(compressed_public_key)\n",
        "            if address == target_address:\n",
        "                return private_key\n",
        "    return None\n",
        "\n",
        "def find_private_key_parallel(start, end, target_address, num_workers=4):\n",
        "    step = (end - start) // num_workers\n",
        "    ranges = [(start + i * step, start + (i + 1) * step) for i in range(num_workers)]\n",
        "\n",
        "    with concurrent.futures.ProcessPoolExecutor(max_workers=num_workers) as executor:\n",
        "        futures = [executor.submit(find_private_key_in_range, r[0], r[1], target_address) for r in ranges]\n",
        "        for future in concurrent.futures.as_completed(futures):\n",
        "            result = future.result()\n",
        "            if result:\n",
        "                return result\n",
        "    return None\n",
        "\n",
        "# Define range and target address\n",
        "start = 2**19\n",
        "end = 2**20\n",
        "target_address = \"1HsMJxNiV7TLxmoF6uJNkydxPFDog4NQum\"\n",
        "\n",
        "# Attempt to find the private key in parallel\n",
        "private_key = find_private_key_parallel(start, end, target_address)\n",
        "\n",
        "if private_key:\n",
        "    print(f\"Private key found: {private_key.hex()}\")\n",
        "else:\n",
        "    print(\"Private key not found in the specified range.\")"
      ]
    },
    {
      "cell_type": "code",
      "execution_count": null,
      "metadata": {
        "colab": {
          "base_uri": "https://localhost:8080/"
        },
        "id": "no_L_wfCVoln",
        "outputId": "29383912-5878-42d0-ef47-407c81bd750f"
      },
      "outputs": [
        {
          "name": "stdout",
          "output_type": "stream",
          "text": [
            "Number of numbers with unequal bits: 431910\n",
            "Number of numbers with equal bits: 92378\n",
            "Number of numbers differing by 1 bit: 0\n",
            "Number of numbers differing by 2 bits: 167960\n",
            "Number of numbers differing by 3 bits: 0\n",
            "Number of numbers differing by 4 bits: 125970\n",
            "Number of numbers differing by 5 bits: 0\n",
            "Maximum deviation from 50/50: 20\n"
          ]
        }
      ],
      "source": [
        "import multiprocessing\n",
        "from itertools import islice\n",
        "\n",
        "def count_bits_in_chunk(start, end):\n",
        "    unequal_count = 0\n",
        "    equal_count = 0\n",
        "    diff_1_count = 0\n",
        "    diff_2_count = 0\n",
        "    diff_3_count = 0\n",
        "    diff_4_count = 0\n",
        "    diff_5_count = 0\n",
        "    max_deviation = 0\n",
        "\n",
        "    for i in range(start, end):\n",
        "        ones = 0\n",
        "        zeros = 0\n",
        "        n = i\n",
        "        while n:\n",
        "            if n & 1:\n",
        "                ones += 1\n",
        "            else:\n",
        "                zeros += 1\n",
        "            n >>= 1\n",
        "\n",
        "        if ones != zeros:\n",
        "            unequal_count += 1\n",
        "            deviation = abs(ones - zeros)\n",
        "            max_deviation = max(max_deviation, deviation)\n",
        "\n",
        "            if deviation == 1:\n",
        "                diff_1_count += 1\n",
        "            elif deviation == 2:\n",
        "                diff_2_count += 1\n",
        "            elif deviation == 3:\n",
        "                diff_3_count += 1\n",
        "            elif deviation == 4:\n",
        "                diff_4_count += 1\n",
        "            elif deviation == 5:\n",
        "                diff_5_count += 1\n",
        "        else:\n",
        "            equal_count += 1\n",
        "\n",
        "    return unequal_count, equal_count, diff_1_count, diff_2_count, diff_3_count, diff_4_count, diff_5_count, max_deviation\n",
        "\n",
        "def combine_results(results):\n",
        "    combined = [sum(x) for x in zip(*results)]\n",
        "    combined[-1] = max(x[-1] for x in results)  # max_deviation\n",
        "    return combined\n",
        "\n",
        "def count_bits_parallel(start, end, num_processes=None):\n",
        "    if num_processes is None:\n",
        "        num_processes = multiprocessing.cpu_count()\n",
        "\n",
        "    chunk_size = (end - start) // num_processes\n",
        "    ranges = [(start + i * chunk_size, start + (i + 1) * chunk_size) for i in range(num_processes)]\n",
        "    ranges[-1] = (ranges[-1][0], end)  # Adjust last chunk to include the end\n",
        "\n",
        "    with multiprocessing.Pool(num_processes) as pool:\n",
        "        results = pool.starmap(count_bits_in_chunk, ranges)\n",
        "\n",
        "    return combine_results(results)\n",
        "\n",
        "# Define range of numbers to check\n",
        "start = 2**19\n",
        "end = 2**20  # Extended the range for large bit search\n",
        "\n",
        "# Run the function and print results\n",
        "unequal_count, equal_count, diff_1_count, diff_2_count, diff_3_count, diff_4_count, diff_5_count, max_deviation = count_bits_parallel(start, end)\n",
        "print(f\"Number of numbers with unequal bits: {unequal_count}\")\n",
        "print(f\"Number of numbers with equal bits: {equal_count}\")\n",
        "print(f\"Number of numbers differing by 1 bit: {diff_1_count}\")\n",
        "print(f\"Number of numbers differing by 2 bits: {diff_2_count}\")\n",
        "print(f\"Number of numbers differing by 3 bits: {diff_3_count}\")\n",
        "print(f\"Number of numbers differing by 4 bits: {diff_4_count}\")\n",
        "print(f\"Number of numbers differing by 5 bits: {diff_5_count}\")\n",
        "print(f\"Maximum deviation from 50/50: {max_deviation}\")\n"
      ]
    },
    {
      "cell_type": "code",
      "execution_count": null,
      "metadata": {
        "id": "8qN3geJ5WN2u"
      },
      "outputs": [],
      "source": [
        "!g++ -std=c++11 -O2 -o bit_count bit_count.cpp -pthread\n"
      ]
    },
    {
      "cell_type": "code",
      "execution_count": null,
      "metadata": {
        "id": "iUPOYDIuW6fS"
      },
      "outputs": [],
      "source": [
        "!./bit_count\n"
      ]
    },
    {
      "cell_type": "code",
      "execution_count": null,
      "metadata": {
        "colab": {
          "base_uri": "https://localhost:8080/"
        },
        "id": "GEhvgCJ2HSCb",
        "outputId": "34da3006-c916-49c0-ae1e-8496a40b7664"
      },
      "outputs": [
        {
          "name": "stdout",
          "output_type": "stream",
          "text": [
            "Collecting ecdsa\n",
            "  Downloading ecdsa-0.19.0-py2.py3-none-any.whl.metadata (29 kB)\n",
            "Requirement already satisfied: six>=1.9.0 in /usr/local/lib/python3.10/dist-packages (from ecdsa) (1.16.0)\n",
            "Downloading ecdsa-0.19.0-py2.py3-none-any.whl (149 kB)\n",
            "\u001b[2K   \u001b[90m━━━━━━━━━━━━━━━━━━━━━━━━━━━━━━━━━━━━━━━━\u001b[0m \u001b[32m149.3/149.3 kB\u001b[0m \u001b[31m2.0 MB/s\u001b[0m eta \u001b[36m0:00:00\u001b[0m\n",
            "\u001b[?25hInstalling collected packages: ecdsa\n",
            "Successfully installed ecdsa-0.19.0\n"
          ]
        }
      ],
      "source": [
        "!pip install ecdsa"
      ]
    },
    {
      "cell_type": "code",
      "execution_count": null,
      "metadata": {
        "colab": {
          "base_uri": "https://localhost:8080/"
        },
        "id": "OpyBRbfoHdtC",
        "outputId": "df3211bf-8d8f-4d3c-ae16-a9f27ce447e9"
      },
      "outputs": [
        {
          "name": "stdout",
          "output_type": "stream",
          "text": [
            "Point (89565891926547004231252920425935692360644145829622209833684329913297188986597, 12158399299693830322967808612713398636155367887041628176798871954788371653930) is not a tangent point.\n",
            "Point (103388573995635080359749164254216598308788835304023601477803095234286494993683, 37057141145242123013015316630864329550140216928701153669873286428255828810018) is not a tangent point.\n",
            "Point (21262057306151627953595685090280431278183829487175876377991189246716355947009, 41749993296225487051377864631615517161996906063147759678534462689479575333124) is not a tangent point.\n",
            "Point (104059883622109321374094289636044428849728529177856482232626205340719788190730, 112122903140080327253741791678230372394936108416576609264408917599318947489825) is not a tangent point.\n",
            "Point (95440839670107969455973995843666399663662641812074432045896568980475242364517, 67400892360194400039319989411395972789004161889863182881857158544061243615929) is not a tangent point.\n",
            "Point (86454928033100054822938644242727206101601557724291916072342392316125160730507, 41929975541376036990359335647717381527212342035893043668288666074313354583455) is not a tangent point.\n",
            "Point (23971227478092690611538379282579297124953800109492367109857348294863777014350, 42342609885299334444880650568116455571250837701978463648617679521175848103706) is not a tangent point.\n",
            "Point (59030624050581421406270513075794029219285200067000787157698366092408912155912, 8128656248049033031875480515138402531865803579197128279783442554673902546095) is not a tangent point.\n",
            "Point (31809325515952716603993860438135646801954922215901515683284707473623428145741, 24377531977987817432088011602449325046972761657480460991275213238540072159220) is not a tangent point.\n",
            "Point (16339661702852967382840638396154683021742565846854739320600712521008743256863, 36728284022334234592863792440353097018527397507662959793213172092233334129261) is not a tangent point.\n"
          ]
        }
      ],
      "source": [
        "from ecdsa import ellipticcurve, curves\n",
        "\n",
        "# Define the secp256k1 curve\n",
        "curve = curves.SECP256k1\n",
        "\n",
        "# Your 10 points\n",
        "points = [\n",
        "    (89565891926547004231252920425935692360644145829622209833684329913297188986597, 12158399299693830322967808612713398636155367887041628176798871954788371653930),\n",
        "    (103388573995635080359749164254216598308788835304023601477803095234286494993683, 37057141145242123013015316630864329550140216928701153669873286428255828810018),\n",
        "    (21262057306151627953595685090280431278183829487175876377991189246716355947009, 41749993296225487051377864631615517161996906063147759678534462689479575333124),\n",
        "    (104059883622109321374094289636044428849728529177856482232626205340719788190730, 112122903140080327253741791678230372394936108416576609264408917599318947489825),\n",
        "    (95440839670107969455973995843666399663662641812074432045896568980475242364517, 67400892360194400039319989411395972789004161889863182881857158544061243615929),\n",
        "    (86454928033100054822938644242727206101601557724291916072342392316125160730507, 41929975541376036990359335647717381527212342035893043668288666074313354583455),\n",
        "    (23971227478092690611538379282579297124953800109492367109857348294863777014350, 42342609885299334444880650568116455571250837701978463648617679521175848103706),\n",
        "    (59030624050581421406270513075794029219285200067000787157698366092408912155912, 8128656248049033031875480515138402531865803579197128279783442554673902546095),\n",
        "    (31809325515952716603993860438135646801954922215901515683284707473623428145741, 24377531977987817432088011602449325046972761657480460991275213238540072159220),\n",
        "    (16339661702852967382840638396154683021742565846854739320600712521008743256863, 36728284022334234592863792440353097018527397507662959793213172092233334129261),\n",
        "]\n",
        "\n",
        "def is_tangent(point):\n",
        "    \"\"\"Checks if a point is a tangent point on secp256k1.\"\"\"\n",
        "    x, y = point\n",
        "    P = ellipticcurve.Point(curve.curve, x, y)\n",
        "\n",
        "    # Handle division by zero in slope calculation\n",
        "    if y == 0:\n",
        "        return False  # Not a tangent if y is zero\n",
        "\n",
        "    # Calculate the tangent line slope\n",
        "    m = (3 * P.x()**2 + curve.curve.a()) / (2 * P.y())\n",
        "\n",
        "    # Check if the tangent line intersects the curve at only one point\n",
        "    try:\n",
        "        tangent_point = P + P\n",
        "        if tangent_point == P:\n",
        "            return True  # Tangent point\n",
        "        else:\n",
        "            return False  # Not a tangent point\n",
        "    except Exception as e:\n",
        "        # Handle potential exceptions (e.g., division by zero)\n",
        "        print(f\"Error: {e}\")\n",
        "        return False\n",
        "\n",
        "# Iterate through the points and check for tangency\n",
        "for point in points:\n",
        "    if is_tangent(point):\n",
        "        print(f\"Point {point} is a tangent point.\")\n",
        "    else:\n",
        "        print(f\"Point {point} is not a tangent point.\")\n"
      ]
    },
    {
      "cell_type": "code",
      "execution_count": null,
      "metadata": {
        "colab": {
          "base_uri": "https://localhost:8080/"
        },
        "id": "4GGimh1GNcmQ",
        "outputId": "b1a24469-dd69-4e95-c509-cc0494592d84"
      },
      "outputs": [
        {
          "name": "stdout",
          "output_type": "stream",
          "text": [
            "Point (89565891926547004231252920425935692360644145829622209833684329913297188986597, 12158399299693830322967808612713398636155367887041628176798871954788371653930) is not a tangent point.\n",
            "Point (103388573995635080359749164254216598308788835304023601477803095234286494993683, 37057141145242123013015316630864329550140216928701153669873286428255828810018) is not a tangent point.\n",
            "Point (21262057306151627953595685090280431278183829487175876377991189246716355947009, 41749993296225487051377864631615517161996906063147759678534462689479575333124) is not a tangent point.\n",
            "Point (104059883622109321374094289636044428849728529177856482232626205340719788190730, 112122903140080327253741791678230372394936108416576609264408917599318947489825) is not a tangent point.\n",
            "Point (95440839670107969455973995843666399663662641812074432045896568980475242364517, 67400892360194400039319989411395972789004161889863182881857158544061243615929) is not a tangent point.\n",
            "Point (86454928033100054822938644242727206101601557724291916072342392316125160730507, 41929975541376036990359335647717381527212342035893043668288666074313354583455) is not a tangent point.\n",
            "Point (23971227478092690611538379282579297124953800109492367109857348294863777014350, 42342609885299334444880650568116455571250837701978463648617679521175848103706) is not a tangent point.\n",
            "Point (59030624050581421406270513075794029219285200067000787157698366092408912155912, 8128656248049033031875480515138402531865803579197128279783442554673902546095) is not a tangent point.\n",
            "Point (31809325515952716603993860438135646801954922215901515683284707473623428145741, 24377531977987817432088011602449325046972761657480460991275213238540072159220) is not a tangent point.\n",
            "Point (16339661702852967382840638396154683021742565846854739320600712521008743256863, 36728284022334234592863792440353097018527397507662959793213172092233334129261) is not a tangent point.\n",
            "Point (102184347352432016820033851144057611798380677393006808006149235955473719938577, 59133195063798511001762835616747095376330916791910217089881680396376786483431) is not a tangent point.\n",
            "Point (55066263022277343669578718895168534326250603453777594175500187360389116729240, 32670510020758816978083085130507043184471273380659243275938904335757337482424) is not a tangent point.\n"
          ]
        }
      ],
      "source": [
        "from ecdsa import ellipticcurve, curves\n",
        "\n",
        "# Define the secp256k1 curve\n",
        "curve = curves.SECP256k1\n",
        "\n",
        "# Points to check\n",
        "points = [\n",
        "    (89565891926547004231252920425935692360644145829622209833684329913297188986597, 12158399299693830322967808612713398636155367887041628176798871954788371653930),\n",
        "    (103388573995635080359749164254216598308788835304023601477803095234286494993683, 37057141145242123013015316630864329550140216928701153669873286428255828810018),\n",
        "    (21262057306151627953595685090280431278183829487175876377991189246716355947009, 41749993296225487051377864631615517161996906063147759678534462689479575333124),\n",
        "    (104059883622109321374094289636044428849728529177856482232626205340719788190730, 112122903140080327253741791678230372394936108416576609264408917599318947489825),\n",
        "    (95440839670107969455973995843666399663662641812074432045896568980475242364517, 67400892360194400039319989411395972789004161889863182881857158544061243615929),\n",
        "    (86454928033100054822938644242727206101601557724291916072342392316125160730507, 41929975541376036990359335647717381527212342035893043668288666074313354583455),\n",
        "    (23971227478092690611538379282579297124953800109492367109857348294863777014350, 42342609885299334444880650568116455571250837701978463648617679521175848103706),\n",
        "    (59030624050581421406270513075794029219285200067000787157698366092408912155912, 8128656248049033031875480515138402531865803579197128279783442554673902546095),\n",
        "    (31809325515952716603993860438135646801954922215901515683284707473623428145741, 24377531977987817432088011602449325046972761657480460991275213238540072159220),\n",
        "    (16339661702852967382840638396154683021742565846854739320600712521008743256863, 36728284022334234592863792440353097018527397507662959793213172092233334129261),\n",
        "    (102184347352432016820033851144057611798380677393006808006149235955473719938577, 59133195063798511001762835616747095376330916791910217089881680396376786483431),\n",
        "    (55066263022277343669578718895168534326250603453777594175500187360389116729240, 32670510020758816978083085130507043184471273380659243275938904335757337482424),\n",
        "]\n",
        "\n",
        "def is_tangent(point):\n",
        "    \"\"\"Checks if a point is a tangent point on secp256k1.\"\"\"\n",
        "    x, y = point\n",
        "    P = ellipticcurve.Point(curve.curve, x, y)\n",
        "\n",
        "    # Handle division by zero in slope calculation\n",
        "    if y == 0:\n",
        "        return False  # Not a tangent if y is zero\n",
        "\n",
        "    # Calculate the tangent line slope\n",
        "    m = (3 * P.x()**2 + curve.curve.a()) / (2 * P.y())\n",
        "\n",
        "    # Check if the tangent line intersects the curve at only one point\n",
        "    try:\n",
        "        tangent_point = P + P\n",
        "        if tangent_point == P:\n",
        "            return True  # Tangent point\n",
        "        else:\n",
        "            return False  # Not a tangent point\n",
        "    except Exception as e:\n",
        "        # Handle potential exceptions (e.g., division by zero)\n",
        "        print(f\"Error: {e}\")\n",
        "        return False\n",
        "\n",
        "# Iterate through the points and check for tangency\n",
        "for point in points:\n",
        "    if is_tangent(point):\n",
        "        print(f\"Point {point} is a tangent point.\")\n",
        "    else:\n",
        "        print(f\"Point {point} is not a tangent point.\")\n"
      ]
    },
    {
      "cell_type": "code",
      "execution_count": null,
      "metadata": {
        "colab": {
          "base_uri": "https://localhost:8080/"
        },
        "id": "zAjcizcCPFDt",
        "outputId": "ac0f3de4-065b-4adb-bbb3-fea8f09e6e99"
      },
      "outputs": [
        {
          "data": {
            "text/plain": [
              "['',\n",
              " 'Reading package lists... 0%',\n",
              " '',\n",
              " 'Reading package lists... 0%',\n",
              " '',\n",
              " 'Reading package lists... 0%',\n",
              " '',\n",
              " 'Reading package lists... 3%',\n",
              " '',\n",
              " 'Reading package lists... 3%',\n",
              " '',\n",
              " 'Reading package lists... 4%',\n",
              " '',\n",
              " 'Reading package lists... 4%',\n",
              " '',\n",
              " 'Reading package lists... 38%',\n",
              " '',\n",
              " 'Reading package lists... 41%',\n",
              " '',\n",
              " 'Reading package lists... 41%',\n",
              " '',\n",
              " 'Reading package lists... 41%',\n",
              " '',\n",
              " 'Reading package lists... 41%',\n",
              " '',\n",
              " 'Reading package lists... 48%',\n",
              " '',\n",
              " 'Reading package lists... 48%',\n",
              " '',\n",
              " 'Reading package lists... 56%',\n",
              " '',\n",
              " 'Reading package lists... 56%',\n",
              " '',\n",
              " 'Reading package lists... 60%',\n",
              " '',\n",
              " 'Reading package lists... 60%',\n",
              " '',\n",
              " 'Reading package lists... 60%',\n",
              " '',\n",
              " 'Reading package lists... 60%',\n",
              " '',\n",
              " 'Reading package lists... 60%',\n",
              " '',\n",
              " 'Reading package lists... 60%',\n",
              " '',\n",
              " 'Reading package lists... 60%',\n",
              " '',\n",
              " 'Reading package lists... 60%',\n",
              " '',\n",
              " 'Reading package lists... 66%',\n",
              " '',\n",
              " 'Reading package lists... 66%',\n",
              " '',\n",
              " 'Reading package lists... 74%',\n",
              " '',\n",
              " 'Reading package lists... 74%',\n",
              " '',\n",
              " 'Reading package lists... 77%',\n",
              " '',\n",
              " 'Reading package lists... 77%',\n",
              " '',\n",
              " 'Reading package lists... 77%',\n",
              " '',\n",
              " 'Reading package lists... 77%',\n",
              " '',\n",
              " 'Reading package lists... 77%',\n",
              " '',\n",
              " 'Reading package lists... 77%',\n",
              " '',\n",
              " 'Reading package lists... 81%',\n",
              " '',\n",
              " 'Reading package lists... 81%',\n",
              " '',\n",
              " 'Reading package lists... 85%',\n",
              " '',\n",
              " 'Reading package lists... 95%',\n",
              " '',\n",
              " 'Reading package lists... 95%',\n",
              " '',\n",
              " 'Reading package lists... 98%',\n",
              " '',\n",
              " 'Reading package lists... 98%',\n",
              " '',\n",
              " 'Reading package lists... 98%',\n",
              " '',\n",
              " 'Reading package lists... 98%',\n",
              " '',\n",
              " 'Reading package lists... 98%',\n",
              " '',\n",
              " 'Reading package lists... 98%',\n",
              " '',\n",
              " 'Reading package lists... 98%',\n",
              " '',\n",
              " 'Reading package lists... 98%',\n",
              " '',\n",
              " 'Reading package lists... Done',\n",
              " '',\n",
              " 'Building dependency tree... 0%',\n",
              " '',\n",
              " 'Building dependency tree... 0%',\n",
              " '',\n",
              " 'Building dependency tree... 50%',\n",
              " '',\n",
              " 'Building dependency tree... 50%',\n",
              " '',\n",
              " 'Building dependency tree... 96%',\n",
              " '',\n",
              " 'Building dependency tree... Done',\n",
              " '',\n",
              " 'Reading state information... 0% ',\n",
              " '',\n",
              " 'Reading state information... 0%',\n",
              " '',\n",
              " 'Reading state information... Done',\n",
              " 'sagemath is already the newest version (9.5-4).',\n",
              " '0 upgraded, 0 newly installed, 0 to remove and 49 not upgraded.']"
            ]
          },
          "execution_count": 5,
          "metadata": {},
          "output_type": "execute_result"
        }
      ],
      "source": [
        "!!sudo apt-get install  sagemath\n"
      ]
    },
    {
      "cell_type": "code",
      "execution_count": null,
      "metadata": {
        "colab": {
          "base_uri": "https://localhost:8080/"
        },
        "id": "GAL8fLVHQoBf",
        "outputId": "6f765514-b0c6-4c93-f2db-09a0d4e82639"
      },
      "outputs": [
        {
          "name": "stdout",
          "output_type": "stream",
          "text": [
            "Elliptic curve secp256k1: Elliptic Curve defined by y^2 = x^3 + 7 over Finite Field of size 115792089237316195423570985008687907853269984665640564039457584007908834671663\n",
            "Roots of the polynomial x^3 + 7 ≡ 0 mod p (potential x-coordinates for points with y=0):\n",
            "[]\n",
            "No points with y = 0 exist on the secp256k1 curve over GF(p).\n"
          ]
        }
      ],
      "source": [
        "import sage.all as sage\n",
        "\n",
        "# Define the prime field for secp256k1\n",
        "p = 0xFFFFFFFFFFFFFFFFFFFFFFFFFFFFFFFFFFFFFFFFFFFFFFFFFFFFFFFEFFFFFC2F\n",
        "\n",
        "# Define the finite field GF(p)\n",
        "F = sage.FiniteField(p)\n",
        "\n",
        "# Define the secp256k1 curve: y^2 = x^3 + 7 over GF(p)\n",
        "E = sage.EllipticCurve(F, [0, 7])\n",
        "\n",
        "# Display the curve to verify\n",
        "print(\"Elliptic curve secp256k1:\", E)\n",
        "\n",
        "# Define the polynomial x^3 + 7 over GF(p)\n",
        "x = sage.PolynomialRing(F, 'x').gen()\n",
        "poly = x**3 + 7\n",
        "\n",
        "# Find all roots of the polynomial in GF(p)\n",
        "roots = poly.roots(multiplicities=False)\n",
        "\n",
        "# Display the roots\n",
        "print(\"Roots of the polynomial x^3 + 7 ≡ 0 mod p (potential x-coordinates for points with y=0):\")\n",
        "print(roots)\n",
        "\n",
        "# Check if any roots were found\n",
        "if not roots:\n",
        "    print(\"No points with y = 0 exist on the secp256k1 curve over GF(p).\")\n",
        "else:\n",
        "    print(\"Points with y = 0 on secp256k1 curve:\")\n",
        "    for x_val in roots:\n",
        "        print(f\"({x_val}, 0)\")"
      ]
    },
    {
      "cell_type": "code",
      "execution_count": null,
      "metadata": {
        "colab": {
          "base_uri": "https://localhost:8080/"
        },
        "id": "2Tz5vZv5V6_V",
        "outputId": "38eedb31-2260-41db-8b5e-80787ba2d05c"
      },
      "outputs": [
        {
          "name": "stdout",
          "output_type": "stream",
          "text": [
            "Order of the subgroup: 115792089237316195423570985008687907852837564279074904382605163141518161494337\n"
          ]
        }
      ],
      "source": [
        "import sage.all as sage\n",
        "\n",
        "# Define the prime field for secp256k1\n",
        "p = 0xFFFFFFFFFFFFFFFFFFFFFFFFFFFFFFFFFFFFFFFFFFFFFFFFFFFFFFFEFFFFFC2F\n",
        "\n",
        "# Define the finite field GF(p)\n",
        "F = sage.FiniteField(p)\n",
        "\n",
        "# Define the secp256k1 curve: y^2 = x^3 + 7 over GF(p)\n",
        "E = sage.EllipticCurve(F, [0, 7])\n",
        "\n",
        "# Define the order of the subgroup\n",
        "n = 0xFFFFFFFFFFFFFFFFFFFFFFFFFFFFFFFEBAAEDCE6AF48A03BBFD25E8CD0364141\n",
        "\n",
        "# Define the subgroup\n",
        "G = E.abelian_group()\n",
        "\n",
        "# Get the generator of the subgroup\n",
        "g = G.gen(0)\n",
        "\n",
        "# Print the order of the subgroup\n",
        "print(\"Order of the subgroup:\", g.order())"
      ]
    },
    {
      "cell_type": "code",
      "execution_count": null,
      "metadata": {
        "id": "Yw_kr04zWONR"
      },
      "outputs": [],
      "source": [
        "import sage.all as sage\n",
        "\n",
        "# Define the prime field for secp256k1\n",
        "p = 0xFFFFFFFFFFFFFFFFFFFFFFFFFFFFFFFFFFFFFFFFFFFFFFFFFFFFFFFEFFFFFC2F\n",
        "\n",
        "# Define the finite field GF(p)\n",
        "F = sage.FiniteField(p)\n",
        "\n",
        "# Define the secp256k1 curve: y^2 = x^3 + 7 over GF(p)\n",
        "E = sage.EllipticCurve(F, [0, 7])\n",
        "\n",
        "# Define the order of the subgroup\n",
        "n = 0xFFFFFFFFFFFFFFFFFFFFFFFFFFFFFFFEBAAEDCE6AF48A03BBFD25E8CD0364141\n",
        "\n",
        "# Get the generator of the subgroup\n",
        "g = E.gen(0) # Get the generator directly from the curve\n",
        "\n",
        "# Find the tangent points on the curve\n",
        "tangent_points = []\n",
        "for i in range(n):\n",
        "    point = g * i\n",
        "    if point.is_zero(): # Check if the point is the point at infinity\n",
        "        tangent_points.append(point)\n",
        "\n",
        "# Print the tangent points\n",
        "print(\"Tangent points on the curve:\", tangent_points)"
      ]
    },
    {
      "cell_type": "code",
      "execution_count": null,
      "metadata": {
        "colab": {
          "base_uri": "https://localhost:8080/"
        },
        "id": "Vh_5cfZD6NIM",
        "outputId": "eba29634-6b75-4766-c7f8-93d76743beb7"
      },
      "outputs": [
        {
          "name": "stdout",
          "output_type": "stream",
          "text": [
            "None\n"
          ]
        }
      ],
      "source": [
        "import sage.all as sage\n",
        "from sage.all import EllipticCurve, GF # Import EllipticCurve and GF\n",
        "\n",
        "# Define the secp256k1 parameters\n",
        "p = 0xFFFFFFFFFFFFFFFFFFFFFFFFFFFFFFFFFFFFFFFFFFFFFFFFFFFFFFFEFFFFFC2F # Corrected prime number\n",
        "a = 0\n",
        "b = 7\n",
        "\n",
        "# G is defined as an EllipticCurvePoint object\n",
        "G = EllipticCurve(GF(p), [a, b])(0x79be667ef9dcbbac55a06295ce870b07029bfcdb2dce28d959f2815b16f81798,\n",
        "                 0x483ada7726a3c4655da4fbfc0e1108a8fd17b448a68554199c47d08ffb10d4b8)\n",
        "n = 0xfffffffffffffffffffffffffffffffebaaedce6af48a03bbfd25e8cd0364141\n",
        "\n",
        "# Define the points P and Q as EllipticCurvePoint objects\n",
        "P = EllipticCurve(GF(p), [a, b])(16339661702852967382840638396154683021742565846854739320600712521008743256863,\n",
        "                 36728284022334234592863792440353097018527397507662959793213172092233334129261)\n",
        "\n",
        "Q = EllipticCurve(GF(p), [a, b])(63004655751848499058589887215149057167805706207141784701705408548476267919372,\n",
        "                 33776887358425213876727286236887696644549240079971817446727643228044518554934)\n",
        "\n",
        "# Function to perform the BSGS attack\n",
        "def bsgs(P, Q, G, n, t):\n",
        "    # Precomputation\n",
        "    table = {}\n",
        "    for m in range(1, 2^t + 1):\n",
        "        table[m * G] = m  # Multiplication is now defined for EllipticCurvePoint\n",
        "\n",
        "    # Find match\n",
        "    for m in range(1, 2^t + 1):\n",
        "        R_prime = Q - m * G  # Subtraction is now defined for EllipticCurvePoint\n",
        "        if R_prime in table:\n",
        "            # Return the sum of indices found\n",
        "            return m + table[R_prime]\n",
        "\n",
        "    return None\n",
        "\n",
        "# Set the parameter t\n",
        "t = 2048\n",
        "result = bsgs(P, Q, G, n, t)\n",
        "print(result)"
      ]
    },
    {
      "cell_type": "code",
      "execution_count": null,
      "metadata": {
        "id": "ugiUSt219sRH"
      },
      "outputs": [],
      "source": [
        "import sage.all as sage\n",
        "\n",
        "# Define the prime field for secp256k1\n",
        "p = 0xFFFFFFFFFFFFFFFFFFFFFFFFFFFFFFFFFFFFFFFFFFFFFFFFFFFFFFFEFFFFFC2F\n",
        "\n",
        "# Define the finite field GF(p)\n",
        "F = sage.FiniteField(p)\n",
        "\n",
        "# Define the secp256k1 curve: y^2 = x^3 + 7 over GF(p)\n",
        "E = sage.EllipticCurve(F, [0, 7])\n",
        "\n",
        "# Define the points P and Q\n",
        "Px = 16339661702852967382840638396154683021742565846854739320600712521008743256863\n",
        "Py = 36728284022334234592863792440353097018527397507662959793213172092233334129261\n",
        "P = E(Px, Py)\n",
        "\n",
        "Qx = 63004655751848499058589887215149057167805706207141784701705408548476267919372\n",
        "Qy = 33776887358425213876727286236887696644549240079971817446727643228044518554934\n",
        "Q = E(Qx, Qy)\n",
        "\n",
        "# Choose the parameter t\n",
        "t = 20\n",
        "\n",
        "# Precompute the table of values\n",
        "table = {}\n",
        "for m in range(2**t):\n",
        "    table[m*E.gens()[0]] = m\n",
        "\n",
        "# Calculate R = P + Q\n",
        "R = P + Q\n",
        "\n",
        "# Find a match in the table\n",
        "for m in range(2**t):\n",
        "    R_prime = R - m*E.gens()[0]\n",
        "    if R_prime in table:\n",
        "        n = table[R_prime]\n",
        "        break\n",
        "\n",
        "# Solve for k\n",
        "k = m + n\n",
        "print(\"Recovered private key k:\", k)"
      ]
    },
    {
      "cell_type": "code",
      "execution_count": null,
      "metadata": {
        "colab": {
          "base_uri": "https://localhost:8080/"
        },
        "id": "xKOU4jRv_V8g",
        "outputId": "fc042541-809f-4b34-80d1-bf17b3990856"
      },
      "outputs": [
        {
          "name": "stdout",
          "output_type": "stream",
          "text": [
            "Tangent slope λ_P: 61301323990699329266042017764052613939818165536762363998680553784412397691649\n",
            "Secant slope λ_QP: 74251555817464640277801685005385861617742941841022323908591482994720359786909\n",
            "Recovered private key k₁: 53537231712578432712823405411101860250049293220899126008948497458324234869151\n",
            "Recovered private key k: 7565946342682645743208181718677733004923230108129102802756822574162365590547\n"
          ]
        }
      ],
      "source": [
        "import sage.all as sage\n",
        "\n",
        "# Define the prime field for secp256k1\n",
        "p = 0xFFFFFFFFFFFFFFFFFFFFFFFFFFFFFFFFFFFFFFFFFFFFFFFFFFFFFFFEFFFFFC2F\n",
        "\n",
        "# Define the finite field GF(p)\n",
        "F = sage.FiniteField(p)\n",
        "\n",
        "# Define the secp256k1 curve: y^2 = x^3 + 7 over GF(p)\n",
        "E = sage.EllipticCurve(F, [0, 7])\n",
        "\n",
        "# Define the generator point G\n",
        "Gx = 55066263022277343669578718895168534326250603453777594175500187360389116729240\n",
        "Gy = 32670510020758816978083085130507043184471273380659243275938904335757337482424\n",
        "G = E(Gx, Gy)\n",
        "\n",
        "# Define the points P and Q\n",
        "Px = 16339661702852967382840638396154683021742565846854739320600712521008743256863\n",
        "Py = 36728284022334234592863792440353097018527397507662959793213172092233334129261\n",
        "P = E(Px, Py)\n",
        "\n",
        "Qx = 63004655751848499058589887215149057167805706207141784701705408548476267919372\n",
        "Qy = 33776887358425213876727286236887696644549240079971817446727643228044518554934\n",
        "Q = E(Qx, Qy)\n",
        "\n",
        "# Compute the tangent slope λ_P at point P\n",
        "# Ensure all calculations and intermediate values are within the finite field F\n",
        "lambda_P = F((3*Px^2)) / F((2*Py))  # Perform calculations in F\n",
        "\n",
        "# Compute the secant slope λ_QP through points P and Q\n",
        "lambda_QP = F(Qy - Py) / F(Qx - Px) # Perform calculations in F\n",
        "\n",
        "print(\"Tangent slope λ_P:\", lambda_P)\n",
        "print(\"Secant slope λ_QP:\", lambda_QP)\n",
        "\n",
        "# Recover k1 and k. Calculations now happen within the finite field.\n",
        "k1 = (lambda_QP - lambda_P) / (F(Px) - F(Gx))\n",
        "k = (lambda_QP - lambda_P) / (F(Qx) - F(Gx))\n",
        "\n",
        "# Convert k1 and k to integers using the lift() method\n",
        "k1 = k1.lift() # Use lift() to convert to a regular integer\n",
        "k = k.lift()   # Use lift() to convert to a regular integer\n",
        "\n",
        "print(\"Recovered private key k₁:\", k1)\n",
        "print(\"Recovered private key k:\", k)"
      ]
    },
    {
      "cell_type": "code",
      "execution_count": null,
      "metadata": {
        "colab": {
          "base_uri": "https://localhost:8080/"
        },
        "id": "Rw5M1kBWFPY6",
        "outputId": "4eb75e48-56bd-42fa-965e-fdb9a34709a6"
      },
      "outputs": [
        {
          "name": "stdout",
          "output_type": "stream",
          "text": [
            "Found k: 1024\n"
          ]
        }
      ],
      "source": [
        "# Define the SECP256K1 curve\n",
        "p = 115792089237316195423570985008687907853269984665640564039457584007908834671663\n",
        "E = EllipticCurve(GF(p), [0, 0, 0, 0, 7])\n",
        "\n",
        "# Define the generator point G = (x, y)\n",
        "Gx = 55066263022277343669578718895168534326250603453777594175500187360389116729240\n",
        "Gy = 32670510020758816978083085130507043184471273380659243275938904335757337482424\n",
        "G = E(Gx, Gy)\n",
        "\n",
        "# Define the test point P = (x, y)\n",
        "Px = 16339661702852967382840638396154683021742565846854739320600712521008743256863\n",
        "Py = 36728284022334234592863792440353097018527397507662959793213172092233334129261\n",
        "P = E(Px, Py)\n",
        "\n",
        "# Compute the order of the curve\n",
        "n = 115792089210356248762697446949407573530086143415290314195533631308867097853951\n",
        "\n",
        "# Try a brute-force attack\n",
        "for k in range(n):\n",
        "    Q = k * G\n",
        "    if Q == P:\n",
        "        print(\"Found k:\", k)\n",
        "        break"
      ]
    },
    {
      "cell_type": "code",
      "execution_count": null,
      "metadata": {
        "colab": {
          "base_uri": "https://localhost:8080/"
        },
        "id": "nsXv2zsITTGk",
        "outputId": "75854c91-4e51-440e-e9e0-b7c7c06e196a"
      },
      "outputs": [
        {
          "name": "stdout",
          "output_type": "stream",
          "text": [
            "The scalar k' such that P = k' * G is: 1024\n"
          ]
        }
      ],
      "source": [
        "from sage.all import EllipticCurve, GF\n",
        "\n",
        "# Define the SECP256K1 curve\n",
        "p = 115792089237316195423570985008687907853269984665640564039457584007908834671663\n",
        "E = EllipticCurve(GF(p), [0, 7])\n",
        "\n",
        "# Define the generator point G = (x, y)\n",
        "Gx = 55066263022277343669578718895168534326250603453777594175500187360389116729240\n",
        "Gy = 32670510020758816978083085130507043184471273380659243275938904335757337482424\n",
        "G = E(Gx, Gy)\n",
        "\n",
        "# Define the point P\n",
        "Px = 16339661702852967382840638396154683021742565846854739320600712521008743256863\n",
        "Py = 36728284022334234592863792440353097018527397507662959793213172092233334129261\n",
        "P = E(Px, Py)\n",
        "\n",
        "# Define the point Q (P = k' * G and Q = 1024 * P)\n",
        "Qx = 63004655751848499058589887215149057167805706207141784701705408548476267919372\n",
        "Qy = 33776887358425213876727286236887696644549240079971817446727643228044518554934\n",
        "Q = E(Qx, Qy)\n",
        "\n",
        "# Compute k' such that P = k' * G\n",
        "def find_scalar_G_to_P(P, G, Q, scalar):\n",
        "    \"\"\"\n",
        "    Find k' such that P = k' * G, given that Q = scalar * P.\n",
        "\n",
        "    Args:\n",
        "        P: The target elliptic curve point.\n",
        "        G: Generator point of the elliptic curve.\n",
        "        Q: The point obtained by multiplying P with scalar.\n",
        "        scalar: The scalar value used for Q = scalar * P.\n",
        "\n",
        "    Returns:\n",
        "        The scalar k' such that P = k' * G.\n",
        "    \"\"\"\n",
        "    try:\n",
        "        # Compute the scalar k' such that Q = scalar * P\n",
        "        k_prime = discrete_log(Q, G, operation='+') // scalar\n",
        "        return k_prime\n",
        "    except ValueError as e:\n",
        "        print(\"Failed to solve the discrete log:\", e)\n",
        "        return None\n",
        "\n",
        "# Calculate the scalar k' for G to P\n",
        "scalar = 1024\n",
        "k_prime = find_scalar_G_to_P(P, G, Q, scalar)\n",
        "\n",
        "# Print the result\n",
        "if k_prime is not None:\n",
        "    print(f\"The scalar k' such that P = k' * G is: {k_prime}\")\n",
        "else:\n",
        "    print(\"Failed to find k'.\")\n"
      ]
    },
    {
      "cell_type": "code",
      "execution_count": null,
      "metadata": {
        "colab": {
          "base_uri": "https://localhost:8080/"
        },
        "id": "DdSqMnwFq9KQ",
        "outputId": "1ef5056c-a05b-4a6d-b045-a47006b0bc28"
      },
      "outputs": [
        {
          "name": "stdout",
          "output_type": "stream",
          "text": [
            "Computing discrete log with points P: (102184347352432016820033851144057611798380677393006808006149235955473719938577 : 59133195063798511001762835616747095376330916791910217089881680396376786483431 : 1), G: (55066263022277343669578718895168534326250603453777594175500187360389116729240 : 32670510020758816978083085130507043184471273380659243275938904335757337482424 : 1), Q: (90830050882153464509167337448657263960001043321462090241596750046042988205087 : 14079190045718298233572168364911200660550524081186606246657004668663157479269 : 1), scalar: 1024\n"
          ]
        }
      ],
      "source": [
        "from sage.all import EllipticCurve, GF, discrete_log\n",
        "\n",
        "# Define the SECP256K1 curve\n",
        "p = 115792089237316195423570985008687907853269984665640564039457584007908834671663\n",
        "E = EllipticCurve(GF(p), [0, 7])\n",
        "\n",
        "# Define the generator point G = (x, y)\n",
        "Gx = 55066263022277343669578718895168534326250603453777594175500187360389116729240\n",
        "Gy = 32670510020758816978083085130507043184471273380659243275938904335757337482424\n",
        "G = E(Gx, Gy)\n",
        "\n",
        "# Define the point P\n",
        "Px = 102184347352432016820033851144057611798380677393006808006149235955473719938577\n",
        "Py = 59133195063798511001762835616747095376330916791910217089881680396376786483431\n",
        "P = E(Px, Py)\n",
        "\n",
        "# Define the point Q (P = k' * G and Q = 1024 * P)\n",
        "Qx = 90830050882153464509167337448657263960001043321462090241596750046042988205087\n",
        "Qy = 14079190045718298233572168364911200660550524081186606246657004668663157479269\n",
        "Q = E(Qx, Qy)\n",
        "\n",
        "# Compute k' such that P = k' * G\n",
        "def find_scalar_G_to_P(P, G, Q, scalar):\n",
        "    \"\"\"\n",
        "    Find k' such that P = k' * G, given that Q = scalar * P.\n",
        "\n",
        "    Args:\n",
        "        P: The target elliptic curve point.\n",
        "        G: Generator point of the elliptic curve.\n",
        "        Q: The point obtained by multiplying P with scalar.\n",
        "        scalar: The scalar value used for Q = scalar * P.\n",
        "\n",
        "    Returns:\n",
        "        The scalar k' such that P = k' * G.\n",
        "    \"\"\"\n",
        "    try:\n",
        "        # Debug: Output the input points and scalar\n",
        "        print(f\"Computing discrete log with points P: {P}, G: {G}, Q: {Q}, scalar: {scalar}\")\n",
        "\n",
        "        # Compute the scalar k' such that Q = scalar * P\n",
        "        k_prime = discrete_log(Q, G, operation='+') // scalar\n",
        "\n",
        "        # Debug: Output the result\n",
        "        print(f\"Computed k' = {k_prime}\")\n",
        "\n",
        "        return k_prime\n",
        "    except ValueError as e:\n",
        "        print(\"Failed to solve the discrete log:\", e)\n",
        "        return None\n",
        "\n",
        "# Calculate the scalar k' for G to P\n",
        "scalar = 1024\n",
        "k_prime = find_scalar_G_to_P(P, G, Q, scalar)\n",
        "\n",
        "# Print the result\n",
        "if k_prime is not None:\n",
        "    print(f\"The scalar k' such that P = k' * G is: {k_prime}\")\n",
        "else:\n",
        "    print(\"Failed to find k'.\")\n"
      ]
    },
    {
      "cell_type": "code",
      "execution_count": null,
      "metadata": {
        "colab": {
          "background_save": true,
          "base_uri": "https://localhost:8080/"
        },
        "id": "AabAib9VVNEo",
        "outputId": "580d1946-10d2-4227-c9ad-5c0acfa5d713"
      },
      "outputs": [
        {
          "name": "stdout",
          "output_type": "stream",
          "text": [
            "Searching batch: 0 to 1000000\n",
            "Searching batch: 1000000 to 2000000\n",
            "Searching batch: 2000000 to 3000000\n",
            "Searching batch: 3000000 to 4000000\n",
            "Searching batch: 4000000 to 5000000\n",
            "Searching batch: 5000000 to 6000000\n",
            "Searching batch: 6000000 to 7000000\n",
            "Searching batch: 7000000 to 8000000\n",
            "Searching batch: 8000000 to 9000000\n",
            "Searching batch: 9000000 to 10000000\n",
            "Searching batch: 10000000 to 11000000\n",
            "Searching batch: 11000000 to 12000000\n",
            "Searching batch: 12000000 to 13000000\n"
          ]
        }
      ],
      "source": [
        "import gmpy2\n",
        "import gc\n",
        "from sage.all import EllipticCurve, GF\n",
        "\n",
        "# Define the SECP256K1 curve\n",
        "p = gmpy2.mpz(\"115792089237316195423570985008687907853269984665640564039457584007908834671663\")\n",
        "E = EllipticCurve(GF(p), [0, 7])\n",
        "\n",
        "# Define the generator point G = (x, y)\n",
        "Gx = gmpy2.mpz(\"55066263022277343669578718895168534326250603453777594175500187360389116729240\")\n",
        "Gy = gmpy2.mpz(\"32670510020758816978083085130507043184471273380659243275938904335757337482424\")\n",
        "G = E(Gx, Gy)\n",
        "\n",
        "# Define the point P\n",
        "Px = gmpy2.mpz(\"102184347352432016820033851144057611798380677393006808006149235955473719938577\")\n",
        "Py = gmpy2.mpz(\"59133195063798511001762835616747095376330916791910217089881680396376786483431\")\n",
        "P = E(Px, Py)\n",
        "\n",
        "# Define the point Q (P = k' * G and Q = 1024 * P)\n",
        "Qx = gmpy2.mpz(\"90830050882153464509167337448657263960001043321462090241596750046042988205087\")\n",
        "Qy = gmpy2.mpz(\"14079190045718298233572168364911200660550524081186606246657004668663157479269\")\n",
        "Q = E(Qx, Qy)\n",
        "\n",
        "# Divide-and-Conquer function to find the scalar in batches with garbage collection\n",
        "def find_scalar_in_batches(P, G, Q, scalar, batch_size):\n",
        "    \"\"\"\n",
        "    Find k' such that P = k' * G in batches, given that Q = scalar * P.\n",
        "\n",
        "    Args:\n",
        "        P: The target elliptic curve point.\n",
        "        G: Generator point of the elliptic curve.\n",
        "        Q: The point obtained by multiplying P with scalar.\n",
        "        scalar: The scalar value used for Q = scalar * P.\n",
        "        batch_size: Size of the batch to search in each iteration.\n",
        "\n",
        "    Returns:\n",
        "        The scalar k' such that P = k' * G.\n",
        "    \"\"\"\n",
        "    k_prime = gmpy2.mpz(0)\n",
        "    current_batch_start = gmpy2.mpz(0)\n",
        "\n",
        "    # Iterate in batches until the scalar is found\n",
        "    while True:\n",
        "        current_batch_end = current_batch_start + batch_size\n",
        "\n",
        "        print(f\"Searching batch: {current_batch_start} to {current_batch_end}\")\n",
        "\n",
        "        try:\n",
        "            # Perform garbage collection at the start of each batch\n",
        "            gc.collect()\n",
        "\n",
        "            # Compute the discrete log for the current batch\n",
        "            for k in range(current_batch_start, current_batch_end):\n",
        "                k_G = k * G  # Compute k * G\n",
        "\n",
        "                # Check if we've found the match: P = k * G\n",
        "                if k_G == P:\n",
        "                    k_prime = k\n",
        "                    return k_prime\n",
        "\n",
        "        except ValueError as e:\n",
        "            print(f\"Failed batch {current_batch_start} to {current_batch_end}: {e}\")\n",
        "\n",
        "        # Move to the next batch\n",
        "        current_batch_start = current_batch_end\n",
        "\n",
        "# Parameters\n",
        "batch_size = gmpy2.mpz(1000000)  # Adjusted batch size to avoid memory overload\n",
        "\n",
        "# Enable automatic garbage collection\n",
        "gc.enable()\n",
        "\n",
        "# Search for k' using divide-and-conquer with garbage collection\n",
        "scalar = gmpy2.mpz(1024)\n",
        "k_prime = find_scalar_in_batches(P, G, Q, scalar, batch_size)\n",
        "\n",
        "# Print the result\n",
        "if k_prime is not None:\n",
        "    print(f\"The scalar k' such that P = k' * G is: {k_prime}\")\n",
        "else:\n",
        "    print(\"Failed to find k'.\")\n"
      ]
    },
    {
      "cell_type": "code",
      "source": [
        "import secp256k1 as ice\n",
        "from bitstring import BitArray\n",
        "import bitcoin\n",
        "\n",
        "\n",
        "print(\"Making Binary Data-Base\")\n",
        "\n",
        "\n",
        "target_public_key = \"030d282cf2ff536d2c42f105d0b8588821a915dc3f9a05bd98bb23af67a2e92a5b\"\n",
        "\n",
        "target = ice.pub2upub(target_public_key)\n",
        "\n",
        "\n",
        "num = 10000 # number of keys.\n",
        "\n",
        "sustract= 1 #amount to subtract each time, If you modify this, use the same amount to scan.\n",
        "\n",
        "Low_m= 10\n",
        "\n",
        "lm= num // Low_m\n",
        "print(lm)\n",
        "\n",
        "sustract_pub= ice.scalar_multiplication(sustract)\n",
        "\n",
        "res= ice.point_loop_subtraction(lm, target, sustract_pub)\n",
        "binary = ''\n",
        "for t in range (lm):\n",
        "\n",
        "    h= (res[t*65:t*65+65]).hex()\n",
        "    hc= int(h[2:], 16)\n",
        "\n",
        "\n",
        "    if str(hc).endswith(('0','2','4','6','8')):\n",
        "        A=\"0\"\n",
        "        binary+= ''.join(str(A))\n",
        "\n",
        "    if str(hc).endswith(('1','3','5','7','9')):\n",
        "        A=\"1\"\n",
        "        binary+= ''.join(str(A))\n",
        "\n",
        "\n",
        "my_str = bytes(BitArray(bin=binary))\n",
        "\n",
        "binary_file = open('data-base.bin', 'ab')\n",
        "binary_file.write(my_str)\n",
        "binary_file.close()\n",
        "\n",
        "for i in range (1,Low_m):\n",
        "    lm_upub= sustract_pub= ice.scalar_multiplication((lm*i)*sustract)\n",
        "\n",
        "    A1= ice.point_subtraction(target, lm_upub)\n",
        "\n",
        "    sustract_pub= ice.scalar_multiplication(sustract)\n",
        "\n",
        "    res= ice.point_loop_subtraction(lm, A1, sustract_pub)\n",
        "\n",
        "    binary = ''\n",
        "    for t in range (lm):\n",
        "\n",
        "        h= (res[t*65:t*65+65]).hex()\n",
        "        hc= int(h[2:], 16)\n",
        "\n",
        "\n",
        "        if str(hc).endswith(('0','2','4','6','8')):\n",
        "            A=\"0\"\n",
        "            binary+= ''.join(str(A))\n",
        "\n",
        "        if str(hc).endswith(('1','3','5','7','9')):\n",
        "            A=\"1\"\n",
        "            binary+= ''.join(str(A))\n",
        "\n",
        "\n",
        "    my_str = bytes(BitArray(bin=binary))\n",
        "\n",
        "    binary_file = open('data-base.bin', 'ab')\n",
        "    binary_file.write(my_str)\n",
        "    binary_file.close()"
      ],
      "metadata": {
        "colab": {
          "base_uri": "https://localhost:8080/"
        },
        "id": "8Tc5r8VGd-kP",
        "outputId": "b31acc21-602d-42b0-a8d6-791904df518e"
      },
      "execution_count": 12,
      "outputs": [
        {
          "output_type": "stream",
          "name": "stdout",
          "text": [
            "Making Binary Data-Base\n",
            "1000\n"
          ]
        }
      ]
    },
    {
      "cell_type": "code",
      "source": [
        "import secp256k1 as ice\n",
        "from bitstring import BitArray\n",
        "\n",
        "def divide_integer_into_parts(n, num_parts):\n",
        "    # Convert the integer to a binary string\n",
        "    bin_str = bin(n)[2:]\n",
        "\n",
        "    # Calculate the number of bits in each part\n",
        "    bits_per_part = len(bin_str) // num_parts\n",
        "\n",
        "    # Handle the case when bits_per_part is 0\n",
        "    if bits_per_part == 0:\n",
        "        return [bin_str]\n",
        "\n",
        "    # Split the binary string into parts of equal length\n",
        "    parts = [bin_str[i:i + bits_per_part] for i in range(0, len(bin_str), bits_per_part)]\n",
        "\n",
        "    return parts\n",
        "\n",
        "def write_to_binary_file(parts, file_name='result256.bin'):\n",
        "    binary_file = open(file_name, 'ab')\n",
        "\n",
        "    for part in parts:\n",
        "        # Convert binary string to bytes\n",
        "        byte_value = int(part, 2).to_bytes((len(part) + 7) // 8, byteorder='big')  # +7 ensures rounding up to the nearest byte\n",
        "        binary_value = bytes(BitArray(bin=part))  # Create bytes from the binary string\n",
        "        binary_file.write(binary_value)\n",
        "\n",
        "    binary_file.close()\n",
        "\n",
        "# Example integer\n",
        "n = 10607741884884178603537133864630296054456886886068096376455927186044441555811\n",
        "\n",
        "# Number of parts to divide into\n",
        "num_parts = 256\n",
        "\n",
        "# Divide the integer into parts\n",
        "parts = divide_integer_into_parts(n, num_parts)\n",
        "\n",
        "# Write those parts to a binary file\n",
        "write_to_binary_file(parts)\n",
        "\n",
        "print(f\"{num_parts} parts have been written to 'result256.bin'.\")"
      ],
      "metadata": {
        "colab": {
          "base_uri": "https://localhost:8080/"
        },
        "id": "ZhhfJMupjKJz",
        "outputId": "0e12ae29-b99a-41b7-ca89-7e88221f7726"
      },
      "execution_count": 13,
      "outputs": [
        {
          "output_type": "stream",
          "name": "stdout",
          "text": [
            "256 parts have been written to 'result256.bin'.\n"
          ]
        }
      ]
    },
    {
      "cell_type": "code",
      "source": [
        "import secp256k1 as ice\n",
        "import random\n",
        "from bitstring import BitArray\n",
        "\n",
        "\n",
        "\n",
        "print(\"Scanning Binary Sequence\")\n",
        "\n",
        "#Pk: 1033162084\n",
        "#cPub: 03e1ea4a810944e6b5b1f598fae9984629c6cbcb9c0471f39c752809b44ed6ce11\n",
        "\n",
        "#range\n",
        "start= 10607741884884178603537133864630296054456886886068096376455927100000000000000\n",
        "end=   10607741884884178603537133864630296054456886886068096376455927900000000000000\n",
        "\n",
        "\n",
        "while True:\n",
        "\n",
        "    pk= random.randint(start, end)\n",
        "\n",
        "    target = ice.scalar_multiplication(pk)\n",
        "\n",
        "    num = 64 # collision margin.\n",
        "\n",
        "    sustract= 1 # #amount to subtract each time.\n",
        "\n",
        "    sustract_pub= ice.scalar_multiplication(sustract)\n",
        "\n",
        "    res= ice.point_loop_subtraction(num, target, sustract_pub)\n",
        "\n",
        "    binary = ''\n",
        "\n",
        "    for t in range (num):\n",
        "\n",
        "        h= (res[t*65:t*65+65]).hex()\n",
        "        hc= int(h[2:], 16)\n",
        "\n",
        "\n",
        "        if str(hc).endswith(('0','2','4','6','8')):\n",
        "            A=\"0\"\n",
        "            binary+= ''.join(str(A))\n",
        "\n",
        "        if str(hc).endswith(('1','3','5','7','9')):\n",
        "            A=\"1\"\n",
        "            binary+= ''.join(str(A))\n",
        "\n",
        "\n",
        "    my_str = binary\n",
        "\n",
        "    b = bytes(BitArray(bin=my_str))\n",
        "\n",
        "\n",
        "    file = open(\"result256.bin\", \"rb\")\n",
        "\n",
        "    dat = bytes(file.read())\n",
        "\n",
        "    if b  in dat:\n",
        "        s = b\n",
        "        f = dat\n",
        "        inx = f.find(s)*sustract\n",
        "        inx_0=inx\n",
        "        Pk = (int(pk) + int(inx_0))+int(inx_0)*7\n",
        "\n",
        "        data = open(\"win.txt\",\"a\")\n",
        "        data.write(\"Pk:\"+\" \"+str(Pk)+\"\\n\")\n",
        "        data.close()\n",
        "        break"
      ],
      "metadata": {
        "id": "TrXzDxohfAgO"
      },
      "execution_count": null,
      "outputs": []
    },
    {
      "cell_type": "code",
      "source": [
        "import secp256k1 as ice\n",
        "from bitstring import BitArray\n",
        "import bitcoin\n",
        "\n",
        "\n",
        "print(\"Making Binary Data-Base\")\n",
        "\n",
        "\n",
        "target_public_key = \"0230210c23b1a047bc9bdbb13448e67deddc108946de6de639bcc75d47c0216b1b\"\n",
        "\n",
        "target = ice.pub2upub(target_public_key)\n",
        "\n",
        "\n",
        "num = 2000000000 # number of keys.\n",
        "\n",
        "sustract = 1 #amount to subtract each time.\n",
        "\n",
        "Low_m= 200\n",
        "\n",
        "#2^28 / 2^ 26 = 4\n",
        "#2^29 / 2^26 = 8\n",
        "#2^30 / 2^26 = 16\n",
        "#2^32 / 2^26 = 64\n",
        "\n",
        "lm= num // Low_m\n",
        "\n",
        "\n",
        "sustract_pub= ice.scalar_multiplication(sustract)\n",
        "\n",
        "res= ice.point_loop_subtraction(lm, target, sustract_pub)\n",
        "binary = ''\n",
        "for t in range (lm):\n",
        "\n",
        "    h= (res[t*65:t*65+65]).hex()\n",
        "    hc= int(h[2:], 16)\n",
        "\n",
        "\n",
        "    if str(hc).endswith(('0','2','4','6','8')):\n",
        "        A=\"0\"\n",
        "        binary+= ''.join(str(A))\n",
        "\n",
        "    if str(hc).endswith(('1','3','5','7','9')):\n",
        "        A=\"1\"\n",
        "        binary+= ''.join(str(A))\n",
        "\n",
        "\n",
        "my_str = bytes(BitArray(bin=binary))\n",
        "\n",
        "binary_file = open('130Bit.bin', 'wb')\n",
        "binary_file.write(my_str)\n",
        "binary_file.close()\n",
        "\n",
        "for i in range (1,Low_m):\n",
        "\n",
        "    mem= ice.to_cpub(ice.scalar_multiplication(lm).hex())\n",
        "\n",
        "    Apk= bitcoin.multiply(mem, i)\n",
        "\n",
        "    Apk_upu= ice.pub2upub(Apk)\n",
        "\n",
        "    A1= ice.point_addition(target, Apk_upu)\n",
        "\n",
        "    sustract_pub= ice.scalar_multiplication(sustract)\n",
        "\n",
        "    res= ice.point_loop_subtraction(lm, A1, sustract_pub)\n",
        "\n",
        "    binary = ''\n",
        "    for t in range (lm):\n",
        "\n",
        "        h= (res[t*65:t*65+65]).hex()\n",
        "        hc= int(h[2:], 16)\n",
        "\n",
        "\n",
        "        if str(hc).endswith(('0','2','4','6','8')):\n",
        "            A=\"0\"\n",
        "            binary+= ''.join(str(A))\n",
        "\n",
        "        if str(hc).endswith(('1','3','5','7','9')):\n",
        "            A=\"1\"\n",
        "            binary+= ''.join(str(A))\n",
        "\n",
        "\n",
        "    my_str = bytes(BitArray(bin=binary))\n",
        "\n",
        "    binary_file = open('65Bit.bin', 'ab')\n",
        "    binary_file.write(my_str)\n",
        "    binary_file.close()\n"
      ],
      "metadata": {
        "colab": {
          "base_uri": "https://localhost:8080/",
          "height": 373
        },
        "id": "WH4RlCn_f1Yb",
        "outputId": "16731719-cc01-45e3-ba78-df65ef118b55"
      },
      "execution_count": 9,
      "outputs": [
        {
          "output_type": "stream",
          "name": "stdout",
          "text": [
            "Making Binary Data-Base\n"
          ]
        },
        {
          "output_type": "error",
          "ename": "KeyboardInterrupt",
          "evalue": "",
          "traceback": [
            "\u001b[0;31m---------------------------------------------------------------------------\u001b[0m",
            "\u001b[0;31mKeyboardInterrupt\u001b[0m                         Traceback (most recent call last)",
            "\u001b[0;32m<ipython-input-9-48e7554c0cae>\u001b[0m in \u001b[0;36m<cell line: 53>\u001b[0;34m()\u001b[0m\n\u001b[1;32m     63\u001b[0m     \u001b[0msustract_pub\u001b[0m\u001b[0;34m=\u001b[0m \u001b[0mice\u001b[0m\u001b[0;34m.\u001b[0m\u001b[0mscalar_multiplication\u001b[0m\u001b[0;34m(\u001b[0m\u001b[0msustract\u001b[0m\u001b[0;34m)\u001b[0m\u001b[0;34m\u001b[0m\u001b[0;34m\u001b[0m\u001b[0m\n\u001b[1;32m     64\u001b[0m \u001b[0;34m\u001b[0m\u001b[0m\n\u001b[0;32m---> 65\u001b[0;31m     \u001b[0mres\u001b[0m\u001b[0;34m=\u001b[0m \u001b[0mice\u001b[0m\u001b[0;34m.\u001b[0m\u001b[0mpoint_loop_subtraction\u001b[0m\u001b[0;34m(\u001b[0m\u001b[0mlm\u001b[0m\u001b[0;34m,\u001b[0m \u001b[0mA1\u001b[0m\u001b[0;34m,\u001b[0m \u001b[0msustract_pub\u001b[0m\u001b[0;34m)\u001b[0m\u001b[0;34m\u001b[0m\u001b[0;34m\u001b[0m\u001b[0m\n\u001b[0m\u001b[1;32m     66\u001b[0m \u001b[0;34m\u001b[0m\u001b[0m\n\u001b[1;32m     67\u001b[0m     \u001b[0mbinary\u001b[0m \u001b[0;34m=\u001b[0m \u001b[0;34m''\u001b[0m\u001b[0;34m\u001b[0m\u001b[0;34m\u001b[0m\u001b[0m\n",
            "\u001b[0;32m/content/secp256k1/secp256k1.py\u001b[0m in \u001b[0;36mpoint_loop_subtraction\u001b[0;34m(num, pubkey1_bytes, pubkey2_bytes)\u001b[0m\n\u001b[1;32m    522\u001b[0m     Output is array of pubkeys P1-P2, P1-2P2, P1-3P2, P1-4P2....'''\n\u001b[1;32m    523\u001b[0m     \u001b[0;32mif\u001b[0m \u001b[0mnum\u001b[0m \u001b[0;34m<=\u001b[0m \u001b[0;36m0\u001b[0m\u001b[0;34m:\u001b[0m \u001b[0mnum\u001b[0m \u001b[0;34m=\u001b[0m \u001b[0;36m1\u001b[0m\u001b[0;34m\u001b[0m\u001b[0;34m\u001b[0m\u001b[0m\n\u001b[0;32m--> 524\u001b[0;31m     \u001b[0mres\u001b[0m \u001b[0;34m=\u001b[0m \u001b[0m_point_loop_subtraction\u001b[0m\u001b[0;34m(\u001b[0m\u001b[0mnum\u001b[0m\u001b[0;34m,\u001b[0m \u001b[0mpubkey1_bytes\u001b[0m\u001b[0;34m,\u001b[0m \u001b[0mpubkey2_bytes\u001b[0m\u001b[0;34m)\u001b[0m\u001b[0;34m\u001b[0m\u001b[0;34m\u001b[0m\u001b[0m\n\u001b[0m\u001b[1;32m    525\u001b[0m     \u001b[0;32mreturn\u001b[0m \u001b[0mbytes\u001b[0m\u001b[0;34m(\u001b[0m\u001b[0mbytearray\u001b[0m\u001b[0;34m(\u001b[0m\u001b[0mres\u001b[0m\u001b[0;34m)\u001b[0m\u001b[0;34m)\u001b[0m\u001b[0;34m\u001b[0m\u001b[0;34m\u001b[0m\u001b[0m\n\u001b[1;32m    526\u001b[0m \u001b[0;31m#==============================================================================\u001b[0m\u001b[0;34m\u001b[0m\u001b[0;34m\u001b[0m\u001b[0m\n",
            "\u001b[0;32m/content/secp256k1/secp256k1.py\u001b[0m in \u001b[0;36m_point_loop_subtraction\u001b[0;34m(num, pubkey1_bytes, pubkey2_bytes)\u001b[0m\n\u001b[1;32m    516\u001b[0m \u001b[0;32mdef\u001b[0m \u001b[0m_point_loop_subtraction\u001b[0m\u001b[0;34m(\u001b[0m\u001b[0mnum\u001b[0m\u001b[0;34m,\u001b[0m \u001b[0mpubkey1_bytes\u001b[0m\u001b[0;34m,\u001b[0m \u001b[0mpubkey2_bytes\u001b[0m\u001b[0;34m)\u001b[0m\u001b[0;34m:\u001b[0m\u001b[0;34m\u001b[0m\u001b[0;34m\u001b[0m\u001b[0m\n\u001b[1;32m    517\u001b[0m     \u001b[0mres\u001b[0m \u001b[0;34m=\u001b[0m \u001b[0;34m(\u001b[0m\u001b[0;34mb'\\x00'\u001b[0m\u001b[0;34m)\u001b[0m \u001b[0;34m*\u001b[0m \u001b[0;34m(\u001b[0m\u001b[0;36m65\u001b[0m \u001b[0;34m*\u001b[0m \u001b[0mnum\u001b[0m\u001b[0;34m)\u001b[0m\u001b[0;34m\u001b[0m\u001b[0;34m\u001b[0m\u001b[0m\n\u001b[0;32m--> 518\u001b[0;31m     \u001b[0mice\u001b[0m\u001b[0;34m.\u001b[0m\u001b[0mpoint_loop_subtraction\u001b[0m\u001b[0;34m(\u001b[0m\u001b[0mnum\u001b[0m\u001b[0;34m,\u001b[0m \u001b[0mpubkey1_bytes\u001b[0m\u001b[0;34m,\u001b[0m \u001b[0mpubkey2_bytes\u001b[0m\u001b[0;34m,\u001b[0m \u001b[0mres\u001b[0m\u001b[0;34m)\u001b[0m\u001b[0;34m\u001b[0m\u001b[0;34m\u001b[0m\u001b[0m\n\u001b[0m\u001b[1;32m    519\u001b[0m     \u001b[0;32mreturn\u001b[0m \u001b[0mres\u001b[0m\u001b[0;34m\u001b[0m\u001b[0;34m\u001b[0m\u001b[0m\n\u001b[1;32m    520\u001b[0m \u001b[0;32mdef\u001b[0m \u001b[0mpoint_loop_subtraction\u001b[0m\u001b[0;34m(\u001b[0m\u001b[0mnum\u001b[0m\u001b[0;34m,\u001b[0m \u001b[0mpubkey1_bytes\u001b[0m\u001b[0;34m,\u001b[0m \u001b[0mpubkey2_bytes\u001b[0m\u001b[0;34m)\u001b[0m\u001b[0;34m:\u001b[0m\u001b[0;34m\u001b[0m\u001b[0;34m\u001b[0m\u001b[0m\n",
            "\u001b[0;31mKeyboardInterrupt\u001b[0m: "
          ]
        }
      ]
    },
    {
      "cell_type": "code",
      "source": [
        "def divide_integer_into_parts(n, num_parts):\n",
        "    # Convert the integer to a binary string\n",
        "    bin_str = bin(n)[2:]\n",
        "\n",
        "    # Calculate the number of bits in each part\n",
        "    bits_per_part = len(bin_str) // num_parts\n",
        "\n",
        "    # Handle the case when bits_per_part is 0\n",
        "    if bits_per_part == 0:\n",
        "        return [bin_str]\n",
        "\n",
        "    # Split the binary string into parts of equal length\n",
        "    parts = [bin_str[i:i + bits_per_part] for i in range(0, len(bin_str), bits_per_part)]\n",
        "\n",
        "    return parts\n",
        "\n",
        "# Given integer\n",
        "n = 10607741884884178603537133864630296054456886886068096376455927186044441555811\n",
        "\n",
        "# Divide into 256 parts\n",
        "num_parts = 256\n",
        "parts = divide_integer_into_parts(n, num_parts)\n",
        "\n",
        "# Write parts to a binary file\n",
        "with open('result256.bin', 'wb') as f:\n",
        "    for part in parts:\n",
        "        # Convert binary string to bytes (padded to ensure 1 byte is the minimum)\n",
        "        byte_value = int(part, 2).to_bytes((len(part) + 7) // 8, byteorder='big')  # +7 ensures rounding up to the nearest byte\n",
        "        f.write(byte_value)\n",
        "\n",
        "print(f\"{num_parts} parts have been written to 'result256.bin'.\")"
      ],
      "metadata": {
        "colab": {
          "base_uri": "https://localhost:8080/"
        },
        "id": "qpUBjVf7g2Qd",
        "outputId": "80105cd9-3ba8-4eca-f741-b5e328c67207"
      },
      "execution_count": 12,
      "outputs": [
        {
          "output_type": "stream",
          "name": "stdout",
          "text": [
            "256 parts have been written to 'result256.bin'.\n"
          ]
        }
      ]
    },
    {
      "cell_type": "code",
      "source": [
        "import secp256k1 as ice\n",
        "\n",
        "def _point_subtraction(pubkey1_bytes, pubkey2_bytes):\n",
        "    return ice.point_subtraction(pubkey1_bytes, pubkey2_bytes)\n",
        "\n",
        "def point_subtraction(pubkey1_bytes, pubkey2_bytes):\n",
        "    res = _point_subtraction(pubkey1_bytes, pubkey2_bytes)\n",
        "    return bytes(bytearray(res))\n",
        "\n",
        "target_public_key = \"026ecabd2d22fdb737be21975ce9a694e108eb94f3649c586cc7461c8abf5da71a\"\n",
        "target = ice.pub2upub(target_public_key)\n",
        "\n",
        "num = 2**23\n",
        "subtract= 2**10\n",
        "subtract_pub= ice.scalar_multiplication(subtract)\n",
        "\n",
        "with open('data-base.bin', 'wb') as binary_file:\n",
        "    current_pubkey = target\n",
        "    byte_accumulator = 0\n",
        "    bit_position = 0\n",
        "\n",
        "    for _ in range(num):\n",
        "        current_pubkey = point_subtraction(current_pubkey, subtract_pub)\n",
        "\n",
        "        binary_data = int(current_pubkey.hex(), 16)\n",
        "\n",
        "        bit = 0 if str(binary_data).endswith(('0', '2', '4', '6', '8')) else 1\n",
        "\n",
        "        byte_accumulator = (byte_accumulator << 1) | bit\n",
        "        bit_position += 1\n",
        "        if bit_position == 8:\n",
        "            binary_file.write(byte_accumulator.to_bytes(1, byteorder='big'))\n",
        "            byte_accumulator = 0\n",
        "            bit_position = 0\n",
        "\n",
        "    if bit_position > 0:\n",
        "        byte_accumulator <<= (8 - bit_position)\n",
        "        binary_file.write(byte_accumulator.to_bytes(1, byteorder='big'))\n"
      ],
      "metadata": {
        "id": "z8YyaA1tEfZS"
      },
      "execution_count": 15,
      "outputs": []
    },
    {
      "cell_type": "code",
      "source": [
        "import secp256k1 as ice\n",
        "from bitstring import BitArray\n",
        "import gc  # Import garbage collection module\n",
        "\n",
        "#########################DATABASE PARAMETERS#########################\n",
        "prefix = '255_32'\n",
        "data_base_name = 'data-base' + prefix + '.bin'\n",
        "\n",
        "num_public_keys = 2**254  # Number of keys in the range from 2^254 to 2^255\n",
        "num_batches = 14  # Number of batches, each containing 2^32 keys\n",
        "num_bytes_db = num_batches // 8  # 1 bit for each batch\n",
        "sustract = 2**0  # Amount to subtract each time, If you modify this, use the same amount to scan.\n",
        "sustract_pub = ice.scalar_multiplication(sustract)\n",
        "space_covered = num_public_keys * sustract  # 2**254 = very large space covered\n",
        "\n",
        "# Target public key\n",
        "target_public_key = \"03f760d768600e639758836fda5da546c10b1d84886165a5a1a4586192518aaf77\"\n",
        "target = ice.pub2upub(target_public_key)\n",
        "\n",
        "# Low memory optimization\n",
        "Low_m = 2**8  # To save RAM\n",
        "lm = num_public_keys // Low_m\n",
        "\n",
        "print(\"Making Binary Data-Base\")\n",
        "print()\n",
        "\n",
        "# Initialize the binary file\n",
        "with open(data_base_name, 'wb') as binary_file:\n",
        "    pass\n",
        "\n",
        "for batch_index in range(num_batches):\n",
        "    print(f\"Processing batch {batch_index + 1} of {num_batches}\")\n",
        "\n",
        "    # Calculate the starting point for this batch\n",
        "    batch_start = 2**254 + batch_index * 2**32\n",
        "    batch_start_pub = ice.scalar_multiplication(batch_start * sustract)\n",
        "\n",
        "    # Subtract the batch start point from the target\n",
        "    A1 = ice.point_subtraction(target, batch_start_pub)\n",
        "\n",
        "    # Process the batch in chunks\n",
        "    for i in range(Low_m):\n",
        "        lm_upub = ice.scalar_multiplication((lm * i) * sustract)\n",
        "        A1_chunk = ice.point_subtraction(A1, lm_upub)\n",
        "\n",
        "        # Instead of generating one large array, process in smaller chunks\n",
        "        chunk_size = 1000000\n",
        "        res = bytearray()\n",
        "        for j in range(0, lm, chunk_size):\n",
        "            temp_res = ice.point_loop_subtraction(chunk_size, A1_chunk, sustract_pub)\n",
        "            res.extend(temp_res)\n",
        "            A1_chunk = ice.point_subtraction(A1_chunk, ice.scalar_multiplication(chunk_size)) # Update A1_chunk for next iteration\n",
        "\n",
        "            # Trigger garbage collection to free up memory\n",
        "            gc.collect()\n",
        "\n",
        "        my_str = BitArray(res[t * 65 + 64] % 2 for t in range(lm))  # 0 if even, 1 if odd\n",
        "\n",
        "        with open(data_base_name, 'ab') as binary_file:\n",
        "            my_str.tofile(binary_file)\n",
        "\n",
        "        # Trigger garbage collection to free up memory\n",
        "        gc.collect()\n",
        "\n",
        "print(\"Keys generated: \" + str(num_public_keys))\n",
        "print(\"Space covered by the keys spread with distance \" + str(sustract) + \" in the database : \" + str(space_covered))"
      ],
      "metadata": {
        "colab": {
          "base_uri": "https://localhost:8080/",
          "height": 211
        },
        "id": "gh_LjuRuEt8s",
        "outputId": "e9cd2737-07ca-4b43-e5f2-dde897861189"
      },
      "execution_count": 11,
      "outputs": [
        {
          "output_type": "error",
          "ename": "AttributeError",
          "evalue": "module 'secp256k1' has no attribute 'scalar_multiplication'",
          "traceback": [
            "\u001b[0;31m---------------------------------------------------------------------------\u001b[0m",
            "\u001b[0;31mAttributeError\u001b[0m                            Traceback (most recent call last)",
            "\u001b[0;32m<ipython-input-11-c822db50c052>\u001b[0m in \u001b[0;36m<cell line: 13>\u001b[0;34m()\u001b[0m\n\u001b[1;32m     11\u001b[0m \u001b[0mnum_bytes_db\u001b[0m \u001b[0;34m=\u001b[0m \u001b[0mnum_batches\u001b[0m \u001b[0;34m//\u001b[0m \u001b[0;36m8\u001b[0m  \u001b[0;31m# 1 bit for each batch\u001b[0m\u001b[0;34m\u001b[0m\u001b[0;34m\u001b[0m\u001b[0m\n\u001b[1;32m     12\u001b[0m \u001b[0msustract\u001b[0m \u001b[0;34m=\u001b[0m \u001b[0;36m2\u001b[0m\u001b[0;34m**\u001b[0m\u001b[0;36m0\u001b[0m  \u001b[0;31m# Amount to subtract each time, If you modify this, use the same amount to scan.\u001b[0m\u001b[0;34m\u001b[0m\u001b[0;34m\u001b[0m\u001b[0m\n\u001b[0;32m---> 13\u001b[0;31m \u001b[0msustract_pub\u001b[0m \u001b[0;34m=\u001b[0m \u001b[0mice\u001b[0m\u001b[0;34m.\u001b[0m\u001b[0mscalar_multiplication\u001b[0m\u001b[0;34m(\u001b[0m\u001b[0msustract\u001b[0m\u001b[0;34m)\u001b[0m\u001b[0;34m\u001b[0m\u001b[0;34m\u001b[0m\u001b[0m\n\u001b[0m\u001b[1;32m     14\u001b[0m \u001b[0mspace_covered\u001b[0m \u001b[0;34m=\u001b[0m \u001b[0mnum_public_keys\u001b[0m \u001b[0;34m*\u001b[0m \u001b[0msustract\u001b[0m  \u001b[0;31m# 2**254 = very large space covered\u001b[0m\u001b[0;34m\u001b[0m\u001b[0;34m\u001b[0m\u001b[0m\n\u001b[1;32m     15\u001b[0m \u001b[0;34m\u001b[0m\u001b[0m\n",
            "\u001b[0;31mAttributeError\u001b[0m: module 'secp256k1' has no attribute 'scalar_multiplication'"
          ]
        }
      ]
    },
    {
      "cell_type": "code",
      "source": [
        "!git clone https://github.com/bobmitch23/discrete-log.git"
      ],
      "metadata": {
        "colab": {
          "base_uri": "https://localhost:8080/"
        },
        "id": "LaJtWcB4WHLT",
        "outputId": "ec0e98ad-3f46-4257-fa63-7daac274d319"
      },
      "execution_count": 2,
      "outputs": [
        {
          "output_type": "stream",
          "name": "stdout",
          "text": [
            "Cloning into 'discrete-log'...\n",
            "remote: Enumerating objects: 110, done.\u001b[K\n",
            "remote: Counting objects: 100% (110/110), done.\u001b[K\n",
            "remote: Compressing objects: 100% (78/78), done.\u001b[K\n",
            "remote: Total 110 (delta 25), reused 92 (delta 16), pack-reused 0 (from 0)\u001b[K\n",
            "Receiving objects: 100% (110/110), 22.20 KiB | 3.17 MiB/s, done.\n",
            "Resolving deltas: 100% (25/25), done.\n"
          ]
        }
      ]
    },
    {
      "cell_type": "code",
      "source": [
        "%cd discrete-log"
      ],
      "metadata": {
        "colab": {
          "base_uri": "https://localhost:8080/"
        },
        "id": "1G2VXZ87WNlh",
        "outputId": "b93c8775-e9d9-43d9-c18b-d53b5a9107a2"
      },
      "execution_count": 3,
      "outputs": [
        {
          "output_type": "stream",
          "name": "stdout",
          "text": [
            "/content/discrete-log\n"
          ]
        }
      ]
    },
    {
      "cell_type": "code",
      "source": [
        "%cd python"
      ],
      "metadata": {
        "colab": {
          "base_uri": "https://localhost:8080/"
        },
        "id": "f77DQ6WfWgSz",
        "outputId": "2f294dd3-9da3-4c22-f678-db9b2e90e3cb"
      },
      "execution_count": 8,
      "outputs": [
        {
          "output_type": "stream",
          "name": "stdout",
          "text": [
            "/content/discrete-log/python\n"
          ]
        }
      ]
    },
    {
      "cell_type": "code",
      "source": [
        "!ls"
      ],
      "metadata": {
        "colab": {
          "base_uri": "https://localhost:8080/"
        },
        "id": "VO_LNjUdXG57",
        "outputId": "ca2dfda0-46c9-41d8-f768-b5e03631d475"
      },
      "execution_count": 9,
      "outputs": [
        {
          "output_type": "stream",
          "name": "stdout",
          "text": [
            "discrete_log  discrete_log_test.py\n"
          ]
        }
      ]
    }
  ],
  "metadata": {
    "colab": {
      "provenance": [],
      "authorship_tag": "ABX9TyOyZb/dqAgfh8afK3WjYFmX",
      "include_colab_link": true
    },
    "kernelspec": {
      "display_name": "Python 3",
      "name": "python3"
    },
    "language_info": {
      "name": "python"
    }
  },
  "nbformat": 4,
  "nbformat_minor": 0
}