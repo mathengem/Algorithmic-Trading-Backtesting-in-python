{
  "nbformat": 4,
  "nbformat_minor": 0,
  "metadata": {
    "colab": {
      "provenance": [],
      "authorship_tag": "ABX9TyPTmMqXnQSWqOIJZznZw0JI",
      "include_colab_link": true
    },
    "kernelspec": {
      "name": "python3",
      "display_name": "Python 3"
    },
    "language_info": {
      "name": "python"
    }
  },
  "cells": [
    {
      "cell_type": "markdown",
      "metadata": {
        "id": "view-in-github",
        "colab_type": "text"
      },
      "source": [
        "<a href=\"https://colab.research.google.com/github/mathengem/Algorithmic-Trading-Backtesting-in-python/blob/main/Techincal_Indicator.ipynb\" target=\"_parent\"><img src=\"https://colab.research.google.com/assets/colab-badge.svg\" alt=\"Open In Colab\"/></a>"
      ]
    },
    {
      "cell_type": "code",
      "execution_count": 2,
      "metadata": {
        "colab": {
          "base_uri": "https://localhost:8080/"
        },
        "id": "ptOv8XFh3aCt",
        "outputId": "6773a760-93d8-430e-df32-6a86fe563033"
      },
      "outputs": [
        {
          "output_type": "stream",
          "name": "stdout",
          "text": [
            "Reading package lists... Done\n",
            "Building dependency tree... Done\n",
            "Reading state information... Done\n",
            "libxml2-dev is already the newest version (2.9.13+dfsg-1ubuntu0.4).\n",
            "zlib1g-dev is already the newest version (1:1.2.11.dfsg-2ubuntu9.2).\n",
            "zlib1g-dev set to manually installed.\n",
            "The following NEW packages will be installed:\n",
            "  libxslt1-dev\n",
            "0 upgraded, 1 newly installed, 0 to remove and 45 not upgraded.\n",
            "Need to get 219 kB of archives.\n",
            "After this operation, 2,058 kB of additional disk space will be used.\n",
            "Get:1 http://archive.ubuntu.com/ubuntu jammy-updates/main amd64 libxslt1-dev amd64 1.1.34-4ubuntu0.22.04.1 [219 kB]\n",
            "Fetched 219 kB in 0s (1,093 kB/s)\n",
            "Selecting previously unselected package libxslt1-dev:amd64.\n",
            "(Reading database ... 121918 files and directories currently installed.)\n",
            "Preparing to unpack .../libxslt1-dev_1.1.34-4ubuntu0.22.04.1_amd64.deb ...\n",
            "Unpacking libxslt1-dev:amd64 (1.1.34-4ubuntu0.22.04.1) ...\n",
            "Setting up libxslt1-dev:amd64 (1.1.34-4ubuntu0.22.04.1) ...\n",
            "Processing triggers for man-db (2.10.2-1) ...\n",
            "Reading package lists... Done\n",
            "Building dependency tree... Done\n",
            "Reading state information... Done\n",
            "build-essential is already the newest version (12.9ubuntu3).\n",
            "0 upgraded, 0 newly installed, 0 to remove and 45 not upgraded.\n",
            "Reading package lists... Done\n",
            "Building dependency tree... Done\n",
            "Reading state information... Done\n",
            "python3-dev is already the newest version (3.10.6-1~22.04).\n",
            "python3-dev set to manually installed.\n",
            "0 upgraded, 0 newly installed, 0 to remove and 45 not upgraded.\n",
            "Reading package lists... Done\n",
            "Building dependency tree... Done\n",
            "Reading state information... Done\n",
            "libssl-dev is already the newest version (3.0.2-0ubuntu1.15).\n",
            "0 upgraded, 0 newly installed, 0 to remove and 45 not upgraded.\n",
            "Reading package lists... Done\n",
            "Building dependency tree... Done\n",
            "Reading state information... Done\n",
            "The following NEW packages will be installed:\n",
            "  libffi-dev\n",
            "0 upgraded, 1 newly installed, 0 to remove and 45 not upgraded.\n",
            "Need to get 63.7 kB of archives.\n",
            "After this operation, 336 kB of additional disk space will be used.\n",
            "Get:1 http://archive.ubuntu.com/ubuntu jammy/main amd64 libffi-dev amd64 3.4.2-4 [63.7 kB]\n",
            "Fetched 63.7 kB in 0s (542 kB/s)\n",
            "Selecting previously unselected package libffi-dev:amd64.\n",
            "(Reading database ... 122058 files and directories currently installed.)\n",
            "Preparing to unpack .../libffi-dev_3.4.2-4_amd64.deb ...\n",
            "Unpacking libffi-dev:amd64 (3.4.2-4) ...\n",
            "Setting up libffi-dev:amd64 (3.4.2-4) ...\n",
            "Processing triggers for man-db (2.10.2-1) ...\n",
            "Reading package lists... Done\n",
            "Building dependency tree... Done\n",
            "Reading state information... Done\n",
            "libatlas-base-dev is already the newest version (3.10.3-12ubuntu1).\n",
            "0 upgraded, 0 newly installed, 0 to remove and 45 not upgraded.\n"
          ]
        }
      ],
      "source": [
        "!apt-get install -y libxml2-dev libxslt1-dev zlib1g-dev\n",
        "!apt-get install -y build-essential\n",
        "!apt-get install -y python3-dev\n",
        "!apt-get install -y libssl-dev\n",
        "!apt-get install -y libffi-dev\n",
        "!apt-get install -y libatlas-base-dev"
      ]
    },
    {
      "cell_type": "code",
      "source": [
        "!wget http://prdownloads.sourceforge.net/ta-lib/ta-lib-0.4.0-src.tar.gz\n",
        "!tar -xzf ta-lib-0.4.0-src.tar.gz\n",
        "%cd ta-lib\n",
        "!./configure --prefix=/usr\n",
        "!make\n",
        "!make install\n",
        "%cd ..\n",
        "!pip install TA-Lib"
      ],
      "metadata": {
        "id": "z7B9IXB66eX7",
        "outputId": "d753903c-e8de-4bd1-9929-1ea93a1c4743",
        "colab": {
          "base_uri": "https://localhost:8080/"
        }
      },
      "execution_count": 3,
      "outputs": [
        {
          "output_type": "stream",
          "name": "stdout",
          "text": [
            "--2024-06-01 13:36:04--  http://prdownloads.sourceforge.net/ta-lib/ta-lib-0.4.0-src.tar.gz\n",
            "Resolving prdownloads.sourceforge.net (prdownloads.sourceforge.net)... 204.68.111.105\n",
            "Connecting to prdownloads.sourceforge.net (prdownloads.sourceforge.net)|204.68.111.105|:80... connected.\n",
            "HTTP request sent, awaiting response... 301 Moved Permanently\n",
            "Location: http://downloads.sourceforge.net/project/ta-lib/ta-lib/0.4.0/ta-lib-0.4.0-src.tar.gz [following]\n",
            "--2024-06-01 13:36:04--  http://downloads.sourceforge.net/project/ta-lib/ta-lib/0.4.0/ta-lib-0.4.0-src.tar.gz\n",
            "Resolving downloads.sourceforge.net (downloads.sourceforge.net)... 204.68.111.105\n",
            "Reusing existing connection to prdownloads.sourceforge.net:80.\n",
            "HTTP request sent, awaiting response... 302 Found\n",
            "Location: http://phoenixnap.dl.sourceforge.net/project/ta-lib/ta-lib/0.4.0/ta-lib-0.4.0-src.tar.gz?viasf=1 [following]\n",
            "--2024-06-01 13:36:04--  http://phoenixnap.dl.sourceforge.net/project/ta-lib/ta-lib/0.4.0/ta-lib-0.4.0-src.tar.gz?viasf=1\n",
            "Resolving phoenixnap.dl.sourceforge.net (phoenixnap.dl.sourceforge.net)... 184.164.141.26\n",
            "Connecting to phoenixnap.dl.sourceforge.net (phoenixnap.dl.sourceforge.net)|184.164.141.26|:80... connected.\n",
            "HTTP request sent, awaiting response... 200 OK\n",
            "Length: 1330299 (1.3M) [application/x-gzip]\n",
            "Saving to: ‘ta-lib-0.4.0-src.tar.gz’\n",
            "\n",
            "ta-lib-0.4.0-src.ta 100%[===================>]   1.27M  3.07MB/s    in 0.4s    \n",
            "\n",
            "2024-06-01 13:36:04 (3.07 MB/s) - ‘ta-lib-0.4.0-src.tar.gz’ saved [1330299/1330299]\n",
            "\n",
            "/content/ta-lib\n",
            "checking for a BSD-compatible install... /usr/bin/install -c\n",
            "checking whether build environment is sane... yes\n",
            "checking for a thread-safe mkdir -p... /usr/bin/mkdir -p\n",
            "checking for gawk... no\n",
            "checking for mawk... mawk\n",
            "checking whether make sets $(MAKE)... yes\n",
            "checking for gcc... gcc\n",
            "checking for C compiler default output file name... a.out\n",
            "checking whether the C compiler works... yes\n",
            "checking whether we are cross compiling... no\n",
            "checking for suffix of executables... \n",
            "checking for suffix of object files... o\n",
            "checking whether we are using the GNU C compiler... yes\n",
            "checking whether gcc accepts -g... yes\n",
            "checking for gcc option to accept ISO C89... none needed\n",
            "checking for style of include used by make... GNU\n",
            "checking dependency style of gcc... gcc3\n",
            "checking build system type... x86_64-unknown-linux-gnu\n",
            "checking host system type... x86_64-unknown-linux-gnu\n",
            "checking for a sed that does not truncate output... /usr/bin/sed\n",
            "checking for grep that handles long lines and -e... /usr/bin/grep\n",
            "checking for egrep... /usr/bin/grep -E\n",
            "checking for ld used by gcc... /usr/bin/ld\n",
            "checking if the linker (/usr/bin/ld) is GNU ld... yes\n",
            "checking for /usr/bin/ld option to reload object files... -r\n",
            "checking for BSD-compatible nm... /usr/bin/nm -B\n",
            "checking whether ln -s works... yes\n",
            "checking how to recognise dependent libraries... pass_all\n",
            "checking how to run the C preprocessor... gcc -E\n",
            "checking for ANSI C header files... yes\n",
            "checking for sys/types.h... yes\n",
            "checking for sys/stat.h... yes\n",
            "checking for stdlib.h... yes\n",
            "checking for string.h... yes\n",
            "checking for memory.h... yes\n",
            "checking for strings.h... yes\n",
            "checking for inttypes.h... yes\n",
            "checking for stdint.h... yes\n",
            "checking for unistd.h... yes\n",
            "checking dlfcn.h usability... yes\n",
            "checking dlfcn.h presence... yes\n",
            "checking for dlfcn.h... yes\n",
            "checking for g++... g++\n",
            "checking whether we are using the GNU C++ compiler... yes\n",
            "checking whether g++ accepts -g... yes\n",
            "checking dependency style of g++... gcc3\n",
            "checking how to run the C++ preprocessor... g++ -E\n",
            "checking for g77... no\n",
            "checking for xlf... no\n",
            "checking for f77... f77\n",
            "checking whether we are using the GNU Fortran 77 compiler... yes\n",
            "checking whether f77 accepts -g... yes\n",
            "checking the maximum length of command line arguments... 32768\n",
            "checking command to parse /usr/bin/nm -B output from gcc object... ok\n",
            "checking for objdir... .libs\n",
            "checking for ar... ar\n",
            "checking for ranlib... ranlib\n",
            "checking for strip... strip\n",
            "checking if gcc supports -fno-rtti -fno-exceptions... no\n",
            "checking for gcc option to produce PIC... -fPIC\n",
            "checking if gcc PIC flag -fPIC works... yes\n",
            "checking if gcc static flag -static works... yes\n",
            "checking if gcc supports -c -o file.o... yes\n",
            "checking whether the gcc linker (/usr/bin/ld -m elf_x86_64) supports shared libraries... yes\n",
            "checking whether -lc should be explicitly linked in... no\n",
            "checking dynamic linker characteristics... GNU/Linux ld.so\n",
            "checking how to hardcode library paths into programs... immediate\n",
            "checking whether stripping libraries is possible... yes\n",
            "checking if libtool supports shared libraries... yes\n",
            "checking whether to build shared libraries... yes\n",
            "checking whether to build static libraries... yes\n",
            "configure: creating libtool\n",
            "appending configuration tag \"CXX\" to libtool\n",
            "checking for ld used by g++... /usr/bin/ld -m elf_x86_64\n",
            "checking if the linker (/usr/bin/ld -m elf_x86_64) is GNU ld... yes\n",
            "checking whether the g++ linker (/usr/bin/ld -m elf_x86_64) supports shared libraries... yes\n",
            "checking for g++ option to produce PIC... -fPIC\n",
            "checking if g++ PIC flag -fPIC works... yes\n",
            "checking if g++ static flag -static works... yes\n",
            "checking if g++ supports -c -o file.o... yes\n",
            "checking whether the g++ linker (/usr/bin/ld -m elf_x86_64) supports shared libraries... yes\n",
            "checking dynamic linker characteristics... GNU/Linux ld.so\n",
            "checking how to hardcode library paths into programs... immediate\n",
            "appending configuration tag \"F77\" to libtool\n",
            "checking if libtool supports shared libraries... yes\n",
            "checking whether to build shared libraries... yes\n",
            "checking whether to build static libraries... yes\n",
            "checking for f77 option to produce PIC... -fPIC\n",
            "checking if f77 PIC flag -fPIC works... yes\n",
            "checking if f77 static flag -static works... yes\n",
            "checking if f77 supports -c -o file.o... yes\n",
            "checking whether the f77 linker (/usr/bin/ld -m elf_x86_64) supports shared libraries... yes\n",
            "checking dynamic linker characteristics... GNU/Linux ld.so\n",
            "checking how to hardcode library paths into programs... immediate\n",
            "checking for dlopen in -ldl... yes\n",
            "checking for pthread_create in -lpthread... yes\n",
            "checking for ANSI C header files... (cached) yes\n",
            "checking float.h usability... yes\n",
            "checking float.h presence... yes\n",
            "checking for float.h... yes\n",
            "checking for inttypes.h... (cached) yes\n",
            "checking limits.h usability... yes\n",
            "checking limits.h presence... yes\n",
            "checking for limits.h... yes\n",
            "checking locale.h usability... yes\n",
            "checking locale.h presence... yes\n",
            "checking for locale.h... yes\n",
            "checking stddef.h usability... yes\n",
            "checking stddef.h presence... yes\n",
            "checking for stddef.h... yes\n",
            "checking for stdint.h... (cached) yes\n",
            "checking for stdlib.h... (cached) yes\n",
            "checking for string.h... (cached) yes\n",
            "checking for unistd.h... (cached) yes\n",
            "checking wchar.h usability... yes\n",
            "checking wchar.h presence... yes\n",
            "checking for wchar.h... yes\n",
            "checking wctype.h usability... yes\n",
            "checking wctype.h presence... yes\n",
            "checking for wctype.h... yes\n",
            "checking for an ANSI C-conforming const... yes\n",
            "checking for size_t... yes\n",
            "checking whether struct tm is in sys/time.h or time.h... time.h\n",
            "checking for working volatile... yes\n",
            "checking for ptrdiff_t... yes\n",
            "checking return type of signal handlers... void\n",
            "checking for working strcoll... yes\n",
            "checking for strftime... yes\n",
            "checking for working strtod... yes\n",
            "checking for vprintf... yes\n",
            "checking for _doprnt... no\n",
            "checking for floor... no\n",
            "checking for isascii... yes\n",
            "checking for localeconv... yes\n",
            "checking for mblen... yes\n",
            "checking for memmove... yes\n",
            "checking for memset... yes\n",
            "checking for modf... yes\n",
            "checking for pow... no\n",
            "checking for sqrt... no\n",
            "checking for strcasecmp... yes\n",
            "checking for strchr... yes\n",
            "checking for strerror... yes\n",
            "checking for strncasecmp... yes\n",
            "checking for strrchr... yes\n",
            "checking for strstr... yes\n",
            "checking for strtol... yes\n",
            "checking for strtoul... yes\n",
            "configure: creating ./config.status\n",
            "config.status: creating Makefile\n",
            "config.status: creating src/Makefile\n",
            "config.status: creating src/ta_abstract/Makefile\n",
            "config.status: creating src/ta_common/Makefile\n",
            "config.status: creating src/ta_func/Makefile\n",
            "config.status: creating src/tools/Makefile\n",
            "config.status: creating src/tools/gen_code/Makefile\n",
            "config.status: creating src/tools/ta_regtest/Makefile\n",
            "config.status: creating ta-lib-config\n",
            "config.status: creating ta-lib.spec\n",
            "config.status: creating ta-lib.dpkg\n",
            "config.status: creating include/ta_config.h\n",
            "config.status: executing depfiles commands\n",
            "Making all in src\n",
            "make[1]: Entering directory '/content/ta-lib/src'\n",
            "Making all in ta_abstract\n",
            "make[2]: Entering directory '/content/ta-lib/src/ta_abstract'\n",
            "/bin/bash ../../libtool --tag=CC   --mode=compile gcc -DHAVE_CONFIG_H -I. -I../../include  -I../ta_common/ -Iframes/   -g -O2 -MT libta_abstract_la-ta_group_idx.lo -MD -MP -MF .deps/libta_abstract_la-ta_group_idx.Tpo -c -o libta_abstract_la-ta_group_idx.lo `test -f 'ta_group_idx.c' || echo './'`ta_group_idx.c\n",
            "mkdir .libs\n",
            " gcc -DHAVE_CONFIG_H -I. -I../../include -I../ta_common/ -Iframes/ -g -O2 -MT libta_abstract_la-ta_group_idx.lo -MD -MP -MF .deps/libta_abstract_la-ta_group_idx.Tpo -c ta_group_idx.c  -fPIC -DPIC -o .libs/libta_abstract_la-ta_group_idx.o\n",
            " gcc -DHAVE_CONFIG_H -I. -I../../include -I../ta_common/ -Iframes/ -g -O2 -MT libta_abstract_la-ta_group_idx.lo -MD -MP -MF .deps/libta_abstract_la-ta_group_idx.Tpo -c ta_group_idx.c -o libta_abstract_la-ta_group_idx.o >/dev/null 2>&1\n",
            "mv -f .deps/libta_abstract_la-ta_group_idx.Tpo .deps/libta_abstract_la-ta_group_idx.Plo\n",
            "/bin/bash ../../libtool --tag=CC   --mode=compile gcc -DHAVE_CONFIG_H -I. -I../../include  -I../ta_common/ -Iframes/   -g -O2 -MT libta_abstract_la-ta_def_ui.lo -MD -MP -MF .deps/libta_abstract_la-ta_def_ui.Tpo -c -o libta_abstract_la-ta_def_ui.lo `test -f 'ta_def_ui.c' || echo './'`ta_def_ui.c\n",
            " gcc -DHAVE_CONFIG_H -I. -I../../include -I../ta_common/ -Iframes/ -g -O2 -MT libta_abstract_la-ta_def_ui.lo -MD -MP -MF .deps/libta_abstract_la-ta_def_ui.Tpo -c ta_def_ui.c  -fPIC -DPIC -o .libs/libta_abstract_la-ta_def_ui.o\n",
            " gcc -DHAVE_CONFIG_H -I. -I../../include -I../ta_common/ -Iframes/ -g -O2 -MT libta_abstract_la-ta_def_ui.lo -MD -MP -MF .deps/libta_abstract_la-ta_def_ui.Tpo -c ta_def_ui.c -o libta_abstract_la-ta_def_ui.o >/dev/null 2>&1\n",
            "mv -f .deps/libta_abstract_la-ta_def_ui.Tpo .deps/libta_abstract_la-ta_def_ui.Plo\n",
            "/bin/bash ../../libtool --tag=CC   --mode=compile gcc -DHAVE_CONFIG_H -I. -I../../include  -I../ta_common/ -Iframes/   -g -O2 -MT libta_abstract_la-ta_abstract.lo -MD -MP -MF .deps/libta_abstract_la-ta_abstract.Tpo -c -o libta_abstract_la-ta_abstract.lo `test -f 'ta_abstract.c' || echo './'`ta_abstract.c\n",
            " gcc -DHAVE_CONFIG_H -I. -I../../include -I../ta_common/ -Iframes/ -g -O2 -MT libta_abstract_la-ta_abstract.lo -MD -MP -MF .deps/libta_abstract_la-ta_abstract.Tpo -c ta_abstract.c  -fPIC -DPIC -o .libs/libta_abstract_la-ta_abstract.o\n",
            " gcc -DHAVE_CONFIG_H -I. -I../../include -I../ta_common/ -Iframes/ -g -O2 -MT libta_abstract_la-ta_abstract.lo -MD -MP -MF .deps/libta_abstract_la-ta_abstract.Tpo -c ta_abstract.c -o libta_abstract_la-ta_abstract.o >/dev/null 2>&1\n",
            "mv -f .deps/libta_abstract_la-ta_abstract.Tpo .deps/libta_abstract_la-ta_abstract.Plo\n",
            "/bin/bash ../../libtool --tag=CC   --mode=compile gcc -DHAVE_CONFIG_H -I. -I../../include  -I../ta_common/ -Iframes/   -g -O2 -MT libta_abstract_la-ta_func_api.lo -MD -MP -MF .deps/libta_abstract_la-ta_func_api.Tpo -c -o libta_abstract_la-ta_func_api.lo `test -f 'ta_func_api.c' || echo './'`ta_func_api.c\n",
            " gcc -DHAVE_CONFIG_H -I. -I../../include -I../ta_common/ -Iframes/ -g -O2 -MT libta_abstract_la-ta_func_api.lo -MD -MP -MF .deps/libta_abstract_la-ta_func_api.Tpo -c ta_func_api.c  -fPIC -DPIC -o .libs/libta_abstract_la-ta_func_api.o\n",
            " gcc -DHAVE_CONFIG_H -I. -I../../include -I../ta_common/ -Iframes/ -g -O2 -MT libta_abstract_la-ta_func_api.lo -MD -MP -MF .deps/libta_abstract_la-ta_func_api.Tpo -c ta_func_api.c -o libta_abstract_la-ta_func_api.o >/dev/null 2>&1\n",
            "mv -f .deps/libta_abstract_la-ta_func_api.Tpo .deps/libta_abstract_la-ta_func_api.Plo\n",
            "/bin/bash ../../libtool --tag=CC   --mode=compile gcc -DHAVE_CONFIG_H -I. -I../../include  -I../ta_common/ -Iframes/   -g -O2 -MT libta_abstract_la-ta_frame.lo -MD -MP -MF .deps/libta_abstract_la-ta_frame.Tpo -c -o libta_abstract_la-ta_frame.lo `test -f 'frames/ta_frame.c' || echo './'`frames/ta_frame.c\n",
            " gcc -DHAVE_CONFIG_H -I. -I../../include -I../ta_common/ -Iframes/ -g -O2 -MT libta_abstract_la-ta_frame.lo -MD -MP -MF .deps/libta_abstract_la-ta_frame.Tpo -c frames/ta_frame.c  -fPIC -DPIC -o .libs/libta_abstract_la-ta_frame.o\n",
            " gcc -DHAVE_CONFIG_H -I. -I../../include -I../ta_common/ -Iframes/ -g -O2 -MT libta_abstract_la-ta_frame.lo -MD -MP -MF .deps/libta_abstract_la-ta_frame.Tpo -c frames/ta_frame.c -o libta_abstract_la-ta_frame.o >/dev/null 2>&1\n",
            "mv -f .deps/libta_abstract_la-ta_frame.Tpo .deps/libta_abstract_la-ta_frame.Plo\n",
            "/bin/bash ../../libtool --tag=CC   --mode=compile gcc -DHAVE_CONFIG_H -I. -I../../include  -I../ta_common/ -Iframes/   -g -O2 -MT libta_abstract_la-table_a.lo -MD -MP -MF .deps/libta_abstract_la-table_a.Tpo -c -o libta_abstract_la-table_a.lo `test -f 'tables/table_a.c' || echo './'`tables/table_a.c\n",
            " gcc -DHAVE_CONFIG_H -I. -I../../include -I../ta_common/ -Iframes/ -g -O2 -MT libta_abstract_la-table_a.lo -MD -MP -MF .deps/libta_abstract_la-table_a.Tpo -c tables/table_a.c  -fPIC -DPIC -o .libs/libta_abstract_la-table_a.o\n",
            " gcc -DHAVE_CONFIG_H -I. -I../../include -I../ta_common/ -Iframes/ -g -O2 -MT libta_abstract_la-table_a.lo -MD -MP -MF .deps/libta_abstract_la-table_a.Tpo -c tables/table_a.c -o libta_abstract_la-table_a.o >/dev/null 2>&1\n",
            "mv -f .deps/libta_abstract_la-table_a.Tpo .deps/libta_abstract_la-table_a.Plo\n",
            "/bin/bash ../../libtool --tag=CC   --mode=compile gcc -DHAVE_CONFIG_H -I. -I../../include  -I../ta_common/ -Iframes/   -g -O2 -MT libta_abstract_la-table_b.lo -MD -MP -MF .deps/libta_abstract_la-table_b.Tpo -c -o libta_abstract_la-table_b.lo `test -f 'tables/table_b.c' || echo './'`tables/table_b.c\n",
            " gcc -DHAVE_CONFIG_H -I. -I../../include -I../ta_common/ -Iframes/ -g -O2 -MT libta_abstract_la-table_b.lo -MD -MP -MF .deps/libta_abstract_la-table_b.Tpo -c tables/table_b.c  -fPIC -DPIC -o .libs/libta_abstract_la-table_b.o\n",
            " gcc -DHAVE_CONFIG_H -I. -I../../include -I../ta_common/ -Iframes/ -g -O2 -MT libta_abstract_la-table_b.lo -MD -MP -MF .deps/libta_abstract_la-table_b.Tpo -c tables/table_b.c -o libta_abstract_la-table_b.o >/dev/null 2>&1\n",
            "mv -f .deps/libta_abstract_la-table_b.Tpo .deps/libta_abstract_la-table_b.Plo\n",
            "/bin/bash ../../libtool --tag=CC   --mode=compile gcc -DHAVE_CONFIG_H -I. -I../../include  -I../ta_common/ -Iframes/   -g -O2 -MT libta_abstract_la-table_c.lo -MD -MP -MF .deps/libta_abstract_la-table_c.Tpo -c -o libta_abstract_la-table_c.lo `test -f 'tables/table_c.c' || echo './'`tables/table_c.c\n",
            " gcc -DHAVE_CONFIG_H -I. -I../../include -I../ta_common/ -Iframes/ -g -O2 -MT libta_abstract_la-table_c.lo -MD -MP -MF .deps/libta_abstract_la-table_c.Tpo -c tables/table_c.c  -fPIC -DPIC -o .libs/libta_abstract_la-table_c.o\n",
            " gcc -DHAVE_CONFIG_H -I. -I../../include -I../ta_common/ -Iframes/ -g -O2 -MT libta_abstract_la-table_c.lo -MD -MP -MF .deps/libta_abstract_la-table_c.Tpo -c tables/table_c.c -o libta_abstract_la-table_c.o >/dev/null 2>&1\n",
            "mv -f .deps/libta_abstract_la-table_c.Tpo .deps/libta_abstract_la-table_c.Plo\n",
            "/bin/bash ../../libtool --tag=CC   --mode=compile gcc -DHAVE_CONFIG_H -I. -I../../include  -I../ta_common/ -Iframes/   -g -O2 -MT libta_abstract_la-table_d.lo -MD -MP -MF .deps/libta_abstract_la-table_d.Tpo -c -o libta_abstract_la-table_d.lo `test -f 'tables/table_d.c' || echo './'`tables/table_d.c\n",
            " gcc -DHAVE_CONFIG_H -I. -I../../include -I../ta_common/ -Iframes/ -g -O2 -MT libta_abstract_la-table_d.lo -MD -MP -MF .deps/libta_abstract_la-table_d.Tpo -c tables/table_d.c  -fPIC -DPIC -o .libs/libta_abstract_la-table_d.o\n",
            " gcc -DHAVE_CONFIG_H -I. -I../../include -I../ta_common/ -Iframes/ -g -O2 -MT libta_abstract_la-table_d.lo -MD -MP -MF .deps/libta_abstract_la-table_d.Tpo -c tables/table_d.c -o libta_abstract_la-table_d.o >/dev/null 2>&1\n",
            "mv -f .deps/libta_abstract_la-table_d.Tpo .deps/libta_abstract_la-table_d.Plo\n",
            "/bin/bash ../../libtool --tag=CC   --mode=compile gcc -DHAVE_CONFIG_H -I. -I../../include  -I../ta_common/ -Iframes/   -g -O2 -MT libta_abstract_la-table_e.lo -MD -MP -MF .deps/libta_abstract_la-table_e.Tpo -c -o libta_abstract_la-table_e.lo `test -f 'tables/table_e.c' || echo './'`tables/table_e.c\n",
            " gcc -DHAVE_CONFIG_H -I. -I../../include -I../ta_common/ -Iframes/ -g -O2 -MT libta_abstract_la-table_e.lo -MD -MP -MF .deps/libta_abstract_la-table_e.Tpo -c tables/table_e.c  -fPIC -DPIC -o .libs/libta_abstract_la-table_e.o\n",
            " gcc -DHAVE_CONFIG_H -I. -I../../include -I../ta_common/ -Iframes/ -g -O2 -MT libta_abstract_la-table_e.lo -MD -MP -MF .deps/libta_abstract_la-table_e.Tpo -c tables/table_e.c -o libta_abstract_la-table_e.o >/dev/null 2>&1\n",
            "mv -f .deps/libta_abstract_la-table_e.Tpo .deps/libta_abstract_la-table_e.Plo\n",
            "/bin/bash ../../libtool --tag=CC   --mode=compile gcc -DHAVE_CONFIG_H -I. -I../../include  -I../ta_common/ -Iframes/   -g -O2 -MT libta_abstract_la-table_f.lo -MD -MP -MF .deps/libta_abstract_la-table_f.Tpo -c -o libta_abstract_la-table_f.lo `test -f 'tables/table_f.c' || echo './'`tables/table_f.c\n",
            " gcc -DHAVE_CONFIG_H -I. -I../../include -I../ta_common/ -Iframes/ -g -O2 -MT libta_abstract_la-table_f.lo -MD -MP -MF .deps/libta_abstract_la-table_f.Tpo -c tables/table_f.c  -fPIC -DPIC -o .libs/libta_abstract_la-table_f.o\n",
            " gcc -DHAVE_CONFIG_H -I. -I../../include -I../ta_common/ -Iframes/ -g -O2 -MT libta_abstract_la-table_f.lo -MD -MP -MF .deps/libta_abstract_la-table_f.Tpo -c tables/table_f.c -o libta_abstract_la-table_f.o >/dev/null 2>&1\n",
            "mv -f .deps/libta_abstract_la-table_f.Tpo .deps/libta_abstract_la-table_f.Plo\n",
            "/bin/bash ../../libtool --tag=CC   --mode=compile gcc -DHAVE_CONFIG_H -I. -I../../include  -I../ta_common/ -Iframes/   -g -O2 -MT libta_abstract_la-table_g.lo -MD -MP -MF .deps/libta_abstract_la-table_g.Tpo -c -o libta_abstract_la-table_g.lo `test -f 'tables/table_g.c' || echo './'`tables/table_g.c\n",
            " gcc -DHAVE_CONFIG_H -I. -I../../include -I../ta_common/ -Iframes/ -g -O2 -MT libta_abstract_la-table_g.lo -MD -MP -MF .deps/libta_abstract_la-table_g.Tpo -c tables/table_g.c  -fPIC -DPIC -o .libs/libta_abstract_la-table_g.o\n",
            " gcc -DHAVE_CONFIG_H -I. -I../../include -I../ta_common/ -Iframes/ -g -O2 -MT libta_abstract_la-table_g.lo -MD -MP -MF .deps/libta_abstract_la-table_g.Tpo -c tables/table_g.c -o libta_abstract_la-table_g.o >/dev/null 2>&1\n",
            "mv -f .deps/libta_abstract_la-table_g.Tpo .deps/libta_abstract_la-table_g.Plo\n",
            "/bin/bash ../../libtool --tag=CC   --mode=compile gcc -DHAVE_CONFIG_H -I. -I../../include  -I../ta_common/ -Iframes/   -g -O2 -MT libta_abstract_la-table_h.lo -MD -MP -MF .deps/libta_abstract_la-table_h.Tpo -c -o libta_abstract_la-table_h.lo `test -f 'tables/table_h.c' || echo './'`tables/table_h.c\n",
            " gcc -DHAVE_CONFIG_H -I. -I../../include -I../ta_common/ -Iframes/ -g -O2 -MT libta_abstract_la-table_h.lo -MD -MP -MF .deps/libta_abstract_la-table_h.Tpo -c tables/table_h.c  -fPIC -DPIC -o .libs/libta_abstract_la-table_h.o\n",
            " gcc -DHAVE_CONFIG_H -I. -I../../include -I../ta_common/ -Iframes/ -g -O2 -MT libta_abstract_la-table_h.lo -MD -MP -MF .deps/libta_abstract_la-table_h.Tpo -c tables/table_h.c -o libta_abstract_la-table_h.o >/dev/null 2>&1\n",
            "mv -f .deps/libta_abstract_la-table_h.Tpo .deps/libta_abstract_la-table_h.Plo\n",
            "/bin/bash ../../libtool --tag=CC   --mode=compile gcc -DHAVE_CONFIG_H -I. -I../../include  -I../ta_common/ -Iframes/   -g -O2 -MT libta_abstract_la-table_i.lo -MD -MP -MF .deps/libta_abstract_la-table_i.Tpo -c -o libta_abstract_la-table_i.lo `test -f 'tables/table_i.c' || echo './'`tables/table_i.c\n",
            " gcc -DHAVE_CONFIG_H -I. -I../../include -I../ta_common/ -Iframes/ -g -O2 -MT libta_abstract_la-table_i.lo -MD -MP -MF .deps/libta_abstract_la-table_i.Tpo -c tables/table_i.c  -fPIC -DPIC -o .libs/libta_abstract_la-table_i.o\n",
            " gcc -DHAVE_CONFIG_H -I. -I../../include -I../ta_common/ -Iframes/ -g -O2 -MT libta_abstract_la-table_i.lo -MD -MP -MF .deps/libta_abstract_la-table_i.Tpo -c tables/table_i.c -o libta_abstract_la-table_i.o >/dev/null 2>&1\n",
            "mv -f .deps/libta_abstract_la-table_i.Tpo .deps/libta_abstract_la-table_i.Plo\n",
            "/bin/bash ../../libtool --tag=CC   --mode=compile gcc -DHAVE_CONFIG_H -I. -I../../include  -I../ta_common/ -Iframes/   -g -O2 -MT libta_abstract_la-table_j.lo -MD -MP -MF .deps/libta_abstract_la-table_j.Tpo -c -o libta_abstract_la-table_j.lo `test -f 'tables/table_j.c' || echo './'`tables/table_j.c\n",
            " gcc -DHAVE_CONFIG_H -I. -I../../include -I../ta_common/ -Iframes/ -g -O2 -MT libta_abstract_la-table_j.lo -MD -MP -MF .deps/libta_abstract_la-table_j.Tpo -c tables/table_j.c  -fPIC -DPIC -o .libs/libta_abstract_la-table_j.o\n",
            " gcc -DHAVE_CONFIG_H -I. -I../../include -I../ta_common/ -Iframes/ -g -O2 -MT libta_abstract_la-table_j.lo -MD -MP -MF .deps/libta_abstract_la-table_j.Tpo -c tables/table_j.c -o libta_abstract_la-table_j.o >/dev/null 2>&1\n",
            "mv -f .deps/libta_abstract_la-table_j.Tpo .deps/libta_abstract_la-table_j.Plo\n",
            "/bin/bash ../../libtool --tag=CC   --mode=compile gcc -DHAVE_CONFIG_H -I. -I../../include  -I../ta_common/ -Iframes/   -g -O2 -MT libta_abstract_la-table_k.lo -MD -MP -MF .deps/libta_abstract_la-table_k.Tpo -c -o libta_abstract_la-table_k.lo `test -f 'tables/table_k.c' || echo './'`tables/table_k.c\n",
            " gcc -DHAVE_CONFIG_H -I. -I../../include -I../ta_common/ -Iframes/ -g -O2 -MT libta_abstract_la-table_k.lo -MD -MP -MF .deps/libta_abstract_la-table_k.Tpo -c tables/table_k.c  -fPIC -DPIC -o .libs/libta_abstract_la-table_k.o\n",
            " gcc -DHAVE_CONFIG_H -I. -I../../include -I../ta_common/ -Iframes/ -g -O2 -MT libta_abstract_la-table_k.lo -MD -MP -MF .deps/libta_abstract_la-table_k.Tpo -c tables/table_k.c -o libta_abstract_la-table_k.o >/dev/null 2>&1\n",
            "mv -f .deps/libta_abstract_la-table_k.Tpo .deps/libta_abstract_la-table_k.Plo\n",
            "/bin/bash ../../libtool --tag=CC   --mode=compile gcc -DHAVE_CONFIG_H -I. -I../../include  -I../ta_common/ -Iframes/   -g -O2 -MT libta_abstract_la-table_l.lo -MD -MP -MF .deps/libta_abstract_la-table_l.Tpo -c -o libta_abstract_la-table_l.lo `test -f 'tables/table_l.c' || echo './'`tables/table_l.c\n",
            " gcc -DHAVE_CONFIG_H -I. -I../../include -I../ta_common/ -Iframes/ -g -O2 -MT libta_abstract_la-table_l.lo -MD -MP -MF .deps/libta_abstract_la-table_l.Tpo -c tables/table_l.c  -fPIC -DPIC -o .libs/libta_abstract_la-table_l.o\n",
            " gcc -DHAVE_CONFIG_H -I. -I../../include -I../ta_common/ -Iframes/ -g -O2 -MT libta_abstract_la-table_l.lo -MD -MP -MF .deps/libta_abstract_la-table_l.Tpo -c tables/table_l.c -o libta_abstract_la-table_l.o >/dev/null 2>&1\n",
            "mv -f .deps/libta_abstract_la-table_l.Tpo .deps/libta_abstract_la-table_l.Plo\n",
            "/bin/bash ../../libtool --tag=CC   --mode=compile gcc -DHAVE_CONFIG_H -I. -I../../include  -I../ta_common/ -Iframes/   -g -O2 -MT libta_abstract_la-table_m.lo -MD -MP -MF .deps/libta_abstract_la-table_m.Tpo -c -o libta_abstract_la-table_m.lo `test -f 'tables/table_m.c' || echo './'`tables/table_m.c\n",
            " gcc -DHAVE_CONFIG_H -I. -I../../include -I../ta_common/ -Iframes/ -g -O2 -MT libta_abstract_la-table_m.lo -MD -MP -MF .deps/libta_abstract_la-table_m.Tpo -c tables/table_m.c  -fPIC -DPIC -o .libs/libta_abstract_la-table_m.o\n",
            " gcc -DHAVE_CONFIG_H -I. -I../../include -I../ta_common/ -Iframes/ -g -O2 -MT libta_abstract_la-table_m.lo -MD -MP -MF .deps/libta_abstract_la-table_m.Tpo -c tables/table_m.c -o libta_abstract_la-table_m.o >/dev/null 2>&1\n",
            "mv -f .deps/libta_abstract_la-table_m.Tpo .deps/libta_abstract_la-table_m.Plo\n",
            "/bin/bash ../../libtool --tag=CC   --mode=compile gcc -DHAVE_CONFIG_H -I. -I../../include  -I../ta_common/ -Iframes/   -g -O2 -MT libta_abstract_la-table_n.lo -MD -MP -MF .deps/libta_abstract_la-table_n.Tpo -c -o libta_abstract_la-table_n.lo `test -f 'tables/table_n.c' || echo './'`tables/table_n.c\n",
            " gcc -DHAVE_CONFIG_H -I. -I../../include -I../ta_common/ -Iframes/ -g -O2 -MT libta_abstract_la-table_n.lo -MD -MP -MF .deps/libta_abstract_la-table_n.Tpo -c tables/table_n.c  -fPIC -DPIC -o .libs/libta_abstract_la-table_n.o\n",
            " gcc -DHAVE_CONFIG_H -I. -I../../include -I../ta_common/ -Iframes/ -g -O2 -MT libta_abstract_la-table_n.lo -MD -MP -MF .deps/libta_abstract_la-table_n.Tpo -c tables/table_n.c -o libta_abstract_la-table_n.o >/dev/null 2>&1\n",
            "mv -f .deps/libta_abstract_la-table_n.Tpo .deps/libta_abstract_la-table_n.Plo\n",
            "/bin/bash ../../libtool --tag=CC   --mode=compile gcc -DHAVE_CONFIG_H -I. -I../../include  -I../ta_common/ -Iframes/   -g -O2 -MT libta_abstract_la-table_o.lo -MD -MP -MF .deps/libta_abstract_la-table_o.Tpo -c -o libta_abstract_la-table_o.lo `test -f 'tables/table_o.c' || echo './'`tables/table_o.c\n",
            " gcc -DHAVE_CONFIG_H -I. -I../../include -I../ta_common/ -Iframes/ -g -O2 -MT libta_abstract_la-table_o.lo -MD -MP -MF .deps/libta_abstract_la-table_o.Tpo -c tables/table_o.c  -fPIC -DPIC -o .libs/libta_abstract_la-table_o.o\n",
            " gcc -DHAVE_CONFIG_H -I. -I../../include -I../ta_common/ -Iframes/ -g -O2 -MT libta_abstract_la-table_o.lo -MD -MP -MF .deps/libta_abstract_la-table_o.Tpo -c tables/table_o.c -o libta_abstract_la-table_o.o >/dev/null 2>&1\n",
            "mv -f .deps/libta_abstract_la-table_o.Tpo .deps/libta_abstract_la-table_o.Plo\n",
            "/bin/bash ../../libtool --tag=CC   --mode=compile gcc -DHAVE_CONFIG_H -I. -I../../include  -I../ta_common/ -Iframes/   -g -O2 -MT libta_abstract_la-table_p.lo -MD -MP -MF .deps/libta_abstract_la-table_p.Tpo -c -o libta_abstract_la-table_p.lo `test -f 'tables/table_p.c' || echo './'`tables/table_p.c\n",
            " gcc -DHAVE_CONFIG_H -I. -I../../include -I../ta_common/ -Iframes/ -g -O2 -MT libta_abstract_la-table_p.lo -MD -MP -MF .deps/libta_abstract_la-table_p.Tpo -c tables/table_p.c  -fPIC -DPIC -o .libs/libta_abstract_la-table_p.o\n",
            " gcc -DHAVE_CONFIG_H -I. -I../../include -I../ta_common/ -Iframes/ -g -O2 -MT libta_abstract_la-table_p.lo -MD -MP -MF .deps/libta_abstract_la-table_p.Tpo -c tables/table_p.c -o libta_abstract_la-table_p.o >/dev/null 2>&1\n",
            "mv -f .deps/libta_abstract_la-table_p.Tpo .deps/libta_abstract_la-table_p.Plo\n",
            "/bin/bash ../../libtool --tag=CC   --mode=compile gcc -DHAVE_CONFIG_H -I. -I../../include  -I../ta_common/ -Iframes/   -g -O2 -MT libta_abstract_la-table_q.lo -MD -MP -MF .deps/libta_abstract_la-table_q.Tpo -c -o libta_abstract_la-table_q.lo `test -f 'tables/table_q.c' || echo './'`tables/table_q.c\n",
            " gcc -DHAVE_CONFIG_H -I. -I../../include -I../ta_common/ -Iframes/ -g -O2 -MT libta_abstract_la-table_q.lo -MD -MP -MF .deps/libta_abstract_la-table_q.Tpo -c tables/table_q.c  -fPIC -DPIC -o .libs/libta_abstract_la-table_q.o\n",
            " gcc -DHAVE_CONFIG_H -I. -I../../include -I../ta_common/ -Iframes/ -g -O2 -MT libta_abstract_la-table_q.lo -MD -MP -MF .deps/libta_abstract_la-table_q.Tpo -c tables/table_q.c -o libta_abstract_la-table_q.o >/dev/null 2>&1\n",
            "mv -f .deps/libta_abstract_la-table_q.Tpo .deps/libta_abstract_la-table_q.Plo\n",
            "/bin/bash ../../libtool --tag=CC   --mode=compile gcc -DHAVE_CONFIG_H -I. -I../../include  -I../ta_common/ -Iframes/   -g -O2 -MT libta_abstract_la-table_r.lo -MD -MP -MF .deps/libta_abstract_la-table_r.Tpo -c -o libta_abstract_la-table_r.lo `test -f 'tables/table_r.c' || echo './'`tables/table_r.c\n",
            " gcc -DHAVE_CONFIG_H -I. -I../../include -I../ta_common/ -Iframes/ -g -O2 -MT libta_abstract_la-table_r.lo -MD -MP -MF .deps/libta_abstract_la-table_r.Tpo -c tables/table_r.c  -fPIC -DPIC -o .libs/libta_abstract_la-table_r.o\n",
            " gcc -DHAVE_CONFIG_H -I. -I../../include -I../ta_common/ -Iframes/ -g -O2 -MT libta_abstract_la-table_r.lo -MD -MP -MF .deps/libta_abstract_la-table_r.Tpo -c tables/table_r.c -o libta_abstract_la-table_r.o >/dev/null 2>&1\n",
            "mv -f .deps/libta_abstract_la-table_r.Tpo .deps/libta_abstract_la-table_r.Plo\n",
            "/bin/bash ../../libtool --tag=CC   --mode=compile gcc -DHAVE_CONFIG_H -I. -I../../include  -I../ta_common/ -Iframes/   -g -O2 -MT libta_abstract_la-table_s.lo -MD -MP -MF .deps/libta_abstract_la-table_s.Tpo -c -o libta_abstract_la-table_s.lo `test -f 'tables/table_s.c' || echo './'`tables/table_s.c\n",
            " gcc -DHAVE_CONFIG_H -I. -I../../include -I../ta_common/ -Iframes/ -g -O2 -MT libta_abstract_la-table_s.lo -MD -MP -MF .deps/libta_abstract_la-table_s.Tpo -c tables/table_s.c  -fPIC -DPIC -o .libs/libta_abstract_la-table_s.o\n",
            " gcc -DHAVE_CONFIG_H -I. -I../../include -I../ta_common/ -Iframes/ -g -O2 -MT libta_abstract_la-table_s.lo -MD -MP -MF .deps/libta_abstract_la-table_s.Tpo -c tables/table_s.c -o libta_abstract_la-table_s.o >/dev/null 2>&1\n",
            "mv -f .deps/libta_abstract_la-table_s.Tpo .deps/libta_abstract_la-table_s.Plo\n",
            "/bin/bash ../../libtool --tag=CC   --mode=compile gcc -DHAVE_CONFIG_H -I. -I../../include  -I../ta_common/ -Iframes/   -g -O2 -MT libta_abstract_la-table_t.lo -MD -MP -MF .deps/libta_abstract_la-table_t.Tpo -c -o libta_abstract_la-table_t.lo `test -f 'tables/table_t.c' || echo './'`tables/table_t.c\n",
            " gcc -DHAVE_CONFIG_H -I. -I../../include -I../ta_common/ -Iframes/ -g -O2 -MT libta_abstract_la-table_t.lo -MD -MP -MF .deps/libta_abstract_la-table_t.Tpo -c tables/table_t.c  -fPIC -DPIC -o .libs/libta_abstract_la-table_t.o\n",
            " gcc -DHAVE_CONFIG_H -I. -I../../include -I../ta_common/ -Iframes/ -g -O2 -MT libta_abstract_la-table_t.lo -MD -MP -MF .deps/libta_abstract_la-table_t.Tpo -c tables/table_t.c -o libta_abstract_la-table_t.o >/dev/null 2>&1\n",
            "mv -f .deps/libta_abstract_la-table_t.Tpo .deps/libta_abstract_la-table_t.Plo\n",
            "/bin/bash ../../libtool --tag=CC   --mode=compile gcc -DHAVE_CONFIG_H -I. -I../../include  -I../ta_common/ -Iframes/   -g -O2 -MT libta_abstract_la-table_u.lo -MD -MP -MF .deps/libta_abstract_la-table_u.Tpo -c -o libta_abstract_la-table_u.lo `test -f 'tables/table_u.c' || echo './'`tables/table_u.c\n",
            " gcc -DHAVE_CONFIG_H -I. -I../../include -I../ta_common/ -Iframes/ -g -O2 -MT libta_abstract_la-table_u.lo -MD -MP -MF .deps/libta_abstract_la-table_u.Tpo -c tables/table_u.c  -fPIC -DPIC -o .libs/libta_abstract_la-table_u.o\n",
            " gcc -DHAVE_CONFIG_H -I. -I../../include -I../ta_common/ -Iframes/ -g -O2 -MT libta_abstract_la-table_u.lo -MD -MP -MF .deps/libta_abstract_la-table_u.Tpo -c tables/table_u.c -o libta_abstract_la-table_u.o >/dev/null 2>&1\n",
            "mv -f .deps/libta_abstract_la-table_u.Tpo .deps/libta_abstract_la-table_u.Plo\n",
            "/bin/bash ../../libtool --tag=CC   --mode=compile gcc -DHAVE_CONFIG_H -I. -I../../include  -I../ta_common/ -Iframes/   -g -O2 -MT libta_abstract_la-table_v.lo -MD -MP -MF .deps/libta_abstract_la-table_v.Tpo -c -o libta_abstract_la-table_v.lo `test -f 'tables/table_v.c' || echo './'`tables/table_v.c\n",
            " gcc -DHAVE_CONFIG_H -I. -I../../include -I../ta_common/ -Iframes/ -g -O2 -MT libta_abstract_la-table_v.lo -MD -MP -MF .deps/libta_abstract_la-table_v.Tpo -c tables/table_v.c  -fPIC -DPIC -o .libs/libta_abstract_la-table_v.o\n",
            " gcc -DHAVE_CONFIG_H -I. -I../../include -I../ta_common/ -Iframes/ -g -O2 -MT libta_abstract_la-table_v.lo -MD -MP -MF .deps/libta_abstract_la-table_v.Tpo -c tables/table_v.c -o libta_abstract_la-table_v.o >/dev/null 2>&1\n",
            "mv -f .deps/libta_abstract_la-table_v.Tpo .deps/libta_abstract_la-table_v.Plo\n",
            "/bin/bash ../../libtool --tag=CC   --mode=compile gcc -DHAVE_CONFIG_H -I. -I../../include  -I../ta_common/ -Iframes/   -g -O2 -MT libta_abstract_la-table_w.lo -MD -MP -MF .deps/libta_abstract_la-table_w.Tpo -c -o libta_abstract_la-table_w.lo `test -f 'tables/table_w.c' || echo './'`tables/table_w.c\n",
            " gcc -DHAVE_CONFIG_H -I. -I../../include -I../ta_common/ -Iframes/ -g -O2 -MT libta_abstract_la-table_w.lo -MD -MP -MF .deps/libta_abstract_la-table_w.Tpo -c tables/table_w.c  -fPIC -DPIC -o .libs/libta_abstract_la-table_w.o\n",
            " gcc -DHAVE_CONFIG_H -I. -I../../include -I../ta_common/ -Iframes/ -g -O2 -MT libta_abstract_la-table_w.lo -MD -MP -MF .deps/libta_abstract_la-table_w.Tpo -c tables/table_w.c -o libta_abstract_la-table_w.o >/dev/null 2>&1\n",
            "mv -f .deps/libta_abstract_la-table_w.Tpo .deps/libta_abstract_la-table_w.Plo\n",
            "/bin/bash ../../libtool --tag=CC   --mode=compile gcc -DHAVE_CONFIG_H -I. -I../../include  -I../ta_common/ -Iframes/   -g -O2 -MT libta_abstract_la-table_x.lo -MD -MP -MF .deps/libta_abstract_la-table_x.Tpo -c -o libta_abstract_la-table_x.lo `test -f 'tables/table_x.c' || echo './'`tables/table_x.c\n",
            " gcc -DHAVE_CONFIG_H -I. -I../../include -I../ta_common/ -Iframes/ -g -O2 -MT libta_abstract_la-table_x.lo -MD -MP -MF .deps/libta_abstract_la-table_x.Tpo -c tables/table_x.c  -fPIC -DPIC -o .libs/libta_abstract_la-table_x.o\n",
            " gcc -DHAVE_CONFIG_H -I. -I../../include -I../ta_common/ -Iframes/ -g -O2 -MT libta_abstract_la-table_x.lo -MD -MP -MF .deps/libta_abstract_la-table_x.Tpo -c tables/table_x.c -o libta_abstract_la-table_x.o >/dev/null 2>&1\n",
            "mv -f .deps/libta_abstract_la-table_x.Tpo .deps/libta_abstract_la-table_x.Plo\n",
            "/bin/bash ../../libtool --tag=CC   --mode=compile gcc -DHAVE_CONFIG_H -I. -I../../include  -I../ta_common/ -Iframes/   -g -O2 -MT libta_abstract_la-table_y.lo -MD -MP -MF .deps/libta_abstract_la-table_y.Tpo -c -o libta_abstract_la-table_y.lo `test -f 'tables/table_y.c' || echo './'`tables/table_y.c\n",
            " gcc -DHAVE_CONFIG_H -I. -I../../include -I../ta_common/ -Iframes/ -g -O2 -MT libta_abstract_la-table_y.lo -MD -MP -MF .deps/libta_abstract_la-table_y.Tpo -c tables/table_y.c  -fPIC -DPIC -o .libs/libta_abstract_la-table_y.o\n",
            " gcc -DHAVE_CONFIG_H -I. -I../../include -I../ta_common/ -Iframes/ -g -O2 -MT libta_abstract_la-table_y.lo -MD -MP -MF .deps/libta_abstract_la-table_y.Tpo -c tables/table_y.c -o libta_abstract_la-table_y.o >/dev/null 2>&1\n",
            "mv -f .deps/libta_abstract_la-table_y.Tpo .deps/libta_abstract_la-table_y.Plo\n",
            "/bin/bash ../../libtool --tag=CC   --mode=compile gcc -DHAVE_CONFIG_H -I. -I../../include  -I../ta_common/ -Iframes/   -g -O2 -MT libta_abstract_la-table_z.lo -MD -MP -MF .deps/libta_abstract_la-table_z.Tpo -c -o libta_abstract_la-table_z.lo `test -f 'tables/table_z.c' || echo './'`tables/table_z.c\n",
            " gcc -DHAVE_CONFIG_H -I. -I../../include -I../ta_common/ -Iframes/ -g -O2 -MT libta_abstract_la-table_z.lo -MD -MP -MF .deps/libta_abstract_la-table_z.Tpo -c tables/table_z.c  -fPIC -DPIC -o .libs/libta_abstract_la-table_z.o\n",
            " gcc -DHAVE_CONFIG_H -I. -I../../include -I../ta_common/ -Iframes/ -g -O2 -MT libta_abstract_la-table_z.lo -MD -MP -MF .deps/libta_abstract_la-table_z.Tpo -c tables/table_z.c -o libta_abstract_la-table_z.o >/dev/null 2>&1\n",
            "mv -f .deps/libta_abstract_la-table_z.Tpo .deps/libta_abstract_la-table_z.Plo\n",
            "/bin/bash ../../libtool --tag=CC   --mode=link gcc  -g -O2 -version-info 0:0:0  -o libta_abstract.la  libta_abstract_la-ta_group_idx.lo libta_abstract_la-ta_def_ui.lo libta_abstract_la-ta_abstract.lo libta_abstract_la-ta_func_api.lo libta_abstract_la-ta_frame.lo libta_abstract_la-table_a.lo libta_abstract_la-table_b.lo libta_abstract_la-table_c.lo libta_abstract_la-table_d.lo libta_abstract_la-table_e.lo libta_abstract_la-table_f.lo libta_abstract_la-table_g.lo libta_abstract_la-table_h.lo libta_abstract_la-table_i.lo libta_abstract_la-table_j.lo libta_abstract_la-table_k.lo libta_abstract_la-table_l.lo libta_abstract_la-table_m.lo libta_abstract_la-table_n.lo libta_abstract_la-table_o.lo libta_abstract_la-table_p.lo libta_abstract_la-table_q.lo libta_abstract_la-table_r.lo libta_abstract_la-table_s.lo libta_abstract_la-table_t.lo libta_abstract_la-table_u.lo libta_abstract_la-table_v.lo libta_abstract_la-table_w.lo libta_abstract_la-table_x.lo libta_abstract_la-table_y.lo libta_abstract_la-table_z.lo  -lpthread -ldl \n",
            "libtool: link: warning: `-version-info/-version-number' is ignored for convenience libraries\n",
            "ar cru .libs/libta_abstract.a .libs/libta_abstract_la-ta_group_idx.o .libs/libta_abstract_la-ta_def_ui.o .libs/libta_abstract_la-ta_abstract.o .libs/libta_abstract_la-ta_func_api.o .libs/libta_abstract_la-ta_frame.o .libs/libta_abstract_la-table_a.o .libs/libta_abstract_la-table_b.o .libs/libta_abstract_la-table_c.o .libs/libta_abstract_la-table_d.o .libs/libta_abstract_la-table_e.o .libs/libta_abstract_la-table_f.o .libs/libta_abstract_la-table_g.o .libs/libta_abstract_la-table_h.o .libs/libta_abstract_la-table_i.o .libs/libta_abstract_la-table_j.o .libs/libta_abstract_la-table_k.o .libs/libta_abstract_la-table_l.o .libs/libta_abstract_la-table_m.o .libs/libta_abstract_la-table_n.o .libs/libta_abstract_la-table_o.o .libs/libta_abstract_la-table_p.o .libs/libta_abstract_la-table_q.o .libs/libta_abstract_la-table_r.o .libs/libta_abstract_la-table_s.o .libs/libta_abstract_la-table_t.o .libs/libta_abstract_la-table_u.o .libs/libta_abstract_la-table_v.o .libs/libta_abstract_la-table_w.o .libs/libta_abstract_la-table_x.o .libs/libta_abstract_la-table_y.o .libs/libta_abstract_la-table_z.o\n",
            "ar: `u' modifier ignored since `D' is the default (see `U')\n",
            "ranlib .libs/libta_abstract.a\n",
            "creating libta_abstract.la\n",
            "(cd .libs && rm -f libta_abstract.la && ln -s ../libta_abstract.la libta_abstract.la)\n",
            "/bin/bash ../../libtool --tag=CC   --mode=compile gcc -DHAVE_CONFIG_H -I. -I../../include  -DTA_GEN_CODE -I../ta_common/ -Iframes/   -g -O2 -MT libta_abstract_gc_la-ta_group_idx.lo -MD -MP -MF .deps/libta_abstract_gc_la-ta_group_idx.Tpo -c -o libta_abstract_gc_la-ta_group_idx.lo `test -f 'ta_group_idx.c' || echo './'`ta_group_idx.c\n",
            " gcc -DHAVE_CONFIG_H -I. -I../../include -DTA_GEN_CODE -I../ta_common/ -Iframes/ -g -O2 -MT libta_abstract_gc_la-ta_group_idx.lo -MD -MP -MF .deps/libta_abstract_gc_la-ta_group_idx.Tpo -c ta_group_idx.c  -fPIC -DPIC -o .libs/libta_abstract_gc_la-ta_group_idx.o\n",
            " gcc -DHAVE_CONFIG_H -I. -I../../include -DTA_GEN_CODE -I../ta_common/ -Iframes/ -g -O2 -MT libta_abstract_gc_la-ta_group_idx.lo -MD -MP -MF .deps/libta_abstract_gc_la-ta_group_idx.Tpo -c ta_group_idx.c -o libta_abstract_gc_la-ta_group_idx.o >/dev/null 2>&1\n",
            "mv -f .deps/libta_abstract_gc_la-ta_group_idx.Tpo .deps/libta_abstract_gc_la-ta_group_idx.Plo\n",
            "/bin/bash ../../libtool --tag=CC   --mode=compile gcc -DHAVE_CONFIG_H -I. -I../../include  -DTA_GEN_CODE -I../ta_common/ -Iframes/   -g -O2 -MT libta_abstract_gc_la-ta_def_ui.lo -MD -MP -MF .deps/libta_abstract_gc_la-ta_def_ui.Tpo -c -o libta_abstract_gc_la-ta_def_ui.lo `test -f 'ta_def_ui.c' || echo './'`ta_def_ui.c\n",
            " gcc -DHAVE_CONFIG_H -I. -I../../include -DTA_GEN_CODE -I../ta_common/ -Iframes/ -g -O2 -MT libta_abstract_gc_la-ta_def_ui.lo -MD -MP -MF .deps/libta_abstract_gc_la-ta_def_ui.Tpo -c ta_def_ui.c  -fPIC -DPIC -o .libs/libta_abstract_gc_la-ta_def_ui.o\n",
            " gcc -DHAVE_CONFIG_H -I. -I../../include -DTA_GEN_CODE -I../ta_common/ -Iframes/ -g -O2 -MT libta_abstract_gc_la-ta_def_ui.lo -MD -MP -MF .deps/libta_abstract_gc_la-ta_def_ui.Tpo -c ta_def_ui.c -o libta_abstract_gc_la-ta_def_ui.o >/dev/null 2>&1\n",
            "mv -f .deps/libta_abstract_gc_la-ta_def_ui.Tpo .deps/libta_abstract_gc_la-ta_def_ui.Plo\n",
            "/bin/bash ../../libtool --tag=CC   --mode=compile gcc -DHAVE_CONFIG_H -I. -I../../include  -DTA_GEN_CODE -I../ta_common/ -Iframes/   -g -O2 -MT libta_abstract_gc_la-ta_abstract.lo -MD -MP -MF .deps/libta_abstract_gc_la-ta_abstract.Tpo -c -o libta_abstract_gc_la-ta_abstract.lo `test -f 'ta_abstract.c' || echo './'`ta_abstract.c\n",
            " gcc -DHAVE_CONFIG_H -I. -I../../include -DTA_GEN_CODE -I../ta_common/ -Iframes/ -g -O2 -MT libta_abstract_gc_la-ta_abstract.lo -MD -MP -MF .deps/libta_abstract_gc_la-ta_abstract.Tpo -c ta_abstract.c  -fPIC -DPIC -o .libs/libta_abstract_gc_la-ta_abstract.o\n",
            " gcc -DHAVE_CONFIG_H -I. -I../../include -DTA_GEN_CODE -I../ta_common/ -Iframes/ -g -O2 -MT libta_abstract_gc_la-ta_abstract.lo -MD -MP -MF .deps/libta_abstract_gc_la-ta_abstract.Tpo -c ta_abstract.c -o libta_abstract_gc_la-ta_abstract.o >/dev/null 2>&1\n",
            "mv -f .deps/libta_abstract_gc_la-ta_abstract.Tpo .deps/libta_abstract_gc_la-ta_abstract.Plo\n",
            "/bin/bash ../../libtool --tag=CC   --mode=compile gcc -DHAVE_CONFIG_H -I. -I../../include  -DTA_GEN_CODE -I../ta_common/ -Iframes/   -g -O2 -MT libta_abstract_gc_la-ta_func_api.lo -MD -MP -MF .deps/libta_abstract_gc_la-ta_func_api.Tpo -c -o libta_abstract_gc_la-ta_func_api.lo `test -f 'ta_func_api.c' || echo './'`ta_func_api.c\n",
            " gcc -DHAVE_CONFIG_H -I. -I../../include -DTA_GEN_CODE -I../ta_common/ -Iframes/ -g -O2 -MT libta_abstract_gc_la-ta_func_api.lo -MD -MP -MF .deps/libta_abstract_gc_la-ta_func_api.Tpo -c ta_func_api.c  -fPIC -DPIC -o .libs/libta_abstract_gc_la-ta_func_api.o\n",
            " gcc -DHAVE_CONFIG_H -I. -I../../include -DTA_GEN_CODE -I../ta_common/ -Iframes/ -g -O2 -MT libta_abstract_gc_la-ta_func_api.lo -MD -MP -MF .deps/libta_abstract_gc_la-ta_func_api.Tpo -c ta_func_api.c -o libta_abstract_gc_la-ta_func_api.o >/dev/null 2>&1\n",
            "mv -f .deps/libta_abstract_gc_la-ta_func_api.Tpo .deps/libta_abstract_gc_la-ta_func_api.Plo\n",
            "/bin/bash ../../libtool --tag=CC   --mode=compile gcc -DHAVE_CONFIG_H -I. -I../../include  -DTA_GEN_CODE -I../ta_common/ -Iframes/   -g -O2 -MT libta_abstract_gc_la-ta_frame.lo -MD -MP -MF .deps/libta_abstract_gc_la-ta_frame.Tpo -c -o libta_abstract_gc_la-ta_frame.lo `test -f 'frames/ta_frame.c' || echo './'`frames/ta_frame.c\n",
            " gcc -DHAVE_CONFIG_H -I. -I../../include -DTA_GEN_CODE -I../ta_common/ -Iframes/ -g -O2 -MT libta_abstract_gc_la-ta_frame.lo -MD -MP -MF .deps/libta_abstract_gc_la-ta_frame.Tpo -c frames/ta_frame.c  -fPIC -DPIC -o .libs/libta_abstract_gc_la-ta_frame.o\n",
            " gcc -DHAVE_CONFIG_H -I. -I../../include -DTA_GEN_CODE -I../ta_common/ -Iframes/ -g -O2 -MT libta_abstract_gc_la-ta_frame.lo -MD -MP -MF .deps/libta_abstract_gc_la-ta_frame.Tpo -c frames/ta_frame.c -o libta_abstract_gc_la-ta_frame.o >/dev/null 2>&1\n",
            "mv -f .deps/libta_abstract_gc_la-ta_frame.Tpo .deps/libta_abstract_gc_la-ta_frame.Plo\n",
            "/bin/bash ../../libtool --tag=CC   --mode=compile gcc -DHAVE_CONFIG_H -I. -I../../include  -DTA_GEN_CODE -I../ta_common/ -Iframes/   -g -O2 -MT libta_abstract_gc_la-table_a.lo -MD -MP -MF .deps/libta_abstract_gc_la-table_a.Tpo -c -o libta_abstract_gc_la-table_a.lo `test -f 'tables/table_a.c' || echo './'`tables/table_a.c\n",
            " gcc -DHAVE_CONFIG_H -I. -I../../include -DTA_GEN_CODE -I../ta_common/ -Iframes/ -g -O2 -MT libta_abstract_gc_la-table_a.lo -MD -MP -MF .deps/libta_abstract_gc_la-table_a.Tpo -c tables/table_a.c  -fPIC -DPIC -o .libs/libta_abstract_gc_la-table_a.o\n",
            " gcc -DHAVE_CONFIG_H -I. -I../../include -DTA_GEN_CODE -I../ta_common/ -Iframes/ -g -O2 -MT libta_abstract_gc_la-table_a.lo -MD -MP -MF .deps/libta_abstract_gc_la-table_a.Tpo -c tables/table_a.c -o libta_abstract_gc_la-table_a.o >/dev/null 2>&1\n",
            "mv -f .deps/libta_abstract_gc_la-table_a.Tpo .deps/libta_abstract_gc_la-table_a.Plo\n",
            "/bin/bash ../../libtool --tag=CC   --mode=compile gcc -DHAVE_CONFIG_H -I. -I../../include  -DTA_GEN_CODE -I../ta_common/ -Iframes/   -g -O2 -MT libta_abstract_gc_la-table_b.lo -MD -MP -MF .deps/libta_abstract_gc_la-table_b.Tpo -c -o libta_abstract_gc_la-table_b.lo `test -f 'tables/table_b.c' || echo './'`tables/table_b.c\n",
            " gcc -DHAVE_CONFIG_H -I. -I../../include -DTA_GEN_CODE -I../ta_common/ -Iframes/ -g -O2 -MT libta_abstract_gc_la-table_b.lo -MD -MP -MF .deps/libta_abstract_gc_la-table_b.Tpo -c tables/table_b.c  -fPIC -DPIC -o .libs/libta_abstract_gc_la-table_b.o\n",
            " gcc -DHAVE_CONFIG_H -I. -I../../include -DTA_GEN_CODE -I../ta_common/ -Iframes/ -g -O2 -MT libta_abstract_gc_la-table_b.lo -MD -MP -MF .deps/libta_abstract_gc_la-table_b.Tpo -c tables/table_b.c -o libta_abstract_gc_la-table_b.o >/dev/null 2>&1\n",
            "mv -f .deps/libta_abstract_gc_la-table_b.Tpo .deps/libta_abstract_gc_la-table_b.Plo\n",
            "/bin/bash ../../libtool --tag=CC   --mode=compile gcc -DHAVE_CONFIG_H -I. -I../../include  -DTA_GEN_CODE -I../ta_common/ -Iframes/   -g -O2 -MT libta_abstract_gc_la-table_c.lo -MD -MP -MF .deps/libta_abstract_gc_la-table_c.Tpo -c -o libta_abstract_gc_la-table_c.lo `test -f 'tables/table_c.c' || echo './'`tables/table_c.c\n",
            " gcc -DHAVE_CONFIG_H -I. -I../../include -DTA_GEN_CODE -I../ta_common/ -Iframes/ -g -O2 -MT libta_abstract_gc_la-table_c.lo -MD -MP -MF .deps/libta_abstract_gc_la-table_c.Tpo -c tables/table_c.c  -fPIC -DPIC -o .libs/libta_abstract_gc_la-table_c.o\n",
            " gcc -DHAVE_CONFIG_H -I. -I../../include -DTA_GEN_CODE -I../ta_common/ -Iframes/ -g -O2 -MT libta_abstract_gc_la-table_c.lo -MD -MP -MF .deps/libta_abstract_gc_la-table_c.Tpo -c tables/table_c.c -o libta_abstract_gc_la-table_c.o >/dev/null 2>&1\n",
            "mv -f .deps/libta_abstract_gc_la-table_c.Tpo .deps/libta_abstract_gc_la-table_c.Plo\n",
            "/bin/bash ../../libtool --tag=CC   --mode=compile gcc -DHAVE_CONFIG_H -I. -I../../include  -DTA_GEN_CODE -I../ta_common/ -Iframes/   -g -O2 -MT libta_abstract_gc_la-table_d.lo -MD -MP -MF .deps/libta_abstract_gc_la-table_d.Tpo -c -o libta_abstract_gc_la-table_d.lo `test -f 'tables/table_d.c' || echo './'`tables/table_d.c\n",
            " gcc -DHAVE_CONFIG_H -I. -I../../include -DTA_GEN_CODE -I../ta_common/ -Iframes/ -g -O2 -MT libta_abstract_gc_la-table_d.lo -MD -MP -MF .deps/libta_abstract_gc_la-table_d.Tpo -c tables/table_d.c  -fPIC -DPIC -o .libs/libta_abstract_gc_la-table_d.o\n",
            " gcc -DHAVE_CONFIG_H -I. -I../../include -DTA_GEN_CODE -I../ta_common/ -Iframes/ -g -O2 -MT libta_abstract_gc_la-table_d.lo -MD -MP -MF .deps/libta_abstract_gc_la-table_d.Tpo -c tables/table_d.c -o libta_abstract_gc_la-table_d.o >/dev/null 2>&1\n",
            "mv -f .deps/libta_abstract_gc_la-table_d.Tpo .deps/libta_abstract_gc_la-table_d.Plo\n",
            "/bin/bash ../../libtool --tag=CC   --mode=compile gcc -DHAVE_CONFIG_H -I. -I../../include  -DTA_GEN_CODE -I../ta_common/ -Iframes/   -g -O2 -MT libta_abstract_gc_la-table_e.lo -MD -MP -MF .deps/libta_abstract_gc_la-table_e.Tpo -c -o libta_abstract_gc_la-table_e.lo `test -f 'tables/table_e.c' || echo './'`tables/table_e.c\n",
            " gcc -DHAVE_CONFIG_H -I. -I../../include -DTA_GEN_CODE -I../ta_common/ -Iframes/ -g -O2 -MT libta_abstract_gc_la-table_e.lo -MD -MP -MF .deps/libta_abstract_gc_la-table_e.Tpo -c tables/table_e.c  -fPIC -DPIC -o .libs/libta_abstract_gc_la-table_e.o\n",
            " gcc -DHAVE_CONFIG_H -I. -I../../include -DTA_GEN_CODE -I../ta_common/ -Iframes/ -g -O2 -MT libta_abstract_gc_la-table_e.lo -MD -MP -MF .deps/libta_abstract_gc_la-table_e.Tpo -c tables/table_e.c -o libta_abstract_gc_la-table_e.o >/dev/null 2>&1\n",
            "mv -f .deps/libta_abstract_gc_la-table_e.Tpo .deps/libta_abstract_gc_la-table_e.Plo\n",
            "/bin/bash ../../libtool --tag=CC   --mode=compile gcc -DHAVE_CONFIG_H -I. -I../../include  -DTA_GEN_CODE -I../ta_common/ -Iframes/   -g -O2 -MT libta_abstract_gc_la-table_f.lo -MD -MP -MF .deps/libta_abstract_gc_la-table_f.Tpo -c -o libta_abstract_gc_la-table_f.lo `test -f 'tables/table_f.c' || echo './'`tables/table_f.c\n",
            " gcc -DHAVE_CONFIG_H -I. -I../../include -DTA_GEN_CODE -I../ta_common/ -Iframes/ -g -O2 -MT libta_abstract_gc_la-table_f.lo -MD -MP -MF .deps/libta_abstract_gc_la-table_f.Tpo -c tables/table_f.c  -fPIC -DPIC -o .libs/libta_abstract_gc_la-table_f.o\n",
            " gcc -DHAVE_CONFIG_H -I. -I../../include -DTA_GEN_CODE -I../ta_common/ -Iframes/ -g -O2 -MT libta_abstract_gc_la-table_f.lo -MD -MP -MF .deps/libta_abstract_gc_la-table_f.Tpo -c tables/table_f.c -o libta_abstract_gc_la-table_f.o >/dev/null 2>&1\n",
            "mv -f .deps/libta_abstract_gc_la-table_f.Tpo .deps/libta_abstract_gc_la-table_f.Plo\n",
            "/bin/bash ../../libtool --tag=CC   --mode=compile gcc -DHAVE_CONFIG_H -I. -I../../include  -DTA_GEN_CODE -I../ta_common/ -Iframes/   -g -O2 -MT libta_abstract_gc_la-table_g.lo -MD -MP -MF .deps/libta_abstract_gc_la-table_g.Tpo -c -o libta_abstract_gc_la-table_g.lo `test -f 'tables/table_g.c' || echo './'`tables/table_g.c\n",
            " gcc -DHAVE_CONFIG_H -I. -I../../include -DTA_GEN_CODE -I../ta_common/ -Iframes/ -g -O2 -MT libta_abstract_gc_la-table_g.lo -MD -MP -MF .deps/libta_abstract_gc_la-table_g.Tpo -c tables/table_g.c  -fPIC -DPIC -o .libs/libta_abstract_gc_la-table_g.o\n",
            " gcc -DHAVE_CONFIG_H -I. -I../../include -DTA_GEN_CODE -I../ta_common/ -Iframes/ -g -O2 -MT libta_abstract_gc_la-table_g.lo -MD -MP -MF .deps/libta_abstract_gc_la-table_g.Tpo -c tables/table_g.c -o libta_abstract_gc_la-table_g.o >/dev/null 2>&1\n",
            "mv -f .deps/libta_abstract_gc_la-table_g.Tpo .deps/libta_abstract_gc_la-table_g.Plo\n",
            "/bin/bash ../../libtool --tag=CC   --mode=compile gcc -DHAVE_CONFIG_H -I. -I../../include  -DTA_GEN_CODE -I../ta_common/ -Iframes/   -g -O2 -MT libta_abstract_gc_la-table_h.lo -MD -MP -MF .deps/libta_abstract_gc_la-table_h.Tpo -c -o libta_abstract_gc_la-table_h.lo `test -f 'tables/table_h.c' || echo './'`tables/table_h.c\n",
            " gcc -DHAVE_CONFIG_H -I. -I../../include -DTA_GEN_CODE -I../ta_common/ -Iframes/ -g -O2 -MT libta_abstract_gc_la-table_h.lo -MD -MP -MF .deps/libta_abstract_gc_la-table_h.Tpo -c tables/table_h.c  -fPIC -DPIC -o .libs/libta_abstract_gc_la-table_h.o\n",
            " gcc -DHAVE_CONFIG_H -I. -I../../include -DTA_GEN_CODE -I../ta_common/ -Iframes/ -g -O2 -MT libta_abstract_gc_la-table_h.lo -MD -MP -MF .deps/libta_abstract_gc_la-table_h.Tpo -c tables/table_h.c -o libta_abstract_gc_la-table_h.o >/dev/null 2>&1\n",
            "mv -f .deps/libta_abstract_gc_la-table_h.Tpo .deps/libta_abstract_gc_la-table_h.Plo\n",
            "/bin/bash ../../libtool --tag=CC   --mode=compile gcc -DHAVE_CONFIG_H -I. -I../../include  -DTA_GEN_CODE -I../ta_common/ -Iframes/   -g -O2 -MT libta_abstract_gc_la-table_i.lo -MD -MP -MF .deps/libta_abstract_gc_la-table_i.Tpo -c -o libta_abstract_gc_la-table_i.lo `test -f 'tables/table_i.c' || echo './'`tables/table_i.c\n",
            " gcc -DHAVE_CONFIG_H -I. -I../../include -DTA_GEN_CODE -I../ta_common/ -Iframes/ -g -O2 -MT libta_abstract_gc_la-table_i.lo -MD -MP -MF .deps/libta_abstract_gc_la-table_i.Tpo -c tables/table_i.c  -fPIC -DPIC -o .libs/libta_abstract_gc_la-table_i.o\n",
            " gcc -DHAVE_CONFIG_H -I. -I../../include -DTA_GEN_CODE -I../ta_common/ -Iframes/ -g -O2 -MT libta_abstract_gc_la-table_i.lo -MD -MP -MF .deps/libta_abstract_gc_la-table_i.Tpo -c tables/table_i.c -o libta_abstract_gc_la-table_i.o >/dev/null 2>&1\n",
            "mv -f .deps/libta_abstract_gc_la-table_i.Tpo .deps/libta_abstract_gc_la-table_i.Plo\n",
            "/bin/bash ../../libtool --tag=CC   --mode=compile gcc -DHAVE_CONFIG_H -I. -I../../include  -DTA_GEN_CODE -I../ta_common/ -Iframes/   -g -O2 -MT libta_abstract_gc_la-table_j.lo -MD -MP -MF .deps/libta_abstract_gc_la-table_j.Tpo -c -o libta_abstract_gc_la-table_j.lo `test -f 'tables/table_j.c' || echo './'`tables/table_j.c\n",
            " gcc -DHAVE_CONFIG_H -I. -I../../include -DTA_GEN_CODE -I../ta_common/ -Iframes/ -g -O2 -MT libta_abstract_gc_la-table_j.lo -MD -MP -MF .deps/libta_abstract_gc_la-table_j.Tpo -c tables/table_j.c  -fPIC -DPIC -o .libs/libta_abstract_gc_la-table_j.o\n",
            " gcc -DHAVE_CONFIG_H -I. -I../../include -DTA_GEN_CODE -I../ta_common/ -Iframes/ -g -O2 -MT libta_abstract_gc_la-table_j.lo -MD -MP -MF .deps/libta_abstract_gc_la-table_j.Tpo -c tables/table_j.c -o libta_abstract_gc_la-table_j.o >/dev/null 2>&1\n",
            "mv -f .deps/libta_abstract_gc_la-table_j.Tpo .deps/libta_abstract_gc_la-table_j.Plo\n",
            "/bin/bash ../../libtool --tag=CC   --mode=compile gcc -DHAVE_CONFIG_H -I. -I../../include  -DTA_GEN_CODE -I../ta_common/ -Iframes/   -g -O2 -MT libta_abstract_gc_la-table_k.lo -MD -MP -MF .deps/libta_abstract_gc_la-table_k.Tpo -c -o libta_abstract_gc_la-table_k.lo `test -f 'tables/table_k.c' || echo './'`tables/table_k.c\n",
            " gcc -DHAVE_CONFIG_H -I. -I../../include -DTA_GEN_CODE -I../ta_common/ -Iframes/ -g -O2 -MT libta_abstract_gc_la-table_k.lo -MD -MP -MF .deps/libta_abstract_gc_la-table_k.Tpo -c tables/table_k.c  -fPIC -DPIC -o .libs/libta_abstract_gc_la-table_k.o\n",
            " gcc -DHAVE_CONFIG_H -I. -I../../include -DTA_GEN_CODE -I../ta_common/ -Iframes/ -g -O2 -MT libta_abstract_gc_la-table_k.lo -MD -MP -MF .deps/libta_abstract_gc_la-table_k.Tpo -c tables/table_k.c -o libta_abstract_gc_la-table_k.o >/dev/null 2>&1\n",
            "mv -f .deps/libta_abstract_gc_la-table_k.Tpo .deps/libta_abstract_gc_la-table_k.Plo\n",
            "/bin/bash ../../libtool --tag=CC   --mode=compile gcc -DHAVE_CONFIG_H -I. -I../../include  -DTA_GEN_CODE -I../ta_common/ -Iframes/   -g -O2 -MT libta_abstract_gc_la-table_l.lo -MD -MP -MF .deps/libta_abstract_gc_la-table_l.Tpo -c -o libta_abstract_gc_la-table_l.lo `test -f 'tables/table_l.c' || echo './'`tables/table_l.c\n",
            " gcc -DHAVE_CONFIG_H -I. -I../../include -DTA_GEN_CODE -I../ta_common/ -Iframes/ -g -O2 -MT libta_abstract_gc_la-table_l.lo -MD -MP -MF .deps/libta_abstract_gc_la-table_l.Tpo -c tables/table_l.c  -fPIC -DPIC -o .libs/libta_abstract_gc_la-table_l.o\n",
            " gcc -DHAVE_CONFIG_H -I. -I../../include -DTA_GEN_CODE -I../ta_common/ -Iframes/ -g -O2 -MT libta_abstract_gc_la-table_l.lo -MD -MP -MF .deps/libta_abstract_gc_la-table_l.Tpo -c tables/table_l.c -o libta_abstract_gc_la-table_l.o >/dev/null 2>&1\n",
            "mv -f .deps/libta_abstract_gc_la-table_l.Tpo .deps/libta_abstract_gc_la-table_l.Plo\n",
            "/bin/bash ../../libtool --tag=CC   --mode=compile gcc -DHAVE_CONFIG_H -I. -I../../include  -DTA_GEN_CODE -I../ta_common/ -Iframes/   -g -O2 -MT libta_abstract_gc_la-table_m.lo -MD -MP -MF .deps/libta_abstract_gc_la-table_m.Tpo -c -o libta_abstract_gc_la-table_m.lo `test -f 'tables/table_m.c' || echo './'`tables/table_m.c\n",
            " gcc -DHAVE_CONFIG_H -I. -I../../include -DTA_GEN_CODE -I../ta_common/ -Iframes/ -g -O2 -MT libta_abstract_gc_la-table_m.lo -MD -MP -MF .deps/libta_abstract_gc_la-table_m.Tpo -c tables/table_m.c  -fPIC -DPIC -o .libs/libta_abstract_gc_la-table_m.o\n",
            " gcc -DHAVE_CONFIG_H -I. -I../../include -DTA_GEN_CODE -I../ta_common/ -Iframes/ -g -O2 -MT libta_abstract_gc_la-table_m.lo -MD -MP -MF .deps/libta_abstract_gc_la-table_m.Tpo -c tables/table_m.c -o libta_abstract_gc_la-table_m.o >/dev/null 2>&1\n",
            "mv -f .deps/libta_abstract_gc_la-table_m.Tpo .deps/libta_abstract_gc_la-table_m.Plo\n",
            "/bin/bash ../../libtool --tag=CC   --mode=compile gcc -DHAVE_CONFIG_H -I. -I../../include  -DTA_GEN_CODE -I../ta_common/ -Iframes/   -g -O2 -MT libta_abstract_gc_la-table_n.lo -MD -MP -MF .deps/libta_abstract_gc_la-table_n.Tpo -c -o libta_abstract_gc_la-table_n.lo `test -f 'tables/table_n.c' || echo './'`tables/table_n.c\n",
            " gcc -DHAVE_CONFIG_H -I. -I../../include -DTA_GEN_CODE -I../ta_common/ -Iframes/ -g -O2 -MT libta_abstract_gc_la-table_n.lo -MD -MP -MF .deps/libta_abstract_gc_la-table_n.Tpo -c tables/table_n.c  -fPIC -DPIC -o .libs/libta_abstract_gc_la-table_n.o\n",
            " gcc -DHAVE_CONFIG_H -I. -I../../include -DTA_GEN_CODE -I../ta_common/ -Iframes/ -g -O2 -MT libta_abstract_gc_la-table_n.lo -MD -MP -MF .deps/libta_abstract_gc_la-table_n.Tpo -c tables/table_n.c -o libta_abstract_gc_la-table_n.o >/dev/null 2>&1\n",
            "mv -f .deps/libta_abstract_gc_la-table_n.Tpo .deps/libta_abstract_gc_la-table_n.Plo\n",
            "/bin/bash ../../libtool --tag=CC   --mode=compile gcc -DHAVE_CONFIG_H -I. -I../../include  -DTA_GEN_CODE -I../ta_common/ -Iframes/   -g -O2 -MT libta_abstract_gc_la-table_o.lo -MD -MP -MF .deps/libta_abstract_gc_la-table_o.Tpo -c -o libta_abstract_gc_la-table_o.lo `test -f 'tables/table_o.c' || echo './'`tables/table_o.c\n",
            " gcc -DHAVE_CONFIG_H -I. -I../../include -DTA_GEN_CODE -I../ta_common/ -Iframes/ -g -O2 -MT libta_abstract_gc_la-table_o.lo -MD -MP -MF .deps/libta_abstract_gc_la-table_o.Tpo -c tables/table_o.c  -fPIC -DPIC -o .libs/libta_abstract_gc_la-table_o.o\n",
            " gcc -DHAVE_CONFIG_H -I. -I../../include -DTA_GEN_CODE -I../ta_common/ -Iframes/ -g -O2 -MT libta_abstract_gc_la-table_o.lo -MD -MP -MF .deps/libta_abstract_gc_la-table_o.Tpo -c tables/table_o.c -o libta_abstract_gc_la-table_o.o >/dev/null 2>&1\n",
            "mv -f .deps/libta_abstract_gc_la-table_o.Tpo .deps/libta_abstract_gc_la-table_o.Plo\n",
            "/bin/bash ../../libtool --tag=CC   --mode=compile gcc -DHAVE_CONFIG_H -I. -I../../include  -DTA_GEN_CODE -I../ta_common/ -Iframes/   -g -O2 -MT libta_abstract_gc_la-table_p.lo -MD -MP -MF .deps/libta_abstract_gc_la-table_p.Tpo -c -o libta_abstract_gc_la-table_p.lo `test -f 'tables/table_p.c' || echo './'`tables/table_p.c\n",
            " gcc -DHAVE_CONFIG_H -I. -I../../include -DTA_GEN_CODE -I../ta_common/ -Iframes/ -g -O2 -MT libta_abstract_gc_la-table_p.lo -MD -MP -MF .deps/libta_abstract_gc_la-table_p.Tpo -c tables/table_p.c  -fPIC -DPIC -o .libs/libta_abstract_gc_la-table_p.o\n",
            " gcc -DHAVE_CONFIG_H -I. -I../../include -DTA_GEN_CODE -I../ta_common/ -Iframes/ -g -O2 -MT libta_abstract_gc_la-table_p.lo -MD -MP -MF .deps/libta_abstract_gc_la-table_p.Tpo -c tables/table_p.c -o libta_abstract_gc_la-table_p.o >/dev/null 2>&1\n",
            "mv -f .deps/libta_abstract_gc_la-table_p.Tpo .deps/libta_abstract_gc_la-table_p.Plo\n",
            "/bin/bash ../../libtool --tag=CC   --mode=compile gcc -DHAVE_CONFIG_H -I. -I../../include  -DTA_GEN_CODE -I../ta_common/ -Iframes/   -g -O2 -MT libta_abstract_gc_la-table_q.lo -MD -MP -MF .deps/libta_abstract_gc_la-table_q.Tpo -c -o libta_abstract_gc_la-table_q.lo `test -f 'tables/table_q.c' || echo './'`tables/table_q.c\n",
            " gcc -DHAVE_CONFIG_H -I. -I../../include -DTA_GEN_CODE -I../ta_common/ -Iframes/ -g -O2 -MT libta_abstract_gc_la-table_q.lo -MD -MP -MF .deps/libta_abstract_gc_la-table_q.Tpo -c tables/table_q.c  -fPIC -DPIC -o .libs/libta_abstract_gc_la-table_q.o\n",
            " gcc -DHAVE_CONFIG_H -I. -I../../include -DTA_GEN_CODE -I../ta_common/ -Iframes/ -g -O2 -MT libta_abstract_gc_la-table_q.lo -MD -MP -MF .deps/libta_abstract_gc_la-table_q.Tpo -c tables/table_q.c -o libta_abstract_gc_la-table_q.o >/dev/null 2>&1\n",
            "mv -f .deps/libta_abstract_gc_la-table_q.Tpo .deps/libta_abstract_gc_la-table_q.Plo\n",
            "/bin/bash ../../libtool --tag=CC   --mode=compile gcc -DHAVE_CONFIG_H -I. -I../../include  -DTA_GEN_CODE -I../ta_common/ -Iframes/   -g -O2 -MT libta_abstract_gc_la-table_r.lo -MD -MP -MF .deps/libta_abstract_gc_la-table_r.Tpo -c -o libta_abstract_gc_la-table_r.lo `test -f 'tables/table_r.c' || echo './'`tables/table_r.c\n",
            " gcc -DHAVE_CONFIG_H -I. -I../../include -DTA_GEN_CODE -I../ta_common/ -Iframes/ -g -O2 -MT libta_abstract_gc_la-table_r.lo -MD -MP -MF .deps/libta_abstract_gc_la-table_r.Tpo -c tables/table_r.c  -fPIC -DPIC -o .libs/libta_abstract_gc_la-table_r.o\n",
            " gcc -DHAVE_CONFIG_H -I. -I../../include -DTA_GEN_CODE -I../ta_common/ -Iframes/ -g -O2 -MT libta_abstract_gc_la-table_r.lo -MD -MP -MF .deps/libta_abstract_gc_la-table_r.Tpo -c tables/table_r.c -o libta_abstract_gc_la-table_r.o >/dev/null 2>&1\n",
            "mv -f .deps/libta_abstract_gc_la-table_r.Tpo .deps/libta_abstract_gc_la-table_r.Plo\n",
            "/bin/bash ../../libtool --tag=CC   --mode=compile gcc -DHAVE_CONFIG_H -I. -I../../include  -DTA_GEN_CODE -I../ta_common/ -Iframes/   -g -O2 -MT libta_abstract_gc_la-table_s.lo -MD -MP -MF .deps/libta_abstract_gc_la-table_s.Tpo -c -o libta_abstract_gc_la-table_s.lo `test -f 'tables/table_s.c' || echo './'`tables/table_s.c\n",
            " gcc -DHAVE_CONFIG_H -I. -I../../include -DTA_GEN_CODE -I../ta_common/ -Iframes/ -g -O2 -MT libta_abstract_gc_la-table_s.lo -MD -MP -MF .deps/libta_abstract_gc_la-table_s.Tpo -c tables/table_s.c  -fPIC -DPIC -o .libs/libta_abstract_gc_la-table_s.o\n",
            " gcc -DHAVE_CONFIG_H -I. -I../../include -DTA_GEN_CODE -I../ta_common/ -Iframes/ -g -O2 -MT libta_abstract_gc_la-table_s.lo -MD -MP -MF .deps/libta_abstract_gc_la-table_s.Tpo -c tables/table_s.c -o libta_abstract_gc_la-table_s.o >/dev/null 2>&1\n",
            "mv -f .deps/libta_abstract_gc_la-table_s.Tpo .deps/libta_abstract_gc_la-table_s.Plo\n",
            "/bin/bash ../../libtool --tag=CC   --mode=compile gcc -DHAVE_CONFIG_H -I. -I../../include  -DTA_GEN_CODE -I../ta_common/ -Iframes/   -g -O2 -MT libta_abstract_gc_la-table_t.lo -MD -MP -MF .deps/libta_abstract_gc_la-table_t.Tpo -c -o libta_abstract_gc_la-table_t.lo `test -f 'tables/table_t.c' || echo './'`tables/table_t.c\n",
            " gcc -DHAVE_CONFIG_H -I. -I../../include -DTA_GEN_CODE -I../ta_common/ -Iframes/ -g -O2 -MT libta_abstract_gc_la-table_t.lo -MD -MP -MF .deps/libta_abstract_gc_la-table_t.Tpo -c tables/table_t.c  -fPIC -DPIC -o .libs/libta_abstract_gc_la-table_t.o\n",
            " gcc -DHAVE_CONFIG_H -I. -I../../include -DTA_GEN_CODE -I../ta_common/ -Iframes/ -g -O2 -MT libta_abstract_gc_la-table_t.lo -MD -MP -MF .deps/libta_abstract_gc_la-table_t.Tpo -c tables/table_t.c -o libta_abstract_gc_la-table_t.o >/dev/null 2>&1\n",
            "mv -f .deps/libta_abstract_gc_la-table_t.Tpo .deps/libta_abstract_gc_la-table_t.Plo\n",
            "/bin/bash ../../libtool --tag=CC   --mode=compile gcc -DHAVE_CONFIG_H -I. -I../../include  -DTA_GEN_CODE -I../ta_common/ -Iframes/   -g -O2 -MT libta_abstract_gc_la-table_u.lo -MD -MP -MF .deps/libta_abstract_gc_la-table_u.Tpo -c -o libta_abstract_gc_la-table_u.lo `test -f 'tables/table_u.c' || echo './'`tables/table_u.c\n",
            " gcc -DHAVE_CONFIG_H -I. -I../../include -DTA_GEN_CODE -I../ta_common/ -Iframes/ -g -O2 -MT libta_abstract_gc_la-table_u.lo -MD -MP -MF .deps/libta_abstract_gc_la-table_u.Tpo -c tables/table_u.c  -fPIC -DPIC -o .libs/libta_abstract_gc_la-table_u.o\n",
            " gcc -DHAVE_CONFIG_H -I. -I../../include -DTA_GEN_CODE -I../ta_common/ -Iframes/ -g -O2 -MT libta_abstract_gc_la-table_u.lo -MD -MP -MF .deps/libta_abstract_gc_la-table_u.Tpo -c tables/table_u.c -o libta_abstract_gc_la-table_u.o >/dev/null 2>&1\n",
            "mv -f .deps/libta_abstract_gc_la-table_u.Tpo .deps/libta_abstract_gc_la-table_u.Plo\n",
            "/bin/bash ../../libtool --tag=CC   --mode=compile gcc -DHAVE_CONFIG_H -I. -I../../include  -DTA_GEN_CODE -I../ta_common/ -Iframes/   -g -O2 -MT libta_abstract_gc_la-table_v.lo -MD -MP -MF .deps/libta_abstract_gc_la-table_v.Tpo -c -o libta_abstract_gc_la-table_v.lo `test -f 'tables/table_v.c' || echo './'`tables/table_v.c\n",
            " gcc -DHAVE_CONFIG_H -I. -I../../include -DTA_GEN_CODE -I../ta_common/ -Iframes/ -g -O2 -MT libta_abstract_gc_la-table_v.lo -MD -MP -MF .deps/libta_abstract_gc_la-table_v.Tpo -c tables/table_v.c  -fPIC -DPIC -o .libs/libta_abstract_gc_la-table_v.o\n",
            " gcc -DHAVE_CONFIG_H -I. -I../../include -DTA_GEN_CODE -I../ta_common/ -Iframes/ -g -O2 -MT libta_abstract_gc_la-table_v.lo -MD -MP -MF .deps/libta_abstract_gc_la-table_v.Tpo -c tables/table_v.c -o libta_abstract_gc_la-table_v.o >/dev/null 2>&1\n",
            "mv -f .deps/libta_abstract_gc_la-table_v.Tpo .deps/libta_abstract_gc_la-table_v.Plo\n",
            "/bin/bash ../../libtool --tag=CC   --mode=compile gcc -DHAVE_CONFIG_H -I. -I../../include  -DTA_GEN_CODE -I../ta_common/ -Iframes/   -g -O2 -MT libta_abstract_gc_la-table_w.lo -MD -MP -MF .deps/libta_abstract_gc_la-table_w.Tpo -c -o libta_abstract_gc_la-table_w.lo `test -f 'tables/table_w.c' || echo './'`tables/table_w.c\n",
            " gcc -DHAVE_CONFIG_H -I. -I../../include -DTA_GEN_CODE -I../ta_common/ -Iframes/ -g -O2 -MT libta_abstract_gc_la-table_w.lo -MD -MP -MF .deps/libta_abstract_gc_la-table_w.Tpo -c tables/table_w.c  -fPIC -DPIC -o .libs/libta_abstract_gc_la-table_w.o\n",
            " gcc -DHAVE_CONFIG_H -I. -I../../include -DTA_GEN_CODE -I../ta_common/ -Iframes/ -g -O2 -MT libta_abstract_gc_la-table_w.lo -MD -MP -MF .deps/libta_abstract_gc_la-table_w.Tpo -c tables/table_w.c -o libta_abstract_gc_la-table_w.o >/dev/null 2>&1\n",
            "mv -f .deps/libta_abstract_gc_la-table_w.Tpo .deps/libta_abstract_gc_la-table_w.Plo\n",
            "/bin/bash ../../libtool --tag=CC   --mode=compile gcc -DHAVE_CONFIG_H -I. -I../../include  -DTA_GEN_CODE -I../ta_common/ -Iframes/   -g -O2 -MT libta_abstract_gc_la-table_x.lo -MD -MP -MF .deps/libta_abstract_gc_la-table_x.Tpo -c -o libta_abstract_gc_la-table_x.lo `test -f 'tables/table_x.c' || echo './'`tables/table_x.c\n",
            " gcc -DHAVE_CONFIG_H -I. -I../../include -DTA_GEN_CODE -I../ta_common/ -Iframes/ -g -O2 -MT libta_abstract_gc_la-table_x.lo -MD -MP -MF .deps/libta_abstract_gc_la-table_x.Tpo -c tables/table_x.c  -fPIC -DPIC -o .libs/libta_abstract_gc_la-table_x.o\n",
            " gcc -DHAVE_CONFIG_H -I. -I../../include -DTA_GEN_CODE -I../ta_common/ -Iframes/ -g -O2 -MT libta_abstract_gc_la-table_x.lo -MD -MP -MF .deps/libta_abstract_gc_la-table_x.Tpo -c tables/table_x.c -o libta_abstract_gc_la-table_x.o >/dev/null 2>&1\n",
            "mv -f .deps/libta_abstract_gc_la-table_x.Tpo .deps/libta_abstract_gc_la-table_x.Plo\n",
            "/bin/bash ../../libtool --tag=CC   --mode=compile gcc -DHAVE_CONFIG_H -I. -I../../include  -DTA_GEN_CODE -I../ta_common/ -Iframes/   -g -O2 -MT libta_abstract_gc_la-table_y.lo -MD -MP -MF .deps/libta_abstract_gc_la-table_y.Tpo -c -o libta_abstract_gc_la-table_y.lo `test -f 'tables/table_y.c' || echo './'`tables/table_y.c\n",
            " gcc -DHAVE_CONFIG_H -I. -I../../include -DTA_GEN_CODE -I../ta_common/ -Iframes/ -g -O2 -MT libta_abstract_gc_la-table_y.lo -MD -MP -MF .deps/libta_abstract_gc_la-table_y.Tpo -c tables/table_y.c  -fPIC -DPIC -o .libs/libta_abstract_gc_la-table_y.o\n",
            " gcc -DHAVE_CONFIG_H -I. -I../../include -DTA_GEN_CODE -I../ta_common/ -Iframes/ -g -O2 -MT libta_abstract_gc_la-table_y.lo -MD -MP -MF .deps/libta_abstract_gc_la-table_y.Tpo -c tables/table_y.c -o libta_abstract_gc_la-table_y.o >/dev/null 2>&1\n",
            "mv -f .deps/libta_abstract_gc_la-table_y.Tpo .deps/libta_abstract_gc_la-table_y.Plo\n",
            "/bin/bash ../../libtool --tag=CC   --mode=compile gcc -DHAVE_CONFIG_H -I. -I../../include  -DTA_GEN_CODE -I../ta_common/ -Iframes/   -g -O2 -MT libta_abstract_gc_la-table_z.lo -MD -MP -MF .deps/libta_abstract_gc_la-table_z.Tpo -c -o libta_abstract_gc_la-table_z.lo `test -f 'tables/table_z.c' || echo './'`tables/table_z.c\n",
            " gcc -DHAVE_CONFIG_H -I. -I../../include -DTA_GEN_CODE -I../ta_common/ -Iframes/ -g -O2 -MT libta_abstract_gc_la-table_z.lo -MD -MP -MF .deps/libta_abstract_gc_la-table_z.Tpo -c tables/table_z.c  -fPIC -DPIC -o .libs/libta_abstract_gc_la-table_z.o\n",
            " gcc -DHAVE_CONFIG_H -I. -I../../include -DTA_GEN_CODE -I../ta_common/ -Iframes/ -g -O2 -MT libta_abstract_gc_la-table_z.lo -MD -MP -MF .deps/libta_abstract_gc_la-table_z.Tpo -c tables/table_z.c -o libta_abstract_gc_la-table_z.o >/dev/null 2>&1\n",
            "mv -f .deps/libta_abstract_gc_la-table_z.Tpo .deps/libta_abstract_gc_la-table_z.Plo\n",
            "/bin/bash ../../libtool --tag=CC   --mode=link gcc  -g -O2 -version-info 0:0:0  -o libta_abstract_gc.la  libta_abstract_gc_la-ta_group_idx.lo libta_abstract_gc_la-ta_def_ui.lo libta_abstract_gc_la-ta_abstract.lo libta_abstract_gc_la-ta_func_api.lo libta_abstract_gc_la-ta_frame.lo libta_abstract_gc_la-table_a.lo libta_abstract_gc_la-table_b.lo libta_abstract_gc_la-table_c.lo libta_abstract_gc_la-table_d.lo libta_abstract_gc_la-table_e.lo libta_abstract_gc_la-table_f.lo libta_abstract_gc_la-table_g.lo libta_abstract_gc_la-table_h.lo libta_abstract_gc_la-table_i.lo libta_abstract_gc_la-table_j.lo libta_abstract_gc_la-table_k.lo libta_abstract_gc_la-table_l.lo libta_abstract_gc_la-table_m.lo libta_abstract_gc_la-table_n.lo libta_abstract_gc_la-table_o.lo libta_abstract_gc_la-table_p.lo libta_abstract_gc_la-table_q.lo libta_abstract_gc_la-table_r.lo libta_abstract_gc_la-table_s.lo libta_abstract_gc_la-table_t.lo libta_abstract_gc_la-table_u.lo libta_abstract_gc_la-table_v.lo libta_abstract_gc_la-table_w.lo libta_abstract_gc_la-table_x.lo libta_abstract_gc_la-table_y.lo libta_abstract_gc_la-table_z.lo  -lpthread -ldl \n",
            "libtool: link: warning: `-version-info/-version-number' is ignored for convenience libraries\n",
            "ar cru .libs/libta_abstract_gc.a .libs/libta_abstract_gc_la-ta_group_idx.o .libs/libta_abstract_gc_la-ta_def_ui.o .libs/libta_abstract_gc_la-ta_abstract.o .libs/libta_abstract_gc_la-ta_func_api.o .libs/libta_abstract_gc_la-ta_frame.o .libs/libta_abstract_gc_la-table_a.o .libs/libta_abstract_gc_la-table_b.o .libs/libta_abstract_gc_la-table_c.o .libs/libta_abstract_gc_la-table_d.o .libs/libta_abstract_gc_la-table_e.o .libs/libta_abstract_gc_la-table_f.o .libs/libta_abstract_gc_la-table_g.o .libs/libta_abstract_gc_la-table_h.o .libs/libta_abstract_gc_la-table_i.o .libs/libta_abstract_gc_la-table_j.o .libs/libta_abstract_gc_la-table_k.o .libs/libta_abstract_gc_la-table_l.o .libs/libta_abstract_gc_la-table_m.o .libs/libta_abstract_gc_la-table_n.o .libs/libta_abstract_gc_la-table_o.o .libs/libta_abstract_gc_la-table_p.o .libs/libta_abstract_gc_la-table_q.o .libs/libta_abstract_gc_la-table_r.o .libs/libta_abstract_gc_la-table_s.o .libs/libta_abstract_gc_la-table_t.o .libs/libta_abstract_gc_la-table_u.o .libs/libta_abstract_gc_la-table_v.o .libs/libta_abstract_gc_la-table_w.o .libs/libta_abstract_gc_la-table_x.o .libs/libta_abstract_gc_la-table_y.o .libs/libta_abstract_gc_la-table_z.o\n",
            "ar: `u' modifier ignored since `D' is the default (see `U')\n",
            "ranlib .libs/libta_abstract_gc.a\n",
            "creating libta_abstract_gc.la\n",
            "(cd .libs && rm -f libta_abstract_gc.la && ln -s ../libta_abstract_gc.la libta_abstract_gc.la)\n",
            "make[2]: Leaving directory '/content/ta-lib/src/ta_abstract'\n",
            "Making all in ta_common\n",
            "make[2]: Entering directory '/content/ta-lib/src/ta_common'\n",
            "/bin/bash ../../libtool --tag=CC   --mode=compile gcc -DHAVE_CONFIG_H -I. -I../../include  -I../ta_common/   -g -O2 -MT ta_global.lo -MD -MP -MF .deps/ta_global.Tpo -c -o ta_global.lo ta_global.c\n",
            "mkdir .libs\n",
            " gcc -DHAVE_CONFIG_H -I. -I../../include -I../ta_common/ -g -O2 -MT ta_global.lo -MD -MP -MF .deps/ta_global.Tpo -c ta_global.c  -fPIC -DPIC -o .libs/ta_global.o\n",
            " gcc -DHAVE_CONFIG_H -I. -I../../include -I../ta_common/ -g -O2 -MT ta_global.lo -MD -MP -MF .deps/ta_global.Tpo -c ta_global.c -o ta_global.o >/dev/null 2>&1\n",
            "mv -f .deps/ta_global.Tpo .deps/ta_global.Plo\n",
            "/bin/bash ../../libtool --tag=CC   --mode=compile gcc -DHAVE_CONFIG_H -I. -I../../include  -I../ta_common/   -g -O2 -MT ta_retcode.lo -MD -MP -MF .deps/ta_retcode.Tpo -c -o ta_retcode.lo ta_retcode.c\n",
            " gcc -DHAVE_CONFIG_H -I. -I../../include -I../ta_common/ -g -O2 -MT ta_retcode.lo -MD -MP -MF .deps/ta_retcode.Tpo -c ta_retcode.c  -fPIC -DPIC -o .libs/ta_retcode.o\n",
            " gcc -DHAVE_CONFIG_H -I. -I../../include -I../ta_common/ -g -O2 -MT ta_retcode.lo -MD -MP -MF .deps/ta_retcode.Tpo -c ta_retcode.c -o ta_retcode.o >/dev/null 2>&1\n",
            "mv -f .deps/ta_retcode.Tpo .deps/ta_retcode.Plo\n",
            "/bin/bash ../../libtool --tag=CC   --mode=compile gcc -DHAVE_CONFIG_H -I. -I../../include  -I../ta_common/   -g -O2 -MT ta_version.lo -MD -MP -MF .deps/ta_version.Tpo -c -o ta_version.lo ta_version.c\n",
            " gcc -DHAVE_CONFIG_H -I. -I../../include -I../ta_common/ -g -O2 -MT ta_version.lo -MD -MP -MF .deps/ta_version.Tpo -c ta_version.c  -fPIC -DPIC -o .libs/ta_version.o\n",
            " gcc -DHAVE_CONFIG_H -I. -I../../include -I../ta_common/ -g -O2 -MT ta_version.lo -MD -MP -MF .deps/ta_version.Tpo -c ta_version.c -o ta_version.o >/dev/null 2>&1\n",
            "mv -f .deps/ta_version.Tpo .deps/ta_version.Plo\n",
            "/bin/bash ../../libtool --tag=CC   --mode=link gcc  -g -O2 -version-info 0:0:0  -o libta_common.la  ta_global.lo ta_retcode.lo ta_version.lo  -lpthread -ldl \n",
            "libtool: link: warning: `-version-info/-version-number' is ignored for convenience libraries\n",
            "ar cru .libs/libta_common.a .libs/ta_global.o .libs/ta_retcode.o .libs/ta_version.o\n",
            "ar: `u' modifier ignored since `D' is the default (see `U')\n",
            "ranlib .libs/libta_common.a\n",
            "creating libta_common.la\n",
            "(cd .libs && rm -f libta_common.la && ln -s ../libta_common.la libta_common.la)\n",
            "make[2]: Leaving directory '/content/ta-lib/src/ta_common'\n",
            "Making all in ta_func\n",
            "make[2]: Entering directory '/content/ta-lib/src/ta_func'\n",
            "/bin/bash ../../libtool --tag=CC   --mode=compile gcc -DHAVE_CONFIG_H -I. -I../../include  -I../ta_common/   -g -O2 -MT ta_utility.lo -MD -MP -MF .deps/ta_utility.Tpo -c -o ta_utility.lo ta_utility.c\n",
            "mkdir .libs\n",
            " gcc -DHAVE_CONFIG_H -I. -I../../include -I../ta_common/ -g -O2 -MT ta_utility.lo -MD -MP -MF .deps/ta_utility.Tpo -c ta_utility.c  -fPIC -DPIC -o .libs/ta_utility.o\n",
            " gcc -DHAVE_CONFIG_H -I. -I../../include -I../ta_common/ -g -O2 -MT ta_utility.lo -MD -MP -MF .deps/ta_utility.Tpo -c ta_utility.c -o ta_utility.o >/dev/null 2>&1\n",
            "mv -f .deps/ta_utility.Tpo .deps/ta_utility.Plo\n",
            "/bin/bash ../../libtool --tag=CC   --mode=compile gcc -DHAVE_CONFIG_H -I. -I../../include  -I../ta_common/   -g -O2 -MT ta_ACOS.lo -MD -MP -MF .deps/ta_ACOS.Tpo -c -o ta_ACOS.lo ta_ACOS.c\n",
            " gcc -DHAVE_CONFIG_H -I. -I../../include -I../ta_common/ -g -O2 -MT ta_ACOS.lo -MD -MP -MF .deps/ta_ACOS.Tpo -c ta_ACOS.c  -fPIC -DPIC -o .libs/ta_ACOS.o\n",
            " gcc -DHAVE_CONFIG_H -I. -I../../include -I../ta_common/ -g -O2 -MT ta_ACOS.lo -MD -MP -MF .deps/ta_ACOS.Tpo -c ta_ACOS.c -o ta_ACOS.o >/dev/null 2>&1\n",
            "mv -f .deps/ta_ACOS.Tpo .deps/ta_ACOS.Plo\n",
            "/bin/bash ../../libtool --tag=CC   --mode=compile gcc -DHAVE_CONFIG_H -I. -I../../include  -I../ta_common/   -g -O2 -MT ta_AD.lo -MD -MP -MF .deps/ta_AD.Tpo -c -o ta_AD.lo ta_AD.c\n",
            " gcc -DHAVE_CONFIG_H -I. -I../../include -I../ta_common/ -g -O2 -MT ta_AD.lo -MD -MP -MF .deps/ta_AD.Tpo -c ta_AD.c  -fPIC -DPIC -o .libs/ta_AD.o\n",
            " gcc -DHAVE_CONFIG_H -I. -I../../include -I../ta_common/ -g -O2 -MT ta_AD.lo -MD -MP -MF .deps/ta_AD.Tpo -c ta_AD.c -o ta_AD.o >/dev/null 2>&1\n",
            "mv -f .deps/ta_AD.Tpo .deps/ta_AD.Plo\n",
            "/bin/bash ../../libtool --tag=CC   --mode=compile gcc -DHAVE_CONFIG_H -I. -I../../include  -I../ta_common/   -g -O2 -MT ta_ADD.lo -MD -MP -MF .deps/ta_ADD.Tpo -c -o ta_ADD.lo ta_ADD.c\n",
            " gcc -DHAVE_CONFIG_H -I. -I../../include -I../ta_common/ -g -O2 -MT ta_ADD.lo -MD -MP -MF .deps/ta_ADD.Tpo -c ta_ADD.c  -fPIC -DPIC -o .libs/ta_ADD.o\n",
            " gcc -DHAVE_CONFIG_H -I. -I../../include -I../ta_common/ -g -O2 -MT ta_ADD.lo -MD -MP -MF .deps/ta_ADD.Tpo -c ta_ADD.c -o ta_ADD.o >/dev/null 2>&1\n",
            "mv -f .deps/ta_ADD.Tpo .deps/ta_ADD.Plo\n",
            "/bin/bash ../../libtool --tag=CC   --mode=compile gcc -DHAVE_CONFIG_H -I. -I../../include  -I../ta_common/   -g -O2 -MT ta_ADOSC.lo -MD -MP -MF .deps/ta_ADOSC.Tpo -c -o ta_ADOSC.lo ta_ADOSC.c\n",
            " gcc -DHAVE_CONFIG_H -I. -I../../include -I../ta_common/ -g -O2 -MT ta_ADOSC.lo -MD -MP -MF .deps/ta_ADOSC.Tpo -c ta_ADOSC.c  -fPIC -DPIC -o .libs/ta_ADOSC.o\n",
            " gcc -DHAVE_CONFIG_H -I. -I../../include -I../ta_common/ -g -O2 -MT ta_ADOSC.lo -MD -MP -MF .deps/ta_ADOSC.Tpo -c ta_ADOSC.c -o ta_ADOSC.o >/dev/null 2>&1\n",
            "mv -f .deps/ta_ADOSC.Tpo .deps/ta_ADOSC.Plo\n",
            "/bin/bash ../../libtool --tag=CC   --mode=compile gcc -DHAVE_CONFIG_H -I. -I../../include  -I../ta_common/   -g -O2 -MT ta_ADX.lo -MD -MP -MF .deps/ta_ADX.Tpo -c -o ta_ADX.lo ta_ADX.c\n",
            " gcc -DHAVE_CONFIG_H -I. -I../../include -I../ta_common/ -g -O2 -MT ta_ADX.lo -MD -MP -MF .deps/ta_ADX.Tpo -c ta_ADX.c  -fPIC -DPIC -o .libs/ta_ADX.o\n",
            " gcc -DHAVE_CONFIG_H -I. -I../../include -I../ta_common/ -g -O2 -MT ta_ADX.lo -MD -MP -MF .deps/ta_ADX.Tpo -c ta_ADX.c -o ta_ADX.o >/dev/null 2>&1\n",
            "mv -f .deps/ta_ADX.Tpo .deps/ta_ADX.Plo\n",
            "/bin/bash ../../libtool --tag=CC   --mode=compile gcc -DHAVE_CONFIG_H -I. -I../../include  -I../ta_common/   -g -O2 -MT ta_ADXR.lo -MD -MP -MF .deps/ta_ADXR.Tpo -c -o ta_ADXR.lo ta_ADXR.c\n",
            " gcc -DHAVE_CONFIG_H -I. -I../../include -I../ta_common/ -g -O2 -MT ta_ADXR.lo -MD -MP -MF .deps/ta_ADXR.Tpo -c ta_ADXR.c  -fPIC -DPIC -o .libs/ta_ADXR.o\n",
            " gcc -DHAVE_CONFIG_H -I. -I../../include -I../ta_common/ -g -O2 -MT ta_ADXR.lo -MD -MP -MF .deps/ta_ADXR.Tpo -c ta_ADXR.c -o ta_ADXR.o >/dev/null 2>&1\n",
            "mv -f .deps/ta_ADXR.Tpo .deps/ta_ADXR.Plo\n",
            "/bin/bash ../../libtool --tag=CC   --mode=compile gcc -DHAVE_CONFIG_H -I. -I../../include  -I../ta_common/   -g -O2 -MT ta_APO.lo -MD -MP -MF .deps/ta_APO.Tpo -c -o ta_APO.lo ta_APO.c\n",
            " gcc -DHAVE_CONFIG_H -I. -I../../include -I../ta_common/ -g -O2 -MT ta_APO.lo -MD -MP -MF .deps/ta_APO.Tpo -c ta_APO.c  -fPIC -DPIC -o .libs/ta_APO.o\n",
            " gcc -DHAVE_CONFIG_H -I. -I../../include -I../ta_common/ -g -O2 -MT ta_APO.lo -MD -MP -MF .deps/ta_APO.Tpo -c ta_APO.c -o ta_APO.o >/dev/null 2>&1\n",
            "mv -f .deps/ta_APO.Tpo .deps/ta_APO.Plo\n",
            "/bin/bash ../../libtool --tag=CC   --mode=compile gcc -DHAVE_CONFIG_H -I. -I../../include  -I../ta_common/   -g -O2 -MT ta_AROON.lo -MD -MP -MF .deps/ta_AROON.Tpo -c -o ta_AROON.lo ta_AROON.c\n",
            " gcc -DHAVE_CONFIG_H -I. -I../../include -I../ta_common/ -g -O2 -MT ta_AROON.lo -MD -MP -MF .deps/ta_AROON.Tpo -c ta_AROON.c  -fPIC -DPIC -o .libs/ta_AROON.o\n",
            " gcc -DHAVE_CONFIG_H -I. -I../../include -I../ta_common/ -g -O2 -MT ta_AROON.lo -MD -MP -MF .deps/ta_AROON.Tpo -c ta_AROON.c -o ta_AROON.o >/dev/null 2>&1\n",
            "mv -f .deps/ta_AROON.Tpo .deps/ta_AROON.Plo\n",
            "/bin/bash ../../libtool --tag=CC   --mode=compile gcc -DHAVE_CONFIG_H -I. -I../../include  -I../ta_common/   -g -O2 -MT ta_AROONOSC.lo -MD -MP -MF .deps/ta_AROONOSC.Tpo -c -o ta_AROONOSC.lo ta_AROONOSC.c\n",
            " gcc -DHAVE_CONFIG_H -I. -I../../include -I../ta_common/ -g -O2 -MT ta_AROONOSC.lo -MD -MP -MF .deps/ta_AROONOSC.Tpo -c ta_AROONOSC.c  -fPIC -DPIC -o .libs/ta_AROONOSC.o\n",
            " gcc -DHAVE_CONFIG_H -I. -I../../include -I../ta_common/ -g -O2 -MT ta_AROONOSC.lo -MD -MP -MF .deps/ta_AROONOSC.Tpo -c ta_AROONOSC.c -o ta_AROONOSC.o >/dev/null 2>&1\n",
            "mv -f .deps/ta_AROONOSC.Tpo .deps/ta_AROONOSC.Plo\n",
            "/bin/bash ../../libtool --tag=CC   --mode=compile gcc -DHAVE_CONFIG_H -I. -I../../include  -I../ta_common/   -g -O2 -MT ta_ASIN.lo -MD -MP -MF .deps/ta_ASIN.Tpo -c -o ta_ASIN.lo ta_ASIN.c\n",
            " gcc -DHAVE_CONFIG_H -I. -I../../include -I../ta_common/ -g -O2 -MT ta_ASIN.lo -MD -MP -MF .deps/ta_ASIN.Tpo -c ta_ASIN.c  -fPIC -DPIC -o .libs/ta_ASIN.o\n",
            " gcc -DHAVE_CONFIG_H -I. -I../../include -I../ta_common/ -g -O2 -MT ta_ASIN.lo -MD -MP -MF .deps/ta_ASIN.Tpo -c ta_ASIN.c -o ta_ASIN.o >/dev/null 2>&1\n",
            "mv -f .deps/ta_ASIN.Tpo .deps/ta_ASIN.Plo\n",
            "/bin/bash ../../libtool --tag=CC   --mode=compile gcc -DHAVE_CONFIG_H -I. -I../../include  -I../ta_common/   -g -O2 -MT ta_ATAN.lo -MD -MP -MF .deps/ta_ATAN.Tpo -c -o ta_ATAN.lo ta_ATAN.c\n",
            " gcc -DHAVE_CONFIG_H -I. -I../../include -I../ta_common/ -g -O2 -MT ta_ATAN.lo -MD -MP -MF .deps/ta_ATAN.Tpo -c ta_ATAN.c  -fPIC -DPIC -o .libs/ta_ATAN.o\n",
            " gcc -DHAVE_CONFIG_H -I. -I../../include -I../ta_common/ -g -O2 -MT ta_ATAN.lo -MD -MP -MF .deps/ta_ATAN.Tpo -c ta_ATAN.c -o ta_ATAN.o >/dev/null 2>&1\n",
            "mv -f .deps/ta_ATAN.Tpo .deps/ta_ATAN.Plo\n",
            "/bin/bash ../../libtool --tag=CC   --mode=compile gcc -DHAVE_CONFIG_H -I. -I../../include  -I../ta_common/   -g -O2 -MT ta_ATR.lo -MD -MP -MF .deps/ta_ATR.Tpo -c -o ta_ATR.lo ta_ATR.c\n",
            " gcc -DHAVE_CONFIG_H -I. -I../../include -I../ta_common/ -g -O2 -MT ta_ATR.lo -MD -MP -MF .deps/ta_ATR.Tpo -c ta_ATR.c  -fPIC -DPIC -o .libs/ta_ATR.o\n",
            " gcc -DHAVE_CONFIG_H -I. -I../../include -I../ta_common/ -g -O2 -MT ta_ATR.lo -MD -MP -MF .deps/ta_ATR.Tpo -c ta_ATR.c -o ta_ATR.o >/dev/null 2>&1\n",
            "mv -f .deps/ta_ATR.Tpo .deps/ta_ATR.Plo\n",
            "/bin/bash ../../libtool --tag=CC   --mode=compile gcc -DHAVE_CONFIG_H -I. -I../../include  -I../ta_common/   -g -O2 -MT ta_AVGPRICE.lo -MD -MP -MF .deps/ta_AVGPRICE.Tpo -c -o ta_AVGPRICE.lo ta_AVGPRICE.c\n",
            " gcc -DHAVE_CONFIG_H -I. -I../../include -I../ta_common/ -g -O2 -MT ta_AVGPRICE.lo -MD -MP -MF .deps/ta_AVGPRICE.Tpo -c ta_AVGPRICE.c  -fPIC -DPIC -o .libs/ta_AVGPRICE.o\n",
            " gcc -DHAVE_CONFIG_H -I. -I../../include -I../ta_common/ -g -O2 -MT ta_AVGPRICE.lo -MD -MP -MF .deps/ta_AVGPRICE.Tpo -c ta_AVGPRICE.c -o ta_AVGPRICE.o >/dev/null 2>&1\n",
            "mv -f .deps/ta_AVGPRICE.Tpo .deps/ta_AVGPRICE.Plo\n",
            "/bin/bash ../../libtool --tag=CC   --mode=compile gcc -DHAVE_CONFIG_H -I. -I../../include  -I../ta_common/   -g -O2 -MT ta_BBANDS.lo -MD -MP -MF .deps/ta_BBANDS.Tpo -c -o ta_BBANDS.lo ta_BBANDS.c\n",
            " gcc -DHAVE_CONFIG_H -I. -I../../include -I../ta_common/ -g -O2 -MT ta_BBANDS.lo -MD -MP -MF .deps/ta_BBANDS.Tpo -c ta_BBANDS.c  -fPIC -DPIC -o .libs/ta_BBANDS.o\n",
            " gcc -DHAVE_CONFIG_H -I. -I../../include -I../ta_common/ -g -O2 -MT ta_BBANDS.lo -MD -MP -MF .deps/ta_BBANDS.Tpo -c ta_BBANDS.c -o ta_BBANDS.o >/dev/null 2>&1\n",
            "mv -f .deps/ta_BBANDS.Tpo .deps/ta_BBANDS.Plo\n",
            "/bin/bash ../../libtool --tag=CC   --mode=compile gcc -DHAVE_CONFIG_H -I. -I../../include  -I../ta_common/   -g -O2 -MT ta_BETA.lo -MD -MP -MF .deps/ta_BETA.Tpo -c -o ta_BETA.lo ta_BETA.c\n",
            " gcc -DHAVE_CONFIG_H -I. -I../../include -I../ta_common/ -g -O2 -MT ta_BETA.lo -MD -MP -MF .deps/ta_BETA.Tpo -c ta_BETA.c  -fPIC -DPIC -o .libs/ta_BETA.o\n",
            " gcc -DHAVE_CONFIG_H -I. -I../../include -I../ta_common/ -g -O2 -MT ta_BETA.lo -MD -MP -MF .deps/ta_BETA.Tpo -c ta_BETA.c -o ta_BETA.o >/dev/null 2>&1\n",
            "mv -f .deps/ta_BETA.Tpo .deps/ta_BETA.Plo\n",
            "/bin/bash ../../libtool --tag=CC   --mode=compile gcc -DHAVE_CONFIG_H -I. -I../../include  -I../ta_common/   -g -O2 -MT ta_BOP.lo -MD -MP -MF .deps/ta_BOP.Tpo -c -o ta_BOP.lo ta_BOP.c\n",
            " gcc -DHAVE_CONFIG_H -I. -I../../include -I../ta_common/ -g -O2 -MT ta_BOP.lo -MD -MP -MF .deps/ta_BOP.Tpo -c ta_BOP.c  -fPIC -DPIC -o .libs/ta_BOP.o\n",
            " gcc -DHAVE_CONFIG_H -I. -I../../include -I../ta_common/ -g -O2 -MT ta_BOP.lo -MD -MP -MF .deps/ta_BOP.Tpo -c ta_BOP.c -o ta_BOP.o >/dev/null 2>&1\n",
            "mv -f .deps/ta_BOP.Tpo .deps/ta_BOP.Plo\n",
            "/bin/bash ../../libtool --tag=CC   --mode=compile gcc -DHAVE_CONFIG_H -I. -I../../include  -I../ta_common/   -g -O2 -MT ta_CCI.lo -MD -MP -MF .deps/ta_CCI.Tpo -c -o ta_CCI.lo ta_CCI.c\n",
            " gcc -DHAVE_CONFIG_H -I. -I../../include -I../ta_common/ -g -O2 -MT ta_CCI.lo -MD -MP -MF .deps/ta_CCI.Tpo -c ta_CCI.c  -fPIC -DPIC -o .libs/ta_CCI.o\n",
            " gcc -DHAVE_CONFIG_H -I. -I../../include -I../ta_common/ -g -O2 -MT ta_CCI.lo -MD -MP -MF .deps/ta_CCI.Tpo -c ta_CCI.c -o ta_CCI.o >/dev/null 2>&1\n",
            "mv -f .deps/ta_CCI.Tpo .deps/ta_CCI.Plo\n",
            "/bin/bash ../../libtool --tag=CC   --mode=compile gcc -DHAVE_CONFIG_H -I. -I../../include  -I../ta_common/   -g -O2 -MT ta_CDL2CROWS.lo -MD -MP -MF .deps/ta_CDL2CROWS.Tpo -c -o ta_CDL2CROWS.lo ta_CDL2CROWS.c\n",
            " gcc -DHAVE_CONFIG_H -I. -I../../include -I../ta_common/ -g -O2 -MT ta_CDL2CROWS.lo -MD -MP -MF .deps/ta_CDL2CROWS.Tpo -c ta_CDL2CROWS.c  -fPIC -DPIC -o .libs/ta_CDL2CROWS.o\n",
            " gcc -DHAVE_CONFIG_H -I. -I../../include -I../ta_common/ -g -O2 -MT ta_CDL2CROWS.lo -MD -MP -MF .deps/ta_CDL2CROWS.Tpo -c ta_CDL2CROWS.c -o ta_CDL2CROWS.o >/dev/null 2>&1\n",
            "mv -f .deps/ta_CDL2CROWS.Tpo .deps/ta_CDL2CROWS.Plo\n",
            "/bin/bash ../../libtool --tag=CC   --mode=compile gcc -DHAVE_CONFIG_H -I. -I../../include  -I../ta_common/   -g -O2 -MT ta_CDL3BLACKCROWS.lo -MD -MP -MF .deps/ta_CDL3BLACKCROWS.Tpo -c -o ta_CDL3BLACKCROWS.lo ta_CDL3BLACKCROWS.c\n",
            " gcc -DHAVE_CONFIG_H -I. -I../../include -I../ta_common/ -g -O2 -MT ta_CDL3BLACKCROWS.lo -MD -MP -MF .deps/ta_CDL3BLACKCROWS.Tpo -c ta_CDL3BLACKCROWS.c  -fPIC -DPIC -o .libs/ta_CDL3BLACKCROWS.o\n",
            " gcc -DHAVE_CONFIG_H -I. -I../../include -I../ta_common/ -g -O2 -MT ta_CDL3BLACKCROWS.lo -MD -MP -MF .deps/ta_CDL3BLACKCROWS.Tpo -c ta_CDL3BLACKCROWS.c -o ta_CDL3BLACKCROWS.o >/dev/null 2>&1\n",
            "mv -f .deps/ta_CDL3BLACKCROWS.Tpo .deps/ta_CDL3BLACKCROWS.Plo\n",
            "/bin/bash ../../libtool --tag=CC   --mode=compile gcc -DHAVE_CONFIG_H -I. -I../../include  -I../ta_common/   -g -O2 -MT ta_CDL3INSIDE.lo -MD -MP -MF .deps/ta_CDL3INSIDE.Tpo -c -o ta_CDL3INSIDE.lo ta_CDL3INSIDE.c\n",
            " gcc -DHAVE_CONFIG_H -I. -I../../include -I../ta_common/ -g -O2 -MT ta_CDL3INSIDE.lo -MD -MP -MF .deps/ta_CDL3INSIDE.Tpo -c ta_CDL3INSIDE.c  -fPIC -DPIC -o .libs/ta_CDL3INSIDE.o\n",
            " gcc -DHAVE_CONFIG_H -I. -I../../include -I../ta_common/ -g -O2 -MT ta_CDL3INSIDE.lo -MD -MP -MF .deps/ta_CDL3INSIDE.Tpo -c ta_CDL3INSIDE.c -o ta_CDL3INSIDE.o >/dev/null 2>&1\n",
            "mv -f .deps/ta_CDL3INSIDE.Tpo .deps/ta_CDL3INSIDE.Plo\n",
            "/bin/bash ../../libtool --tag=CC   --mode=compile gcc -DHAVE_CONFIG_H -I. -I../../include  -I../ta_common/   -g -O2 -MT ta_CDL3LINESTRIKE.lo -MD -MP -MF .deps/ta_CDL3LINESTRIKE.Tpo -c -o ta_CDL3LINESTRIKE.lo ta_CDL3LINESTRIKE.c\n",
            " gcc -DHAVE_CONFIG_H -I. -I../../include -I../ta_common/ -g -O2 -MT ta_CDL3LINESTRIKE.lo -MD -MP -MF .deps/ta_CDL3LINESTRIKE.Tpo -c ta_CDL3LINESTRIKE.c  -fPIC -DPIC -o .libs/ta_CDL3LINESTRIKE.o\n",
            " gcc -DHAVE_CONFIG_H -I. -I../../include -I../ta_common/ -g -O2 -MT ta_CDL3LINESTRIKE.lo -MD -MP -MF .deps/ta_CDL3LINESTRIKE.Tpo -c ta_CDL3LINESTRIKE.c -o ta_CDL3LINESTRIKE.o >/dev/null 2>&1\n",
            "mv -f .deps/ta_CDL3LINESTRIKE.Tpo .deps/ta_CDL3LINESTRIKE.Plo\n",
            "/bin/bash ../../libtool --tag=CC   --mode=compile gcc -DHAVE_CONFIG_H -I. -I../../include  -I../ta_common/   -g -O2 -MT ta_CDL3OUTSIDE.lo -MD -MP -MF .deps/ta_CDL3OUTSIDE.Tpo -c -o ta_CDL3OUTSIDE.lo ta_CDL3OUTSIDE.c\n",
            " gcc -DHAVE_CONFIG_H -I. -I../../include -I../ta_common/ -g -O2 -MT ta_CDL3OUTSIDE.lo -MD -MP -MF .deps/ta_CDL3OUTSIDE.Tpo -c ta_CDL3OUTSIDE.c  -fPIC -DPIC -o .libs/ta_CDL3OUTSIDE.o\n",
            " gcc -DHAVE_CONFIG_H -I. -I../../include -I../ta_common/ -g -O2 -MT ta_CDL3OUTSIDE.lo -MD -MP -MF .deps/ta_CDL3OUTSIDE.Tpo -c ta_CDL3OUTSIDE.c -o ta_CDL3OUTSIDE.o >/dev/null 2>&1\n",
            "mv -f .deps/ta_CDL3OUTSIDE.Tpo .deps/ta_CDL3OUTSIDE.Plo\n",
            "/bin/bash ../../libtool --tag=CC   --mode=compile gcc -DHAVE_CONFIG_H -I. -I../../include  -I../ta_common/   -g -O2 -MT ta_CDL3STARSINSOUTH.lo -MD -MP -MF .deps/ta_CDL3STARSINSOUTH.Tpo -c -o ta_CDL3STARSINSOUTH.lo ta_CDL3STARSINSOUTH.c\n",
            " gcc -DHAVE_CONFIG_H -I. -I../../include -I../ta_common/ -g -O2 -MT ta_CDL3STARSINSOUTH.lo -MD -MP -MF .deps/ta_CDL3STARSINSOUTH.Tpo -c ta_CDL3STARSINSOUTH.c  -fPIC -DPIC -o .libs/ta_CDL3STARSINSOUTH.o\n",
            " gcc -DHAVE_CONFIG_H -I. -I../../include -I../ta_common/ -g -O2 -MT ta_CDL3STARSINSOUTH.lo -MD -MP -MF .deps/ta_CDL3STARSINSOUTH.Tpo -c ta_CDL3STARSINSOUTH.c -o ta_CDL3STARSINSOUTH.o >/dev/null 2>&1\n",
            "mv -f .deps/ta_CDL3STARSINSOUTH.Tpo .deps/ta_CDL3STARSINSOUTH.Plo\n",
            "/bin/bash ../../libtool --tag=CC   --mode=compile gcc -DHAVE_CONFIG_H -I. -I../../include  -I../ta_common/   -g -O2 -MT ta_CDL3WHITESOLDIERS.lo -MD -MP -MF .deps/ta_CDL3WHITESOLDIERS.Tpo -c -o ta_CDL3WHITESOLDIERS.lo ta_CDL3WHITESOLDIERS.c\n",
            " gcc -DHAVE_CONFIG_H -I. -I../../include -I../ta_common/ -g -O2 -MT ta_CDL3WHITESOLDIERS.lo -MD -MP -MF .deps/ta_CDL3WHITESOLDIERS.Tpo -c ta_CDL3WHITESOLDIERS.c  -fPIC -DPIC -o .libs/ta_CDL3WHITESOLDIERS.o\n",
            " gcc -DHAVE_CONFIG_H -I. -I../../include -I../ta_common/ -g -O2 -MT ta_CDL3WHITESOLDIERS.lo -MD -MP -MF .deps/ta_CDL3WHITESOLDIERS.Tpo -c ta_CDL3WHITESOLDIERS.c -o ta_CDL3WHITESOLDIERS.o >/dev/null 2>&1\n",
            "mv -f .deps/ta_CDL3WHITESOLDIERS.Tpo .deps/ta_CDL3WHITESOLDIERS.Plo\n",
            "/bin/bash ../../libtool --tag=CC   --mode=compile gcc -DHAVE_CONFIG_H -I. -I../../include  -I../ta_common/   -g -O2 -MT ta_CDLABANDONEDBABY.lo -MD -MP -MF .deps/ta_CDLABANDONEDBABY.Tpo -c -o ta_CDLABANDONEDBABY.lo ta_CDLABANDONEDBABY.c\n",
            " gcc -DHAVE_CONFIG_H -I. -I../../include -I../ta_common/ -g -O2 -MT ta_CDLABANDONEDBABY.lo -MD -MP -MF .deps/ta_CDLABANDONEDBABY.Tpo -c ta_CDLABANDONEDBABY.c  -fPIC -DPIC -o .libs/ta_CDLABANDONEDBABY.o\n",
            " gcc -DHAVE_CONFIG_H -I. -I../../include -I../ta_common/ -g -O2 -MT ta_CDLABANDONEDBABY.lo -MD -MP -MF .deps/ta_CDLABANDONEDBABY.Tpo -c ta_CDLABANDONEDBABY.c -o ta_CDLABANDONEDBABY.o >/dev/null 2>&1\n",
            "mv -f .deps/ta_CDLABANDONEDBABY.Tpo .deps/ta_CDLABANDONEDBABY.Plo\n",
            "/bin/bash ../../libtool --tag=CC   --mode=compile gcc -DHAVE_CONFIG_H -I. -I../../include  -I../ta_common/   -g -O2 -MT ta_CDLADVANCEBLOCK.lo -MD -MP -MF .deps/ta_CDLADVANCEBLOCK.Tpo -c -o ta_CDLADVANCEBLOCK.lo ta_CDLADVANCEBLOCK.c\n",
            " gcc -DHAVE_CONFIG_H -I. -I../../include -I../ta_common/ -g -O2 -MT ta_CDLADVANCEBLOCK.lo -MD -MP -MF .deps/ta_CDLADVANCEBLOCK.Tpo -c ta_CDLADVANCEBLOCK.c  -fPIC -DPIC -o .libs/ta_CDLADVANCEBLOCK.o\n",
            " gcc -DHAVE_CONFIG_H -I. -I../../include -I../ta_common/ -g -O2 -MT ta_CDLADVANCEBLOCK.lo -MD -MP -MF .deps/ta_CDLADVANCEBLOCK.Tpo -c ta_CDLADVANCEBLOCK.c -o ta_CDLADVANCEBLOCK.o >/dev/null 2>&1\n",
            "mv -f .deps/ta_CDLADVANCEBLOCK.Tpo .deps/ta_CDLADVANCEBLOCK.Plo\n",
            "/bin/bash ../../libtool --tag=CC   --mode=compile gcc -DHAVE_CONFIG_H -I. -I../../include  -I../ta_common/   -g -O2 -MT ta_CDLBELTHOLD.lo -MD -MP -MF .deps/ta_CDLBELTHOLD.Tpo -c -o ta_CDLBELTHOLD.lo ta_CDLBELTHOLD.c\n",
            " gcc -DHAVE_CONFIG_H -I. -I../../include -I../ta_common/ -g -O2 -MT ta_CDLBELTHOLD.lo -MD -MP -MF .deps/ta_CDLBELTHOLD.Tpo -c ta_CDLBELTHOLD.c  -fPIC -DPIC -o .libs/ta_CDLBELTHOLD.o\n",
            " gcc -DHAVE_CONFIG_H -I. -I../../include -I../ta_common/ -g -O2 -MT ta_CDLBELTHOLD.lo -MD -MP -MF .deps/ta_CDLBELTHOLD.Tpo -c ta_CDLBELTHOLD.c -o ta_CDLBELTHOLD.o >/dev/null 2>&1\n",
            "mv -f .deps/ta_CDLBELTHOLD.Tpo .deps/ta_CDLBELTHOLD.Plo\n",
            "/bin/bash ../../libtool --tag=CC   --mode=compile gcc -DHAVE_CONFIG_H -I. -I../../include  -I../ta_common/   -g -O2 -MT ta_CDLBREAKAWAY.lo -MD -MP -MF .deps/ta_CDLBREAKAWAY.Tpo -c -o ta_CDLBREAKAWAY.lo ta_CDLBREAKAWAY.c\n",
            " gcc -DHAVE_CONFIG_H -I. -I../../include -I../ta_common/ -g -O2 -MT ta_CDLBREAKAWAY.lo -MD -MP -MF .deps/ta_CDLBREAKAWAY.Tpo -c ta_CDLBREAKAWAY.c  -fPIC -DPIC -o .libs/ta_CDLBREAKAWAY.o\n",
            " gcc -DHAVE_CONFIG_H -I. -I../../include -I../ta_common/ -g -O2 -MT ta_CDLBREAKAWAY.lo -MD -MP -MF .deps/ta_CDLBREAKAWAY.Tpo -c ta_CDLBREAKAWAY.c -o ta_CDLBREAKAWAY.o >/dev/null 2>&1\n",
            "mv -f .deps/ta_CDLBREAKAWAY.Tpo .deps/ta_CDLBREAKAWAY.Plo\n",
            "/bin/bash ../../libtool --tag=CC   --mode=compile gcc -DHAVE_CONFIG_H -I. -I../../include  -I../ta_common/   -g -O2 -MT ta_CDLCLOSINGMARUBOZU.lo -MD -MP -MF .deps/ta_CDLCLOSINGMARUBOZU.Tpo -c -o ta_CDLCLOSINGMARUBOZU.lo ta_CDLCLOSINGMARUBOZU.c\n",
            " gcc -DHAVE_CONFIG_H -I. -I../../include -I../ta_common/ -g -O2 -MT ta_CDLCLOSINGMARUBOZU.lo -MD -MP -MF .deps/ta_CDLCLOSINGMARUBOZU.Tpo -c ta_CDLCLOSINGMARUBOZU.c  -fPIC -DPIC -o .libs/ta_CDLCLOSINGMARUBOZU.o\n",
            " gcc -DHAVE_CONFIG_H -I. -I../../include -I../ta_common/ -g -O2 -MT ta_CDLCLOSINGMARUBOZU.lo -MD -MP -MF .deps/ta_CDLCLOSINGMARUBOZU.Tpo -c ta_CDLCLOSINGMARUBOZU.c -o ta_CDLCLOSINGMARUBOZU.o >/dev/null 2>&1\n",
            "mv -f .deps/ta_CDLCLOSINGMARUBOZU.Tpo .deps/ta_CDLCLOSINGMARUBOZU.Plo\n",
            "/bin/bash ../../libtool --tag=CC   --mode=compile gcc -DHAVE_CONFIG_H -I. -I../../include  -I../ta_common/   -g -O2 -MT ta_CDLCONCEALBABYSWALL.lo -MD -MP -MF .deps/ta_CDLCONCEALBABYSWALL.Tpo -c -o ta_CDLCONCEALBABYSWALL.lo ta_CDLCONCEALBABYSWALL.c\n",
            " gcc -DHAVE_CONFIG_H -I. -I../../include -I../ta_common/ -g -O2 -MT ta_CDLCONCEALBABYSWALL.lo -MD -MP -MF .deps/ta_CDLCONCEALBABYSWALL.Tpo -c ta_CDLCONCEALBABYSWALL.c  -fPIC -DPIC -o .libs/ta_CDLCONCEALBABYSWALL.o\n",
            " gcc -DHAVE_CONFIG_H -I. -I../../include -I../ta_common/ -g -O2 -MT ta_CDLCONCEALBABYSWALL.lo -MD -MP -MF .deps/ta_CDLCONCEALBABYSWALL.Tpo -c ta_CDLCONCEALBABYSWALL.c -o ta_CDLCONCEALBABYSWALL.o >/dev/null 2>&1\n",
            "mv -f .deps/ta_CDLCONCEALBABYSWALL.Tpo .deps/ta_CDLCONCEALBABYSWALL.Plo\n",
            "/bin/bash ../../libtool --tag=CC   --mode=compile gcc -DHAVE_CONFIG_H -I. -I../../include  -I../ta_common/   -g -O2 -MT ta_CDLCOUNTERATTACK.lo -MD -MP -MF .deps/ta_CDLCOUNTERATTACK.Tpo -c -o ta_CDLCOUNTERATTACK.lo ta_CDLCOUNTERATTACK.c\n",
            " gcc -DHAVE_CONFIG_H -I. -I../../include -I../ta_common/ -g -O2 -MT ta_CDLCOUNTERATTACK.lo -MD -MP -MF .deps/ta_CDLCOUNTERATTACK.Tpo -c ta_CDLCOUNTERATTACK.c  -fPIC -DPIC -o .libs/ta_CDLCOUNTERATTACK.o\n",
            " gcc -DHAVE_CONFIG_H -I. -I../../include -I../ta_common/ -g -O2 -MT ta_CDLCOUNTERATTACK.lo -MD -MP -MF .deps/ta_CDLCOUNTERATTACK.Tpo -c ta_CDLCOUNTERATTACK.c -o ta_CDLCOUNTERATTACK.o >/dev/null 2>&1\n",
            "mv -f .deps/ta_CDLCOUNTERATTACK.Tpo .deps/ta_CDLCOUNTERATTACK.Plo\n",
            "/bin/bash ../../libtool --tag=CC   --mode=compile gcc -DHAVE_CONFIG_H -I. -I../../include  -I../ta_common/   -g -O2 -MT ta_CDLDARKCLOUDCOVER.lo -MD -MP -MF .deps/ta_CDLDARKCLOUDCOVER.Tpo -c -o ta_CDLDARKCLOUDCOVER.lo ta_CDLDARKCLOUDCOVER.c\n",
            " gcc -DHAVE_CONFIG_H -I. -I../../include -I../ta_common/ -g -O2 -MT ta_CDLDARKCLOUDCOVER.lo -MD -MP -MF .deps/ta_CDLDARKCLOUDCOVER.Tpo -c ta_CDLDARKCLOUDCOVER.c  -fPIC -DPIC -o .libs/ta_CDLDARKCLOUDCOVER.o\n",
            " gcc -DHAVE_CONFIG_H -I. -I../../include -I../ta_common/ -g -O2 -MT ta_CDLDARKCLOUDCOVER.lo -MD -MP -MF .deps/ta_CDLDARKCLOUDCOVER.Tpo -c ta_CDLDARKCLOUDCOVER.c -o ta_CDLDARKCLOUDCOVER.o >/dev/null 2>&1\n",
            "mv -f .deps/ta_CDLDARKCLOUDCOVER.Tpo .deps/ta_CDLDARKCLOUDCOVER.Plo\n",
            "/bin/bash ../../libtool --tag=CC   --mode=compile gcc -DHAVE_CONFIG_H -I. -I../../include  -I../ta_common/   -g -O2 -MT ta_CDLDOJI.lo -MD -MP -MF .deps/ta_CDLDOJI.Tpo -c -o ta_CDLDOJI.lo ta_CDLDOJI.c\n",
            " gcc -DHAVE_CONFIG_H -I. -I../../include -I../ta_common/ -g -O2 -MT ta_CDLDOJI.lo -MD -MP -MF .deps/ta_CDLDOJI.Tpo -c ta_CDLDOJI.c  -fPIC -DPIC -o .libs/ta_CDLDOJI.o\n",
            " gcc -DHAVE_CONFIG_H -I. -I../../include -I../ta_common/ -g -O2 -MT ta_CDLDOJI.lo -MD -MP -MF .deps/ta_CDLDOJI.Tpo -c ta_CDLDOJI.c -o ta_CDLDOJI.o >/dev/null 2>&1\n",
            "mv -f .deps/ta_CDLDOJI.Tpo .deps/ta_CDLDOJI.Plo\n",
            "/bin/bash ../../libtool --tag=CC   --mode=compile gcc -DHAVE_CONFIG_H -I. -I../../include  -I../ta_common/   -g -O2 -MT ta_CDLDOJISTAR.lo -MD -MP -MF .deps/ta_CDLDOJISTAR.Tpo -c -o ta_CDLDOJISTAR.lo ta_CDLDOJISTAR.c\n",
            " gcc -DHAVE_CONFIG_H -I. -I../../include -I../ta_common/ -g -O2 -MT ta_CDLDOJISTAR.lo -MD -MP -MF .deps/ta_CDLDOJISTAR.Tpo -c ta_CDLDOJISTAR.c  -fPIC -DPIC -o .libs/ta_CDLDOJISTAR.o\n",
            " gcc -DHAVE_CONFIG_H -I. -I../../include -I../ta_common/ -g -O2 -MT ta_CDLDOJISTAR.lo -MD -MP -MF .deps/ta_CDLDOJISTAR.Tpo -c ta_CDLDOJISTAR.c -o ta_CDLDOJISTAR.o >/dev/null 2>&1\n",
            "mv -f .deps/ta_CDLDOJISTAR.Tpo .deps/ta_CDLDOJISTAR.Plo\n",
            "/bin/bash ../../libtool --tag=CC   --mode=compile gcc -DHAVE_CONFIG_H -I. -I../../include  -I../ta_common/   -g -O2 -MT ta_CDLDRAGONFLYDOJI.lo -MD -MP -MF .deps/ta_CDLDRAGONFLYDOJI.Tpo -c -o ta_CDLDRAGONFLYDOJI.lo ta_CDLDRAGONFLYDOJI.c\n",
            " gcc -DHAVE_CONFIG_H -I. -I../../include -I../ta_common/ -g -O2 -MT ta_CDLDRAGONFLYDOJI.lo -MD -MP -MF .deps/ta_CDLDRAGONFLYDOJI.Tpo -c ta_CDLDRAGONFLYDOJI.c  -fPIC -DPIC -o .libs/ta_CDLDRAGONFLYDOJI.o\n",
            " gcc -DHAVE_CONFIG_H -I. -I../../include -I../ta_common/ -g -O2 -MT ta_CDLDRAGONFLYDOJI.lo -MD -MP -MF .deps/ta_CDLDRAGONFLYDOJI.Tpo -c ta_CDLDRAGONFLYDOJI.c -o ta_CDLDRAGONFLYDOJI.o >/dev/null 2>&1\n",
            "mv -f .deps/ta_CDLDRAGONFLYDOJI.Tpo .deps/ta_CDLDRAGONFLYDOJI.Plo\n",
            "/bin/bash ../../libtool --tag=CC   --mode=compile gcc -DHAVE_CONFIG_H -I. -I../../include  -I../ta_common/   -g -O2 -MT ta_CDLENGULFING.lo -MD -MP -MF .deps/ta_CDLENGULFING.Tpo -c -o ta_CDLENGULFING.lo ta_CDLENGULFING.c\n",
            " gcc -DHAVE_CONFIG_H -I. -I../../include -I../ta_common/ -g -O2 -MT ta_CDLENGULFING.lo -MD -MP -MF .deps/ta_CDLENGULFING.Tpo -c ta_CDLENGULFING.c  -fPIC -DPIC -o .libs/ta_CDLENGULFING.o\n",
            " gcc -DHAVE_CONFIG_H -I. -I../../include -I../ta_common/ -g -O2 -MT ta_CDLENGULFING.lo -MD -MP -MF .deps/ta_CDLENGULFING.Tpo -c ta_CDLENGULFING.c -o ta_CDLENGULFING.o >/dev/null 2>&1\n",
            "mv -f .deps/ta_CDLENGULFING.Tpo .deps/ta_CDLENGULFING.Plo\n",
            "/bin/bash ../../libtool --tag=CC   --mode=compile gcc -DHAVE_CONFIG_H -I. -I../../include  -I../ta_common/   -g -O2 -MT ta_CDLEVENINGDOJISTAR.lo -MD -MP -MF .deps/ta_CDLEVENINGDOJISTAR.Tpo -c -o ta_CDLEVENINGDOJISTAR.lo ta_CDLEVENINGDOJISTAR.c\n",
            " gcc -DHAVE_CONFIG_H -I. -I../../include -I../ta_common/ -g -O2 -MT ta_CDLEVENINGDOJISTAR.lo -MD -MP -MF .deps/ta_CDLEVENINGDOJISTAR.Tpo -c ta_CDLEVENINGDOJISTAR.c  -fPIC -DPIC -o .libs/ta_CDLEVENINGDOJISTAR.o\n",
            " gcc -DHAVE_CONFIG_H -I. -I../../include -I../ta_common/ -g -O2 -MT ta_CDLEVENINGDOJISTAR.lo -MD -MP -MF .deps/ta_CDLEVENINGDOJISTAR.Tpo -c ta_CDLEVENINGDOJISTAR.c -o ta_CDLEVENINGDOJISTAR.o >/dev/null 2>&1\n",
            "mv -f .deps/ta_CDLEVENINGDOJISTAR.Tpo .deps/ta_CDLEVENINGDOJISTAR.Plo\n",
            "/bin/bash ../../libtool --tag=CC   --mode=compile gcc -DHAVE_CONFIG_H -I. -I../../include  -I../ta_common/   -g -O2 -MT ta_CDLEVENINGSTAR.lo -MD -MP -MF .deps/ta_CDLEVENINGSTAR.Tpo -c -o ta_CDLEVENINGSTAR.lo ta_CDLEVENINGSTAR.c\n",
            " gcc -DHAVE_CONFIG_H -I. -I../../include -I../ta_common/ -g -O2 -MT ta_CDLEVENINGSTAR.lo -MD -MP -MF .deps/ta_CDLEVENINGSTAR.Tpo -c ta_CDLEVENINGSTAR.c  -fPIC -DPIC -o .libs/ta_CDLEVENINGSTAR.o\n",
            " gcc -DHAVE_CONFIG_H -I. -I../../include -I../ta_common/ -g -O2 -MT ta_CDLEVENINGSTAR.lo -MD -MP -MF .deps/ta_CDLEVENINGSTAR.Tpo -c ta_CDLEVENINGSTAR.c -o ta_CDLEVENINGSTAR.o >/dev/null 2>&1\n",
            "mv -f .deps/ta_CDLEVENINGSTAR.Tpo .deps/ta_CDLEVENINGSTAR.Plo\n",
            "/bin/bash ../../libtool --tag=CC   --mode=compile gcc -DHAVE_CONFIG_H -I. -I../../include  -I../ta_common/   -g -O2 -MT ta_CDLGAPSIDESIDEWHITE.lo -MD -MP -MF .deps/ta_CDLGAPSIDESIDEWHITE.Tpo -c -o ta_CDLGAPSIDESIDEWHITE.lo ta_CDLGAPSIDESIDEWHITE.c\n",
            " gcc -DHAVE_CONFIG_H -I. -I../../include -I../ta_common/ -g -O2 -MT ta_CDLGAPSIDESIDEWHITE.lo -MD -MP -MF .deps/ta_CDLGAPSIDESIDEWHITE.Tpo -c ta_CDLGAPSIDESIDEWHITE.c  -fPIC -DPIC -o .libs/ta_CDLGAPSIDESIDEWHITE.o\n",
            " gcc -DHAVE_CONFIG_H -I. -I../../include -I../ta_common/ -g -O2 -MT ta_CDLGAPSIDESIDEWHITE.lo -MD -MP -MF .deps/ta_CDLGAPSIDESIDEWHITE.Tpo -c ta_CDLGAPSIDESIDEWHITE.c -o ta_CDLGAPSIDESIDEWHITE.o >/dev/null 2>&1\n",
            "mv -f .deps/ta_CDLGAPSIDESIDEWHITE.Tpo .deps/ta_CDLGAPSIDESIDEWHITE.Plo\n",
            "/bin/bash ../../libtool --tag=CC   --mode=compile gcc -DHAVE_CONFIG_H -I. -I../../include  -I../ta_common/   -g -O2 -MT ta_CDLGRAVESTONEDOJI.lo -MD -MP -MF .deps/ta_CDLGRAVESTONEDOJI.Tpo -c -o ta_CDLGRAVESTONEDOJI.lo ta_CDLGRAVESTONEDOJI.c\n",
            " gcc -DHAVE_CONFIG_H -I. -I../../include -I../ta_common/ -g -O2 -MT ta_CDLGRAVESTONEDOJI.lo -MD -MP -MF .deps/ta_CDLGRAVESTONEDOJI.Tpo -c ta_CDLGRAVESTONEDOJI.c  -fPIC -DPIC -o .libs/ta_CDLGRAVESTONEDOJI.o\n",
            " gcc -DHAVE_CONFIG_H -I. -I../../include -I../ta_common/ -g -O2 -MT ta_CDLGRAVESTONEDOJI.lo -MD -MP -MF .deps/ta_CDLGRAVESTONEDOJI.Tpo -c ta_CDLGRAVESTONEDOJI.c -o ta_CDLGRAVESTONEDOJI.o >/dev/null 2>&1\n",
            "mv -f .deps/ta_CDLGRAVESTONEDOJI.Tpo .deps/ta_CDLGRAVESTONEDOJI.Plo\n",
            "/bin/bash ../../libtool --tag=CC   --mode=compile gcc -DHAVE_CONFIG_H -I. -I../../include  -I../ta_common/   -g -O2 -MT ta_CDLHAMMER.lo -MD -MP -MF .deps/ta_CDLHAMMER.Tpo -c -o ta_CDLHAMMER.lo ta_CDLHAMMER.c\n",
            " gcc -DHAVE_CONFIG_H -I. -I../../include -I../ta_common/ -g -O2 -MT ta_CDLHAMMER.lo -MD -MP -MF .deps/ta_CDLHAMMER.Tpo -c ta_CDLHAMMER.c  -fPIC -DPIC -o .libs/ta_CDLHAMMER.o\n",
            " gcc -DHAVE_CONFIG_H -I. -I../../include -I../ta_common/ -g -O2 -MT ta_CDLHAMMER.lo -MD -MP -MF .deps/ta_CDLHAMMER.Tpo -c ta_CDLHAMMER.c -o ta_CDLHAMMER.o >/dev/null 2>&1\n",
            "mv -f .deps/ta_CDLHAMMER.Tpo .deps/ta_CDLHAMMER.Plo\n",
            "/bin/bash ../../libtool --tag=CC   --mode=compile gcc -DHAVE_CONFIG_H -I. -I../../include  -I../ta_common/   -g -O2 -MT ta_CDLHANGINGMAN.lo -MD -MP -MF .deps/ta_CDLHANGINGMAN.Tpo -c -o ta_CDLHANGINGMAN.lo ta_CDLHANGINGMAN.c\n",
            " gcc -DHAVE_CONFIG_H -I. -I../../include -I../ta_common/ -g -O2 -MT ta_CDLHANGINGMAN.lo -MD -MP -MF .deps/ta_CDLHANGINGMAN.Tpo -c ta_CDLHANGINGMAN.c  -fPIC -DPIC -o .libs/ta_CDLHANGINGMAN.o\n",
            " gcc -DHAVE_CONFIG_H -I. -I../../include -I../ta_common/ -g -O2 -MT ta_CDLHANGINGMAN.lo -MD -MP -MF .deps/ta_CDLHANGINGMAN.Tpo -c ta_CDLHANGINGMAN.c -o ta_CDLHANGINGMAN.o >/dev/null 2>&1\n",
            "mv -f .deps/ta_CDLHANGINGMAN.Tpo .deps/ta_CDLHANGINGMAN.Plo\n",
            "/bin/bash ../../libtool --tag=CC   --mode=compile gcc -DHAVE_CONFIG_H -I. -I../../include  -I../ta_common/   -g -O2 -MT ta_CDLHARAMI.lo -MD -MP -MF .deps/ta_CDLHARAMI.Tpo -c -o ta_CDLHARAMI.lo ta_CDLHARAMI.c\n",
            " gcc -DHAVE_CONFIG_H -I. -I../../include -I../ta_common/ -g -O2 -MT ta_CDLHARAMI.lo -MD -MP -MF .deps/ta_CDLHARAMI.Tpo -c ta_CDLHARAMI.c  -fPIC -DPIC -o .libs/ta_CDLHARAMI.o\n",
            " gcc -DHAVE_CONFIG_H -I. -I../../include -I../ta_common/ -g -O2 -MT ta_CDLHARAMI.lo -MD -MP -MF .deps/ta_CDLHARAMI.Tpo -c ta_CDLHARAMI.c -o ta_CDLHARAMI.o >/dev/null 2>&1\n",
            "mv -f .deps/ta_CDLHARAMI.Tpo .deps/ta_CDLHARAMI.Plo\n",
            "/bin/bash ../../libtool --tag=CC   --mode=compile gcc -DHAVE_CONFIG_H -I. -I../../include  -I../ta_common/   -g -O2 -MT ta_CDLHARAMICROSS.lo -MD -MP -MF .deps/ta_CDLHARAMICROSS.Tpo -c -o ta_CDLHARAMICROSS.lo ta_CDLHARAMICROSS.c\n",
            " gcc -DHAVE_CONFIG_H -I. -I../../include -I../ta_common/ -g -O2 -MT ta_CDLHARAMICROSS.lo -MD -MP -MF .deps/ta_CDLHARAMICROSS.Tpo -c ta_CDLHARAMICROSS.c  -fPIC -DPIC -o .libs/ta_CDLHARAMICROSS.o\n",
            " gcc -DHAVE_CONFIG_H -I. -I../../include -I../ta_common/ -g -O2 -MT ta_CDLHARAMICROSS.lo -MD -MP -MF .deps/ta_CDLHARAMICROSS.Tpo -c ta_CDLHARAMICROSS.c -o ta_CDLHARAMICROSS.o >/dev/null 2>&1\n",
            "mv -f .deps/ta_CDLHARAMICROSS.Tpo .deps/ta_CDLHARAMICROSS.Plo\n",
            "/bin/bash ../../libtool --tag=CC   --mode=compile gcc -DHAVE_CONFIG_H -I. -I../../include  -I../ta_common/   -g -O2 -MT ta_CDLHIGHWAVE.lo -MD -MP -MF .deps/ta_CDLHIGHWAVE.Tpo -c -o ta_CDLHIGHWAVE.lo ta_CDLHIGHWAVE.c\n",
            " gcc -DHAVE_CONFIG_H -I. -I../../include -I../ta_common/ -g -O2 -MT ta_CDLHIGHWAVE.lo -MD -MP -MF .deps/ta_CDLHIGHWAVE.Tpo -c ta_CDLHIGHWAVE.c  -fPIC -DPIC -o .libs/ta_CDLHIGHWAVE.o\n",
            " gcc -DHAVE_CONFIG_H -I. -I../../include -I../ta_common/ -g -O2 -MT ta_CDLHIGHWAVE.lo -MD -MP -MF .deps/ta_CDLHIGHWAVE.Tpo -c ta_CDLHIGHWAVE.c -o ta_CDLHIGHWAVE.o >/dev/null 2>&1\n",
            "mv -f .deps/ta_CDLHIGHWAVE.Tpo .deps/ta_CDLHIGHWAVE.Plo\n",
            "/bin/bash ../../libtool --tag=CC   --mode=compile gcc -DHAVE_CONFIG_H -I. -I../../include  -I../ta_common/   -g -O2 -MT ta_CDLHIKKAKE.lo -MD -MP -MF .deps/ta_CDLHIKKAKE.Tpo -c -o ta_CDLHIKKAKE.lo ta_CDLHIKKAKE.c\n",
            " gcc -DHAVE_CONFIG_H -I. -I../../include -I../ta_common/ -g -O2 -MT ta_CDLHIKKAKE.lo -MD -MP -MF .deps/ta_CDLHIKKAKE.Tpo -c ta_CDLHIKKAKE.c  -fPIC -DPIC -o .libs/ta_CDLHIKKAKE.o\n",
            " gcc -DHAVE_CONFIG_H -I. -I../../include -I../ta_common/ -g -O2 -MT ta_CDLHIKKAKE.lo -MD -MP -MF .deps/ta_CDLHIKKAKE.Tpo -c ta_CDLHIKKAKE.c -o ta_CDLHIKKAKE.o >/dev/null 2>&1\n",
            "mv -f .deps/ta_CDLHIKKAKE.Tpo .deps/ta_CDLHIKKAKE.Plo\n",
            "/bin/bash ../../libtool --tag=CC   --mode=compile gcc -DHAVE_CONFIG_H -I. -I../../include  -I../ta_common/   -g -O2 -MT ta_CDLHIKKAKEMOD.lo -MD -MP -MF .deps/ta_CDLHIKKAKEMOD.Tpo -c -o ta_CDLHIKKAKEMOD.lo ta_CDLHIKKAKEMOD.c\n",
            " gcc -DHAVE_CONFIG_H -I. -I../../include -I../ta_common/ -g -O2 -MT ta_CDLHIKKAKEMOD.lo -MD -MP -MF .deps/ta_CDLHIKKAKEMOD.Tpo -c ta_CDLHIKKAKEMOD.c  -fPIC -DPIC -o .libs/ta_CDLHIKKAKEMOD.o\n",
            " gcc -DHAVE_CONFIG_H -I. -I../../include -I../ta_common/ -g -O2 -MT ta_CDLHIKKAKEMOD.lo -MD -MP -MF .deps/ta_CDLHIKKAKEMOD.Tpo -c ta_CDLHIKKAKEMOD.c -o ta_CDLHIKKAKEMOD.o >/dev/null 2>&1\n",
            "mv -f .deps/ta_CDLHIKKAKEMOD.Tpo .deps/ta_CDLHIKKAKEMOD.Plo\n",
            "/bin/bash ../../libtool --tag=CC   --mode=compile gcc -DHAVE_CONFIG_H -I. -I../../include  -I../ta_common/   -g -O2 -MT ta_CDLHOMINGPIGEON.lo -MD -MP -MF .deps/ta_CDLHOMINGPIGEON.Tpo -c -o ta_CDLHOMINGPIGEON.lo ta_CDLHOMINGPIGEON.c\n",
            " gcc -DHAVE_CONFIG_H -I. -I../../include -I../ta_common/ -g -O2 -MT ta_CDLHOMINGPIGEON.lo -MD -MP -MF .deps/ta_CDLHOMINGPIGEON.Tpo -c ta_CDLHOMINGPIGEON.c  -fPIC -DPIC -o .libs/ta_CDLHOMINGPIGEON.o\n",
            " gcc -DHAVE_CONFIG_H -I. -I../../include -I../ta_common/ -g -O2 -MT ta_CDLHOMINGPIGEON.lo -MD -MP -MF .deps/ta_CDLHOMINGPIGEON.Tpo -c ta_CDLHOMINGPIGEON.c -o ta_CDLHOMINGPIGEON.o >/dev/null 2>&1\n",
            "mv -f .deps/ta_CDLHOMINGPIGEON.Tpo .deps/ta_CDLHOMINGPIGEON.Plo\n",
            "/bin/bash ../../libtool --tag=CC   --mode=compile gcc -DHAVE_CONFIG_H -I. -I../../include  -I../ta_common/   -g -O2 -MT ta_CDLIDENTICAL3CROWS.lo -MD -MP -MF .deps/ta_CDLIDENTICAL3CROWS.Tpo -c -o ta_CDLIDENTICAL3CROWS.lo ta_CDLIDENTICAL3CROWS.c\n",
            " gcc -DHAVE_CONFIG_H -I. -I../../include -I../ta_common/ -g -O2 -MT ta_CDLIDENTICAL3CROWS.lo -MD -MP -MF .deps/ta_CDLIDENTICAL3CROWS.Tpo -c ta_CDLIDENTICAL3CROWS.c  -fPIC -DPIC -o .libs/ta_CDLIDENTICAL3CROWS.o\n",
            " gcc -DHAVE_CONFIG_H -I. -I../../include -I../ta_common/ -g -O2 -MT ta_CDLIDENTICAL3CROWS.lo -MD -MP -MF .deps/ta_CDLIDENTICAL3CROWS.Tpo -c ta_CDLIDENTICAL3CROWS.c -o ta_CDLIDENTICAL3CROWS.o >/dev/null 2>&1\n",
            "mv -f .deps/ta_CDLIDENTICAL3CROWS.Tpo .deps/ta_CDLIDENTICAL3CROWS.Plo\n",
            "/bin/bash ../../libtool --tag=CC   --mode=compile gcc -DHAVE_CONFIG_H -I. -I../../include  -I../ta_common/   -g -O2 -MT ta_CDLINNECK.lo -MD -MP -MF .deps/ta_CDLINNECK.Tpo -c -o ta_CDLINNECK.lo ta_CDLINNECK.c\n",
            " gcc -DHAVE_CONFIG_H -I. -I../../include -I../ta_common/ -g -O2 -MT ta_CDLINNECK.lo -MD -MP -MF .deps/ta_CDLINNECK.Tpo -c ta_CDLINNECK.c  -fPIC -DPIC -o .libs/ta_CDLINNECK.o\n",
            " gcc -DHAVE_CONFIG_H -I. -I../../include -I../ta_common/ -g -O2 -MT ta_CDLINNECK.lo -MD -MP -MF .deps/ta_CDLINNECK.Tpo -c ta_CDLINNECK.c -o ta_CDLINNECK.o >/dev/null 2>&1\n",
            "mv -f .deps/ta_CDLINNECK.Tpo .deps/ta_CDLINNECK.Plo\n",
            "/bin/bash ../../libtool --tag=CC   --mode=compile gcc -DHAVE_CONFIG_H -I. -I../../include  -I../ta_common/   -g -O2 -MT ta_CDLINVERTEDHAMMER.lo -MD -MP -MF .deps/ta_CDLINVERTEDHAMMER.Tpo -c -o ta_CDLINVERTEDHAMMER.lo ta_CDLINVERTEDHAMMER.c\n",
            " gcc -DHAVE_CONFIG_H -I. -I../../include -I../ta_common/ -g -O2 -MT ta_CDLINVERTEDHAMMER.lo -MD -MP -MF .deps/ta_CDLINVERTEDHAMMER.Tpo -c ta_CDLINVERTEDHAMMER.c  -fPIC -DPIC -o .libs/ta_CDLINVERTEDHAMMER.o\n",
            " gcc -DHAVE_CONFIG_H -I. -I../../include -I../ta_common/ -g -O2 -MT ta_CDLINVERTEDHAMMER.lo -MD -MP -MF .deps/ta_CDLINVERTEDHAMMER.Tpo -c ta_CDLINVERTEDHAMMER.c -o ta_CDLINVERTEDHAMMER.o >/dev/null 2>&1\n",
            "mv -f .deps/ta_CDLINVERTEDHAMMER.Tpo .deps/ta_CDLINVERTEDHAMMER.Plo\n",
            "/bin/bash ../../libtool --tag=CC   --mode=compile gcc -DHAVE_CONFIG_H -I. -I../../include  -I../ta_common/   -g -O2 -MT ta_CDLKICKING.lo -MD -MP -MF .deps/ta_CDLKICKING.Tpo -c -o ta_CDLKICKING.lo ta_CDLKICKING.c\n",
            " gcc -DHAVE_CONFIG_H -I. -I../../include -I../ta_common/ -g -O2 -MT ta_CDLKICKING.lo -MD -MP -MF .deps/ta_CDLKICKING.Tpo -c ta_CDLKICKING.c  -fPIC -DPIC -o .libs/ta_CDLKICKING.o\n",
            " gcc -DHAVE_CONFIG_H -I. -I../../include -I../ta_common/ -g -O2 -MT ta_CDLKICKING.lo -MD -MP -MF .deps/ta_CDLKICKING.Tpo -c ta_CDLKICKING.c -o ta_CDLKICKING.o >/dev/null 2>&1\n",
            "mv -f .deps/ta_CDLKICKING.Tpo .deps/ta_CDLKICKING.Plo\n",
            "/bin/bash ../../libtool --tag=CC   --mode=compile gcc -DHAVE_CONFIG_H -I. -I../../include  -I../ta_common/   -g -O2 -MT ta_CDLKICKINGBYLENGTH.lo -MD -MP -MF .deps/ta_CDLKICKINGBYLENGTH.Tpo -c -o ta_CDLKICKINGBYLENGTH.lo ta_CDLKICKINGBYLENGTH.c\n",
            " gcc -DHAVE_CONFIG_H -I. -I../../include -I../ta_common/ -g -O2 -MT ta_CDLKICKINGBYLENGTH.lo -MD -MP -MF .deps/ta_CDLKICKINGBYLENGTH.Tpo -c ta_CDLKICKINGBYLENGTH.c  -fPIC -DPIC -o .libs/ta_CDLKICKINGBYLENGTH.o\n",
            " gcc -DHAVE_CONFIG_H -I. -I../../include -I../ta_common/ -g -O2 -MT ta_CDLKICKINGBYLENGTH.lo -MD -MP -MF .deps/ta_CDLKICKINGBYLENGTH.Tpo -c ta_CDLKICKINGBYLENGTH.c -o ta_CDLKICKINGBYLENGTH.o >/dev/null 2>&1\n",
            "mv -f .deps/ta_CDLKICKINGBYLENGTH.Tpo .deps/ta_CDLKICKINGBYLENGTH.Plo\n",
            "/bin/bash ../../libtool --tag=CC   --mode=compile gcc -DHAVE_CONFIG_H -I. -I../../include  -I../ta_common/   -g -O2 -MT ta_CDLLADDERBOTTOM.lo -MD -MP -MF .deps/ta_CDLLADDERBOTTOM.Tpo -c -o ta_CDLLADDERBOTTOM.lo ta_CDLLADDERBOTTOM.c\n",
            " gcc -DHAVE_CONFIG_H -I. -I../../include -I../ta_common/ -g -O2 -MT ta_CDLLADDERBOTTOM.lo -MD -MP -MF .deps/ta_CDLLADDERBOTTOM.Tpo -c ta_CDLLADDERBOTTOM.c  -fPIC -DPIC -o .libs/ta_CDLLADDERBOTTOM.o\n",
            " gcc -DHAVE_CONFIG_H -I. -I../../include -I../ta_common/ -g -O2 -MT ta_CDLLADDERBOTTOM.lo -MD -MP -MF .deps/ta_CDLLADDERBOTTOM.Tpo -c ta_CDLLADDERBOTTOM.c -o ta_CDLLADDERBOTTOM.o >/dev/null 2>&1\n",
            "mv -f .deps/ta_CDLLADDERBOTTOM.Tpo .deps/ta_CDLLADDERBOTTOM.Plo\n",
            "/bin/bash ../../libtool --tag=CC   --mode=compile gcc -DHAVE_CONFIG_H -I. -I../../include  -I../ta_common/   -g -O2 -MT ta_CDLLONGLEGGEDDOJI.lo -MD -MP -MF .deps/ta_CDLLONGLEGGEDDOJI.Tpo -c -o ta_CDLLONGLEGGEDDOJI.lo ta_CDLLONGLEGGEDDOJI.c\n",
            " gcc -DHAVE_CONFIG_H -I. -I../../include -I../ta_common/ -g -O2 -MT ta_CDLLONGLEGGEDDOJI.lo -MD -MP -MF .deps/ta_CDLLONGLEGGEDDOJI.Tpo -c ta_CDLLONGLEGGEDDOJI.c  -fPIC -DPIC -o .libs/ta_CDLLONGLEGGEDDOJI.o\n",
            " gcc -DHAVE_CONFIG_H -I. -I../../include -I../ta_common/ -g -O2 -MT ta_CDLLONGLEGGEDDOJI.lo -MD -MP -MF .deps/ta_CDLLONGLEGGEDDOJI.Tpo -c ta_CDLLONGLEGGEDDOJI.c -o ta_CDLLONGLEGGEDDOJI.o >/dev/null 2>&1\n",
            "mv -f .deps/ta_CDLLONGLEGGEDDOJI.Tpo .deps/ta_CDLLONGLEGGEDDOJI.Plo\n",
            "/bin/bash ../../libtool --tag=CC   --mode=compile gcc -DHAVE_CONFIG_H -I. -I../../include  -I../ta_common/   -g -O2 -MT ta_CDLLONGLINE.lo -MD -MP -MF .deps/ta_CDLLONGLINE.Tpo -c -o ta_CDLLONGLINE.lo ta_CDLLONGLINE.c\n",
            " gcc -DHAVE_CONFIG_H -I. -I../../include -I../ta_common/ -g -O2 -MT ta_CDLLONGLINE.lo -MD -MP -MF .deps/ta_CDLLONGLINE.Tpo -c ta_CDLLONGLINE.c  -fPIC -DPIC -o .libs/ta_CDLLONGLINE.o\n",
            " gcc -DHAVE_CONFIG_H -I. -I../../include -I../ta_common/ -g -O2 -MT ta_CDLLONGLINE.lo -MD -MP -MF .deps/ta_CDLLONGLINE.Tpo -c ta_CDLLONGLINE.c -o ta_CDLLONGLINE.o >/dev/null 2>&1\n",
            "mv -f .deps/ta_CDLLONGLINE.Tpo .deps/ta_CDLLONGLINE.Plo\n",
            "/bin/bash ../../libtool --tag=CC   --mode=compile gcc -DHAVE_CONFIG_H -I. -I../../include  -I../ta_common/   -g -O2 -MT ta_CDLMARUBOZU.lo -MD -MP -MF .deps/ta_CDLMARUBOZU.Tpo -c -o ta_CDLMARUBOZU.lo ta_CDLMARUBOZU.c\n",
            " gcc -DHAVE_CONFIG_H -I. -I../../include -I../ta_common/ -g -O2 -MT ta_CDLMARUBOZU.lo -MD -MP -MF .deps/ta_CDLMARUBOZU.Tpo -c ta_CDLMARUBOZU.c  -fPIC -DPIC -o .libs/ta_CDLMARUBOZU.o\n",
            " gcc -DHAVE_CONFIG_H -I. -I../../include -I../ta_common/ -g -O2 -MT ta_CDLMARUBOZU.lo -MD -MP -MF .deps/ta_CDLMARUBOZU.Tpo -c ta_CDLMARUBOZU.c -o ta_CDLMARUBOZU.o >/dev/null 2>&1\n",
            "mv -f .deps/ta_CDLMARUBOZU.Tpo .deps/ta_CDLMARUBOZU.Plo\n",
            "/bin/bash ../../libtool --tag=CC   --mode=compile gcc -DHAVE_CONFIG_H -I. -I../../include  -I../ta_common/   -g -O2 -MT ta_CDLMATCHINGLOW.lo -MD -MP -MF .deps/ta_CDLMATCHINGLOW.Tpo -c -o ta_CDLMATCHINGLOW.lo ta_CDLMATCHINGLOW.c\n",
            " gcc -DHAVE_CONFIG_H -I. -I../../include -I../ta_common/ -g -O2 -MT ta_CDLMATCHINGLOW.lo -MD -MP -MF .deps/ta_CDLMATCHINGLOW.Tpo -c ta_CDLMATCHINGLOW.c  -fPIC -DPIC -o .libs/ta_CDLMATCHINGLOW.o\n",
            " gcc -DHAVE_CONFIG_H -I. -I../../include -I../ta_common/ -g -O2 -MT ta_CDLMATCHINGLOW.lo -MD -MP -MF .deps/ta_CDLMATCHINGLOW.Tpo -c ta_CDLMATCHINGLOW.c -o ta_CDLMATCHINGLOW.o >/dev/null 2>&1\n",
            "mv -f .deps/ta_CDLMATCHINGLOW.Tpo .deps/ta_CDLMATCHINGLOW.Plo\n",
            "/bin/bash ../../libtool --tag=CC   --mode=compile gcc -DHAVE_CONFIG_H -I. -I../../include  -I../ta_common/   -g -O2 -MT ta_CDLMATHOLD.lo -MD -MP -MF .deps/ta_CDLMATHOLD.Tpo -c -o ta_CDLMATHOLD.lo ta_CDLMATHOLD.c\n",
            " gcc -DHAVE_CONFIG_H -I. -I../../include -I../ta_common/ -g -O2 -MT ta_CDLMATHOLD.lo -MD -MP -MF .deps/ta_CDLMATHOLD.Tpo -c ta_CDLMATHOLD.c  -fPIC -DPIC -o .libs/ta_CDLMATHOLD.o\n",
            " gcc -DHAVE_CONFIG_H -I. -I../../include -I../ta_common/ -g -O2 -MT ta_CDLMATHOLD.lo -MD -MP -MF .deps/ta_CDLMATHOLD.Tpo -c ta_CDLMATHOLD.c -o ta_CDLMATHOLD.o >/dev/null 2>&1\n",
            "mv -f .deps/ta_CDLMATHOLD.Tpo .deps/ta_CDLMATHOLD.Plo\n",
            "/bin/bash ../../libtool --tag=CC   --mode=compile gcc -DHAVE_CONFIG_H -I. -I../../include  -I../ta_common/   -g -O2 -MT ta_CDLMORNINGDOJISTAR.lo -MD -MP -MF .deps/ta_CDLMORNINGDOJISTAR.Tpo -c -o ta_CDLMORNINGDOJISTAR.lo ta_CDLMORNINGDOJISTAR.c\n",
            " gcc -DHAVE_CONFIG_H -I. -I../../include -I../ta_common/ -g -O2 -MT ta_CDLMORNINGDOJISTAR.lo -MD -MP -MF .deps/ta_CDLMORNINGDOJISTAR.Tpo -c ta_CDLMORNINGDOJISTAR.c  -fPIC -DPIC -o .libs/ta_CDLMORNINGDOJISTAR.o\n",
            " gcc -DHAVE_CONFIG_H -I. -I../../include -I../ta_common/ -g -O2 -MT ta_CDLMORNINGDOJISTAR.lo -MD -MP -MF .deps/ta_CDLMORNINGDOJISTAR.Tpo -c ta_CDLMORNINGDOJISTAR.c -o ta_CDLMORNINGDOJISTAR.o >/dev/null 2>&1\n",
            "mv -f .deps/ta_CDLMORNINGDOJISTAR.Tpo .deps/ta_CDLMORNINGDOJISTAR.Plo\n",
            "/bin/bash ../../libtool --tag=CC   --mode=compile gcc -DHAVE_CONFIG_H -I. -I../../include  -I../ta_common/   -g -O2 -MT ta_CDLMORNINGSTAR.lo -MD -MP -MF .deps/ta_CDLMORNINGSTAR.Tpo -c -o ta_CDLMORNINGSTAR.lo ta_CDLMORNINGSTAR.c\n",
            " gcc -DHAVE_CONFIG_H -I. -I../../include -I../ta_common/ -g -O2 -MT ta_CDLMORNINGSTAR.lo -MD -MP -MF .deps/ta_CDLMORNINGSTAR.Tpo -c ta_CDLMORNINGSTAR.c  -fPIC -DPIC -o .libs/ta_CDLMORNINGSTAR.o\n",
            " gcc -DHAVE_CONFIG_H -I. -I../../include -I../ta_common/ -g -O2 -MT ta_CDLMORNINGSTAR.lo -MD -MP -MF .deps/ta_CDLMORNINGSTAR.Tpo -c ta_CDLMORNINGSTAR.c -o ta_CDLMORNINGSTAR.o >/dev/null 2>&1\n",
            "mv -f .deps/ta_CDLMORNINGSTAR.Tpo .deps/ta_CDLMORNINGSTAR.Plo\n",
            "/bin/bash ../../libtool --tag=CC   --mode=compile gcc -DHAVE_CONFIG_H -I. -I../../include  -I../ta_common/   -g -O2 -MT ta_CDLONNECK.lo -MD -MP -MF .deps/ta_CDLONNECK.Tpo -c -o ta_CDLONNECK.lo ta_CDLONNECK.c\n",
            " gcc -DHAVE_CONFIG_H -I. -I../../include -I../ta_common/ -g -O2 -MT ta_CDLONNECK.lo -MD -MP -MF .deps/ta_CDLONNECK.Tpo -c ta_CDLONNECK.c  -fPIC -DPIC -o .libs/ta_CDLONNECK.o\n",
            " gcc -DHAVE_CONFIG_H -I. -I../../include -I../ta_common/ -g -O2 -MT ta_CDLONNECK.lo -MD -MP -MF .deps/ta_CDLONNECK.Tpo -c ta_CDLONNECK.c -o ta_CDLONNECK.o >/dev/null 2>&1\n",
            "mv -f .deps/ta_CDLONNECK.Tpo .deps/ta_CDLONNECK.Plo\n",
            "/bin/bash ../../libtool --tag=CC   --mode=compile gcc -DHAVE_CONFIG_H -I. -I../../include  -I../ta_common/   -g -O2 -MT ta_CDLPIERCING.lo -MD -MP -MF .deps/ta_CDLPIERCING.Tpo -c -o ta_CDLPIERCING.lo ta_CDLPIERCING.c\n",
            " gcc -DHAVE_CONFIG_H -I. -I../../include -I../ta_common/ -g -O2 -MT ta_CDLPIERCING.lo -MD -MP -MF .deps/ta_CDLPIERCING.Tpo -c ta_CDLPIERCING.c  -fPIC -DPIC -o .libs/ta_CDLPIERCING.o\n",
            " gcc -DHAVE_CONFIG_H -I. -I../../include -I../ta_common/ -g -O2 -MT ta_CDLPIERCING.lo -MD -MP -MF .deps/ta_CDLPIERCING.Tpo -c ta_CDLPIERCING.c -o ta_CDLPIERCING.o >/dev/null 2>&1\n",
            "mv -f .deps/ta_CDLPIERCING.Tpo .deps/ta_CDLPIERCING.Plo\n",
            "/bin/bash ../../libtool --tag=CC   --mode=compile gcc -DHAVE_CONFIG_H -I. -I../../include  -I../ta_common/   -g -O2 -MT ta_CDLRICKSHAWMAN.lo -MD -MP -MF .deps/ta_CDLRICKSHAWMAN.Tpo -c -o ta_CDLRICKSHAWMAN.lo ta_CDLRICKSHAWMAN.c\n",
            " gcc -DHAVE_CONFIG_H -I. -I../../include -I../ta_common/ -g -O2 -MT ta_CDLRICKSHAWMAN.lo -MD -MP -MF .deps/ta_CDLRICKSHAWMAN.Tpo -c ta_CDLRICKSHAWMAN.c  -fPIC -DPIC -o .libs/ta_CDLRICKSHAWMAN.o\n",
            " gcc -DHAVE_CONFIG_H -I. -I../../include -I../ta_common/ -g -O2 -MT ta_CDLRICKSHAWMAN.lo -MD -MP -MF .deps/ta_CDLRICKSHAWMAN.Tpo -c ta_CDLRICKSHAWMAN.c -o ta_CDLRICKSHAWMAN.o >/dev/null 2>&1\n",
            "mv -f .deps/ta_CDLRICKSHAWMAN.Tpo .deps/ta_CDLRICKSHAWMAN.Plo\n",
            "/bin/bash ../../libtool --tag=CC   --mode=compile gcc -DHAVE_CONFIG_H -I. -I../../include  -I../ta_common/   -g -O2 -MT ta_CDLRISEFALL3METHODS.lo -MD -MP -MF .deps/ta_CDLRISEFALL3METHODS.Tpo -c -o ta_CDLRISEFALL3METHODS.lo ta_CDLRISEFALL3METHODS.c\n",
            " gcc -DHAVE_CONFIG_H -I. -I../../include -I../ta_common/ -g -O2 -MT ta_CDLRISEFALL3METHODS.lo -MD -MP -MF .deps/ta_CDLRISEFALL3METHODS.Tpo -c ta_CDLRISEFALL3METHODS.c  -fPIC -DPIC -o .libs/ta_CDLRISEFALL3METHODS.o\n",
            " gcc -DHAVE_CONFIG_H -I. -I../../include -I../ta_common/ -g -O2 -MT ta_CDLRISEFALL3METHODS.lo -MD -MP -MF .deps/ta_CDLRISEFALL3METHODS.Tpo -c ta_CDLRISEFALL3METHODS.c -o ta_CDLRISEFALL3METHODS.o >/dev/null 2>&1\n",
            "mv -f .deps/ta_CDLRISEFALL3METHODS.Tpo .deps/ta_CDLRISEFALL3METHODS.Plo\n",
            "/bin/bash ../../libtool --tag=CC   --mode=compile gcc -DHAVE_CONFIG_H -I. -I../../include  -I../ta_common/   -g -O2 -MT ta_CDLSEPARATINGLINES.lo -MD -MP -MF .deps/ta_CDLSEPARATINGLINES.Tpo -c -o ta_CDLSEPARATINGLINES.lo ta_CDLSEPARATINGLINES.c\n",
            " gcc -DHAVE_CONFIG_H -I. -I../../include -I../ta_common/ -g -O2 -MT ta_CDLSEPARATINGLINES.lo -MD -MP -MF .deps/ta_CDLSEPARATINGLINES.Tpo -c ta_CDLSEPARATINGLINES.c  -fPIC -DPIC -o .libs/ta_CDLSEPARATINGLINES.o\n",
            " gcc -DHAVE_CONFIG_H -I. -I../../include -I../ta_common/ -g -O2 -MT ta_CDLSEPARATINGLINES.lo -MD -MP -MF .deps/ta_CDLSEPARATINGLINES.Tpo -c ta_CDLSEPARATINGLINES.c -o ta_CDLSEPARATINGLINES.o >/dev/null 2>&1\n",
            "mv -f .deps/ta_CDLSEPARATINGLINES.Tpo .deps/ta_CDLSEPARATINGLINES.Plo\n",
            "/bin/bash ../../libtool --tag=CC   --mode=compile gcc -DHAVE_CONFIG_H -I. -I../../include  -I../ta_common/   -g -O2 -MT ta_CDLSHOOTINGSTAR.lo -MD -MP -MF .deps/ta_CDLSHOOTINGSTAR.Tpo -c -o ta_CDLSHOOTINGSTAR.lo ta_CDLSHOOTINGSTAR.c\n",
            " gcc -DHAVE_CONFIG_H -I. -I../../include -I../ta_common/ -g -O2 -MT ta_CDLSHOOTINGSTAR.lo -MD -MP -MF .deps/ta_CDLSHOOTINGSTAR.Tpo -c ta_CDLSHOOTINGSTAR.c  -fPIC -DPIC -o .libs/ta_CDLSHOOTINGSTAR.o\n",
            " gcc -DHAVE_CONFIG_H -I. -I../../include -I../ta_common/ -g -O2 -MT ta_CDLSHOOTINGSTAR.lo -MD -MP -MF .deps/ta_CDLSHOOTINGSTAR.Tpo -c ta_CDLSHOOTINGSTAR.c -o ta_CDLSHOOTINGSTAR.o >/dev/null 2>&1\n",
            "mv -f .deps/ta_CDLSHOOTINGSTAR.Tpo .deps/ta_CDLSHOOTINGSTAR.Plo\n",
            "/bin/bash ../../libtool --tag=CC   --mode=compile gcc -DHAVE_CONFIG_H -I. -I../../include  -I../ta_common/   -g -O2 -MT ta_CDLSHORTLINE.lo -MD -MP -MF .deps/ta_CDLSHORTLINE.Tpo -c -o ta_CDLSHORTLINE.lo ta_CDLSHORTLINE.c\n",
            " gcc -DHAVE_CONFIG_H -I. -I../../include -I../ta_common/ -g -O2 -MT ta_CDLSHORTLINE.lo -MD -MP -MF .deps/ta_CDLSHORTLINE.Tpo -c ta_CDLSHORTLINE.c  -fPIC -DPIC -o .libs/ta_CDLSHORTLINE.o\n",
            " gcc -DHAVE_CONFIG_H -I. -I../../include -I../ta_common/ -g -O2 -MT ta_CDLSHORTLINE.lo -MD -MP -MF .deps/ta_CDLSHORTLINE.Tpo -c ta_CDLSHORTLINE.c -o ta_CDLSHORTLINE.o >/dev/null 2>&1\n",
            "mv -f .deps/ta_CDLSHORTLINE.Tpo .deps/ta_CDLSHORTLINE.Plo\n",
            "/bin/bash ../../libtool --tag=CC   --mode=compile gcc -DHAVE_CONFIG_H -I. -I../../include  -I../ta_common/   -g -O2 -MT ta_CDLSPINNINGTOP.lo -MD -MP -MF .deps/ta_CDLSPINNINGTOP.Tpo -c -o ta_CDLSPINNINGTOP.lo ta_CDLSPINNINGTOP.c\n",
            " gcc -DHAVE_CONFIG_H -I. -I../../include -I../ta_common/ -g -O2 -MT ta_CDLSPINNINGTOP.lo -MD -MP -MF .deps/ta_CDLSPINNINGTOP.Tpo -c ta_CDLSPINNINGTOP.c  -fPIC -DPIC -o .libs/ta_CDLSPINNINGTOP.o\n",
            " gcc -DHAVE_CONFIG_H -I. -I../../include -I../ta_common/ -g -O2 -MT ta_CDLSPINNINGTOP.lo -MD -MP -MF .deps/ta_CDLSPINNINGTOP.Tpo -c ta_CDLSPINNINGTOP.c -o ta_CDLSPINNINGTOP.o >/dev/null 2>&1\n",
            "mv -f .deps/ta_CDLSPINNINGTOP.Tpo .deps/ta_CDLSPINNINGTOP.Plo\n",
            "/bin/bash ../../libtool --tag=CC   --mode=compile gcc -DHAVE_CONFIG_H -I. -I../../include  -I../ta_common/   -g -O2 -MT ta_CDLSTALLEDPATTERN.lo -MD -MP -MF .deps/ta_CDLSTALLEDPATTERN.Tpo -c -o ta_CDLSTALLEDPATTERN.lo ta_CDLSTALLEDPATTERN.c\n",
            " gcc -DHAVE_CONFIG_H -I. -I../../include -I../ta_common/ -g -O2 -MT ta_CDLSTALLEDPATTERN.lo -MD -MP -MF .deps/ta_CDLSTALLEDPATTERN.Tpo -c ta_CDLSTALLEDPATTERN.c  -fPIC -DPIC -o .libs/ta_CDLSTALLEDPATTERN.o\n",
            " gcc -DHAVE_CONFIG_H -I. -I../../include -I../ta_common/ -g -O2 -MT ta_CDLSTALLEDPATTERN.lo -MD -MP -MF .deps/ta_CDLSTALLEDPATTERN.Tpo -c ta_CDLSTALLEDPATTERN.c -o ta_CDLSTALLEDPATTERN.o >/dev/null 2>&1\n",
            "mv -f .deps/ta_CDLSTALLEDPATTERN.Tpo .deps/ta_CDLSTALLEDPATTERN.Plo\n",
            "/bin/bash ../../libtool --tag=CC   --mode=compile gcc -DHAVE_CONFIG_H -I. -I../../include  -I../ta_common/   -g -O2 -MT ta_CDLSTICKSANDWICH.lo -MD -MP -MF .deps/ta_CDLSTICKSANDWICH.Tpo -c -o ta_CDLSTICKSANDWICH.lo ta_CDLSTICKSANDWICH.c\n",
            " gcc -DHAVE_CONFIG_H -I. -I../../include -I../ta_common/ -g -O2 -MT ta_CDLSTICKSANDWICH.lo -MD -MP -MF .deps/ta_CDLSTICKSANDWICH.Tpo -c ta_CDLSTICKSANDWICH.c  -fPIC -DPIC -o .libs/ta_CDLSTICKSANDWICH.o\n",
            " gcc -DHAVE_CONFIG_H -I. -I../../include -I../ta_common/ -g -O2 -MT ta_CDLSTICKSANDWICH.lo -MD -MP -MF .deps/ta_CDLSTICKSANDWICH.Tpo -c ta_CDLSTICKSANDWICH.c -o ta_CDLSTICKSANDWICH.o >/dev/null 2>&1\n",
            "mv -f .deps/ta_CDLSTICKSANDWICH.Tpo .deps/ta_CDLSTICKSANDWICH.Plo\n",
            "/bin/bash ../../libtool --tag=CC   --mode=compile gcc -DHAVE_CONFIG_H -I. -I../../include  -I../ta_common/   -g -O2 -MT ta_CDLTAKURI.lo -MD -MP -MF .deps/ta_CDLTAKURI.Tpo -c -o ta_CDLTAKURI.lo ta_CDLTAKURI.c\n",
            " gcc -DHAVE_CONFIG_H -I. -I../../include -I../ta_common/ -g -O2 -MT ta_CDLTAKURI.lo -MD -MP -MF .deps/ta_CDLTAKURI.Tpo -c ta_CDLTAKURI.c  -fPIC -DPIC -o .libs/ta_CDLTAKURI.o\n",
            " gcc -DHAVE_CONFIG_H -I. -I../../include -I../ta_common/ -g -O2 -MT ta_CDLTAKURI.lo -MD -MP -MF .deps/ta_CDLTAKURI.Tpo -c ta_CDLTAKURI.c -o ta_CDLTAKURI.o >/dev/null 2>&1\n",
            "mv -f .deps/ta_CDLTAKURI.Tpo .deps/ta_CDLTAKURI.Plo\n",
            "/bin/bash ../../libtool --tag=CC   --mode=compile gcc -DHAVE_CONFIG_H -I. -I../../include  -I../ta_common/   -g -O2 -MT ta_CDLTASUKIGAP.lo -MD -MP -MF .deps/ta_CDLTASUKIGAP.Tpo -c -o ta_CDLTASUKIGAP.lo ta_CDLTASUKIGAP.c\n",
            " gcc -DHAVE_CONFIG_H -I. -I../../include -I../ta_common/ -g -O2 -MT ta_CDLTASUKIGAP.lo -MD -MP -MF .deps/ta_CDLTASUKIGAP.Tpo -c ta_CDLTASUKIGAP.c  -fPIC -DPIC -o .libs/ta_CDLTASUKIGAP.o\n",
            " gcc -DHAVE_CONFIG_H -I. -I../../include -I../ta_common/ -g -O2 -MT ta_CDLTASUKIGAP.lo -MD -MP -MF .deps/ta_CDLTASUKIGAP.Tpo -c ta_CDLTASUKIGAP.c -o ta_CDLTASUKIGAP.o >/dev/null 2>&1\n",
            "mv -f .deps/ta_CDLTASUKIGAP.Tpo .deps/ta_CDLTASUKIGAP.Plo\n",
            "/bin/bash ../../libtool --tag=CC   --mode=compile gcc -DHAVE_CONFIG_H -I. -I../../include  -I../ta_common/   -g -O2 -MT ta_CDLTHRUSTING.lo -MD -MP -MF .deps/ta_CDLTHRUSTING.Tpo -c -o ta_CDLTHRUSTING.lo ta_CDLTHRUSTING.c\n",
            " gcc -DHAVE_CONFIG_H -I. -I../../include -I../ta_common/ -g -O2 -MT ta_CDLTHRUSTING.lo -MD -MP -MF .deps/ta_CDLTHRUSTING.Tpo -c ta_CDLTHRUSTING.c  -fPIC -DPIC -o .libs/ta_CDLTHRUSTING.o\n",
            " gcc -DHAVE_CONFIG_H -I. -I../../include -I../ta_common/ -g -O2 -MT ta_CDLTHRUSTING.lo -MD -MP -MF .deps/ta_CDLTHRUSTING.Tpo -c ta_CDLTHRUSTING.c -o ta_CDLTHRUSTING.o >/dev/null 2>&1\n",
            "mv -f .deps/ta_CDLTHRUSTING.Tpo .deps/ta_CDLTHRUSTING.Plo\n",
            "/bin/bash ../../libtool --tag=CC   --mode=compile gcc -DHAVE_CONFIG_H -I. -I../../include  -I../ta_common/   -g -O2 -MT ta_CDLTRISTAR.lo -MD -MP -MF .deps/ta_CDLTRISTAR.Tpo -c -o ta_CDLTRISTAR.lo ta_CDLTRISTAR.c\n",
            " gcc -DHAVE_CONFIG_H -I. -I../../include -I../ta_common/ -g -O2 -MT ta_CDLTRISTAR.lo -MD -MP -MF .deps/ta_CDLTRISTAR.Tpo -c ta_CDLTRISTAR.c  -fPIC -DPIC -o .libs/ta_CDLTRISTAR.o\n",
            " gcc -DHAVE_CONFIG_H -I. -I../../include -I../ta_common/ -g -O2 -MT ta_CDLTRISTAR.lo -MD -MP -MF .deps/ta_CDLTRISTAR.Tpo -c ta_CDLTRISTAR.c -o ta_CDLTRISTAR.o >/dev/null 2>&1\n",
            "mv -f .deps/ta_CDLTRISTAR.Tpo .deps/ta_CDLTRISTAR.Plo\n",
            "/bin/bash ../../libtool --tag=CC   --mode=compile gcc -DHAVE_CONFIG_H -I. -I../../include  -I../ta_common/   -g -O2 -MT ta_CDLUNIQUE3RIVER.lo -MD -MP -MF .deps/ta_CDLUNIQUE3RIVER.Tpo -c -o ta_CDLUNIQUE3RIVER.lo ta_CDLUNIQUE3RIVER.c\n",
            " gcc -DHAVE_CONFIG_H -I. -I../../include -I../ta_common/ -g -O2 -MT ta_CDLUNIQUE3RIVER.lo -MD -MP -MF .deps/ta_CDLUNIQUE3RIVER.Tpo -c ta_CDLUNIQUE3RIVER.c  -fPIC -DPIC -o .libs/ta_CDLUNIQUE3RIVER.o\n",
            " gcc -DHAVE_CONFIG_H -I. -I../../include -I../ta_common/ -g -O2 -MT ta_CDLUNIQUE3RIVER.lo -MD -MP -MF .deps/ta_CDLUNIQUE3RIVER.Tpo -c ta_CDLUNIQUE3RIVER.c -o ta_CDLUNIQUE3RIVER.o >/dev/null 2>&1\n",
            "mv -f .deps/ta_CDLUNIQUE3RIVER.Tpo .deps/ta_CDLUNIQUE3RIVER.Plo\n",
            "/bin/bash ../../libtool --tag=CC   --mode=compile gcc -DHAVE_CONFIG_H -I. -I../../include  -I../ta_common/   -g -O2 -MT ta_CDLUPSIDEGAP2CROWS.lo -MD -MP -MF .deps/ta_CDLUPSIDEGAP2CROWS.Tpo -c -o ta_CDLUPSIDEGAP2CROWS.lo ta_CDLUPSIDEGAP2CROWS.c\n",
            " gcc -DHAVE_CONFIG_H -I. -I../../include -I../ta_common/ -g -O2 -MT ta_CDLUPSIDEGAP2CROWS.lo -MD -MP -MF .deps/ta_CDLUPSIDEGAP2CROWS.Tpo -c ta_CDLUPSIDEGAP2CROWS.c  -fPIC -DPIC -o .libs/ta_CDLUPSIDEGAP2CROWS.o\n",
            " gcc -DHAVE_CONFIG_H -I. -I../../include -I../ta_common/ -g -O2 -MT ta_CDLUPSIDEGAP2CROWS.lo -MD -MP -MF .deps/ta_CDLUPSIDEGAP2CROWS.Tpo -c ta_CDLUPSIDEGAP2CROWS.c -o ta_CDLUPSIDEGAP2CROWS.o >/dev/null 2>&1\n",
            "mv -f .deps/ta_CDLUPSIDEGAP2CROWS.Tpo .deps/ta_CDLUPSIDEGAP2CROWS.Plo\n",
            "/bin/bash ../../libtool --tag=CC   --mode=compile gcc -DHAVE_CONFIG_H -I. -I../../include  -I../ta_common/   -g -O2 -MT ta_CDLXSIDEGAP3METHODS.lo -MD -MP -MF .deps/ta_CDLXSIDEGAP3METHODS.Tpo -c -o ta_CDLXSIDEGAP3METHODS.lo ta_CDLXSIDEGAP3METHODS.c\n",
            " gcc -DHAVE_CONFIG_H -I. -I../../include -I../ta_common/ -g -O2 -MT ta_CDLXSIDEGAP3METHODS.lo -MD -MP -MF .deps/ta_CDLXSIDEGAP3METHODS.Tpo -c ta_CDLXSIDEGAP3METHODS.c  -fPIC -DPIC -o .libs/ta_CDLXSIDEGAP3METHODS.o\n",
            " gcc -DHAVE_CONFIG_H -I. -I../../include -I../ta_common/ -g -O2 -MT ta_CDLXSIDEGAP3METHODS.lo -MD -MP -MF .deps/ta_CDLXSIDEGAP3METHODS.Tpo -c ta_CDLXSIDEGAP3METHODS.c -o ta_CDLXSIDEGAP3METHODS.o >/dev/null 2>&1\n",
            "mv -f .deps/ta_CDLXSIDEGAP3METHODS.Tpo .deps/ta_CDLXSIDEGAP3METHODS.Plo\n",
            "/bin/bash ../../libtool --tag=CC   --mode=compile gcc -DHAVE_CONFIG_H -I. -I../../include  -I../ta_common/   -g -O2 -MT ta_CEIL.lo -MD -MP -MF .deps/ta_CEIL.Tpo -c -o ta_CEIL.lo ta_CEIL.c\n",
            " gcc -DHAVE_CONFIG_H -I. -I../../include -I../ta_common/ -g -O2 -MT ta_CEIL.lo -MD -MP -MF .deps/ta_CEIL.Tpo -c ta_CEIL.c  -fPIC -DPIC -o .libs/ta_CEIL.o\n",
            " gcc -DHAVE_CONFIG_H -I. -I../../include -I../ta_common/ -g -O2 -MT ta_CEIL.lo -MD -MP -MF .deps/ta_CEIL.Tpo -c ta_CEIL.c -o ta_CEIL.o >/dev/null 2>&1\n",
            "mv -f .deps/ta_CEIL.Tpo .deps/ta_CEIL.Plo\n",
            "/bin/bash ../../libtool --tag=CC   --mode=compile gcc -DHAVE_CONFIG_H -I. -I../../include  -I../ta_common/   -g -O2 -MT ta_CMO.lo -MD -MP -MF .deps/ta_CMO.Tpo -c -o ta_CMO.lo ta_CMO.c\n",
            " gcc -DHAVE_CONFIG_H -I. -I../../include -I../ta_common/ -g -O2 -MT ta_CMO.lo -MD -MP -MF .deps/ta_CMO.Tpo -c ta_CMO.c  -fPIC -DPIC -o .libs/ta_CMO.o\n",
            " gcc -DHAVE_CONFIG_H -I. -I../../include -I../ta_common/ -g -O2 -MT ta_CMO.lo -MD -MP -MF .deps/ta_CMO.Tpo -c ta_CMO.c -o ta_CMO.o >/dev/null 2>&1\n",
            "mv -f .deps/ta_CMO.Tpo .deps/ta_CMO.Plo\n",
            "/bin/bash ../../libtool --tag=CC   --mode=compile gcc -DHAVE_CONFIG_H -I. -I../../include  -I../ta_common/   -g -O2 -MT ta_CORREL.lo -MD -MP -MF .deps/ta_CORREL.Tpo -c -o ta_CORREL.lo ta_CORREL.c\n",
            " gcc -DHAVE_CONFIG_H -I. -I../../include -I../ta_common/ -g -O2 -MT ta_CORREL.lo -MD -MP -MF .deps/ta_CORREL.Tpo -c ta_CORREL.c  -fPIC -DPIC -o .libs/ta_CORREL.o\n",
            " gcc -DHAVE_CONFIG_H -I. -I../../include -I../ta_common/ -g -O2 -MT ta_CORREL.lo -MD -MP -MF .deps/ta_CORREL.Tpo -c ta_CORREL.c -o ta_CORREL.o >/dev/null 2>&1\n",
            "mv -f .deps/ta_CORREL.Tpo .deps/ta_CORREL.Plo\n",
            "/bin/bash ../../libtool --tag=CC   --mode=compile gcc -DHAVE_CONFIG_H -I. -I../../include  -I../ta_common/   -g -O2 -MT ta_COS.lo -MD -MP -MF .deps/ta_COS.Tpo -c -o ta_COS.lo ta_COS.c\n",
            " gcc -DHAVE_CONFIG_H -I. -I../../include -I../ta_common/ -g -O2 -MT ta_COS.lo -MD -MP -MF .deps/ta_COS.Tpo -c ta_COS.c  -fPIC -DPIC -o .libs/ta_COS.o\n",
            " gcc -DHAVE_CONFIG_H -I. -I../../include -I../ta_common/ -g -O2 -MT ta_COS.lo -MD -MP -MF .deps/ta_COS.Tpo -c ta_COS.c -o ta_COS.o >/dev/null 2>&1\n",
            "mv -f .deps/ta_COS.Tpo .deps/ta_COS.Plo\n",
            "/bin/bash ../../libtool --tag=CC   --mode=compile gcc -DHAVE_CONFIG_H -I. -I../../include  -I../ta_common/   -g -O2 -MT ta_COSH.lo -MD -MP -MF .deps/ta_COSH.Tpo -c -o ta_COSH.lo ta_COSH.c\n",
            " gcc -DHAVE_CONFIG_H -I. -I../../include -I../ta_common/ -g -O2 -MT ta_COSH.lo -MD -MP -MF .deps/ta_COSH.Tpo -c ta_COSH.c  -fPIC -DPIC -o .libs/ta_COSH.o\n",
            " gcc -DHAVE_CONFIG_H -I. -I../../include -I../ta_common/ -g -O2 -MT ta_COSH.lo -MD -MP -MF .deps/ta_COSH.Tpo -c ta_COSH.c -o ta_COSH.o >/dev/null 2>&1\n",
            "mv -f .deps/ta_COSH.Tpo .deps/ta_COSH.Plo\n",
            "/bin/bash ../../libtool --tag=CC   --mode=compile gcc -DHAVE_CONFIG_H -I. -I../../include  -I../ta_common/   -g -O2 -MT ta_DEMA.lo -MD -MP -MF .deps/ta_DEMA.Tpo -c -o ta_DEMA.lo ta_DEMA.c\n",
            " gcc -DHAVE_CONFIG_H -I. -I../../include -I../ta_common/ -g -O2 -MT ta_DEMA.lo -MD -MP -MF .deps/ta_DEMA.Tpo -c ta_DEMA.c  -fPIC -DPIC -o .libs/ta_DEMA.o\n",
            " gcc -DHAVE_CONFIG_H -I. -I../../include -I../ta_common/ -g -O2 -MT ta_DEMA.lo -MD -MP -MF .deps/ta_DEMA.Tpo -c ta_DEMA.c -o ta_DEMA.o >/dev/null 2>&1\n",
            "mv -f .deps/ta_DEMA.Tpo .deps/ta_DEMA.Plo\n",
            "/bin/bash ../../libtool --tag=CC   --mode=compile gcc -DHAVE_CONFIG_H -I. -I../../include  -I../ta_common/   -g -O2 -MT ta_DIV.lo -MD -MP -MF .deps/ta_DIV.Tpo -c -o ta_DIV.lo ta_DIV.c\n",
            " gcc -DHAVE_CONFIG_H -I. -I../../include -I../ta_common/ -g -O2 -MT ta_DIV.lo -MD -MP -MF .deps/ta_DIV.Tpo -c ta_DIV.c  -fPIC -DPIC -o .libs/ta_DIV.o\n",
            " gcc -DHAVE_CONFIG_H -I. -I../../include -I../ta_common/ -g -O2 -MT ta_DIV.lo -MD -MP -MF .deps/ta_DIV.Tpo -c ta_DIV.c -o ta_DIV.o >/dev/null 2>&1\n",
            "mv -f .deps/ta_DIV.Tpo .deps/ta_DIV.Plo\n",
            "/bin/bash ../../libtool --tag=CC   --mode=compile gcc -DHAVE_CONFIG_H -I. -I../../include  -I../ta_common/   -g -O2 -MT ta_DX.lo -MD -MP -MF .deps/ta_DX.Tpo -c -o ta_DX.lo ta_DX.c\n",
            " gcc -DHAVE_CONFIG_H -I. -I../../include -I../ta_common/ -g -O2 -MT ta_DX.lo -MD -MP -MF .deps/ta_DX.Tpo -c ta_DX.c  -fPIC -DPIC -o .libs/ta_DX.o\n",
            " gcc -DHAVE_CONFIG_H -I. -I../../include -I../ta_common/ -g -O2 -MT ta_DX.lo -MD -MP -MF .deps/ta_DX.Tpo -c ta_DX.c -o ta_DX.o >/dev/null 2>&1\n",
            "mv -f .deps/ta_DX.Tpo .deps/ta_DX.Plo\n",
            "/bin/bash ../../libtool --tag=CC   --mode=compile gcc -DHAVE_CONFIG_H -I. -I../../include  -I../ta_common/   -g -O2 -MT ta_EMA.lo -MD -MP -MF .deps/ta_EMA.Tpo -c -o ta_EMA.lo ta_EMA.c\n",
            " gcc -DHAVE_CONFIG_H -I. -I../../include -I../ta_common/ -g -O2 -MT ta_EMA.lo -MD -MP -MF .deps/ta_EMA.Tpo -c ta_EMA.c  -fPIC -DPIC -o .libs/ta_EMA.o\n",
            " gcc -DHAVE_CONFIG_H -I. -I../../include -I../ta_common/ -g -O2 -MT ta_EMA.lo -MD -MP -MF .deps/ta_EMA.Tpo -c ta_EMA.c -o ta_EMA.o >/dev/null 2>&1\n",
            "mv -f .deps/ta_EMA.Tpo .deps/ta_EMA.Plo\n",
            "/bin/bash ../../libtool --tag=CC   --mode=compile gcc -DHAVE_CONFIG_H -I. -I../../include  -I../ta_common/   -g -O2 -MT ta_EXP.lo -MD -MP -MF .deps/ta_EXP.Tpo -c -o ta_EXP.lo ta_EXP.c\n",
            " gcc -DHAVE_CONFIG_H -I. -I../../include -I../ta_common/ -g -O2 -MT ta_EXP.lo -MD -MP -MF .deps/ta_EXP.Tpo -c ta_EXP.c  -fPIC -DPIC -o .libs/ta_EXP.o\n",
            " gcc -DHAVE_CONFIG_H -I. -I../../include -I../ta_common/ -g -O2 -MT ta_EXP.lo -MD -MP -MF .deps/ta_EXP.Tpo -c ta_EXP.c -o ta_EXP.o >/dev/null 2>&1\n",
            "mv -f .deps/ta_EXP.Tpo .deps/ta_EXP.Plo\n",
            "/bin/bash ../../libtool --tag=CC   --mode=compile gcc -DHAVE_CONFIG_H -I. -I../../include  -I../ta_common/   -g -O2 -MT ta_FLOOR.lo -MD -MP -MF .deps/ta_FLOOR.Tpo -c -o ta_FLOOR.lo ta_FLOOR.c\n",
            " gcc -DHAVE_CONFIG_H -I. -I../../include -I../ta_common/ -g -O2 -MT ta_FLOOR.lo -MD -MP -MF .deps/ta_FLOOR.Tpo -c ta_FLOOR.c  -fPIC -DPIC -o .libs/ta_FLOOR.o\n",
            " gcc -DHAVE_CONFIG_H -I. -I../../include -I../ta_common/ -g -O2 -MT ta_FLOOR.lo -MD -MP -MF .deps/ta_FLOOR.Tpo -c ta_FLOOR.c -o ta_FLOOR.o >/dev/null 2>&1\n",
            "mv -f .deps/ta_FLOOR.Tpo .deps/ta_FLOOR.Plo\n",
            "/bin/bash ../../libtool --tag=CC   --mode=compile gcc -DHAVE_CONFIG_H -I. -I../../include  -I../ta_common/   -g -O2 -MT ta_HT_DCPERIOD.lo -MD -MP -MF .deps/ta_HT_DCPERIOD.Tpo -c -o ta_HT_DCPERIOD.lo ta_HT_DCPERIOD.c\n",
            " gcc -DHAVE_CONFIG_H -I. -I../../include -I../ta_common/ -g -O2 -MT ta_HT_DCPERIOD.lo -MD -MP -MF .deps/ta_HT_DCPERIOD.Tpo -c ta_HT_DCPERIOD.c  -fPIC -DPIC -o .libs/ta_HT_DCPERIOD.o\n",
            " gcc -DHAVE_CONFIG_H -I. -I../../include -I../ta_common/ -g -O2 -MT ta_HT_DCPERIOD.lo -MD -MP -MF .deps/ta_HT_DCPERIOD.Tpo -c ta_HT_DCPERIOD.c -o ta_HT_DCPERIOD.o >/dev/null 2>&1\n",
            "mv -f .deps/ta_HT_DCPERIOD.Tpo .deps/ta_HT_DCPERIOD.Plo\n",
            "/bin/bash ../../libtool --tag=CC   --mode=compile gcc -DHAVE_CONFIG_H -I. -I../../include  -I../ta_common/   -g -O2 -MT ta_HT_DCPHASE.lo -MD -MP -MF .deps/ta_HT_DCPHASE.Tpo -c -o ta_HT_DCPHASE.lo ta_HT_DCPHASE.c\n",
            " gcc -DHAVE_CONFIG_H -I. -I../../include -I../ta_common/ -g -O2 -MT ta_HT_DCPHASE.lo -MD -MP -MF .deps/ta_HT_DCPHASE.Tpo -c ta_HT_DCPHASE.c  -fPIC -DPIC -o .libs/ta_HT_DCPHASE.o\n",
            " gcc -DHAVE_CONFIG_H -I. -I../../include -I../ta_common/ -g -O2 -MT ta_HT_DCPHASE.lo -MD -MP -MF .deps/ta_HT_DCPHASE.Tpo -c ta_HT_DCPHASE.c -o ta_HT_DCPHASE.o >/dev/null 2>&1\n",
            "mv -f .deps/ta_HT_DCPHASE.Tpo .deps/ta_HT_DCPHASE.Plo\n",
            "/bin/bash ../../libtool --tag=CC   --mode=compile gcc -DHAVE_CONFIG_H -I. -I../../include  -I../ta_common/   -g -O2 -MT ta_HT_PHASOR.lo -MD -MP -MF .deps/ta_HT_PHASOR.Tpo -c -o ta_HT_PHASOR.lo ta_HT_PHASOR.c\n",
            " gcc -DHAVE_CONFIG_H -I. -I../../include -I../ta_common/ -g -O2 -MT ta_HT_PHASOR.lo -MD -MP -MF .deps/ta_HT_PHASOR.Tpo -c ta_HT_PHASOR.c  -fPIC -DPIC -o .libs/ta_HT_PHASOR.o\n",
            " gcc -DHAVE_CONFIG_H -I. -I../../include -I../ta_common/ -g -O2 -MT ta_HT_PHASOR.lo -MD -MP -MF .deps/ta_HT_PHASOR.Tpo -c ta_HT_PHASOR.c -o ta_HT_PHASOR.o >/dev/null 2>&1\n",
            "mv -f .deps/ta_HT_PHASOR.Tpo .deps/ta_HT_PHASOR.Plo\n",
            "/bin/bash ../../libtool --tag=CC   --mode=compile gcc -DHAVE_CONFIG_H -I. -I../../include  -I../ta_common/   -g -O2 -MT ta_HT_SINE.lo -MD -MP -MF .deps/ta_HT_SINE.Tpo -c -o ta_HT_SINE.lo ta_HT_SINE.c\n",
            " gcc -DHAVE_CONFIG_H -I. -I../../include -I../ta_common/ -g -O2 -MT ta_HT_SINE.lo -MD -MP -MF .deps/ta_HT_SINE.Tpo -c ta_HT_SINE.c  -fPIC -DPIC -o .libs/ta_HT_SINE.o\n",
            " gcc -DHAVE_CONFIG_H -I. -I../../include -I../ta_common/ -g -O2 -MT ta_HT_SINE.lo -MD -MP -MF .deps/ta_HT_SINE.Tpo -c ta_HT_SINE.c -o ta_HT_SINE.o >/dev/null 2>&1\n",
            "mv -f .deps/ta_HT_SINE.Tpo .deps/ta_HT_SINE.Plo\n",
            "/bin/bash ../../libtool --tag=CC   --mode=compile gcc -DHAVE_CONFIG_H -I. -I../../include  -I../ta_common/   -g -O2 -MT ta_HT_TRENDLINE.lo -MD -MP -MF .deps/ta_HT_TRENDLINE.Tpo -c -o ta_HT_TRENDLINE.lo ta_HT_TRENDLINE.c\n",
            " gcc -DHAVE_CONFIG_H -I. -I../../include -I../ta_common/ -g -O2 -MT ta_HT_TRENDLINE.lo -MD -MP -MF .deps/ta_HT_TRENDLINE.Tpo -c ta_HT_TRENDLINE.c  -fPIC -DPIC -o .libs/ta_HT_TRENDLINE.o\n",
            " gcc -DHAVE_CONFIG_H -I. -I../../include -I../ta_common/ -g -O2 -MT ta_HT_TRENDLINE.lo -MD -MP -MF .deps/ta_HT_TRENDLINE.Tpo -c ta_HT_TRENDLINE.c -o ta_HT_TRENDLINE.o >/dev/null 2>&1\n",
            "mv -f .deps/ta_HT_TRENDLINE.Tpo .deps/ta_HT_TRENDLINE.Plo\n",
            "/bin/bash ../../libtool --tag=CC   --mode=compile gcc -DHAVE_CONFIG_H -I. -I../../include  -I../ta_common/   -g -O2 -MT ta_HT_TRENDMODE.lo -MD -MP -MF .deps/ta_HT_TRENDMODE.Tpo -c -o ta_HT_TRENDMODE.lo ta_HT_TRENDMODE.c\n",
            " gcc -DHAVE_CONFIG_H -I. -I../../include -I../ta_common/ -g -O2 -MT ta_HT_TRENDMODE.lo -MD -MP -MF .deps/ta_HT_TRENDMODE.Tpo -c ta_HT_TRENDMODE.c  -fPIC -DPIC -o .libs/ta_HT_TRENDMODE.o\n",
            " gcc -DHAVE_CONFIG_H -I. -I../../include -I../ta_common/ -g -O2 -MT ta_HT_TRENDMODE.lo -MD -MP -MF .deps/ta_HT_TRENDMODE.Tpo -c ta_HT_TRENDMODE.c -o ta_HT_TRENDMODE.o >/dev/null 2>&1\n",
            "mv -f .deps/ta_HT_TRENDMODE.Tpo .deps/ta_HT_TRENDMODE.Plo\n",
            "/bin/bash ../../libtool --tag=CC   --mode=compile gcc -DHAVE_CONFIG_H -I. -I../../include  -I../ta_common/   -g -O2 -MT ta_KAMA.lo -MD -MP -MF .deps/ta_KAMA.Tpo -c -o ta_KAMA.lo ta_KAMA.c\n",
            " gcc -DHAVE_CONFIG_H -I. -I../../include -I../ta_common/ -g -O2 -MT ta_KAMA.lo -MD -MP -MF .deps/ta_KAMA.Tpo -c ta_KAMA.c  -fPIC -DPIC -o .libs/ta_KAMA.o\n",
            " gcc -DHAVE_CONFIG_H -I. -I../../include -I../ta_common/ -g -O2 -MT ta_KAMA.lo -MD -MP -MF .deps/ta_KAMA.Tpo -c ta_KAMA.c -o ta_KAMA.o >/dev/null 2>&1\n",
            "mv -f .deps/ta_KAMA.Tpo .deps/ta_KAMA.Plo\n",
            "/bin/bash ../../libtool --tag=CC   --mode=compile gcc -DHAVE_CONFIG_H -I. -I../../include  -I../ta_common/   -g -O2 -MT ta_LINEARREG.lo -MD -MP -MF .deps/ta_LINEARREG.Tpo -c -o ta_LINEARREG.lo ta_LINEARREG.c\n",
            " gcc -DHAVE_CONFIG_H -I. -I../../include -I../ta_common/ -g -O2 -MT ta_LINEARREG.lo -MD -MP -MF .deps/ta_LINEARREG.Tpo -c ta_LINEARREG.c  -fPIC -DPIC -o .libs/ta_LINEARREG.o\n",
            " gcc -DHAVE_CONFIG_H -I. -I../../include -I../ta_common/ -g -O2 -MT ta_LINEARREG.lo -MD -MP -MF .deps/ta_LINEARREG.Tpo -c ta_LINEARREG.c -o ta_LINEARREG.o >/dev/null 2>&1\n",
            "mv -f .deps/ta_LINEARREG.Tpo .deps/ta_LINEARREG.Plo\n",
            "/bin/bash ../../libtool --tag=CC   --mode=compile gcc -DHAVE_CONFIG_H -I. -I../../include  -I../ta_common/   -g -O2 -MT ta_LINEARREG_ANGLE.lo -MD -MP -MF .deps/ta_LINEARREG_ANGLE.Tpo -c -o ta_LINEARREG_ANGLE.lo ta_LINEARREG_ANGLE.c\n",
            " gcc -DHAVE_CONFIG_H -I. -I../../include -I../ta_common/ -g -O2 -MT ta_LINEARREG_ANGLE.lo -MD -MP -MF .deps/ta_LINEARREG_ANGLE.Tpo -c ta_LINEARREG_ANGLE.c  -fPIC -DPIC -o .libs/ta_LINEARREG_ANGLE.o\n",
            " gcc -DHAVE_CONFIG_H -I. -I../../include -I../ta_common/ -g -O2 -MT ta_LINEARREG_ANGLE.lo -MD -MP -MF .deps/ta_LINEARREG_ANGLE.Tpo -c ta_LINEARREG_ANGLE.c -o ta_LINEARREG_ANGLE.o >/dev/null 2>&1\n",
            "mv -f .deps/ta_LINEARREG_ANGLE.Tpo .deps/ta_LINEARREG_ANGLE.Plo\n",
            "/bin/bash ../../libtool --tag=CC   --mode=compile gcc -DHAVE_CONFIG_H -I. -I../../include  -I../ta_common/   -g -O2 -MT ta_LINEARREG_INTERCEPT.lo -MD -MP -MF .deps/ta_LINEARREG_INTERCEPT.Tpo -c -o ta_LINEARREG_INTERCEPT.lo ta_LINEARREG_INTERCEPT.c\n",
            " gcc -DHAVE_CONFIG_H -I. -I../../include -I../ta_common/ -g -O2 -MT ta_LINEARREG_INTERCEPT.lo -MD -MP -MF .deps/ta_LINEARREG_INTERCEPT.Tpo -c ta_LINEARREG_INTERCEPT.c  -fPIC -DPIC -o .libs/ta_LINEARREG_INTERCEPT.o\n",
            " gcc -DHAVE_CONFIG_H -I. -I../../include -I../ta_common/ -g -O2 -MT ta_LINEARREG_INTERCEPT.lo -MD -MP -MF .deps/ta_LINEARREG_INTERCEPT.Tpo -c ta_LINEARREG_INTERCEPT.c -o ta_LINEARREG_INTERCEPT.o >/dev/null 2>&1\n",
            "mv -f .deps/ta_LINEARREG_INTERCEPT.Tpo .deps/ta_LINEARREG_INTERCEPT.Plo\n",
            "/bin/bash ../../libtool --tag=CC   --mode=compile gcc -DHAVE_CONFIG_H -I. -I../../include  -I../ta_common/   -g -O2 -MT ta_LINEARREG_SLOPE.lo -MD -MP -MF .deps/ta_LINEARREG_SLOPE.Tpo -c -o ta_LINEARREG_SLOPE.lo ta_LINEARREG_SLOPE.c\n",
            " gcc -DHAVE_CONFIG_H -I. -I../../include -I../ta_common/ -g -O2 -MT ta_LINEARREG_SLOPE.lo -MD -MP -MF .deps/ta_LINEARREG_SLOPE.Tpo -c ta_LINEARREG_SLOPE.c  -fPIC -DPIC -o .libs/ta_LINEARREG_SLOPE.o\n",
            " gcc -DHAVE_CONFIG_H -I. -I../../include -I../ta_common/ -g -O2 -MT ta_LINEARREG_SLOPE.lo -MD -MP -MF .deps/ta_LINEARREG_SLOPE.Tpo -c ta_LINEARREG_SLOPE.c -o ta_LINEARREG_SLOPE.o >/dev/null 2>&1\n",
            "mv -f .deps/ta_LINEARREG_SLOPE.Tpo .deps/ta_LINEARREG_SLOPE.Plo\n",
            "/bin/bash ../../libtool --tag=CC   --mode=compile gcc -DHAVE_CONFIG_H -I. -I../../include  -I../ta_common/   -g -O2 -MT ta_LN.lo -MD -MP -MF .deps/ta_LN.Tpo -c -o ta_LN.lo ta_LN.c\n",
            " gcc -DHAVE_CONFIG_H -I. -I../../include -I../ta_common/ -g -O2 -MT ta_LN.lo -MD -MP -MF .deps/ta_LN.Tpo -c ta_LN.c  -fPIC -DPIC -o .libs/ta_LN.o\n",
            " gcc -DHAVE_CONFIG_H -I. -I../../include -I../ta_common/ -g -O2 -MT ta_LN.lo -MD -MP -MF .deps/ta_LN.Tpo -c ta_LN.c -o ta_LN.o >/dev/null 2>&1\n",
            "mv -f .deps/ta_LN.Tpo .deps/ta_LN.Plo\n",
            "/bin/bash ../../libtool --tag=CC   --mode=compile gcc -DHAVE_CONFIG_H -I. -I../../include  -I../ta_common/   -g -O2 -MT ta_LOG10.lo -MD -MP -MF .deps/ta_LOG10.Tpo -c -o ta_LOG10.lo ta_LOG10.c\n",
            " gcc -DHAVE_CONFIG_H -I. -I../../include -I../ta_common/ -g -O2 -MT ta_LOG10.lo -MD -MP -MF .deps/ta_LOG10.Tpo -c ta_LOG10.c  -fPIC -DPIC -o .libs/ta_LOG10.o\n",
            " gcc -DHAVE_CONFIG_H -I. -I../../include -I../ta_common/ -g -O2 -MT ta_LOG10.lo -MD -MP -MF .deps/ta_LOG10.Tpo -c ta_LOG10.c -o ta_LOG10.o >/dev/null 2>&1\n",
            "mv -f .deps/ta_LOG10.Tpo .deps/ta_LOG10.Plo\n",
            "/bin/bash ../../libtool --tag=CC   --mode=compile gcc -DHAVE_CONFIG_H -I. -I../../include  -I../ta_common/   -g -O2 -MT ta_MA.lo -MD -MP -MF .deps/ta_MA.Tpo -c -o ta_MA.lo ta_MA.c\n",
            " gcc -DHAVE_CONFIG_H -I. -I../../include -I../ta_common/ -g -O2 -MT ta_MA.lo -MD -MP -MF .deps/ta_MA.Tpo -c ta_MA.c  -fPIC -DPIC -o .libs/ta_MA.o\n",
            " gcc -DHAVE_CONFIG_H -I. -I../../include -I../ta_common/ -g -O2 -MT ta_MA.lo -MD -MP -MF .deps/ta_MA.Tpo -c ta_MA.c -o ta_MA.o >/dev/null 2>&1\n",
            "mv -f .deps/ta_MA.Tpo .deps/ta_MA.Plo\n",
            "/bin/bash ../../libtool --tag=CC   --mode=compile gcc -DHAVE_CONFIG_H -I. -I../../include  -I../ta_common/   -g -O2 -MT ta_MACD.lo -MD -MP -MF .deps/ta_MACD.Tpo -c -o ta_MACD.lo ta_MACD.c\n",
            " gcc -DHAVE_CONFIG_H -I. -I../../include -I../ta_common/ -g -O2 -MT ta_MACD.lo -MD -MP -MF .deps/ta_MACD.Tpo -c ta_MACD.c  -fPIC -DPIC -o .libs/ta_MACD.o\n",
            " gcc -DHAVE_CONFIG_H -I. -I../../include -I../ta_common/ -g -O2 -MT ta_MACD.lo -MD -MP -MF .deps/ta_MACD.Tpo -c ta_MACD.c -o ta_MACD.o >/dev/null 2>&1\n",
            "mv -f .deps/ta_MACD.Tpo .deps/ta_MACD.Plo\n",
            "/bin/bash ../../libtool --tag=CC   --mode=compile gcc -DHAVE_CONFIG_H -I. -I../../include  -I../ta_common/   -g -O2 -MT ta_MACDEXT.lo -MD -MP -MF .deps/ta_MACDEXT.Tpo -c -o ta_MACDEXT.lo ta_MACDEXT.c\n",
            " gcc -DHAVE_CONFIG_H -I. -I../../include -I../ta_common/ -g -O2 -MT ta_MACDEXT.lo -MD -MP -MF .deps/ta_MACDEXT.Tpo -c ta_MACDEXT.c  -fPIC -DPIC -o .libs/ta_MACDEXT.o\n",
            " gcc -DHAVE_CONFIG_H -I. -I../../include -I../ta_common/ -g -O2 -MT ta_MACDEXT.lo -MD -MP -MF .deps/ta_MACDEXT.Tpo -c ta_MACDEXT.c -o ta_MACDEXT.o >/dev/null 2>&1\n",
            "mv -f .deps/ta_MACDEXT.Tpo .deps/ta_MACDEXT.Plo\n",
            "/bin/bash ../../libtool --tag=CC   --mode=compile gcc -DHAVE_CONFIG_H -I. -I../../include  -I../ta_common/   -g -O2 -MT ta_MACDFIX.lo -MD -MP -MF .deps/ta_MACDFIX.Tpo -c -o ta_MACDFIX.lo ta_MACDFIX.c\n",
            " gcc -DHAVE_CONFIG_H -I. -I../../include -I../ta_common/ -g -O2 -MT ta_MACDFIX.lo -MD -MP -MF .deps/ta_MACDFIX.Tpo -c ta_MACDFIX.c  -fPIC -DPIC -o .libs/ta_MACDFIX.o\n",
            " gcc -DHAVE_CONFIG_H -I. -I../../include -I../ta_common/ -g -O2 -MT ta_MACDFIX.lo -MD -MP -MF .deps/ta_MACDFIX.Tpo -c ta_MACDFIX.c -o ta_MACDFIX.o >/dev/null 2>&1\n",
            "mv -f .deps/ta_MACDFIX.Tpo .deps/ta_MACDFIX.Plo\n",
            "/bin/bash ../../libtool --tag=CC   --mode=compile gcc -DHAVE_CONFIG_H -I. -I../../include  -I../ta_common/   -g -O2 -MT ta_MAMA.lo -MD -MP -MF .deps/ta_MAMA.Tpo -c -o ta_MAMA.lo ta_MAMA.c\n",
            " gcc -DHAVE_CONFIG_H -I. -I../../include -I../ta_common/ -g -O2 -MT ta_MAMA.lo -MD -MP -MF .deps/ta_MAMA.Tpo -c ta_MAMA.c  -fPIC -DPIC -o .libs/ta_MAMA.o\n",
            " gcc -DHAVE_CONFIG_H -I. -I../../include -I../ta_common/ -g -O2 -MT ta_MAMA.lo -MD -MP -MF .deps/ta_MAMA.Tpo -c ta_MAMA.c -o ta_MAMA.o >/dev/null 2>&1\n",
            "mv -f .deps/ta_MAMA.Tpo .deps/ta_MAMA.Plo\n",
            "/bin/bash ../../libtool --tag=CC   --mode=compile gcc -DHAVE_CONFIG_H -I. -I../../include  -I../ta_common/   -g -O2 -MT ta_MAVP.lo -MD -MP -MF .deps/ta_MAVP.Tpo -c -o ta_MAVP.lo ta_MAVP.c\n",
            " gcc -DHAVE_CONFIG_H -I. -I../../include -I../ta_common/ -g -O2 -MT ta_MAVP.lo -MD -MP -MF .deps/ta_MAVP.Tpo -c ta_MAVP.c  -fPIC -DPIC -o .libs/ta_MAVP.o\n",
            " gcc -DHAVE_CONFIG_H -I. -I../../include -I../ta_common/ -g -O2 -MT ta_MAVP.lo -MD -MP -MF .deps/ta_MAVP.Tpo -c ta_MAVP.c -o ta_MAVP.o >/dev/null 2>&1\n",
            "mv -f .deps/ta_MAVP.Tpo .deps/ta_MAVP.Plo\n",
            "/bin/bash ../../libtool --tag=CC   --mode=compile gcc -DHAVE_CONFIG_H -I. -I../../include  -I../ta_common/   -g -O2 -MT ta_MAX.lo -MD -MP -MF .deps/ta_MAX.Tpo -c -o ta_MAX.lo ta_MAX.c\n",
            " gcc -DHAVE_CONFIG_H -I. -I../../include -I../ta_common/ -g -O2 -MT ta_MAX.lo -MD -MP -MF .deps/ta_MAX.Tpo -c ta_MAX.c  -fPIC -DPIC -o .libs/ta_MAX.o\n",
            " gcc -DHAVE_CONFIG_H -I. -I../../include -I../ta_common/ -g -O2 -MT ta_MAX.lo -MD -MP -MF .deps/ta_MAX.Tpo -c ta_MAX.c -o ta_MAX.o >/dev/null 2>&1\n",
            "mv -f .deps/ta_MAX.Tpo .deps/ta_MAX.Plo\n",
            "/bin/bash ../../libtool --tag=CC   --mode=compile gcc -DHAVE_CONFIG_H -I. -I../../include  -I../ta_common/   -g -O2 -MT ta_MAXINDEX.lo -MD -MP -MF .deps/ta_MAXINDEX.Tpo -c -o ta_MAXINDEX.lo ta_MAXINDEX.c\n",
            " gcc -DHAVE_CONFIG_H -I. -I../../include -I../ta_common/ -g -O2 -MT ta_MAXINDEX.lo -MD -MP -MF .deps/ta_MAXINDEX.Tpo -c ta_MAXINDEX.c  -fPIC -DPIC -o .libs/ta_MAXINDEX.o\n",
            " gcc -DHAVE_CONFIG_H -I. -I../../include -I../ta_common/ -g -O2 -MT ta_MAXINDEX.lo -MD -MP -MF .deps/ta_MAXINDEX.Tpo -c ta_MAXINDEX.c -o ta_MAXINDEX.o >/dev/null 2>&1\n",
            "mv -f .deps/ta_MAXINDEX.Tpo .deps/ta_MAXINDEX.Plo\n",
            "/bin/bash ../../libtool --tag=CC   --mode=compile gcc -DHAVE_CONFIG_H -I. -I../../include  -I../ta_common/   -g -O2 -MT ta_MEDPRICE.lo -MD -MP -MF .deps/ta_MEDPRICE.Tpo -c -o ta_MEDPRICE.lo ta_MEDPRICE.c\n",
            " gcc -DHAVE_CONFIG_H -I. -I../../include -I../ta_common/ -g -O2 -MT ta_MEDPRICE.lo -MD -MP -MF .deps/ta_MEDPRICE.Tpo -c ta_MEDPRICE.c  -fPIC -DPIC -o .libs/ta_MEDPRICE.o\n",
            " gcc -DHAVE_CONFIG_H -I. -I../../include -I../ta_common/ -g -O2 -MT ta_MEDPRICE.lo -MD -MP -MF .deps/ta_MEDPRICE.Tpo -c ta_MEDPRICE.c -o ta_MEDPRICE.o >/dev/null 2>&1\n",
            "mv -f .deps/ta_MEDPRICE.Tpo .deps/ta_MEDPRICE.Plo\n",
            "/bin/bash ../../libtool --tag=CC   --mode=compile gcc -DHAVE_CONFIG_H -I. -I../../include  -I../ta_common/   -g -O2 -MT ta_MFI.lo -MD -MP -MF .deps/ta_MFI.Tpo -c -o ta_MFI.lo ta_MFI.c\n",
            " gcc -DHAVE_CONFIG_H -I. -I../../include -I../ta_common/ -g -O2 -MT ta_MFI.lo -MD -MP -MF .deps/ta_MFI.Tpo -c ta_MFI.c  -fPIC -DPIC -o .libs/ta_MFI.o\n",
            " gcc -DHAVE_CONFIG_H -I. -I../../include -I../ta_common/ -g -O2 -MT ta_MFI.lo -MD -MP -MF .deps/ta_MFI.Tpo -c ta_MFI.c -o ta_MFI.o >/dev/null 2>&1\n",
            "mv -f .deps/ta_MFI.Tpo .deps/ta_MFI.Plo\n",
            "/bin/bash ../../libtool --tag=CC   --mode=compile gcc -DHAVE_CONFIG_H -I. -I../../include  -I../ta_common/   -g -O2 -MT ta_MIDPOINT.lo -MD -MP -MF .deps/ta_MIDPOINT.Tpo -c -o ta_MIDPOINT.lo ta_MIDPOINT.c\n",
            " gcc -DHAVE_CONFIG_H -I. -I../../include -I../ta_common/ -g -O2 -MT ta_MIDPOINT.lo -MD -MP -MF .deps/ta_MIDPOINT.Tpo -c ta_MIDPOINT.c  -fPIC -DPIC -o .libs/ta_MIDPOINT.o\n",
            " gcc -DHAVE_CONFIG_H -I. -I../../include -I../ta_common/ -g -O2 -MT ta_MIDPOINT.lo -MD -MP -MF .deps/ta_MIDPOINT.Tpo -c ta_MIDPOINT.c -o ta_MIDPOINT.o >/dev/null 2>&1\n",
            "mv -f .deps/ta_MIDPOINT.Tpo .deps/ta_MIDPOINT.Plo\n",
            "/bin/bash ../../libtool --tag=CC   --mode=compile gcc -DHAVE_CONFIG_H -I. -I../../include  -I../ta_common/   -g -O2 -MT ta_MIDPRICE.lo -MD -MP -MF .deps/ta_MIDPRICE.Tpo -c -o ta_MIDPRICE.lo ta_MIDPRICE.c\n",
            " gcc -DHAVE_CONFIG_H -I. -I../../include -I../ta_common/ -g -O2 -MT ta_MIDPRICE.lo -MD -MP -MF .deps/ta_MIDPRICE.Tpo -c ta_MIDPRICE.c  -fPIC -DPIC -o .libs/ta_MIDPRICE.o\n",
            " gcc -DHAVE_CONFIG_H -I. -I../../include -I../ta_common/ -g -O2 -MT ta_MIDPRICE.lo -MD -MP -MF .deps/ta_MIDPRICE.Tpo -c ta_MIDPRICE.c -o ta_MIDPRICE.o >/dev/null 2>&1\n",
            "mv -f .deps/ta_MIDPRICE.Tpo .deps/ta_MIDPRICE.Plo\n",
            "/bin/bash ../../libtool --tag=CC   --mode=compile gcc -DHAVE_CONFIG_H -I. -I../../include  -I../ta_common/   -g -O2 -MT ta_MIN.lo -MD -MP -MF .deps/ta_MIN.Tpo -c -o ta_MIN.lo ta_MIN.c\n",
            " gcc -DHAVE_CONFIG_H -I. -I../../include -I../ta_common/ -g -O2 -MT ta_MIN.lo -MD -MP -MF .deps/ta_MIN.Tpo -c ta_MIN.c  -fPIC -DPIC -o .libs/ta_MIN.o\n",
            " gcc -DHAVE_CONFIG_H -I. -I../../include -I../ta_common/ -g -O2 -MT ta_MIN.lo -MD -MP -MF .deps/ta_MIN.Tpo -c ta_MIN.c -o ta_MIN.o >/dev/null 2>&1\n",
            "mv -f .deps/ta_MIN.Tpo .deps/ta_MIN.Plo\n",
            "/bin/bash ../../libtool --tag=CC   --mode=compile gcc -DHAVE_CONFIG_H -I. -I../../include  -I../ta_common/   -g -O2 -MT ta_MININDEX.lo -MD -MP -MF .deps/ta_MININDEX.Tpo -c -o ta_MININDEX.lo ta_MININDEX.c\n",
            " gcc -DHAVE_CONFIG_H -I. -I../../include -I../ta_common/ -g -O2 -MT ta_MININDEX.lo -MD -MP -MF .deps/ta_MININDEX.Tpo -c ta_MININDEX.c  -fPIC -DPIC -o .libs/ta_MININDEX.o\n",
            " gcc -DHAVE_CONFIG_H -I. -I../../include -I../ta_common/ -g -O2 -MT ta_MININDEX.lo -MD -MP -MF .deps/ta_MININDEX.Tpo -c ta_MININDEX.c -o ta_MININDEX.o >/dev/null 2>&1\n",
            "mv -f .deps/ta_MININDEX.Tpo .deps/ta_MININDEX.Plo\n",
            "/bin/bash ../../libtool --tag=CC   --mode=compile gcc -DHAVE_CONFIG_H -I. -I../../include  -I../ta_common/   -g -O2 -MT ta_MINMAX.lo -MD -MP -MF .deps/ta_MINMAX.Tpo -c -o ta_MINMAX.lo ta_MINMAX.c\n",
            " gcc -DHAVE_CONFIG_H -I. -I../../include -I../ta_common/ -g -O2 -MT ta_MINMAX.lo -MD -MP -MF .deps/ta_MINMAX.Tpo -c ta_MINMAX.c  -fPIC -DPIC -o .libs/ta_MINMAX.o\n",
            " gcc -DHAVE_CONFIG_H -I. -I../../include -I../ta_common/ -g -O2 -MT ta_MINMAX.lo -MD -MP -MF .deps/ta_MINMAX.Tpo -c ta_MINMAX.c -o ta_MINMAX.o >/dev/null 2>&1\n",
            "mv -f .deps/ta_MINMAX.Tpo .deps/ta_MINMAX.Plo\n",
            "/bin/bash ../../libtool --tag=CC   --mode=compile gcc -DHAVE_CONFIG_H -I. -I../../include  -I../ta_common/   -g -O2 -MT ta_MINMAXINDEX.lo -MD -MP -MF .deps/ta_MINMAXINDEX.Tpo -c -o ta_MINMAXINDEX.lo ta_MINMAXINDEX.c\n",
            " gcc -DHAVE_CONFIG_H -I. -I../../include -I../ta_common/ -g -O2 -MT ta_MINMAXINDEX.lo -MD -MP -MF .deps/ta_MINMAXINDEX.Tpo -c ta_MINMAXINDEX.c  -fPIC -DPIC -o .libs/ta_MINMAXINDEX.o\n",
            " gcc -DHAVE_CONFIG_H -I. -I../../include -I../ta_common/ -g -O2 -MT ta_MINMAXINDEX.lo -MD -MP -MF .deps/ta_MINMAXINDEX.Tpo -c ta_MINMAXINDEX.c -o ta_MINMAXINDEX.o >/dev/null 2>&1\n",
            "mv -f .deps/ta_MINMAXINDEX.Tpo .deps/ta_MINMAXINDEX.Plo\n",
            "/bin/bash ../../libtool --tag=CC   --mode=compile gcc -DHAVE_CONFIG_H -I. -I../../include  -I../ta_common/   -g -O2 -MT ta_MINUS_DI.lo -MD -MP -MF .deps/ta_MINUS_DI.Tpo -c -o ta_MINUS_DI.lo ta_MINUS_DI.c\n",
            " gcc -DHAVE_CONFIG_H -I. -I../../include -I../ta_common/ -g -O2 -MT ta_MINUS_DI.lo -MD -MP -MF .deps/ta_MINUS_DI.Tpo -c ta_MINUS_DI.c  -fPIC -DPIC -o .libs/ta_MINUS_DI.o\n",
            " gcc -DHAVE_CONFIG_H -I. -I../../include -I../ta_common/ -g -O2 -MT ta_MINUS_DI.lo -MD -MP -MF .deps/ta_MINUS_DI.Tpo -c ta_MINUS_DI.c -o ta_MINUS_DI.o >/dev/null 2>&1\n",
            "mv -f .deps/ta_MINUS_DI.Tpo .deps/ta_MINUS_DI.Plo\n",
            "/bin/bash ../../libtool --tag=CC   --mode=compile gcc -DHAVE_CONFIG_H -I. -I../../include  -I../ta_common/   -g -O2 -MT ta_MINUS_DM.lo -MD -MP -MF .deps/ta_MINUS_DM.Tpo -c -o ta_MINUS_DM.lo ta_MINUS_DM.c\n",
            " gcc -DHAVE_CONFIG_H -I. -I../../include -I../ta_common/ -g -O2 -MT ta_MINUS_DM.lo -MD -MP -MF .deps/ta_MINUS_DM.Tpo -c ta_MINUS_DM.c  -fPIC -DPIC -o .libs/ta_MINUS_DM.o\n",
            " gcc -DHAVE_CONFIG_H -I. -I../../include -I../ta_common/ -g -O2 -MT ta_MINUS_DM.lo -MD -MP -MF .deps/ta_MINUS_DM.Tpo -c ta_MINUS_DM.c -o ta_MINUS_DM.o >/dev/null 2>&1\n",
            "mv -f .deps/ta_MINUS_DM.Tpo .deps/ta_MINUS_DM.Plo\n",
            "/bin/bash ../../libtool --tag=CC   --mode=compile gcc -DHAVE_CONFIG_H -I. -I../../include  -I../ta_common/   -g -O2 -MT ta_MOM.lo -MD -MP -MF .deps/ta_MOM.Tpo -c -o ta_MOM.lo ta_MOM.c\n",
            " gcc -DHAVE_CONFIG_H -I. -I../../include -I../ta_common/ -g -O2 -MT ta_MOM.lo -MD -MP -MF .deps/ta_MOM.Tpo -c ta_MOM.c  -fPIC -DPIC -o .libs/ta_MOM.o\n",
            " gcc -DHAVE_CONFIG_H -I. -I../../include -I../ta_common/ -g -O2 -MT ta_MOM.lo -MD -MP -MF .deps/ta_MOM.Tpo -c ta_MOM.c -o ta_MOM.o >/dev/null 2>&1\n",
            "mv -f .deps/ta_MOM.Tpo .deps/ta_MOM.Plo\n",
            "/bin/bash ../../libtool --tag=CC   --mode=compile gcc -DHAVE_CONFIG_H -I. -I../../include  -I../ta_common/   -g -O2 -MT ta_MULT.lo -MD -MP -MF .deps/ta_MULT.Tpo -c -o ta_MULT.lo ta_MULT.c\n",
            " gcc -DHAVE_CONFIG_H -I. -I../../include -I../ta_common/ -g -O2 -MT ta_MULT.lo -MD -MP -MF .deps/ta_MULT.Tpo -c ta_MULT.c  -fPIC -DPIC -o .libs/ta_MULT.o\n",
            " gcc -DHAVE_CONFIG_H -I. -I../../include -I../ta_common/ -g -O2 -MT ta_MULT.lo -MD -MP -MF .deps/ta_MULT.Tpo -c ta_MULT.c -o ta_MULT.o >/dev/null 2>&1\n",
            "mv -f .deps/ta_MULT.Tpo .deps/ta_MULT.Plo\n",
            "/bin/bash ../../libtool --tag=CC   --mode=compile gcc -DHAVE_CONFIG_H -I. -I../../include  -I../ta_common/   -g -O2 -MT ta_NATR.lo -MD -MP -MF .deps/ta_NATR.Tpo -c -o ta_NATR.lo ta_NATR.c\n",
            " gcc -DHAVE_CONFIG_H -I. -I../../include -I../ta_common/ -g -O2 -MT ta_NATR.lo -MD -MP -MF .deps/ta_NATR.Tpo -c ta_NATR.c  -fPIC -DPIC -o .libs/ta_NATR.o\n",
            " gcc -DHAVE_CONFIG_H -I. -I../../include -I../ta_common/ -g -O2 -MT ta_NATR.lo -MD -MP -MF .deps/ta_NATR.Tpo -c ta_NATR.c -o ta_NATR.o >/dev/null 2>&1\n",
            "mv -f .deps/ta_NATR.Tpo .deps/ta_NATR.Plo\n",
            "/bin/bash ../../libtool --tag=CC   --mode=compile gcc -DHAVE_CONFIG_H -I. -I../../include  -I../ta_common/   -g -O2 -MT ta_OBV.lo -MD -MP -MF .deps/ta_OBV.Tpo -c -o ta_OBV.lo ta_OBV.c\n",
            " gcc -DHAVE_CONFIG_H -I. -I../../include -I../ta_common/ -g -O2 -MT ta_OBV.lo -MD -MP -MF .deps/ta_OBV.Tpo -c ta_OBV.c  -fPIC -DPIC -o .libs/ta_OBV.o\n",
            " gcc -DHAVE_CONFIG_H -I. -I../../include -I../ta_common/ -g -O2 -MT ta_OBV.lo -MD -MP -MF .deps/ta_OBV.Tpo -c ta_OBV.c -o ta_OBV.o >/dev/null 2>&1\n",
            "mv -f .deps/ta_OBV.Tpo .deps/ta_OBV.Plo\n",
            "/bin/bash ../../libtool --tag=CC   --mode=compile gcc -DHAVE_CONFIG_H -I. -I../../include  -I../ta_common/   -g -O2 -MT ta_PLUS_DI.lo -MD -MP -MF .deps/ta_PLUS_DI.Tpo -c -o ta_PLUS_DI.lo ta_PLUS_DI.c\n",
            " gcc -DHAVE_CONFIG_H -I. -I../../include -I../ta_common/ -g -O2 -MT ta_PLUS_DI.lo -MD -MP -MF .deps/ta_PLUS_DI.Tpo -c ta_PLUS_DI.c  -fPIC -DPIC -o .libs/ta_PLUS_DI.o\n",
            " gcc -DHAVE_CONFIG_H -I. -I../../include -I../ta_common/ -g -O2 -MT ta_PLUS_DI.lo -MD -MP -MF .deps/ta_PLUS_DI.Tpo -c ta_PLUS_DI.c -o ta_PLUS_DI.o >/dev/null 2>&1\n",
            "mv -f .deps/ta_PLUS_DI.Tpo .deps/ta_PLUS_DI.Plo\n",
            "/bin/bash ../../libtool --tag=CC   --mode=compile gcc -DHAVE_CONFIG_H -I. -I../../include  -I../ta_common/   -g -O2 -MT ta_PLUS_DM.lo -MD -MP -MF .deps/ta_PLUS_DM.Tpo -c -o ta_PLUS_DM.lo ta_PLUS_DM.c\n",
            " gcc -DHAVE_CONFIG_H -I. -I../../include -I../ta_common/ -g -O2 -MT ta_PLUS_DM.lo -MD -MP -MF .deps/ta_PLUS_DM.Tpo -c ta_PLUS_DM.c  -fPIC -DPIC -o .libs/ta_PLUS_DM.o\n",
            " gcc -DHAVE_CONFIG_H -I. -I../../include -I../ta_common/ -g -O2 -MT ta_PLUS_DM.lo -MD -MP -MF .deps/ta_PLUS_DM.Tpo -c ta_PLUS_DM.c -o ta_PLUS_DM.o >/dev/null 2>&1\n",
            "mv -f .deps/ta_PLUS_DM.Tpo .deps/ta_PLUS_DM.Plo\n",
            "/bin/bash ../../libtool --tag=CC   --mode=compile gcc -DHAVE_CONFIG_H -I. -I../../include  -I../ta_common/   -g -O2 -MT ta_PPO.lo -MD -MP -MF .deps/ta_PPO.Tpo -c -o ta_PPO.lo ta_PPO.c\n",
            " gcc -DHAVE_CONFIG_H -I. -I../../include -I../ta_common/ -g -O2 -MT ta_PPO.lo -MD -MP -MF .deps/ta_PPO.Tpo -c ta_PPO.c  -fPIC -DPIC -o .libs/ta_PPO.o\n",
            " gcc -DHAVE_CONFIG_H -I. -I../../include -I../ta_common/ -g -O2 -MT ta_PPO.lo -MD -MP -MF .deps/ta_PPO.Tpo -c ta_PPO.c -o ta_PPO.o >/dev/null 2>&1\n",
            "mv -f .deps/ta_PPO.Tpo .deps/ta_PPO.Plo\n",
            "/bin/bash ../../libtool --tag=CC   --mode=compile gcc -DHAVE_CONFIG_H -I. -I../../include  -I../ta_common/   -g -O2 -MT ta_ROC.lo -MD -MP -MF .deps/ta_ROC.Tpo -c -o ta_ROC.lo ta_ROC.c\n",
            " gcc -DHAVE_CONFIG_H -I. -I../../include -I../ta_common/ -g -O2 -MT ta_ROC.lo -MD -MP -MF .deps/ta_ROC.Tpo -c ta_ROC.c  -fPIC -DPIC -o .libs/ta_ROC.o\n",
            " gcc -DHAVE_CONFIG_H -I. -I../../include -I../ta_common/ -g -O2 -MT ta_ROC.lo -MD -MP -MF .deps/ta_ROC.Tpo -c ta_ROC.c -o ta_ROC.o >/dev/null 2>&1\n",
            "mv -f .deps/ta_ROC.Tpo .deps/ta_ROC.Plo\n",
            "/bin/bash ../../libtool --tag=CC   --mode=compile gcc -DHAVE_CONFIG_H -I. -I../../include  -I../ta_common/   -g -O2 -MT ta_ROCP.lo -MD -MP -MF .deps/ta_ROCP.Tpo -c -o ta_ROCP.lo ta_ROCP.c\n",
            " gcc -DHAVE_CONFIG_H -I. -I../../include -I../ta_common/ -g -O2 -MT ta_ROCP.lo -MD -MP -MF .deps/ta_ROCP.Tpo -c ta_ROCP.c  -fPIC -DPIC -o .libs/ta_ROCP.o\n",
            " gcc -DHAVE_CONFIG_H -I. -I../../include -I../ta_common/ -g -O2 -MT ta_ROCP.lo -MD -MP -MF .deps/ta_ROCP.Tpo -c ta_ROCP.c -o ta_ROCP.o >/dev/null 2>&1\n",
            "mv -f .deps/ta_ROCP.Tpo .deps/ta_ROCP.Plo\n",
            "/bin/bash ../../libtool --tag=CC   --mode=compile gcc -DHAVE_CONFIG_H -I. -I../../include  -I../ta_common/   -g -O2 -MT ta_ROCR.lo -MD -MP -MF .deps/ta_ROCR.Tpo -c -o ta_ROCR.lo ta_ROCR.c\n",
            " gcc -DHAVE_CONFIG_H -I. -I../../include -I../ta_common/ -g -O2 -MT ta_ROCR.lo -MD -MP -MF .deps/ta_ROCR.Tpo -c ta_ROCR.c  -fPIC -DPIC -o .libs/ta_ROCR.o\n",
            " gcc -DHAVE_CONFIG_H -I. -I../../include -I../ta_common/ -g -O2 -MT ta_ROCR.lo -MD -MP -MF .deps/ta_ROCR.Tpo -c ta_ROCR.c -o ta_ROCR.o >/dev/null 2>&1\n",
            "mv -f .deps/ta_ROCR.Tpo .deps/ta_ROCR.Plo\n",
            "/bin/bash ../../libtool --tag=CC   --mode=compile gcc -DHAVE_CONFIG_H -I. -I../../include  -I../ta_common/   -g -O2 -MT ta_ROCR100.lo -MD -MP -MF .deps/ta_ROCR100.Tpo -c -o ta_ROCR100.lo ta_ROCR100.c\n",
            " gcc -DHAVE_CONFIG_H -I. -I../../include -I../ta_common/ -g -O2 -MT ta_ROCR100.lo -MD -MP -MF .deps/ta_ROCR100.Tpo -c ta_ROCR100.c  -fPIC -DPIC -o .libs/ta_ROCR100.o\n",
            " gcc -DHAVE_CONFIG_H -I. -I../../include -I../ta_common/ -g -O2 -MT ta_ROCR100.lo -MD -MP -MF .deps/ta_ROCR100.Tpo -c ta_ROCR100.c -o ta_ROCR100.o >/dev/null 2>&1\n",
            "mv -f .deps/ta_ROCR100.Tpo .deps/ta_ROCR100.Plo\n",
            "/bin/bash ../../libtool --tag=CC   --mode=compile gcc -DHAVE_CONFIG_H -I. -I../../include  -I../ta_common/   -g -O2 -MT ta_RSI.lo -MD -MP -MF .deps/ta_RSI.Tpo -c -o ta_RSI.lo ta_RSI.c\n",
            " gcc -DHAVE_CONFIG_H -I. -I../../include -I../ta_common/ -g -O2 -MT ta_RSI.lo -MD -MP -MF .deps/ta_RSI.Tpo -c ta_RSI.c  -fPIC -DPIC -o .libs/ta_RSI.o\n",
            " gcc -DHAVE_CONFIG_H -I. -I../../include -I../ta_common/ -g -O2 -MT ta_RSI.lo -MD -MP -MF .deps/ta_RSI.Tpo -c ta_RSI.c -o ta_RSI.o >/dev/null 2>&1\n",
            "mv -f .deps/ta_RSI.Tpo .deps/ta_RSI.Plo\n",
            "/bin/bash ../../libtool --tag=CC   --mode=compile gcc -DHAVE_CONFIG_H -I. -I../../include  -I../ta_common/   -g -O2 -MT ta_SAR.lo -MD -MP -MF .deps/ta_SAR.Tpo -c -o ta_SAR.lo ta_SAR.c\n",
            " gcc -DHAVE_CONFIG_H -I. -I../../include -I../ta_common/ -g -O2 -MT ta_SAR.lo -MD -MP -MF .deps/ta_SAR.Tpo -c ta_SAR.c  -fPIC -DPIC -o .libs/ta_SAR.o\n",
            " gcc -DHAVE_CONFIG_H -I. -I../../include -I../ta_common/ -g -O2 -MT ta_SAR.lo -MD -MP -MF .deps/ta_SAR.Tpo -c ta_SAR.c -o ta_SAR.o >/dev/null 2>&1\n",
            "mv -f .deps/ta_SAR.Tpo .deps/ta_SAR.Plo\n",
            "/bin/bash ../../libtool --tag=CC   --mode=compile gcc -DHAVE_CONFIG_H -I. -I../../include  -I../ta_common/   -g -O2 -MT ta_SAREXT.lo -MD -MP -MF .deps/ta_SAREXT.Tpo -c -o ta_SAREXT.lo ta_SAREXT.c\n",
            " gcc -DHAVE_CONFIG_H -I. -I../../include -I../ta_common/ -g -O2 -MT ta_SAREXT.lo -MD -MP -MF .deps/ta_SAREXT.Tpo -c ta_SAREXT.c  -fPIC -DPIC -o .libs/ta_SAREXT.o\n",
            " gcc -DHAVE_CONFIG_H -I. -I../../include -I../ta_common/ -g -O2 -MT ta_SAREXT.lo -MD -MP -MF .deps/ta_SAREXT.Tpo -c ta_SAREXT.c -o ta_SAREXT.o >/dev/null 2>&1\n",
            "mv -f .deps/ta_SAREXT.Tpo .deps/ta_SAREXT.Plo\n",
            "/bin/bash ../../libtool --tag=CC   --mode=compile gcc -DHAVE_CONFIG_H -I. -I../../include  -I../ta_common/   -g -O2 -MT ta_SIN.lo -MD -MP -MF .deps/ta_SIN.Tpo -c -o ta_SIN.lo ta_SIN.c\n",
            " gcc -DHAVE_CONFIG_H -I. -I../../include -I../ta_common/ -g -O2 -MT ta_SIN.lo -MD -MP -MF .deps/ta_SIN.Tpo -c ta_SIN.c  -fPIC -DPIC -o .libs/ta_SIN.o\n",
            " gcc -DHAVE_CONFIG_H -I. -I../../include -I../ta_common/ -g -O2 -MT ta_SIN.lo -MD -MP -MF .deps/ta_SIN.Tpo -c ta_SIN.c -o ta_SIN.o >/dev/null 2>&1\n",
            "mv -f .deps/ta_SIN.Tpo .deps/ta_SIN.Plo\n",
            "/bin/bash ../../libtool --tag=CC   --mode=compile gcc -DHAVE_CONFIG_H -I. -I../../include  -I../ta_common/   -g -O2 -MT ta_SINH.lo -MD -MP -MF .deps/ta_SINH.Tpo -c -o ta_SINH.lo ta_SINH.c\n",
            " gcc -DHAVE_CONFIG_H -I. -I../../include -I../ta_common/ -g -O2 -MT ta_SINH.lo -MD -MP -MF .deps/ta_SINH.Tpo -c ta_SINH.c  -fPIC -DPIC -o .libs/ta_SINH.o\n",
            " gcc -DHAVE_CONFIG_H -I. -I../../include -I../ta_common/ -g -O2 -MT ta_SINH.lo -MD -MP -MF .deps/ta_SINH.Tpo -c ta_SINH.c -o ta_SINH.o >/dev/null 2>&1\n",
            "mv -f .deps/ta_SINH.Tpo .deps/ta_SINH.Plo\n",
            "/bin/bash ../../libtool --tag=CC   --mode=compile gcc -DHAVE_CONFIG_H -I. -I../../include  -I../ta_common/   -g -O2 -MT ta_SMA.lo -MD -MP -MF .deps/ta_SMA.Tpo -c -o ta_SMA.lo ta_SMA.c\n",
            " gcc -DHAVE_CONFIG_H -I. -I../../include -I../ta_common/ -g -O2 -MT ta_SMA.lo -MD -MP -MF .deps/ta_SMA.Tpo -c ta_SMA.c  -fPIC -DPIC -o .libs/ta_SMA.o\n",
            " gcc -DHAVE_CONFIG_H -I. -I../../include -I../ta_common/ -g -O2 -MT ta_SMA.lo -MD -MP -MF .deps/ta_SMA.Tpo -c ta_SMA.c -o ta_SMA.o >/dev/null 2>&1\n",
            "mv -f .deps/ta_SMA.Tpo .deps/ta_SMA.Plo\n",
            "/bin/bash ../../libtool --tag=CC   --mode=compile gcc -DHAVE_CONFIG_H -I. -I../../include  -I../ta_common/   -g -O2 -MT ta_SQRT.lo -MD -MP -MF .deps/ta_SQRT.Tpo -c -o ta_SQRT.lo ta_SQRT.c\n",
            " gcc -DHAVE_CONFIG_H -I. -I../../include -I../ta_common/ -g -O2 -MT ta_SQRT.lo -MD -MP -MF .deps/ta_SQRT.Tpo -c ta_SQRT.c  -fPIC -DPIC -o .libs/ta_SQRT.o\n",
            " gcc -DHAVE_CONFIG_H -I. -I../../include -I../ta_common/ -g -O2 -MT ta_SQRT.lo -MD -MP -MF .deps/ta_SQRT.Tpo -c ta_SQRT.c -o ta_SQRT.o >/dev/null 2>&1\n",
            "mv -f .deps/ta_SQRT.Tpo .deps/ta_SQRT.Plo\n",
            "/bin/bash ../../libtool --tag=CC   --mode=compile gcc -DHAVE_CONFIG_H -I. -I../../include  -I../ta_common/   -g -O2 -MT ta_STDDEV.lo -MD -MP -MF .deps/ta_STDDEV.Tpo -c -o ta_STDDEV.lo ta_STDDEV.c\n",
            " gcc -DHAVE_CONFIG_H -I. -I../../include -I../ta_common/ -g -O2 -MT ta_STDDEV.lo -MD -MP -MF .deps/ta_STDDEV.Tpo -c ta_STDDEV.c  -fPIC -DPIC -o .libs/ta_STDDEV.o\n",
            " gcc -DHAVE_CONFIG_H -I. -I../../include -I../ta_common/ -g -O2 -MT ta_STDDEV.lo -MD -MP -MF .deps/ta_STDDEV.Tpo -c ta_STDDEV.c -o ta_STDDEV.o >/dev/null 2>&1\n",
            "mv -f .deps/ta_STDDEV.Tpo .deps/ta_STDDEV.Plo\n",
            "/bin/bash ../../libtool --tag=CC   --mode=compile gcc -DHAVE_CONFIG_H -I. -I../../include  -I../ta_common/   -g -O2 -MT ta_STOCH.lo -MD -MP -MF .deps/ta_STOCH.Tpo -c -o ta_STOCH.lo ta_STOCH.c\n",
            " gcc -DHAVE_CONFIG_H -I. -I../../include -I../ta_common/ -g -O2 -MT ta_STOCH.lo -MD -MP -MF .deps/ta_STOCH.Tpo -c ta_STOCH.c  -fPIC -DPIC -o .libs/ta_STOCH.o\n",
            " gcc -DHAVE_CONFIG_H -I. -I../../include -I../ta_common/ -g -O2 -MT ta_STOCH.lo -MD -MP -MF .deps/ta_STOCH.Tpo -c ta_STOCH.c -o ta_STOCH.o >/dev/null 2>&1\n",
            "mv -f .deps/ta_STOCH.Tpo .deps/ta_STOCH.Plo\n",
            "/bin/bash ../../libtool --tag=CC   --mode=compile gcc -DHAVE_CONFIG_H -I. -I../../include  -I../ta_common/   -g -O2 -MT ta_STOCHF.lo -MD -MP -MF .deps/ta_STOCHF.Tpo -c -o ta_STOCHF.lo ta_STOCHF.c\n",
            " gcc -DHAVE_CONFIG_H -I. -I../../include -I../ta_common/ -g -O2 -MT ta_STOCHF.lo -MD -MP -MF .deps/ta_STOCHF.Tpo -c ta_STOCHF.c  -fPIC -DPIC -o .libs/ta_STOCHF.o\n",
            " gcc -DHAVE_CONFIG_H -I. -I../../include -I../ta_common/ -g -O2 -MT ta_STOCHF.lo -MD -MP -MF .deps/ta_STOCHF.Tpo -c ta_STOCHF.c -o ta_STOCHF.o >/dev/null 2>&1\n",
            "mv -f .deps/ta_STOCHF.Tpo .deps/ta_STOCHF.Plo\n",
            "/bin/bash ../../libtool --tag=CC   --mode=compile gcc -DHAVE_CONFIG_H -I. -I../../include  -I../ta_common/   -g -O2 -MT ta_STOCHRSI.lo -MD -MP -MF .deps/ta_STOCHRSI.Tpo -c -o ta_STOCHRSI.lo ta_STOCHRSI.c\n",
            " gcc -DHAVE_CONFIG_H -I. -I../../include -I../ta_common/ -g -O2 -MT ta_STOCHRSI.lo -MD -MP -MF .deps/ta_STOCHRSI.Tpo -c ta_STOCHRSI.c  -fPIC -DPIC -o .libs/ta_STOCHRSI.o\n",
            " gcc -DHAVE_CONFIG_H -I. -I../../include -I../ta_common/ -g -O2 -MT ta_STOCHRSI.lo -MD -MP -MF .deps/ta_STOCHRSI.Tpo -c ta_STOCHRSI.c -o ta_STOCHRSI.o >/dev/null 2>&1\n",
            "mv -f .deps/ta_STOCHRSI.Tpo .deps/ta_STOCHRSI.Plo\n",
            "/bin/bash ../../libtool --tag=CC   --mode=compile gcc -DHAVE_CONFIG_H -I. -I../../include  -I../ta_common/   -g -O2 -MT ta_SUB.lo -MD -MP -MF .deps/ta_SUB.Tpo -c -o ta_SUB.lo ta_SUB.c\n",
            " gcc -DHAVE_CONFIG_H -I. -I../../include -I../ta_common/ -g -O2 -MT ta_SUB.lo -MD -MP -MF .deps/ta_SUB.Tpo -c ta_SUB.c  -fPIC -DPIC -o .libs/ta_SUB.o\n",
            " gcc -DHAVE_CONFIG_H -I. -I../../include -I../ta_common/ -g -O2 -MT ta_SUB.lo -MD -MP -MF .deps/ta_SUB.Tpo -c ta_SUB.c -o ta_SUB.o >/dev/null 2>&1\n",
            "mv -f .deps/ta_SUB.Tpo .deps/ta_SUB.Plo\n",
            "/bin/bash ../../libtool --tag=CC   --mode=compile gcc -DHAVE_CONFIG_H -I. -I../../include  -I../ta_common/   -g -O2 -MT ta_SUM.lo -MD -MP -MF .deps/ta_SUM.Tpo -c -o ta_SUM.lo ta_SUM.c\n",
            " gcc -DHAVE_CONFIG_H -I. -I../../include -I../ta_common/ -g -O2 -MT ta_SUM.lo -MD -MP -MF .deps/ta_SUM.Tpo -c ta_SUM.c  -fPIC -DPIC -o .libs/ta_SUM.o\n",
            " gcc -DHAVE_CONFIG_H -I. -I../../include -I../ta_common/ -g -O2 -MT ta_SUM.lo -MD -MP -MF .deps/ta_SUM.Tpo -c ta_SUM.c -o ta_SUM.o >/dev/null 2>&1\n",
            "mv -f .deps/ta_SUM.Tpo .deps/ta_SUM.Plo\n",
            "/bin/bash ../../libtool --tag=CC   --mode=compile gcc -DHAVE_CONFIG_H -I. -I../../include  -I../ta_common/   -g -O2 -MT ta_T3.lo -MD -MP -MF .deps/ta_T3.Tpo -c -o ta_T3.lo ta_T3.c\n",
            " gcc -DHAVE_CONFIG_H -I. -I../../include -I../ta_common/ -g -O2 -MT ta_T3.lo -MD -MP -MF .deps/ta_T3.Tpo -c ta_T3.c  -fPIC -DPIC -o .libs/ta_T3.o\n",
            " gcc -DHAVE_CONFIG_H -I. -I../../include -I../ta_common/ -g -O2 -MT ta_T3.lo -MD -MP -MF .deps/ta_T3.Tpo -c ta_T3.c -o ta_T3.o >/dev/null 2>&1\n",
            "mv -f .deps/ta_T3.Tpo .deps/ta_T3.Plo\n",
            "/bin/bash ../../libtool --tag=CC   --mode=compile gcc -DHAVE_CONFIG_H -I. -I../../include  -I../ta_common/   -g -O2 -MT ta_TAN.lo -MD -MP -MF .deps/ta_TAN.Tpo -c -o ta_TAN.lo ta_TAN.c\n",
            " gcc -DHAVE_CONFIG_H -I. -I../../include -I../ta_common/ -g -O2 -MT ta_TAN.lo -MD -MP -MF .deps/ta_TAN.Tpo -c ta_TAN.c  -fPIC -DPIC -o .libs/ta_TAN.o\n",
            " gcc -DHAVE_CONFIG_H -I. -I../../include -I../ta_common/ -g -O2 -MT ta_TAN.lo -MD -MP -MF .deps/ta_TAN.Tpo -c ta_TAN.c -o ta_TAN.o >/dev/null 2>&1\n",
            "mv -f .deps/ta_TAN.Tpo .deps/ta_TAN.Plo\n",
            "/bin/bash ../../libtool --tag=CC   --mode=compile gcc -DHAVE_CONFIG_H -I. -I../../include  -I../ta_common/   -g -O2 -MT ta_TANH.lo -MD -MP -MF .deps/ta_TANH.Tpo -c -o ta_TANH.lo ta_TANH.c\n",
            " gcc -DHAVE_CONFIG_H -I. -I../../include -I../ta_common/ -g -O2 -MT ta_TANH.lo -MD -MP -MF .deps/ta_TANH.Tpo -c ta_TANH.c  -fPIC -DPIC -o .libs/ta_TANH.o\n",
            " gcc -DHAVE_CONFIG_H -I. -I../../include -I../ta_common/ -g -O2 -MT ta_TANH.lo -MD -MP -MF .deps/ta_TANH.Tpo -c ta_TANH.c -o ta_TANH.o >/dev/null 2>&1\n",
            "mv -f .deps/ta_TANH.Tpo .deps/ta_TANH.Plo\n",
            "/bin/bash ../../libtool --tag=CC   --mode=compile gcc -DHAVE_CONFIG_H -I. -I../../include  -I../ta_common/   -g -O2 -MT ta_TEMA.lo -MD -MP -MF .deps/ta_TEMA.Tpo -c -o ta_TEMA.lo ta_TEMA.c\n",
            " gcc -DHAVE_CONFIG_H -I. -I../../include -I../ta_common/ -g -O2 -MT ta_TEMA.lo -MD -MP -MF .deps/ta_TEMA.Tpo -c ta_TEMA.c  -fPIC -DPIC -o .libs/ta_TEMA.o\n",
            " gcc -DHAVE_CONFIG_H -I. -I../../include -I../ta_common/ -g -O2 -MT ta_TEMA.lo -MD -MP -MF .deps/ta_TEMA.Tpo -c ta_TEMA.c -o ta_TEMA.o >/dev/null 2>&1\n",
            "mv -f .deps/ta_TEMA.Tpo .deps/ta_TEMA.Plo\n",
            "/bin/bash ../../libtool --tag=CC   --mode=compile gcc -DHAVE_CONFIG_H -I. -I../../include  -I../ta_common/   -g -O2 -MT ta_TRANGE.lo -MD -MP -MF .deps/ta_TRANGE.Tpo -c -o ta_TRANGE.lo ta_TRANGE.c\n",
            " gcc -DHAVE_CONFIG_H -I. -I../../include -I../ta_common/ -g -O2 -MT ta_TRANGE.lo -MD -MP -MF .deps/ta_TRANGE.Tpo -c ta_TRANGE.c  -fPIC -DPIC -o .libs/ta_TRANGE.o\n",
            " gcc -DHAVE_CONFIG_H -I. -I../../include -I../ta_common/ -g -O2 -MT ta_TRANGE.lo -MD -MP -MF .deps/ta_TRANGE.Tpo -c ta_TRANGE.c -o ta_TRANGE.o >/dev/null 2>&1\n",
            "mv -f .deps/ta_TRANGE.Tpo .deps/ta_TRANGE.Plo\n",
            "/bin/bash ../../libtool --tag=CC   --mode=compile gcc -DHAVE_CONFIG_H -I. -I../../include  -I../ta_common/   -g -O2 -MT ta_TRIMA.lo -MD -MP -MF .deps/ta_TRIMA.Tpo -c -o ta_TRIMA.lo ta_TRIMA.c\n",
            " gcc -DHAVE_CONFIG_H -I. -I../../include -I../ta_common/ -g -O2 -MT ta_TRIMA.lo -MD -MP -MF .deps/ta_TRIMA.Tpo -c ta_TRIMA.c  -fPIC -DPIC -o .libs/ta_TRIMA.o\n",
            " gcc -DHAVE_CONFIG_H -I. -I../../include -I../ta_common/ -g -O2 -MT ta_TRIMA.lo -MD -MP -MF .deps/ta_TRIMA.Tpo -c ta_TRIMA.c -o ta_TRIMA.o >/dev/null 2>&1\n",
            "mv -f .deps/ta_TRIMA.Tpo .deps/ta_TRIMA.Plo\n",
            "/bin/bash ../../libtool --tag=CC   --mode=compile gcc -DHAVE_CONFIG_H -I. -I../../include  -I../ta_common/   -g -O2 -MT ta_TRIX.lo -MD -MP -MF .deps/ta_TRIX.Tpo -c -o ta_TRIX.lo ta_TRIX.c\n",
            " gcc -DHAVE_CONFIG_H -I. -I../../include -I../ta_common/ -g -O2 -MT ta_TRIX.lo -MD -MP -MF .deps/ta_TRIX.Tpo -c ta_TRIX.c  -fPIC -DPIC -o .libs/ta_TRIX.o\n",
            " gcc -DHAVE_CONFIG_H -I. -I../../include -I../ta_common/ -g -O2 -MT ta_TRIX.lo -MD -MP -MF .deps/ta_TRIX.Tpo -c ta_TRIX.c -o ta_TRIX.o >/dev/null 2>&1\n",
            "mv -f .deps/ta_TRIX.Tpo .deps/ta_TRIX.Plo\n",
            "/bin/bash ../../libtool --tag=CC   --mode=compile gcc -DHAVE_CONFIG_H -I. -I../../include  -I../ta_common/   -g -O2 -MT ta_TSF.lo -MD -MP -MF .deps/ta_TSF.Tpo -c -o ta_TSF.lo ta_TSF.c\n",
            " gcc -DHAVE_CONFIG_H -I. -I../../include -I../ta_common/ -g -O2 -MT ta_TSF.lo -MD -MP -MF .deps/ta_TSF.Tpo -c ta_TSF.c  -fPIC -DPIC -o .libs/ta_TSF.o\n",
            " gcc -DHAVE_CONFIG_H -I. -I../../include -I../ta_common/ -g -O2 -MT ta_TSF.lo -MD -MP -MF .deps/ta_TSF.Tpo -c ta_TSF.c -o ta_TSF.o >/dev/null 2>&1\n",
            "mv -f .deps/ta_TSF.Tpo .deps/ta_TSF.Plo\n",
            "/bin/bash ../../libtool --tag=CC   --mode=compile gcc -DHAVE_CONFIG_H -I. -I../../include  -I../ta_common/   -g -O2 -MT ta_TYPPRICE.lo -MD -MP -MF .deps/ta_TYPPRICE.Tpo -c -o ta_TYPPRICE.lo ta_TYPPRICE.c\n",
            " gcc -DHAVE_CONFIG_H -I. -I../../include -I../ta_common/ -g -O2 -MT ta_TYPPRICE.lo -MD -MP -MF .deps/ta_TYPPRICE.Tpo -c ta_TYPPRICE.c  -fPIC -DPIC -o .libs/ta_TYPPRICE.o\n",
            " gcc -DHAVE_CONFIG_H -I. -I../../include -I../ta_common/ -g -O2 -MT ta_TYPPRICE.lo -MD -MP -MF .deps/ta_TYPPRICE.Tpo -c ta_TYPPRICE.c -o ta_TYPPRICE.o >/dev/null 2>&1\n",
            "mv -f .deps/ta_TYPPRICE.Tpo .deps/ta_TYPPRICE.Plo\n",
            "/bin/bash ../../libtool --tag=CC   --mode=compile gcc -DHAVE_CONFIG_H -I. -I../../include  -I../ta_common/   -g -O2 -MT ta_ULTOSC.lo -MD -MP -MF .deps/ta_ULTOSC.Tpo -c -o ta_ULTOSC.lo ta_ULTOSC.c\n",
            " gcc -DHAVE_CONFIG_H -I. -I../../include -I../ta_common/ -g -O2 -MT ta_ULTOSC.lo -MD -MP -MF .deps/ta_ULTOSC.Tpo -c ta_ULTOSC.c  -fPIC -DPIC -o .libs/ta_ULTOSC.o\n",
            " gcc -DHAVE_CONFIG_H -I. -I../../include -I../ta_common/ -g -O2 -MT ta_ULTOSC.lo -MD -MP -MF .deps/ta_ULTOSC.Tpo -c ta_ULTOSC.c -o ta_ULTOSC.o >/dev/null 2>&1\n",
            "mv -f .deps/ta_ULTOSC.Tpo .deps/ta_ULTOSC.Plo\n",
            "/bin/bash ../../libtool --tag=CC   --mode=compile gcc -DHAVE_CONFIG_H -I. -I../../include  -I../ta_common/   -g -O2 -MT ta_VAR.lo -MD -MP -MF .deps/ta_VAR.Tpo -c -o ta_VAR.lo ta_VAR.c\n",
            " gcc -DHAVE_CONFIG_H -I. -I../../include -I../ta_common/ -g -O2 -MT ta_VAR.lo -MD -MP -MF .deps/ta_VAR.Tpo -c ta_VAR.c  -fPIC -DPIC -o .libs/ta_VAR.o\n",
            " gcc -DHAVE_CONFIG_H -I. -I../../include -I../ta_common/ -g -O2 -MT ta_VAR.lo -MD -MP -MF .deps/ta_VAR.Tpo -c ta_VAR.c -o ta_VAR.o >/dev/null 2>&1\n",
            "mv -f .deps/ta_VAR.Tpo .deps/ta_VAR.Plo\n",
            "/bin/bash ../../libtool --tag=CC   --mode=compile gcc -DHAVE_CONFIG_H -I. -I../../include  -I../ta_common/   -g -O2 -MT ta_WCLPRICE.lo -MD -MP -MF .deps/ta_WCLPRICE.Tpo -c -o ta_WCLPRICE.lo ta_WCLPRICE.c\n",
            " gcc -DHAVE_CONFIG_H -I. -I../../include -I../ta_common/ -g -O2 -MT ta_WCLPRICE.lo -MD -MP -MF .deps/ta_WCLPRICE.Tpo -c ta_WCLPRICE.c  -fPIC -DPIC -o .libs/ta_WCLPRICE.o\n",
            " gcc -DHAVE_CONFIG_H -I. -I../../include -I../ta_common/ -g -O2 -MT ta_WCLPRICE.lo -MD -MP -MF .deps/ta_WCLPRICE.Tpo -c ta_WCLPRICE.c -o ta_WCLPRICE.o >/dev/null 2>&1\n",
            "mv -f .deps/ta_WCLPRICE.Tpo .deps/ta_WCLPRICE.Plo\n",
            "/bin/bash ../../libtool --tag=CC   --mode=compile gcc -DHAVE_CONFIG_H -I. -I../../include  -I../ta_common/   -g -O2 -MT ta_WILLR.lo -MD -MP -MF .deps/ta_WILLR.Tpo -c -o ta_WILLR.lo ta_WILLR.c\n",
            " gcc -DHAVE_CONFIG_H -I. -I../../include -I../ta_common/ -g -O2 -MT ta_WILLR.lo -MD -MP -MF .deps/ta_WILLR.Tpo -c ta_WILLR.c  -fPIC -DPIC -o .libs/ta_WILLR.o\n",
            " gcc -DHAVE_CONFIG_H -I. -I../../include -I../ta_common/ -g -O2 -MT ta_WILLR.lo -MD -MP -MF .deps/ta_WILLR.Tpo -c ta_WILLR.c -o ta_WILLR.o >/dev/null 2>&1\n",
            "mv -f .deps/ta_WILLR.Tpo .deps/ta_WILLR.Plo\n",
            "/bin/bash ../../libtool --tag=CC   --mode=compile gcc -DHAVE_CONFIG_H -I. -I../../include  -I../ta_common/   -g -O2 -MT ta_WMA.lo -MD -MP -MF .deps/ta_WMA.Tpo -c -o ta_WMA.lo ta_WMA.c\n",
            " gcc -DHAVE_CONFIG_H -I. -I../../include -I../ta_common/ -g -O2 -MT ta_WMA.lo -MD -MP -MF .deps/ta_WMA.Tpo -c ta_WMA.c  -fPIC -DPIC -o .libs/ta_WMA.o\n",
            " gcc -DHAVE_CONFIG_H -I. -I../../include -I../ta_common/ -g -O2 -MT ta_WMA.lo -MD -MP -MF .deps/ta_WMA.Tpo -c ta_WMA.c -o ta_WMA.o >/dev/null 2>&1\n",
            "mv -f .deps/ta_WMA.Tpo .deps/ta_WMA.Plo\n",
            "/bin/bash ../../libtool --tag=CC   --mode=link gcc  -g -O2 -version-info 0:0:0  -o libta_func.la  ta_utility.lo ta_ACOS.lo ta_AD.lo ta_ADD.lo ta_ADOSC.lo ta_ADX.lo ta_ADXR.lo ta_APO.lo ta_AROON.lo ta_AROONOSC.lo ta_ASIN.lo ta_ATAN.lo ta_ATR.lo ta_AVGPRICE.lo ta_BBANDS.lo ta_BETA.lo ta_BOP.lo ta_CCI.lo ta_CDL2CROWS.lo ta_CDL3BLACKCROWS.lo ta_CDL3INSIDE.lo ta_CDL3LINESTRIKE.lo ta_CDL3OUTSIDE.lo ta_CDL3STARSINSOUTH.lo ta_CDL3WHITESOLDIERS.lo ta_CDLABANDONEDBABY.lo ta_CDLADVANCEBLOCK.lo ta_CDLBELTHOLD.lo ta_CDLBREAKAWAY.lo ta_CDLCLOSINGMARUBOZU.lo ta_CDLCONCEALBABYSWALL.lo ta_CDLCOUNTERATTACK.lo ta_CDLDARKCLOUDCOVER.lo ta_CDLDOJI.lo ta_CDLDOJISTAR.lo ta_CDLDRAGONFLYDOJI.lo ta_CDLENGULFING.lo ta_CDLEVENINGDOJISTAR.lo ta_CDLEVENINGSTAR.lo ta_CDLGAPSIDESIDEWHITE.lo ta_CDLGRAVESTONEDOJI.lo ta_CDLHAMMER.lo ta_CDLHANGINGMAN.lo ta_CDLHARAMI.lo ta_CDLHARAMICROSS.lo ta_CDLHIGHWAVE.lo ta_CDLHIKKAKE.lo ta_CDLHIKKAKEMOD.lo ta_CDLHOMINGPIGEON.lo ta_CDLIDENTICAL3CROWS.lo ta_CDLINNECK.lo ta_CDLINVERTEDHAMMER.lo ta_CDLKICKING.lo ta_CDLKICKINGBYLENGTH.lo ta_CDLLADDERBOTTOM.lo ta_CDLLONGLEGGEDDOJI.lo ta_CDLLONGLINE.lo ta_CDLMARUBOZU.lo ta_CDLMATCHINGLOW.lo ta_CDLMATHOLD.lo ta_CDLMORNINGDOJISTAR.lo ta_CDLMORNINGSTAR.lo ta_CDLONNECK.lo ta_CDLPIERCING.lo ta_CDLRICKSHAWMAN.lo ta_CDLRISEFALL3METHODS.lo ta_CDLSEPARATINGLINES.lo ta_CDLSHOOTINGSTAR.lo ta_CDLSHORTLINE.lo ta_CDLSPINNINGTOP.lo ta_CDLSTALLEDPATTERN.lo ta_CDLSTICKSANDWICH.lo ta_CDLTAKURI.lo ta_CDLTASUKIGAP.lo ta_CDLTHRUSTING.lo ta_CDLTRISTAR.lo ta_CDLUNIQUE3RIVER.lo ta_CDLUPSIDEGAP2CROWS.lo ta_CDLXSIDEGAP3METHODS.lo ta_CEIL.lo ta_CMO.lo ta_CORREL.lo ta_COS.lo ta_COSH.lo ta_DEMA.lo ta_DIV.lo ta_DX.lo ta_EMA.lo ta_EXP.lo ta_FLOOR.lo ta_HT_DCPERIOD.lo ta_HT_DCPHASE.lo ta_HT_PHASOR.lo ta_HT_SINE.lo ta_HT_TRENDLINE.lo ta_HT_TRENDMODE.lo ta_KAMA.lo ta_LINEARREG.lo ta_LINEARREG_ANGLE.lo ta_LINEARREG_INTERCEPT.lo ta_LINEARREG_SLOPE.lo ta_LN.lo ta_LOG10.lo ta_MA.lo ta_MACD.lo ta_MACDEXT.lo ta_MACDFIX.lo ta_MAMA.lo ta_MAVP.lo ta_MAX.lo ta_MAXINDEX.lo ta_MEDPRICE.lo ta_MFI.lo ta_MIDPOINT.lo ta_MIDPRICE.lo ta_MIN.lo ta_MININDEX.lo ta_MINMAX.lo ta_MINMAXINDEX.lo ta_MINUS_DI.lo ta_MINUS_DM.lo ta_MOM.lo ta_MULT.lo ta_NATR.lo ta_OBV.lo ta_PLUS_DI.lo ta_PLUS_DM.lo ta_PPO.lo ta_ROC.lo ta_ROCP.lo ta_ROCR.lo ta_ROCR100.lo ta_RSI.lo ta_SAR.lo ta_SAREXT.lo ta_SIN.lo ta_SINH.lo ta_SMA.lo ta_SQRT.lo ta_STDDEV.lo ta_STOCH.lo ta_STOCHF.lo ta_STOCHRSI.lo ta_SUB.lo ta_SUM.lo ta_T3.lo ta_TAN.lo ta_TANH.lo ta_TEMA.lo ta_TRANGE.lo ta_TRIMA.lo ta_TRIX.lo ta_TSF.lo ta_TYPPRICE.lo ta_ULTOSC.lo ta_VAR.lo ta_WCLPRICE.lo ta_WILLR.lo ta_WMA.lo  -lpthread -ldl \n",
            "libtool: link: warning: `-version-info/-version-number' is ignored for convenience libraries\n",
            "ar cru .libs/libta_func.a .libs/ta_utility.o .libs/ta_ACOS.o .libs/ta_AD.o .libs/ta_ADD.o .libs/ta_ADOSC.o .libs/ta_ADX.o .libs/ta_ADXR.o .libs/ta_APO.o .libs/ta_AROON.o .libs/ta_AROONOSC.o .libs/ta_ASIN.o .libs/ta_ATAN.o .libs/ta_ATR.o .libs/ta_AVGPRICE.o .libs/ta_BBANDS.o .libs/ta_BETA.o .libs/ta_BOP.o .libs/ta_CCI.o .libs/ta_CDL2CROWS.o .libs/ta_CDL3BLACKCROWS.o .libs/ta_CDL3INSIDE.o .libs/ta_CDL3LINESTRIKE.o .libs/ta_CDL3OUTSIDE.o .libs/ta_CDL3STARSINSOUTH.o .libs/ta_CDL3WHITESOLDIERS.o .libs/ta_CDLABANDONEDBABY.o .libs/ta_CDLADVANCEBLOCK.o .libs/ta_CDLBELTHOLD.o .libs/ta_CDLBREAKAWAY.o .libs/ta_CDLCLOSINGMARUBOZU.o .libs/ta_CDLCONCEALBABYSWALL.o .libs/ta_CDLCOUNTERATTACK.o .libs/ta_CDLDARKCLOUDCOVER.o .libs/ta_CDLDOJI.o .libs/ta_CDLDOJISTAR.o .libs/ta_CDLDRAGONFLYDOJI.o .libs/ta_CDLENGULFING.o .libs/ta_CDLEVENINGDOJISTAR.o .libs/ta_CDLEVENINGSTAR.o .libs/ta_CDLGAPSIDESIDEWHITE.o .libs/ta_CDLGRAVESTONEDOJI.o .libs/ta_CDLHAMMER.o .libs/ta_CDLHANGINGMAN.o .libs/ta_CDLHARAMI.o .libs/ta_CDLHARAMICROSS.o .libs/ta_CDLHIGHWAVE.o .libs/ta_CDLHIKKAKE.o .libs/ta_CDLHIKKAKEMOD.o .libs/ta_CDLHOMINGPIGEON.o .libs/ta_CDLIDENTICAL3CROWS.o .libs/ta_CDLINNECK.o .libs/ta_CDLINVERTEDHAMMER.o .libs/ta_CDLKICKING.o .libs/ta_CDLKICKINGBYLENGTH.o .libs/ta_CDLLADDERBOTTOM.o .libs/ta_CDLLONGLEGGEDDOJI.o .libs/ta_CDLLONGLINE.o .libs/ta_CDLMARUBOZU.o .libs/ta_CDLMATCHINGLOW.o .libs/ta_CDLMATHOLD.o .libs/ta_CDLMORNINGDOJISTAR.o .libs/ta_CDLMORNINGSTAR.o .libs/ta_CDLONNECK.o .libs/ta_CDLPIERCING.o .libs/ta_CDLRICKSHAWMAN.o .libs/ta_CDLRISEFALL3METHODS.o .libs/ta_CDLSEPARATINGLINES.o .libs/ta_CDLSHOOTINGSTAR.o .libs/ta_CDLSHORTLINE.o .libs/ta_CDLSPINNINGTOP.o .libs/ta_CDLSTALLEDPATTERN.o .libs/ta_CDLSTICKSANDWICH.o .libs/ta_CDLTAKURI.o .libs/ta_CDLTASUKIGAP.o .libs/ta_CDLTHRUSTING.o .libs/ta_CDLTRISTAR.o .libs/ta_CDLUNIQUE3RIVER.o .libs/ta_CDLUPSIDEGAP2CROWS.o .libs/ta_CDLXSIDEGAP3METHODS.o .libs/ta_CEIL.o .libs/ta_CMO.o .libs/ta_CORREL.o .libs/ta_COS.o .libs/ta_COSH.o .libs/ta_DEMA.o .libs/ta_DIV.o .libs/ta_DX.o .libs/ta_EMA.o .libs/ta_EXP.o .libs/ta_FLOOR.o .libs/ta_HT_DCPERIOD.o .libs/ta_HT_DCPHASE.o .libs/ta_HT_PHASOR.o .libs/ta_HT_SINE.o .libs/ta_HT_TRENDLINE.o .libs/ta_HT_TRENDMODE.o .libs/ta_KAMA.o .libs/ta_LINEARREG.o .libs/ta_LINEARREG_ANGLE.o .libs/ta_LINEARREG_INTERCEPT.o .libs/ta_LINEARREG_SLOPE.o .libs/ta_LN.o .libs/ta_LOG10.o .libs/ta_MA.o .libs/ta_MACD.o .libs/ta_MACDEXT.o .libs/ta_MACDFIX.o .libs/ta_MAMA.o .libs/ta_MAVP.o .libs/ta_MAX.o .libs/ta_MAXINDEX.o .libs/ta_MEDPRICE.o .libs/ta_MFI.o .libs/ta_MIDPOINT.o .libs/ta_MIDPRICE.o .libs/ta_MIN.o .libs/ta_MININDEX.o .libs/ta_MINMAX.o .libs/ta_MINMAXINDEX.o .libs/ta_MINUS_DI.o .libs/ta_MINUS_DM.o .libs/ta_MOM.o .libs/ta_MULT.o .libs/ta_NATR.o .libs/ta_OBV.o .libs/ta_PLUS_DI.o .libs/ta_PLUS_DM.o .libs/ta_PPO.o .libs/ta_ROC.o .libs/ta_ROCP.o .libs/ta_ROCR.o .libs/ta_ROCR100.o .libs/ta_RSI.o .libs/ta_SAR.o .libs/ta_SAREXT.o .libs/ta_SIN.o .libs/ta_SINH.o .libs/ta_SMA.o .libs/ta_SQRT.o .libs/ta_STDDEV.o .libs/ta_STOCH.o .libs/ta_STOCHF.o .libs/ta_STOCHRSI.o .libs/ta_SUB.o .libs/ta_SUM.o .libs/ta_T3.o .libs/ta_TAN.o .libs/ta_TANH.o .libs/ta_TEMA.o .libs/ta_TRANGE.o .libs/ta_TRIMA.o .libs/ta_TRIX.o .libs/ta_TSF.o .libs/ta_TYPPRICE.o .libs/ta_ULTOSC.o .libs/ta_VAR.o .libs/ta_WCLPRICE.o .libs/ta_WILLR.o .libs/ta_WMA.o\n",
            "ar: `u' modifier ignored since `D' is the default (see `U')\n",
            "ranlib .libs/libta_func.a\n",
            "creating libta_func.la\n",
            "(cd .libs && rm -f libta_func.la && ln -s ../libta_func.la libta_func.la)\n",
            "make[2]: Leaving directory '/content/ta-lib/src/ta_func'\n",
            "make[2]: Entering directory '/content/ta-lib/src'\n",
            "/bin/bash ../libtool --tag=CC   --mode=link gcc  -g -O2 -version-info 0:0:0  -o libta_lib.la -rpath /usr/lib  ta_abstract/libta_abstract.la ta_func/libta_func.la ta_common/libta_common.la -lpthread -ldl \n",
            "mkdir .libs\n",
            "gcc -shared  -Wl,--whole-archive ta_abstract/.libs/libta_abstract.a ta_func/.libs/libta_func.a ta_common/.libs/libta_common.a -Wl,--no-whole-archive  -lpthread -ldl  -Wl,-soname -Wl,libta_lib.so.0 -o .libs/libta_lib.so.0.0.0\n",
            "(cd .libs && rm -f libta_lib.so.0 && ln -s libta_lib.so.0.0.0 libta_lib.so.0)\n",
            "(cd .libs && rm -f libta_lib.so && ln -s libta_lib.so.0.0.0 libta_lib.so)\n",
            "rm -fr .libs/libta_lib.lax\n",
            "mkdir .libs/libta_lib.lax\n",
            "rm -fr .libs/libta_lib.lax/libta_abstract.a\n",
            "mkdir .libs/libta_lib.lax/libta_abstract.a\n",
            "(cd .libs/libta_lib.lax/libta_abstract.a && ar x /content/ta-lib/src/ta_abstract/.libs/libta_abstract.a)\n",
            "rm -fr .libs/libta_lib.lax/libta_func.a\n",
            "mkdir .libs/libta_lib.lax/libta_func.a\n",
            "(cd .libs/libta_lib.lax/libta_func.a && ar x /content/ta-lib/src/ta_func/.libs/libta_func.a)\n",
            "rm -fr .libs/libta_lib.lax/libta_common.a\n",
            "mkdir .libs/libta_lib.lax/libta_common.a\n",
            "(cd .libs/libta_lib.lax/libta_common.a && ar x /content/ta-lib/src/ta_common/.libs/libta_common.a)\n",
            "ar cru .libs/libta_lib.a   .libs/libta_lib.lax/libta_abstract.a/libta_abstract_la-table_n.o .libs/libta_lib.lax/libta_abstract.a/libta_abstract_la-ta_frame.o .libs/libta_lib.lax/libta_abstract.a/libta_abstract_la-table_s.o .libs/libta_lib.lax/libta_abstract.a/libta_abstract_la-table_v.o .libs/libta_lib.lax/libta_abstract.a/libta_abstract_la-table_d.o .libs/libta_lib.lax/libta_abstract.a/libta_abstract_la-ta_def_ui.o .libs/libta_lib.lax/libta_abstract.a/libta_abstract_la-table_f.o .libs/libta_lib.lax/libta_abstract.a/libta_abstract_la-table_h.o .libs/libta_lib.lax/libta_abstract.a/libta_abstract_la-table_x.o .libs/libta_lib.lax/libta_abstract.a/libta_abstract_la-table_m.o .libs/libta_lib.lax/libta_abstract.a/libta_abstract_la-table_g.o .libs/libta_lib.lax/libta_abstract.a/libta_abstract_la-table_o.o .libs/libta_lib.lax/libta_abstract.a/libta_abstract_la-ta_abstract.o .libs/libta_lib.lax/libta_abstract.a/libta_abstract_la-ta_func_api.o .libs/libta_lib.lax/libta_abstract.a/libta_abstract_la-table_q.o .libs/libta_lib.lax/libta_abstract.a/libta_abstract_la-table_j.o .libs/libta_lib.lax/libta_abstract.a/libta_abstract_la-table_e.o .libs/libta_lib.lax/libta_abstract.a/libta_abstract_la-table_k.o .libs/libta_lib.lax/libta_abstract.a/libta_abstract_la-table_b.o .libs/libta_lib.lax/libta_abstract.a/libta_abstract_la-table_y.o .libs/libta_lib.lax/libta_abstract.a/libta_abstract_la-table_z.o .libs/libta_lib.lax/libta_abstract.a/libta_abstract_la-table_r.o .libs/libta_lib.lax/libta_abstract.a/libta_abstract_la-table_w.o .libs/libta_lib.lax/libta_abstract.a/libta_abstract_la-table_t.o .libs/libta_lib.lax/libta_abstract.a/libta_abstract_la-table_u.o .libs/libta_lib.lax/libta_abstract.a/libta_abstract_la-table_i.o .libs/libta_lib.lax/libta_abstract.a/libta_abstract_la-table_p.o .libs/libta_lib.lax/libta_abstract.a/libta_abstract_la-table_c.o .libs/libta_lib.lax/libta_abstract.a/libta_abstract_la-ta_group_idx.o .libs/libta_lib.lax/libta_abstract.a/libta_abstract_la-table_a.o .libs/libta_lib.lax/libta_abstract.a/libta_abstract_la-table_l.o  .libs/libta_lib.lax/libta_func.a/ta_CDLHANGINGMAN.o .libs/libta_lib.lax/libta_func.a/ta_STOCHRSI.o .libs/libta_lib.lax/libta_func.a/ta_ATR.o .libs/libta_lib.lax/libta_func.a/ta_SUM.o .libs/libta_lib.lax/libta_func.a/ta_ROCR100.o .libs/libta_lib.lax/libta_func.a/ta_CDLENGULFING.o .libs/libta_lib.lax/libta_func.a/ta_LINEARREG_SLOPE.o .libs/libta_lib.lax/libta_func.a/ta_DEMA.o .libs/libta_lib.lax/libta_func.a/ta_utility.o .libs/libta_lib.lax/libta_func.a/ta_MINUS_DM.o .libs/libta_lib.lax/libta_func.a/ta_ADD.o .libs/libta_lib.lax/libta_func.a/ta_MINMAXINDEX.o .libs/libta_lib.lax/libta_func.a/ta_SQRT.o .libs/libta_lib.lax/libta_func.a/ta_WMA.o .libs/libta_lib.lax/libta_func.a/ta_MACD.o .libs/libta_lib.lax/libta_func.a/ta_ASIN.o .libs/libta_lib.lax/libta_func.a/ta_CDLDARKCLOUDCOVER.o .libs/libta_lib.lax/libta_func.a/ta_BOP.o .libs/libta_lib.lax/libta_func.a/ta_CDLUPSIDEGAP2CROWS.o .libs/libta_lib.lax/libta_func.a/ta_AROONOSC.o .libs/libta_lib.lax/libta_func.a/ta_TEMA.o .libs/libta_lib.lax/libta_func.a/ta_SUB.o .libs/libta_lib.lax/libta_func.a/ta_CDLLONGLINE.o .libs/libta_lib.lax/libta_func.a/ta_MACDEXT.o .libs/libta_lib.lax/libta_func.a/ta_NATR.o .libs/libta_lib.lax/libta_func.a/ta_TRANGE.o .libs/libta_lib.lax/libta_func.a/ta_ROC.o .libs/libta_lib.lax/libta_func.a/ta_HT_PHASOR.o .libs/libta_lib.lax/libta_func.a/ta_HT_SINE.o .libs/libta_lib.lax/libta_func.a/ta_CDLMORNINGDOJISTAR.o .libs/libta_lib.lax/libta_func.a/ta_MIDPRICE.o .libs/libta_lib.lax/libta_func.a/ta_WILLR.o .libs/libta_lib.lax/libta_func.a/ta_CDLGAPSIDESIDEWHITE.o .libs/libta_lib.lax/libta_func.a/ta_CDLINVERTEDHAMMER.o .libs/libta_lib.lax/libta_func.a/ta_CDLLONGLEGGEDDOJI.o .libs/libta_lib.lax/libta_func.a/ta_CDLINNECK.o .libs/libta_lib.lax/libta_func.a/ta_LINEARREG_ANGLE.o .libs/libta_lib.lax/libta_func.a/ta_COS.o .libs/libta_lib.lax/libta_func.a/ta_MULT.o .libs/libta_lib.lax/libta_func.a/ta_HT_TRENDMODE.o .libs/libta_lib.lax/libta_func.a/ta_ACOS.o .libs/libta_lib.lax/libta_func.a/ta_OBV.o .libs/libta_lib.lax/libta_func.a/ta_MAVP.o .libs/libta_lib.lax/libta_func.a/ta_CDLHARAMICROSS.o .libs/libta_lib.lax/libta_func.a/ta_PLUS_DM.o .libs/libta_lib.lax/libta_func.a/ta_CDLLADDERBOTTOM.o .libs/libta_lib.lax/libta_func.a/ta_CDLXSIDEGAP3METHODS.o .libs/libta_lib.lax/libta_func.a/ta_CDLSTICKSANDWICH.o .libs/libta_lib.lax/libta_func.a/ta_SAR.o .libs/libta_lib.lax/libta_func.a/ta_CDLSTALLEDPATTERN.o .libs/libta_lib.lax/libta_func.a/ta_HT_DCPERIOD.o .libs/libta_lib.lax/libta_func.a/ta_TSF.o .libs/libta_lib.lax/libta_func.a/ta_SINH.o .libs/libta_lib.lax/libta_func.a/ta_ATAN.o .libs/libta_lib.lax/libta_func.a/ta_CDLEVENINGDOJISTAR.o .libs/libta_lib.lax/libta_func.a/ta_CDLONNECK.o .libs/libta_lib.lax/libta_func.a/ta_CDLEVENINGSTAR.o .libs/libta_lib.lax/libta_func.a/ta_CDLMATHOLD.o .libs/libta_lib.lax/libta_func.a/ta_CDLDOJISTAR.o .libs/libta_lib.lax/libta_func.a/ta_CDLTHRUSTING.o .libs/libta_lib.lax/libta_func.a/ta_LINEARREG_INTERCEPT.o .libs/libta_lib.lax/libta_func.a/ta_CDLADVANCEBLOCK.o .libs/libta_lib.lax/libta_func.a/ta_CDLRICKSHAWMAN.o .libs/libta_lib.lax/libta_func.a/ta_EMA.o .libs/libta_lib.lax/libta_func.a/ta_CDLCLOSINGMARUBOZU.o .libs/libta_lib.lax/libta_func.a/ta_MEDPRICE.o .libs/libta_lib.lax/libta_func.a/ta_CDLSEPARATINGLINES.o .libs/libta_lib.lax/libta_func.a/ta_CDLBREAKAWAY.o .libs/libta_lib.lax/libta_func.a/ta_CDLCONCEALBABYSWALL.o .libs/libta_lib.lax/libta_func.a/ta_CDLRISEFALL3METHODS.o .libs/libta_lib.lax/libta_func.a/ta_CDLUNIQUE3RIVER.o .libs/libta_lib.lax/libta_func.a/ta_CDLDRAGONFLYDOJI.o .libs/libta_lib.lax/libta_func.a/ta_MINMAX.o .libs/libta_lib.lax/libta_func.a/ta_CDLHOMINGPIGEON.o .libs/libta_lib.lax/libta_func.a/ta_LN.o .libs/libta_lib.lax/libta_func.a/ta_CDLTRISTAR.o .libs/libta_lib.lax/libta_func.a/ta_LOG10.o .libs/libta_lib.lax/libta_func.a/ta_CDLHARAMI.o .libs/libta_lib.lax/libta_func.a/ta_WCLPRICE.o .libs/libta_lib.lax/libta_func.a/ta_MAX.o .libs/libta_lib.lax/libta_func.a/ta_MIDPOINT.o .libs/libta_lib.lax/libta_func.a/ta_CCI.o .libs/libta_lib.lax/libta_func.a/ta_TAN.o .libs/libta_lib.lax/libta_func.a/ta_PPO.o .libs/libta_lib.lax/libta_func.a/ta_CDLDOJI.o .libs/libta_lib.lax/libta_func.a/ta_COSH.o .libs/libta_lib.lax/libta_func.a/ta_MIN.o .libs/libta_lib.lax/libta_func.a/ta_CDL3INSIDE.o .libs/libta_lib.lax/libta_func.a/ta_FLOOR.o .libs/libta_lib.lax/libta_func.a/ta_CDLKICKINGBYLENGTH.o .libs/libta_lib.lax/libta_func.a/ta_MINUS_DI.o .libs/libta_lib.lax/libta_func.a/ta_CDL3LINESTRIKE.o .libs/libta_lib.lax/libta_func.a/ta_CDL3BLACKCROWS.o .libs/libta_lib.lax/libta_func.a/ta_CDLHIKKAKEMOD.o .libs/libta_lib.lax/libta_func.a/ta_CMO.o .libs/libta_lib.lax/libta_func.a/ta_HT_DCPHASE.o .libs/libta_lib.lax/libta_func.a/ta_ULTOSC.o .libs/libta_lib.lax/libta_func.a/ta_ROCR.o .libs/libta_lib.lax/libta_func.a/ta_MFI.o .libs/libta_lib.lax/libta_func.a/ta_CDLMARUBOZU.o .libs/libta_lib.lax/libta_func.a/ta_CDLHAMMER.o .libs/libta_lib.lax/libta_func.a/ta_CDLSHOOTINGSTAR.o .libs/libta_lib.lax/libta_func.a/ta_KAMA.o .libs/libta_lib.lax/libta_func.a/ta_MININDEX.o .libs/libta_lib.lax/libta_func.a/ta_TRIMA.o .libs/libta_lib.lax/libta_func.a/ta_CDL3STARSINSOUTH.o .libs/libta_lib.lax/libta_func.a/ta_SIN.o .libs/libta_lib.lax/libta_func.a/ta_CDL3WHITESOLDIERS.o .libs/libta_lib.lax/libta_func.a/ta_STOCH.o .libs/libta_lib.lax/libta_func.a/ta_AVGPRICE.o .libs/libta_lib.lax/libta_func.a/ta_MACDFIX.o .libs/libta_lib.lax/libta_func.a/ta_CDLHIKKAKE.o .libs/libta_lib.lax/libta_func.a/ta_TANH.o .libs/libta_lib.lax/libta_func.a/ta_AD.o .libs/libta_lib.lax/libta_func.a/ta_APO.o .libs/libta_lib.lax/libta_func.a/ta_PLUS_DI.o .libs/libta_lib.lax/libta_func.a/ta_MAMA.o .libs/libta_lib.lax/libta_func.a/ta_DX.o .libs/libta_lib.lax/libta_func.a/ta_MA.o .libs/libta_lib.lax/libta_func.a/ta_SMA.o .libs/libta_lib.lax/libta_func.a/ta_AROON.o .libs/libta_lib.lax/libta_func.a/ta_DIV.o .libs/libta_lib.lax/libta_func.a/ta_CDLSHORTLINE.o .libs/libta_lib.lax/libta_func.a/ta_CDLGRAVESTONEDOJI.o .libs/libta_lib.lax/libta_func.a/ta_HT_TRENDLINE.o .libs/libta_lib.lax/libta_func.a/ta_ADXR.o .libs/libta_lib.lax/libta_func.a/ta_STDDEV.o .libs/libta_lib.lax/libta_func.a/ta_CDLSPINNINGTOP.o .libs/libta_lib.lax/libta_func.a/ta_CDLABANDONEDBABY.o .libs/libta_lib.lax/libta_func.a/ta_TRIX.o .libs/libta_lib.lax/libta_func.a/ta_CDLMATCHINGLOW.o .libs/libta_lib.lax/libta_func.a/ta_CORREL.o .libs/libta_lib.lax/libta_func.a/ta_TYPPRICE.o .libs/libta_lib.lax/libta_func.a/ta_ADX.o .libs/libta_lib.lax/libta_func.a/ta_VAR.o .libs/libta_lib.lax/libta_func.a/ta_MAXINDEX.o .libs/libta_lib.lax/libta_func.a/ta_CDLTAKURI.o .libs/libta_lib.lax/libta_func.a/ta_CDL2CROWS.o .libs/libta_lib.lax/libta_func.a/ta_CDLCOUNTERATTACK.o .libs/libta_lib.lax/libta_func.a/ta_STOCHF.o .libs/libta_lib.lax/libta_func.a/ta_LINEARREG.o .libs/libta_lib.lax/libta_func.a/ta_RSI.o .libs/libta_lib.lax/libta_func.a/ta_CDLPIERCING.o .libs/libta_lib.lax/libta_func.a/ta_BETA.o .libs/libta_lib.lax/libta_func.a/ta_CDLIDENTICAL3CROWS.o .libs/libta_lib.lax/libta_func.a/ta_CEIL.o .libs/libta_lib.lax/libta_func.a/ta_CDLMORNINGSTAR.o .libs/libta_lib.lax/libta_func.a/ta_CDLKICKING.o .libs/libta_lib.lax/libta_func.a/ta_ADOSC.o .libs/libta_lib.lax/libta_func.a/ta_CDLBELTHOLD.o .libs/libta_lib.lax/libta_func.a/ta_T3.o .libs/libta_lib.lax/libta_func.a/ta_BBANDS.o .libs/libta_lib.lax/libta_func.a/ta_CDL3OUTSIDE.o .libs/libta_lib.lax/libta_func.a/ta_ROCP.o .libs/libta_lib.lax/libta_func.a/ta_MOM.o .libs/libta_lib.lax/libta_func.a/ta_CDLHIGHWAVE.o .libs/libta_lib.lax/libta_func.a/ta_SAREXT.o .libs/libta_lib.lax/libta_func.a/ta_CDLTASUKIGAP.o .libs/libta_lib.lax/libta_func.a/ta_EXP.o  .libs/libta_lib.lax/libta_common.a/ta_version.o .libs/libta_lib.lax/libta_common.a/ta_retcode.o .libs/libta_lib.lax/libta_common.a/ta_global.o \n",
            "ar: `u' modifier ignored since `D' is the default (see `U')\n",
            "ranlib .libs/libta_lib.a\n",
            "rm -fr .libs/libta_lib.lax\n",
            "creating libta_lib.la\n",
            "(cd .libs && rm -f libta_lib.la && ln -s ../libta_lib.la libta_lib.la)\n",
            "make[2]: Leaving directory '/content/ta-lib/src'\n",
            "make[1]: Leaving directory '/content/ta-lib/src'\n",
            "Making all in src/tools\n",
            "make[1]: Entering directory '/content/ta-lib/src/tools'\n",
            "Making all in gen_code\n",
            "make[2]: Entering directory '/content/ta-lib/src/tools/gen_code'\n",
            "gcc -DHAVE_CONFIG_H -I. -I../../../include  -I../../ta_common   -g -O2 -MT gen_code-gen_code.o -MD -MP -MF .deps/gen_code-gen_code.Tpo -c -o gen_code-gen_code.o `test -f 'gen_code.c' || echo './'`gen_code.c\n",
            "\u001b[01m\u001b[Kgen_code.c:\u001b[m\u001b[K In function ‘\u001b[01m\u001b[KprintFuncHeaderDoc\u001b[m\u001b[K’:\n",
            "\u001b[01m\u001b[Kgen_code.c:3456:4:\u001b[m\u001b[K \u001b[01;35m\u001b[Kwarning: \u001b[m\u001b[Kformat not a string literal and no format arguments [\u001b[01;35m\u001b[K\u001b]8;;https://gcc.gnu.org/onlinedocs/gcc/Warning-Options.html#index-Wformat-security\u0007-Wformat-security\u001b]8;;\u0007\u001b[m\u001b[K]\n",
            " 3456 |    \u001b[01;35m\u001b[Kfprintf\u001b[m\u001b[K( out, prefix );\n",
            "      |    \u001b[01;35m\u001b[K^~~~~~~\u001b[m\u001b[K\n",
            "mv -f .deps/gen_code-gen_code.Tpo .deps/gen_code-gen_code.Po\n",
            "/bin/bash ../../../libtool --tag=CC   --mode=link gcc  -g -O2 -L../../ta_common -L../../ta_abstract -L../../ta_func  -o gen_code gen_code-gen_code.o -lta_common -lta_abstract_gc -lta_func -lm -lpthread -ldl \n",
            "mkdir .libs\n",
            "gcc -g -O2 -o gen_code gen_code-gen_code.o  -L/content/ta-lib/src/ta_common -L/content/ta-lib/src/ta_abstract -L/content/ta-lib/src/ta_func /content/ta-lib/src/ta_common/.libs/libta_common.a /content/ta-lib/src/ta_abstract/.libs/libta_abstract_gc.a /content/ta-lib/src/ta_func/.libs/libta_func.a -lm -lpthread -ldl\n",
            "make  gen_code\n",
            "make[3]: Entering directory '/content/ta-lib/src/tools/gen_code'\n",
            "make[3]: 'gen_code' is up to date.\n",
            "make[3]: Leaving directory '/content/ta-lib/src/tools/gen_code'\n",
            "cp gen_code ../../../bin\n",
            "make[2]: Leaving directory '/content/ta-lib/src/tools/gen_code'\n",
            "Making all in ta_regtest\n",
            "make[2]: Entering directory '/content/ta-lib/src/tools/ta_regtest'\n",
            "gcc -DHAVE_CONFIG_H -I. -I../../../include  -I../../ta_func -I../../ta_common/trio -I../../ta_common/mt -I../../ta_common -I../../ta_abstract   -g -O2 -MT ta_regtest-ta_regtest.o -MD -MP -MF .deps/ta_regtest-ta_regtest.Tpo -c -o ta_regtest-ta_regtest.o `test -f 'ta_regtest.c' || echo './'`ta_regtest.c\n",
            "mv -f .deps/ta_regtest-ta_regtest.Tpo .deps/ta_regtest-ta_regtest.Po\n",
            "gcc -DHAVE_CONFIG_H -I. -I../../../include  -I../../ta_func -I../../ta_common/trio -I../../ta_common/mt -I../../ta_common -I../../ta_abstract   -g -O2 -MT ta_regtest-test_data.o -MD -MP -MF .deps/ta_regtest-test_data.Tpo -c -o ta_regtest-test_data.o `test -f 'test_data.c' || echo './'`test_data.c\n",
            "mv -f .deps/ta_regtest-test_data.Tpo .deps/ta_regtest-test_data.Po\n",
            "gcc -DHAVE_CONFIG_H -I. -I../../../include  -I../../ta_func -I../../ta_common/trio -I../../ta_common/mt -I../../ta_common -I../../ta_abstract   -g -O2 -MT ta_regtest-test_util.o -MD -MP -MF .deps/ta_regtest-test_util.Tpo -c -o ta_regtest-test_util.o `test -f 'test_util.c' || echo './'`test_util.c\n",
            "mv -f .deps/ta_regtest-test_util.Tpo .deps/ta_regtest-test_util.Po\n",
            "gcc -DHAVE_CONFIG_H -I. -I../../../include  -I../../ta_func -I../../ta_common/trio -I../../ta_common/mt -I../../ta_common -I../../ta_abstract   -g -O2 -MT ta_regtest-test_abstract.o -MD -MP -MF .deps/ta_regtest-test_abstract.Tpo -c -o ta_regtest-test_abstract.o `test -f 'test_abstract.c' || echo './'`test_abstract.c\n",
            "mv -f .deps/ta_regtest-test_abstract.Tpo .deps/ta_regtest-test_abstract.Po\n",
            "gcc -DHAVE_CONFIG_H -I. -I../../../include  -I../../ta_func -I../../ta_common/trio -I../../ta_common/mt -I../../ta_common -I../../ta_abstract   -g -O2 -MT ta_regtest-test_adx.o -MD -MP -MF .deps/ta_regtest-test_adx.Tpo -c -o ta_regtest-test_adx.o `test -f 'ta_test_func/test_adx.c' || echo './'`ta_test_func/test_adx.c\n",
            "mv -f .deps/ta_regtest-test_adx.Tpo .deps/ta_regtest-test_adx.Po\n",
            "gcc -DHAVE_CONFIG_H -I. -I../../../include  -I../../ta_func -I../../ta_common/trio -I../../ta_common/mt -I../../ta_common -I../../ta_abstract   -g -O2 -MT ta_regtest-test_mom.o -MD -MP -MF .deps/ta_regtest-test_mom.Tpo -c -o ta_regtest-test_mom.o `test -f 'ta_test_func/test_mom.c' || echo './'`ta_test_func/test_mom.c\n",
            "mv -f .deps/ta_regtest-test_mom.Tpo .deps/ta_regtest-test_mom.Po\n",
            "gcc -DHAVE_CONFIG_H -I. -I../../../include  -I../../ta_func -I../../ta_common/trio -I../../ta_common/mt -I../../ta_common -I../../ta_abstract   -g -O2 -MT ta_regtest-test_sar.o -MD -MP -MF .deps/ta_regtest-test_sar.Tpo -c -o ta_regtest-test_sar.o `test -f 'ta_test_func/test_sar.c' || echo './'`ta_test_func/test_sar.c\n",
            "mv -f .deps/ta_regtest-test_sar.Tpo .deps/ta_regtest-test_sar.Po\n",
            "gcc -DHAVE_CONFIG_H -I. -I../../../include  -I../../ta_func -I../../ta_common/trio -I../../ta_common/mt -I../../ta_common -I../../ta_abstract   -g -O2 -MT ta_regtest-test_rsi.o -MD -MP -MF .deps/ta_regtest-test_rsi.Tpo -c -o ta_regtest-test_rsi.o `test -f 'ta_test_func/test_rsi.c' || echo './'`ta_test_func/test_rsi.c\n",
            "mv -f .deps/ta_regtest-test_rsi.Tpo .deps/ta_regtest-test_rsi.Po\n",
            "gcc -DHAVE_CONFIG_H -I. -I../../../include  -I../../ta_func -I../../ta_common/trio -I../../ta_common/mt -I../../ta_common -I../../ta_abstract   -g -O2 -MT ta_regtest-test_candlestick.o -MD -MP -MF .deps/ta_regtest-test_candlestick.Tpo -c -o ta_regtest-test_candlestick.o `test -f 'ta_test_func/test_candlestick.c' || echo './'`ta_test_func/test_candlestick.c\n",
            "mv -f .deps/ta_regtest-test_candlestick.Tpo .deps/ta_regtest-test_candlestick.Po\n",
            "gcc -DHAVE_CONFIG_H -I. -I../../../include  -I../../ta_func -I../../ta_common/trio -I../../ta_common/mt -I../../ta_common -I../../ta_abstract   -g -O2 -MT ta_regtest-test_per_ema.o -MD -MP -MF .deps/ta_regtest-test_per_ema.Tpo -c -o ta_regtest-test_per_ema.o `test -f 'ta_test_func/test_per_ema.c' || echo './'`ta_test_func/test_per_ema.c\n",
            "mv -f .deps/ta_regtest-test_per_ema.Tpo .deps/ta_regtest-test_per_ema.Po\n",
            "gcc -DHAVE_CONFIG_H -I. -I../../../include  -I../../ta_func -I../../ta_common/trio -I../../ta_common/mt -I../../ta_common -I../../ta_abstract   -g -O2 -MT ta_regtest-test_per_hlc.o -MD -MP -MF .deps/ta_regtest-test_per_hlc.Tpo -c -o ta_regtest-test_per_hlc.o `test -f 'ta_test_func/test_per_hlc.c' || echo './'`ta_test_func/test_per_hlc.c\n",
            "mv -f .deps/ta_regtest-test_per_hlc.Tpo .deps/ta_regtest-test_per_hlc.Po\n",
            "gcc -DHAVE_CONFIG_H -I. -I../../../include  -I../../ta_func -I../../ta_common/trio -I../../ta_common/mt -I../../ta_common -I../../ta_abstract   -g -O2 -MT ta_regtest-test_stoch.o -MD -MP -MF .deps/ta_regtest-test_stoch.Tpo -c -o ta_regtest-test_stoch.o `test -f 'ta_test_func/test_stoch.c' || echo './'`ta_test_func/test_stoch.c\n",
            "mv -f .deps/ta_regtest-test_stoch.Tpo .deps/ta_regtest-test_stoch.Po\n",
            "gcc -DHAVE_CONFIG_H -I. -I../../../include  -I../../ta_func -I../../ta_common/trio -I../../ta_common/mt -I../../ta_common -I../../ta_abstract   -g -O2 -MT ta_regtest-test_macd.o -MD -MP -MF .deps/ta_regtest-test_macd.Tpo -c -o ta_regtest-test_macd.o `test -f 'ta_test_func/test_macd.c' || echo './'`ta_test_func/test_macd.c\n",
            "mv -f .deps/ta_regtest-test_macd.Tpo .deps/ta_regtest-test_macd.Po\n",
            "gcc -DHAVE_CONFIG_H -I. -I../../../include  -I../../ta_func -I../../ta_common/trio -I../../ta_common/mt -I../../ta_common -I../../ta_abstract   -g -O2 -MT ta_regtest-test_minmax.o -MD -MP -MF .deps/ta_regtest-test_minmax.Tpo -c -o ta_regtest-test_minmax.o `test -f 'ta_test_func/test_minmax.c' || echo './'`ta_test_func/test_minmax.c\n",
            "mv -f .deps/ta_regtest-test_minmax.Tpo .deps/ta_regtest-test_minmax.Po\n",
            "gcc -DHAVE_CONFIG_H -I. -I../../../include  -I../../ta_func -I../../ta_common/trio -I../../ta_common/mt -I../../ta_common -I../../ta_abstract   -g -O2 -MT ta_regtest-test_per_hlcv.o -MD -MP -MF .deps/ta_regtest-test_per_hlcv.Tpo -c -o ta_regtest-test_per_hlcv.o `test -f 'ta_test_func/test_per_hlcv.c' || echo './'`ta_test_func/test_per_hlcv.c\n",
            "mv -f .deps/ta_regtest-test_per_hlcv.Tpo .deps/ta_regtest-test_per_hlcv.Po\n",
            "gcc -DHAVE_CONFIG_H -I. -I../../../include  -I../../ta_func -I../../ta_common/trio -I../../ta_common/mt -I../../ta_common -I../../ta_abstract   -g -O2 -MT ta_regtest-test_1in_1out.o -MD -MP -MF .deps/ta_regtest-test_1in_1out.Tpo -c -o ta_regtest-test_1in_1out.o `test -f 'ta_test_func/test_1in_1out.c' || echo './'`ta_test_func/test_1in_1out.c\n",
            "mv -f .deps/ta_regtest-test_1in_1out.Tpo .deps/ta_regtest-test_1in_1out.Po\n",
            "gcc -DHAVE_CONFIG_H -I. -I../../../include  -I../../ta_func -I../../ta_common/trio -I../../ta_common/mt -I../../ta_common -I../../ta_abstract   -g -O2 -MT ta_regtest-test_1in_2out.o -MD -MP -MF .deps/ta_regtest-test_1in_2out.Tpo -c -o ta_regtest-test_1in_2out.o `test -f 'ta_test_func/test_1in_2out.c' || echo './'`ta_test_func/test_1in_2out.c\n",
            "mv -f .deps/ta_regtest-test_1in_2out.Tpo .deps/ta_regtest-test_1in_2out.Po\n",
            "gcc -DHAVE_CONFIG_H -I. -I../../../include  -I../../ta_func -I../../ta_common/trio -I../../ta_common/mt -I../../ta_common -I../../ta_abstract   -g -O2 -MT ta_regtest-test_per_ohlc.o -MD -MP -MF .deps/ta_regtest-test_per_ohlc.Tpo -c -o ta_regtest-test_per_ohlc.o `test -f 'ta_test_func/test_per_ohlc.c' || echo './'`ta_test_func/test_per_ohlc.c\n",
            "mv -f .deps/ta_regtest-test_per_ohlc.Tpo .deps/ta_regtest-test_per_ohlc.Po\n",
            "gcc -DHAVE_CONFIG_H -I. -I../../../include  -I../../ta_func -I../../ta_common/trio -I../../ta_common/mt -I../../ta_common -I../../ta_abstract   -g -O2 -MT ta_regtest-test_stddev.o -MD -MP -MF .deps/ta_regtest-test_stddev.Tpo -c -o ta_regtest-test_stddev.o `test -f 'ta_test_func/test_stddev.c' || echo './'`ta_test_func/test_stddev.c\n",
            "mv -f .deps/ta_regtest-test_stddev.Tpo .deps/ta_regtest-test_stddev.Po\n",
            "gcc -DHAVE_CONFIG_H -I. -I../../../include  -I../../ta_func -I../../ta_common/trio -I../../ta_common/mt -I../../ta_common -I../../ta_abstract   -g -O2 -MT ta_regtest-test_bbands.o -MD -MP -MF .deps/ta_regtest-test_bbands.Tpo -c -o ta_regtest-test_bbands.o `test -f 'ta_test_func/test_bbands.c' || echo './'`ta_test_func/test_bbands.c\n",
            "mv -f .deps/ta_regtest-test_bbands.Tpo .deps/ta_regtest-test_bbands.Po\n",
            "gcc -DHAVE_CONFIG_H -I. -I../../../include  -I../../ta_func -I../../ta_common/trio -I../../ta_common/mt -I../../ta_common -I../../ta_abstract   -g -O2 -MT ta_regtest-test_ma.o -MD -MP -MF .deps/ta_regtest-test_ma.Tpo -c -o ta_regtest-test_ma.o `test -f 'ta_test_func/test_ma.c' || echo './'`ta_test_func/test_ma.c\n",
            "mv -f .deps/ta_regtest-test_ma.Tpo .deps/ta_regtest-test_ma.Po\n",
            "gcc -DHAVE_CONFIG_H -I. -I../../../include  -I../../ta_func -I../../ta_common/trio -I../../ta_common/mt -I../../ta_common -I../../ta_abstract   -g -O2 -MT ta_regtest-test_po.o -MD -MP -MF .deps/ta_regtest-test_po.Tpo -c -o ta_regtest-test_po.o `test -f 'ta_test_func/test_po.c' || echo './'`ta_test_func/test_po.c\n",
            "mv -f .deps/ta_regtest-test_po.Tpo .deps/ta_regtest-test_po.Po\n",
            "gcc -DHAVE_CONFIG_H -I. -I../../../include  -I../../ta_func -I../../ta_common/trio -I../../ta_common/mt -I../../ta_common -I../../ta_abstract   -g -O2 -MT ta_regtest-test_per_hl.o -MD -MP -MF .deps/ta_regtest-test_per_hl.Tpo -c -o ta_regtest-test_per_hl.o `test -f 'ta_test_func/test_per_hl.c' || echo './'`ta_test_func/test_per_hl.c\n",
            "mv -f .deps/ta_regtest-test_per_hl.Tpo .deps/ta_regtest-test_per_hl.Po\n",
            "gcc -DHAVE_CONFIG_H -I. -I../../../include  -I../../ta_func -I../../ta_common/trio -I../../ta_common/mt -I../../ta_common -I../../ta_abstract   -g -O2 -MT ta_regtest-test_trange.o -MD -MP -MF .deps/ta_regtest-test_trange.Tpo -c -o ta_regtest-test_trange.o `test -f 'ta_test_func/test_trange.c' || echo './'`ta_test_func/test_trange.c\n",
            "mv -f .deps/ta_regtest-test_trange.Tpo .deps/ta_regtest-test_trange.Po\n",
            "gcc -DHAVE_CONFIG_H -I. -I../../../include  -I../../ta_func -I../../ta_common/trio -I../../ta_common/mt -I../../ta_common -I../../ta_abstract   -g -O2 -MT ta_regtest-test_internals.o -MD -MP -MF .deps/ta_regtest-test_internals.Tpo -c -o ta_regtest-test_internals.o `test -f 'test_internals.c' || echo './'`test_internals.c\n",
            "mv -f .deps/ta_regtest-test_internals.Tpo .deps/ta_regtest-test_internals.Po\n",
            "/bin/bash ../../../libtool --tag=CC   --mode=link gcc  -g -O2 -L../.. -lta_lib -lm  -o ta_regtest ta_regtest-ta_regtest.o ta_regtest-test_data.o ta_regtest-test_util.o ta_regtest-test_abstract.o ta_regtest-test_adx.o ta_regtest-test_mom.o ta_regtest-test_sar.o ta_regtest-test_rsi.o ta_regtest-test_candlestick.o ta_regtest-test_per_ema.o ta_regtest-test_per_hlc.o ta_regtest-test_stoch.o ta_regtest-test_macd.o ta_regtest-test_minmax.o ta_regtest-test_per_hlcv.o ta_regtest-test_1in_1out.o ta_regtest-test_1in_2out.o ta_regtest-test_per_ohlc.o ta_regtest-test_stddev.o ta_regtest-test_bbands.o ta_regtest-test_ma.o ta_regtest-test_po.o ta_regtest-test_per_hl.o ta_regtest-test_trange.o ta_regtest-test_internals.o  -lpthread -ldl \n",
            "mkdir .libs\n",
            "gcc -g -O2 -o .libs/ta_regtest ta_regtest-ta_regtest.o ta_regtest-test_data.o ta_regtest-test_util.o ta_regtest-test_abstract.o ta_regtest-test_adx.o ta_regtest-test_mom.o ta_regtest-test_sar.o ta_regtest-test_rsi.o ta_regtest-test_candlestick.o ta_regtest-test_per_ema.o ta_regtest-test_per_hlc.o ta_regtest-test_stoch.o ta_regtest-test_macd.o ta_regtest-test_minmax.o ta_regtest-test_per_hlcv.o ta_regtest-test_1in_1out.o ta_regtest-test_1in_2out.o ta_regtest-test_per_ohlc.o ta_regtest-test_stddev.o ta_regtest-test_bbands.o ta_regtest-test_ma.o ta_regtest-test_po.o ta_regtest-test_per_hl.o ta_regtest-test_trange.o ta_regtest-test_internals.o  -L/content/ta-lib/src /content/ta-lib/src/.libs/libta_lib.so -lm -lpthread -ldl\n",
            "creating ta_regtest\n",
            "make[2]: Leaving directory '/content/ta-lib/src/tools/ta_regtest'\n",
            "make[2]: Entering directory '/content/ta-lib/src/tools'\n",
            "make[2]: Nothing to be done for 'all-am'.\n",
            "make[2]: Leaving directory '/content/ta-lib/src/tools'\n",
            "make[1]: Leaving directory '/content/ta-lib/src/tools'\n",
            "make[1]: Entering directory '/content/ta-lib'\n",
            "make[1]: Nothing to be done for 'all-am'.\n",
            "make[1]: Leaving directory '/content/ta-lib'\n",
            "Making install in src\n",
            "make[1]: Entering directory '/content/ta-lib/src'\n",
            "Making install in ta_abstract\n",
            "make[2]: Entering directory '/content/ta-lib/src/ta_abstract'\n",
            "make[3]: Entering directory '/content/ta-lib/src/ta_abstract'\n",
            "make[3]: Nothing to be done for 'install-exec-am'.\n",
            "test -z \"/usr/include/ta-lib/\" || /usr/bin/mkdir -p \"/usr/include/ta-lib/\"\n",
            " /usr/bin/install -c -m 644 '../../include/ta_defs.h' '/usr/include/ta-lib//ta_defs.h'\n",
            " /usr/bin/install -c -m 644 '../../include/ta_libc.h' '/usr/include/ta-lib//ta_libc.h'\n",
            " /usr/bin/install -c -m 644 '../../include/ta_abstract.h' '/usr/include/ta-lib//ta_abstract.h'\n",
            "make[3]: Leaving directory '/content/ta-lib/src/ta_abstract'\n",
            "make[2]: Leaving directory '/content/ta-lib/src/ta_abstract'\n",
            "Making install in ta_common\n",
            "make[2]: Entering directory '/content/ta-lib/src/ta_common'\n",
            "make[3]: Entering directory '/content/ta-lib/src/ta_common'\n",
            "make[3]: Nothing to be done for 'install-exec-am'.\n",
            "test -z \"/usr/include/ta-lib/\" || /usr/bin/mkdir -p \"/usr/include/ta-lib/\"\n",
            " /usr/bin/install -c -m 644 '../../include/ta_defs.h' '/usr/include/ta-lib//ta_defs.h'\n",
            " /usr/bin/install -c -m 644 '../../include/ta_libc.h' '/usr/include/ta-lib//ta_libc.h'\n",
            " /usr/bin/install -c -m 644 '../../include/ta_common.h' '/usr/include/ta-lib//ta_common.h'\n",
            "make[3]: Leaving directory '/content/ta-lib/src/ta_common'\n",
            "make[2]: Leaving directory '/content/ta-lib/src/ta_common'\n",
            "Making install in ta_func\n",
            "make[2]: Entering directory '/content/ta-lib/src/ta_func'\n",
            "make[3]: Entering directory '/content/ta-lib/src/ta_func'\n",
            "make[3]: Nothing to be done for 'install-exec-am'.\n",
            "test -z \"/usr/include/ta-lib/\" || /usr/bin/mkdir -p \"/usr/include/ta-lib/\"\n",
            " /usr/bin/install -c -m 644 '../../include/ta_defs.h' '/usr/include/ta-lib//ta_defs.h'\n",
            " /usr/bin/install -c -m 644 '../../include/ta_libc.h' '/usr/include/ta-lib//ta_libc.h'\n",
            " /usr/bin/install -c -m 644 '../../include/ta_func.h' '/usr/include/ta-lib//ta_func.h'\n",
            "make[3]: Leaving directory '/content/ta-lib/src/ta_func'\n",
            "make[2]: Leaving directory '/content/ta-lib/src/ta_func'\n",
            "make[2]: Entering directory '/content/ta-lib/src'\n",
            "make[3]: Entering directory '/content/ta-lib/src'\n",
            "test -z \"/usr/lib\" || /usr/bin/mkdir -p \"/usr/lib\"\n",
            " /bin/bash ../libtool --mode=install /usr/bin/install -c  'libta_lib.la' '/usr/lib/libta_lib.la'\n",
            "/usr/bin/install -c .libs/libta_lib.so.0.0.0 /usr/lib/libta_lib.so.0.0.0\n",
            "(cd /usr/lib && { ln -s -f libta_lib.so.0.0.0 libta_lib.so.0 || { rm -f libta_lib.so.0 && ln -s libta_lib.so.0.0.0 libta_lib.so.0; }; })\n",
            "(cd /usr/lib && { ln -s -f libta_lib.so.0.0.0 libta_lib.so || { rm -f libta_lib.so && ln -s libta_lib.so.0.0.0 libta_lib.so; }; })\n",
            "/usr/bin/install -c .libs/libta_lib.lai /usr/lib/libta_lib.la\n",
            "/usr/bin/install -c .libs/libta_lib.a /usr/lib/libta_lib.a\n",
            "chmod 644 /usr/lib/libta_lib.a\n",
            "ranlib /usr/lib/libta_lib.a\n",
            "PATH=\"$PATH:/sbin\" ldconfig -n /usr/lib\n",
            "----------------------------------------------------------------------\n",
            "Libraries have been installed in:\n",
            "   /usr/lib\n",
            "\n",
            "If you ever happen to want to link against installed libraries\n",
            "in a given directory, LIBDIR, you must either use libtool, and\n",
            "specify the full pathname of the library, or use the `-LLIBDIR'\n",
            "flag during linking and do at least one of the following:\n",
            "   - add LIBDIR to the `LD_LIBRARY_PATH' environment variable\n",
            "     during execution\n",
            "   - add LIBDIR to the `LD_RUN_PATH' environment variable\n",
            "     during linking\n",
            "   - use the `-Wl,--rpath -Wl,LIBDIR' linker flag\n",
            "   - have your system administrator add LIBDIR to `/etc/ld.so.conf'\n",
            "\n",
            "See any operating system documentation about shared libraries for\n",
            "more information, such as the ld(1) and ld.so(8) manual pages.\n",
            "----------------------------------------------------------------------\n",
            "make[3]: Nothing to be done for 'install-data-am'.\n",
            "make[3]: Leaving directory '/content/ta-lib/src'\n",
            "make[2]: Leaving directory '/content/ta-lib/src'\n",
            "make[1]: Leaving directory '/content/ta-lib/src'\n",
            "Making install in src/tools\n",
            "make[1]: Entering directory '/content/ta-lib/src/tools'\n",
            "Making install in gen_code\n",
            "make[2]: Entering directory '/content/ta-lib/src/tools/gen_code'\n",
            "make  gen_code\n",
            "make[3]: Entering directory '/content/ta-lib/src/tools/gen_code'\n",
            "make[3]: 'gen_code' is up to date.\n",
            "make[3]: Leaving directory '/content/ta-lib/src/tools/gen_code'\n",
            "cp gen_code ../../../bin\n",
            "make[3]: Entering directory '/content/ta-lib/src/tools/gen_code'\n",
            "make[3]: Nothing to be done for 'install-exec-am'.\n",
            "make[3]: Nothing to be done for 'install-data-am'.\n",
            "make[3]: Leaving directory '/content/ta-lib/src/tools/gen_code'\n",
            "make[2]: Leaving directory '/content/ta-lib/src/tools/gen_code'\n",
            "Making install in ta_regtest\n",
            "make[2]: Entering directory '/content/ta-lib/src/tools/ta_regtest'\n",
            "make[3]: Entering directory '/content/ta-lib/src/tools/ta_regtest'\n",
            "make[3]: Nothing to be done for 'install-exec-am'.\n",
            "make[3]: Nothing to be done for 'install-data-am'.\n",
            "make[3]: Leaving directory '/content/ta-lib/src/tools/ta_regtest'\n",
            "make[2]: Leaving directory '/content/ta-lib/src/tools/ta_regtest'\n",
            "make[2]: Entering directory '/content/ta-lib/src/tools'\n",
            "make[3]: Entering directory '/content/ta-lib/src/tools'\n",
            "make[3]: Nothing to be done for 'install-exec-am'.\n",
            "make[3]: Nothing to be done for 'install-data-am'.\n",
            "make[3]: Leaving directory '/content/ta-lib/src/tools'\n",
            "make[2]: Leaving directory '/content/ta-lib/src/tools'\n",
            "make[1]: Leaving directory '/content/ta-lib/src/tools'\n",
            "make[1]: Entering directory '/content/ta-lib'\n",
            "make[2]: Entering directory '/content/ta-lib'\n",
            "test -z \"/usr/bin\" || /usr/bin/mkdir -p \"/usr/bin\"\n",
            " /usr/bin/install -c 'ta-lib-config' '/usr/bin/ta-lib-config'\n",
            "make[2]: Nothing to be done for 'install-data-am'.\n",
            "make[2]: Leaving directory '/content/ta-lib'\n",
            "make[1]: Leaving directory '/content/ta-lib'\n",
            "/content\n",
            "Collecting TA-Lib\n",
            "  Downloading TA-Lib-0.4.30.tar.gz (368 kB)\n",
            "\u001b[2K     \u001b[90m━━━━━━━━━━━━━━━━━━━━━━━━━━━━━━━━━━━━━━━━\u001b[0m \u001b[32m368.3/368.3 kB\u001b[0m \u001b[31m6.9 MB/s\u001b[0m eta \u001b[36m0:00:00\u001b[0m\n",
            "\u001b[?25h  Installing build dependencies ... \u001b[?25l\u001b[?25hdone\n",
            "  Getting requirements to build wheel ... \u001b[?25l\u001b[?25hdone\n",
            "  Installing backend dependencies ... \u001b[?25l\u001b[?25hdone\n",
            "  Preparing metadata (pyproject.toml) ... \u001b[?25l\u001b[?25hdone\n",
            "Requirement already satisfied: numpy in /usr/local/lib/python3.10/dist-packages (from TA-Lib) (1.25.2)\n",
            "Building wheels for collected packages: TA-Lib\n",
            "  Building wheel for TA-Lib (pyproject.toml) ... \u001b[?25l\u001b[?25hdone\n",
            "  Created wheel for TA-Lib: filename=TA_Lib-0.4.30-cp310-cp310-linux_x86_64.whl size=2063133 sha256=fefeedf64b8e4d0547350141808758ab738645133683e0cbe08efe57bfa3798f\n",
            "  Stored in directory: /root/.cache/pip/wheels/fb/be/b2/1d489cafd96c977a271a9615e65dd2bda65e87af73f9a3238f\n",
            "Successfully built TA-Lib\n",
            "Installing collected packages: TA-Lib\n",
            "Successfully installed TA-Lib-0.4.30\n"
          ]
        }
      ]
    },
    {
      "cell_type": "code",
      "source": [
        "!git clone https://github.com/GaneshJainarain/Candlestick-Pattern-Recognition-with-Python-and-TA-Lib.git"
      ],
      "metadata": {
        "id": "22ARxE5R7vEs",
        "outputId": "33e0c3ef-f22f-4892-f4f3-b53861c1c98f",
        "colab": {
          "base_uri": "https://localhost:8080/"
        }
      },
      "execution_count": 4,
      "outputs": [
        {
          "output_type": "stream",
          "name": "stdout",
          "text": [
            "Cloning into 'Candlestick-Pattern-Recognition-with-Python-and-TA-Lib'...\n",
            "remote: Enumerating objects: 7861, done.\u001b[K\n",
            "remote: Counting objects: 100% (2011/2011), done.\u001b[K\n",
            "remote: Compressing objects: 100% (1341/1341), done.\u001b[K\n",
            "remote: Total 7861 (delta 624), reused 2011 (delta 624), pack-reused 5850\u001b[K\n",
            "Receiving objects: 100% (7861/7861), 47.10 MiB | 15.45 MiB/s, done.\n",
            "Resolving deltas: 100% (1270/1270), done.\n",
            "Updating files: 100% (6632/6632), done.\n"
          ]
        }
      ]
    },
    {
      "cell_type": "code",
      "source": [
        "%cd Candlestick-Pattern-Recognition-with-Python-and-TA-Lib"
      ],
      "metadata": {
        "id": "qP-5Q90C78H-",
        "outputId": "c6ebc815-c1e6-4ddb-af5d-fb9a37df54cc",
        "colab": {
          "base_uri": "https://localhost:8080/"
        }
      },
      "execution_count": 5,
      "outputs": [
        {
          "output_type": "stream",
          "name": "stdout",
          "text": [
            "/content/Candlestick-Pattern-Recognition-with-Python-and-TA-Lib\n"
          ]
        }
      ]
    },
    {
      "cell_type": "code",
      "source": [
        "ls"
      ],
      "metadata": {
        "id": "wwU0QcF58RU6",
        "outputId": "eb67f266-e6a9-4ee3-fd97-cc2cdc6503f1",
        "colab": {
          "base_uri": "https://localhost:8080/"
        }
      },
      "execution_count": 6,
      "outputs": [
        {
          "output_type": "stream",
          "name": "stdout",
          "text": [
            "app.py  \u001b[0m\u001b[01;34mdatasets\u001b[0m/     \u001b[01;34mlib\u001b[0m/      pattern_detect.py  pip-selfcheck.json  pyvenv.cfg  requirements.txt\n",
            "\u001b[01;34mbin\u001b[0m/    \u001b[01;34mEx_Patterns\u001b[0m/  \u001b[01;34mOutputs\u001b[0m/  patterns.py        \u001b[01;34m__pycache__\u001b[0m/        README.md   \u001b[01;34mTemplates\u001b[0m/\n"
          ]
        }
      ]
    },
    {
      "cell_type": "code",
      "source": [
        "!pip install -r requirements.txt"
      ],
      "metadata": {
        "id": "hfXyNex6AmPR",
        "outputId": "903a7722-010a-4b5b-ba93-745f24043530",
        "colab": {
          "base_uri": "https://localhost:8080/"
        }
      },
      "execution_count": 7,
      "outputs": [
        {
          "output_type": "stream",
          "name": "stdout",
          "text": [
            "Requirement already satisfied: TA-Lib in /usr/local/lib/python3.10/dist-packages (from -r requirements.txt (line 1)) (0.4.30)\n",
            "Requirement already satisfied: flask in /usr/local/lib/python3.10/dist-packages (from -r requirements.txt (line 2)) (2.2.5)\n",
            "Requirement already satisfied: pandas in /usr/local/lib/python3.10/dist-packages (from -r requirements.txt (line 3)) (2.0.3)\n",
            "Requirement already satisfied: yfinance in /usr/local/lib/python3.10/dist-packages (from -r requirements.txt (line 4)) (0.2.40)\n",
            "Requirement already satisfied: numpy in /usr/local/lib/python3.10/dist-packages (from TA-Lib->-r requirements.txt (line 1)) (1.25.2)\n",
            "Requirement already satisfied: Werkzeug>=2.2.2 in /usr/local/lib/python3.10/dist-packages (from flask->-r requirements.txt (line 2)) (3.0.3)\n",
            "Requirement already satisfied: Jinja2>=3.0 in /usr/local/lib/python3.10/dist-packages (from flask->-r requirements.txt (line 2)) (3.1.4)\n",
            "Requirement already satisfied: itsdangerous>=2.0 in /usr/local/lib/python3.10/dist-packages (from flask->-r requirements.txt (line 2)) (2.2.0)\n",
            "Requirement already satisfied: click>=8.0 in /usr/local/lib/python3.10/dist-packages (from flask->-r requirements.txt (line 2)) (8.1.7)\n",
            "Requirement already satisfied: python-dateutil>=2.8.2 in /usr/local/lib/python3.10/dist-packages (from pandas->-r requirements.txt (line 3)) (2.8.2)\n",
            "Requirement already satisfied: pytz>=2020.1 in /usr/local/lib/python3.10/dist-packages (from pandas->-r requirements.txt (line 3)) (2023.4)\n",
            "Requirement already satisfied: tzdata>=2022.1 in /usr/local/lib/python3.10/dist-packages (from pandas->-r requirements.txt (line 3)) (2024.1)\n",
            "Requirement already satisfied: requests>=2.31 in /usr/local/lib/python3.10/dist-packages (from yfinance->-r requirements.txt (line 4)) (2.31.0)\n",
            "Requirement already satisfied: multitasking>=0.0.7 in /usr/local/lib/python3.10/dist-packages (from yfinance->-r requirements.txt (line 4)) (0.0.11)\n",
            "Requirement already satisfied: lxml>=4.9.1 in /usr/local/lib/python3.10/dist-packages (from yfinance->-r requirements.txt (line 4)) (4.9.4)\n",
            "Requirement already satisfied: platformdirs>=2.0.0 in /usr/local/lib/python3.10/dist-packages (from yfinance->-r requirements.txt (line 4)) (4.2.2)\n",
            "Requirement already satisfied: frozendict>=2.3.4 in /usr/local/lib/python3.10/dist-packages (from yfinance->-r requirements.txt (line 4)) (2.4.4)\n",
            "Requirement already satisfied: peewee>=3.16.2 in /usr/local/lib/python3.10/dist-packages (from yfinance->-r requirements.txt (line 4)) (3.17.5)\n",
            "Requirement already satisfied: beautifulsoup4>=4.11.1 in /usr/local/lib/python3.10/dist-packages (from yfinance->-r requirements.txt (line 4)) (4.12.3)\n",
            "Requirement already satisfied: html5lib>=1.1 in /usr/local/lib/python3.10/dist-packages (from yfinance->-r requirements.txt (line 4)) (1.1)\n",
            "Requirement already satisfied: soupsieve>1.2 in /usr/local/lib/python3.10/dist-packages (from beautifulsoup4>=4.11.1->yfinance->-r requirements.txt (line 4)) (2.5)\n",
            "Requirement already satisfied: six>=1.9 in /usr/local/lib/python3.10/dist-packages (from html5lib>=1.1->yfinance->-r requirements.txt (line 4)) (1.16.0)\n",
            "Requirement already satisfied: webencodings in /usr/local/lib/python3.10/dist-packages (from html5lib>=1.1->yfinance->-r requirements.txt (line 4)) (0.5.1)\n",
            "Requirement already satisfied: MarkupSafe>=2.0 in /usr/local/lib/python3.10/dist-packages (from Jinja2>=3.0->flask->-r requirements.txt (line 2)) (2.1.5)\n",
            "Requirement already satisfied: charset-normalizer<4,>=2 in /usr/local/lib/python3.10/dist-packages (from requests>=2.31->yfinance->-r requirements.txt (line 4)) (3.3.2)\n",
            "Requirement already satisfied: idna<4,>=2.5 in /usr/local/lib/python3.10/dist-packages (from requests>=2.31->yfinance->-r requirements.txt (line 4)) (3.7)\n",
            "Requirement already satisfied: urllib3<3,>=1.21.1 in /usr/local/lib/python3.10/dist-packages (from requests>=2.31->yfinance->-r requirements.txt (line 4)) (2.0.7)\n",
            "Requirement already satisfied: certifi>=2017.4.17 in /usr/local/lib/python3.10/dist-packages (from requests>=2.31->yfinance->-r requirements.txt (line 4)) (2024.2.2)\n"
          ]
        }
      ]
    },
    {
      "cell_type": "code",
      "source": [
        "!pip install flask flask-ngrok"
      ],
      "metadata": {
        "id": "_hZliiU0HfTI",
        "outputId": "360a7175-54b9-4fed-cbed-390f8c71de9a",
        "colab": {
          "base_uri": "https://localhost:8080/"
        }
      },
      "execution_count": 20,
      "outputs": [
        {
          "output_type": "stream",
          "name": "stdout",
          "text": [
            "Requirement already satisfied: flask in /usr/local/lib/python3.10/dist-packages (2.2.5)\n",
            "Requirement already satisfied: flask-ngrok in /usr/local/lib/python3.10/dist-packages (0.0.25)\n",
            "Requirement already satisfied: Werkzeug>=2.2.2 in /usr/local/lib/python3.10/dist-packages (from flask) (3.0.3)\n",
            "Requirement already satisfied: Jinja2>=3.0 in /usr/local/lib/python3.10/dist-packages (from flask) (3.1.4)\n",
            "Requirement already satisfied: itsdangerous>=2.0 in /usr/local/lib/python3.10/dist-packages (from flask) (2.2.0)\n",
            "Requirement already satisfied: click>=8.0 in /usr/local/lib/python3.10/dist-packages (from flask) (8.1.7)\n",
            "Requirement already satisfied: requests in /usr/local/lib/python3.10/dist-packages (from flask-ngrok) (2.31.0)\n",
            "Requirement already satisfied: MarkupSafe>=2.0 in /usr/local/lib/python3.10/dist-packages (from Jinja2>=3.0->flask) (2.1.5)\n",
            "Requirement already satisfied: charset-normalizer<4,>=2 in /usr/local/lib/python3.10/dist-packages (from requests->flask-ngrok) (3.3.2)\n",
            "Requirement already satisfied: idna<4,>=2.5 in /usr/local/lib/python3.10/dist-packages (from requests->flask-ngrok) (3.7)\n",
            "Requirement already satisfied: urllib3<3,>=1.21.1 in /usr/local/lib/python3.10/dist-packages (from requests->flask-ngrok) (2.0.7)\n",
            "Requirement already satisfied: certifi>=2017.4.17 in /usr/local/lib/python3.10/dist-packages (from requests->flask-ngrok) (2024.2.2)\n"
          ]
        }
      ]
    },
    {
      "cell_type": "code",
      "source": [
        "!curl -s https://ngrok-agent.s3.amazonaws.com/ngrok.asc \\\n",
        "\t| sudo tee /etc/apt/trusted.gpg.d/ngrok.asc >/dev/null \\\n",
        "\t&& echo \"deb https://ngrok-agent.s3.amazonaws.com buster main\" \\\n",
        "\t| sudo tee /etc/apt/sources.list.d/ngrok.list \\\n",
        "\t&& sudo apt update \\\n",
        "\t&& sudo apt install ngrok"
      ],
      "metadata": {
        "id": "ALx9TJnTK1bi",
        "outputId": "36d76d5f-debf-4bb5-ec87-3deef14a98ac",
        "colab": {
          "base_uri": "https://localhost:8080/"
        }
      },
      "execution_count": 23,
      "outputs": [
        {
          "output_type": "stream",
          "name": "stdout",
          "text": [
            "deb https://ngrok-agent.s3.amazonaws.com buster main\n",
            "Get:1 http://security.ubuntu.com/ubuntu jammy-security InRelease [129 kB]\n",
            "Get:2 https://cloud.r-project.org/bin/linux/ubuntu jammy-cran40/ InRelease [3,626 B]\n",
            "Hit:3 https://developer.download.nvidia.com/compute/cuda/repos/ubuntu2204/x86_64  InRelease\n",
            "Hit:4 http://archive.ubuntu.com/ubuntu jammy InRelease\n",
            "Get:5 http://archive.ubuntu.com/ubuntu jammy-updates InRelease [128 kB]\n",
            "Get:6 https://ngrok-agent.s3.amazonaws.com buster InRelease [20.3 kB]\n",
            "Get:7 http://security.ubuntu.com/ubuntu jammy-security/main amd64 Packages [1,858 kB]\n",
            "Hit:8 https://ppa.launchpadcontent.net/c2d4u.team/c2d4u4.0+/ubuntu jammy InRelease\n",
            "Hit:9 https://ppa.launchpadcontent.net/deadsnakes/ppa/ubuntu jammy InRelease\n",
            "Get:10 http://security.ubuntu.com/ubuntu jammy-security/universe amd64 Packages [1,084 kB]\n",
            "Get:11 http://archive.ubuntu.com/ubuntu jammy-backports InRelease [127 kB]\n",
            "Get:12 https://ppa.launchpadcontent.net/graphics-drivers/ppa/ubuntu jammy InRelease [24.3 kB]\n",
            "Hit:13 https://ppa.launchpadcontent.net/ubuntugis/ppa/ubuntu jammy InRelease\n",
            "Get:14 https://ngrok-agent.s3.amazonaws.com buster/main amd64 Packages [4,389 B]\n",
            "Get:15 http://archive.ubuntu.com/ubuntu jammy-updates/universe amd64 Packages [1,377 kB]\n",
            "Get:16 http://archive.ubuntu.com/ubuntu jammy-updates/main amd64 Packages [2,129 kB]\n",
            "Get:17 https://ppa.launchpadcontent.net/graphics-drivers/ppa/ubuntu jammy/main amd64 Packages [47.6 kB]\n",
            "Fetched 6,932 kB in 2s (3,407 kB/s)\n",
            "Reading package lists... Done\n",
            "Building dependency tree... Done\n",
            "Reading state information... Done\n",
            "51 packages can be upgraded. Run 'apt list --upgradable' to see them.\n",
            "Reading package lists... Done\n",
            "Building dependency tree... Done\n",
            "Reading state information... Done\n",
            "The following NEW packages will be installed:\n",
            "  ngrok\n",
            "0 upgraded, 1 newly installed, 0 to remove and 51 not upgraded.\n",
            "Need to get 6,500 kB of archives.\n",
            "After this operation, 0 B of additional disk space will be used.\n",
            "Get:1 https://ngrok-agent.s3.amazonaws.com buster/main amd64 ngrok amd64 3.10.0 [6,500 kB]\n",
            "Fetched 6,500 kB in 1s (6,573 kB/s)\n",
            "debconf: unable to initialize frontend: Dialog\n",
            "debconf: (No usable dialog-like program is installed, so the dialog based frontend cannot be used. at /usr/share/perl5/Debconf/FrontEnd/Dialog.pm line 78, <> line 1.)\n",
            "debconf: falling back to frontend: Readline\n",
            "debconf: unable to initialize frontend: Readline\n",
            "debconf: (This frontend requires a controlling tty.)\n",
            "debconf: falling back to frontend: Teletype\n",
            "dpkg-preconfigure: unable to re-open stdin: \n",
            "Selecting previously unselected package ngrok.\n",
            "(Reading database ... 122093 files and directories currently installed.)\n",
            "Preparing to unpack .../ngrok_3.10.0_amd64.deb ...\n",
            "Unpacking ngrok (3.10.0) ...\n",
            "Setting up ngrok (3.10.0) ...\n"
          ]
        }
      ]
    },
    {
      "cell_type": "code",
      "source": [
        "!ngrok config add-authtoken 2hHVUleZfyTiNNO33DgWpgzNKJY_m9ffyiRPxRNw1XYQjezj"
      ],
      "metadata": {
        "id": "IA4TJFwXK7tZ",
        "outputId": "cc1b6c2e-d794-4019-ca40-50ca2c2a3a0b",
        "colab": {
          "base_uri": "https://localhost:8080/"
        }
      },
      "execution_count": 24,
      "outputs": [
        {
          "output_type": "stream",
          "name": "stdout",
          "text": [
            "Authtoken saved to configuration file: /root/.config/ngrok/ngrok.yml\n"
          ]
        }
      ]
    },
    {
      "cell_type": "code",
      "source": [
        "!pip install flask pyngrok"
      ],
      "metadata": {
        "id": "3U-EWlhFM6jR",
        "outputId": "7853c924-069e-4bed-9650-946955029818",
        "colab": {
          "base_uri": "https://localhost:8080/"
        }
      },
      "execution_count": 35,
      "outputs": [
        {
          "output_type": "stream",
          "name": "stdout",
          "text": [
            "Requirement already satisfied: flask in /usr/local/lib/python3.10/dist-packages (2.2.5)\n",
            "Requirement already satisfied: pyngrok in /usr/local/lib/python3.10/dist-packages (7.1.6)\n",
            "Requirement already satisfied: Werkzeug>=2.2.2 in /usr/local/lib/python3.10/dist-packages (from flask) (3.0.3)\n",
            "Requirement already satisfied: Jinja2>=3.0 in /usr/local/lib/python3.10/dist-packages (from flask) (3.1.4)\n",
            "Requirement already satisfied: itsdangerous>=2.0 in /usr/local/lib/python3.10/dist-packages (from flask) (2.2.0)\n",
            "Requirement already satisfied: click>=8.0 in /usr/local/lib/python3.10/dist-packages (from flask) (8.1.7)\n",
            "Requirement already satisfied: PyYAML>=5.1 in /usr/local/lib/python3.10/dist-packages (from pyngrok) (6.0.1)\n",
            "Requirement already satisfied: MarkupSafe>=2.0 in /usr/local/lib/python3.10/dist-packages (from Jinja2>=3.0->flask) (2.1.5)\n"
          ]
        }
      ]
    },
    {
      "cell_type": "code",
      "source": [
        "from pyngrok import ngrok\n",
        "\n",
        "ngrok.set_auth_token(\"2hHVUleZfyTiNNO33DgWpgzNKJY_m9ffyiRPxRNw1XYQjezj\")"
      ],
      "metadata": {
        "id": "mQFCSOcQMwby"
      },
      "execution_count": 36,
      "outputs": []
    },
    {
      "cell_type": "code",
      "source": [
        "!mv /content/Candlestick-Pattern-Recognition-with-Python-and-TA-Lib/Templates /content/Candlestick-Pattern-Recognition-with-Python-and-TA-Lib/templates"
      ],
      "metadata": {
        "id": "iqEANOdGOtbQ"
      },
      "execution_count": 38,
      "outputs": []
    },
    {
      "cell_type": "code",
      "source": [
        "import pandas as pd\n",
        "import os\n",
        "\n",
        "# List of filenames to process\n",
        "filenames = [\n",
        "    \"MMM.csv\", \"LHX.csv\", \"LH.csv\", \"LRCX.csv\", \"LW.csv\", \"LVS.csv\", \"LEG.csv\", \"LDOS.csv\", \"LEN.csv\", \"LLY.csv\",\n",
        "    \"LNC.csv\", \"LIN.csv\", \"LYV.csv\", \"LKQ.csv\", \"LMT.csv\", \"L.csv\", \"LOW.csv\", \"LYB.csv\", \"MTB.csv\", \"M.csv\",\n",
        "    \"MRO.csv\", \"MPC.csv\", \"MKTX.csv\", \"MAR.csv\", \"MMC.csv\", \"MLM.csv\", \"MAS.csv\", \"MA.csv\", \"MKC.csv\", \"MXIM.csv\",\n",
        "    \"MCD.csv\", \"MCK.csv\", \"MDT.csv\", \"MRK.csv\", \"MET.csv\", \"MTD.csv\", \"MGM.csv\", \"MCHP.csv\", \"MU.csv\", \"MSFT.csv\",\n",
        "    \"MAA.csv\", \"MHK.csv\", \"TAP.csv\", \"MDLZ.csv\", \"MNST.csv\", \"MCO.csv\", \"MS.csv\", \"MOS.csv\", \"MSI.csv\", \"MSCI.csv\",\n",
        "    \"MYL.csv\", \"NDAQ.csv\", \"NOV.csv\", \"NTAP.csv\", \"NFLX.csv\", \"NWL.csv\", \"NEM.csv\", \"NWSA.csv\", \"NWS.csv\", \"NEE.csv\",\n",
        "    \"NLSN.csv\", \"NKE.csv\", \"NI.csv\", \"NBL.csv\", \"JWN.csv\", \"NSC.csv\", \"NTRS.csv\", \"NOC.csv\", \"NLOK.csv\", \"NCLH.csv\",\n",
        "    \"NRG.csv\", \"NUE.csv\", \"NVDA.csv\", \"NVR.csv\", \"ORLY.csv\", \"OXY.csv\", \"ODFL.csv\", \"OMC.csv\", \"OKE.csv\", \"ORCL.csv\",\n",
        "    \"PCAR.csv\", \"PKG.csv\", \"PH.csv\", \"PAYX.csv\", \"PYPL.csv\", \"PNR.csv\", \"PBCT.csv\", \"PEP.csv\", \"PKI.csv\", \"PRGO.csv\",\n",
        "    \"PFE.csv\", \"PM.csv\", \"PSX.csv\", \"PNW.csv\", \"PXD.csv\", \"PNC.csv\", \"PPG.csv\", \"PPL.csv\", \"PFG.csv\", \"PG.csv\",\n",
        "    \"PGR.csv\", \"PLD.csv\", \"PRU.csv\", \"PEG.csv\", \"PSA.csv\", \"PHM.csv\", \"PVH.csv\", \"QRVO.csv\", \"PWR.csv\", \"QCOM.csv\",\n",
        "    \"DGX.csv\", \"RL.csv\", \"RJF.csv\", \"RTN.csv\", \"O.csv\", \"REG.csv\", \"REGN.csv\", \"RF.csv\", \"RSG.csv\", \"RMD.csv\",\n",
        "    \"RHI.csv\", \"ROK.csv\", \"ROL.csv\", \"ROP.csv\", \"ROST.csv\", \"RCL.csv\", \"SPGI.csv\", \"CRM.csv\", \"SBAC.csv\", \"SLB.csv\",\n",
        "    \"STX.csv\", \"SEE.csv\", \"SRE.csv\", \"NOW.csv\", \"SHW.csv\", \"SPG.csv\", \"SWKS.csv\", \"SLG.csv\", \"SNA.csv\", \"SO.csv\",\n",
        "    \"LUV.csv\", \"SWK.csv\", \"SBUX.csv\", \"STT.csv\", \"STE.csv\", \"SYK.csv\", \"SIVB.csv\", \"SYF.csv\", \"SNPS.csv\", \"SYY.csv\",\n",
        "    \"TMUS.csv\", \"TROW.csv\", \"TTWO.csv\", \"TPR.csv\", \"TGT.csv\", \"TEL.csv\", \"FTI.csv\", \"TFX.csv\", \"TXN.csv\", \"TXT.csv\",\n",
        "    \"TMO.csv\", \"TIF.csv\", \"TJX.csv\", \"TSCO.csv\", \"TDG.csv\", \"TRV.csv\", \"TFC.csv\", \"TWTR.csv\", \"TSN.csv\", \"UDR.csv\",\n",
        "    \"ULTA.csv\", \"USB.csv\", \"UAA.csv\", \"UA.csv\", \"UNP.csv\", \"UAL.csv\", \"UNH.csv\", \"UPS.csv\", \"URI.csv\", \"UTX.csv\",\n",
        "    \"UHS.csv\", \"UNM.csv\", \"VFC.csv\", \"VLO.csv\", \"VAR.csv\", \"VTR.csv\", \"VRSN.csv\", \"VRSK.csv\", \"VZ.csv\", \"VRTX.csv\",\n",
        "    \"VIAC.csv\", \"V.csv\", \"VNO.csv\", \"VMC.csv\", \"WRB.csv\", \"WAB.csv\", \"WMT.csv\", \"WBA.csv\", \"DIS.csv\", \"WM.csv\",\n",
        "    \"WAT.csv\", \"WEC.csv\", \"WCG.csv\", \"WFC.csv\", \"WELL.csv\", \"WDC.csv\", \"WU.csv\", \"WRK.csv\", \"WY.csv\", \"WHR.csv\",\n",
        "    \"WMB.csv\", \"WLTW.csv\", \"WYNN.csv\", \"XEL.csv\", \"XRX.csv\", \"XLNX.csv\", \"XYL.csv\", \"YUM.csv\", \"ZBRA.csv\", \"ZBH.csv\",\n",
        "    \"ZION.csv\", \"ZTS.csv\"\n",
        "]\n",
        "\n",
        "# Directory containing the files\n",
        "directory = \"/content/Candlestick-Pattern-Recognition-with-Python-and-TA-Lib/datasets/daily\"\n",
        "\n",
        "for filename in filenames:\n",
        "    filepath = os.path.join(directory, filename)\n",
        "    try:\n",
        "        # Check if the file exists\n",
        "        if not os.path.exists(filepath):\n",
        "            print(f\"File not found: {filepath}\")\n",
        "            continue\n",
        "\n",
        "        # Determine the delimiter based on the file extension\n",
        "        delimiter = '\\t' if filename.endswith('.tsv') else ','\n",
        "\n",
        "        # Read the file into a DataFrame\n",
        "        df = pd.read_csv(filepath, delimiter=delimiter)\n",
        "\n",
        "        # Process the DataFrame (example: print the first few rows)\n",
        "        print(f\"Processing file: {filename}\")\n",
        "        print(df.head())\n",
        "\n",
        "    except FileNotFoundError:\n",
        "        print(f\"File not found: {filepath}\")\n",
        "    except pd.errors.EmptyDataError:\n",
        "        print(f\"Empty data in file: {filepath}\")\n",
        "    except pd.errors.ParserError:\n",
        "        print(f\"Parsing error in file: {filepath}\")\n",
        "    except Exception as e:\n",
        "        print(f\"An error occurred with file {filepath}: {e}\")"
      ],
      "metadata": {
        "id": "8LHbMXgwVBzf",
        "outputId": "838bebd7-6bff-4cd7-8d50-e6f2c28163a5",
        "colab": {
          "base_uri": "https://localhost:8080/"
        }
      },
      "execution_count": 42,
      "outputs": [
        {
          "output_type": "stream",
          "name": "stdout",
          "text": [
            "Processing file: MMM.csv\n",
            "         Date        Open        High         Low       Close   Adj Close  \\\n",
            "0  2020-01-02  177.679993  180.009995  177.139999  180.000000  169.568130   \n",
            "1  2020-01-03  177.020004  178.660004  175.630005  178.449997  168.107941   \n",
            "2  2020-01-06  177.149994  178.710007  176.350006  178.619995  168.268112   \n",
            "3  2020-01-07  178.279999  178.509995  176.820007  177.899994  167.589828   \n",
            "4  2020-01-08  178.000000  181.500000  177.649994  180.630005  170.161621   \n",
            "\n",
            "    Volume  \n",
            "0  3601700  \n",
            "1  2466900  \n",
            "2  1998000  \n",
            "3  2173000  \n",
            "4  2758300  \n",
            "Processing file: LHX.csv\n",
            "         Date        Open        High         Low       Close   Adj Close  \\\n",
            "0  2020-01-02  198.429993  203.369995  198.059998  203.309998  196.860107   \n",
            "1  2020-01-03  206.169998  210.830002  206.169998  210.470001  203.792969   \n",
            "2  2020-01-06  212.220001  214.000000  209.139999  211.720001  205.003281   \n",
            "3  2020-01-07  212.020004  214.240005  211.000000  212.729996  205.981262   \n",
            "4  2020-01-08  212.750000  214.889999  210.410004  211.289993  204.586945   \n",
            "\n",
            "    Volume  \n",
            "0  1214700  \n",
            "1  2182200  \n",
            "2  1968100  \n",
            "3  1538100  \n",
            "4  1683300  \n",
            "Processing file: LH.csv\n",
            "         Date        Open        High         Low       Close   Adj Close  \\\n",
            "0  2020-01-02  169.960007  170.199997  165.320007  167.479996  167.479996   \n",
            "1  2020-01-03  164.970001  167.610001  164.169998  167.229996  167.229996   \n",
            "2  2020-01-06  167.020004  169.440002  166.639999  169.419998  169.419998   \n",
            "3  2020-01-07  168.410004  169.470001  168.279999  169.160004  169.160004   \n",
            "4  2020-01-08  170.000000  174.259995  168.940002  173.839996  173.839996   \n",
            "\n",
            "   Volume  \n",
            "0  814900  \n",
            "1  556600  \n",
            "2  579300  \n",
            "3  526600  \n",
            "4  857500  \n",
            "Processing file: LRCX.csv\n",
            "         Date        Open        High         Low       Close   Adj Close  \\\n",
            "0  2020-01-02  295.779999  299.799988  294.489990  297.890015  291.045258   \n",
            "1  2020-01-03  292.049988  296.809998  291.720001  294.690002  287.918823   \n",
            "2  2020-01-06  289.790009  292.029999  287.540009  289.190002  282.545166   \n",
            "3  2020-01-07  291.739990  298.540009  291.380005  296.239990  289.433197   \n",
            "4  2020-01-08  297.480011  301.670013  295.200012  299.970001  293.077515   \n",
            "\n",
            "    Volume  \n",
            "0  1506400  \n",
            "1   962200  \n",
            "2  1340500  \n",
            "3  1559500  \n",
            "4  1553700  \n",
            "Processing file: LW.csv\n",
            "         Date       Open       High        Low      Close  Adj Close   Volume\n",
            "0  2020-01-02  85.769997  86.070000  83.946999  84.089996  82.170242  1593400\n",
            "1  2020-01-03  87.150002  94.459999  86.190002  93.559998  91.424049  3940600\n",
            "2  2020-01-06  92.449997  92.510002  90.480003  90.699997  88.629333  1960200\n",
            "3  2020-01-07  90.550003  91.919998  90.199997  91.209999  89.127693  1768800\n",
            "4  2020-01-08  91.199997  92.250000  91.029999  91.260002  89.176559  1516400\n",
            "Processing file: LVS.csv\n",
            "         Date       Open       High        Low      Close  Adj Close   Volume\n",
            "0  2020-01-02  69.879997  70.940002  69.790001  70.800003  69.415199  5299600\n",
            "1  2020-01-03  69.620003  70.150002  69.389999  69.720001  68.356323  2822400\n",
            "2  2020-01-06  69.180000  70.120003  69.040001  70.089996  68.719086  2922500\n",
            "3  2020-01-07  69.550003  70.199997  69.500000  70.160004  68.787720  2262800\n",
            "4  2020-01-08  70.000000  71.300003  69.889999  70.800003  69.415199  3455300\n",
            "Processing file: LEG.csv\n",
            "         Date       Open       High        Low      Close  Adj Close   Volume\n",
            "0  2020-01-02  51.070000  51.299999  49.939999  50.340000  47.051163  1453600\n",
            "1  2020-01-03  49.590000  50.130001  49.439999  49.779999  46.527748  1174200\n",
            "2  2020-01-06  49.459999  50.000000  49.040001  50.000000  46.733376   921100\n",
            "3  2020-01-07  50.250000  50.250000  49.119999  49.330002  46.107155   903800\n",
            "4  2020-01-08  49.299999  50.020000  49.220001  49.580002  46.340816   936900\n",
            "Processing file: LDOS.csv\n",
            "         Date       Open        High        Low       Close  Adj Close  \\\n",
            "0  2020-01-02  98.440002   98.639999  97.820000   98.620003  96.189018   \n",
            "1  2020-01-03  97.540001   99.870003  97.410004   99.480003  97.027832   \n",
            "2  2020-01-06  99.000000  100.440002  98.680000  100.360001  97.886139   \n",
            "3  2020-01-07  99.910004  100.769997  99.699997   99.989998  97.525261   \n",
            "4  2020-01-08  99.989998  101.080002  99.809998   99.870003  97.408211   \n",
            "\n",
            "    Volume  \n",
            "0   793600  \n",
            "1  1031000  \n",
            "2   799500  \n",
            "3   483900  \n",
            "4  1058400  \n",
            "Processing file: LEN.csv\n",
            "         Date       Open       High        Low      Close  Adj Close   Volume\n",
            "0  2020-01-02  56.070000  56.169998  55.310001  55.810001  54.691174  3149200\n",
            "1  2020-01-03  55.639999  56.750000  55.500000  56.470001  55.337948  2623600\n",
            "2  2020-01-06  56.680000  58.369999  56.540001  58.049999  56.886272  6703400\n",
            "3  2020-01-07  58.090000  58.330002  56.799999  57.139999  55.994522  5102700\n",
            "4  2020-01-08  58.680000  60.240002  57.570000  57.590000  56.435497  9236900\n",
            "Processing file: LLY.csv\n",
            "         Date        Open        High         Low       Close   Adj Close  \\\n",
            "0  2020-01-02  131.770004  132.259995  130.729996  132.210007  128.090515   \n",
            "1  2020-01-03  130.300003  132.470001  130.229996  131.770004  127.664207   \n",
            "2  2020-01-06  131.419998  132.559998  130.940002  132.259995  128.138931   \n",
            "3  2020-01-07  131.699997  132.929993  131.699997  132.509995  128.381149   \n",
            "4  2020-01-08  132.460007  134.210007  132.009995  133.710007  129.543777   \n",
            "\n",
            "    Volume  \n",
            "0  2204200  \n",
            "1  1963500  \n",
            "2  2102900  \n",
            "3  2448300  \n",
            "4  5188600  \n",
            "Processing file: LNC.csv\n",
            "         Date       Open       High        Low      Close  Adj Close   Volume\n",
            "0  2020-01-02  59.400002  59.849998  58.900002  59.750000  55.726849  2347600\n",
            "1  2020-01-03  58.740002  58.869999  57.619999  57.970001  54.066696  1597800\n",
            "2  2020-01-06  57.250000  57.790001  56.830002  57.480000  53.609692  1815400\n",
            "3  2020-01-07  58.000000  58.250000  57.599998  58.119999  54.206596  1809900\n",
            "4  2020-01-08  58.360001  59.869999  58.139999  59.020000  55.046001  2375800\n",
            "Processing file: LIN.csv\n",
            "         Date        Open        High         Low       Close   Adj Close  \\\n",
            "0  2020-01-02  213.580002  214.449997  210.460007  210.740005  204.907089   \n",
            "1  2020-01-03  207.399994  209.050003  205.169998  205.259995  199.578751   \n",
            "2  2020-01-06  204.600006  206.350006  204.190002  204.389999  198.732849   \n",
            "3  2020-01-07  204.809998  206.750000  204.250000  204.830002  199.160660   \n",
            "4  2020-01-08  205.270004  208.190002  205.100006  207.389999  201.649811   \n",
            "\n",
            "    Volume  \n",
            "0  2604100  \n",
            "1  2899300  \n",
            "2  2395300  \n",
            "3  2589200  \n",
            "4  1327300  \n",
            "Processing file: LYV.csv\n",
            "         Date       Open       High        Low      Close  Adj Close   Volume\n",
            "0  2020-01-02  72.000000  72.459999  71.129997  71.889999  71.889999  1334800\n",
            "1  2020-01-03  70.720001  72.099998  70.720001  71.639999  71.639999   687100\n",
            "2  2020-01-06  71.220001  71.790001  71.050003  71.739998  71.739998   914800\n",
            "3  2020-01-07  71.639999  71.900002  70.870003  70.910004  70.910004   890600\n",
            "4  2020-01-08  71.169998  72.250000  70.930000  71.690002  71.690002  1391700\n",
            "Processing file: LKQ.csv\n",
            "         Date       Open       High        Low      Close  Adj Close   Volume\n",
            "0  2020-01-02  35.919998  36.020000  35.230000  35.799999  35.799999  1673800\n",
            "1  2020-01-03  35.520000  35.590000  35.160000  35.389999  35.389999  1377500\n",
            "2  2020-01-06  35.189999  35.380001  34.779999  34.860001  34.860001  1970900\n",
            "3  2020-01-07  34.799999  34.860001  34.480000  34.669998  34.669998  2196200\n",
            "4  2020-01-08  34.840000  34.889999  34.349998  34.590000  34.590000  2123000\n",
            "Processing file: LMT.csv\n",
            "         Date        Open        High         Low       Close   Adj Close  \\\n",
            "0  2020-01-02  392.859985  399.369995  390.950012  399.369995  381.058136   \n",
            "1  2020-01-03  404.019989  417.170013  403.000000  413.739990  394.769165   \n",
            "2  2020-01-06  417.989990  417.989990  407.690002  413.109985  394.168091   \n",
            "3  2020-01-07  411.250000  416.119995  408.290009  414.500000  395.494354   \n",
            "4  2020-01-08  417.059998  418.179993  409.720001  411.029999  392.183472   \n",
            "\n",
            "    Volume  \n",
            "0  1258400  \n",
            "1  2990100  \n",
            "2  2477800  \n",
            "3  1059900  \n",
            "4  1708100  \n",
            "Processing file: L.csv\n",
            "         Date       Open       High        Low      Close  Adj Close   Volume\n",
            "0  2020-01-02  52.720001  53.000000  52.459999  52.959999  52.441978  1081400\n",
            "1  2020-01-03  52.450001  52.810001  52.279999  52.759998  52.243938   829300\n",
            "2  2020-01-06  52.380001  52.540001  52.020000  52.080002  51.570587   786600\n",
            "3  2020-01-07  51.970001  52.299999  51.810001  51.840000  51.332939   759500\n",
            "4  2020-01-08  52.049999  52.580002  51.799999  51.849998  51.342838   904800\n",
            "Processing file: LOW.csv\n",
            "         Date        Open        High         Low       Close   Adj Close  \\\n",
            "0  2020-01-02  120.050003  120.459999  119.260002  120.459999  116.691643   \n",
            "1  2020-01-03  118.709999  119.820000  118.050003  119.599998  115.858536   \n",
            "2  2020-01-06  118.650002  120.389999  118.300003  120.349998  116.585075   \n",
            "3  2020-01-07  120.489998  120.660004  119.209999  119.629997  115.887589   \n",
            "4  2020-01-08  120.150002  122.730003  119.580002  121.529999  117.728165   \n",
            "\n",
            "    Volume  \n",
            "0  2788800  \n",
            "1  2774200  \n",
            "2  3635400  \n",
            "3  4191100  \n",
            "4  4030100  \n",
            "Processing file: LYB.csv\n",
            "         Date       Open       High        Low      Close  Adj Close   Volume\n",
            "0  2020-01-02  95.279999  95.470001  93.449997  93.860001  86.022125  2321400\n",
            "1  2020-01-03  92.879997  93.349998  91.540001  91.550003  83.905022  2713200\n",
            "2  2020-01-06  91.339996  92.580002  91.089996  91.309998  83.685051  2710700\n",
            "3  2020-01-07  90.650002  92.230003  90.089996  90.919998  83.327629  3039300\n",
            "4  2020-01-08  90.480003  91.150002  89.290001  90.540001  82.979370  1829900\n",
            "Processing file: MTB.csv\n",
            "         Date        Open        High         Low       Close   Adj Close  \\\n",
            "0  2020-01-02  170.360001  171.070007  168.949997  171.070007  161.240936   \n",
            "1  2020-01-03  168.360001  170.300003  167.500000  169.320007  159.591461   \n",
            "2  2020-01-06  169.000000  169.500000  166.679993  167.919998  158.271912   \n",
            "3  2020-01-07  167.279999  168.070007  165.440002  165.889999  156.358521   \n",
            "4  2020-01-08  166.610001  168.039993  166.309998  166.729996  157.150253   \n",
            "\n",
            "   Volume  \n",
            "0  509100  \n",
            "1  461900  \n",
            "2  372900  \n",
            "3  324800  \n",
            "4  462500  \n",
            "Processing file: M.csv\n",
            "         Date   Open       High        Low      Close  Adj Close    Volume\n",
            "0  2020-01-02  17.18  17.270000  16.389999  16.520000  15.749169  26388100\n",
            "1  2020-01-03  16.32  16.610001  16.209999  16.530001  15.758703  12026100\n",
            "2  2020-01-06  16.52  17.260000  16.510000  17.100000  16.302107  20253700\n",
            "3  2020-01-07  17.40  17.770000  17.280001  17.670000  16.845509  19915500\n",
            "4  2020-01-08  18.07  18.570000  17.540001  18.100000  17.255445  35758500\n",
            "Processing file: MRO.csv\n",
            "         Date   Open   High    Low  Close  Adj Close    Volume\n",
            "0  2020-01-02  13.69  13.75  13.55  13.68  13.394186  10437700\n",
            "1  2020-01-03  14.05  14.07  13.60  13.75  13.462723  14858400\n",
            "2  2020-01-06  13.84  14.01  13.74  13.96  13.668336  12021000\n",
            "3  2020-01-07  13.76  13.84  13.61  13.79  13.501887   9554100\n",
            "4  2020-01-08  13.80  13.82  13.02  13.28  13.002542  15588600\n",
            "Processing file: MPC.csv\n",
            "         Date       Open       High        Low      Close  Adj Close   Volume\n",
            "0  2020-01-02  60.880001  61.919998  60.380001  61.910000  56.739662  4497400\n",
            "1  2020-01-03  61.060001  61.360001  58.169998  58.230000  53.366989  9671100\n",
            "2  2020-01-06  57.720001  58.730000  57.020000  58.220001  53.357826  7878000\n",
            "3  2020-01-07  57.680000  59.169998  57.230000  59.139999  54.200993  6578000\n",
            "4  2020-01-08  58.919998  59.110001  57.790001  58.520000  53.632767  5585200\n",
            "Processing file: MKTX.csv\n",
            "         Date        Open        High         Low       Close   Adj Close  \\\n",
            "0  2020-01-02  380.260010  381.040009  376.959991  380.250000  376.161011   \n",
            "1  2020-01-03  377.940002  381.260010  377.459991  380.049988  375.963165   \n",
            "2  2020-01-06  379.700012  379.700012  366.859985  374.079987  370.057312   \n",
            "3  2020-01-07  372.540009  378.820007  370.489990  375.250000  371.214752   \n",
            "4  2020-01-08  375.059998  376.380005  363.679993  364.299988  360.382538   \n",
            "\n",
            "   Volume  \n",
            "0  226200  \n",
            "1  192900  \n",
            "2  329000  \n",
            "3  178600  \n",
            "4  383100  \n",
            "Processing file: MAR.csv\n",
            "         Date        Open        High         Low       Close   Adj Close  \\\n",
            "0  2020-01-02  151.500000  152.600006  151.029999  151.490005  150.884995   \n",
            "1  2020-01-03  149.190002  150.020004  148.740005  149.270004  148.673859   \n",
            "2  2020-01-06  147.899994  147.990005  146.210007  147.339996  146.751572   \n",
            "3  2020-01-07  146.740005  147.220001  144.679993  144.940002  144.361160   \n",
            "4  2020-01-08  145.130005  147.619995  144.720001  146.729996  146.143997   \n",
            "\n",
            "    Volume  \n",
            "0  1905600  \n",
            "1  2116900  \n",
            "2  2178200  \n",
            "3  2073200  \n",
            "4  1412800  \n",
            "Processing file: MMC.csv\n",
            "         Date        Open        High         Low       Close   Adj Close  \\\n",
            "0  2020-01-02  111.589996  112.050003  111.120003  112.050003  108.469055   \n",
            "1  2020-01-03  110.970001  112.089996  110.830002  111.879997  108.304489   \n",
            "2  2020-01-06  111.330002  111.949997  111.059998  111.910004  108.333534   \n",
            "3  2020-01-07  111.739998  112.260002  111.209999  111.570000  108.004395   \n",
            "4  2020-01-08  111.639999  112.349998  111.209999  111.239998  107.684937   \n",
            "\n",
            "    Volume  \n",
            "0  2014000  \n",
            "1  1486500  \n",
            "2  1344400  \n",
            "3  1014000  \n",
            "4  1327300  \n",
            "Processing file: MLM.csv\n",
            "         Date        Open        High         Low       Close   Adj Close  \\\n",
            "0  2020-01-02  281.720001  281.820007  275.540009  276.609985  272.529449   \n",
            "1  2020-01-03  274.649994  279.450012  274.649994  275.790009  271.721588   \n",
            "2  2020-01-06  276.880005  278.089996  275.739990  276.640015  272.559082   \n",
            "3  2020-01-07  275.859985  279.549988  274.760010  276.019989  271.948181   \n",
            "4  2020-01-08  276.279999  279.160004  273.929993  276.959991  272.874298   \n",
            "\n",
            "   Volume  \n",
            "0  553500  \n",
            "1  442400  \n",
            "2  571500  \n",
            "3  533700  \n",
            "4  506500  \n",
            "Processing file: MAS.csv\n",
            "         Date       Open       High        Low      Close  Adj Close   Volume\n",
            "0  2020-01-02  48.200001  48.410000  47.639999  48.270000  47.235687  2145600\n",
            "1  2020-01-03  47.459999  47.919998  47.419998  47.900002  46.873615  2127800\n",
            "2  2020-01-06  47.240002  47.630001  47.009998  47.529999  46.511539  3314500\n",
            "3  2020-01-07  47.270000  47.540001  47.070000  47.080002  46.071182  2025800\n",
            "4  2020-01-08  47.230000  47.930000  47.119999  47.459999  46.443043  2549100\n",
            "Processing file: MA.csv\n",
            "         Date        Open        High         Low       Close   Adj Close  \\\n",
            "0  2020-01-02  300.459991  303.529999  299.500000  303.390015  300.290131   \n",
            "1  2020-01-03  299.459991  302.420013  298.600006  300.429993  297.360321   \n",
            "2  2020-01-06  297.359985  301.329987  296.019989  301.230011  298.152130   \n",
            "3  2020-01-07  301.739990  303.380005  299.880005  300.209991  297.142548   \n",
            "4  2020-01-08  300.779999  306.950012  300.510010  305.100006  302.385529   \n",
            "\n",
            "    Volume  \n",
            "0  3272400  \n",
            "1  2501300  \n",
            "2  3307200  \n",
            "3  3182000  \n",
            "4  3224400  \n",
            "Processing file: MKC.csv\n",
            "         Date       Open       High        Low      Close  Adj Close   Volume\n",
            "0  2020-01-02  84.684998  85.285004  83.684998  83.764999  81.584015  1561200\n",
            "1  2020-01-03  83.834999  85.464996  83.565002  85.099998  82.884254  1469800\n",
            "2  2020-01-06  85.129997  85.860001  84.809998  85.610001  83.380981  1326600\n",
            "3  2020-01-07  85.364998  85.570000  84.080002  84.139999  81.949257  1432000\n",
            "4  2020-01-08  84.635002  84.769997  83.650002  83.690002  81.510971  1014400\n",
            "Processing file: MXIM.csv\n",
            "Empty DataFrame\n",
            "Columns: [Date, Open, High, Low, Close, Adj Close, Volume]\n",
            "Index: []\n",
            "Processing file: MCD.csv\n",
            "         Date        Open        High         Low       Close   Adj Close  \\\n",
            "0  2020-01-02  198.000000  200.800003  197.809998  200.789993  192.579208   \n",
            "1  2020-01-03  199.389999  200.550003  198.850006  200.080002  191.898239   \n",
            "2  2020-01-06  199.600006  202.770004  199.350006  202.330002  194.056229   \n",
            "3  2020-01-07  201.869995  202.679993  200.509995  202.630005  194.343979   \n",
            "4  2020-01-08  202.619995  206.690002  202.199997  205.910004  197.489838   \n",
            "\n",
            "    Volume  \n",
            "0  3554200  \n",
            "1  2767600  \n",
            "2  4660400  \n",
            "3  4047400  \n",
            "4  5284200  \n",
            "Processing file: MCK.csv\n",
            "         Date        Open        High         Low       Close   Adj Close  \\\n",
            "0  2020-01-02  139.110001  139.850006  137.520004  138.690002  136.290878   \n",
            "1  2020-01-03  136.529999  137.630005  135.570007  136.720001  134.354965   \n",
            "2  2020-01-06  136.039993  138.169998  135.220001  138.160004  135.770050   \n",
            "3  2020-01-07  137.020004  137.880005  135.800003  137.850006  135.465424   \n",
            "4  2020-01-08  138.000000  140.740005  137.350006  140.559998  138.128540   \n",
            "\n",
            "    Volume  \n",
            "0   976500  \n",
            "1   746600  \n",
            "2  1225200  \n",
            "3   681100  \n",
            "4   845600  \n",
            "Processing file: MDT.csv\n",
            "         Date        Open        High         Low       Close   Adj Close  \\\n",
            "0  2020-01-02  114.459999  114.910004  113.099998  114.559998  110.248810   \n",
            "1  2020-01-03  113.160004  114.410004  113.050003  113.879997  109.594406   \n",
            "2  2020-01-06  113.269997  114.949997  113.099998  114.889999  110.566406   \n",
            "3  2020-01-07  114.339996  115.300003  114.139999  114.489998  110.181450   \n",
            "4  2020-01-08  115.309998  116.889999  115.250000  116.500000  112.115807   \n",
            "\n",
            "    Volume  \n",
            "0  3917000  \n",
            "1  2764600  \n",
            "2  3332000  \n",
            "3  4443800  \n",
            "4  5482800  \n",
            "Processing file: MRK.csv\n",
            "         Date       Open       High        Low      Close  Adj Close    Volume\n",
            "0  2020-01-02  86.908394  87.919846  86.230919  87.824425  82.918121   8251428\n",
            "1  2020-01-03  86.526718  87.853050  86.364502  87.070610  82.206421   5903698\n",
            "2  2020-01-06  87.051529  87.538170  86.822517  87.442749  82.557770   7522963\n",
            "3  2020-01-07  86.641220  86.946564  85.038170  85.114502  80.359589  11132275\n",
            "4  2020-01-08  85.009544  85.400764  84.360687  84.541985  79.819054  15200506\n",
            "Processing file: MET.csv\n",
            "         Date       Open       High        Low      Close  Adj Close   Volume\n",
            "0  2020-01-02  51.279999  51.689999  51.060001  51.619999  48.040340  4416800\n",
            "1  2020-01-03  50.990002  51.160000  50.599998  51.090000  47.547096  5162300\n",
            "2  2020-01-06  50.630001  51.029999  50.320000  50.950001  47.416798  3271700\n",
            "3  2020-01-07  51.009998  51.619999  50.740002  51.290001  47.733223  6578000\n",
            "4  2020-01-08  51.470001  52.570000  51.439999  51.830002  48.235779  9880500\n",
            "Processing file: MTD.csv\n",
            "         Date        Open        High         Low       Close   Adj Close  \\\n",
            "0  2020-01-02  805.169983  809.989990  796.469971  805.059998  805.059998   \n",
            "1  2020-01-03  790.099976  802.070007  788.200012  789.539978  789.539978   \n",
            "2  2020-01-06  779.890015  793.859985  779.099976  793.729980  793.729980   \n",
            "3  2020-01-07  790.559998  801.119995  787.179993  797.159973  797.159973   \n",
            "4  2020-01-08  796.320007  805.489990  795.000000  797.070007  797.070007   \n",
            "\n",
            "   Volume  \n",
            "0  150300  \n",
            "1  149700  \n",
            "2  187900  \n",
            "3  105800  \n",
            "4  148200  \n",
            "Processing file: MGM.csv\n",
            "         Date       Open       High        Low      Close  Adj Close   Volume\n",
            "0  2020-01-02  33.520000  33.700001  33.290001  33.660000  33.393208  3466700\n",
            "1  2020-01-03  33.209999  33.430000  33.110001  33.290001  33.026138  3299300\n",
            "2  2020-01-06  32.980000  33.049999  32.849998  32.889999  32.629311  4060200\n",
            "3  2020-01-07  32.790001  32.910000  32.740002  32.910000  32.649147  3613900\n",
            "4  2020-01-08  32.950001  33.529999  32.919998  33.240002  32.976536  4213400\n",
            "Processing file: MCHP.csv\n",
            "         Date       Open       High        Low      Close  Adj Close    Volume\n",
            "0  2020-01-02  53.014999  54.044998  52.605000  53.799999  52.615894   9717800\n",
            "1  2020-01-03  52.700001  53.424999  52.430000  52.619999  51.461868  20029800\n",
            "2  2020-01-06  51.830002  52.115002  51.505001  51.865002  50.723488   4031600\n",
            "3  2020-01-07  53.950001  55.400002  53.435001  55.345001  54.126892  13402800\n",
            "4  2020-01-08  55.299999  55.380001  54.415001  54.645000  53.442295   4806200\n",
            "Processing file: MU.csv\n",
            "         Date       Open       High        Low      Close  Adj Close    Volume\n",
            "0  2020-01-02  54.849998  55.490002  54.509998  55.389999  55.312683  20173200\n",
            "1  2020-01-03  54.160000  55.310001  54.000000  54.529999  54.453880  16815800\n",
            "2  2020-01-06  53.750000  54.139999  53.160000  53.570000  53.495224  18768700\n",
            "3  2020-01-07  55.380001  58.400002  55.360001  58.270000  58.188663  49908200\n",
            "4  2020-01-08  58.090000  58.389999  57.060001  57.520000  57.439709  29730800\n",
            "Processing file: MSFT.csv\n",
            "         Date        Open        High         Low       Close   Adj Close  \\\n",
            "0  2020-01-02  158.779999  160.729996  158.330002  160.619995  157.903458   \n",
            "1  2020-01-03  158.320007  159.949997  158.059998  158.619995  155.937302   \n",
            "2  2020-01-06  157.080002  159.100006  156.509995  159.029999  156.340378   \n",
            "3  2020-01-07  159.320007  159.669998  157.320007  157.580002  154.914886   \n",
            "4  2020-01-08  158.929993  160.800003  157.949997  160.089996  157.382431   \n",
            "\n",
            "     Volume  \n",
            "0  22622100  \n",
            "1  21116200  \n",
            "2  20813700  \n",
            "3  21634100  \n",
            "4  27746500  \n",
            "Processing file: MAA.csv\n",
            "         Date        Open        High         Low       Close   Adj Close  \\\n",
            "0  2020-01-02  132.350006  132.500000  128.720001  129.610001  122.116539   \n",
            "1  2020-01-03  129.089996  131.210007  129.020004  131.070007  123.492134   \n",
            "2  2020-01-06  130.740005  131.470001  128.710007  131.259995  123.671120   \n",
            "3  2020-01-07  130.509995  130.740005  128.820007  129.300003  121.824455   \n",
            "4  2020-01-08  129.289993  130.460007  129.000000  130.220001  122.691261   \n",
            "\n",
            "   Volume  \n",
            "0  488100  \n",
            "1  481300  \n",
            "2  492700  \n",
            "3  380800  \n",
            "4  500600  \n",
            "Processing file: MHK.csv\n",
            "         Date        Open        High         Low       Close   Adj Close  \\\n",
            "0  2020-01-02  136.550003  137.449997  134.039993  134.789993  134.789993   \n",
            "1  2020-01-03  133.309998  133.470001  130.029999  130.949997  130.949997   \n",
            "2  2020-01-06  130.250000  132.130005  129.009995  131.000000  131.000000   \n",
            "3  2020-01-07  131.649994  132.169998  127.660004  128.009995  128.009995   \n",
            "4  2020-01-08  128.220001  129.119995  127.080002  127.610001  127.610001   \n",
            "\n",
            "    Volume  \n",
            "0   585200  \n",
            "1   843700  \n",
            "2  1035300  \n",
            "3   739600  \n",
            "4   594400  \n",
            "Processing file: TAP.csv\n",
            "         Date       Open       High        Low      Close  Adj Close   Volume\n",
            "0  2020-01-02  54.250000  54.419998  53.090000  53.540001  52.549580  1771400\n",
            "1  2020-01-03  53.119999  53.470001  52.689999  53.380001  52.392540  1955300\n",
            "2  2020-01-06  53.709999  54.980000  53.549999  54.630001  53.619419  2429900\n",
            "3  2020-01-07  54.389999  54.799999  54.130001  54.490002  53.482006  2385800\n",
            "4  2020-01-08  54.619999  55.470001  54.080002  55.020000  54.002201  1979000\n",
            "Processing file: MDLZ.csv\n",
            "         Date       Open       High        Low      Close  Adj Close   Volume\n",
            "0  2020-01-02  55.060001  55.349998  54.110001  54.330002  52.259937  7272900\n",
            "1  2020-01-03  54.000000  54.570000  53.959999  54.240002  52.173367  6791700\n",
            "2  2020-01-06  54.389999  54.480000  53.849998  54.150002  52.086807  5906400\n",
            "3  2020-01-07  54.049999  54.080002  53.570000  53.919998  51.865562  6716300\n",
            "4  2020-01-08  54.029999  54.419998  53.910000  54.049999  51.990608  5435400\n",
            "Processing file: MNST.csv\n",
            "         Date       Open       High        Low      Close  Adj Close   Volume\n",
            "0  2020-01-02  63.959999  64.019997  63.310001  63.700001  63.700001  1783000\n",
            "1  2020-01-03  63.119999  63.610001  62.869999  63.279999  63.279999  1741100\n",
            "2  2020-01-06  62.990002  63.529999  62.990002  63.380001  63.380001  2234600\n",
            "3  2020-01-07  63.869999  64.139999  63.540001  63.689999  63.689999  3367800\n",
            "4  2020-01-08  63.700001  64.059998  63.369999  63.820000  63.820000  3026800\n",
            "Processing file: MCO.csv\n",
            "         Date        Open        High         Low       Close   Adj Close  \\\n",
            "0  2020-01-02  238.679993  241.729996  238.009995  241.720001  238.346878   \n",
            "1  2020-01-03  238.820007  241.610001  238.559998  241.119995  237.755234   \n",
            "2  2020-01-06  239.669998  241.949997  239.240005  241.869995  238.494781   \n",
            "3  2020-01-07  242.580002  245.210007  240.809998  241.000000  237.636917   \n",
            "4  2020-01-08  242.050003  247.240005  242.050003  245.619995  242.192444   \n",
            "\n",
            "   Volume  \n",
            "0  869700  \n",
            "1  475800  \n",
            "2  714900  \n",
            "3  743700  \n",
            "4  887200  \n",
            "Processing file: MS.csv\n",
            "         Date       Open       High        Low      Close  Adj Close   Volume\n",
            "0  2020-01-02  51.200001  52.060001  51.169998  52.040001  49.343578  7808000\n",
            "1  2020-01-03  51.220001  51.450001  50.830002  51.200001  48.547100  6706000\n",
            "2  2020-01-06  50.669998  51.040001  50.459999  51.020000  48.376431  7476700\n",
            "3  2020-01-07  51.040001  51.189999  50.709999  50.919998  48.281612  4538100\n",
            "4  2020-01-08  50.959999  51.790001  50.900002  51.570000  48.897930  6185200\n",
            "Processing file: MOS.csv\n",
            "         Date       Open       High        Low      Close  Adj Close   Volume\n",
            "0  2020-01-02  21.920000  22.150000  21.260000  21.430000  21.051495  4173100\n",
            "1  2020-01-03  21.240000  21.490000  20.740000  20.760000  20.393328  4112400\n",
            "2  2020-01-06  20.620001  20.959999  20.360001  20.760000  20.393328  4134100\n",
            "3  2020-01-07  20.740000  21.080000  20.590000  20.920000  20.550501  4618900\n",
            "4  2020-01-08  20.930000  21.240000  20.799999  21.110001  20.737148  3837200\n",
            "Processing file: MSI.csv\n",
            "         Date        Open        High         Low       Close   Adj Close  \\\n",
            "0  2020-01-02  162.169998  162.309998  160.770004  161.630005  157.267563   \n",
            "1  2020-01-03  160.029999  164.580002  159.369995  164.380005  159.943329   \n",
            "2  2020-01-06  163.929993  167.029999  163.110001  166.919998  162.414764   \n",
            "3  2020-01-07  165.880005  166.449997  165.000000  165.720001  161.247162   \n",
            "4  2020-01-08  165.899994  166.899994  165.039993  165.889999  161.412582   \n",
            "\n",
            "    Volume  \n",
            "0  1356900  \n",
            "1   962400  \n",
            "2  1544400  \n",
            "3  1131000  \n",
            "4  1386800  \n",
            "Processing file: MSCI.csv\n",
            "         Date        Open        High         Low       Close   Adj Close  \\\n",
            "0  2020-01-02  260.089996  266.059998  259.739990  266.049988  262.512817   \n",
            "1  2020-01-03  262.200012  263.579987  259.269989  260.750000  257.283295   \n",
            "2  2020-01-06  258.579987  262.149994  256.799988  262.049988  258.565979   \n",
            "3  2020-01-07  260.859985  265.359985  260.739990  262.410004  258.921204   \n",
            "4  2020-01-08  263.040009  269.230011  263.040009  266.559998  263.015991   \n",
            "\n",
            "   Volume  \n",
            "0  543300  \n",
            "1  459700  \n",
            "2  450900  \n",
            "3  460700  \n",
            "4  528700  \n",
            "Processing file: MYL.csv\n",
            "Empty DataFrame\n",
            "Columns: [Date, Open, High, Low, Close, Adj Close, Volume]\n",
            "Index: []\n",
            "Processing file: NDAQ.csv\n",
            "         Date        Open        High         Low       Close   Adj Close  \\\n",
            "0  2020-01-02  107.260002  107.959999  107.169998  107.820000  105.079216   \n",
            "1  2020-01-03  106.980003  108.480003  106.739998  108.279999  105.527512   \n",
            "2  2020-01-06  107.790001  108.260002  106.889999  108.209999  105.459297   \n",
            "3  2020-01-07  108.000000  108.260002  106.389999  106.419998  103.714806   \n",
            "4  2020-01-08  106.510002  106.959999  105.239998  105.830002  103.139801   \n",
            "\n",
            "    Volume  \n",
            "0   641300  \n",
            "1   721600  \n",
            "2   718400  \n",
            "3   557700  \n",
            "4  1167000  \n",
            "Processing file: NOV.csv\n",
            "         Date       Open       High        Low      Close  Adj Close   Volume\n",
            "0  2020-01-02  25.049999  25.270000  24.719999  25.260000  25.139484  3361300\n",
            "1  2020-01-03  25.570000  25.809999  25.160000  25.350000  25.229055  2553100\n",
            "2  2020-01-06  25.400000  25.620001  25.120001  25.480000  25.358435  2887300\n",
            "3  2020-01-07  25.320000  25.450001  24.540001  24.990000  24.870773  2452000\n",
            "4  2020-01-08  24.840000  24.990000  23.990000  24.110001  23.994972  2802900\n",
            "Processing file: NTAP.csv\n",
            "         Date       Open       High        Low      Close  Adj Close   Volume\n",
            "0  2020-01-02  61.970001  62.820000  61.799999  62.770000  59.145107  1670000\n",
            "1  2020-01-03  61.950001  62.490002  61.209999  61.700001  58.136898  1429800\n",
            "2  2020-01-06  61.130001  62.009998  61.119999  61.549999  57.995560  1005400\n",
            "3  2020-01-07  61.669998  62.200001  61.240002  61.950001  58.372459  1575000\n",
            "4  2020-01-08  62.230000  63.380001  61.980000  63.139999  59.493740  1801500\n",
            "Processing file: NFLX.csv\n",
            "         Date        Open        High         Low       Close   Adj Close  \\\n",
            "0  2020-01-02  326.100006  329.980011  324.779999  329.809998  329.809998   \n",
            "1  2020-01-03  326.779999  329.859985  325.529999  325.899994  325.899994   \n",
            "2  2020-01-06  323.119995  336.359985  321.200012  335.829987  335.829987   \n",
            "3  2020-01-07  336.470001  336.700012  330.299988  330.750000  330.750000   \n",
            "4  2020-01-08  331.489990  342.700012  331.049988  339.260010  339.260010   \n",
            "\n",
            "    Volume  \n",
            "0  4485800  \n",
            "1  3806900  \n",
            "2  5663100  \n",
            "3  4703200  \n",
            "4  7104500  \n",
            "Processing file: NWL.csv\n",
            "         Date       Open       High        Low      Close  Adj Close   Volume\n",
            "0  2020-01-02  19.430000  19.440001  18.870001  19.080000  17.579565  3998300\n",
            "1  2020-01-03  18.780001  18.850000  18.500000  18.660000  17.192591  3206800\n",
            "2  2020-01-06  18.520000  18.930000  18.440001  18.900000  17.413717  3492000\n",
            "3  2020-01-07  18.950001  19.150000  18.730000  19.000000  17.505854  3362600\n",
            "4  2020-01-08  19.070000  19.270000  18.950001  19.200001  17.690126  2967000\n",
            "Processing file: NEM.csv\n",
            "         Date       Open       High        Low      Close  Adj Close    Volume\n",
            "0  2020-01-02  43.549999  43.880001  43.189999  43.220001  41.347927   6287500\n",
            "1  2020-01-03  43.750000  44.040001  42.790001  42.830002  40.974815   9148900\n",
            "2  2020-01-06  43.759998  43.849998  42.980000  43.259998  41.386192  10416400\n",
            "3  2020-01-07  43.160000  43.520000  42.980000  43.230000  41.357487   9378300\n",
            "4  2020-01-08  43.259998  43.389999  41.959999  42.080002  40.257305   9455300\n",
            "Processing file: NWSA.csv\n",
            "         Date   Open   High    Low  Close  Adj Close   Volume\n",
            "0  2020-01-02  14.17  14.45  14.16  14.44  14.085135  2182900\n",
            "1  2020-01-03  14.22  14.43  14.22  14.40  14.046119  1976500\n",
            "2  2020-01-06  14.34  14.37  14.20  14.36  14.007101  2011900\n",
            "3  2020-01-07  14.38  14.59  14.29  14.50  14.143661  1585000\n",
            "4  2020-01-08  14.47  14.68  14.47  14.54  14.182677  1695900\n",
            "Processing file: NWS.csv\n",
            "         Date   Open   High    Low  Close  Adj Close   Volume\n",
            "0  2020-01-02  14.63  14.82  14.55  14.81  14.445640   775400\n",
            "1  2020-01-03  14.61  14.86  14.61  14.82  14.455393  1037300\n",
            "2  2020-01-06  14.79  14.79  14.62  14.77  14.406624   475100\n",
            "3  2020-01-07  14.72  14.99  14.70  14.93  14.562687   467700\n",
            "4  2020-01-08  14.93  15.11  14.93  14.97  14.601704   528100\n",
            "Processing file: NEE.csv\n",
            "         Date       Open       High        Low      Close  Adj Close   Volume\n",
            "0  2020-01-02  60.492500  60.919998  59.487499  59.654999  57.575443  7884800\n",
            "1  2020-01-03  59.657501  60.340000  59.535000  60.080002  57.985626  7097200\n",
            "2  2020-01-06  60.174999  60.650002  60.105000  60.380001  58.275169  5518800\n",
            "3  2020-01-07  60.172501  60.552502  60.042500  60.327499  58.224499  6653200\n",
            "4  2020-01-08  60.417500  60.737499  60.250000  60.299999  58.197952  5936000\n",
            "Processing file: NLSN.csv\n",
            "         Date       Open       High        Low      Close  Adj Close   Volume\n",
            "0  2020-01-02  20.379999  20.450001  19.910000  20.120001  19.680140  4202300\n",
            "1  2020-01-03  19.850000  20.150000  19.840000  20.080000  19.641012  3490200\n",
            "2  2020-01-06  20.000000  20.490000  19.780001  20.490000  20.042051  2936100\n",
            "3  2020-01-07  20.280001  20.410000  19.920000  20.360001  19.914892  3670100\n",
            "4  2020-01-08  20.370001  20.480000  19.930000  20.340000  19.895330  3383200\n",
            "Processing file: NKE.csv\n",
            "         Date        Open        High         Low       Close   Adj Close  \\\n",
            "0  2020-01-02  101.360001  102.209999  101.019997  102.199997  100.660271   \n",
            "1  2020-01-03  100.589996  102.000000  100.309998  101.919998  100.384506   \n",
            "2  2020-01-06  100.949997  101.839996  100.870003  101.830002  100.295868   \n",
            "3  2020-01-07  101.809998  102.739998  100.809998  101.779999  100.246605   \n",
            "4  2020-01-08  101.309998  102.139999  100.849998  101.550003  100.020088   \n",
            "\n",
            "    Volume  \n",
            "0  5644100  \n",
            "1  4541800  \n",
            "2  4612400  \n",
            "3  6719900  \n",
            "4  4942200  \n",
            "Processing file: NI.csv\n",
            "         Date       Open       High        Low      Close  Adj Close   Volume\n",
            "0  2020-01-02  27.930000  28.000000  27.080000  27.180000  25.382364  4254200\n",
            "1  2020-01-03  27.120001  27.430000  27.110001  27.400000  25.587814  3440400\n",
            "2  2020-01-06  27.430000  27.549999  27.370001  27.389999  25.578474  4365600\n",
            "3  2020-01-07  27.639999  27.639999  27.379999  27.629999  25.802603  2937000\n",
            "4  2020-01-08  27.680000  27.900000  27.600000  27.660000  25.830616  4566500\n",
            "Processing file: NBL.csv\n",
            "Empty DataFrame\n",
            "Columns: [Date, Open, High, Low, Close, Adj Close, Volume]\n",
            "Index: []\n",
            "Processing file: JWN.csv\n",
            "         Date       Open       High        Low      Close  Adj Close   Volume\n",
            "0  2020-01-02  41.080002  41.189999  39.869999  40.110001  39.598957  3593100\n",
            "1  2020-01-03  39.410000  40.799999  39.320000  39.880001  39.371887  3154100\n",
            "2  2020-01-06  40.750000  41.230000  40.180000  40.980000  40.457870  3717000\n",
            "3  2020-01-07  41.540001  43.369999  41.470001  41.990002  41.455006  5213200\n",
            "4  2020-01-08  42.250000  42.959999  41.630001  42.139999  41.603092  2783200\n",
            "Processing file: NSC.csv\n",
            "         Date        Open        High         Low       Close   Adj Close  \\\n",
            "0  2020-01-02  195.050003  196.800003  194.270004  196.800003  190.805267   \n",
            "1  2020-01-03  193.190002  196.589996  193.190002  196.440002  190.456238   \n",
            "2  2020-01-06  195.169998  196.169998  194.199997  195.929993  189.961746   \n",
            "3  2020-01-07  196.520004  197.729996  195.130005  196.710007  190.718018   \n",
            "4  2020-01-08  196.820007  199.350006  195.979996  197.630005  191.609985   \n",
            "\n",
            "    Volume  \n",
            "0  1458800  \n",
            "1  2003700  \n",
            "2  2076800  \n",
            "3  1478900  \n",
            "4  1133600  \n",
            "Processing file: NTRS.csv\n",
            "         Date        Open        High         Low       Close   Adj Close  \\\n",
            "0  2020-01-02  106.529999  107.629997  106.290001  107.580002  102.022255   \n",
            "1  2020-01-03  106.000000  106.480003  105.209999  105.370003   99.926414   \n",
            "2  2020-01-06  104.599998  105.300003  104.290001  105.239998   99.803131   \n",
            "3  2020-01-07  105.269997  106.400002  105.220001  105.820000  100.353172   \n",
            "4  2020-01-08  106.120003  106.959999  105.809998  106.790001  101.273064   \n",
            "\n",
            "    Volume  \n",
            "0   675700  \n",
            "1   995900  \n",
            "2   878100  \n",
            "3   686200  \n",
            "4  1099900  \n",
            "Processing file: NOC.csv\n",
            "         Date        Open        High         Low       Close   Adj Close  \\\n",
            "0  2020-01-02  344.440002  355.700012  343.619995  355.700012  345.170319   \n",
            "1  2020-01-03  368.149994  375.820007  366.369995  375.010010  363.908752   \n",
            "2  2020-01-06  379.950012  382.260010  372.579987  375.829987  364.704468   \n",
            "3  2020-01-07  373.619995  376.709991  371.089996  374.970001  363.869904   \n",
            "4  2020-01-08  376.200012  379.269989  367.100006  370.290009  359.328491   \n",
            "\n",
            "    Volume  \n",
            "0   941900  \n",
            "1  2600300  \n",
            "2  2130000  \n",
            "3   863600  \n",
            "4  1312400  \n",
            "Processing file: NLOK.csv\n",
            "         Date       Open       High        Low      Close  Adj Close   Volume\n",
            "0  2020-01-02  25.610001  26.030001  25.520000  26.020000  14.454569  5273300\n",
            "1  2020-01-03  25.730000  25.969999  25.600000  25.830000  14.349020  2706400\n",
            "2  2020-01-06  25.980000  26.770000  25.920000  26.389999  14.660110  9985300\n",
            "3  2020-01-07  26.389999  26.770000  26.190001  26.750000  14.860099  7064500\n",
            "4  2020-01-08  26.750000  26.889999  26.450001  26.610001  14.782324  7925900\n",
            "Processing file: NCLH.csv\n",
            "         Date       Open       High        Low      Close  Adj Close   Volume\n",
            "0  2020-01-02  58.790001  59.110001  58.150002  58.830002  58.830002   977700\n",
            "1  2020-01-03  57.740002  58.220001  57.250000  57.599998  57.599998  1611800\n",
            "2  2020-01-06  57.080002  57.270000  56.520000  56.799999  56.799999  2302500\n",
            "3  2020-01-07  56.549999  57.270000  56.480000  56.970001  56.970001  1623100\n",
            "4  2020-01-08  57.029999  57.919998  56.919998  57.570000  57.570000  1187300\n",
            "Processing file: NRG.csv\n",
            "         Date       Open       High        Low      Close  Adj Close   Volume\n",
            "0  2020-01-02  39.830002  39.990002  38.590000  38.799999  36.249294  2581100\n",
            "1  2020-01-03  38.570000  38.790001  38.009998  38.200001  35.688736  2751300\n",
            "2  2020-01-06  38.139999  38.180000  37.259998  37.380001  34.922646  2605600\n",
            "3  2020-01-07  37.220001  37.580002  36.820000  36.869999  34.446171  2446000\n",
            "4  2020-01-08  36.880001  37.000000  36.240002  36.860001  34.436832  3594200\n",
            "Processing file: NUE.csv\n",
            "         Date       Open       High        Low      Close  Adj Close   Volume\n",
            "0  2020-01-02  56.830002  56.860001  55.060001  55.119999  52.324356  2466800\n",
            "1  2020-01-03  54.500000  54.930000  54.230000  54.389999  51.631382  2837400\n",
            "2  2020-01-06  54.209999  54.630001  53.759998  53.930000  51.194714  2239000\n",
            "3  2020-01-07  53.750000  54.590000  53.610001  53.810001  51.080807  2559000\n",
            "4  2020-01-08  53.849998  54.360001  53.630001  53.680000  50.957394  2130200\n",
            "Processing file: NVDA.csv\n",
            "         Date       Open       High        Low      Close  Adj Close    Volume\n",
            "0  2020-01-02  59.687500  59.977501  59.180000  59.977501  59.833771  23753600\n",
            "1  2020-01-03  58.775002  59.457500  58.525002  59.017502  58.876068  20538400\n",
            "2  2020-01-06  58.080002  59.317501  57.817501  59.264999  59.122971  26263600\n",
            "3  2020-01-07  59.549999  60.442501  59.097500  59.982498  59.838753  31485600\n",
            "4  2020-01-08  59.939999  60.509998  59.537498  60.095001  59.950985  27710800\n",
            "Processing file: NVR.csv\n",
            "         Date         Open         High          Low        Close  \\\n",
            "0  2020-01-02  3777.000000  3819.939941  3701.010010  3735.500000   \n",
            "1  2020-01-03  3699.000000  3825.000000  3699.000000  3781.429932   \n",
            "2  2020-01-06  3779.850098  3820.000000  3771.389893  3783.270020   \n",
            "3  2020-01-07  3775.939941  3810.000000  3774.000000  3806.120117   \n",
            "4  2020-01-08  3818.629883  3849.689941  3775.010010  3785.810059   \n",
            "\n",
            "     Adj Close  Volume  \n",
            "0  3735.500000   39900  \n",
            "1  3781.429932   30400  \n",
            "2  3783.270020   34500  \n",
            "3  3806.120117   23700  \n",
            "4  3785.810059   35100  \n",
            "Processing file: ORLY.csv\n",
            "         Date        Open        High         Low       Close   Adj Close  \\\n",
            "0  2020-01-02  438.500000  439.059998  434.440002  437.519989  437.519989   \n",
            "1  2020-01-03  435.809998  439.220001  433.040009  438.750000  438.750000   \n",
            "2  2020-01-06  437.029999  437.029999  429.220001  434.660004  434.660004   \n",
            "3  2020-01-07  433.940002  434.510010  425.279999  428.769989  428.769989   \n",
            "4  2020-01-08  428.869995  437.570007  428.869995  431.899994  431.899994   \n",
            "\n",
            "   Volume  \n",
            "0  796100  \n",
            "1  482900  \n",
            "2  837100  \n",
            "3  661500  \n",
            "4  479500  \n",
            "Processing file: OXY.csv\n",
            "         Date       Open       High        Low      Close  Adj Close    Volume\n",
            "0  2020-01-02  41.630001  42.689999  41.580002  42.580002  41.197399  13066400\n",
            "1  2020-01-03  43.810001  44.250000  43.169998  43.610001  42.193951  15097400\n",
            "2  2020-01-06  43.980000  45.450001  43.689999  45.049999  43.587193  16659700\n",
            "3  2020-01-07  45.080002  45.279999  44.180000  45.270000  43.800056  12084800\n",
            "4  2020-01-08  45.540001  45.779999  44.270000  44.980000  43.519466  12250900\n",
            "Processing file: ODFL.csv\n",
            "         Date        Open        High         Low       Close   Adj Close  \\\n",
            "0  2020-01-02  126.839996  128.026672  125.793335  128.020004  127.271416   \n",
            "1  2020-01-03  126.900002  127.193336  125.846664  126.493332  125.753662   \n",
            "2  2020-01-06  125.800003  126.053329  124.046669  125.493332  124.759514   \n",
            "3  2020-01-07  125.626663  126.246666  125.133331  125.853333  125.117409   \n",
            "4  2020-01-08  126.133331  127.239998  125.646667  126.446671  125.707268   \n",
            "\n",
            "   Volume  \n",
            "0  979500  \n",
            "1  930000  \n",
            "2  967350  \n",
            "3  710700  \n",
            "4  655350  \n",
            "Processing file: OMC.csv\n",
            "         Date       Open       High        Low      Close  Adj Close   Volume\n",
            "0  2020-01-02  81.150002  81.169998  78.959999  79.870003  74.408226  1951400\n",
            "1  2020-01-03  79.000000  80.010002  78.879997  79.930000  74.464111  1018300\n",
            "2  2020-01-06  79.389999  79.669998  78.959999  79.529999  74.091469  1436600\n",
            "3  2020-01-07  79.800003  80.040001  78.970001  79.110001  73.700188  1598300\n",
            "4  2020-01-08  79.349998  79.949997  79.250000  79.320000  73.895828  1737400\n",
            "Processing file: OKE.csv\n",
            "         Date       Open       High        Low      Close  Adj Close   Volume\n",
            "0  2020-01-02  75.919998  76.110001  75.040001  75.709999  63.131229  1943600\n",
            "1  2020-01-03  75.919998  76.750000  75.650002  76.580002  63.856689  1727600\n",
            "2  2020-01-06  76.300003  77.139999  76.120003  76.910004  64.131859  2109700\n",
            "3  2020-01-07  76.709999  76.949997  76.260002  76.849998  64.081825  1364600\n",
            "4  2020-01-08  76.919998  77.029999  75.650002  75.650002  63.081211  2153900\n",
            "Processing file: ORCL.csv\n",
            "         Date       Open       High        Low      Close  Adj Close    Volume\n",
            "0  2020-01-02  53.270000  53.959999  53.230000  53.950001  52.212730  13899600\n",
            "1  2020-01-03  52.990002  54.049999  52.950001  53.759998  52.028843  11026700\n",
            "2  2020-01-06  53.360001  54.200001  53.349998  54.040001  52.299824  10982400\n",
            "3  2020-01-07  53.889999  54.330002  53.610001  54.160000  52.415958  12015400\n",
            "4  2020-01-08  53.939999  54.599998  53.700001  54.130001  52.620102  11856700\n",
            "Processing file: PCAR.csv\n",
            "         Date       Open       High        Low      Close  Adj Close   Volume\n",
            "0  2020-01-02  79.190002  79.660004  78.629997  79.510002  76.759956  1731400\n",
            "1  2020-01-03  78.309998  78.830002  77.669998  78.730003  76.006943  1604700\n",
            "2  2020-01-06  78.269997  78.519997  77.419998  78.440002  75.726967  1798800\n",
            "3  2020-01-07  77.809998  78.110001  77.279999  77.919998  75.224953  1740800\n",
            "4  2020-01-08  78.239998  79.209999  77.250000  78.959999  76.228973  1832900\n",
            "Processing file: PKG.csv\n",
            "         Date        Open        High         Low       Close   Adj Close  \\\n",
            "0  2020-01-02  112.889999  112.889999  110.360001  110.720001  104.991936   \n",
            "1  2020-01-03  109.480003  110.199997  109.010002  109.220001  103.569534   \n",
            "2  2020-01-06  108.769997  109.000000  105.900002  105.970001  100.487671   \n",
            "3  2020-01-07  104.940002  105.370003  103.550003  104.849998   99.425621   \n",
            "4  2020-01-08  104.930000  106.000000  104.129997  105.720001  100.250610   \n",
            "\n",
            "    Volume  \n",
            "0   860800  \n",
            "1   844700  \n",
            "2  1051500  \n",
            "3  1285200  \n",
            "4   691700  \n",
            "Processing file: PH.csv\n",
            "         Date        Open        High         Low       Close   Adj Close  \\\n",
            "0  2020-01-02  207.009995  209.770004  206.149994  209.770004  203.972748   \n",
            "1  2020-01-03  205.630005  207.839996  203.190002  206.820007  201.104248   \n",
            "2  2020-01-06  204.750000  206.979996  203.720001  206.910004  201.191772   \n",
            "3  2020-01-07  206.899994  207.440002  205.000000  206.490005  200.783386   \n",
            "4  2020-01-08  207.130005  207.539993  205.699997  206.630005  200.919525   \n",
            "\n",
            "   Volume  \n",
            "0  845200  \n",
            "1  895400  \n",
            "2  734100  \n",
            "3  699500  \n",
            "4  711500  \n",
            "Processing file: PAYX.csv\n",
            "         Date       Open       High        Low      Close  Adj Close   Volume\n",
            "0  2020-01-02  85.500000  85.629997  84.709999  85.110001  80.309265  1307000\n",
            "1  2020-01-03  84.709999  85.040001  84.400002  84.820000  80.035629   964700\n",
            "2  2020-01-06  84.480003  84.849998  84.370003  84.809998  80.026207  1196700\n",
            "3  2020-01-07  84.489998  84.620003  84.110001  84.339996  79.582703  1361200\n",
            "4  2020-01-08  84.430000  85.489998  84.279999  85.169998  80.365883  1500500\n",
            "Processing file: PYPL.csv\n",
            "         Date        Open        High         Low       Close   Adj Close  \\\n",
            "0  2020-01-02  109.470001  111.209999  109.275002  110.750000  110.750000   \n",
            "1  2020-01-03  109.489998  110.419998  108.760002  108.760002  108.760002   \n",
            "2  2020-01-06  107.570000  110.220001  107.440002  110.169998  110.169998   \n",
            "3  2020-01-07  111.500000  111.559998  109.529999  109.669998  109.669998   \n",
            "4  2020-01-08  110.400002  112.639999  109.820000  111.820000  111.820000   \n",
            "\n",
            "    Volume  \n",
            "0  7418800  \n",
            "1  7098300  \n",
            "2  6764500  \n",
            "3  6898700  \n",
            "4  8293600  \n",
            "Processing file: PNR.csv\n",
            "         Date       Open       High        Low      Close  Adj Close   Volume\n",
            "0  2020-01-02  46.080002  46.430000  45.799999  46.419998  45.023041   791000\n",
            "1  2020-01-03  45.570000  46.040001  45.570000  45.980000  44.596291  1023700\n",
            "2  2020-01-06  45.599998  45.889999  45.360001  45.660000  44.285919   794100\n",
            "3  2020-01-07  45.660000  45.689999  45.180000  45.259998  43.897953  1009300\n",
            "4  2020-01-08  45.470001  45.830002  45.169998  45.430000  44.062840   941000\n",
            "Processing file: PBCT.csv\n",
            "         Date       Open       High        Low      Close  Adj Close   Volume\n",
            "0  2020-01-02  17.000000  17.000000  16.530001  16.760000  15.118065  3619400\n",
            "1  2020-01-03  16.600000  16.760000  16.420000  16.620001  14.991779  2508900\n",
            "2  2020-01-06  16.540001  16.580000  16.389999  16.540001  14.919620  2065100\n",
            "3  2020-01-07  16.469999  16.500000  16.299999  16.400000  14.793332  2300800\n",
            "4  2020-01-08  16.440001  16.559999  16.350000  16.500000  14.883536  2149400\n",
            "Processing file: PEP.csv\n",
            "         Date        Open        High         Low       Close   Adj Close  \\\n",
            "0  2020-01-02  136.869995  137.229996  135.139999  135.820007  129.094131   \n",
            "1  2020-01-03  135.460007  136.789993  135.130005  135.630005  128.913544   \n",
            "2  2020-01-06  135.300003  136.320007  135.199997  136.149994  129.407776   \n",
            "3  2020-01-07  136.000000  136.070007  133.949997  134.009995  127.373764   \n",
            "4  2020-01-08  134.460007  135.360001  134.070007  134.699997  128.029587   \n",
            "\n",
            "    Volume  \n",
            "0  3784100  \n",
            "1  4000100  \n",
            "2  4085100  \n",
            "3  5718100  \n",
            "4  3681400  \n",
            "Processing file: PKI.csv\n",
            "         Date       Open       High        Low      Close  Adj Close  Volume\n",
            "0  2020-01-02  98.250000  98.860001  97.680000  98.860001  98.402260  708900\n",
            "1  2020-01-03  96.709999  97.680000  95.769997  96.989998  96.540916  558900\n",
            "2  2020-01-06  96.370003  98.050003  96.050003  98.000000  97.546242  464700\n",
            "3  2020-01-07  97.730003  98.989998  97.279999  98.800003  98.342545  441800\n",
            "4  2020-01-08  98.839996  99.739998  97.260002  98.589996  98.133507  597600\n",
            "Processing file: PRGO.csv\n",
            "         Date       Open       High        Low      Close  Adj Close   Volume\n",
            "0  2020-01-02  51.630001  51.709999  50.090000  51.290001  49.599724  1568700\n",
            "1  2020-01-03  50.509998  50.560001  49.759998  49.959999  48.313549  1032700\n",
            "2  2020-01-06  49.590000  49.910000  49.139999  49.279999  47.655960  1237900\n",
            "3  2020-01-07  49.009998  50.080002  48.830002  49.959999  48.313549  1288600\n",
            "4  2020-01-08  49.959999  50.040001  49.160000  49.419998  47.791348  1111300\n",
            "Processing file: PFE.csv\n",
            "         Date       Open       High        Low      Close  Adj Close    Volume\n",
            "0  2020-01-02  37.286530  37.333965  36.888046  37.134724  34.635296  16514072\n",
            "1  2020-01-03  36.736244  37.229603  36.688805  36.935486  34.449471  14922848\n",
            "2  2020-01-06  36.831120  37.001900  36.717270  36.888046  34.405220  15771951\n",
            "3  2020-01-07  37.115749  37.125237  36.698292  36.764706  34.290184  20108107\n",
            "4  2020-01-08  36.774193  37.210625  36.764706  37.058823  34.564507  16403507\n",
            "Processing file: PM.csv\n",
            "         Date       Open       High        Low      Close  Adj Close   Volume\n",
            "0  2020-01-02  85.510002  86.169998  84.760002  85.190002  76.981667  5107200\n",
            "1  2020-01-03  85.029999  85.940002  84.860001  85.029999  76.837090  3806700\n",
            "2  2020-01-06  84.910004  86.110001  84.370003  86.019997  77.731697  7041400\n",
            "3  2020-01-07  85.629997  86.830002  85.269997  86.400002  78.075089  4311600\n",
            "4  2020-01-08  86.800003  88.349998  86.430000  88.040001  79.557068  5337600\n",
            "Processing file: PSX.csv\n",
            "         Date        Open        High         Low       Close   Adj Close  \\\n",
            "0  2020-01-02  112.080002  113.180000  111.379997  112.199997  102.866325   \n",
            "1  2020-01-03  111.250000  112.419998  108.190002  108.489998   99.464943   \n",
            "2  2020-01-06  108.239998  108.440002  107.209999  107.809998   98.841515   \n",
            "3  2020-01-07  107.129997  108.220001  106.739998  108.139999   99.144058   \n",
            "4  2020-01-08  108.320000  108.440002  103.809998  104.099998   95.440132   \n",
            "\n",
            "    Volume  \n",
            "0  1607900  \n",
            "1  2236900  \n",
            "2  3917100  \n",
            "3  2687900  \n",
            "4  3452600  \n",
            "Processing file: PNW.csv\n",
            "         Date       Open       High        Low      Close  Adj Close   Volume\n",
            "0  2020-01-02  90.129997  90.250000  88.400002  88.709999  82.849785   744100\n",
            "1  2020-01-03  88.550003  89.269997  88.489998  88.989998  83.111282  1058500\n",
            "2  2020-01-06  89.089996  89.400002  88.800003  88.900002  83.027229   908800\n",
            "3  2020-01-07  88.389999  88.720001  88.099998  88.680000  82.821770   931300\n",
            "4  2020-01-08  88.809998  89.089996  88.470001  88.510002  82.662987   797200\n",
            "Processing file: PXD.csv\n",
            "         Date        Open        High         Low       Close   Adj Close  \\\n",
            "0  2020-01-02  152.020004  153.149994  151.169998  152.339996  145.540100   \n",
            "1  2020-01-03  155.000000  156.419998  152.889999  153.350006  146.505035   \n",
            "2  2020-01-06  154.910004  159.009995  153.020004  158.110001  151.052536   \n",
            "3  2020-01-07  157.550003  157.800003  155.649994  156.949997  149.944336   \n",
            "4  2020-01-08  157.960007  158.889999  150.699997  152.080002  145.291718   \n",
            "\n",
            "    Volume  \n",
            "0   995700  \n",
            "1  1782100  \n",
            "2  2126300  \n",
            "3  1343700  \n",
            "4  2125400  \n",
            "Processing file: PNC.csv\n",
            "         Date        Open        High         Low       Close   Adj Close  \\\n",
            "0  2020-01-02  159.750000  160.369995  158.899994  160.369995  149.945618   \n",
            "1  2020-01-03  158.410004  159.589996  157.429993  158.830002  148.505737   \n",
            "2  2020-01-06  158.100006  158.679993  157.449997  158.509995  148.206512   \n",
            "3  2020-01-07  157.429993  158.399994  156.610001  157.259995  147.037766   \n",
            "4  2020-01-08  158.000000  159.910004  157.300003  158.889999  148.561844   \n",
            "\n",
            "    Volume  \n",
            "0  1881300  \n",
            "1  1374400  \n",
            "2  1335500  \n",
            "3  1936300  \n",
            "4  1958400  \n",
            "Processing file: PPG.csv\n",
            "         Date        Open        High         Low       Close   Adj Close  \\\n",
            "0  2020-01-02  133.970001  134.160004  131.350006  131.600006  127.805687   \n",
            "1  2020-01-03  130.050003  130.850006  129.630005  129.690002  125.950760   \n",
            "2  2020-01-06  128.889999  129.979996  128.740005  129.089996  125.368057   \n",
            "3  2020-01-07  128.589996  129.279999  128.039993  128.080002  124.387184   \n",
            "4  2020-01-08  128.410004  129.399994  127.830002  128.410004  124.707664   \n",
            "\n",
            "    Volume  \n",
            "0  1393100  \n",
            "1  1598400  \n",
            "2  1529400  \n",
            "3  2217600  \n",
            "4  1313000  \n",
            "Processing file: PPL.csv\n",
            "         Date       Open       High        Low      Close  Adj Close   Volume\n",
            "0  2020-01-02  36.000000  36.040001  35.240002  35.419998  32.080166  6116400\n",
            "1  2020-01-03  35.160000  35.500000  35.110001  35.380001  32.043945  4105100\n",
            "2  2020-01-06  35.299999  35.540001  35.230000  35.419998  32.080166  6201900\n",
            "3  2020-01-07  35.459999  35.540001  35.110001  35.180000  31.862797  4288200\n",
            "4  2020-01-08  35.419998  35.599998  35.279999  35.380001  32.043945  5247100\n",
            "Processing file: PFG.csv\n",
            "         Date       Open       High        Low      Close  Adj Close   Volume\n",
            "0  2020-01-02  55.430000  55.889999  55.099998  55.730000  51.538055  1164500\n",
            "1  2020-01-03  54.660000  55.060001  54.230000  54.910000  50.779732   896100\n",
            "2  2020-01-06  54.360001  55.029999  54.189999  55.000000  50.862968   849900\n",
            "3  2020-01-07  54.889999  55.650002  54.389999  55.349998  51.186642   868300\n",
            "4  2020-01-08  55.290001  56.049999  55.209999  55.590000  51.408588  1176900\n",
            "Processing file: PG.csv\n",
            "         Date        Open        High         Low       Close   Adj Close  \\\n",
            "0  2020-01-02  124.500000  124.730003  122.940002  123.410004  117.480568   \n",
            "1  2020-01-03  122.160004  123.529999  121.860001  122.580002  116.690453   \n",
            "2  2020-01-06  122.570000  123.190002  122.379997  122.750000  116.852280   \n",
            "3  2020-01-07  122.879997  123.209999  121.870003  121.989998  116.128799   \n",
            "4  2020-01-08  122.190002  123.430000  122.000000  122.510002  116.623810   \n",
            "\n",
            "    Volume  \n",
            "0  8130800  \n",
            "1  7970500  \n",
            "2  6674400  \n",
            "3  7583400  \n",
            "4  5385100  \n",
            "Processing file: PGR.csv\n",
            "         Date       Open       High        Low      Close  Adj Close   Volume\n",
            "0  2020-01-02  73.919998  74.349998  73.260002  74.330002  68.205086  2880700\n",
            "1  2020-01-03  73.519997  74.779999  73.279999  74.320000  68.195908  4155800\n",
            "2  2020-01-06  73.889999  75.720001  73.830002  75.669998  69.434662  5897200\n",
            "3  2020-01-07  73.000000  73.120003  72.160004  72.760002  68.904350  4867700\n",
            "4  2020-01-08  72.919998  73.959999  72.870003  73.190002  69.311554  4073700\n",
            "Processing file: PLD.csv\n",
            "         Date       Open       High        Low      Close  Adj Close   Volume\n",
            "0  2020-01-02  89.669998  89.800003  87.750000  88.400002  84.774361  2246200\n",
            "1  2020-01-03  87.550003  89.860001  87.550003  89.389999  85.723755  2188000\n",
            "2  2020-01-06  89.440002  89.599998  88.889999  89.040001  85.388100  1794500\n",
            "3  2020-01-07  88.620003  88.940002  87.879997  88.470001  84.841492  2054500\n",
            "4  2020-01-08  88.459999  89.230003  88.150002  88.949997  85.301796  2013700\n",
            "Processing file: PRU.csv\n",
            "         Date       Open       High        Low      Close  Adj Close   Volume\n",
            "0  2020-01-02  94.040001  94.900002  93.790001  94.839996  85.980133  1744600\n",
            "1  2020-01-03  93.400002  93.720001  92.680000  93.260002  84.547752  1526300\n",
            "2  2020-01-06  92.120003  93.519997  91.970001  93.489998  84.756264  1689000\n",
            "3  2020-01-07  93.209999  93.800003  92.730003  93.389999  84.665596  1740400\n",
            "4  2020-01-08  93.800003  95.360001  93.440002  93.989998  85.209549  3611400\n",
            "Processing file: PEG.csv\n",
            "         Date       Open       High        Low      Close  Adj Close   Volume\n",
            "0  2020-01-02  59.119999  59.150002  58.470001  58.709999  55.201580  2557800\n",
            "1  2020-01-03  58.549999  59.070000  58.459999  58.700001  55.192181  2992200\n",
            "2  2020-01-06  58.709999  58.849998  58.110001  58.130001  54.656239  3605300\n",
            "3  2020-01-07  57.939999  58.000000  57.380001  57.599998  54.157913  4094400\n",
            "4  2020-01-08  57.709999  58.090000  57.669998  57.959999  54.496403  3250900\n",
            "Processing file: PSA.csv\n",
            "         Date        Open        High         Low       Close   Adj Close  \\\n",
            "0  2020-01-02  213.820007  214.160004  210.600006  211.419998  199.154495   \n",
            "1  2020-01-03  211.139999  213.880005  210.759995  213.699997  201.302231   \n",
            "2  2020-01-06  212.759995  214.929993  212.529999  214.460007  202.018158   \n",
            "3  2020-01-07  213.220001  214.649994  211.770004  213.610001  201.217453   \n",
            "4  2020-01-08  213.009995  214.179993  212.119995  214.000000  201.584839   \n",
            "\n",
            "    Volume  \n",
            "0   862200  \n",
            "1   773400  \n",
            "2  1134300  \n",
            "3  1164300  \n",
            "4  1262100  \n",
            "Processing file: PHM.csv\n",
            "         Date       Open       High        Low      Close  Adj Close   Volume\n",
            "0  2020-01-02  38.869999  38.980000  38.330002  38.680000  37.877235  2049300\n",
            "1  2020-01-03  38.490002  39.080002  38.310001  39.020000  38.210186  2607200\n",
            "2  2020-01-06  39.099998  39.570000  39.000000  39.310001  38.494160  2145700\n",
            "3  2020-01-07  39.520000  39.810001  39.200001  39.570000  38.748768  4916900\n",
            "4  2020-01-08  40.130001  40.480000  39.919998  39.930000  39.101292  5464200\n",
            "Processing file: PVH.csv\n",
            "         Date        Open        High         Low       Close   Adj Close  \\\n",
            "0  2020-01-02  105.940002  106.410004  104.550003  105.349998  105.229599   \n",
            "1  2020-01-03  103.570000  104.839996  102.849998  103.290001  103.171951   \n",
            "2  2020-01-06  102.379997  105.709999  101.970001  105.639999  105.519264   \n",
            "3  2020-01-07  105.639999  106.800003  104.690002  105.650002  105.529259   \n",
            "4  2020-01-08  106.720001  108.059998  105.610001  106.230003  106.108597   \n",
            "\n",
            "   Volume  \n",
            "0  835400  \n",
            "1  642000  \n",
            "2  684100  \n",
            "3  549700  \n",
            "4  631900  \n",
            "Processing file: QRVO.csv\n",
            "         Date        Open        High         Low       Close   Adj Close  \\\n",
            "0  2020-01-02  117.260002  117.400002  114.760002  115.959999  115.959999   \n",
            "1  2020-01-03  114.059998  115.239998  112.059998  112.339996  112.339996   \n",
            "2  2020-01-06  110.830002  112.980003  109.400002  111.639999  111.639999   \n",
            "3  2020-01-07  111.279999  112.750000  110.730003  111.230003  111.230003   \n",
            "4  2020-01-08  111.540001  113.769997  111.419998  112.919998  112.919998   \n",
            "\n",
            "    Volume  \n",
            "0  1870600  \n",
            "1  2695100  \n",
            "2  3186200  \n",
            "3  1673100  \n",
            "4  1735300  \n",
            "Processing file: PWR.csv\n",
            "         Date       Open       High        Low      Close  Adj Close   Volume\n",
            "0  2020-01-02  41.070000  41.189999  40.520000  41.090000  40.821842  1030700\n",
            "1  2020-01-03  40.580002  40.950001  40.520000  40.860001  40.593342  1506800\n",
            "2  2020-01-06  40.570000  40.900002  40.380001  40.869999  40.603275  1631000\n",
            "3  2020-01-07  41.070000  41.220001  40.299999  40.680000  40.414520  1723300\n",
            "4  2020-01-08  40.669998  40.790001  40.349998  40.599998  40.335033   970000\n",
            "Processing file: QCOM.csv\n",
            "         Date       Open       High        Low      Close  Adj Close   Volume\n",
            "0  2020-01-02  89.050003  89.809998  88.080002  88.690002  85.231812  8413900\n",
            "1  2020-01-03  87.260002  87.639999  86.440002  87.019997  83.626938  8340300\n",
            "2  2020-01-06  85.910004  86.550003  85.540001  86.510002  83.136826  8381400\n",
            "3  2020-01-07  87.040001  89.489998  86.910004  88.970001  85.500908  8377400\n",
            "4  2020-01-08  88.900002  89.470001  87.919998  88.709999  85.251038  7619900\n",
            "Processing file: DGX.csv\n",
            "         Date        Open        High         Low       Close   Adj Close  \\\n",
            "0  2020-01-02  106.760002  106.820000  104.970001  105.730003  101.523849   \n",
            "1  2020-01-03  104.269997  105.699997  104.089996  105.110001  100.928513   \n",
            "2  2020-01-06  104.849998  105.739998  104.720001  105.680000  101.475830   \n",
            "3  2020-01-07  104.400002  104.809998  103.989998  104.470001  100.313980   \n",
            "4  2020-01-08  104.000000  105.410004  103.370003  104.900002  100.726868   \n",
            "\n",
            "    Volume  \n",
            "0  1020900  \n",
            "1   679100  \n",
            "2   505200  \n",
            "3   629400  \n",
            "4   700900  \n",
            "Processing file: RL.csv\n",
            "         Date        Open        High         Low       Close   Adj Close  \\\n",
            "0  2020-01-02  117.949997  118.940002  116.919998  118.790001  116.245575   \n",
            "1  2020-01-03  116.500000  118.410004  116.470001  118.160004  115.629074   \n",
            "2  2020-01-06  116.660004  119.870003  116.660004  119.809998  117.243729   \n",
            "3  2020-01-07  119.940002  121.559998  119.250000  120.330002  117.752602   \n",
            "4  2020-01-08  120.800003  121.480003  118.930000  120.000000  117.429657   \n",
            "\n",
            "    Volume  \n",
            "0   781100  \n",
            "1   551700  \n",
            "2  1085100  \n",
            "3   652400  \n",
            "4   720900  \n",
            "Processing file: RJF.csv\n",
            "         Date       Open       High        Low      Close  Adj Close   Volume\n",
            "0  2020-01-02  60.020000  60.526669  59.513332  60.520000  58.768826  1137600\n",
            "1  2020-01-03  59.560001  59.713333  59.033333  59.480000  57.758923   830400\n",
            "2  2020-01-06  58.906666  59.393333  58.546665  59.240002  57.525867   827850\n",
            "3  2020-01-07  59.240002  60.186668  59.193333  59.866669  58.134399  1007700\n",
            "4  2020-01-08  59.966667  61.160000  59.793331  61.033333  59.267300  1513650\n",
            "Processing file: RTN.csv\n",
            "Empty DataFrame\n",
            "Columns: [Date, Open, High, Low, Close, Adj Close, Volume]\n",
            "Index: []\n",
            "Processing file: O.csv\n",
            "         Date       Open       High        Low      Close  Adj Close   Volume\n",
            "0  2020-01-02  73.849998  74.000000  71.930000  72.480003  66.829445  1997600\n",
            "1  2020-01-03  72.190002  73.900002  72.110001  73.790001  68.037308  1769600\n",
            "2  2020-01-06  73.650002  74.459999  73.320000  74.160004  68.378471  1283000\n",
            "3  2020-01-07  74.699997  74.699997  73.339996  74.180000  68.396904  1560500\n",
            "4  2020-01-08  74.279999  74.639999  73.919998  74.519997  68.710403  1853500\n",
            "Processing file: REG.csv\n",
            "         Date       Open       High        Low  Close  Adj Close  Volume\n",
            "0  2020-01-02  63.470001  63.470001  61.529999  61.68  56.941391  759300\n",
            "1  2020-01-03  61.610001  62.490002  61.389999  62.41  57.615307  833500\n",
            "2  2020-01-06  62.430000  63.009998  62.169998  62.57  57.763016  618300\n",
            "3  2020-01-07  62.400002  62.410000  61.270000  61.68  56.941391  557100\n",
            "4  2020-01-08  61.799999  62.509998  61.660000  62.18  57.402981  767700\n",
            "Processing file: REGN.csv\n",
            "         Date        Open        High         Low       Close   Adj Close  \\\n",
            "0  2020-01-02  378.000000  379.000000  369.239990  373.350006  373.350006   \n",
            "1  2020-01-03  368.209991  372.350006  367.049988  369.160004  369.160004   \n",
            "2  2020-01-06  368.230011  372.140015  364.500000  371.739990  371.739990   \n",
            "3  2020-01-07  371.559998  373.829987  368.019989  373.130005  373.130005   \n",
            "4  2020-01-08  373.179993  384.850006  370.709991  382.420013  382.420013   \n",
            "\n",
            "   Volume  \n",
            "0  512400  \n",
            "1  500800  \n",
            "2  690800  \n",
            "3  736400  \n",
            "4  743100  \n",
            "Processing file: RF.csv\n",
            "         Date       Open       High        Low      Close  Adj Close   Volume\n",
            "0  2020-01-02  17.260000  17.299999  17.010000  17.090000  15.953280  8972200\n",
            "1  2020-01-03  16.820000  16.879999  16.629999  16.770000  15.654566  8382600\n",
            "2  2020-01-06  16.570000  16.600000  16.440001  16.580000  15.477202  7579200\n",
            "3  2020-01-07  16.500000  16.530001  16.280001  16.350000  15.262502  9229600\n",
            "4  2020-01-08  16.370001  16.580000  16.350000  16.450001  15.355848  7741800\n",
            "Processing file: RSG.csv\n",
            "         Date       Open       High        Low      Close  Adj Close   Volume\n",
            "0  2020-01-02  89.720001  89.839996  88.769997  89.830002  87.072647  1688500\n",
            "1  2020-01-03  89.190002  90.400002  89.059998  90.209999  87.440979  1362400\n",
            "2  2020-01-06  90.000000  90.639999  89.730003  90.599998  87.819008   988700\n",
            "3  2020-01-07  90.430000  90.449997  89.930000  90.129997  87.363441   772900\n",
            "4  2020-01-08  90.220001  90.480003  89.839996  90.209999  87.440979  1337400\n",
            "Processing file: RMD.csv\n",
            "         Date        Open        High         Low       Close   Adj Close  \\\n",
            "0  2020-01-02  155.399994  156.169998  154.039993  156.110001  153.949860   \n",
            "1  2020-01-03  154.089996  155.940002  153.119995  155.289993  153.141235   \n",
            "2  2020-01-06  154.960007  156.119995  153.850006  156.029999  153.870987   \n",
            "3  2020-01-07  155.009995  156.089996  154.729996  155.149994  153.003159   \n",
            "4  2020-01-08  155.729996  157.500000  154.179993  156.270004  154.107681   \n",
            "\n",
            "   Volume  \n",
            "0  444200  \n",
            "1  417200  \n",
            "2  449100  \n",
            "3  351400  \n",
            "4  474800  \n",
            "Processing file: RHI.csv\n",
            "         Date       Open       High        Low      Close  Adj Close   Volume\n",
            "0  2020-01-02  63.450001  63.750000  62.810001  63.750000  61.445431   864800\n",
            "1  2020-01-03  62.599998  63.360001  62.549999  63.310001  61.021339  1667700\n",
            "2  2020-01-06  62.770000  63.090000  62.509998  62.810001  60.539413   991300\n",
            "3  2020-01-07  63.009998  63.180000  62.480000  62.849998  60.577969  1239700\n",
            "4  2020-01-08  62.880001  63.459999  62.770000  62.919998  60.645435  1025200\n",
            "Processing file: ROK.csv\n",
            "         Date        Open        High         Low       Close   Adj Close  \\\n",
            "0  2020-01-02  203.820007  205.639999  202.600006  205.639999  199.337646   \n",
            "1  2020-01-03  201.910004  203.229996  200.509995  202.639999  196.429596   \n",
            "2  2020-01-06  201.479996  204.320007  200.919998  204.250000  197.990265   \n",
            "3  2020-01-07  204.500000  205.270004  202.250000  203.830002  197.583115   \n",
            "4  2020-01-08  202.779999  206.800003  200.520004  205.380005  199.085632   \n",
            "\n",
            "    Volume  \n",
            "0   638200  \n",
            "1   542600  \n",
            "2  1006900  \n",
            "3   708700  \n",
            "4   671100  \n",
            "Processing file: ROL.csv\n",
            "         Date       Open       High        Low      Close  Adj Close   Volume\n",
            "0  2020-01-02  22.160000  22.393333  22.059999  22.226667  21.869173  2978700\n",
            "1  2020-01-03  21.993334  22.173332  21.840000  22.153334  21.797018  1647300\n",
            "2  2020-01-06  22.059999  22.193333  21.866667  22.153334  21.797018  1316550\n",
            "3  2020-01-07  22.106667  22.266666  21.933332  22.166668  21.810141  2470050\n",
            "4  2020-01-08  22.146667  22.226667  21.993334  22.146667  21.790462  1995150\n",
            "Processing file: ROP.csv\n",
            "         Date        Open        High         Low       Close   Adj Close  \\\n",
            "0  2020-01-02  353.929993  365.170013  353.929993  365.170013  361.230927   \n",
            "1  2020-01-03  359.429993  363.359985  358.459991  363.029999  359.114044   \n",
            "2  2020-01-06  359.420013  359.989990  356.109985  359.609985  355.730896   \n",
            "3  2020-01-07  358.709991  361.730011  356.579987  361.440002  357.541199   \n",
            "4  2020-01-08  361.779999  366.000000  359.390015  364.869995  361.447174   \n",
            "\n",
            "   Volume  \n",
            "0  754400  \n",
            "1  479300  \n",
            "2  587800  \n",
            "3  404600  \n",
            "4  453300  \n",
            "Processing file: ROST.csv\n",
            "         Date        Open        High         Low       Close   Adj Close  \\\n",
            "0  2020-01-02  116.480003  116.839996  115.470001  116.830002  115.640930   \n",
            "1  2020-01-03  115.430000  117.000000  115.199997  116.860001  115.670624   \n",
            "2  2020-01-06  116.250000  117.480003  115.639999  117.430000  116.234818   \n",
            "3  2020-01-07  117.010002  118.879997  116.540001  118.800003  117.590881   \n",
            "4  2020-01-08  119.110001  120.089996  118.949997  119.150002  117.937317   \n",
            "\n",
            "    Volume  \n",
            "0  1722500  \n",
            "1  1486500  \n",
            "2  1573600  \n",
            "3  1961900  \n",
            "4  1565200  \n",
            "Processing file: RCL.csv\n",
            "         Date        Open        High         Low       Close   Adj Close  \\\n",
            "0  2020-01-02  134.550003  134.800003  133.470001  134.649994  133.326569   \n",
            "1  2020-01-03  132.789993  133.619995  131.809998  133.490005  132.177979   \n",
            "2  2020-01-06  131.589996  131.869995  130.389999  131.630005  130.336258   \n",
            "3  2020-01-07  131.080002  132.100006  130.440002  130.440002  129.157959   \n",
            "4  2020-01-08  130.350006  132.710007  130.020004  132.220001  130.920456   \n",
            "\n",
            "    Volume  \n",
            "0  1014400  \n",
            "1  1229400  \n",
            "2  1518000  \n",
            "3  1211400  \n",
            "4  1429600  \n",
            "Processing file: SPGI.csv\n",
            "         Date        Open        High         Low       Close   Adj Close  \\\n",
            "0  2020-01-02  274.570007  277.899994  273.720001  277.839996  273.863312   \n",
            "1  2020-01-03  274.549988  278.200012  274.029999  276.910004  272.946625   \n",
            "2  2020-01-06  275.600006  279.070007  274.769989  279.040009  275.046143   \n",
            "3  2020-01-07  283.119995  286.690002  280.970001  280.980011  276.958405   \n",
            "4  2020-01-08  281.929993  286.809998  281.130005  285.010010  280.930695   \n",
            "\n",
            "    Volume  \n",
            "0  1092300  \n",
            "1   576800  \n",
            "2   875100  \n",
            "3  1253700  \n",
            "4  1004500  \n",
            "Processing file: CRM.csv\n",
            "         Date        Open        High         Low       Close   Adj Close  \\\n",
            "0  2020-01-02  163.919998  167.070007  163.580002  166.990005  166.990005   \n",
            "1  2020-01-03  165.059998  166.770004  165.000000  166.169998  166.169998   \n",
            "2  2020-01-06  165.000000  173.669998  164.449997  173.449997  173.449997   \n",
            "3  2020-01-07  173.229996  176.869995  172.089996  176.000000  176.000000   \n",
            "4  2020-01-08  175.229996  178.850006  174.750000  177.330002  177.330002   \n",
            "\n",
            "    Volume  \n",
            "0  5189300  \n",
            "1  3205400  \n",
            "2  8836200  \n",
            "3  8272700  \n",
            "4  7225100  \n",
            "Processing file: SBAC.csv\n",
            "         Date        Open        High         Low       Close   Adj Close  \\\n",
            "0  2020-01-02  241.149994  242.270004  237.179993  238.869995  235.943542   \n",
            "1  2020-01-03  237.710007  241.800003  237.710007  241.029999  238.077118   \n",
            "2  2020-01-06  241.029999  242.000000  238.000000  241.250000  238.294403   \n",
            "3  2020-01-07  241.080002  241.500000  235.500000  237.449997  234.540955   \n",
            "4  2020-01-08  237.820007  241.059998  237.460007  240.029999  237.089355   \n",
            "\n",
            "   Volume  \n",
            "0  555800  \n",
            "1  787400  \n",
            "2  810600  \n",
            "3  539300  \n",
            "4  547800  \n",
            "Processing file: SLB.csv\n",
            "         Date       Open       High        Low      Close  Adj Close    Volume\n",
            "0  2020-01-02  40.520000  40.720001  40.080002  40.169998  38.317852   9147400\n",
            "1  2020-01-03  41.000000  41.139999  40.000000  40.560001  38.689877   9752000\n",
            "2  2020-01-06  40.610001  41.080002  40.189999  40.820000  38.937881  15534100\n",
            "3  2020-01-07  40.529999  40.610001  39.730000  40.610001  38.737572  10971700\n",
            "4  2020-01-08  40.279999  40.439999  39.310001  39.410000  37.592899  11327600\n",
            "Processing file: STX.csv\n",
            "         Date       Open       High        Low      Close  Adj Close   Volume\n",
            "0  2020-01-02  59.810001  60.639999  59.770000  60.500000  56.000416  2018200\n",
            "1  2020-01-03  59.860001  60.049999  58.810001  58.910000  54.528675  1649700\n",
            "2  2020-01-06  58.400002  58.709999  57.900002  58.209999  53.880733  1995900\n",
            "3  2020-01-07  58.500000  59.040001  58.020000  58.910000  54.528675  1914400\n",
            "4  2020-01-08  58.900002  59.900002  58.490002  59.369999  54.954456  2541200\n",
            "Processing file: SEE.csv\n",
            "         Date       Open       High        Low      Close  Adj Close   Volume\n",
            "0  2020-01-02  40.029999  40.060001  38.680000  38.869999  37.807434  1403600\n",
            "1  2020-01-03  38.290001  38.560001  38.130001  38.259998  37.214115  1144700\n",
            "2  2020-01-06  38.099998  38.290001  37.799999  37.959999  36.922321  1427900\n",
            "3  2020-01-07  37.880001  38.380001  37.509998  37.509998  36.484615  1494800\n",
            "4  2020-01-08  37.520000  38.009998  37.220001  37.939999  36.902859  1241500\n",
            "Processing file: SRE.csv\n",
            "         Date        Open        High         Low       Close   Adj Close  \\\n",
            "0  2020-01-02  151.330002  151.490005  148.479996  149.119995  140.230743   \n",
            "1  2020-01-03  148.789993  149.429993  147.669998  147.759995  138.951828   \n",
            "2  2020-01-06  147.740005  149.139999  147.740005  149.000000  140.117920   \n",
            "3  2020-01-07  148.350006  149.320007  147.610001  148.880005  140.005051   \n",
            "4  2020-01-08  149.330002  150.479996  149.009995  149.899994  140.964233   \n",
            "\n",
            "    Volume  \n",
            "0  1262100  \n",
            "1  1264900  \n",
            "2  1107200  \n",
            "3  1210600  \n",
            "4  1255000  \n",
            "Processing file: NOW.csv\n",
            "         Date        Open        High         Low       Close   Adj Close  \\\n",
            "0  2020-01-02  284.959991  291.679993  284.220001  291.239990  291.239990   \n",
            "1  2020-01-03  286.899994  293.059998  286.500000  291.100006  291.100006   \n",
            "2  2020-01-06  285.190002  293.410004  284.600006  292.869995  292.869995   \n",
            "3  2020-01-07  293.220001  294.579987  288.029999  292.910004  292.910004   \n",
            "4  2020-01-08  294.559998  297.690002  293.239990  295.649994  295.649994   \n",
            "\n",
            "    Volume  \n",
            "0  1831100  \n",
            "1  1135800  \n",
            "2  1474000  \n",
            "3  1438400  \n",
            "4  1740800  \n",
            "Processing file: SHW.csv\n",
            "         Date        Open        High         Low       Close   Adj Close  \\\n",
            "0  2020-01-02  195.016663  195.039993  189.580002  190.616669  187.773148   \n",
            "1  2020-01-03  188.446671  190.509995  188.096664  188.149994  185.343231   \n",
            "2  2020-01-06  187.410004  188.573334  186.973328  187.803329  185.001755   \n",
            "3  2020-01-07  188.566666  188.713333  186.463333  186.786667  184.000244   \n",
            "4  2020-01-08  187.346664  190.110001  187.000000  189.759995  186.929199   \n",
            "\n",
            "    Volume  \n",
            "0  1945800  \n",
            "1  1635600  \n",
            "2  1926600  \n",
            "3  1803600  \n",
            "4  1886400  \n",
            "Processing file: SPG.csv\n",
            "         Date        Open        High         Low       Close   Adj Close  \\\n",
            "0  2020-01-02  149.410004  149.759995  144.850006  145.089996  130.958130   \n",
            "1  2020-01-03  144.289993  145.979996  144.000000  145.350006  131.192825   \n",
            "2  2020-01-06  145.089996  146.869995  144.490005  146.110001  131.878784   \n",
            "3  2020-01-07  144.639999  145.490005  143.509995  144.449997  130.380478   \n",
            "4  2020-01-08  144.910004  146.059998  144.029999  145.399994  131.237946   \n",
            "\n",
            "    Volume  \n",
            "0  1849300  \n",
            "1  1308200  \n",
            "2  1026700  \n",
            "3  1621600  \n",
            "4  1397600  \n",
            "Processing file: SWKS.csv\n",
            "         Date        Open        High         Low       Close   Adj Close  \\\n",
            "0  2020-01-02  122.010002  122.400002  119.709999  121.669998  118.838058   \n",
            "1  2020-01-03  119.910004  120.889999  117.650002  118.650002  115.888336   \n",
            "2  2020-01-06  117.040001  117.459999  115.080002  116.559998  113.846985   \n",
            "3  2020-01-07  117.169998  118.480003  116.300003  117.669998  114.931152   \n",
            "4  2020-01-08  118.080002  120.870003  117.589996  119.540001  116.757637   \n",
            "\n",
            "    Volume  \n",
            "0  2351900  \n",
            "1  2339000  \n",
            "2  3177000  \n",
            "3  2055800  \n",
            "4  2139000  \n",
            "Processing file: SLG.csv\n",
            "         Date       Open       High        Low      Close  Adj Close   Volume\n",
            "0  2020-01-02  95.139030  95.324409  91.174049  91.565399  80.387840  1138012\n",
            "1  2020-01-03  90.422241  92.059731  90.319260  91.925850  80.704300   821952\n",
            "2  2020-01-06  91.627190  93.594231  91.380020  93.347069  81.952042   614643\n",
            "3  2020-01-07  93.192589  93.192589  91.791969  92.214211  80.957466   608526\n",
            "4  2020-01-08  92.214211  92.914520  91.699280  92.636459  81.328194   593669\n",
            "Processing file: SNA.csv\n",
            "         Date        Open        High         Low       Close   Adj Close  \\\n",
            "0  2020-01-02  170.399994  170.850006  168.020004  169.000000  161.375595   \n",
            "1  2020-01-03  166.089996  167.369995  165.240005  167.089996  159.551758   \n",
            "2  2020-01-06  166.360001  166.449997  164.869995  165.860001  158.377258   \n",
            "3  2020-01-07  165.149994  165.630005  163.639999  164.789993  157.355515   \n",
            "4  2020-01-08  165.250000  167.350006  164.970001  166.610001  159.093430   \n",
            "\n",
            "   Volume  \n",
            "0  467900  \n",
            "1  362500  \n",
            "2  407600  \n",
            "3  438200  \n",
            "4  305000  \n",
            "Processing file: SO.csv\n",
            "         Date       Open       High        Low      Close  Adj Close   Volume\n",
            "0  2020-01-02  63.650002  63.669998  62.419998  62.619999  58.198483  4675900\n",
            "1  2020-01-03  62.529999  62.910000  62.430000  62.560001  58.142727  3531800\n",
            "2  2020-01-06  62.560001  63.000000  62.509998  62.810001  58.375065  3507600\n",
            "3  2020-01-07  62.560001  62.730000  62.240002  62.619999  58.198483  3191700\n",
            "4  2020-01-08  62.700001  62.840000  62.380001  62.599998  58.179897  3413600\n",
            "Processing file: LUV.csv\n",
            "         Date       Open       High        Low      Close  Adj Close   Volume\n",
            "0  2020-01-02  54.380001  54.869999  54.290001  54.840000  54.629749  3713000\n",
            "1  2020-01-03  53.599998  54.419998  53.040001  54.349998  54.141628  3536100\n",
            "2  2020-01-06  53.689999  54.560001  53.480000  54.130001  53.922474  4200300\n",
            "3  2020-01-07  54.330002  54.400002  53.880001  54.290001  54.081860  2997600\n",
            "4  2020-01-08  53.680000  54.660000  53.639999  54.369999  54.161549  4103100\n",
            "Processing file: SWK.csv\n",
            "         Date        Open        High         Low       Close   Adj Close  \\\n",
            "0  2020-01-02  167.160004  168.020004  165.820007  168.020004  163.138870   \n",
            "1  2020-01-03  164.830002  167.539993  164.830002  167.119995  162.264999   \n",
            "2  2020-01-06  165.339996  166.529999  164.699997  166.520004  161.682449   \n",
            "3  2020-01-07  166.610001  167.000000  165.089996  165.190002  160.391083   \n",
            "4  2020-01-08  165.550003  167.050003  164.979996  165.979996  161.158112   \n",
            "\n",
            "    Volume  \n",
            "0  1026000  \n",
            "1   937000  \n",
            "2   958600  \n",
            "3  1144800  \n",
            "4  2367800  \n",
            "Processing file: SBUX.csv\n",
            "         Date       Open       High        Low      Close  Adj Close   Volume\n",
            "0  2020-01-02  88.120003  89.349998  88.050003  89.349998  86.492142  6473800\n",
            "1  2020-01-03  88.660004  89.099998  88.099998  88.830002  85.988777  4874100\n",
            "2  2020-01-06  88.110001  88.410004  87.470001  88.129997  85.311157  5409800\n",
            "3  2020-01-07  87.959999  88.029999  87.129997  87.860001  85.049797  6514700\n",
            "4  2020-01-08  87.940002  89.349998  87.779999  88.879997  86.037170  7296300\n",
            "Processing file: STT.csv\n",
            "         Date       Open       High        Low      Close  Adj Close   Volume\n",
            "0  2020-01-02  79.360001  80.769997  79.199997  80.760002  76.552696  1942000\n",
            "1  2020-01-03  79.800003  79.940002  79.040001  79.570000  75.424698  1511000\n",
            "2  2020-01-06  79.949997  80.870003  79.250000  80.790001  76.581139  2214800\n",
            "3  2020-01-07  81.379997  82.000000  81.010002  81.910004  77.642784  3139200\n",
            "4  2020-01-08  81.919998  82.309998  81.059998  81.489998  77.244675  1941200\n",
            "Processing file: STE.csv\n",
            "         Date        Open        High         Low       Close   Adj Close  \\\n",
            "0  2020-01-02  152.580002  153.210007  150.529999  151.699997  149.369278   \n",
            "1  2020-01-03  149.429993  151.500000  149.199997  150.630005  148.315704   \n",
            "2  2020-01-06  150.500000  152.130005  150.229996  151.619995  149.290497   \n",
            "3  2020-01-07  150.710007  151.710007  150.610001  151.039993  148.719421   \n",
            "4  2020-01-08  151.600006  152.009995  150.419998  150.949997  148.630783   \n",
            "\n",
            "   Volume  \n",
            "0  641200  \n",
            "1  638000  \n",
            "2  581900  \n",
            "3  429900  \n",
            "4  839000  \n",
            "Processing file: SYK.csv\n",
            "         Date        Open        High         Low       Close   Adj Close  \\\n",
            "0  2020-01-02  210.940002  211.000000  208.210007  210.449997  206.341782   \n",
            "1  2020-01-03  207.000000  210.570007  207.000000  209.589996  205.498596   \n",
            "2  2020-01-06  209.199997  213.070007  208.229996  212.220001  208.077255   \n",
            "3  2020-01-07  210.029999  210.850006  207.110001  209.619995  205.528000   \n",
            "4  2020-01-08  210.559998  212.009995  209.220001  210.690002  206.577118   \n",
            "\n",
            "    Volume  \n",
            "0  1092600  \n",
            "1   801600  \n",
            "2  1294500  \n",
            "3  1077500  \n",
            "4  1019100  \n",
            "Processing file: SIVB.csv\n",
            "         Date        Open        High         Low       Close   Adj Close  \\\n",
            "0  2020-01-02  252.649994  254.270004  249.669998  254.270004  254.270004   \n",
            "1  2020-01-03  247.960007  251.119995  246.800003  250.330002  250.330002   \n",
            "2  2020-01-06  246.839996  249.800003  245.059998  249.240005  249.240005   \n",
            "3  2020-01-07  248.660004  251.119995  247.580002  250.399994  250.399994   \n",
            "4  2020-01-08  249.820007  254.119995  249.130005  252.779999  252.779999   \n",
            "\n",
            "   Volume  \n",
            "0  261800  \n",
            "1  476500  \n",
            "2  490800  \n",
            "3  506500  \n",
            "4  502000  \n",
            "Processing file: SYF.csv\n",
            "         Date       Open       High        Low      Close  Adj Close   Volume\n",
            "0  2020-01-02  36.139999  36.240002  36.029999  36.209999  34.226234  3568100\n",
            "1  2020-01-03  35.669998  35.974998  35.549999  35.689999  33.734722  3993900\n",
            "2  2020-01-06  35.340000  35.680000  35.209999  35.680000  33.725277  5145900\n",
            "3  2020-01-07  35.509998  35.584999  35.160000  35.180000  33.252670  3113300\n",
            "4  2020-01-08  35.220001  35.654999  35.200001  35.450001  33.507874  4736700\n",
            "Processing file: SNPS.csv\n",
            "         Date        Open        High         Low       Close   Adj Close  \\\n",
            "0  2020-01-02  140.309998  142.929993  139.839996  142.869995  142.869995   \n",
            "1  2020-01-03  141.100006  142.089996  140.050003  141.759995  141.759995   \n",
            "2  2020-01-06  140.520004  142.160004  139.699997  141.979996  141.979996   \n",
            "3  2020-01-07  141.179993  143.479996  140.320007  142.960007  142.960007   \n",
            "4  2020-01-08  143.199997  146.600006  142.559998  145.860001  145.860001   \n",
            "\n",
            "    Volume  \n",
            "0  1095100  \n",
            "1   834800  \n",
            "2   924800  \n",
            "3   701100  \n",
            "4  1241800  \n",
            "Processing file: SYY.csv\n",
            "         Date       Open       High        Low      Close  Adj Close   Volume\n",
            "0  2020-01-02  85.059998  85.129997  83.980003  84.660004  80.546677  2121900\n",
            "1  2020-01-03  84.199997  84.720001  83.930000  84.349998  80.251747  1759900\n",
            "2  2020-01-06  84.150002  84.250000  83.500000  84.239998  80.147087  1916800\n",
            "3  2020-01-07  84.239998  84.349998  83.400002  83.559998  79.500122  1701400\n",
            "4  2020-01-08  83.889999  84.959999  83.620003  84.529999  80.423004  2945900\n",
            "Processing file: TMUS.csv\n",
            "         Date       Open       High        Low      Close  Adj Close   Volume\n",
            "0  2020-01-02  78.879997  78.889999  77.930000  78.589996  78.589996  3392700\n",
            "1  2020-01-03  78.059998  78.430000  77.470001  78.169998  78.169998  1831900\n",
            "2  2020-01-06  78.129997  78.849998  77.970001  78.620003  78.620003  2675300\n",
            "3  2020-01-07  78.570000  79.510002  78.150002  78.919998  78.919998  3262400\n",
            "4  2020-01-08  79.220001  79.790001  78.080002  79.419998  79.419998  3037400\n",
            "Processing file: TROW.csv\n",
            "         Date        Open        High         Low       Close   Adj Close  \\\n",
            "0  2020-01-02  122.349998  125.169998  122.250000  125.160004  117.543587   \n",
            "1  2020-01-03  123.900002  125.540001  123.110001  124.750000  117.158531   \n",
            "2  2020-01-06  124.160004  125.570000  123.279999  125.519997  117.881668   \n",
            "3  2020-01-07  125.419998  126.669998  125.250000  126.019997  118.351250   \n",
            "4  2020-01-08  126.500000  128.000000  126.250000  127.220001  119.478226   \n",
            "\n",
            "    Volume  \n",
            "0  1399600  \n",
            "1   958800  \n",
            "2   771300  \n",
            "3   826700  \n",
            "4   751100  \n",
            "Processing file: TTWO.csv\n",
            "         Date        Open        High         Low       Close   Adj Close  \\\n",
            "0  2020-01-02  123.529999  123.980003  121.400002  122.080002  122.080002   \n",
            "1  2020-01-03  120.440002  122.500000  120.279999  122.209999  122.209999   \n",
            "2  2020-01-06  122.019997  125.129997  121.550003  124.690002  124.690002   \n",
            "3  2020-01-07  124.589996  126.470001  123.669998  125.510002  125.510002   \n",
            "4  2020-01-08  125.959999  129.000000  124.820000  127.820000  127.820000   \n",
            "\n",
            "    Volume  \n",
            "0  1114200  \n",
            "1   729100  \n",
            "2  1678700  \n",
            "3  1179300  \n",
            "4  1665900  \n",
            "Processing file: TPR.csv\n",
            "         Date       Open       High    Low      Close  Adj Close   Volume\n",
            "0  2020-01-02  27.160000  27.320000  26.58  26.930000  26.392441  3823600\n",
            "1  2020-01-03  26.510000  26.930000  26.43  26.920000  26.382639  3511200\n",
            "2  2020-01-06  26.670000  27.299999  26.60  27.260000  26.715853  4040500\n",
            "3  2020-01-07  27.299999  27.809999  27.08  27.520000  26.970663  2752900\n",
            "4  2020-01-08  27.680000  27.959999  27.26  27.700001  27.147070  3624100\n",
            "Processing file: TGT.csv\n",
            "         Date        Open        High         Low       Close   Adj Close  \\\n",
            "0  2020-01-02  128.740005  128.899994  125.260002  126.070000  122.314171   \n",
            "1  2020-01-03  124.660004  125.529999  123.930000  124.760002  121.043205   \n",
            "2  2020-01-06  123.970001  124.650002  123.220001  123.580002  119.898346   \n",
            "3  2020-01-07  123.000000  124.430000  123.000000  123.800003  120.111809   \n",
            "4  2020-01-08  124.050003  125.250000  123.339996  123.400002  119.723709   \n",
            "\n",
            "    Volume  \n",
            "0  5149800  \n",
            "1  5018500  \n",
            "2  4226900  \n",
            "3  3641600  \n",
            "4  5731600  \n",
            "Processing file: TEL.csv\n",
            "         Date       Open       High        Low      Close  Adj Close   Volume\n",
            "0  2020-01-02  96.849998  97.089996  95.739998  96.510002  93.527557  1866500\n",
            "1  2020-01-03  94.959999  95.570000  94.550003  95.370003  92.422775  1439800\n",
            "2  2020-01-06  94.800003  95.269997  94.440002  94.709999  91.783165  1150100\n",
            "3  2020-01-07  94.379997  96.839996  93.879997  96.669998  93.682610  2103400\n",
            "4  2020-01-08  96.959999  98.160004  96.860001  97.669998  94.651695  2001000\n",
            "Processing file: FTI.csv\n",
            "         Date       Open       High        Low      Close  Adj Close   Volume\n",
            "0  2020-01-02  15.959821  16.034225  15.751488  15.870536  15.543049  4583712\n",
            "1  2020-01-03  15.989583  16.101191  15.840774  16.056547  15.725222  3694925\n",
            "2  2020-01-06  16.086309  16.250000  15.922619  16.168156  15.834528  3733498\n",
            "3  2020-01-07  15.989583  16.004463  15.535714  15.781250  15.455606  4466515\n",
            "4  2020-01-08  15.364583  15.491071  15.156250  15.245536  14.930946  5822611\n",
            "Processing file: TFX.csv\n",
            "         Date        Open        High         Low       Close   Adj Close  \\\n",
            "0  2020-01-02  376.769989  379.670013  373.480011  378.489990  376.028595   \n",
            "1  2020-01-03  372.820007  377.420013  371.640015  374.619995  372.183746   \n",
            "2  2020-01-06  373.339996  380.359985  372.070007  378.989990  376.525330   \n",
            "3  2020-01-07  377.010010  381.410004  375.929993  378.410004  375.949127   \n",
            "4  2020-01-08  379.760010  381.959991  378.850006  379.459991  376.992279   \n",
            "\n",
            "   Volume  \n",
            "0  262900  \n",
            "1  167700  \n",
            "2  170000  \n",
            "3  127300  \n",
            "4  178100  \n",
            "Processing file: TXN.csv\n",
            "         Date        Open        High         Low       Close   Adj Close  \\\n",
            "0  2020-01-02  129.130005  129.610001  127.769997  129.570007  122.973526   \n",
            "1  2020-01-03  127.459999  129.250000  127.230003  127.849998  121.341080   \n",
            "2  2020-01-06  127.059998  127.330002  125.900002  126.959999  120.496399   \n",
            "3  2020-01-07  129.149994  130.899994  128.419998  129.410004  122.821671   \n",
            "4  2020-01-08  129.339996  130.570007  129.059998  129.759995  123.153847   \n",
            "\n",
            "    Volume  \n",
            "0  4614000  \n",
            "1  4057200  \n",
            "2  4345400  \n",
            "3  7184100  \n",
            "4  3546900  \n",
            "Processing file: TXT.csv\n",
            "         Date       Open       High        Low      Close  Adj Close   Volume\n",
            "0  2020-01-02  45.049999  45.500000  44.610001  45.480000  45.338665  1570200\n",
            "1  2020-01-03  44.830002  45.250000  44.500000  44.740002  44.600964  1670600\n",
            "2  2020-01-06  44.610001  44.799999  44.330002  44.779999  44.640831  1333100\n",
            "3  2020-01-07  44.349998  44.959999  44.139999  44.759998  44.620899  1024500\n",
            "4  2020-01-08  44.660000  44.860001  44.110001  44.169998  44.032730  2072500\n",
            "Processing file: TMO.csv\n",
            "         Date        Open        High         Low       Close   Adj Close  \\\n",
            "0  2020-01-02  326.000000  326.940002  322.570007  326.369995  325.064819   \n",
            "1  2020-01-03  321.480011  325.290009  321.329987  322.820007  321.529083   \n",
            "2  2020-01-06  319.839996  325.329987  318.649994  325.140015  323.839783   \n",
            "3  2020-01-07  325.429993  329.239990  324.980011  326.980011  325.672424   \n",
            "4  2020-01-08  326.179993  330.589996  325.220001  327.500000  326.190308   \n",
            "\n",
            "    Volume  \n",
            "0  1173300  \n",
            "1   819600  \n",
            "2  1010000  \n",
            "3   917700  \n",
            "4   939100  \n",
            "Processing file: TIF.csv\n",
            "Empty DataFrame\n",
            "Columns: [Date, Open, High, Low, Close, Adj Close, Volume]\n",
            "Index: []\n",
            "Processing file: TJX.csv\n",
            "         Date       Open       High        Low      Close  Adj Close   Volume\n",
            "0  2020-01-02  61.330002  61.700001  61.060001  61.700001  60.797939  5190200\n",
            "1  2020-01-03  61.049999  61.570000  60.770000  61.240002  60.344662  3229200\n",
            "2  2020-01-06  61.200001  61.639999  60.910000  61.630001  60.728962  5223000\n",
            "3  2020-01-07  61.230000  61.669998  61.139999  61.590000  60.689545  4586700\n",
            "4  2020-01-08  61.730000  62.389999  61.730000  61.919998  61.014717  3658100\n",
            "Processing file: TSCO.csv\n",
            "         Date       Open       High        Low      Close  Adj Close   Volume\n",
            "0  2020-01-02  93.690002  94.089996  92.470001  93.110001  91.177505  1068900\n",
            "1  2020-01-03  92.620003  92.870003  91.760002  91.959999  90.051376  1527300\n",
            "2  2020-01-06  91.129997  91.650002  90.160004  91.650002  89.747818  1393400\n",
            "3  2020-01-07  90.769997  91.639999  88.279999  90.010002  88.141853  2721700\n",
            "4  2020-01-08  90.019997  92.190002  90.019997  91.709999  89.806557  1449500\n",
            "Processing file: TDG.csv\n",
            "         Date        Open        High         Low       Close   Adj Close  \\\n",
            "0  2020-01-02  560.799988  567.440002  559.099976  567.440002  567.440002   \n",
            "1  2020-01-03  561.340027  578.409973  561.340027  577.840027  577.840027   \n",
            "2  2020-01-06  576.989990  585.429993  574.710022  584.799988  584.799988   \n",
            "3  2020-01-07  583.369995  589.340027  580.750000  587.000000  587.000000   \n",
            "4  2020-01-08  590.919983  590.919983  583.719971  585.630005  585.630005   \n",
            "\n",
            "   Volume  \n",
            "0  311700  \n",
            "1  278000  \n",
            "2  377700  \n",
            "3  255100  \n",
            "4  409100  \n",
            "Processing file: TRV.csv\n",
            "         Date        Open        High         Low       Close   Adj Close  \\\n",
            "0  2020-01-02  137.520004  137.740005  136.139999  137.509995  131.631378   \n",
            "1  2020-01-03  136.550003  137.369995  136.350006  137.020004  131.162338   \n",
            "2  2020-01-06  136.149994  137.210007  135.639999  137.169998  131.305939   \n",
            "3  2020-01-07  135.889999  136.630005  135.100006  135.160004  129.381866   \n",
            "4  2020-01-08  135.940002  137.699997  135.490005  136.610001  130.769867   \n",
            "\n",
            "    Volume  \n",
            "0  1117300  \n",
            "1   927300  \n",
            "2   952800  \n",
            "3  1204600  \n",
            "4  1942800  \n",
            "Processing file: TFC.csv\n",
            "         Date       Open       High        Low      Close  Adj Close   Volume\n",
            "0  2020-01-02  56.410000  56.680000  55.880001  56.669998  52.989170  5607100\n",
            "1  2020-01-03  56.150002  56.299999  55.660000  56.200001  52.549702  4434300\n",
            "2  2020-01-06  55.490002  55.799999  55.150002  55.730000  52.110226  9669300\n",
            "3  2020-01-07  55.669998  55.669998  55.090000  55.490002  51.885818  5272800\n",
            "4  2020-01-08  55.419998  55.820000  55.310001  55.610001  51.998016  6232700\n",
            "Processing file: TWTR.csv\n",
            "         Date       Open       High        Low      Close  Adj Close    Volume\n",
            "0  2020-01-02  32.310001  32.500000  31.959999  32.299999  32.299999  10721100\n",
            "1  2020-01-03  31.709999  32.099998  31.260000  31.520000  31.520000  14429500\n",
            "2  2020-01-06  31.230000  31.709999  31.160000  31.639999  31.639999  12582500\n",
            "3  2020-01-07  31.799999  32.700001  31.719999  32.540001  32.540001  13712900\n",
            "4  2020-01-08  32.349998  33.400002  32.349998  33.049999  33.049999  14632400\n",
            "Processing file: TSN.csv\n",
            "         Date       Open       High        Low      Close  Adj Close   Volume\n",
            "0  2020-01-02  91.080002  91.610001  89.790001  89.970001  86.099678  2672200\n",
            "1  2020-01-03  90.160004  91.559998  89.910004  90.580002  86.683456  2506100\n",
            "2  2020-01-06  90.220001  90.300003  89.519997  90.150002  86.271942  2262500\n",
            "3  2020-01-07  89.610001  90.639999  88.809998  88.839996  85.018295  2088700\n",
            "4  2020-01-08  89.040001  89.870003  88.680000  89.389999  85.544640  2166400\n",
            "Processing file: UDR.csv\n",
            "         Date       Open       High        Low      Close  Adj Close   Volume\n",
            "0  2020-01-02  46.720001  46.860001  45.759998  46.119999  43.024639  1544300\n",
            "1  2020-01-03  45.950001  46.580002  45.810001  46.490002  43.369804  1434500\n",
            "2  2020-01-06  46.450001  46.590000  46.240002  46.389999  43.276516  1276800\n",
            "3  2020-01-07  46.150002  46.240002  45.599998  45.820000  42.744774  1236200\n",
            "4  2020-01-08  45.980000  46.070000  45.750000  45.880001  42.800755  1783700\n",
            "Processing file: ULTA.csv\n",
            "         Date        Open        High         Low       Close   Adj Close  \\\n",
            "0  2020-01-02  254.320007  254.830002  250.649994  254.550003  254.550003   \n",
            "1  2020-01-03  252.279999  252.479996  249.220001  250.169998  250.169998   \n",
            "2  2020-01-06  248.710007  251.089996  246.740005  250.949997  250.949997   \n",
            "3  2020-01-07  250.410004  254.839996  250.009995  253.089996  253.089996   \n",
            "4  2020-01-08  252.449997  259.179993  252.449997  258.000000  258.000000   \n",
            "\n",
            "    Volume  \n",
            "0  1182300  \n",
            "1   921300  \n",
            "2   880500  \n",
            "3  1157500  \n",
            "4  1123400  \n",
            "Processing file: USB.csv\n",
            "         Date       Open       High        Low      Close  Adj Close   Volume\n",
            "0  2020-01-02  59.470001  59.480000  59.009998  59.200001  55.367607  5002100\n",
            "1  2020-01-03  58.500000  58.810001  58.020000  58.509998  54.722271  5161800\n",
            "2  2020-01-06  57.070000  57.790001  56.820000  57.709999  53.974060  6869200\n",
            "3  2020-01-07  57.529999  57.689999  57.139999  57.160000  53.459663  4006800\n",
            "4  2020-01-08  57.200001  57.509998  57.029999  57.040001  53.347439  5627500\n",
            "Processing file: UAA.csv\n",
            "         Date       Open       High        Low      Close  Adj Close    Volume\n",
            "0  2020-01-02  21.830000  21.830000  21.379999  21.780001  21.780001   4273600\n",
            "1  2020-01-03  21.480000  21.959999  21.400000  21.850000  21.850000   4596600\n",
            "2  2020-01-06  21.510000  21.530001  20.350000  20.440001  20.440001  11133800\n",
            "3  2020-01-07  20.370001  20.830000  20.290001  20.700001  20.700001   6638200\n",
            "4  2020-01-08  20.750000  21.000000  20.309999  20.420000  20.420000   4366300\n",
            "Processing file: UA.csv\n",
            "         Date   Open       High        Low      Close  Adj Close   Volume\n",
            "0  2020-01-02  19.35  19.379999  19.020000  19.240000  19.240000  3271951\n",
            "1  2020-01-03  18.99  19.430000  18.889999  19.270000  19.270000  2711550\n",
            "2  2020-01-06  19.00  19.049999  18.209999  18.370001  18.370001  4200650\n",
            "3  2020-01-07  18.34  18.610001  18.250000  18.590000  18.590000  2544964\n",
            "4  2020-01-08  18.67  18.780001  18.040001  18.160000  18.160000  2479710\n",
            "Processing file: UNP.csv\n",
            "         Date        Open        High         Low       Close   Adj Close  \\\n",
            "0  2020-01-02  180.949997  182.380005  179.970001  182.270004  175.930984   \n",
            "1  2020-01-03  179.539993  181.190002  178.289993  180.979996  174.685806   \n",
            "2  2020-01-06  179.699997  180.080002  177.940002  179.429993  173.189743   \n",
            "3  2020-01-07  179.229996  179.580002  177.610001  178.070007  171.877045   \n",
            "4  2020-01-08  177.889999  181.050003  177.479996  180.020004  173.759232   \n",
            "\n",
            "    Volume  \n",
            "0  2444800  \n",
            "1  2344200  \n",
            "2  3142500  \n",
            "3  4096400  \n",
            "4  2817500  \n",
            "Processing file: UAL.csv\n",
            "         Date       Open       High        Low      Close  Adj Close   Volume\n",
            "0  2020-01-02  89.570000  90.570000  89.110001  89.739998  89.739998  2769800\n",
            "1  2020-01-03  86.800003  88.160004  86.260002  87.900002  87.900002  3562900\n",
            "2  2020-01-06  86.720001  88.070000  86.650002  87.699997  87.699997  2652700\n",
            "3  2020-01-07  87.410004  88.160004  86.739998  86.769997  86.769997  2581300\n",
            "4  2020-01-08  86.900002  88.449997  86.300003  87.300003  87.300003  4152500\n",
            "Processing file: UNH.csv\n",
            "         Date        Open        High         Low       Close   Adj Close  \\\n",
            "0  2020-01-02  293.980011  295.700012  289.790009  292.500000  284.699738   \n",
            "1  2020-01-03  287.269989  291.880005  284.359985  289.540009  281.818634   \n",
            "2  2020-01-06  288.000000  291.660004  287.220001  291.549988  283.775024   \n",
            "3  2020-01-07  290.700012  291.489990  287.579987  289.790009  282.062042   \n",
            "4  2020-01-08  291.500000  297.380005  290.040009  295.899994  288.009064   \n",
            "\n",
            "    Volume  \n",
            "0  2543400  \n",
            "1  2711400  \n",
            "2  3079100  \n",
            "3  2492900  \n",
            "4  3379200  \n",
            "Processing file: UPS.csv\n",
            "         Date        Open        High         Low       Close   Adj Close  \\\n",
            "0  2020-01-02  117.680000  117.970001  115.230003  116.790001  111.195915   \n",
            "1  2020-01-03  114.970001  116.860001  114.839996  116.720001  111.129272   \n",
            "2  2020-01-06  115.449997  116.230003  114.370003  116.199997  110.634163   \n",
            "3  2020-01-07  115.860001  116.440002  115.070000  116.000000  110.443748   \n",
            "4  2020-01-08  115.379997  117.559998  115.320000  116.660004  111.072151   \n",
            "\n",
            "    Volume  \n",
            "0  4158100  \n",
            "1  2477800  \n",
            "2  3381600  \n",
            "3  1952300  \n",
            "4  2016000  \n",
            "Processing file: URI.csv\n",
            "         Date        Open        High         Low       Close   Adj Close  \\\n",
            "0  2020-01-02  168.410004  168.669998  164.410004  168.649994  168.649994   \n",
            "1  2020-01-03  164.990005  166.559998  161.369995  165.710007  165.710007   \n",
            "2  2020-01-06  162.610001  165.690002  162.360001  165.380005  165.380005   \n",
            "3  2020-01-07  165.000000  165.970001  163.630005  165.080002  165.080002   \n",
            "4  2020-01-08  165.309998  166.270004  163.610001  164.809998  164.809998   \n",
            "\n",
            "    Volume  \n",
            "0   861200  \n",
            "1  1089000  \n",
            "2   707500  \n",
            "3   525200  \n",
            "4   688700  \n",
            "Processing file: UTX.csv\n",
            "Empty DataFrame\n",
            "Columns: [Date, Open, High, Low, Close, Adj Close, Volume]\n",
            "Index: []\n",
            "Processing file: UHS.csv\n",
            "         Date        Open        High         Low       Close   Adj Close  \\\n",
            "0  2020-01-02  144.259995  144.259995  141.009995  142.309998  141.514893   \n",
            "1  2020-01-03  140.759995  142.169998  140.100006  141.970001  141.176788   \n",
            "2  2020-01-06  141.110001  142.419998  140.720001  141.860001  141.067413   \n",
            "3  2020-01-07  141.229996  142.949997  140.699997  142.429993  141.634216   \n",
            "4  2020-01-08  142.660004  145.419998  142.270004  145.080002  144.269409   \n",
            "\n",
            "   Volume  \n",
            "0  403400  \n",
            "1  262700  \n",
            "2  434300  \n",
            "3  645700  \n",
            "4  828000  \n",
            "Processing file: UNM.csv\n",
            "         Date       Open       High        Low      Close  Adj Close   Volume\n",
            "0  2020-01-02  29.370001  29.670000  29.139999  29.639999  26.645313  2168600\n",
            "1  2020-01-03  29.180000  29.280001  28.740000  29.059999  26.123913  1862600\n",
            "2  2020-01-06  28.750000  28.879999  28.530001  28.690001  25.791298  2358000\n",
            "3  2020-01-07  28.559999  28.889999  28.379999  28.660000  25.764326  1767900\n",
            "4  2020-01-08  28.719999  29.120001  28.690001  28.910000  25.989071  1689100\n",
            "Processing file: VFC.csv\n",
            "         Date       Open        High        Low       Close  Adj Close  \\\n",
            "0  2020-01-02  99.669998  100.250000  99.480003  100.230003  95.763069   \n",
            "1  2020-01-03  98.900002   99.940002  98.760002   99.599998  95.161133   \n",
            "2  2020-01-06  99.000000   99.430000  98.599998   99.209999  94.788536   \n",
            "3  2020-01-07  99.169998   99.970001  98.559998   98.720001  94.320358   \n",
            "4  2020-01-08  98.000000   98.180000  96.809998   97.040001  92.715233   \n",
            "\n",
            "    Volume  \n",
            "0  2555100  \n",
            "1  1966200  \n",
            "2  1967600  \n",
            "3  1766100  \n",
            "4  2980000  \n",
            "Processing file: VLO.csv\n",
            "         Date       Open       High        Low      Close  Adj Close   Volume\n",
            "0  2020-01-02  94.629997  95.239998  94.260002  95.129997  85.667290  2130500\n",
            "1  2020-01-03  94.349998  94.650002  90.849998  91.519997  82.416374  5057000\n",
            "2  2020-01-06  91.110001  91.989998  90.519997  91.529999  82.425392  3393200\n",
            "3  2020-01-07  91.059998  92.760002  90.309998  92.730003  83.506027  3795500\n",
            "4  2020-01-08  92.519997  93.529999  91.989998  93.089996  83.830208  4101800\n",
            "Processing file: VAR.csv\n",
            "Empty DataFrame\n",
            "Columns: [Date, Open, High, Low, Close, Adj Close, Volume]\n",
            "Index: []\n",
            "Processing file: VTR.csv\n",
            "         Date   Open       High        Low      Close  Adj Close   Volume\n",
            "0  2020-01-02  58.00  58.000000  56.189999  56.389999  51.835396  2224500\n",
            "1  2020-01-03  56.07  57.110001  56.049999  57.070000  52.460468  2966100\n",
            "2  2020-01-06  57.16  57.880001  56.900002  57.660000  53.002811  2276200\n",
            "3  2020-01-07  57.34  57.630001  56.290001  57.180000  52.561581  1578200\n",
            "4  2020-01-08  57.27  57.689999  56.880001  56.900002  52.304203  2002200\n",
            "Processing file: VRSN.csv\n",
            "         Date        Open        High         Low       Close   Adj Close  \\\n",
            "0  2020-01-02  194.910004  197.199997  194.199997  196.729996  196.729996   \n",
            "1  2020-01-03  193.199997  201.460007  193.199997  200.880005  200.880005   \n",
            "2  2020-01-06  199.990005  202.889999  198.589996  202.740005  202.740005   \n",
            "3  2020-01-07  203.339996  204.100006  202.190002  203.210007  203.210007   \n",
            "4  2020-01-08  203.229996  206.630005  201.220001  204.149994  204.149994   \n",
            "\n",
            "   Volume  \n",
            "0  369400  \n",
            "1  912100  \n",
            "2  615700  \n",
            "3  418600  \n",
            "4  705200  \n",
            "Processing file: VRSK.csv\n",
            "         Date        Open        High         Low       Close   Adj Close  \\\n",
            "0  2020-01-02  149.279999  151.130005  148.899994  151.119995  149.451889   \n",
            "1  2020-01-03  150.000000  152.729996  150.000000  152.589996  150.905655   \n",
            "2  2020-01-06  151.839996  153.029999  150.690002  152.940002  151.251801   \n",
            "3  2020-01-07  153.240005  154.929993  153.080002  154.220001  152.517700   \n",
            "4  2020-01-08  154.479996  156.229996  153.960007  155.639999  153.921982   \n",
            "\n",
            "    Volume  \n",
            "0   845100  \n",
            "1   876900  \n",
            "2   656200  \n",
            "3  1514700  \n",
            "4   773100  \n",
            "Processing file: VZ.csv\n",
            "         Date       Open       High        Low      Close  Adj Close    Volume\n",
            "0  2020-01-02  61.380001  61.450001  60.810001  61.049999  55.955547  11447900\n",
            "1  2020-01-03  60.590000  60.790001  60.070000  60.400002  55.359787  13263200\n",
            "2  2020-01-06  60.110001  60.590000  60.080002  60.270000  55.240635  15094500\n",
            "3  2020-01-07  60.099998  60.180000  59.580002  59.599998  54.626545  14293100\n",
            "4  2020-01-08  59.669998  60.099998  59.630001  59.709999  54.727364  15926500\n",
            "Processing file: VRTX.csv\n",
            "         Date        Open        High         Low       Close   Adj Close  \\\n",
            "0  2020-01-02  220.240005  220.649994  216.949997  219.449997  219.449997   \n",
            "1  2020-01-03  216.160004  219.889999  214.550003  217.979996  217.979996   \n",
            "2  2020-01-06  217.729996  224.350006  216.910004  224.029999  224.029999   \n",
            "3  2020-01-07  224.259995  225.919998  222.139999  223.789993  223.789993   \n",
            "4  2020-01-08  225.889999  232.699997  224.910004  231.089996  231.089996   \n",
            "\n",
            "    Volume  \n",
            "0  1334300  \n",
            "1   943400  \n",
            "2  1436600  \n",
            "3  1027700  \n",
            "4  1802600  \n",
            "Processing file: VIAC.csv\n",
            "         Date       Open       High        Low      Close  Adj Close   Volume\n",
            "0  2020-01-02  42.209999  42.349998  41.759998  42.090000  39.852158  5738100\n",
            "1  2020-01-03  41.730000  41.759998  41.070000  41.450001  39.246178  4640100\n",
            "2  2020-01-06  41.490002  42.070000  41.419998  42.060001  39.823746  5700000\n",
            "3  2020-01-07  41.880001  42.180000  41.570000  42.130001  39.890026  5104000\n",
            "4  2020-01-08  42.200001  42.369999  41.430000  41.869999  39.643848  8139300\n",
            "Processing file: V.csv\n",
            "         Date        Open        High         Low       Close   Adj Close  \\\n",
            "0  2020-01-02  189.000000  191.139999  188.720001  191.119995  189.123444   \n",
            "1  2020-01-03  188.410004  190.960007  187.919998  189.600006  187.619339   \n",
            "2  2020-01-06  188.000000  189.210007  187.160004  189.190002  187.213608   \n",
            "3  2020-01-07  189.589996  190.100006  188.600006  188.690002  186.718842   \n",
            "4  2020-01-08  189.490005  192.500000  188.800003  191.919998  189.915085   \n",
            "\n",
            "     Volume  \n",
            "0   8733000  \n",
            "1   4899700  \n",
            "2  10109500  \n",
            "3   4392300  \n",
            "4   5712000  \n",
            "Processing file: VNO.csv\n",
            "         Date       Open       High        Low      Close  Adj Close   Volume\n",
            "0  2020-01-02  66.720001  66.900002  65.190002  65.500000  59.491726  1757500\n",
            "1  2020-01-03  65.080002  66.089996  64.790001  66.010002  59.954952  1110700\n",
            "2  2020-01-06  65.809998  66.989998  65.739998  66.870003  60.736057   891200\n",
            "3  2020-01-07  66.660004  66.779999  65.900002  66.059998  60.000359   804200\n",
            "4  2020-01-08  66.169998  66.349998  65.620003  65.919998  59.873199   960100\n",
            "Processing file: VMC.csv\n",
            "         Date        Open        High         Low       Close   Adj Close  \\\n",
            "0  2020-01-02  145.000000  145.710007  142.020004  142.720001  140.280151   \n",
            "1  2020-01-03  141.360001  143.600006  141.000000  142.100006  139.670746   \n",
            "2  2020-01-06  142.190002  142.869995  140.789993  141.850006  139.425034   \n",
            "3  2020-01-07  141.500000  142.830002  140.229996  140.250000  137.852386   \n",
            "4  2020-01-08  140.320007  142.460007  140.160004  141.369995  138.953217   \n",
            "\n",
            "   Volume  \n",
            "0  843400  \n",
            "1  906800  \n",
            "2  798000  \n",
            "3  976500  \n",
            "4  674100  \n",
            "Processing file: WRB.csv\n",
            "         Date       Open       High        Low      Close  Adj Close  Volume\n",
            "0  2020-01-02  69.489998  69.489998  68.410004  68.959999  67.619217  873500\n",
            "1  2020-01-03  68.349998  69.180000  68.160004  69.050003  67.707474  438400\n",
            "2  2020-01-06  68.639999  69.000000  68.419998  68.949997  67.609421  650500\n",
            "3  2020-01-07  68.820000  68.900002  67.650002  67.690002  66.373917  686200\n",
            "4  2020-01-08  67.800003  68.589996  67.739998  68.169998  66.844582  574500\n",
            "Processing file: WAB.csv\n",
            "         Date       Open       High        Low      Close  Adj Close   Volume\n",
            "0  2020-01-02  78.580002  80.959999  78.199997  80.949997  80.024605  1717800\n",
            "1  2020-01-03  79.709999  80.580002  79.330002  80.330002  79.411705   968700\n",
            "2  2020-01-06  79.500000  80.279999  79.260002  80.000000  79.085472  1233500\n",
            "3  2020-01-07  79.989998  80.800003  79.760002  79.970001  79.055824  1073900\n",
            "4  2020-01-08  80.089996  80.320000  78.400002  78.599998  77.701469  1536000\n",
            "Processing file: WMT.csv\n",
            "         Date        Open        High         Low       Close   Adj Close  \\\n",
            "0  2020-01-02  118.860001  119.889999  118.699997  118.940002  115.619492   \n",
            "1  2020-01-03  118.269997  118.790001  117.589996  117.889999  114.598793   \n",
            "2  2020-01-06  117.400002  118.089996  116.769997  117.650002  114.365509   \n",
            "3  2020-01-07  117.260002  117.519997  116.199997  116.559998  113.305931   \n",
            "4  2020-01-08  116.300003  116.730003  115.680000  116.160004  112.917099   \n",
            "\n",
            "    Volume  \n",
            "0  6764900  \n",
            "1  5399200  \n",
            "2  6445500  \n",
            "3  6846900  \n",
            "4  5875800  \n",
            "Processing file: WBA.csv\n",
            "         Date       Open       High        Low      Close  Adj Close    Volume\n",
            "0  2020-01-02  59.279999  59.590000  58.700001  59.080002  55.026272   5700500\n",
            "1  2020-01-03  58.540001  59.349998  58.180000  59.080002  55.026272   4892300\n",
            "2  2020-01-06  59.040001  59.779999  58.480000  59.590000  55.501282   6003300\n",
            "3  2020-01-07  59.220001  59.480000  58.619999  59.290001  55.221863   4365700\n",
            "4  2020-01-08  56.049999  56.799999  54.910000  55.830002  51.999271  17431800\n",
            "Processing file: DIS.csv\n",
            "         Date        Open        High         Low       Close   Adj Close  \\\n",
            "0  2020-01-02  145.289993  148.199997  145.100006  148.199997  148.199997   \n",
            "1  2020-01-03  146.399994  147.899994  146.050003  146.500000  146.500000   \n",
            "2  2020-01-06  145.539993  146.029999  144.309998  145.649994  145.649994   \n",
            "3  2020-01-07  145.990005  146.869995  145.419998  145.699997  145.699997   \n",
            "4  2020-01-08  145.490005  146.130005  144.820007  145.399994  145.399994   \n",
            "\n",
            "    Volume  \n",
            "0  9502100  \n",
            "1  7320200  \n",
            "2  8262500  \n",
            "3  6906500  \n",
            "4  6984200  \n",
            "Processing file: WM.csv\n",
            "         Date        Open        High         Low       Close   Adj Close  \\\n",
            "0  2020-01-02  114.089996  114.220001  112.500000  114.220001  110.682182   \n",
            "1  2020-01-03  113.150002  115.470001  113.099998  115.330002  111.757812   \n",
            "2  2020-01-06  114.599998  115.949997  114.510002  115.930000  112.339218   \n",
            "3  2020-01-07  115.529999  116.199997  114.879997  116.010002  112.416740   \n",
            "4  2020-01-08  116.099998  116.480003  115.680000  116.080002  112.484573   \n",
            "\n",
            "    Volume  \n",
            "0  2071700  \n",
            "1  1424900  \n",
            "2  1840700  \n",
            "3  2325500  \n",
            "4  1824600  \n",
            "Processing file: WAT.csv\n",
            "         Date        Open        High         Low       Close   Adj Close  \\\n",
            "0  2020-01-02  234.929993  236.289993  233.320007  235.059998  235.059998   \n",
            "1  2020-01-03  231.539993  233.830002  229.929993  231.009995  231.009995   \n",
            "2  2020-01-06  229.669998  230.449997  228.259995  228.880005  228.880005   \n",
            "3  2020-01-07  226.289993  232.059998  226.289993  231.979996  231.979996   \n",
            "4  2020-01-08  221.000000  230.179993  217.570007  226.350006  226.350006   \n",
            "\n",
            "   Volume  \n",
            "0  420100  \n",
            "1  389700  \n",
            "2  406500  \n",
            "3  420800  \n",
            "4  682500  \n",
            "Processing file: WEC.csv\n",
            "         Date       Open       High        Low      Close  Adj Close   Volume\n",
            "0  2020-01-02  92.400002  92.519997  90.459999  90.669998  86.344276  1547100\n",
            "1  2020-01-03  90.650002  91.709999  90.519997  91.239998  86.887085  1859400\n",
            "2  2020-01-06  91.339996  91.800003  90.800003  91.309998  86.953743  1418100\n",
            "3  2020-01-07  90.889999  91.070000  90.339996  90.959999  86.620438  1071200\n",
            "4  2020-01-08  91.209999  91.389999  90.510002  91.080002  86.734726  1323700\n",
            "Processing file: WCG.csv\n",
            "Empty DataFrame\n",
            "Columns: [Date, Open, High, Low, Close, Adj Close, Volume]\n",
            "Index: []\n",
            "Processing file: WFC.csv\n",
            "         Date       Open       High        Low      Close  Adj Close    Volume\n",
            "0  2020-01-02  53.849998  54.040001  53.509998  53.750000  51.174751  16803100\n",
            "1  2020-01-03  53.110001  53.619999  52.900002  53.419998  50.860561  15608800\n",
            "2  2020-01-06  52.740002  53.200001  52.720001  53.099998  50.555897  13200300\n",
            "3  2020-01-07  53.049999  53.049999  52.470001  52.660000  50.136971  13278600\n",
            "4  2020-01-08  52.840000  53.330002  52.799999  52.820000  50.289307  16585600\n",
            "Processing file: WELL.csv\n",
            "         Date       Open       High        Low      Close  Adj Close   Volume\n",
            "0  2020-01-02  82.089996  82.139999  79.959999  80.139999  74.625046  2049100\n",
            "1  2020-01-03  79.639999  81.660004  79.550003  81.550003  75.938004  1687000\n",
            "2  2020-01-06  82.089996  83.220001  81.660004  82.790001  77.092659  2201200\n",
            "3  2020-01-07  82.489998  82.540001  81.239998  82.250000  76.589821  1239500\n",
            "4  2020-01-08  81.919998  82.360001  81.459999  82.269997  76.608459  2016800\n",
            "Processing file: WDC.csv\n",
            "         Date       Open       High        Low      Close  Adj Close    Volume\n",
            "0  2020-01-02  64.199997  65.980003  64.199997  65.620003  64.771545   6669500\n",
            "1  2020-01-03  63.889999  65.309998  63.549999  64.610001  63.774597   3958000\n",
            "2  2020-01-06  62.959999  64.550003  62.750000  63.369999  62.550629   4085900\n",
            "3  2020-01-07  65.209999  67.980003  64.529999  67.660004  66.785164  11090300\n",
            "4  2020-01-08  67.209999  69.000000  66.629997  68.639999  67.752487   6600100\n",
            "Processing file: WU.csv\n",
            "         Date       Open       High        Low      Close  Adj Close   Volume\n",
            "0  2020-01-02  26.910000  27.030001  26.120001  26.190001  24.414200  8124900\n",
            "1  2020-01-03  25.870001  26.299999  25.770000  26.100000  24.330303  4993800\n",
            "2  2020-01-06  25.920000  26.090000  25.610001  25.850000  24.097252  8018800\n",
            "3  2020-01-07  25.799999  26.280001  25.709999  25.969999  24.209116  6180600\n",
            "4  2020-01-08  26.020000  26.450001  25.920000  26.200001  24.423521  5965900\n",
            "Processing file: WRK.csv\n",
            "         Date       Open       High        Low      Close  Adj Close   Volume\n",
            "0  2020-01-02  44.279999  44.389999  42.950001  43.450001  41.578949  4633600\n",
            "1  2020-01-03  42.810001  43.220001  42.660000  42.680000  40.842110  3544100\n",
            "2  2020-01-06  42.830002  42.900002  41.849998  42.029999  40.220100  3879300\n",
            "3  2020-01-07  41.770000  41.919998  41.380001  41.560001  39.770336  4693800\n",
            "4  2020-01-08  41.720001  42.080002  41.369999  41.740002  39.942589  3156400\n",
            "Processing file: WY.csv\n",
            "         Date       Open   High        Low      Close  Adj Close   Volume\n",
            "0  2020-01-02  30.209999  30.24  29.280001  29.389999  28.059395  4973500\n",
            "1  2020-01-03  29.170000  29.58  29.150000  29.440001  28.107134  3111000\n",
            "2  2020-01-06  29.299999  29.52  29.200001  29.379999  28.049847  2178600\n",
            "3  2020-01-07  29.299999  29.49  29.120001  29.190001  27.868454  2426200\n",
            "4  2020-01-08  29.120001  29.42  29.090000  29.299999  27.973473  2299800\n",
            "Processing file: WHR.csv\n",
            "         Date        Open        High         Low       Close   Adj Close  \\\n",
            "0  2020-01-02  148.940002  149.449997  145.830002  148.449997  140.900940   \n",
            "1  2020-01-03  146.649994  146.649994  145.000000  145.919998  138.499588   \n",
            "2  2020-01-06  144.660004  147.750000  143.410004  147.289993  139.799896   \n",
            "3  2020-01-07  147.250000  148.979996  146.600006  147.339996  139.847336   \n",
            "4  2020-01-08  147.169998  150.240005  147.169998  149.399994  141.802582   \n",
            "\n",
            "   Volume  \n",
            "0  806200  \n",
            "1  521100  \n",
            "2  560300  \n",
            "3  786500  \n",
            "4  540100  \n",
            "Processing file: WMB.csv\n",
            "         Date       Open       High        Low      Close  Adj Close    Volume\n",
            "0  2020-01-02  23.940001  23.940001  23.410000  23.490000  20.607681   6970000\n",
            "1  2020-01-03  23.320000  23.629999  23.270000  23.590000  20.695410   7542700\n",
            "2  2020-01-06  23.660000  24.049999  23.580000  23.900000  20.967371  12104200\n",
            "3  2020-01-07  23.860001  23.950001  23.559999  23.900000  20.967371   8952900\n",
            "4  2020-01-08  23.900000  23.930000  23.520000  23.530001  20.642776   7396400\n",
            "Processing file: WLTW.csv\n",
            "         Date        Open        High         Low       Close   Adj Close  \\\n",
            "0  2020-01-02  202.869995  204.279999  201.339996  204.279999  199.521088   \n",
            "1  2020-01-03  202.029999  204.970001  201.729996  204.330002  199.569916   \n",
            "2  2020-01-06  204.029999  204.580002  201.880005  204.580002  199.814102   \n",
            "3  2020-01-07  204.649994  204.800003  203.710007  204.160004  199.403885   \n",
            "4  2020-01-08  204.850006  206.130005  203.729996  204.389999  199.628525   \n",
            "\n",
            "   Volume  \n",
            "0  465800  \n",
            "1  411400  \n",
            "2  620200  \n",
            "3  443200  \n",
            "4  486400  \n",
            "Processing file: WYNN.csv\n",
            "         Date        Open        High         Low       Close   Adj Close  \\\n",
            "0  2020-01-02  142.059998  144.389999  141.750000  143.600006  142.405029   \n",
            "1  2020-01-03  140.850006  142.270004  139.940002  141.470001  140.292755   \n",
            "2  2020-01-06  139.199997  141.380005  139.050003  141.190002  140.015091   \n",
            "3  2020-01-07  140.820007  142.270004  140.149994  141.860001  140.679504   \n",
            "4  2020-01-08  140.839996  143.770004  140.289993  142.750000  141.562103   \n",
            "\n",
            "    Volume  \n",
            "0  3006500  \n",
            "1  1760500  \n",
            "2  1357900  \n",
            "3  1722100  \n",
            "4  1176200  \n",
            "Processing file: XEL.csv\n",
            "         Date       Open       High        Low      Close  Adj Close   Volume\n",
            "0  2020-01-02  63.549999  63.580002  62.200001  62.380001  59.525661  2915400\n",
            "1  2020-01-03  62.279999  62.919998  62.279999  62.680000  59.811932  2422500\n",
            "2  2020-01-06  62.759998  62.939999  62.330002  62.590000  59.726044  2217100\n",
            "3  2020-01-07  62.150002  62.520000  61.970001  62.459999  59.601994  1861100\n",
            "4  2020-01-08  62.590000  62.639999  62.119999  62.400002  59.544743  4828900\n",
            "Processing file: XRX.csv\n",
            "         Date       Open       High        Low      Close  Adj Close   Volume\n",
            "0  2020-01-02  37.090000  37.169998  36.259998  36.930000  34.292870  1581300\n",
            "1  2020-01-03  36.299999  36.779999  36.029999  36.450001  33.847149  1042600\n",
            "2  2020-01-06  36.090000  36.250000  35.799999  35.900002  33.336426  1199200\n",
            "3  2020-01-07  36.049999  36.259998  35.820000  35.950001  33.382851  1533100\n",
            "4  2020-01-08  35.910000  36.029999  35.549999  35.930000  33.364285  1345400\n",
            "Processing file: XLNX.csv\n",
            "         Date        Open        High        Low       Close   Adj Close  \\\n",
            "0  2020-01-02   99.150002  101.690002  98.779999  101.650002  100.115349   \n",
            "1  2020-01-03  100.550003  101.059998  99.099998   99.309998   97.810669   \n",
            "2  2020-01-06   97.839996   98.360001  96.900002   97.239998   95.771919   \n",
            "3  2020-01-07   98.220001  100.150002  97.440002   99.459999   97.958412   \n",
            "4  2020-01-08   99.360001  100.000000  98.510002   99.180000   97.682632   \n",
            "\n",
            "    Volume  \n",
            "0  3234100  \n",
            "1  3521900  \n",
            "2  2832700  \n",
            "3  3050000  \n",
            "4  2172900  \n",
            "Processing file: XYL.csv\n",
            "         Date       Open       High        Low      Close  Adj Close   Volume\n",
            "0  2020-01-02  79.160004  79.949997  78.760002  79.849998  78.232391   869500\n",
            "1  2020-01-03  79.029999  80.349998  78.699997  80.320000  78.692871   795100\n",
            "2  2020-01-06  79.860001  79.940002  78.910004  79.800003  78.183403   817300\n",
            "3  2020-01-07  79.910004  79.910004  79.019997  79.500000  77.889488   662200\n",
            "4  2020-01-08  79.660004  80.360001  79.190002  79.769997  78.154007  1083200\n",
            "Processing file: YUM.csv\n",
            "         Date        Open        High         Low       Close  Adj Close  \\\n",
            "0  2020-01-02  100.900002  102.190002  100.809998  102.169998  98.979523   \n",
            "1  2020-01-03  101.419998  102.010002  100.360001  101.849998  98.669495   \n",
            "2  2020-01-06  101.430000  101.800003  101.059998  101.790001  98.611382   \n",
            "3  2020-01-07  101.750000  102.239998  101.540001  101.970001  98.785767   \n",
            "4  2020-01-08  100.470001  102.980003  100.339996  102.150002  98.960136   \n",
            "\n",
            "    Volume  \n",
            "0  1369900  \n",
            "1  1145500  \n",
            "2  1454100  \n",
            "3  1388600  \n",
            "4  1521500  \n",
            "Processing file: ZBRA.csv\n",
            "         Date        Open        High         Low       Close   Adj Close  \\\n",
            "0  2020-01-02  259.029999  260.399994  255.169998  259.140015  259.140015   \n",
            "1  2020-01-03  256.100006  258.649994  254.880005  256.049988  256.049988   \n",
            "2  2020-01-06  252.619995  258.010010  252.619995  258.010010  258.010010   \n",
            "3  2020-01-07  257.500000  258.739990  256.079987  256.470001  256.470001   \n",
            "4  2020-01-08  251.279999  253.479996  247.250000  247.639999  247.639999   \n",
            "\n",
            "   Volume  \n",
            "0  387800  \n",
            "1  305300  \n",
            "2  322600  \n",
            "3  236300  \n",
            "4  689600  \n",
            "Processing file: ZBH.csv\n",
            "         Date        Open        High         Low       Close   Adj Close  \\\n",
            "0  2020-01-02  149.979996  150.050003  147.470001  149.199997  147.344467   \n",
            "1  2020-01-03  147.419998  149.679993  145.960007  148.809998  146.959320   \n",
            "2  2020-01-06  148.570007  148.830002  147.229996  147.949997  146.110046   \n",
            "3  2020-01-07  148.550003  149.139999  146.690002  147.820007  145.981628   \n",
            "4  2020-01-08  148.350006  149.929993  147.440002  149.589996  147.729614   \n",
            "\n",
            "    Volume  \n",
            "0  1052400  \n",
            "1   963500  \n",
            "2   944100  \n",
            "3   907300  \n",
            "4   908800  \n",
            "Processing file: ZION.csv\n",
            "         Date       Open       High        Low      Close  Adj Close   Volume\n",
            "0  2020-01-02  52.360001  52.480000  51.790001  52.439999  49.560959  1528700\n",
            "1  2020-01-03  51.410000  51.889999  51.160000  51.700001  48.861588  1215800\n",
            "2  2020-01-06  51.080002  51.680000  50.810001  51.070000  48.266171  1217500\n",
            "3  2020-01-07  50.790001  51.130001  50.610001  50.759998  47.973190  1450900\n",
            "4  2020-01-08  50.900002  51.490002  50.730000  51.259998  48.445744  2396000\n",
            "Processing file: ZTS.csv\n",
            "         Date        Open        High         Low       Close   Adj Close  \\\n",
            "0  2020-01-02  132.050003  134.279999  131.479996  134.139999  132.644989   \n",
            "1  2020-01-03  132.479996  134.910004  132.270004  134.160004  132.664795   \n",
            "2  2020-01-06  133.779999  134.070007  132.710007  133.130005  131.646255   \n",
            "3  2020-01-07  133.000000  134.809998  132.669998  133.580002  132.091232   \n",
            "4  2020-01-08  133.759995  135.270004  133.240005  133.289993  131.804474   \n",
            "\n",
            "    Volume  \n",
            "0  1576700  \n",
            "1  1274000  \n",
            "2  2334100  \n",
            "3  1224500  \n",
            "4  1766700  \n"
          ]
        }
      ]
    },
    {
      "cell_type": "code",
      "source": [
        "import yfinance as yf\n",
        "import pandas as pd\n",
        "import os\n",
        "\n",
        "# List of stock symbols\n",
        "symbols = [\"A\", \"AAL\", \"AAP\", \"AAPL\", \"ABBV\", \"ABC\", \"ABMD\", \"ABT\", \"ACN\", \"ADBE\", \"ADI\", \"ADM\", \"ADP\", \"ADS\", \"ADSK\", \"AEE\", \"AEP\", \"AES\", \"AFL\", \"AGN\", \"AIG\", \"AIV\", \"AIZ\", \"AJG\", \"AKAM\", \"ALB\", \"ALGN\", \"ALK\", \"ALL\", \"ALLE\", \"ALXN\", \"AMAT\", \"AMCR\", \"AMD\", \"AME\", \"AMGN\", \"AMP\", \"AMT\", \"AMZN\", \"ANET\", \"ANSS\", \"ANTM\", \"AON\", \"AOS\", \"APA\", \"APD\", \"APH\", \"APTV\", \"ARE\", \"ARNC\", \"ATO\", \"ATVI\", \"AVB\", \"AVGO\", \"AVY\", \"AWK\", \"AXP\", \"AZO\", \"BA\", \"BAC\", \"BAX\", \"BBY\", \"BDX\", \"BEN\", \"BF.B\", \"BIIB\", \"BK\", \"BKNG\", \"BKR\", \"BLK\", \"BLL\", \"BMY\", \"BR\", \"BRK.B\", \"BSX\", \"BWA\", \"BXP\", \"C\", \"CAG\", \"CAH\", \"CAT\", \"CB\", \"CBOE\", \"CBRE\", \"CCI\", \"CCL\", \"CDNS\", \"CDW\", \"CE\", \"CERN\", \"CF\", \"CFG\", \"CHD\", \"CHRW\", \"CHTR\", \"CI\", \"CINF\", \"CL\", \"CLX\", \"CMA\", \"CMCSA\", \"CME\", \"CMG\", \"CMI\", \"CMS\", \"CNC\", \"CNP\", \"COF\", \"COG\", \"COO\", \"COP\", \"COST\", \"COTY\", \"CPB\", \"CPRI\", \"CPRT\", \"CRM\", \"CSCO\", \"CSX\", \"CTAS\", \"CTL\", \"CTSH\", \"CTVA\", \"CTXS\", \"CVS\", \"CVX\", \"CXO\", \"D\", \"DAL\", \"DD\", \"DE\", \"DFS\", \"DG\", \"DGX\", \"DHI\", \"DHR\", \"DIS\", \"DISCA\", \"DISCK\", \"DISH\", \"DLR\", \"DLTR\", \"DOV\", \"DOW\", \"DRE\", \"DRI\", \"DTE\", \"DUK\", \"DVA\", \"DVN\", \"DXC\", \"EA\", \"EBAY\", \"ECL\", \"ED\", \"EFX\", \"EIX\", \"EL\", \"EMN\", \"EMR\", \"EOG\", \"EQIX\", \"EQR\", \"ES\", \"ESS\", \"ETFC\", \"ETN\", \"ETR\", \"EVRG\", \"EW\", \"EXC\", \"EXPD\", \"EXPE\", \"EXR\", \"F\", \"FANG\", \"FAST\", \"FB\", \"FBHS\", \"FCX\", \"FDX\", \"FE\", \"FFIV\", \"FIS\", \"FISV\", \"FITB\", \"FLIR\", \"FLS\", \"FLT\", \"FMC\", \"FOX\", \"FOXA\", \"FRC\", \"FRT\", \"FTI\", \"FTNT\", \"FTV\", \"GD\", \"GE\", \"GILD\", \"GIS\", \"GL\", \"GLW\", \"GM\", \"GOOG\", \"GOOGL\", \"GPC\", \"GPN\", \"GPS\", \"GRMN\", \"GS\", \"GWW\", \"HAL\", \"HAS\", \"HBAN\", \"HBI\", \"HCA\", \"HD\", \"HES\", \"HFC\", \"HIG\", \"HII\", \"HLT\", \"HOG\", \"HOLX\", \"HON\", \"HP\", \"HPE\", \"HPQ\", \"HRB\", \"HRL\", \"HSIC\", \"HST\", \"HSY\", \"HUM\", \"IBM\", \"ICE\", \"IDXX\", \"IEX\", \"IFF\", \"ILMN\", \"INCY\", \"INFO\", \"INTC\", \"INTU\", \"IP\", \"IPG\", \"IPGP\", \"IQV\", \"IR\", \"IRM\", \"ISRG\", \"IT\", \"ITW\", \"IVZ\", \"J\", \"JBHT\", \"JCI\", \"JKHY\", \"JNJ\", \"JNPR\", \"JPM\", \"JWN\", \"K\", \"KEY\", \"KEYS\", \"KHC\", \"KIM\", \"KLAC\", \"KMB\", \"KMI\", \"KMX\", \"KO\", \"KR\", \"KSS\", \"KSU\", \"L\", \"LB\", \"LDOS\", \"LEG\", \"LEN\", \"LH\", \"LHX\", \"LIN\", \"LKQ\", \"LLY\", \"LMT\", \"LNC\", \"LNT\", \"LOW\", \"LRCX\", \"LUV\", \"LVS\", \"LW\", \"LYB\", \"LYV\", \"M\", \"MA\", \"MAA\", \"MAR\", \"MAS\", \"MCD\", \"MCHP\", \"MCK\", \"MCO\", \"MDLZ\", \"MDT\", \"MET\", \"MGM\", \"MHK\", \"MKC\", \"MKTX\", \"MLM\", \"MMC\", \"MMM\", \"MNST\", \"MO\", \"MOS\", \"MPC\", \"MRK\", \"MRO\", \"MS\", \"MSCI\", \"MSFT\", \"MSI\", \"MTB\", \"MTD\", \"MU\", \"MXIM\", \"MYL\", \"NBL\", \"NCLH\", \"NDAQ\", \"NEE\", \"NEM\", \"NFLX\", \"NI\", \"NKE\", \"NLOK\", \"NLSN\", \"NOC\", \"NOV\", \"NOW\", \"NRG\", \"NSC\", \"NTAP\", \"NTRS\", \"NUE\", \"NVDA\", \"NVR\", \"NWL\", \"NWS\", \"NWSA\", \"O\", \"ODFL\", \"OKE\", \"OMC\", \"ORCL\", \"ORLY\", \"OXY\", \"PAYX\", \"PBCT\", \"PCAR\", \"PEAK\", \"PEG\", \"PEP\", \"PFE\", \"PFG\", \"PG\", \"PGR\", \"PH\", \"PHM\", \"PKG\", \"PKI\", \"PLD\", \"PM\", \"PNC\", \"PNR\", \"PNW\", \"PPG\", \"PPL\", \"PRGO\", \"PRU\", \"PSA\", \"PSX\", \"PVH\", \"PWR\", \"PXD\", \"PYPL\", \"QCOM\", \"QRVO\", \"RCL\", \"RE\", \"REG\", \"REGN\", \"RF\", \"RHI\", \"RJF\", \"RL\", \"RMD\", \"ROK\", \"ROL\", \"ROP\", \"ROST\", \"RSG\", \"RTN\", \"SBAC\", \"SBUX\", \"SCHW\", \"SEE\", \"SHW\", \"SIVB\", \"SJM\", \"SLB\", \"SLG\", \"SNA\", \"SNPS\", \"SO\", \"SPG\", \"SPGI\", \"SRE\", \"STE\", \"STT\", \"STX\", \"STZ\", \"SWK\", \"SWKS\", \"SYF\", \"SYK\", \"SYY\", \"T\", \"TAP\", \"TDG\", \"TEL\", \"TFC\", \"TFX\", \"TGT\", \"TIF\", \"TJX\", \"TMO\", \"TMUS\", \"TPR\", \"TROW\", \"TRV\", \"TSCO\", \"TSN\", \"TTWO\", \"TWTR\", \"TXN\", \"TXT\", \"UA\", \"UAA\", \"UAL\", \"UDR\", \"UHS\", \"ULTA\", \"UNH\", \"UNM\", \"UNP\", \"UPS\", \"URI\", \"USB\", \"UTX\", \"V\", \"VAR\", \"VFC\", \"VIAC\", \"VLO\", \"VMC\", \"VNO\", \"VRSK\", \"VRSN\", \"VRTX\", \"VTR\", \"VZ\", \"WAB\", \"WAT\", \"WBA\", \"WCG\", \"WDC\", \"WEC\", \"WELL\", \"WFC\", \"WHR\", \"WLTW\", \"WM\", \"WMB\", \"WMT\", \"WRB\", \"WRK\", \"WU\", \"WY\", \"WYNN\", \"XEC\", \"XEL\", \"XLNX\", \"XOM\", \"XRAY\", \"XRX\", \"XYL\", \"YUM\", \"ZBH\", \"ZBRA\", \"ZION\", \"ZTS\"]\n",
        "\n",
        "# Base directory to save the updated CSV files\n",
        "base_directory = \"/content/Candlestick-Pattern-Recognition-with-Python-and-TA-Lib/datasets/daily\"\n",
        "\n",
        "# Fetch data for each symbol and update the CSV files\n",
        "for symbol in symbols:\n",
        "    try:\n",
        "        # Fetch historical data from 2023-01-01 to 2024-06-01\n",
        "        data = yf.download(symbol, start=\"2023-01-01\", end=\"2024-06-01\")\n",
        "\n",
        "        # Construct the file path\n",
        "        filepath = os.path.join(base_directory, f\"{symbol}.csv\")\n",
        "\n",
        "        # Save the data to a CSV file, overwriting the old data\n",
        "        data.to_csv(filepath)\n",
        "\n",
        "        print(f\"Updated data for {symbol} saved to {filepath}\")\n",
        "\n",
        "    except Exception as e:\n",
        "        print(f\"An error occurred while fetching data for {symbol}: {e}\")"
      ],
      "metadata": {
        "id": "b7UITLIoVUds",
        "outputId": "9e1d7afe-e8ce-4bf1-e93a-3e692b677f0d",
        "colab": {
          "base_uri": "https://localhost:8080/"
        }
      },
      "execution_count": 44,
      "outputs": [
        {
          "output_type": "stream",
          "name": "stderr",
          "text": [
            "[*********************100%%**********************]  1 of 1 completed\n",
            "[*********************100%%**********************]  1 of 1 completed\n"
          ]
        },
        {
          "output_type": "stream",
          "name": "stdout",
          "text": [
            "Updated data for A saved to /content/Candlestick-Pattern-Recognition-with-Python-and-TA-Lib/datasets/daily/A.csv\n",
            "Updated data for AAL saved to /content/Candlestick-Pattern-Recognition-with-Python-and-TA-Lib/datasets/daily/AAL.csv\n"
          ]
        },
        {
          "output_type": "stream",
          "name": "stderr",
          "text": [
            "\r[*********************100%%**********************]  1 of 1 completed\n"
          ]
        },
        {
          "output_type": "stream",
          "name": "stdout",
          "text": [
            "Updated data for AAP saved to /content/Candlestick-Pattern-Recognition-with-Python-and-TA-Lib/datasets/daily/AAP.csv\n"
          ]
        },
        {
          "output_type": "stream",
          "name": "stderr",
          "text": [
            "[*********************100%%**********************]  1 of 1 completed\n",
            "[*********************100%%**********************]  1 of 1 completed\n"
          ]
        },
        {
          "output_type": "stream",
          "name": "stdout",
          "text": [
            "Updated data for AAPL saved to /content/Candlestick-Pattern-Recognition-with-Python-and-TA-Lib/datasets/daily/AAPL.csv\n",
            "Updated data for ABBV saved to /content/Candlestick-Pattern-Recognition-with-Python-and-TA-Lib/datasets/daily/ABBV.csv\n"
          ]
        },
        {
          "output_type": "stream",
          "name": "stderr",
          "text": [
            "\r[*********************100%%**********************]  1 of 1 completed\n",
            "ERROR:yfinance:\n",
            "1 Failed download:\n",
            "ERROR:yfinance:['ABC']: YFTzMissingError('$%ticker%: possibly delisted; No timezone found')\n",
            "[*********************100%%**********************]  1 of 1 completed\n",
            "ERROR:yfinance:\n",
            "1 Failed download:\n",
            "ERROR:yfinance:['ABMD']: YFPricesMissingError('$%ticker%: possibly delisted; No price data found  (1d 2023-01-01 -> 2024-06-01)')\n"
          ]
        },
        {
          "output_type": "stream",
          "name": "stdout",
          "text": [
            "Updated data for ABC saved to /content/Candlestick-Pattern-Recognition-with-Python-and-TA-Lib/datasets/daily/ABC.csv\n",
            "$ABMD: possibly delisted; No price data found  (1d 2023-01-01 -> 2024-06-01)\n",
            "Updated data for ABMD saved to /content/Candlestick-Pattern-Recognition-with-Python-and-TA-Lib/datasets/daily/ABMD.csv\n"
          ]
        },
        {
          "output_type": "stream",
          "name": "stderr",
          "text": [
            "[*********************100%%**********************]  1 of 1 completed\n",
            "[*********************100%%**********************]  1 of 1 completed\n"
          ]
        },
        {
          "output_type": "stream",
          "name": "stdout",
          "text": [
            "Updated data for ABT saved to /content/Candlestick-Pattern-Recognition-with-Python-and-TA-Lib/datasets/daily/ABT.csv\n",
            "Updated data for ACN saved to /content/Candlestick-Pattern-Recognition-with-Python-and-TA-Lib/datasets/daily/ACN.csv\n"
          ]
        },
        {
          "output_type": "stream",
          "name": "stderr",
          "text": [
            "[*********************100%%**********************]  1 of 1 completed\n",
            "[*********************100%%**********************]  1 of 1 completed"
          ]
        },
        {
          "output_type": "stream",
          "name": "stdout",
          "text": [
            "Updated data for ADBE saved to /content/Candlestick-Pattern-Recognition-with-Python-and-TA-Lib/datasets/daily/ADBE.csv\n"
          ]
        },
        {
          "output_type": "stream",
          "name": "stderr",
          "text": [
            "\n"
          ]
        },
        {
          "output_type": "stream",
          "name": "stdout",
          "text": [
            "Updated data for ADI saved to /content/Candlestick-Pattern-Recognition-with-Python-and-TA-Lib/datasets/daily/ADI.csv\n"
          ]
        },
        {
          "output_type": "stream",
          "name": "stderr",
          "text": [
            "\r[*********************100%%**********************]  1 of 1 completed\n"
          ]
        },
        {
          "output_type": "stream",
          "name": "stdout",
          "text": [
            "Updated data for ADM saved to /content/Candlestick-Pattern-Recognition-with-Python-and-TA-Lib/datasets/daily/ADM.csv\n"
          ]
        },
        {
          "output_type": "stream",
          "name": "stderr",
          "text": [
            "\r[*********************100%%**********************]  1 of 1 completed\n"
          ]
        },
        {
          "output_type": "stream",
          "name": "stdout",
          "text": [
            "Updated data for ADP saved to /content/Candlestick-Pattern-Recognition-with-Python-and-TA-Lib/datasets/daily/ADP.csv\n"
          ]
        },
        {
          "output_type": "stream",
          "name": "stderr",
          "text": [
            "\r[*********************100%%**********************]  1 of 1 completed\n",
            "ERROR:yfinance:\n",
            "1 Failed download:\n",
            "ERROR:yfinance:['ADS']: YFTzMissingError('$%ticker%: possibly delisted; No timezone found')\n",
            "[*********************100%%**********************]  1 of 1 completed\n"
          ]
        },
        {
          "output_type": "stream",
          "name": "stdout",
          "text": [
            "Updated data for ADS saved to /content/Candlestick-Pattern-Recognition-with-Python-and-TA-Lib/datasets/daily/ADS.csv\n",
            "Updated data for ADSK saved to /content/Candlestick-Pattern-Recognition-with-Python-and-TA-Lib/datasets/daily/ADSK.csv\n"
          ]
        },
        {
          "output_type": "stream",
          "name": "stderr",
          "text": [
            "\r[*********************100%%**********************]  1 of 1 completed\n"
          ]
        },
        {
          "output_type": "stream",
          "name": "stdout",
          "text": [
            "Updated data for AEE saved to /content/Candlestick-Pattern-Recognition-with-Python-and-TA-Lib/datasets/daily/AEE.csv\n"
          ]
        },
        {
          "output_type": "stream",
          "name": "stderr",
          "text": [
            "\r[*********************100%%**********************]  1 of 1 completed\n"
          ]
        },
        {
          "output_type": "stream",
          "name": "stdout",
          "text": [
            "Updated data for AEP saved to /content/Candlestick-Pattern-Recognition-with-Python-and-TA-Lib/datasets/daily/AEP.csv\n"
          ]
        },
        {
          "output_type": "stream",
          "name": "stderr",
          "text": [
            "\r[*********************100%%**********************]  1 of 1 completed\n"
          ]
        },
        {
          "output_type": "stream",
          "name": "stdout",
          "text": [
            "Updated data for AES saved to /content/Candlestick-Pattern-Recognition-with-Python-and-TA-Lib/datasets/daily/AES.csv\n"
          ]
        },
        {
          "output_type": "stream",
          "name": "stderr",
          "text": [
            "\r[*********************100%%**********************]  1 of 1 completed\n"
          ]
        },
        {
          "output_type": "stream",
          "name": "stdout",
          "text": [
            "Updated data for AFL saved to /content/Candlestick-Pattern-Recognition-with-Python-and-TA-Lib/datasets/daily/AFL.csv\n"
          ]
        },
        {
          "output_type": "stream",
          "name": "stderr",
          "text": [
            "\r[*********************100%%**********************]  1 of 1 completed\n",
            "ERROR:yfinance:\n",
            "1 Failed download:\n",
            "ERROR:yfinance:['AGN']: YFTzMissingError('$%ticker%: possibly delisted; No timezone found')\n"
          ]
        },
        {
          "output_type": "stream",
          "name": "stdout",
          "text": [
            "Updated data for AGN saved to /content/Candlestick-Pattern-Recognition-with-Python-and-TA-Lib/datasets/daily/AGN.csv\n"
          ]
        },
        {
          "output_type": "stream",
          "name": "stderr",
          "text": [
            "\r[*********************100%%**********************]  1 of 1 completed\n"
          ]
        },
        {
          "output_type": "stream",
          "name": "stdout",
          "text": [
            "Updated data for AIG saved to /content/Candlestick-Pattern-Recognition-with-Python-and-TA-Lib/datasets/daily/AIG.csv\n"
          ]
        },
        {
          "output_type": "stream",
          "name": "stderr",
          "text": [
            "[*********************100%%**********************]  1 of 1 completed\n",
            "[*********************100%%**********************]  1 of 1 completed\n"
          ]
        },
        {
          "output_type": "stream",
          "name": "stdout",
          "text": [
            "Updated data for AIV saved to /content/Candlestick-Pattern-Recognition-with-Python-and-TA-Lib/datasets/daily/AIV.csv\n",
            "Updated data for AIZ saved to /content/Candlestick-Pattern-Recognition-with-Python-and-TA-Lib/datasets/daily/AIZ.csv\n"
          ]
        },
        {
          "output_type": "stream",
          "name": "stderr",
          "text": [
            "[*********************100%%**********************]  1 of 1 completed\n",
            "[*********************100%%**********************]  1 of 1 completed\n"
          ]
        },
        {
          "output_type": "stream",
          "name": "stdout",
          "text": [
            "Updated data for AJG saved to /content/Candlestick-Pattern-Recognition-with-Python-and-TA-Lib/datasets/daily/AJG.csv\n",
            "Updated data for AKAM saved to /content/Candlestick-Pattern-Recognition-with-Python-and-TA-Lib/datasets/daily/AKAM.csv\n"
          ]
        },
        {
          "output_type": "stream",
          "name": "stderr",
          "text": [
            "[*********************100%%**********************]  1 of 1 completed\n",
            "[*********************100%%**********************]  1 of 1 completed\n"
          ]
        },
        {
          "output_type": "stream",
          "name": "stdout",
          "text": [
            "Updated data for ALB saved to /content/Candlestick-Pattern-Recognition-with-Python-and-TA-Lib/datasets/daily/ALB.csv\n",
            "Updated data for ALGN saved to /content/Candlestick-Pattern-Recognition-with-Python-and-TA-Lib/datasets/daily/ALGN.csv\n"
          ]
        },
        {
          "output_type": "stream",
          "name": "stderr",
          "text": [
            "\r[*********************100%%**********************]  1 of 1 completed\n"
          ]
        },
        {
          "output_type": "stream",
          "name": "stdout",
          "text": [
            "Updated data for ALK saved to /content/Candlestick-Pattern-Recognition-with-Python-and-TA-Lib/datasets/daily/ALK.csv\n"
          ]
        },
        {
          "output_type": "stream",
          "name": "stderr",
          "text": [
            "[*********************100%%**********************]  1 of 1 completed\n",
            "[*********************100%%**********************]  1 of 1 completed\n"
          ]
        },
        {
          "output_type": "stream",
          "name": "stdout",
          "text": [
            "Updated data for ALL saved to /content/Candlestick-Pattern-Recognition-with-Python-and-TA-Lib/datasets/daily/ALL.csv\n",
            "Updated data for ALLE saved to /content/Candlestick-Pattern-Recognition-with-Python-and-TA-Lib/datasets/daily/ALLE.csv\n"
          ]
        },
        {
          "output_type": "stream",
          "name": "stderr",
          "text": [
            "\r[*********************100%%**********************]  1 of 1 completed\n",
            "ERROR:yfinance:\n",
            "1 Failed download:\n",
            "ERROR:yfinance:['ALXN']: YFTzMissingError('$%ticker%: possibly delisted; No timezone found')\n"
          ]
        },
        {
          "output_type": "stream",
          "name": "stdout",
          "text": [
            "Updated data for ALXN saved to /content/Candlestick-Pattern-Recognition-with-Python-and-TA-Lib/datasets/daily/ALXN.csv\n"
          ]
        },
        {
          "output_type": "stream",
          "name": "stderr",
          "text": [
            "[*********************100%%**********************]  1 of 1 completed\n",
            "[*********************100%%**********************]  1 of 1 completed\n"
          ]
        },
        {
          "output_type": "stream",
          "name": "stdout",
          "text": [
            "Updated data for AMAT saved to /content/Candlestick-Pattern-Recognition-with-Python-and-TA-Lib/datasets/daily/AMAT.csv\n",
            "Updated data for AMCR saved to /content/Candlestick-Pattern-Recognition-with-Python-and-TA-Lib/datasets/daily/AMCR.csv\n"
          ]
        },
        {
          "output_type": "stream",
          "name": "stderr",
          "text": [
            "\r[*********************100%%**********************]  1 of 1 completed\n"
          ]
        },
        {
          "output_type": "stream",
          "name": "stdout",
          "text": [
            "Updated data for AMD saved to /content/Candlestick-Pattern-Recognition-with-Python-and-TA-Lib/datasets/daily/AMD.csv\n"
          ]
        },
        {
          "output_type": "stream",
          "name": "stderr",
          "text": [
            "[*********************100%%**********************]  1 of 1 completed\n",
            "[*********************100%%**********************]  1 of 1 completed\n"
          ]
        },
        {
          "output_type": "stream",
          "name": "stdout",
          "text": [
            "Updated data for AME saved to /content/Candlestick-Pattern-Recognition-with-Python-and-TA-Lib/datasets/daily/AME.csv\n",
            "Updated data for AMGN saved to /content/Candlestick-Pattern-Recognition-with-Python-and-TA-Lib/datasets/daily/AMGN.csv\n"
          ]
        },
        {
          "output_type": "stream",
          "name": "stderr",
          "text": [
            "[*********************100%%**********************]  1 of 1 completed\n",
            "[*********************100%%**********************]  1 of 1 completed\n"
          ]
        },
        {
          "output_type": "stream",
          "name": "stdout",
          "text": [
            "Updated data for AMP saved to /content/Candlestick-Pattern-Recognition-with-Python-and-TA-Lib/datasets/daily/AMP.csv\n",
            "Updated data for AMT saved to /content/Candlestick-Pattern-Recognition-with-Python-and-TA-Lib/datasets/daily/AMT.csv\n"
          ]
        },
        {
          "output_type": "stream",
          "name": "stderr",
          "text": [
            "[*********************100%%**********************]  1 of 1 completed\n",
            "[*********************100%%**********************]  1 of 1 completed\n"
          ]
        },
        {
          "output_type": "stream",
          "name": "stdout",
          "text": [
            "Updated data for AMZN saved to /content/Candlestick-Pattern-Recognition-with-Python-and-TA-Lib/datasets/daily/AMZN.csv\n",
            "Updated data for ANET saved to /content/Candlestick-Pattern-Recognition-with-Python-and-TA-Lib/datasets/daily/ANET.csv\n"
          ]
        },
        {
          "output_type": "stream",
          "name": "stderr",
          "text": [
            "\r[*********************100%%**********************]  1 of 1 completed\n"
          ]
        },
        {
          "output_type": "stream",
          "name": "stdout",
          "text": [
            "Updated data for ANSS saved to /content/Candlestick-Pattern-Recognition-with-Python-and-TA-Lib/datasets/daily/ANSS.csv\n"
          ]
        },
        {
          "output_type": "stream",
          "name": "stderr",
          "text": [
            "\r[*********************100%%**********************]  1 of 1 completed\n",
            "ERROR:yfinance:\n",
            "1 Failed download:\n",
            "ERROR:yfinance:['ANTM']: YFTzMissingError('$%ticker%: possibly delisted; No timezone found')\n"
          ]
        },
        {
          "output_type": "stream",
          "name": "stdout",
          "text": [
            "Updated data for ANTM saved to /content/Candlestick-Pattern-Recognition-with-Python-and-TA-Lib/datasets/daily/ANTM.csv\n"
          ]
        },
        {
          "output_type": "stream",
          "name": "stderr",
          "text": [
            "\r[*********************100%%**********************]  1 of 1 completed\n"
          ]
        },
        {
          "output_type": "stream",
          "name": "stdout",
          "text": [
            "Updated data for AON saved to /content/Candlestick-Pattern-Recognition-with-Python-and-TA-Lib/datasets/daily/AON.csv\n"
          ]
        },
        {
          "output_type": "stream",
          "name": "stderr",
          "text": [
            "\r[*********************100%%**********************]  1 of 1 completed\n"
          ]
        },
        {
          "output_type": "stream",
          "name": "stdout",
          "text": [
            "Updated data for AOS saved to /content/Candlestick-Pattern-Recognition-with-Python-and-TA-Lib/datasets/daily/AOS.csv\n"
          ]
        },
        {
          "output_type": "stream",
          "name": "stderr",
          "text": [
            "\r[*********************100%%**********************]  1 of 1 completed\n"
          ]
        },
        {
          "output_type": "stream",
          "name": "stdout",
          "text": [
            "Updated data for APA saved to /content/Candlestick-Pattern-Recognition-with-Python-and-TA-Lib/datasets/daily/APA.csv\n"
          ]
        },
        {
          "output_type": "stream",
          "name": "stderr",
          "text": [
            "[*********************100%%**********************]  1 of 1 completed\n",
            "[*********************100%%**********************]  1 of 1 completed\n"
          ]
        },
        {
          "output_type": "stream",
          "name": "stdout",
          "text": [
            "Updated data for APD saved to /content/Candlestick-Pattern-Recognition-with-Python-and-TA-Lib/datasets/daily/APD.csv\n",
            "Updated data for APH saved to /content/Candlestick-Pattern-Recognition-with-Python-and-TA-Lib/datasets/daily/APH.csv\n"
          ]
        },
        {
          "output_type": "stream",
          "name": "stderr",
          "text": [
            "\r[*********************100%%**********************]  1 of 1 completed\n"
          ]
        },
        {
          "output_type": "stream",
          "name": "stdout",
          "text": [
            "Updated data for APTV saved to /content/Candlestick-Pattern-Recognition-with-Python-and-TA-Lib/datasets/daily/APTV.csv\n"
          ]
        },
        {
          "output_type": "stream",
          "name": "stderr",
          "text": [
            "\r[*********************100%%**********************]  1 of 1 completed\n"
          ]
        },
        {
          "output_type": "stream",
          "name": "stdout",
          "text": [
            "Updated data for ARE saved to /content/Candlestick-Pattern-Recognition-with-Python-and-TA-Lib/datasets/daily/ARE.csv\n"
          ]
        },
        {
          "output_type": "stream",
          "name": "stderr",
          "text": [
            "\r[*********************100%%**********************]  1 of 1 completed\n",
            "ERROR:yfinance:\n",
            "1 Failed download:\n",
            "ERROR:yfinance:['ARNC']: YFTzMissingError('$%ticker%: possibly delisted; No timezone found')\n"
          ]
        },
        {
          "output_type": "stream",
          "name": "stdout",
          "text": [
            "Updated data for ARNC saved to /content/Candlestick-Pattern-Recognition-with-Python-and-TA-Lib/datasets/daily/ARNC.csv\n"
          ]
        },
        {
          "output_type": "stream",
          "name": "stderr",
          "text": [
            "\r[*********************100%%**********************]  1 of 1 completed\n"
          ]
        },
        {
          "output_type": "stream",
          "name": "stdout",
          "text": [
            "Updated data for ATO saved to /content/Candlestick-Pattern-Recognition-with-Python-and-TA-Lib/datasets/daily/ATO.csv\n"
          ]
        },
        {
          "output_type": "stream",
          "name": "stderr",
          "text": [
            "\r[*********************100%%**********************]  1 of 1 completed\n",
            "ERROR:yfinance:\n",
            "1 Failed download:\n",
            "ERROR:yfinance:['ATVI']: YFTzMissingError('$%ticker%: possibly delisted; No timezone found')\n",
            "[*********************100%%**********************]  1 of 1 completed\n"
          ]
        },
        {
          "output_type": "stream",
          "name": "stdout",
          "text": [
            "Updated data for ATVI saved to /content/Candlestick-Pattern-Recognition-with-Python-and-TA-Lib/datasets/daily/ATVI.csv\n"
          ]
        },
        {
          "output_type": "stream",
          "name": "stderr",
          "text": [
            "\r[*********************100%%**********************]  1 of 1 completed\n"
          ]
        },
        {
          "output_type": "stream",
          "name": "stdout",
          "text": [
            "Updated data for AVB saved to /content/Candlestick-Pattern-Recognition-with-Python-and-TA-Lib/datasets/daily/AVB.csv\n",
            "Updated data for AVGO saved to /content/Candlestick-Pattern-Recognition-with-Python-and-TA-Lib/datasets/daily/AVGO.csv\n"
          ]
        },
        {
          "output_type": "stream",
          "name": "stderr",
          "text": [
            "[*********************100%%**********************]  1 of 1 completed\n",
            "[*********************100%%**********************]  1 of 1 completed\n"
          ]
        },
        {
          "output_type": "stream",
          "name": "stdout",
          "text": [
            "Updated data for AVY saved to /content/Candlestick-Pattern-Recognition-with-Python-and-TA-Lib/datasets/daily/AVY.csv\n",
            "Updated data for AWK saved to /content/Candlestick-Pattern-Recognition-with-Python-and-TA-Lib/datasets/daily/AWK.csv\n"
          ]
        },
        {
          "output_type": "stream",
          "name": "stderr",
          "text": [
            "[*********************100%%**********************]  1 of 1 completed\n",
            "[*********************100%%**********************]  1 of 1 completed\n"
          ]
        },
        {
          "output_type": "stream",
          "name": "stdout",
          "text": [
            "Updated data for AXP saved to /content/Candlestick-Pattern-Recognition-with-Python-and-TA-Lib/datasets/daily/AXP.csv\n",
            "Updated data for AZO saved to /content/Candlestick-Pattern-Recognition-with-Python-and-TA-Lib/datasets/daily/AZO.csv\n"
          ]
        },
        {
          "output_type": "stream",
          "name": "stderr",
          "text": [
            "\r[*********************100%%**********************]  1 of 1 completed\n"
          ]
        },
        {
          "output_type": "stream",
          "name": "stdout",
          "text": [
            "Updated data for BA saved to /content/Candlestick-Pattern-Recognition-with-Python-and-TA-Lib/datasets/daily/BA.csv\n"
          ]
        },
        {
          "output_type": "stream",
          "name": "stderr",
          "text": [
            "\r[*********************100%%**********************]  1 of 1 completed\n"
          ]
        },
        {
          "output_type": "stream",
          "name": "stdout",
          "text": [
            "Updated data for BAC saved to /content/Candlestick-Pattern-Recognition-with-Python-and-TA-Lib/datasets/daily/BAC.csv\n"
          ]
        },
        {
          "output_type": "stream",
          "name": "stderr",
          "text": [
            "\r[*********************100%%**********************]  1 of 1 completed\n"
          ]
        },
        {
          "output_type": "stream",
          "name": "stdout",
          "text": [
            "Updated data for BAX saved to /content/Candlestick-Pattern-Recognition-with-Python-and-TA-Lib/datasets/daily/BAX.csv\n"
          ]
        },
        {
          "output_type": "stream",
          "name": "stderr",
          "text": [
            "\r[*********************100%%**********************]  1 of 1 completed\n"
          ]
        },
        {
          "output_type": "stream",
          "name": "stdout",
          "text": [
            "Updated data for BBY saved to /content/Candlestick-Pattern-Recognition-with-Python-and-TA-Lib/datasets/daily/BBY.csv\n"
          ]
        },
        {
          "output_type": "stream",
          "name": "stderr",
          "text": [
            "\r[*********************100%%**********************]  1 of 1 completed\n"
          ]
        },
        {
          "output_type": "stream",
          "name": "stdout",
          "text": [
            "Updated data for BDX saved to /content/Candlestick-Pattern-Recognition-with-Python-and-TA-Lib/datasets/daily/BDX.csv\n"
          ]
        },
        {
          "output_type": "stream",
          "name": "stderr",
          "text": [
            "[*********************100%%**********************]  1 of 1 completed\n",
            "[*********************100%%**********************]  1 of 1 completed\n",
            "ERROR:yfinance:\n",
            "1 Failed download:\n",
            "ERROR:yfinance:['BF.B']: YFPricesMissingError('$%ticker%: possibly delisted; No price data found  (1d 2023-01-01 -> 2024-06-01)')\n"
          ]
        },
        {
          "output_type": "stream",
          "name": "stdout",
          "text": [
            "Updated data for BEN saved to /content/Candlestick-Pattern-Recognition-with-Python-and-TA-Lib/datasets/daily/BEN.csv\n",
            "$BF.B: possibly delisted; No price data found  (1d 2023-01-01 -> 2024-06-01)\n",
            "Updated data for BF.B saved to /content/Candlestick-Pattern-Recognition-with-Python-and-TA-Lib/datasets/daily/BF.B.csv\n"
          ]
        },
        {
          "output_type": "stream",
          "name": "stderr",
          "text": [
            "\r[*********************100%%**********************]  1 of 1 completed\n"
          ]
        },
        {
          "output_type": "stream",
          "name": "stdout",
          "text": [
            "Updated data for BIIB saved to /content/Candlestick-Pattern-Recognition-with-Python-and-TA-Lib/datasets/daily/BIIB.csv\n"
          ]
        },
        {
          "output_type": "stream",
          "name": "stderr",
          "text": [
            "[*********************100%%**********************]  1 of 1 completed\n",
            "[*********************100%%**********************]  1 of 1 completed\n"
          ]
        },
        {
          "output_type": "stream",
          "name": "stdout",
          "text": [
            "Updated data for BK saved to /content/Candlestick-Pattern-Recognition-with-Python-and-TA-Lib/datasets/daily/BK.csv\n",
            "Updated data for BKNG saved to /content/Candlestick-Pattern-Recognition-with-Python-and-TA-Lib/datasets/daily/BKNG.csv\n"
          ]
        },
        {
          "output_type": "stream",
          "name": "stderr",
          "text": [
            "[*********************100%%**********************]  1 of 1 completed\n",
            "[*********************100%%**********************]  1 of 1 completed\n"
          ]
        },
        {
          "output_type": "stream",
          "name": "stdout",
          "text": [
            "Updated data for BKR saved to /content/Candlestick-Pattern-Recognition-with-Python-and-TA-Lib/datasets/daily/BKR.csv\n",
            "Updated data for BLK saved to /content/Candlestick-Pattern-Recognition-with-Python-and-TA-Lib/datasets/daily/BLK.csv\n"
          ]
        },
        {
          "output_type": "stream",
          "name": "stderr",
          "text": [
            "\r[*********************100%%**********************]  1 of 1 completed\n",
            "ERROR:yfinance:\n",
            "1 Failed download:\n",
            "ERROR:yfinance:['BLL']: YFTzMissingError('$%ticker%: possibly delisted; No timezone found')\n"
          ]
        },
        {
          "output_type": "stream",
          "name": "stdout",
          "text": [
            "Updated data for BLL saved to /content/Candlestick-Pattern-Recognition-with-Python-and-TA-Lib/datasets/daily/BLL.csv\n"
          ]
        },
        {
          "output_type": "stream",
          "name": "stderr",
          "text": [
            "[*********************100%%**********************]  1 of 1 completed\n",
            "[*********************100%%**********************]  1 of 1 completed\n"
          ]
        },
        {
          "output_type": "stream",
          "name": "stdout",
          "text": [
            "Updated data for BMY saved to /content/Candlestick-Pattern-Recognition-with-Python-and-TA-Lib/datasets/daily/BMY.csv\n",
            "Updated data for BR saved to /content/Candlestick-Pattern-Recognition-with-Python-and-TA-Lib/datasets/daily/BR.csv\n"
          ]
        },
        {
          "output_type": "stream",
          "name": "stderr",
          "text": [
            "\r[*********************100%%**********************]  1 of 1 completed\n",
            "ERROR:yfinance:\n",
            "1 Failed download:\n",
            "ERROR:yfinance:['BRK.B']: YFTzMissingError('$%ticker%: possibly delisted; No timezone found')\n",
            "[*********************100%%**********************]  1 of 1 completed\n"
          ]
        },
        {
          "output_type": "stream",
          "name": "stdout",
          "text": [
            "Updated data for BRK.B saved to /content/Candlestick-Pattern-Recognition-with-Python-and-TA-Lib/datasets/daily/BRK.B.csv\n",
            "Updated data for BSX saved to /content/Candlestick-Pattern-Recognition-with-Python-and-TA-Lib/datasets/daily/BSX.csv\n"
          ]
        },
        {
          "output_type": "stream",
          "name": "stderr",
          "text": [
            "\r[*********************100%%**********************]  1 of 1 completed\n"
          ]
        },
        {
          "output_type": "stream",
          "name": "stdout",
          "text": [
            "Updated data for BWA saved to /content/Candlestick-Pattern-Recognition-with-Python-and-TA-Lib/datasets/daily/BWA.csv\n"
          ]
        },
        {
          "output_type": "stream",
          "name": "stderr",
          "text": [
            "\r[*********************100%%**********************]  1 of 1 completed\n"
          ]
        },
        {
          "output_type": "stream",
          "name": "stdout",
          "text": [
            "Updated data for BXP saved to /content/Candlestick-Pattern-Recognition-with-Python-and-TA-Lib/datasets/daily/BXP.csv\n"
          ]
        },
        {
          "output_type": "stream",
          "name": "stderr",
          "text": [
            "\r[*********************100%%**********************]  1 of 1 completed\n"
          ]
        },
        {
          "output_type": "stream",
          "name": "stdout",
          "text": [
            "Updated data for C saved to /content/Candlestick-Pattern-Recognition-with-Python-and-TA-Lib/datasets/daily/C.csv\n"
          ]
        },
        {
          "output_type": "stream",
          "name": "stderr",
          "text": [
            "\r[*********************100%%**********************]  1 of 1 completed\n"
          ]
        },
        {
          "output_type": "stream",
          "name": "stdout",
          "text": [
            "Updated data for CAG saved to /content/Candlestick-Pattern-Recognition-with-Python-and-TA-Lib/datasets/daily/CAG.csv\n"
          ]
        },
        {
          "output_type": "stream",
          "name": "stderr",
          "text": [
            "\r[*********************100%%**********************]  1 of 1 completed\n"
          ]
        },
        {
          "output_type": "stream",
          "name": "stdout",
          "text": [
            "Updated data for CAH saved to /content/Candlestick-Pattern-Recognition-with-Python-and-TA-Lib/datasets/daily/CAH.csv\n"
          ]
        },
        {
          "output_type": "stream",
          "name": "stderr",
          "text": [
            "\r[*********************100%%**********************]  1 of 1 completed\n"
          ]
        },
        {
          "output_type": "stream",
          "name": "stdout",
          "text": [
            "Updated data for CAT saved to /content/Candlestick-Pattern-Recognition-with-Python-and-TA-Lib/datasets/daily/CAT.csv\n"
          ]
        },
        {
          "output_type": "stream",
          "name": "stderr",
          "text": [
            "[*********************100%%**********************]  1 of 1 completed\n",
            "[*********************100%%**********************]  1 of 1 completed\n"
          ]
        },
        {
          "output_type": "stream",
          "name": "stdout",
          "text": [
            "Updated data for CB saved to /content/Candlestick-Pattern-Recognition-with-Python-and-TA-Lib/datasets/daily/CB.csv\n",
            "Updated data for CBOE saved to /content/Candlestick-Pattern-Recognition-with-Python-and-TA-Lib/datasets/daily/CBOE.csv\n"
          ]
        },
        {
          "output_type": "stream",
          "name": "stderr",
          "text": [
            "[*********************100%%**********************]  1 of 1 completed\n",
            "[*********************100%%**********************]  1 of 1 completed\n"
          ]
        },
        {
          "output_type": "stream",
          "name": "stdout",
          "text": [
            "Updated data for CBRE saved to /content/Candlestick-Pattern-Recognition-with-Python-and-TA-Lib/datasets/daily/CBRE.csv\n",
            "Updated data for CCI saved to /content/Candlestick-Pattern-Recognition-with-Python-and-TA-Lib/datasets/daily/CCI.csv\n"
          ]
        },
        {
          "output_type": "stream",
          "name": "stderr",
          "text": [
            "[*********************100%%**********************]  1 of 1 completed\n",
            "[*********************100%%**********************]  1 of 1 completed\n"
          ]
        },
        {
          "output_type": "stream",
          "name": "stdout",
          "text": [
            "Updated data for CCL saved to /content/Candlestick-Pattern-Recognition-with-Python-and-TA-Lib/datasets/daily/CCL.csv\n",
            "Updated data for CDNS saved to /content/Candlestick-Pattern-Recognition-with-Python-and-TA-Lib/datasets/daily/CDNS.csv\n"
          ]
        },
        {
          "output_type": "stream",
          "name": "stderr",
          "text": [
            "[*********************100%%**********************]  1 of 1 completed\n",
            "[*********************100%%**********************]  1 of 1 completed\n"
          ]
        },
        {
          "output_type": "stream",
          "name": "stdout",
          "text": [
            "Updated data for CDW saved to /content/Candlestick-Pattern-Recognition-with-Python-and-TA-Lib/datasets/daily/CDW.csv\n",
            "Updated data for CE saved to /content/Candlestick-Pattern-Recognition-with-Python-and-TA-Lib/datasets/daily/CE.csv\n"
          ]
        },
        {
          "output_type": "stream",
          "name": "stderr",
          "text": [
            "\r[*********************100%%**********************]  1 of 1 completed\n",
            "ERROR:yfinance:\n",
            "1 Failed download:\n",
            "ERROR:yfinance:['CERN']: YFTzMissingError('$%ticker%: possibly delisted; No timezone found')\n",
            "[*********************100%%**********************]  1 of 1 completed"
          ]
        },
        {
          "output_type": "stream",
          "name": "stdout",
          "text": [
            "Updated data for CERN saved to /content/Candlestick-Pattern-Recognition-with-Python-and-TA-Lib/datasets/daily/CERN.csv\n"
          ]
        },
        {
          "output_type": "stream",
          "name": "stderr",
          "text": [
            "\n",
            "[*********************100%%**********************]  1 of 1 completed\n"
          ]
        },
        {
          "output_type": "stream",
          "name": "stdout",
          "text": [
            "Updated data for CF saved to /content/Candlestick-Pattern-Recognition-with-Python-and-TA-Lib/datasets/daily/CF.csv\n",
            "Updated data for CFG saved to /content/Candlestick-Pattern-Recognition-with-Python-and-TA-Lib/datasets/daily/CFG.csv\n"
          ]
        },
        {
          "output_type": "stream",
          "name": "stderr",
          "text": [
            "\r[*********************100%%**********************]  1 of 1 completed\n"
          ]
        },
        {
          "output_type": "stream",
          "name": "stdout",
          "text": [
            "Updated data for CHD saved to /content/Candlestick-Pattern-Recognition-with-Python-and-TA-Lib/datasets/daily/CHD.csv\n"
          ]
        },
        {
          "output_type": "stream",
          "name": "stderr",
          "text": [
            "[*********************100%%**********************]  1 of 1 completed\n",
            "[*********************100%%**********************]  1 of 1 completed\n"
          ]
        },
        {
          "output_type": "stream",
          "name": "stdout",
          "text": [
            "Updated data for CHRW saved to /content/Candlestick-Pattern-Recognition-with-Python-and-TA-Lib/datasets/daily/CHRW.csv\n",
            "Updated data for CHTR saved to /content/Candlestick-Pattern-Recognition-with-Python-and-TA-Lib/datasets/daily/CHTR.csv\n"
          ]
        },
        {
          "output_type": "stream",
          "name": "stderr",
          "text": [
            "\r[*********************100%%**********************]  1 of 1 completed\n"
          ]
        },
        {
          "output_type": "stream",
          "name": "stdout",
          "text": [
            "Updated data for CI saved to /content/Candlestick-Pattern-Recognition-with-Python-and-TA-Lib/datasets/daily/CI.csv\n"
          ]
        },
        {
          "output_type": "stream",
          "name": "stderr",
          "text": [
            "\r[*********************100%%**********************]  1 of 1 completed\n"
          ]
        },
        {
          "output_type": "stream",
          "name": "stdout",
          "text": [
            "Updated data for CINF saved to /content/Candlestick-Pattern-Recognition-with-Python-and-TA-Lib/datasets/daily/CINF.csv\n"
          ]
        },
        {
          "output_type": "stream",
          "name": "stderr",
          "text": [
            "\r[*********************100%%**********************]  1 of 1 completed\n"
          ]
        },
        {
          "output_type": "stream",
          "name": "stdout",
          "text": [
            "Updated data for CL saved to /content/Candlestick-Pattern-Recognition-with-Python-and-TA-Lib/datasets/daily/CL.csv\n"
          ]
        },
        {
          "output_type": "stream",
          "name": "stderr",
          "text": [
            "\r[*********************100%%**********************]  1 of 1 completed\n"
          ]
        },
        {
          "output_type": "stream",
          "name": "stdout",
          "text": [
            "Updated data for CLX saved to /content/Candlestick-Pattern-Recognition-with-Python-and-TA-Lib/datasets/daily/CLX.csv\n"
          ]
        },
        {
          "output_type": "stream",
          "name": "stderr",
          "text": [
            "\r[*********************100%%**********************]  1 of 1 completed\n"
          ]
        },
        {
          "output_type": "stream",
          "name": "stdout",
          "text": [
            "Updated data for CMA saved to /content/Candlestick-Pattern-Recognition-with-Python-and-TA-Lib/datasets/daily/CMA.csv\n"
          ]
        },
        {
          "output_type": "stream",
          "name": "stderr",
          "text": [
            "[*********************100%%**********************]  1 of 1 completed\n",
            "[*********************100%%**********************]  1 of 1 completed\n"
          ]
        },
        {
          "output_type": "stream",
          "name": "stdout",
          "text": [
            "Updated data for CMCSA saved to /content/Candlestick-Pattern-Recognition-with-Python-and-TA-Lib/datasets/daily/CMCSA.csv\n",
            "Updated data for CME saved to /content/Candlestick-Pattern-Recognition-with-Python-and-TA-Lib/datasets/daily/CME.csv\n"
          ]
        },
        {
          "output_type": "stream",
          "name": "stderr",
          "text": [
            "\r[*********************100%%**********************]  1 of 1 completed\n"
          ]
        },
        {
          "output_type": "stream",
          "name": "stdout",
          "text": [
            "Updated data for CMG saved to /content/Candlestick-Pattern-Recognition-with-Python-and-TA-Lib/datasets/daily/CMG.csv\n"
          ]
        },
        {
          "output_type": "stream",
          "name": "stderr",
          "text": [
            "\r[*********************100%%**********************]  1 of 1 completed\n"
          ]
        },
        {
          "output_type": "stream",
          "name": "stdout",
          "text": [
            "Updated data for CMI saved to /content/Candlestick-Pattern-Recognition-with-Python-and-TA-Lib/datasets/daily/CMI.csv\n"
          ]
        },
        {
          "output_type": "stream",
          "name": "stderr",
          "text": [
            "[*********************100%%**********************]  1 of 1 completed\n",
            "[*********************100%%**********************]  1 of 1 completed\n"
          ]
        },
        {
          "output_type": "stream",
          "name": "stdout",
          "text": [
            "Updated data for CMS saved to /content/Candlestick-Pattern-Recognition-with-Python-and-TA-Lib/datasets/daily/CMS.csv\n",
            "Updated data for CNC saved to /content/Candlestick-Pattern-Recognition-with-Python-and-TA-Lib/datasets/daily/CNC.csv\n"
          ]
        },
        {
          "output_type": "stream",
          "name": "stderr",
          "text": [
            "\r[*********************100%%**********************]  1 of 1 completed\n"
          ]
        },
        {
          "output_type": "stream",
          "name": "stdout",
          "text": [
            "Updated data for CNP saved to /content/Candlestick-Pattern-Recognition-with-Python-and-TA-Lib/datasets/daily/CNP.csv\n"
          ]
        },
        {
          "output_type": "stream",
          "name": "stderr",
          "text": [
            "\r[*********************100%%**********************]  1 of 1 completed\n"
          ]
        },
        {
          "output_type": "stream",
          "name": "stdout",
          "text": [
            "Updated data for COF saved to /content/Candlestick-Pattern-Recognition-with-Python-and-TA-Lib/datasets/daily/COF.csv\n"
          ]
        },
        {
          "output_type": "stream",
          "name": "stderr",
          "text": [
            "\r[*********************100%%**********************]  1 of 1 completed\n",
            "ERROR:yfinance:\n",
            "1 Failed download:\n",
            "ERROR:yfinance:['COG']: YFTzMissingError('$%ticker%: possibly delisted; No timezone found')\n"
          ]
        },
        {
          "output_type": "stream",
          "name": "stdout",
          "text": [
            "Updated data for COG saved to /content/Candlestick-Pattern-Recognition-with-Python-and-TA-Lib/datasets/daily/COG.csv\n"
          ]
        },
        {
          "output_type": "stream",
          "name": "stderr",
          "text": [
            "\r[*********************100%%**********************]  1 of 1 completed\n"
          ]
        },
        {
          "output_type": "stream",
          "name": "stdout",
          "text": [
            "Updated data for COO saved to /content/Candlestick-Pattern-Recognition-with-Python-and-TA-Lib/datasets/daily/COO.csv\n"
          ]
        },
        {
          "output_type": "stream",
          "name": "stderr",
          "text": [
            "[*********************100%%**********************]  1 of 1 completed\n",
            "[*********************100%%**********************]  1 of 1 completed\n"
          ]
        },
        {
          "output_type": "stream",
          "name": "stdout",
          "text": [
            "Updated data for COP saved to /content/Candlestick-Pattern-Recognition-with-Python-and-TA-Lib/datasets/daily/COP.csv\n",
            "Updated data for COST saved to /content/Candlestick-Pattern-Recognition-with-Python-and-TA-Lib/datasets/daily/COST.csv\n"
          ]
        },
        {
          "output_type": "stream",
          "name": "stderr",
          "text": [
            "\r[*********************100%%**********************]  1 of 1 completed\n"
          ]
        },
        {
          "output_type": "stream",
          "name": "stdout",
          "text": [
            "Updated data for COTY saved to /content/Candlestick-Pattern-Recognition-with-Python-and-TA-Lib/datasets/daily/COTY.csv\n"
          ]
        },
        {
          "output_type": "stream",
          "name": "stderr",
          "text": [
            "[*********************100%%**********************]  1 of 1 completed\n",
            "[*********************100%%**********************]  1 of 1 completed\n"
          ]
        },
        {
          "output_type": "stream",
          "name": "stdout",
          "text": [
            "Updated data for CPB saved to /content/Candlestick-Pattern-Recognition-with-Python-and-TA-Lib/datasets/daily/CPB.csv\n",
            "Updated data for CPRI saved to /content/Candlestick-Pattern-Recognition-with-Python-and-TA-Lib/datasets/daily/CPRI.csv\n"
          ]
        },
        {
          "output_type": "stream",
          "name": "stderr",
          "text": [
            "[*********************100%%**********************]  1 of 1 completed\n",
            "[*********************100%%**********************]  1 of 1 completed\n"
          ]
        },
        {
          "output_type": "stream",
          "name": "stdout",
          "text": [
            "Updated data for CPRT saved to /content/Candlestick-Pattern-Recognition-with-Python-and-TA-Lib/datasets/daily/CPRT.csv\n",
            "Updated data for CRM saved to /content/Candlestick-Pattern-Recognition-with-Python-and-TA-Lib/datasets/daily/CRM.csv\n"
          ]
        },
        {
          "output_type": "stream",
          "name": "stderr",
          "text": [
            "\r[*********************100%%**********************]  1 of 1 completed\n"
          ]
        },
        {
          "output_type": "stream",
          "name": "stdout",
          "text": [
            "Updated data for CSCO saved to /content/Candlestick-Pattern-Recognition-with-Python-and-TA-Lib/datasets/daily/CSCO.csv\n"
          ]
        },
        {
          "output_type": "stream",
          "name": "stderr",
          "text": [
            "\r[*********************100%%**********************]  1 of 1 completed\n"
          ]
        },
        {
          "output_type": "stream",
          "name": "stdout",
          "text": [
            "Updated data for CSX saved to /content/Candlestick-Pattern-Recognition-with-Python-and-TA-Lib/datasets/daily/CSX.csv\n"
          ]
        },
        {
          "output_type": "stream",
          "name": "stderr",
          "text": [
            "\r[*********************100%%**********************]  1 of 1 completed\n"
          ]
        },
        {
          "output_type": "stream",
          "name": "stdout",
          "text": [
            "Updated data for CTAS saved to /content/Candlestick-Pattern-Recognition-with-Python-and-TA-Lib/datasets/daily/CTAS.csv\n"
          ]
        },
        {
          "output_type": "stream",
          "name": "stderr",
          "text": [
            "\r[*********************100%%**********************]  1 of 1 completed\n",
            "ERROR:yfinance:\n",
            "1 Failed download:\n",
            "ERROR:yfinance:['CTL']: YFTzMissingError('$%ticker%: possibly delisted; No timezone found')\n",
            "[*********************100%%**********************]  1 of 1 completed\n"
          ]
        },
        {
          "output_type": "stream",
          "name": "stdout",
          "text": [
            "Updated data for CTL saved to /content/Candlestick-Pattern-Recognition-with-Python-and-TA-Lib/datasets/daily/CTL.csv\n",
            "Updated data for CTSH saved to /content/Candlestick-Pattern-Recognition-with-Python-and-TA-Lib/datasets/daily/CTSH.csv\n"
          ]
        },
        {
          "output_type": "stream",
          "name": "stderr",
          "text": [
            "\r[*********************100%%**********************]  1 of 1 completed\n"
          ]
        },
        {
          "output_type": "stream",
          "name": "stdout",
          "text": [
            "Updated data for CTVA saved to /content/Candlestick-Pattern-Recognition-with-Python-and-TA-Lib/datasets/daily/CTVA.csv\n"
          ]
        },
        {
          "output_type": "stream",
          "name": "stderr",
          "text": [
            "\r[*********************100%%**********************]  1 of 1 completed\n",
            "ERROR:yfinance:\n",
            "1 Failed download:\n",
            "ERROR:yfinance:['CTXS']: YFTzMissingError('$%ticker%: possibly delisted; No timezone found')\n"
          ]
        },
        {
          "output_type": "stream",
          "name": "stdout",
          "text": [
            "Updated data for CTXS saved to /content/Candlestick-Pattern-Recognition-with-Python-and-TA-Lib/datasets/daily/CTXS.csv\n"
          ]
        },
        {
          "output_type": "stream",
          "name": "stderr",
          "text": [
            "\r[*********************100%%**********************]  1 of 1 completed\n"
          ]
        },
        {
          "output_type": "stream",
          "name": "stdout",
          "text": [
            "Updated data for CVS saved to /content/Candlestick-Pattern-Recognition-with-Python-and-TA-Lib/datasets/daily/CVS.csv\n"
          ]
        },
        {
          "output_type": "stream",
          "name": "stderr",
          "text": [
            "\r[*********************100%%**********************]  1 of 1 completed\n"
          ]
        },
        {
          "output_type": "stream",
          "name": "stdout",
          "text": [
            "Updated data for CVX saved to /content/Candlestick-Pattern-Recognition-with-Python-and-TA-Lib/datasets/daily/CVX.csv\n"
          ]
        },
        {
          "output_type": "stream",
          "name": "stderr",
          "text": [
            "\r[*********************100%%**********************]  1 of 1 completed\n",
            "ERROR:yfinance:\n",
            "1 Failed download:\n",
            "ERROR:yfinance:['CXO']: YFTzMissingError('$%ticker%: possibly delisted; No timezone found')\n"
          ]
        },
        {
          "output_type": "stream",
          "name": "stdout",
          "text": [
            "Updated data for CXO saved to /content/Candlestick-Pattern-Recognition-with-Python-and-TA-Lib/datasets/daily/CXO.csv\n"
          ]
        },
        {
          "output_type": "stream",
          "name": "stderr",
          "text": [
            "[*********************100%%**********************]  1 of 1 completed\n",
            "[*********************100%%**********************]  1 of 1 completed\n"
          ]
        },
        {
          "output_type": "stream",
          "name": "stdout",
          "text": [
            "Updated data for D saved to /content/Candlestick-Pattern-Recognition-with-Python-and-TA-Lib/datasets/daily/D.csv\n",
            "Updated data for DAL saved to /content/Candlestick-Pattern-Recognition-with-Python-and-TA-Lib/datasets/daily/DAL.csv\n"
          ]
        },
        {
          "output_type": "stream",
          "name": "stderr",
          "text": [
            "\r[*********************100%%**********************]  1 of 1 completed\n"
          ]
        },
        {
          "output_type": "stream",
          "name": "stdout",
          "text": [
            "Updated data for DD saved to /content/Candlestick-Pattern-Recognition-with-Python-and-TA-Lib/datasets/daily/DD.csv\n"
          ]
        },
        {
          "output_type": "stream",
          "name": "stderr",
          "text": [
            "[*********************100%%**********************]  1 of 1 completed\n",
            "[*********************100%%**********************]  1 of 1 completed\n"
          ]
        },
        {
          "output_type": "stream",
          "name": "stdout",
          "text": [
            "Updated data for DE saved to /content/Candlestick-Pattern-Recognition-with-Python-and-TA-Lib/datasets/daily/DE.csv\n",
            "Updated data for DFS saved to /content/Candlestick-Pattern-Recognition-with-Python-and-TA-Lib/datasets/daily/DFS.csv\n"
          ]
        },
        {
          "output_type": "stream",
          "name": "stderr",
          "text": [
            "[*********************100%%**********************]  1 of 1 completed\n",
            "[*********************100%%**********************]  1 of 1 completed\n"
          ]
        },
        {
          "output_type": "stream",
          "name": "stdout",
          "text": [
            "Updated data for DG saved to /content/Candlestick-Pattern-Recognition-with-Python-and-TA-Lib/datasets/daily/DG.csv\n",
            "Updated data for DGX saved to /content/Candlestick-Pattern-Recognition-with-Python-and-TA-Lib/datasets/daily/DGX.csv\n"
          ]
        },
        {
          "output_type": "stream",
          "name": "stderr",
          "text": [
            "\r[*********************100%%**********************]  1 of 1 completed\n"
          ]
        },
        {
          "output_type": "stream",
          "name": "stdout",
          "text": [
            "Updated data for DHI saved to /content/Candlestick-Pattern-Recognition-with-Python-and-TA-Lib/datasets/daily/DHI.csv\n"
          ]
        },
        {
          "output_type": "stream",
          "name": "stderr",
          "text": [
            "[*********************100%%**********************]  1 of 1 completed\n",
            "[*********************100%%**********************]  1 of 1 completed\n"
          ]
        },
        {
          "output_type": "stream",
          "name": "stdout",
          "text": [
            "Updated data for DHR saved to /content/Candlestick-Pattern-Recognition-with-Python-and-TA-Lib/datasets/daily/DHR.csv\n",
            "Updated data for DIS saved to /content/Candlestick-Pattern-Recognition-with-Python-and-TA-Lib/datasets/daily/DIS.csv\n"
          ]
        },
        {
          "output_type": "stream",
          "name": "stderr",
          "text": [
            "\r[*********************100%%**********************]  1 of 1 completed\n",
            "ERROR:yfinance:\n",
            "1 Failed download:\n",
            "ERROR:yfinance:['DISCA']: YFTzMissingError('$%ticker%: possibly delisted; No timezone found')\n"
          ]
        },
        {
          "output_type": "stream",
          "name": "stdout",
          "text": [
            "Updated data for DISCA saved to /content/Candlestick-Pattern-Recognition-with-Python-and-TA-Lib/datasets/daily/DISCA.csv\n"
          ]
        },
        {
          "output_type": "stream",
          "name": "stderr",
          "text": [
            "\r[*********************100%%**********************]  1 of 1 completed\n",
            "ERROR:yfinance:\n",
            "1 Failed download:\n",
            "ERROR:yfinance:['DISCK']: YFTzMissingError('$%ticker%: possibly delisted; No timezone found')\n"
          ]
        },
        {
          "output_type": "stream",
          "name": "stdout",
          "text": [
            "Updated data for DISCK saved to /content/Candlestick-Pattern-Recognition-with-Python-and-TA-Lib/datasets/daily/DISCK.csv\n"
          ]
        },
        {
          "output_type": "stream",
          "name": "stderr",
          "text": [
            "\r[*********************100%%**********************]  1 of 1 completed\n",
            "ERROR:yfinance:\n",
            "1 Failed download:\n",
            "ERROR:yfinance:['DISH']: YFTzMissingError('$%ticker%: possibly delisted; No timezone found')\n",
            "[*********************100%%**********************]  1 of 1 completed\n"
          ]
        },
        {
          "output_type": "stream",
          "name": "stdout",
          "text": [
            "Updated data for DISH saved to /content/Candlestick-Pattern-Recognition-with-Python-and-TA-Lib/datasets/daily/DISH.csv\n"
          ]
        },
        {
          "output_type": "stream",
          "name": "stderr",
          "text": [
            "\r[*********************100%%**********************]  1 of 1 completed\n"
          ]
        },
        {
          "output_type": "stream",
          "name": "stdout",
          "text": [
            "Updated data for DLR saved to /content/Candlestick-Pattern-Recognition-with-Python-and-TA-Lib/datasets/daily/DLR.csv\n",
            "Updated data for DLTR saved to /content/Candlestick-Pattern-Recognition-with-Python-and-TA-Lib/datasets/daily/DLTR.csv\n"
          ]
        },
        {
          "output_type": "stream",
          "name": "stderr",
          "text": [
            "[*********************100%%**********************]  1 of 1 completed\n",
            "[*********************100%%**********************]  1 of 1 completed\n"
          ]
        },
        {
          "output_type": "stream",
          "name": "stdout",
          "text": [
            "Updated data for DOV saved to /content/Candlestick-Pattern-Recognition-with-Python-and-TA-Lib/datasets/daily/DOV.csv\n",
            "Updated data for DOW saved to /content/Candlestick-Pattern-Recognition-with-Python-and-TA-Lib/datasets/daily/DOW.csv\n"
          ]
        },
        {
          "output_type": "stream",
          "name": "stderr",
          "text": [
            "\r[*********************100%%**********************]  1 of 1 completed\n",
            "ERROR:yfinance:\n",
            "1 Failed download:\n",
            "ERROR:yfinance:['DRE']: YFTzMissingError('$%ticker%: possibly delisted; No timezone found')\n",
            "[*********************100%%**********************]  1 of 1 completed\n"
          ]
        },
        {
          "output_type": "stream",
          "name": "stdout",
          "text": [
            "Updated data for DRE saved to /content/Candlestick-Pattern-Recognition-with-Python-and-TA-Lib/datasets/daily/DRE.csv\n",
            "Updated data for DRI saved to /content/Candlestick-Pattern-Recognition-with-Python-and-TA-Lib/datasets/daily/DRI.csv\n"
          ]
        },
        {
          "output_type": "stream",
          "name": "stderr",
          "text": [
            "\r[*********************100%%**********************]  1 of 1 completed\n"
          ]
        },
        {
          "output_type": "stream",
          "name": "stdout",
          "text": [
            "Updated data for DTE saved to /content/Candlestick-Pattern-Recognition-with-Python-and-TA-Lib/datasets/daily/DTE.csv\n"
          ]
        },
        {
          "output_type": "stream",
          "name": "stderr",
          "text": [
            "[*********************100%%**********************]  1 of 1 completed\n",
            "[*********************100%%**********************]  1 of 1 completed\n"
          ]
        },
        {
          "output_type": "stream",
          "name": "stdout",
          "text": [
            "Updated data for DUK saved to /content/Candlestick-Pattern-Recognition-with-Python-and-TA-Lib/datasets/daily/DUK.csv\n",
            "Updated data for DVA saved to /content/Candlestick-Pattern-Recognition-with-Python-and-TA-Lib/datasets/daily/DVA.csv\n"
          ]
        },
        {
          "output_type": "stream",
          "name": "stderr",
          "text": [
            "[*********************100%%**********************]  1 of 1 completed\n",
            "[*********************100%%**********************]  1 of 1 completed\n"
          ]
        },
        {
          "output_type": "stream",
          "name": "stdout",
          "text": [
            "Updated data for DVN saved to /content/Candlestick-Pattern-Recognition-with-Python-and-TA-Lib/datasets/daily/DVN.csv\n",
            "Updated data for DXC saved to /content/Candlestick-Pattern-Recognition-with-Python-and-TA-Lib/datasets/daily/DXC.csv\n"
          ]
        },
        {
          "output_type": "stream",
          "name": "stderr",
          "text": [
            "[*********************100%%**********************]  1 of 1 completed\n",
            "[*********************100%%**********************]  1 of 1 completed\n"
          ]
        },
        {
          "output_type": "stream",
          "name": "stdout",
          "text": [
            "Updated data for EA saved to /content/Candlestick-Pattern-Recognition-with-Python-and-TA-Lib/datasets/daily/EA.csv\n",
            "Updated data for EBAY saved to /content/Candlestick-Pattern-Recognition-with-Python-and-TA-Lib/datasets/daily/EBAY.csv\n"
          ]
        },
        {
          "output_type": "stream",
          "name": "stderr",
          "text": [
            "\r[*********************100%%**********************]  1 of 1 completed\n"
          ]
        },
        {
          "output_type": "stream",
          "name": "stdout",
          "text": [
            "Updated data for ECL saved to /content/Candlestick-Pattern-Recognition-with-Python-and-TA-Lib/datasets/daily/ECL.csv\n"
          ]
        },
        {
          "output_type": "stream",
          "name": "stderr",
          "text": [
            "\r[*********************100%%**********************]  1 of 1 completed\n"
          ]
        },
        {
          "output_type": "stream",
          "name": "stdout",
          "text": [
            "Updated data for ED saved to /content/Candlestick-Pattern-Recognition-with-Python-and-TA-Lib/datasets/daily/ED.csv\n"
          ]
        },
        {
          "output_type": "stream",
          "name": "stderr",
          "text": [
            "\r[*********************100%%**********************]  1 of 1 completed\n"
          ]
        },
        {
          "output_type": "stream",
          "name": "stdout",
          "text": [
            "Updated data for EFX saved to /content/Candlestick-Pattern-Recognition-with-Python-and-TA-Lib/datasets/daily/EFX.csv\n"
          ]
        },
        {
          "output_type": "stream",
          "name": "stderr",
          "text": [
            "[*********************100%%**********************]  1 of 1 completed\n",
            "[*********************100%%**********************]  1 of 1 completed\n"
          ]
        },
        {
          "output_type": "stream",
          "name": "stdout",
          "text": [
            "Updated data for EIX saved to /content/Candlestick-Pattern-Recognition-with-Python-and-TA-Lib/datasets/daily/EIX.csv\n"
          ]
        },
        {
          "output_type": "stream",
          "name": "stderr",
          "text": [
            "\r[*********************100%%**********************]  1 of 1 completed"
          ]
        },
        {
          "output_type": "stream",
          "name": "stdout",
          "text": [
            "Updated data for EL saved to /content/Candlestick-Pattern-Recognition-with-Python-and-TA-Lib/datasets/daily/EL.csv\n"
          ]
        },
        {
          "output_type": "stream",
          "name": "stderr",
          "text": [
            "\n"
          ]
        },
        {
          "output_type": "stream",
          "name": "stdout",
          "text": [
            "Updated data for EMN saved to /content/Candlestick-Pattern-Recognition-with-Python-and-TA-Lib/datasets/daily/EMN.csv\n"
          ]
        },
        {
          "output_type": "stream",
          "name": "stderr",
          "text": [
            "\r[*********************100%%**********************]  1 of 1 completed\n"
          ]
        },
        {
          "output_type": "stream",
          "name": "stdout",
          "text": [
            "Updated data for EMR saved to /content/Candlestick-Pattern-Recognition-with-Python-and-TA-Lib/datasets/daily/EMR.csv\n"
          ]
        },
        {
          "output_type": "stream",
          "name": "stderr",
          "text": [
            "[*********************100%%**********************]  1 of 1 completed\n",
            "[*********************100%%**********************]  1 of 1 completed\n"
          ]
        },
        {
          "output_type": "stream",
          "name": "stdout",
          "text": [
            "Updated data for EOG saved to /content/Candlestick-Pattern-Recognition-with-Python-and-TA-Lib/datasets/daily/EOG.csv\n",
            "Updated data for EQIX saved to /content/Candlestick-Pattern-Recognition-with-Python-and-TA-Lib/datasets/daily/EQIX.csv\n"
          ]
        },
        {
          "output_type": "stream",
          "name": "stderr",
          "text": [
            "\r[*********************100%%**********************]  1 of 1 completed\n"
          ]
        },
        {
          "output_type": "stream",
          "name": "stdout",
          "text": [
            "Updated data for EQR saved to /content/Candlestick-Pattern-Recognition-with-Python-and-TA-Lib/datasets/daily/EQR.csv\n"
          ]
        },
        {
          "output_type": "stream",
          "name": "stderr",
          "text": [
            "[*********************100%%**********************]  1 of 1 completed\n",
            "[*********************100%%**********************]  1 of 1 completed\n"
          ]
        },
        {
          "output_type": "stream",
          "name": "stdout",
          "text": [
            "Updated data for ES saved to /content/Candlestick-Pattern-Recognition-with-Python-and-TA-Lib/datasets/daily/ES.csv\n",
            "Updated data for ESS saved to /content/Candlestick-Pattern-Recognition-with-Python-and-TA-Lib/datasets/daily/ESS.csv\n"
          ]
        },
        {
          "output_type": "stream",
          "name": "stderr",
          "text": [
            "\r[*********************100%%**********************]  1 of 1 completed\n",
            "ERROR:yfinance:\n",
            "1 Failed download:\n",
            "ERROR:yfinance:['ETFC']: YFTzMissingError('$%ticker%: possibly delisted; No timezone found')\n"
          ]
        },
        {
          "output_type": "stream",
          "name": "stdout",
          "text": [
            "Updated data for ETFC saved to /content/Candlestick-Pattern-Recognition-with-Python-and-TA-Lib/datasets/daily/ETFC.csv\n"
          ]
        },
        {
          "output_type": "stream",
          "name": "stderr",
          "text": [
            "\r[*********************100%%**********************]  1 of 1 completed\n"
          ]
        },
        {
          "output_type": "stream",
          "name": "stdout",
          "text": [
            "Updated data for ETN saved to /content/Candlestick-Pattern-Recognition-with-Python-and-TA-Lib/datasets/daily/ETN.csv\n"
          ]
        },
        {
          "output_type": "stream",
          "name": "stderr",
          "text": [
            "\r[*********************100%%**********************]  1 of 1 completed\n"
          ]
        },
        {
          "output_type": "stream",
          "name": "stdout",
          "text": [
            "Updated data for ETR saved to /content/Candlestick-Pattern-Recognition-with-Python-and-TA-Lib/datasets/daily/ETR.csv\n"
          ]
        },
        {
          "output_type": "stream",
          "name": "stderr",
          "text": [
            "[*********************100%%**********************]  1 of 1 completed\n",
            "[*********************100%%**********************]  1 of 1 completed\n"
          ]
        },
        {
          "output_type": "stream",
          "name": "stdout",
          "text": [
            "Updated data for EVRG saved to /content/Candlestick-Pattern-Recognition-with-Python-and-TA-Lib/datasets/daily/EVRG.csv\n",
            "Updated data for EW saved to /content/Candlestick-Pattern-Recognition-with-Python-and-TA-Lib/datasets/daily/EW.csv\n"
          ]
        },
        {
          "output_type": "stream",
          "name": "stderr",
          "text": [
            "[*********************100%%**********************]  1 of 1 completed\n",
            "[*********************100%%**********************]  1 of 1 completed\n"
          ]
        },
        {
          "output_type": "stream",
          "name": "stdout",
          "text": [
            "Updated data for EXC saved to /content/Candlestick-Pattern-Recognition-with-Python-and-TA-Lib/datasets/daily/EXC.csv\n"
          ]
        },
        {
          "output_type": "stream",
          "name": "stderr",
          "text": [
            "\r[*********************100%%**********************]  1 of 1 completed\n"
          ]
        },
        {
          "output_type": "stream",
          "name": "stdout",
          "text": [
            "Updated data for EXPD saved to /content/Candlestick-Pattern-Recognition-with-Python-and-TA-Lib/datasets/daily/EXPD.csv\n",
            "Updated data for EXPE saved to /content/Candlestick-Pattern-Recognition-with-Python-and-TA-Lib/datasets/daily/EXPE.csv\n"
          ]
        },
        {
          "output_type": "stream",
          "name": "stderr",
          "text": [
            "\r[*********************100%%**********************]  1 of 1 completed\n"
          ]
        },
        {
          "output_type": "stream",
          "name": "stdout",
          "text": [
            "Updated data for EXR saved to /content/Candlestick-Pattern-Recognition-with-Python-and-TA-Lib/datasets/daily/EXR.csv\n"
          ]
        },
        {
          "output_type": "stream",
          "name": "stderr",
          "text": [
            "[*********************100%%**********************]  1 of 1 completed\n",
            "[*********************100%%**********************]  1 of 1 completed\n"
          ]
        },
        {
          "output_type": "stream",
          "name": "stdout",
          "text": [
            "Updated data for F saved to /content/Candlestick-Pattern-Recognition-with-Python-and-TA-Lib/datasets/daily/F.csv\n",
            "Updated data for FANG saved to /content/Candlestick-Pattern-Recognition-with-Python-and-TA-Lib/datasets/daily/FANG.csv\n"
          ]
        },
        {
          "output_type": "stream",
          "name": "stderr",
          "text": [
            "\r[*********************100%%**********************]  1 of 1 completed\n"
          ]
        },
        {
          "output_type": "stream",
          "name": "stdout",
          "text": [
            "Updated data for FAST saved to /content/Candlestick-Pattern-Recognition-with-Python-and-TA-Lib/datasets/daily/FAST.csv\n"
          ]
        },
        {
          "output_type": "stream",
          "name": "stderr",
          "text": [
            "\r[*********************100%%**********************]  1 of 1 completed\n",
            "ERROR:yfinance:\n",
            "1 Failed download:\n",
            "ERROR:yfinance:['FB']: YFTzMissingError('$%ticker%: possibly delisted; No timezone found')\n"
          ]
        },
        {
          "output_type": "stream",
          "name": "stdout",
          "text": [
            "Updated data for FB saved to /content/Candlestick-Pattern-Recognition-with-Python-and-TA-Lib/datasets/daily/FB.csv\n"
          ]
        },
        {
          "output_type": "stream",
          "name": "stderr",
          "text": [
            "\r[*********************100%%**********************]  1 of 1 completed\n",
            "ERROR:yfinance:\n",
            "1 Failed download:\n",
            "ERROR:yfinance:['FBHS']: YFTzMissingError('$%ticker%: possibly delisted; No timezone found')\n",
            "[*********************100%%**********************]  1 of 1 completed\n"
          ]
        },
        {
          "output_type": "stream",
          "name": "stdout",
          "text": [
            "Updated data for FBHS saved to /content/Candlestick-Pattern-Recognition-with-Python-and-TA-Lib/datasets/daily/FBHS.csv\n",
            "Updated data for FCX saved to /content/Candlestick-Pattern-Recognition-with-Python-and-TA-Lib/datasets/daily/FCX.csv\n"
          ]
        },
        {
          "output_type": "stream",
          "name": "stderr",
          "text": [
            "[*********************100%%**********************]  1 of 1 completed\n",
            "[*********************100%%**********************]  1 of 1 completed\n"
          ]
        },
        {
          "output_type": "stream",
          "name": "stdout",
          "text": [
            "Updated data for FDX saved to /content/Candlestick-Pattern-Recognition-with-Python-and-TA-Lib/datasets/daily/FDX.csv\n",
            "Updated data for FE saved to /content/Candlestick-Pattern-Recognition-with-Python-and-TA-Lib/datasets/daily/FE.csv\n"
          ]
        },
        {
          "output_type": "stream",
          "name": "stderr",
          "text": [
            "[*********************100%%**********************]  1 of 1 completed\n",
            "[*********************100%%**********************]  1 of 1 completed\n"
          ]
        },
        {
          "output_type": "stream",
          "name": "stdout",
          "text": [
            "Updated data for FFIV saved to /content/Candlestick-Pattern-Recognition-with-Python-and-TA-Lib/datasets/daily/FFIV.csv\n",
            "Updated data for FIS saved to /content/Candlestick-Pattern-Recognition-with-Python-and-TA-Lib/datasets/daily/FIS.csv\n"
          ]
        },
        {
          "output_type": "stream",
          "name": "stderr",
          "text": [
            "\r[*********************100%%**********************]  1 of 1 completed\n"
          ]
        },
        {
          "output_type": "stream",
          "name": "stdout",
          "text": [
            "Updated data for FISV saved to /content/Candlestick-Pattern-Recognition-with-Python-and-TA-Lib/datasets/daily/FISV.csv\n"
          ]
        },
        {
          "output_type": "stream",
          "name": "stderr",
          "text": [
            "\r[*********************100%%**********************]  1 of 1 completed\n"
          ]
        },
        {
          "output_type": "stream",
          "name": "stdout",
          "text": [
            "Updated data for FITB saved to /content/Candlestick-Pattern-Recognition-with-Python-and-TA-Lib/datasets/daily/FITB.csv\n"
          ]
        },
        {
          "output_type": "stream",
          "name": "stderr",
          "text": [
            "\r[*********************100%%**********************]  1 of 1 completed\n",
            "ERROR:yfinance:\n",
            "1 Failed download:\n",
            "ERROR:yfinance:['FLIR']: YFTzMissingError('$%ticker%: possibly delisted; No timezone found')\n",
            "[*********************100%%**********************]  1 of 1 completed\n"
          ]
        },
        {
          "output_type": "stream",
          "name": "stdout",
          "text": [
            "Updated data for FLIR saved to /content/Candlestick-Pattern-Recognition-with-Python-and-TA-Lib/datasets/daily/FLIR.csv\n",
            "Updated data for FLS saved to /content/Candlestick-Pattern-Recognition-with-Python-and-TA-Lib/datasets/daily/FLS.csv\n"
          ]
        },
        {
          "output_type": "stream",
          "name": "stderr",
          "text": [
            "\r[*********************100%%**********************]  1 of 1 completed\n",
            "ERROR:yfinance:\n",
            "1 Failed download:\n",
            "ERROR:yfinance:['FLT']: YFTzMissingError('$%ticker%: possibly delisted; No timezone found')\n"
          ]
        },
        {
          "output_type": "stream",
          "name": "stdout",
          "text": [
            "Updated data for FLT saved to /content/Candlestick-Pattern-Recognition-with-Python-and-TA-Lib/datasets/daily/FLT.csv\n"
          ]
        },
        {
          "output_type": "stream",
          "name": "stderr",
          "text": [
            "[*********************100%%**********************]  1 of 1 completed\n",
            "[*********************100%%**********************]  1 of 1 completed\n"
          ]
        },
        {
          "output_type": "stream",
          "name": "stdout",
          "text": [
            "Updated data for FMC saved to /content/Candlestick-Pattern-Recognition-with-Python-and-TA-Lib/datasets/daily/FMC.csv\n",
            "Updated data for FOX saved to /content/Candlestick-Pattern-Recognition-with-Python-and-TA-Lib/datasets/daily/FOX.csv\n"
          ]
        },
        {
          "output_type": "stream",
          "name": "stderr",
          "text": [
            "\r[*********************100%%**********************]  1 of 1 completed\n"
          ]
        },
        {
          "output_type": "stream",
          "name": "stdout",
          "text": [
            "Updated data for FOXA saved to /content/Candlestick-Pattern-Recognition-with-Python-and-TA-Lib/datasets/daily/FOXA.csv\n"
          ]
        },
        {
          "output_type": "stream",
          "name": "stderr",
          "text": [
            "\r[*********************100%%**********************]  1 of 1 completed\n",
            "ERROR:yfinance:\n",
            "1 Failed download:\n",
            "ERROR:yfinance:['FRC']: YFTzMissingError('$%ticker%: possibly delisted; No timezone found')\n"
          ]
        },
        {
          "output_type": "stream",
          "name": "stdout",
          "text": [
            "Updated data for FRC saved to /content/Candlestick-Pattern-Recognition-with-Python-and-TA-Lib/datasets/daily/FRC.csv\n"
          ]
        },
        {
          "output_type": "stream",
          "name": "stderr",
          "text": [
            "[*********************100%%**********************]  1 of 1 completed\n",
            "[*********************100%%**********************]  1 of 1 completed\n"
          ]
        },
        {
          "output_type": "stream",
          "name": "stdout",
          "text": [
            "Updated data for FRT saved to /content/Candlestick-Pattern-Recognition-with-Python-and-TA-Lib/datasets/daily/FRT.csv\n",
            "Updated data for FTI saved to /content/Candlestick-Pattern-Recognition-with-Python-and-TA-Lib/datasets/daily/FTI.csv\n"
          ]
        },
        {
          "output_type": "stream",
          "name": "stderr",
          "text": [
            "[*********************100%%**********************]  1 of 1 completed\n",
            "[*********************100%%**********************]  1 of 1 completed\n"
          ]
        },
        {
          "output_type": "stream",
          "name": "stdout",
          "text": [
            "Updated data for FTNT saved to /content/Candlestick-Pattern-Recognition-with-Python-and-TA-Lib/datasets/daily/FTNT.csv\n",
            "Updated data for FTV saved to /content/Candlestick-Pattern-Recognition-with-Python-and-TA-Lib/datasets/daily/FTV.csv\n"
          ]
        },
        {
          "output_type": "stream",
          "name": "stderr",
          "text": [
            "\r[*********************100%%**********************]  1 of 1 completed\n"
          ]
        },
        {
          "output_type": "stream",
          "name": "stdout",
          "text": [
            "Updated data for GD saved to /content/Candlestick-Pattern-Recognition-with-Python-and-TA-Lib/datasets/daily/GD.csv\n"
          ]
        },
        {
          "output_type": "stream",
          "name": "stderr",
          "text": [
            "[*********************100%%**********************]  1 of 1 completed\n",
            "[*********************100%%**********************]  1 of 1 completed\n"
          ]
        },
        {
          "output_type": "stream",
          "name": "stdout",
          "text": [
            "Updated data for GE saved to /content/Candlestick-Pattern-Recognition-with-Python-and-TA-Lib/datasets/daily/GE.csv\n",
            "Updated data for GILD saved to /content/Candlestick-Pattern-Recognition-with-Python-and-TA-Lib/datasets/daily/GILD.csv\n"
          ]
        },
        {
          "output_type": "stream",
          "name": "stderr",
          "text": [
            "[*********************100%%**********************]  1 of 1 completed\n",
            "[*********************100%%**********************]  1 of 1 completed"
          ]
        },
        {
          "output_type": "stream",
          "name": "stdout",
          "text": [
            "Updated data for GIS saved to /content/Candlestick-Pattern-Recognition-with-Python-and-TA-Lib/datasets/daily/GIS.csv\n"
          ]
        },
        {
          "output_type": "stream",
          "name": "stderr",
          "text": [
            "\n"
          ]
        },
        {
          "output_type": "stream",
          "name": "stdout",
          "text": [
            "Updated data for GL saved to /content/Candlestick-Pattern-Recognition-with-Python-and-TA-Lib/datasets/daily/GL.csv\n"
          ]
        },
        {
          "output_type": "stream",
          "name": "stderr",
          "text": [
            "[*********************100%%**********************]  1 of 1 completed\n",
            "[*********************100%%**********************]  1 of 1 completed\n"
          ]
        },
        {
          "output_type": "stream",
          "name": "stdout",
          "text": [
            "Updated data for GLW saved to /content/Candlestick-Pattern-Recognition-with-Python-and-TA-Lib/datasets/daily/GLW.csv\n",
            "Updated data for GM saved to /content/Candlestick-Pattern-Recognition-with-Python-and-TA-Lib/datasets/daily/GM.csv\n"
          ]
        },
        {
          "output_type": "stream",
          "name": "stderr",
          "text": [
            "[*********************100%%**********************]  1 of 1 completed\n",
            "[*********************100%%**********************]  1 of 1 completed\n"
          ]
        },
        {
          "output_type": "stream",
          "name": "stdout",
          "text": [
            "Updated data for GOOG saved to /content/Candlestick-Pattern-Recognition-with-Python-and-TA-Lib/datasets/daily/GOOG.csv\n",
            "Updated data for GOOGL saved to /content/Candlestick-Pattern-Recognition-with-Python-and-TA-Lib/datasets/daily/GOOGL.csv\n"
          ]
        },
        {
          "output_type": "stream",
          "name": "stderr",
          "text": [
            "[*********************100%%**********************]  1 of 1 completed\n",
            "[*********************100%%**********************]  1 of 1 completed\n"
          ]
        },
        {
          "output_type": "stream",
          "name": "stdout",
          "text": [
            "Updated data for GPC saved to /content/Candlestick-Pattern-Recognition-with-Python-and-TA-Lib/datasets/daily/GPC.csv\n",
            "Updated data for GPN saved to /content/Candlestick-Pattern-Recognition-with-Python-and-TA-Lib/datasets/daily/GPN.csv\n"
          ]
        },
        {
          "output_type": "stream",
          "name": "stderr",
          "text": [
            "[*********************100%%**********************]  1 of 1 completed\n",
            "[*********************100%%**********************]  1 of 1 completed\n"
          ]
        },
        {
          "output_type": "stream",
          "name": "stdout",
          "text": [
            "Updated data for GPS saved to /content/Candlestick-Pattern-Recognition-with-Python-and-TA-Lib/datasets/daily/GPS.csv\n",
            "Updated data for GRMN saved to /content/Candlestick-Pattern-Recognition-with-Python-and-TA-Lib/datasets/daily/GRMN.csv\n"
          ]
        },
        {
          "output_type": "stream",
          "name": "stderr",
          "text": [
            "\r[*********************100%%**********************]  1 of 1 completed\n"
          ]
        },
        {
          "output_type": "stream",
          "name": "stdout",
          "text": [
            "Updated data for GS saved to /content/Candlestick-Pattern-Recognition-with-Python-and-TA-Lib/datasets/daily/GS.csv\n"
          ]
        },
        {
          "output_type": "stream",
          "name": "stderr",
          "text": [
            "\r[*********************100%%**********************]  1 of 1 completed\n"
          ]
        },
        {
          "output_type": "stream",
          "name": "stdout",
          "text": [
            "Updated data for GWW saved to /content/Candlestick-Pattern-Recognition-with-Python-and-TA-Lib/datasets/daily/GWW.csv\n"
          ]
        },
        {
          "output_type": "stream",
          "name": "stderr",
          "text": [
            "\r[*********************100%%**********************]  1 of 1 completed\n"
          ]
        },
        {
          "output_type": "stream",
          "name": "stdout",
          "text": [
            "Updated data for HAL saved to /content/Candlestick-Pattern-Recognition-with-Python-and-TA-Lib/datasets/daily/HAL.csv\n"
          ]
        },
        {
          "output_type": "stream",
          "name": "stderr",
          "text": [
            "[*********************100%%**********************]  1 of 1 completed\n",
            "[*********************100%%**********************]  1 of 1 completed"
          ]
        },
        {
          "output_type": "stream",
          "name": "stdout",
          "text": [
            "Updated data for HAS saved to /content/Candlestick-Pattern-Recognition-with-Python-and-TA-Lib/datasets/daily/HAS.csv\n"
          ]
        },
        {
          "output_type": "stream",
          "name": "stderr",
          "text": [
            "\n",
            "\r[*********************100%%**********************]  1 of 1 completed\n"
          ]
        },
        {
          "output_type": "stream",
          "name": "stdout",
          "text": [
            "Updated data for HBAN saved to /content/Candlestick-Pattern-Recognition-with-Python-and-TA-Lib/datasets/daily/HBAN.csv\n",
            "Updated data for HBI saved to /content/Candlestick-Pattern-Recognition-with-Python-and-TA-Lib/datasets/daily/HBI.csv\n"
          ]
        },
        {
          "output_type": "stream",
          "name": "stderr",
          "text": [
            "\r[*********************100%%**********************]  1 of 1 completed\n"
          ]
        },
        {
          "output_type": "stream",
          "name": "stdout",
          "text": [
            "Updated data for HCA saved to /content/Candlestick-Pattern-Recognition-with-Python-and-TA-Lib/datasets/daily/HCA.csv\n"
          ]
        },
        {
          "output_type": "stream",
          "name": "stderr",
          "text": [
            "\r[*********************100%%**********************]  1 of 1 completed\n"
          ]
        },
        {
          "output_type": "stream",
          "name": "stdout",
          "text": [
            "Updated data for HD saved to /content/Candlestick-Pattern-Recognition-with-Python-and-TA-Lib/datasets/daily/HD.csv\n"
          ]
        },
        {
          "output_type": "stream",
          "name": "stderr",
          "text": [
            "\r[*********************100%%**********************]  1 of 1 completed\n"
          ]
        },
        {
          "output_type": "stream",
          "name": "stdout",
          "text": [
            "Updated data for HES saved to /content/Candlestick-Pattern-Recognition-with-Python-and-TA-Lib/datasets/daily/HES.csv\n"
          ]
        },
        {
          "output_type": "stream",
          "name": "stderr",
          "text": [
            "\r[*********************100%%**********************]  1 of 1 completed\n",
            "ERROR:yfinance:\n",
            "1 Failed download:\n",
            "ERROR:yfinance:['HFC']: YFTzMissingError('$%ticker%: possibly delisted; No timezone found')\n"
          ]
        },
        {
          "output_type": "stream",
          "name": "stdout",
          "text": [
            "Updated data for HFC saved to /content/Candlestick-Pattern-Recognition-with-Python-and-TA-Lib/datasets/daily/HFC.csv\n"
          ]
        },
        {
          "output_type": "stream",
          "name": "stderr",
          "text": [
            "[*********************100%%**********************]  1 of 1 completed\n",
            "[*********************100%%**********************]  1 of 1 completed\n"
          ]
        },
        {
          "output_type": "stream",
          "name": "stdout",
          "text": [
            "Updated data for HIG saved to /content/Candlestick-Pattern-Recognition-with-Python-and-TA-Lib/datasets/daily/HIG.csv\n",
            "Updated data for HII saved to /content/Candlestick-Pattern-Recognition-with-Python-and-TA-Lib/datasets/daily/HII.csv\n"
          ]
        },
        {
          "output_type": "stream",
          "name": "stderr",
          "text": [
            "\r[*********************100%%**********************]  1 of 1 completed\n"
          ]
        },
        {
          "output_type": "stream",
          "name": "stdout",
          "text": [
            "Updated data for HLT saved to /content/Candlestick-Pattern-Recognition-with-Python-and-TA-Lib/datasets/daily/HLT.csv\n"
          ]
        },
        {
          "output_type": "stream",
          "name": "stderr",
          "text": [
            "[*********************100%%**********************]  1 of 1 completed\n",
            "[*********************100%%**********************]  1 of 1 completed\n"
          ]
        },
        {
          "output_type": "stream",
          "name": "stdout",
          "text": [
            "Updated data for HOG saved to /content/Candlestick-Pattern-Recognition-with-Python-and-TA-Lib/datasets/daily/HOG.csv\n",
            "Updated data for HOLX saved to /content/Candlestick-Pattern-Recognition-with-Python-and-TA-Lib/datasets/daily/HOLX.csv\n"
          ]
        },
        {
          "output_type": "stream",
          "name": "stderr",
          "text": [
            "\r[*********************100%%**********************]  1 of 1 completed\n"
          ]
        },
        {
          "output_type": "stream",
          "name": "stdout",
          "text": [
            "Updated data for HON saved to /content/Candlestick-Pattern-Recognition-with-Python-and-TA-Lib/datasets/daily/HON.csv\n"
          ]
        },
        {
          "output_type": "stream",
          "name": "stderr",
          "text": [
            "\r[*********************100%%**********************]  1 of 1 completed\n"
          ]
        },
        {
          "output_type": "stream",
          "name": "stdout",
          "text": [
            "Updated data for HP saved to /content/Candlestick-Pattern-Recognition-with-Python-and-TA-Lib/datasets/daily/HP.csv\n"
          ]
        },
        {
          "output_type": "stream",
          "name": "stderr",
          "text": [
            "\r[*********************100%%**********************]  1 of 1 completed\n"
          ]
        },
        {
          "output_type": "stream",
          "name": "stdout",
          "text": [
            "Updated data for HPE saved to /content/Candlestick-Pattern-Recognition-with-Python-and-TA-Lib/datasets/daily/HPE.csv\n"
          ]
        },
        {
          "output_type": "stream",
          "name": "stderr",
          "text": [
            "\r[*********************100%%**********************]  1 of 1 completed\n"
          ]
        },
        {
          "output_type": "stream",
          "name": "stdout",
          "text": [
            "Updated data for HPQ saved to /content/Candlestick-Pattern-Recognition-with-Python-and-TA-Lib/datasets/daily/HPQ.csv\n"
          ]
        },
        {
          "output_type": "stream",
          "name": "stderr",
          "text": [
            "\r[*********************100%%**********************]  1 of 1 completed\n"
          ]
        },
        {
          "output_type": "stream",
          "name": "stdout",
          "text": [
            "Updated data for HRB saved to /content/Candlestick-Pattern-Recognition-with-Python-and-TA-Lib/datasets/daily/HRB.csv\n"
          ]
        },
        {
          "output_type": "stream",
          "name": "stderr",
          "text": [
            "[*********************100%%**********************]  1 of 1 completed\n",
            "[*********************100%%**********************]  1 of 1 completed\n"
          ]
        },
        {
          "output_type": "stream",
          "name": "stdout",
          "text": [
            "Updated data for HRL saved to /content/Candlestick-Pattern-Recognition-with-Python-and-TA-Lib/datasets/daily/HRL.csv\n",
            "Updated data for HSIC saved to /content/Candlestick-Pattern-Recognition-with-Python-and-TA-Lib/datasets/daily/HSIC.csv\n"
          ]
        },
        {
          "output_type": "stream",
          "name": "stderr",
          "text": [
            "\r[*********************100%%**********************]  1 of 1 completed\n"
          ]
        },
        {
          "output_type": "stream",
          "name": "stdout",
          "text": [
            "Updated data for HST saved to /content/Candlestick-Pattern-Recognition-with-Python-and-TA-Lib/datasets/daily/HST.csv\n"
          ]
        },
        {
          "output_type": "stream",
          "name": "stderr",
          "text": [
            "\r[*********************100%%**********************]  1 of 1 completed\n"
          ]
        },
        {
          "output_type": "stream",
          "name": "stdout",
          "text": [
            "Updated data for HSY saved to /content/Candlestick-Pattern-Recognition-with-Python-and-TA-Lib/datasets/daily/HSY.csv\n"
          ]
        },
        {
          "output_type": "stream",
          "name": "stderr",
          "text": [
            "\r[*********************100%%**********************]  1 of 1 completed\n"
          ]
        },
        {
          "output_type": "stream",
          "name": "stdout",
          "text": [
            "Updated data for HUM saved to /content/Candlestick-Pattern-Recognition-with-Python-and-TA-Lib/datasets/daily/HUM.csv\n"
          ]
        },
        {
          "output_type": "stream",
          "name": "stderr",
          "text": [
            "[*********************100%%**********************]  1 of 1 completed\n",
            "[*********************100%%**********************]  1 of 1 completed\n"
          ]
        },
        {
          "output_type": "stream",
          "name": "stdout",
          "text": [
            "Updated data for IBM saved to /content/Candlestick-Pattern-Recognition-with-Python-and-TA-Lib/datasets/daily/IBM.csv\n",
            "Updated data for ICE saved to /content/Candlestick-Pattern-Recognition-with-Python-and-TA-Lib/datasets/daily/ICE.csv\n"
          ]
        },
        {
          "output_type": "stream",
          "name": "stderr",
          "text": [
            "\r[*********************100%%**********************]  1 of 1 completed\n"
          ]
        },
        {
          "output_type": "stream",
          "name": "stdout",
          "text": [
            "Updated data for IDXX saved to /content/Candlestick-Pattern-Recognition-with-Python-and-TA-Lib/datasets/daily/IDXX.csv\n"
          ]
        },
        {
          "output_type": "stream",
          "name": "stderr",
          "text": [
            "\r[*********************100%%**********************]  1 of 1 completed\n"
          ]
        },
        {
          "output_type": "stream",
          "name": "stdout",
          "text": [
            "Updated data for IEX saved to /content/Candlestick-Pattern-Recognition-with-Python-and-TA-Lib/datasets/daily/IEX.csv\n"
          ]
        },
        {
          "output_type": "stream",
          "name": "stderr",
          "text": [
            "[*********************100%%**********************]  1 of 1 completed\n",
            "[*********************100%%**********************]  1 of 1 completed\n"
          ]
        },
        {
          "output_type": "stream",
          "name": "stdout",
          "text": [
            "Updated data for IFF saved to /content/Candlestick-Pattern-Recognition-with-Python-and-TA-Lib/datasets/daily/IFF.csv\n",
            "Updated data for ILMN saved to /content/Candlestick-Pattern-Recognition-with-Python-and-TA-Lib/datasets/daily/ILMN.csv\n"
          ]
        },
        {
          "output_type": "stream",
          "name": "stderr",
          "text": [
            "\r[*********************100%%**********************]  1 of 1 completed\n"
          ]
        },
        {
          "output_type": "stream",
          "name": "stdout",
          "text": [
            "Updated data for INCY saved to /content/Candlestick-Pattern-Recognition-with-Python-and-TA-Lib/datasets/daily/INCY.csv\n"
          ]
        },
        {
          "output_type": "stream",
          "name": "stderr",
          "text": [
            "\r[*********************100%%**********************]  1 of 1 completed\n",
            "ERROR:yfinance:\n",
            "1 Failed download:\n",
            "ERROR:yfinance:['INFO']: YFTzMissingError('$%ticker%: possibly delisted; No timezone found')\n"
          ]
        },
        {
          "output_type": "stream",
          "name": "stdout",
          "text": [
            "Updated data for INFO saved to /content/Candlestick-Pattern-Recognition-with-Python-and-TA-Lib/datasets/daily/INFO.csv\n"
          ]
        },
        {
          "output_type": "stream",
          "name": "stderr",
          "text": [
            "[*********************100%%**********************]  1 of 1 completed\n",
            "[*********************100%%**********************]  1 of 1 completed\n"
          ]
        },
        {
          "output_type": "stream",
          "name": "stdout",
          "text": [
            "Updated data for INTC saved to /content/Candlestick-Pattern-Recognition-with-Python-and-TA-Lib/datasets/daily/INTC.csv\n",
            "Updated data for INTU saved to /content/Candlestick-Pattern-Recognition-with-Python-and-TA-Lib/datasets/daily/INTU.csv\n"
          ]
        },
        {
          "output_type": "stream",
          "name": "stderr",
          "text": [
            "\r[*********************100%%**********************]  1 of 1 completed\n"
          ]
        },
        {
          "output_type": "stream",
          "name": "stdout",
          "text": [
            "Updated data for IP saved to /content/Candlestick-Pattern-Recognition-with-Python-and-TA-Lib/datasets/daily/IP.csv\n"
          ]
        },
        {
          "output_type": "stream",
          "name": "stderr",
          "text": [
            "[*********************100%%**********************]  1 of 1 completed\n",
            "[*********************100%%**********************]  1 of 1 completed\n"
          ]
        },
        {
          "output_type": "stream",
          "name": "stdout",
          "text": [
            "Updated data for IPG saved to /content/Candlestick-Pattern-Recognition-with-Python-and-TA-Lib/datasets/daily/IPG.csv\n",
            "Updated data for IPGP saved to /content/Candlestick-Pattern-Recognition-with-Python-and-TA-Lib/datasets/daily/IPGP.csv\n"
          ]
        },
        {
          "output_type": "stream",
          "name": "stderr",
          "text": [
            "[*********************100%%**********************]  1 of 1 completed\n",
            "[*********************100%%**********************]  1 of 1 completed\n"
          ]
        },
        {
          "output_type": "stream",
          "name": "stdout",
          "text": [
            "Updated data for IQV saved to /content/Candlestick-Pattern-Recognition-with-Python-and-TA-Lib/datasets/daily/IQV.csv\n",
            "Updated data for IR saved to /content/Candlestick-Pattern-Recognition-with-Python-and-TA-Lib/datasets/daily/IR.csv\n"
          ]
        },
        {
          "output_type": "stream",
          "name": "stderr",
          "text": [
            "[*********************100%%**********************]  1 of 1 completed\n",
            "[*********************100%%**********************]  1 of 1 completed\n"
          ]
        },
        {
          "output_type": "stream",
          "name": "stdout",
          "text": [
            "Updated data for IRM saved to /content/Candlestick-Pattern-Recognition-with-Python-and-TA-Lib/datasets/daily/IRM.csv\n",
            "Updated data for ISRG saved to /content/Candlestick-Pattern-Recognition-with-Python-and-TA-Lib/datasets/daily/ISRG.csv\n"
          ]
        },
        {
          "output_type": "stream",
          "name": "stderr",
          "text": [
            "[*********************100%%**********************]  1 of 1 completed\n",
            "[*********************100%%**********************]  1 of 1 completed"
          ]
        },
        {
          "output_type": "stream",
          "name": "stdout",
          "text": [
            "Updated data for IT saved to /content/Candlestick-Pattern-Recognition-with-Python-and-TA-Lib/datasets/daily/IT.csv\n"
          ]
        },
        {
          "output_type": "stream",
          "name": "stderr",
          "text": [
            "\n",
            "[*********************100%%**********************]  1 of 1 completed"
          ]
        },
        {
          "output_type": "stream",
          "name": "stdout",
          "text": [
            "Updated data for ITW saved to /content/Candlestick-Pattern-Recognition-with-Python-and-TA-Lib/datasets/daily/ITW.csv\n"
          ]
        },
        {
          "output_type": "stream",
          "name": "stderr",
          "text": [
            "\n",
            "\r[*********************100%%**********************]  1 of 1 completed\n"
          ]
        },
        {
          "output_type": "stream",
          "name": "stdout",
          "text": [
            "Updated data for IVZ saved to /content/Candlestick-Pattern-Recognition-with-Python-and-TA-Lib/datasets/daily/IVZ.csv\n",
            "Updated data for J saved to /content/Candlestick-Pattern-Recognition-with-Python-and-TA-Lib/datasets/daily/J.csv\n"
          ]
        },
        {
          "output_type": "stream",
          "name": "stderr",
          "text": [
            "[*********************100%%**********************]  1 of 1 completed\n",
            "[*********************100%%**********************]  1 of 1 completed\n"
          ]
        },
        {
          "output_type": "stream",
          "name": "stdout",
          "text": [
            "Updated data for JBHT saved to /content/Candlestick-Pattern-Recognition-with-Python-and-TA-Lib/datasets/daily/JBHT.csv\n",
            "Updated data for JCI saved to /content/Candlestick-Pattern-Recognition-with-Python-and-TA-Lib/datasets/daily/JCI.csv\n"
          ]
        },
        {
          "output_type": "stream",
          "name": "stderr",
          "text": [
            "\r[*********************100%%**********************]  1 of 1 completed\n"
          ]
        },
        {
          "output_type": "stream",
          "name": "stdout",
          "text": [
            "Updated data for JKHY saved to /content/Candlestick-Pattern-Recognition-with-Python-and-TA-Lib/datasets/daily/JKHY.csv\n"
          ]
        },
        {
          "output_type": "stream",
          "name": "stderr",
          "text": [
            "[*********************100%%**********************]  1 of 1 completed\n",
            "[*********************100%%**********************]  1 of 1 completed\n"
          ]
        },
        {
          "output_type": "stream",
          "name": "stdout",
          "text": [
            "Updated data for JNJ saved to /content/Candlestick-Pattern-Recognition-with-Python-and-TA-Lib/datasets/daily/JNJ.csv\n",
            "Updated data for JNPR saved to /content/Candlestick-Pattern-Recognition-with-Python-and-TA-Lib/datasets/daily/JNPR.csv\n"
          ]
        },
        {
          "output_type": "stream",
          "name": "stderr",
          "text": [
            "[*********************100%%**********************]  1 of 1 completed\n",
            "[*********************100%%**********************]  1 of 1 completed\n"
          ]
        },
        {
          "output_type": "stream",
          "name": "stdout",
          "text": [
            "Updated data for JPM saved to /content/Candlestick-Pattern-Recognition-with-Python-and-TA-Lib/datasets/daily/JPM.csv\n",
            "Updated data for JWN saved to /content/Candlestick-Pattern-Recognition-with-Python-and-TA-Lib/datasets/daily/JWN.csv\n"
          ]
        },
        {
          "output_type": "stream",
          "name": "stderr",
          "text": [
            "\r[*********************100%%**********************]  1 of 1 completed\n"
          ]
        },
        {
          "output_type": "stream",
          "name": "stdout",
          "text": [
            "Updated data for K saved to /content/Candlestick-Pattern-Recognition-with-Python-and-TA-Lib/datasets/daily/K.csv\n"
          ]
        },
        {
          "output_type": "stream",
          "name": "stderr",
          "text": [
            "[*********************100%%**********************]  1 of 1 completed\n",
            "[*********************100%%**********************]  1 of 1 completed\n"
          ]
        },
        {
          "output_type": "stream",
          "name": "stdout",
          "text": [
            "Updated data for KEY saved to /content/Candlestick-Pattern-Recognition-with-Python-and-TA-Lib/datasets/daily/KEY.csv\n",
            "Updated data for KEYS saved to /content/Candlestick-Pattern-Recognition-with-Python-and-TA-Lib/datasets/daily/KEYS.csv\n"
          ]
        },
        {
          "output_type": "stream",
          "name": "stderr",
          "text": [
            "[*********************100%%**********************]  1 of 1 completed\n",
            "[*********************100%%**********************]  1 of 1 completed\n"
          ]
        },
        {
          "output_type": "stream",
          "name": "stdout",
          "text": [
            "Updated data for KHC saved to /content/Candlestick-Pattern-Recognition-with-Python-and-TA-Lib/datasets/daily/KHC.csv\n"
          ]
        },
        {
          "output_type": "stream",
          "name": "stderr",
          "text": [
            "\r[*********************100%%**********************]  1 of 1 completed\n"
          ]
        },
        {
          "output_type": "stream",
          "name": "stdout",
          "text": [
            "Updated data for KIM saved to /content/Candlestick-Pattern-Recognition-with-Python-and-TA-Lib/datasets/daily/KIM.csv\n",
            "Updated data for KLAC saved to /content/Candlestick-Pattern-Recognition-with-Python-and-TA-Lib/datasets/daily/KLAC.csv\n"
          ]
        },
        {
          "output_type": "stream",
          "name": "stderr",
          "text": [
            "[*********************100%%**********************]  1 of 1 completed\n",
            "[*********************100%%**********************]  1 of 1 completed\n"
          ]
        },
        {
          "output_type": "stream",
          "name": "stdout",
          "text": [
            "Updated data for KMB saved to /content/Candlestick-Pattern-Recognition-with-Python-and-TA-Lib/datasets/daily/KMB.csv\n",
            "Updated data for KMI saved to /content/Candlestick-Pattern-Recognition-with-Python-and-TA-Lib/datasets/daily/KMI.csv\n"
          ]
        },
        {
          "output_type": "stream",
          "name": "stderr",
          "text": [
            "\r[*********************100%%**********************]  1 of 1 completed\n"
          ]
        },
        {
          "output_type": "stream",
          "name": "stdout",
          "text": [
            "Updated data for KMX saved to /content/Candlestick-Pattern-Recognition-with-Python-and-TA-Lib/datasets/daily/KMX.csv\n"
          ]
        },
        {
          "output_type": "stream",
          "name": "stderr",
          "text": [
            "\r[*********************100%%**********************]  1 of 1 completed\n"
          ]
        },
        {
          "output_type": "stream",
          "name": "stdout",
          "text": [
            "Updated data for KO saved to /content/Candlestick-Pattern-Recognition-with-Python-and-TA-Lib/datasets/daily/KO.csv\n"
          ]
        },
        {
          "output_type": "stream",
          "name": "stderr",
          "text": [
            "[*********************100%%**********************]  1 of 1 completed\n",
            "[*********************100%%**********************]  1 of 1 completed\n"
          ]
        },
        {
          "output_type": "stream",
          "name": "stdout",
          "text": [
            "Updated data for KR saved to /content/Candlestick-Pattern-Recognition-with-Python-and-TA-Lib/datasets/daily/KR.csv\n",
            "Updated data for KSS saved to /content/Candlestick-Pattern-Recognition-with-Python-and-TA-Lib/datasets/daily/KSS.csv\n"
          ]
        },
        {
          "output_type": "stream",
          "name": "stderr",
          "text": [
            "\r[*********************100%%**********************]  1 of 1 completed\n",
            "ERROR:yfinance:\n",
            "1 Failed download:\n",
            "ERROR:yfinance:['KSU']: YFTzMissingError('$%ticker%: possibly delisted; No timezone found')\n",
            "[*********************100%%**********************]  1 of 1 completed\n"
          ]
        },
        {
          "output_type": "stream",
          "name": "stdout",
          "text": [
            "Updated data for KSU saved to /content/Candlestick-Pattern-Recognition-with-Python-and-TA-Lib/datasets/daily/KSU.csv\n",
            "Updated data for L saved to /content/Candlestick-Pattern-Recognition-with-Python-and-TA-Lib/datasets/daily/L.csv\n"
          ]
        },
        {
          "output_type": "stream",
          "name": "stderr",
          "text": [
            "\r[*********************100%%**********************]  1 of 1 completed\n",
            "ERROR:yfinance:\n",
            "1 Failed download:\n",
            "ERROR:yfinance:['LB']: YFTzMissingError('$%ticker%: possibly delisted; No timezone found')\n",
            "[*********************100%%**********************]  1 of 1 completed\n"
          ]
        },
        {
          "output_type": "stream",
          "name": "stdout",
          "text": [
            "Updated data for LB saved to /content/Candlestick-Pattern-Recognition-with-Python-and-TA-Lib/datasets/daily/LB.csv\n",
            "Updated data for LDOS saved to /content/Candlestick-Pattern-Recognition-with-Python-and-TA-Lib/datasets/daily/LDOS.csv\n"
          ]
        },
        {
          "output_type": "stream",
          "name": "stderr",
          "text": [
            "[*********************100%%**********************]  1 of 1 completed\n",
            "[*********************100%%**********************]  1 of 1 completed\n"
          ]
        },
        {
          "output_type": "stream",
          "name": "stdout",
          "text": [
            "Updated data for LEG saved to /content/Candlestick-Pattern-Recognition-with-Python-and-TA-Lib/datasets/daily/LEG.csv\n",
            "Updated data for LEN saved to /content/Candlestick-Pattern-Recognition-with-Python-and-TA-Lib/datasets/daily/LEN.csv\n"
          ]
        },
        {
          "output_type": "stream",
          "name": "stderr",
          "text": [
            "[*********************100%%**********************]  1 of 1 completed\n",
            "[*********************100%%**********************]  1 of 1 completed\n"
          ]
        },
        {
          "output_type": "stream",
          "name": "stdout",
          "text": [
            "Updated data for LH saved to /content/Candlestick-Pattern-Recognition-with-Python-and-TA-Lib/datasets/daily/LH.csv\n",
            "Updated data for LHX saved to /content/Candlestick-Pattern-Recognition-with-Python-and-TA-Lib/datasets/daily/LHX.csv\n"
          ]
        },
        {
          "output_type": "stream",
          "name": "stderr",
          "text": [
            "[*********************100%%**********************]  1 of 1 completed\n",
            "[*********************100%%**********************]  1 of 1 completed\n"
          ]
        },
        {
          "output_type": "stream",
          "name": "stdout",
          "text": [
            "Updated data for LIN saved to /content/Candlestick-Pattern-Recognition-with-Python-and-TA-Lib/datasets/daily/LIN.csv\n",
            "Updated data for LKQ saved to /content/Candlestick-Pattern-Recognition-with-Python-and-TA-Lib/datasets/daily/LKQ.csv\n"
          ]
        },
        {
          "output_type": "stream",
          "name": "stderr",
          "text": [
            "[*********************100%%**********************]  1 of 1 completed\n",
            "[*********************100%%**********************]  1 of 1 completed\n"
          ]
        },
        {
          "output_type": "stream",
          "name": "stdout",
          "text": [
            "Updated data for LLY saved to /content/Candlestick-Pattern-Recognition-with-Python-and-TA-Lib/datasets/daily/LLY.csv\n",
            "Updated data for LMT saved to /content/Candlestick-Pattern-Recognition-with-Python-and-TA-Lib/datasets/daily/LMT.csv\n"
          ]
        },
        {
          "output_type": "stream",
          "name": "stderr",
          "text": [
            "\r[*********************100%%**********************]  1 of 1 completed\n"
          ]
        },
        {
          "output_type": "stream",
          "name": "stdout",
          "text": [
            "Updated data for LNC saved to /content/Candlestick-Pattern-Recognition-with-Python-and-TA-Lib/datasets/daily/LNC.csv\n"
          ]
        },
        {
          "output_type": "stream",
          "name": "stderr",
          "text": [
            "[*********************100%%**********************]  1 of 1 completed\n",
            "[*********************100%%**********************]  1 of 1 completed\n"
          ]
        },
        {
          "output_type": "stream",
          "name": "stdout",
          "text": [
            "Updated data for LNT saved to /content/Candlestick-Pattern-Recognition-with-Python-and-TA-Lib/datasets/daily/LNT.csv\n",
            "Updated data for LOW saved to /content/Candlestick-Pattern-Recognition-with-Python-and-TA-Lib/datasets/daily/LOW.csv\n"
          ]
        },
        {
          "output_type": "stream",
          "name": "stderr",
          "text": [
            "[*********************100%%**********************]  1 of 1 completed\n",
            "[*********************100%%**********************]  1 of 1 completed\n"
          ]
        },
        {
          "output_type": "stream",
          "name": "stdout",
          "text": [
            "Updated data for LRCX saved to /content/Candlestick-Pattern-Recognition-with-Python-and-TA-Lib/datasets/daily/LRCX.csv\n",
            "Updated data for LUV saved to /content/Candlestick-Pattern-Recognition-with-Python-and-TA-Lib/datasets/daily/LUV.csv\n"
          ]
        },
        {
          "output_type": "stream",
          "name": "stderr",
          "text": [
            "[*********************100%%**********************]  1 of 1 completed\n",
            "[*********************100%%**********************]  1 of 1 completed\n",
            "[*********************100%%**********************]  1 of 1 completed\n"
          ]
        },
        {
          "output_type": "stream",
          "name": "stdout",
          "text": [
            "Updated data for LVS saved to /content/Candlestick-Pattern-Recognition-with-Python-and-TA-Lib/datasets/daily/LVS.csv\n",
            "Updated data for LW saved to /content/Candlestick-Pattern-Recognition-with-Python-and-TA-Lib/datasets/daily/LW.csv\n",
            "Updated data for LYB saved to /content/Candlestick-Pattern-Recognition-with-Python-and-TA-Lib/datasets/daily/LYB.csv\n"
          ]
        },
        {
          "output_type": "stream",
          "name": "stderr",
          "text": [
            "[*********************100%%**********************]  1 of 1 completed\n",
            "[*********************100%%**********************]  1 of 1 completed\n"
          ]
        },
        {
          "output_type": "stream",
          "name": "stdout",
          "text": [
            "Updated data for LYV saved to /content/Candlestick-Pattern-Recognition-with-Python-and-TA-Lib/datasets/daily/LYV.csv\n",
            "Updated data for M saved to /content/Candlestick-Pattern-Recognition-with-Python-and-TA-Lib/datasets/daily/M.csv\n"
          ]
        },
        {
          "output_type": "stream",
          "name": "stderr",
          "text": [
            "[*********************100%%**********************]  1 of 1 completed\n",
            "[*********************100%%**********************]  1 of 1 completed\n"
          ]
        },
        {
          "output_type": "stream",
          "name": "stdout",
          "text": [
            "Updated data for MA saved to /content/Candlestick-Pattern-Recognition-with-Python-and-TA-Lib/datasets/daily/MA.csv\n",
            "Updated data for MAA saved to /content/Candlestick-Pattern-Recognition-with-Python-and-TA-Lib/datasets/daily/MAA.csv\n"
          ]
        },
        {
          "output_type": "stream",
          "name": "stderr",
          "text": [
            "[*********************100%%**********************]  1 of 1 completed\n",
            "[*********************100%%**********************]  1 of 1 completed\n"
          ]
        },
        {
          "output_type": "stream",
          "name": "stdout",
          "text": [
            "Updated data for MAR saved to /content/Candlestick-Pattern-Recognition-with-Python-and-TA-Lib/datasets/daily/MAR.csv\n",
            "Updated data for MAS saved to /content/Candlestick-Pattern-Recognition-with-Python-and-TA-Lib/datasets/daily/MAS.csv\n"
          ]
        },
        {
          "output_type": "stream",
          "name": "stderr",
          "text": [
            "[*********************100%%**********************]  1 of 1 completed\n",
            "[*********************100%%**********************]  1 of 1 completed\n"
          ]
        },
        {
          "output_type": "stream",
          "name": "stdout",
          "text": [
            "Updated data for MCD saved to /content/Candlestick-Pattern-Recognition-with-Python-and-TA-Lib/datasets/daily/MCD.csv\n",
            "Updated data for MCHP saved to /content/Candlestick-Pattern-Recognition-with-Python-and-TA-Lib/datasets/daily/MCHP.csv\n"
          ]
        },
        {
          "output_type": "stream",
          "name": "stderr",
          "text": [
            "[*********************100%%**********************]  1 of 1 completed\n",
            "[*********************100%%**********************]  1 of 1 completed\n"
          ]
        },
        {
          "output_type": "stream",
          "name": "stdout",
          "text": [
            "Updated data for MCK saved to /content/Candlestick-Pattern-Recognition-with-Python-and-TA-Lib/datasets/daily/MCK.csv\n",
            "Updated data for MCO saved to /content/Candlestick-Pattern-Recognition-with-Python-and-TA-Lib/datasets/daily/MCO.csv\n"
          ]
        },
        {
          "output_type": "stream",
          "name": "stderr",
          "text": [
            "[*********************100%%**********************]  1 of 1 completed\n",
            "[*********************100%%**********************]  1 of 1 completed\n"
          ]
        },
        {
          "output_type": "stream",
          "name": "stdout",
          "text": [
            "Updated data for MDLZ saved to /content/Candlestick-Pattern-Recognition-with-Python-and-TA-Lib/datasets/daily/MDLZ.csv\n",
            "Updated data for MDT saved to /content/Candlestick-Pattern-Recognition-with-Python-and-TA-Lib/datasets/daily/MDT.csv\n"
          ]
        },
        {
          "output_type": "stream",
          "name": "stderr",
          "text": [
            "[*********************100%%**********************]  1 of 1 completed\n",
            "[*********************100%%**********************]  1 of 1 completed\n",
            "[*********************100%%**********************]  1 of 1 completed\n"
          ]
        },
        {
          "output_type": "stream",
          "name": "stdout",
          "text": [
            "Updated data for MET saved to /content/Candlestick-Pattern-Recognition-with-Python-and-TA-Lib/datasets/daily/MET.csv\n",
            "Updated data for MGM saved to /content/Candlestick-Pattern-Recognition-with-Python-and-TA-Lib/datasets/daily/MGM.csv\n",
            "Updated data for MHK saved to /content/Candlestick-Pattern-Recognition-with-Python-and-TA-Lib/datasets/daily/MHK.csv\n"
          ]
        },
        {
          "output_type": "stream",
          "name": "stderr",
          "text": [
            "[*********************100%%**********************]  1 of 1 completed\n",
            "[*********************100%%**********************]  1 of 1 completed\n"
          ]
        },
        {
          "output_type": "stream",
          "name": "stdout",
          "text": [
            "Updated data for MKC saved to /content/Candlestick-Pattern-Recognition-with-Python-and-TA-Lib/datasets/daily/MKC.csv\n",
            "Updated data for MKTX saved to /content/Candlestick-Pattern-Recognition-with-Python-and-TA-Lib/datasets/daily/MKTX.csv\n"
          ]
        },
        {
          "output_type": "stream",
          "name": "stderr",
          "text": [
            "[*********************100%%**********************]  1 of 1 completed\n",
            "[*********************100%%**********************]  1 of 1 completed\n"
          ]
        },
        {
          "output_type": "stream",
          "name": "stdout",
          "text": [
            "Updated data for MLM saved to /content/Candlestick-Pattern-Recognition-with-Python-and-TA-Lib/datasets/daily/MLM.csv\n",
            "Updated data for MMC saved to /content/Candlestick-Pattern-Recognition-with-Python-and-TA-Lib/datasets/daily/MMC.csv\n"
          ]
        },
        {
          "output_type": "stream",
          "name": "stderr",
          "text": [
            "[*********************100%%**********************]  1 of 1 completed\n",
            "[*********************100%%**********************]  1 of 1 completed\n"
          ]
        },
        {
          "output_type": "stream",
          "name": "stdout",
          "text": [
            "Updated data for MMM saved to /content/Candlestick-Pattern-Recognition-with-Python-and-TA-Lib/datasets/daily/MMM.csv\n",
            "Updated data for MNST saved to /content/Candlestick-Pattern-Recognition-with-Python-and-TA-Lib/datasets/daily/MNST.csv\n"
          ]
        },
        {
          "output_type": "stream",
          "name": "stderr",
          "text": [
            "[*********************100%%**********************]  1 of 1 completed\n",
            "[*********************100%%**********************]  1 of 1 completed\n"
          ]
        },
        {
          "output_type": "stream",
          "name": "stdout",
          "text": [
            "Updated data for MO saved to /content/Candlestick-Pattern-Recognition-with-Python-and-TA-Lib/datasets/daily/MO.csv\n",
            "Updated data for MOS saved to /content/Candlestick-Pattern-Recognition-with-Python-and-TA-Lib/datasets/daily/MOS.csv\n"
          ]
        },
        {
          "output_type": "stream",
          "name": "stderr",
          "text": [
            "[*********************100%%**********************]  1 of 1 completed\n",
            "[*********************100%%**********************]  1 of 1 completed\n"
          ]
        },
        {
          "output_type": "stream",
          "name": "stdout",
          "text": [
            "Updated data for MPC saved to /content/Candlestick-Pattern-Recognition-with-Python-and-TA-Lib/datasets/daily/MPC.csv\n",
            "Updated data for MRK saved to /content/Candlestick-Pattern-Recognition-with-Python-and-TA-Lib/datasets/daily/MRK.csv\n"
          ]
        },
        {
          "output_type": "stream",
          "name": "stderr",
          "text": [
            "[*********************100%%**********************]  1 of 1 completed\n",
            "[*********************100%%**********************]  1 of 1 completed\n"
          ]
        },
        {
          "output_type": "stream",
          "name": "stdout",
          "text": [
            "Updated data for MRO saved to /content/Candlestick-Pattern-Recognition-with-Python-and-TA-Lib/datasets/daily/MRO.csv\n",
            "Updated data for MS saved to /content/Candlestick-Pattern-Recognition-with-Python-and-TA-Lib/datasets/daily/MS.csv\n"
          ]
        },
        {
          "output_type": "stream",
          "name": "stderr",
          "text": [
            "[*********************100%%**********************]  1 of 1 completed\n",
            "[*********************100%%**********************]  1 of 1 completed\n"
          ]
        },
        {
          "output_type": "stream",
          "name": "stdout",
          "text": [
            "Updated data for MSCI saved to /content/Candlestick-Pattern-Recognition-with-Python-and-TA-Lib/datasets/daily/MSCI.csv\n",
            "Updated data for MSFT saved to /content/Candlestick-Pattern-Recognition-with-Python-and-TA-Lib/datasets/daily/MSFT.csv\n"
          ]
        },
        {
          "output_type": "stream",
          "name": "stderr",
          "text": [
            "[*********************100%%**********************]  1 of 1 completed\n",
            "[*********************100%%**********************]  1 of 1 completed\n",
            "[*********************100%%**********************]  1 of 1 completed\n"
          ]
        },
        {
          "output_type": "stream",
          "name": "stdout",
          "text": [
            "Updated data for MSI saved to /content/Candlestick-Pattern-Recognition-with-Python-and-TA-Lib/datasets/daily/MSI.csv\n",
            "Updated data for MTB saved to /content/Candlestick-Pattern-Recognition-with-Python-and-TA-Lib/datasets/daily/MTB.csv\n",
            "Updated data for MTD saved to /content/Candlestick-Pattern-Recognition-with-Python-and-TA-Lib/datasets/daily/MTD.csv"
          ]
        },
        {
          "output_type": "stream",
          "name": "stderr",
          "text": [
            "\r[*********************100%%**********************]  1 of 1 completed\n"
          ]
        },
        {
          "output_type": "stream",
          "name": "stdout",
          "text": [
            "\n",
            "Updated data for MU saved to /content/Candlestick-Pattern-Recognition-with-Python-and-TA-Lib/datasets/daily/MU.csv\n"
          ]
        },
        {
          "output_type": "stream",
          "name": "stderr",
          "text": [
            "\r[*********************100%%**********************]  1 of 1 completed\n",
            "ERROR:yfinance:\n",
            "1 Failed download:\n",
            "ERROR:yfinance:['MXIM']: YFTzMissingError('$%ticker%: possibly delisted; No timezone found')\n"
          ]
        },
        {
          "output_type": "stream",
          "name": "stdout",
          "text": [
            "Updated data for MXIM saved to /content/Candlestick-Pattern-Recognition-with-Python-and-TA-Lib/datasets/daily/MXIM.csv\n"
          ]
        },
        {
          "output_type": "stream",
          "name": "stderr",
          "text": [
            "\r[*********************100%%**********************]  1 of 1 completed\n",
            "ERROR:yfinance:\n",
            "1 Failed download:\n",
            "ERROR:yfinance:['MYL']: YFTzMissingError('$%ticker%: possibly delisted; No timezone found')\n"
          ]
        },
        {
          "output_type": "stream",
          "name": "stdout",
          "text": [
            "Updated data for MYL saved to /content/Candlestick-Pattern-Recognition-with-Python-and-TA-Lib/datasets/daily/MYL.csv\n"
          ]
        },
        {
          "output_type": "stream",
          "name": "stderr",
          "text": [
            "\r[*********************100%%**********************]  1 of 1 completed\n",
            "ERROR:yfinance:\n",
            "1 Failed download:\n",
            "ERROR:yfinance:['NBL']: YFTzMissingError('$%ticker%: possibly delisted; No timezone found')\n",
            "[*********************100%%**********************]  1 of 1 completed\n",
            "[*********************100%%**********************]  1 of 1 completed\n"
          ]
        },
        {
          "output_type": "stream",
          "name": "stdout",
          "text": [
            "Updated data for NBL saved to /content/Candlestick-Pattern-Recognition-with-Python-and-TA-Lib/datasets/daily/NBL.csv\n",
            "Updated data for NCLH saved to /content/Candlestick-Pattern-Recognition-with-Python-and-TA-Lib/datasets/daily/NCLH.csv\n",
            "Updated data for NDAQ saved to /content/Candlestick-Pattern-Recognition-with-Python-and-TA-Lib/datasets/daily/NDAQ.csv\n"
          ]
        },
        {
          "output_type": "stream",
          "name": "stderr",
          "text": [
            "[*********************100%%**********************]  1 of 1 completed\n",
            "[*********************100%%**********************]  1 of 1 completed\n",
            "[*********************100%%**********************]  1 of 1 completed"
          ]
        },
        {
          "output_type": "stream",
          "name": "stdout",
          "text": [
            "Updated data for NEE saved to /content/Candlestick-Pattern-Recognition-with-Python-and-TA-Lib/datasets/daily/NEE.csv\n",
            "Updated data for NEM saved to /content/Candlestick-Pattern-Recognition-with-Python-and-TA-Lib/datasets/daily/NEM.csv\n"
          ]
        },
        {
          "output_type": "stream",
          "name": "stderr",
          "text": [
            "\n",
            "[*********************100%%**********************]  1 of 1 completed\n"
          ]
        },
        {
          "output_type": "stream",
          "name": "stdout",
          "text": [
            "Updated data for NFLX saved to /content/Candlestick-Pattern-Recognition-with-Python-and-TA-Lib/datasets/daily/NFLX.csv\n",
            "Updated data for NI saved to /content/Candlestick-Pattern-Recognition-with-Python-and-TA-Lib/datasets/daily/NI.csv\n"
          ]
        },
        {
          "output_type": "stream",
          "name": "stderr",
          "text": [
            "\r[*********************100%%**********************]  1 of 1 completed\n"
          ]
        },
        {
          "output_type": "stream",
          "name": "stdout",
          "text": [
            "Updated data for NKE saved to /content/Candlestick-Pattern-Recognition-with-Python-and-TA-Lib/datasets/daily/NKE.csv\n"
          ]
        },
        {
          "output_type": "stream",
          "name": "stderr",
          "text": [
            "\r[*********************100%%**********************]  1 of 1 completed\n",
            "ERROR:yfinance:\n",
            "1 Failed download:\n",
            "ERROR:yfinance:['NLOK']: YFTzMissingError('$%ticker%: possibly delisted; No timezone found')\n"
          ]
        },
        {
          "output_type": "stream",
          "name": "stdout",
          "text": [
            "Updated data for NLOK saved to /content/Candlestick-Pattern-Recognition-with-Python-and-TA-Lib/datasets/daily/NLOK.csv\n"
          ]
        },
        {
          "output_type": "stream",
          "name": "stderr",
          "text": [
            "\r[*********************100%%**********************]  1 of 1 completed\n",
            "ERROR:yfinance:\n",
            "1 Failed download:\n",
            "ERROR:yfinance:['NLSN']: YFTzMissingError('$%ticker%: possibly delisted; No timezone found')\n",
            "[*********************100%%**********************]  1 of 1 completed\n"
          ]
        },
        {
          "output_type": "stream",
          "name": "stdout",
          "text": [
            "Updated data for NLSN saved to /content/Candlestick-Pattern-Recognition-with-Python-and-TA-Lib/datasets/daily/NLSN.csv\n",
            "Updated data for NOC saved to /content/Candlestick-Pattern-Recognition-with-Python-and-TA-Lib/datasets/daily/NOC.csv\n"
          ]
        },
        {
          "output_type": "stream",
          "name": "stderr",
          "text": [
            "[*********************100%%**********************]  1 of 1 completed\n",
            "[*********************100%%**********************]  1 of 1 completed\n"
          ]
        },
        {
          "output_type": "stream",
          "name": "stdout",
          "text": [
            "Updated data for NOV saved to /content/Candlestick-Pattern-Recognition-with-Python-and-TA-Lib/datasets/daily/NOV.csv\n",
            "Updated data for NOW saved to /content/Candlestick-Pattern-Recognition-with-Python-and-TA-Lib/datasets/daily/NOW.csv\n"
          ]
        },
        {
          "output_type": "stream",
          "name": "stderr",
          "text": [
            "[*********************100%%**********************]  1 of 1 completed\n",
            "[*********************100%%**********************]  1 of 1 completed\n"
          ]
        },
        {
          "output_type": "stream",
          "name": "stdout",
          "text": [
            "Updated data for NRG saved to /content/Candlestick-Pattern-Recognition-with-Python-and-TA-Lib/datasets/daily/NRG.csv\n",
            "Updated data for NSC saved to /content/Candlestick-Pattern-Recognition-with-Python-and-TA-Lib/datasets/daily/NSC.csv\n"
          ]
        },
        {
          "output_type": "stream",
          "name": "stderr",
          "text": [
            "[*********************100%%**********************]  1 of 1 completed\n",
            "[*********************100%%**********************]  1 of 1 completed\n"
          ]
        },
        {
          "output_type": "stream",
          "name": "stdout",
          "text": [
            "Updated data for NTAP saved to /content/Candlestick-Pattern-Recognition-with-Python-and-TA-Lib/datasets/daily/NTAP.csv\n",
            "Updated data for NTRS saved to /content/Candlestick-Pattern-Recognition-with-Python-and-TA-Lib/datasets/daily/NTRS.csv\n"
          ]
        },
        {
          "output_type": "stream",
          "name": "stderr",
          "text": [
            "[*********************100%%**********************]  1 of 1 completed\n",
            "[*********************100%%**********************]  1 of 1 completed\n",
            "[*********************100%%**********************]  1 of 1 completed\n"
          ]
        },
        {
          "output_type": "stream",
          "name": "stdout",
          "text": [
            "Updated data for NUE saved to /content/Candlestick-Pattern-Recognition-with-Python-and-TA-Lib/datasets/daily/NUE.csv\n",
            "Updated data for NVDA saved to /content/Candlestick-Pattern-Recognition-with-Python-and-TA-Lib/datasets/daily/NVDA.csv\n",
            "Updated data for NVR saved to /content/Candlestick-Pattern-Recognition-with-Python-and-TA-Lib/datasets/daily/NVR.csv\n"
          ]
        },
        {
          "output_type": "stream",
          "name": "stderr",
          "text": [
            "[*********************100%%**********************]  1 of 1 completed\n",
            "[*********************100%%**********************]  1 of 1 completed\n",
            "[*********************100%%**********************]  1 of 1 completed\n"
          ]
        },
        {
          "output_type": "stream",
          "name": "stdout",
          "text": [
            "Updated data for NWL saved to /content/Candlestick-Pattern-Recognition-with-Python-and-TA-Lib/datasets/daily/NWL.csv\n",
            "Updated data for NWS saved to /content/Candlestick-Pattern-Recognition-with-Python-and-TA-Lib/datasets/daily/NWS.csv\n",
            "Updated data for NWSA saved to /content/Candlestick-Pattern-Recognition-with-Python-and-TA-Lib/datasets/daily/NWSA.csv\n"
          ]
        },
        {
          "output_type": "stream",
          "name": "stderr",
          "text": [
            "[*********************100%%**********************]  1 of 1 completed\n",
            "[*********************100%%**********************]  1 of 1 completed\n"
          ]
        },
        {
          "output_type": "stream",
          "name": "stdout",
          "text": [
            "Updated data for O saved to /content/Candlestick-Pattern-Recognition-with-Python-and-TA-Lib/datasets/daily/O.csv\n",
            "Updated data for ODFL saved to /content/Candlestick-Pattern-Recognition-with-Python-and-TA-Lib/datasets/daily/ODFL.csv\n"
          ]
        },
        {
          "output_type": "stream",
          "name": "stderr",
          "text": [
            "[*********************100%%**********************]  1 of 1 completed\n",
            "[*********************100%%**********************]  1 of 1 completed\n"
          ]
        },
        {
          "output_type": "stream",
          "name": "stdout",
          "text": [
            "Updated data for OKE saved to /content/Candlestick-Pattern-Recognition-with-Python-and-TA-Lib/datasets/daily/OKE.csv\n",
            "Updated data for OMC saved to /content/Candlestick-Pattern-Recognition-with-Python-and-TA-Lib/datasets/daily/OMC.csv\n"
          ]
        },
        {
          "output_type": "stream",
          "name": "stderr",
          "text": [
            "[*********************100%%**********************]  1 of 1 completed\n",
            "[*********************100%%**********************]  1 of 1 completed\n"
          ]
        },
        {
          "output_type": "stream",
          "name": "stdout",
          "text": [
            "Updated data for ORCL saved to /content/Candlestick-Pattern-Recognition-with-Python-and-TA-Lib/datasets/daily/ORCL.csv\n",
            "Updated data for ORLY saved to /content/Candlestick-Pattern-Recognition-with-Python-and-TA-Lib/datasets/daily/ORLY.csv\n"
          ]
        },
        {
          "output_type": "stream",
          "name": "stderr",
          "text": [
            "[*********************100%%**********************]  1 of 1 completed\n",
            "[*********************100%%**********************]  1 of 1 completed\n"
          ]
        },
        {
          "output_type": "stream",
          "name": "stdout",
          "text": [
            "Updated data for OXY saved to /content/Candlestick-Pattern-Recognition-with-Python-and-TA-Lib/datasets/daily/OXY.csv\n",
            "Updated data for PAYX saved to /content/Candlestick-Pattern-Recognition-with-Python-and-TA-Lib/datasets/daily/PAYX.csv\n"
          ]
        },
        {
          "output_type": "stream",
          "name": "stderr",
          "text": [
            "\r[*********************100%%**********************]  1 of 1 completed\n",
            "ERROR:yfinance:\n",
            "1 Failed download:\n",
            "ERROR:yfinance:['PBCT']: YFTzMissingError('$%ticker%: possibly delisted; No timezone found')\n",
            "[*********************100%%**********************]  1 of 1 completed\n"
          ]
        },
        {
          "output_type": "stream",
          "name": "stdout",
          "text": [
            "Updated data for PBCT saved to /content/Candlestick-Pattern-Recognition-with-Python-and-TA-Lib/datasets/daily/PBCT.csv\n",
            "Updated data for PCAR saved to /content/Candlestick-Pattern-Recognition-with-Python-and-TA-Lib/datasets/daily/PCAR.csv\n"
          ]
        },
        {
          "output_type": "stream",
          "name": "stderr",
          "text": [
            "\r[*********************100%%**********************]  1 of 1 completed\n",
            "ERROR:yfinance:\n",
            "1 Failed download:\n",
            "ERROR:yfinance:['PEAK']: YFTzMissingError('$%ticker%: possibly delisted; No timezone found')\n",
            "[*********************100%%**********************]  1 of 1 completed\n"
          ]
        },
        {
          "output_type": "stream",
          "name": "stdout",
          "text": [
            "Updated data for PEAK saved to /content/Candlestick-Pattern-Recognition-with-Python-and-TA-Lib/datasets/daily/PEAK.csv\n",
            "Updated data for PEG saved to /content/Candlestick-Pattern-Recognition-with-Python-and-TA-Lib/datasets/daily/PEG.csv\n"
          ]
        },
        {
          "output_type": "stream",
          "name": "stderr",
          "text": [
            "[*********************100%%**********************]  1 of 1 completed\n",
            "[*********************100%%**********************]  1 of 1 completed\n"
          ]
        },
        {
          "output_type": "stream",
          "name": "stdout",
          "text": [
            "Updated data for PEP saved to /content/Candlestick-Pattern-Recognition-with-Python-and-TA-Lib/datasets/daily/PEP.csv\n",
            "Updated data for PFE saved to /content/Candlestick-Pattern-Recognition-with-Python-and-TA-Lib/datasets/daily/PFE.csv\n"
          ]
        },
        {
          "output_type": "stream",
          "name": "stderr",
          "text": [
            "[*********************100%%**********************]  1 of 1 completed\n",
            "[*********************100%%**********************]  1 of 1 completed\n"
          ]
        },
        {
          "output_type": "stream",
          "name": "stdout",
          "text": [
            "Updated data for PFG saved to /content/Candlestick-Pattern-Recognition-with-Python-and-TA-Lib/datasets/daily/PFG.csv\n",
            "Updated data for PG saved to /content/Candlestick-Pattern-Recognition-with-Python-and-TA-Lib/datasets/daily/PG.csv\n"
          ]
        },
        {
          "output_type": "stream",
          "name": "stderr",
          "text": [
            "[*********************100%%**********************]  1 of 1 completed\n",
            "[*********************100%%**********************]  1 of 1 completed\n"
          ]
        },
        {
          "output_type": "stream",
          "name": "stdout",
          "text": [
            "Updated data for PGR saved to /content/Candlestick-Pattern-Recognition-with-Python-and-TA-Lib/datasets/daily/PGR.csv\n",
            "Updated data for PH saved to /content/Candlestick-Pattern-Recognition-with-Python-and-TA-Lib/datasets/daily/PH.csv\n"
          ]
        },
        {
          "output_type": "stream",
          "name": "stderr",
          "text": [
            "[*********************100%%**********************]  1 of 1 completed\n",
            "[*********************100%%**********************]  1 of 1 completed\n"
          ]
        },
        {
          "output_type": "stream",
          "name": "stdout",
          "text": [
            "Updated data for PHM saved to /content/Candlestick-Pattern-Recognition-with-Python-and-TA-Lib/datasets/daily/PHM.csv\n",
            "Updated data for PKG saved to /content/Candlestick-Pattern-Recognition-with-Python-and-TA-Lib/datasets/daily/PKG.csv\n"
          ]
        },
        {
          "output_type": "stream",
          "name": "stderr",
          "text": [
            "\r[*********************100%%**********************]  1 of 1 completed\n",
            "ERROR:yfinance:\n",
            "1 Failed download:\n",
            "ERROR:yfinance:['PKI']: YFTzMissingError('$%ticker%: possibly delisted; No timezone found')\n",
            "[*********************100%%**********************]  1 of 1 completed\n",
            "[*********************100%%**********************]  1 of 1 completed"
          ]
        },
        {
          "output_type": "stream",
          "name": "stdout",
          "text": [
            "Updated data for PKI saved to /content/Candlestick-Pattern-Recognition-with-Python-and-TA-Lib/datasets/daily/PKI.csv\n",
            "Updated data for PLD saved to /content/Candlestick-Pattern-Recognition-with-Python-and-TA-Lib/datasets/daily/PLD.csv\n"
          ]
        },
        {
          "output_type": "stream",
          "name": "stderr",
          "text": [
            "\n",
            "[*********************100%%**********************]  1 of 1 completed\n"
          ]
        },
        {
          "output_type": "stream",
          "name": "stdout",
          "text": [
            "Updated data for PM saved to /content/Candlestick-Pattern-Recognition-with-Python-and-TA-Lib/datasets/daily/PM.csv\n",
            "Updated data for PNC saved to /content/Candlestick-Pattern-Recognition-with-Python-and-TA-Lib/datasets/daily/PNC.csv\n"
          ]
        },
        {
          "output_type": "stream",
          "name": "stderr",
          "text": [
            "[*********************100%%**********************]  1 of 1 completed\n",
            "[*********************100%%**********************]  1 of 1 completed\n"
          ]
        },
        {
          "output_type": "stream",
          "name": "stdout",
          "text": [
            "Updated data for PNR saved to /content/Candlestick-Pattern-Recognition-with-Python-and-TA-Lib/datasets/daily/PNR.csv\n",
            "Updated data for PNW saved to /content/Candlestick-Pattern-Recognition-with-Python-and-TA-Lib/datasets/daily/PNW.csv\n"
          ]
        },
        {
          "output_type": "stream",
          "name": "stderr",
          "text": [
            "[*********************100%%**********************]  1 of 1 completed\n",
            "[*********************100%%**********************]  1 of 1 completed\n"
          ]
        },
        {
          "output_type": "stream",
          "name": "stdout",
          "text": [
            "Updated data for PPG saved to /content/Candlestick-Pattern-Recognition-with-Python-and-TA-Lib/datasets/daily/PPG.csv\n",
            "Updated data for PPL saved to /content/Candlestick-Pattern-Recognition-with-Python-and-TA-Lib/datasets/daily/PPL.csv\n"
          ]
        },
        {
          "output_type": "stream",
          "name": "stderr",
          "text": [
            "[*********************100%%**********************]  1 of 1 completed\n",
            "[*********************100%%**********************]  1 of 1 completed\n"
          ]
        },
        {
          "output_type": "stream",
          "name": "stdout",
          "text": [
            "Updated data for PRGO saved to /content/Candlestick-Pattern-Recognition-with-Python-and-TA-Lib/datasets/daily/PRGO.csv\n",
            "Updated data for PRU saved to /content/Candlestick-Pattern-Recognition-with-Python-and-TA-Lib/datasets/daily/PRU.csv\n"
          ]
        },
        {
          "output_type": "stream",
          "name": "stderr",
          "text": [
            "[*********************100%%**********************]  1 of 1 completed\n",
            "[*********************100%%**********************]  1 of 1 completed\n"
          ]
        },
        {
          "output_type": "stream",
          "name": "stdout",
          "text": [
            "Updated data for PSA saved to /content/Candlestick-Pattern-Recognition-with-Python-and-TA-Lib/datasets/daily/PSA.csv\n",
            "Updated data for PSX saved to /content/Candlestick-Pattern-Recognition-with-Python-and-TA-Lib/datasets/daily/PSX.csv\n"
          ]
        },
        {
          "output_type": "stream",
          "name": "stderr",
          "text": [
            "[*********************100%%**********************]  1 of 1 completed\n",
            "[*********************100%%**********************]  1 of 1 completed\n"
          ]
        },
        {
          "output_type": "stream",
          "name": "stdout",
          "text": [
            "Updated data for PVH saved to /content/Candlestick-Pattern-Recognition-with-Python-and-TA-Lib/datasets/daily/PVH.csv\n",
            "Updated data for PWR saved to /content/Candlestick-Pattern-Recognition-with-Python-and-TA-Lib/datasets/daily/PWR.csv\n"
          ]
        },
        {
          "output_type": "stream",
          "name": "stderr",
          "text": [
            "[*********************100%%**********************]  1 of 1 completed\n",
            "[*********************100%%**********************]  1 of 1 completed\n",
            "[*********************100%%**********************]  1 of 1 completed"
          ]
        },
        {
          "output_type": "stream",
          "name": "stdout",
          "text": [
            "Updated data for PXD saved to /content/Candlestick-Pattern-Recognition-with-Python-and-TA-Lib/datasets/daily/PXD.csv\n",
            "Updated data for PYPL saved to /content/Candlestick-Pattern-Recognition-with-Python-and-TA-Lib/datasets/daily/PYPL.csv\n"
          ]
        },
        {
          "output_type": "stream",
          "name": "stderr",
          "text": [
            "\n",
            "[*********************100%%**********************]  1 of 1 completed\n",
            "[*********************100%%**********************]  1 of 1 completed\n"
          ]
        },
        {
          "output_type": "stream",
          "name": "stdout",
          "text": [
            "Updated data for QCOM saved to /content/Candlestick-Pattern-Recognition-with-Python-and-TA-Lib/datasets/daily/QCOM.csv\n",
            "Updated data for QRVO saved to /content/Candlestick-Pattern-Recognition-with-Python-and-TA-Lib/datasets/daily/QRVO.csv\n",
            "Updated data for RCL saved to /content/Candlestick-Pattern-Recognition-with-Python-and-TA-Lib/datasets/daily/RCL.csv\n"
          ]
        },
        {
          "output_type": "stream",
          "name": "stderr",
          "text": [
            "\r[*********************100%%**********************]  1 of 1 completed\n",
            "ERROR:yfinance:\n",
            "1 Failed download:\n",
            "ERROR:yfinance:['RE']: YFTzMissingError('$%ticker%: possibly delisted; No timezone found')\n",
            "[*********************100%%**********************]  1 of 1 completed\n",
            "[*********************100%%**********************]  1 of 1 completed\n"
          ]
        },
        {
          "output_type": "stream",
          "name": "stdout",
          "text": [
            "Updated data for RE saved to /content/Candlestick-Pattern-Recognition-with-Python-and-TA-Lib/datasets/daily/RE.csv\n",
            "Updated data for REG saved to /content/Candlestick-Pattern-Recognition-with-Python-and-TA-Lib/datasets/daily/REG.csv\n"
          ]
        },
        {
          "output_type": "stream",
          "name": "stderr",
          "text": [
            "\r[*********************100%%**********************]  1 of 1 completed\n"
          ]
        },
        {
          "output_type": "stream",
          "name": "stdout",
          "text": [
            "Updated data for REGN saved to /content/Candlestick-Pattern-Recognition-with-Python-and-TA-Lib/datasets/daily/REGN.csv\n",
            "Updated data for RF saved to /content/Candlestick-Pattern-Recognition-with-Python-and-TA-Lib/datasets/daily/RF.csv\n"
          ]
        },
        {
          "output_type": "stream",
          "name": "stderr",
          "text": [
            "[*********************100%%**********************]  1 of 1 completed\n",
            "[*********************100%%**********************]  1 of 1 completed\n"
          ]
        },
        {
          "output_type": "stream",
          "name": "stdout",
          "text": [
            "Updated data for RHI saved to /content/Candlestick-Pattern-Recognition-with-Python-and-TA-Lib/datasets/daily/RHI.csv\n",
            "Updated data for RJF saved to /content/Candlestick-Pattern-Recognition-with-Python-and-TA-Lib/datasets/daily/RJF.csv\n"
          ]
        },
        {
          "output_type": "stream",
          "name": "stderr",
          "text": [
            "[*********************100%%**********************]  1 of 1 completed\n",
            "[*********************100%%**********************]  1 of 1 completed\n"
          ]
        },
        {
          "output_type": "stream",
          "name": "stdout",
          "text": [
            "Updated data for RL saved to /content/Candlestick-Pattern-Recognition-with-Python-and-TA-Lib/datasets/daily/RL.csv\n",
            "Updated data for RMD saved to /content/Candlestick-Pattern-Recognition-with-Python-and-TA-Lib/datasets/daily/RMD.csv\n"
          ]
        },
        {
          "output_type": "stream",
          "name": "stderr",
          "text": [
            "[*********************100%%**********************]  1 of 1 completed\n",
            "[*********************100%%**********************]  1 of 1 completed\n"
          ]
        },
        {
          "output_type": "stream",
          "name": "stdout",
          "text": [
            "Updated data for ROK saved to /content/Candlestick-Pattern-Recognition-with-Python-and-TA-Lib/datasets/daily/ROK.csv\n",
            "Updated data for ROL saved to /content/Candlestick-Pattern-Recognition-with-Python-and-TA-Lib/datasets/daily/ROL.csv\n"
          ]
        },
        {
          "output_type": "stream",
          "name": "stderr",
          "text": [
            "[*********************100%%**********************]  1 of 1 completed\n",
            "[*********************100%%**********************]  1 of 1 completed\n"
          ]
        },
        {
          "output_type": "stream",
          "name": "stdout",
          "text": [
            "Updated data for ROP saved to /content/Candlestick-Pattern-Recognition-with-Python-and-TA-Lib/datasets/daily/ROP.csv\n",
            "Updated data for ROST saved to /content/Candlestick-Pattern-Recognition-with-Python-and-TA-Lib/datasets/daily/ROST.csv\n"
          ]
        },
        {
          "output_type": "stream",
          "name": "stderr",
          "text": [
            "\r[*********************100%%**********************]  1 of 1 completed\n"
          ]
        },
        {
          "output_type": "stream",
          "name": "stdout",
          "text": [
            "Updated data for RSG saved to /content/Candlestick-Pattern-Recognition-with-Python-and-TA-Lib/datasets/daily/RSG.csv\n"
          ]
        },
        {
          "output_type": "stream",
          "name": "stderr",
          "text": [
            "\r[*********************100%%**********************]  1 of 1 completed\n",
            "ERROR:yfinance:\n",
            "1 Failed download:\n",
            "ERROR:yfinance:['RTN']: YFTzMissingError('$%ticker%: possibly delisted; No timezone found')\n",
            "[*********************100%%**********************]  1 of 1 completed\n"
          ]
        },
        {
          "output_type": "stream",
          "name": "stdout",
          "text": [
            "Updated data for RTN saved to /content/Candlestick-Pattern-Recognition-with-Python-and-TA-Lib/datasets/daily/RTN.csv\n",
            "Updated data for SBAC saved to /content/Candlestick-Pattern-Recognition-with-Python-and-TA-Lib/datasets/daily/SBAC.csv\n"
          ]
        },
        {
          "output_type": "stream",
          "name": "stderr",
          "text": [
            "\r[*********************100%%**********************]  1 of 1 completed\n"
          ]
        },
        {
          "output_type": "stream",
          "name": "stdout",
          "text": [
            "Updated data for SBUX saved to /content/Candlestick-Pattern-Recognition-with-Python-and-TA-Lib/datasets/daily/SBUX.csv\n"
          ]
        },
        {
          "output_type": "stream",
          "name": "stderr",
          "text": [
            "[*********************100%%**********************]  1 of 1 completed\n",
            "[*********************100%%**********************]  1 of 1 completed\n"
          ]
        },
        {
          "output_type": "stream",
          "name": "stdout",
          "text": [
            "Updated data for SCHW saved to /content/Candlestick-Pattern-Recognition-with-Python-and-TA-Lib/datasets/daily/SCHW.csv\n",
            "Updated data for SEE saved to /content/Candlestick-Pattern-Recognition-with-Python-and-TA-Lib/datasets/daily/SEE.csv\n"
          ]
        },
        {
          "output_type": "stream",
          "name": "stderr",
          "text": [
            "[*********************100%%**********************]  1 of 1 completed\n",
            "[*********************100%%**********************]  1 of 1 completed\n",
            "ERROR:yfinance:\n",
            "1 Failed download:\n",
            "ERROR:yfinance:['SIVB']: YFInvalidPeriodError(\"%ticker%: Period 'max' is invalid, must be one of ['1d', '5d']\")\n"
          ]
        },
        {
          "output_type": "stream",
          "name": "stdout",
          "text": [
            "Updated data for SHW saved to /content/Candlestick-Pattern-Recognition-with-Python-and-TA-Lib/datasets/daily/SHW.csv\n",
            "Updated data for SIVB saved to /content/Candlestick-Pattern-Recognition-with-Python-and-TA-Lib/datasets/daily/SIVB.csv\n"
          ]
        },
        {
          "output_type": "stream",
          "name": "stderr",
          "text": [
            "[*********************100%%**********************]  1 of 1 completed\n",
            "[*********************100%%**********************]  1 of 1 completed\n"
          ]
        },
        {
          "output_type": "stream",
          "name": "stdout",
          "text": [
            "Updated data for SJM saved to /content/Candlestick-Pattern-Recognition-with-Python-and-TA-Lib/datasets/daily/SJM.csv\n",
            "Updated data for SLB saved to /content/Candlestick-Pattern-Recognition-with-Python-and-TA-Lib/datasets/daily/SLB.csv\n"
          ]
        },
        {
          "output_type": "stream",
          "name": "stderr",
          "text": [
            "[*********************100%%**********************]  1 of 1 completed\n",
            "[*********************100%%**********************]  1 of 1 completed\n"
          ]
        },
        {
          "output_type": "stream",
          "name": "stdout",
          "text": [
            "Updated data for SLG saved to /content/Candlestick-Pattern-Recognition-with-Python-and-TA-Lib/datasets/daily/SLG.csv\n",
            "Updated data for SNA saved to /content/Candlestick-Pattern-Recognition-with-Python-and-TA-Lib/datasets/daily/SNA.csv\n"
          ]
        },
        {
          "output_type": "stream",
          "name": "stderr",
          "text": [
            "[*********************100%%**********************]  1 of 1 completed\n",
            "[*********************100%%**********************]  1 of 1 completed\n"
          ]
        },
        {
          "output_type": "stream",
          "name": "stdout",
          "text": [
            "Updated data for SNPS saved to /content/Candlestick-Pattern-Recognition-with-Python-and-TA-Lib/datasets/daily/SNPS.csv\n",
            "Updated data for SO saved to /content/Candlestick-Pattern-Recognition-with-Python-and-TA-Lib/datasets/daily/SO.csv\n"
          ]
        },
        {
          "output_type": "stream",
          "name": "stderr",
          "text": [
            "[*********************100%%**********************]  1 of 1 completed\n",
            "[*********************100%%**********************]  1 of 1 completed\n"
          ]
        },
        {
          "output_type": "stream",
          "name": "stdout",
          "text": [
            "Updated data for SPG saved to /content/Candlestick-Pattern-Recognition-with-Python-and-TA-Lib/datasets/daily/SPG.csv\n",
            "Updated data for SPGI saved to /content/Candlestick-Pattern-Recognition-with-Python-and-TA-Lib/datasets/daily/SPGI.csv\n"
          ]
        },
        {
          "output_type": "stream",
          "name": "stderr",
          "text": [
            "[*********************100%%**********************]  1 of 1 completed\n",
            "[*********************100%%**********************]  1 of 1 completed\n"
          ]
        },
        {
          "output_type": "stream",
          "name": "stdout",
          "text": [
            "Updated data for SRE saved to /content/Candlestick-Pattern-Recognition-with-Python-and-TA-Lib/datasets/daily/SRE.csv\n",
            "Updated data for STE saved to /content/Candlestick-Pattern-Recognition-with-Python-and-TA-Lib/datasets/daily/STE.csv\n"
          ]
        },
        {
          "output_type": "stream",
          "name": "stderr",
          "text": [
            "[*********************100%%**********************]  1 of 1 completed\n",
            "[*********************100%%**********************]  1 of 1 completed\n"
          ]
        },
        {
          "output_type": "stream",
          "name": "stdout",
          "text": [
            "Updated data for STT saved to /content/Candlestick-Pattern-Recognition-with-Python-and-TA-Lib/datasets/daily/STT.csv\n",
            "Updated data for STX saved to /content/Candlestick-Pattern-Recognition-with-Python-and-TA-Lib/datasets/daily/STX.csv\n"
          ]
        },
        {
          "output_type": "stream",
          "name": "stderr",
          "text": [
            "[*********************100%%**********************]  1 of 1 completed\n",
            "[*********************100%%**********************]  1 of 1 completed\n"
          ]
        },
        {
          "output_type": "stream",
          "name": "stdout",
          "text": [
            "Updated data for STZ saved to /content/Candlestick-Pattern-Recognition-with-Python-and-TA-Lib/datasets/daily/STZ.csv\n",
            "Updated data for SWK saved to /content/Candlestick-Pattern-Recognition-with-Python-and-TA-Lib/datasets/daily/SWK.csv\n"
          ]
        },
        {
          "output_type": "stream",
          "name": "stderr",
          "text": [
            "[*********************100%%**********************]  1 of 1 completed\n",
            "[*********************100%%**********************]  1 of 1 completed\n"
          ]
        },
        {
          "output_type": "stream",
          "name": "stdout",
          "text": [
            "Updated data for SWKS saved to /content/Candlestick-Pattern-Recognition-with-Python-and-TA-Lib/datasets/daily/SWKS.csv\n",
            "Updated data for SYF saved to /content/Candlestick-Pattern-Recognition-with-Python-and-TA-Lib/datasets/daily/SYF.csv\n"
          ]
        },
        {
          "output_type": "stream",
          "name": "stderr",
          "text": [
            "[*********************100%%**********************]  1 of 1 completed\n",
            "[*********************100%%**********************]  1 of 1 completed\n"
          ]
        },
        {
          "output_type": "stream",
          "name": "stdout",
          "text": [
            "Updated data for SYK saved to /content/Candlestick-Pattern-Recognition-with-Python-and-TA-Lib/datasets/daily/SYK.csv\n",
            "Updated data for SYY saved to /content/Candlestick-Pattern-Recognition-with-Python-and-TA-Lib/datasets/daily/SYY.csv\n"
          ]
        },
        {
          "output_type": "stream",
          "name": "stderr",
          "text": [
            "[*********************100%%**********************]  1 of 1 completed\n",
            "[*********************100%%**********************]  1 of 1 completed\n"
          ]
        },
        {
          "output_type": "stream",
          "name": "stdout",
          "text": [
            "Updated data for T saved to /content/Candlestick-Pattern-Recognition-with-Python-and-TA-Lib/datasets/daily/T.csv\n",
            "Updated data for TAP saved to /content/Candlestick-Pattern-Recognition-with-Python-and-TA-Lib/datasets/daily/TAP.csv\n"
          ]
        },
        {
          "output_type": "stream",
          "name": "stderr",
          "text": [
            "[*********************100%%**********************]  1 of 1 completed\n",
            "[*********************100%%**********************]  1 of 1 completed\n"
          ]
        },
        {
          "output_type": "stream",
          "name": "stdout",
          "text": [
            "Updated data for TDG saved to /content/Candlestick-Pattern-Recognition-with-Python-and-TA-Lib/datasets/daily/TDG.csv\n",
            "Updated data for TEL saved to /content/Candlestick-Pattern-Recognition-with-Python-and-TA-Lib/datasets/daily/TEL.csv\n"
          ]
        },
        {
          "output_type": "stream",
          "name": "stderr",
          "text": [
            "[*********************100%%**********************]  1 of 1 completed\n",
            "[*********************100%%**********************]  1 of 1 completed\n"
          ]
        },
        {
          "output_type": "stream",
          "name": "stdout",
          "text": [
            "Updated data for TFC saved to /content/Candlestick-Pattern-Recognition-with-Python-and-TA-Lib/datasets/daily/TFC.csv\n",
            "Updated data for TFX saved to /content/Candlestick-Pattern-Recognition-with-Python-and-TA-Lib/datasets/daily/TFX.csv\n"
          ]
        },
        {
          "output_type": "stream",
          "name": "stderr",
          "text": [
            "\r[*********************100%%**********************]  1 of 1 completed\n"
          ]
        },
        {
          "output_type": "stream",
          "name": "stdout",
          "text": [
            "Updated data for TGT saved to /content/Candlestick-Pattern-Recognition-with-Python-and-TA-Lib/datasets/daily/TGT.csv\n"
          ]
        },
        {
          "output_type": "stream",
          "name": "stderr",
          "text": [
            "\r[*********************100%%**********************]  1 of 1 completed\n",
            "ERROR:yfinance:\n",
            "1 Failed download:\n",
            "ERROR:yfinance:['TIF']: YFTzMissingError('$%ticker%: possibly delisted; No timezone found')\n",
            "[*********************100%%**********************]  1 of 1 completed\n"
          ]
        },
        {
          "output_type": "stream",
          "name": "stdout",
          "text": [
            "Updated data for TIF saved to /content/Candlestick-Pattern-Recognition-with-Python-and-TA-Lib/datasets/daily/TIF.csv\n",
            "Updated data for TJX saved to /content/Candlestick-Pattern-Recognition-with-Python-and-TA-Lib/datasets/daily/TJX.csv\n"
          ]
        },
        {
          "output_type": "stream",
          "name": "stderr",
          "text": [
            "[*********************100%%**********************]  1 of 1 completed\n",
            "[*********************100%%**********************]  1 of 1 completed\n"
          ]
        },
        {
          "output_type": "stream",
          "name": "stdout",
          "text": [
            "Updated data for TMO saved to /content/Candlestick-Pattern-Recognition-with-Python-and-TA-Lib/datasets/daily/TMO.csv\n",
            "Updated data for TMUS saved to /content/Candlestick-Pattern-Recognition-with-Python-and-TA-Lib/datasets/daily/TMUS.csv\n"
          ]
        },
        {
          "output_type": "stream",
          "name": "stderr",
          "text": [
            "[*********************100%%**********************]  1 of 1 completed\n",
            "[*********************100%%**********************]  1 of 1 completed\n"
          ]
        },
        {
          "output_type": "stream",
          "name": "stdout",
          "text": [
            "Updated data for TPR saved to /content/Candlestick-Pattern-Recognition-with-Python-and-TA-Lib/datasets/daily/TPR.csv\n",
            "Updated data for TROW saved to /content/Candlestick-Pattern-Recognition-with-Python-and-TA-Lib/datasets/daily/TROW.csv\n"
          ]
        },
        {
          "output_type": "stream",
          "name": "stderr",
          "text": [
            "[*********************100%%**********************]  1 of 1 completed\n",
            "[*********************100%%**********************]  1 of 1 completed\n"
          ]
        },
        {
          "output_type": "stream",
          "name": "stdout",
          "text": [
            "Updated data for TRV saved to /content/Candlestick-Pattern-Recognition-with-Python-and-TA-Lib/datasets/daily/TRV.csv\n",
            "Updated data for TSCO saved to /content/Candlestick-Pattern-Recognition-with-Python-and-TA-Lib/datasets/daily/TSCO.csv\n"
          ]
        },
        {
          "output_type": "stream",
          "name": "stderr",
          "text": [
            "[*********************100%%**********************]  1 of 1 completed\n",
            "[*********************100%%**********************]  1 of 1 completed\n"
          ]
        },
        {
          "output_type": "stream",
          "name": "stdout",
          "text": [
            "Updated data for TSN saved to /content/Candlestick-Pattern-Recognition-with-Python-and-TA-Lib/datasets/daily/TSN.csv\n",
            "Updated data for TTWO saved to /content/Candlestick-Pattern-Recognition-with-Python-and-TA-Lib/datasets/daily/TTWO.csv\n"
          ]
        },
        {
          "output_type": "stream",
          "name": "stderr",
          "text": [
            "\r[*********************100%%**********************]  1 of 1 completed\n",
            "ERROR:yfinance:\n",
            "1 Failed download:\n",
            "ERROR:yfinance:['TWTR']: YFTzMissingError('$%ticker%: possibly delisted; No timezone found')\n",
            "[*********************100%%**********************]  1 of 1 completed\n"
          ]
        },
        {
          "output_type": "stream",
          "name": "stdout",
          "text": [
            "Updated data for TWTR saved to /content/Candlestick-Pattern-Recognition-with-Python-and-TA-Lib/datasets/daily/TWTR.csv\n",
            "Updated data for TXN saved to /content/Candlestick-Pattern-Recognition-with-Python-and-TA-Lib/datasets/daily/TXN.csv\n"
          ]
        },
        {
          "output_type": "stream",
          "name": "stderr",
          "text": [
            "[*********************100%%**********************]  1 of 1 completed\n",
            "[*********************100%%**********************]  1 of 1 completed\n",
            "[*********************100%%**********************]  1 of 1 completed\n"
          ]
        },
        {
          "output_type": "stream",
          "name": "stdout",
          "text": [
            "Updated data for TXT saved to /content/Candlestick-Pattern-Recognition-with-Python-and-TA-Lib/datasets/daily/TXT.csv\n",
            "Updated data for UA saved to /content/Candlestick-Pattern-Recognition-with-Python-and-TA-Lib/datasets/daily/UA.csv\n",
            "Updated data for UAA saved to /content/Candlestick-Pattern-Recognition-with-Python-and-TA-Lib/datasets/daily/UAA.csv\n"
          ]
        },
        {
          "output_type": "stream",
          "name": "stderr",
          "text": [
            "[*********************100%%**********************]  1 of 1 completed\n",
            "[*********************100%%**********************]  1 of 1 completed\n"
          ]
        },
        {
          "output_type": "stream",
          "name": "stdout",
          "text": [
            "Updated data for UAL saved to /content/Candlestick-Pattern-Recognition-with-Python-and-TA-Lib/datasets/daily/UAL.csv\n",
            "Updated data for UDR saved to /content/Candlestick-Pattern-Recognition-with-Python-and-TA-Lib/datasets/daily/UDR.csv\n"
          ]
        },
        {
          "output_type": "stream",
          "name": "stderr",
          "text": [
            "[*********************100%%**********************]  1 of 1 completed\n",
            "[*********************100%%**********************]  1 of 1 completed\n"
          ]
        },
        {
          "output_type": "stream",
          "name": "stdout",
          "text": [
            "Updated data for UHS saved to /content/Candlestick-Pattern-Recognition-with-Python-and-TA-Lib/datasets/daily/UHS.csv\n",
            "Updated data for ULTA saved to /content/Candlestick-Pattern-Recognition-with-Python-and-TA-Lib/datasets/daily/ULTA.csv\n"
          ]
        },
        {
          "output_type": "stream",
          "name": "stderr",
          "text": [
            "[*********************100%%**********************]  1 of 1 completed\n",
            "[*********************100%%**********************]  1 of 1 completed\n"
          ]
        },
        {
          "output_type": "stream",
          "name": "stdout",
          "text": [
            "Updated data for UNH saved to /content/Candlestick-Pattern-Recognition-with-Python-and-TA-Lib/datasets/daily/UNH.csv\n",
            "Updated data for UNM saved to /content/Candlestick-Pattern-Recognition-with-Python-and-TA-Lib/datasets/daily/UNM.csv\n"
          ]
        },
        {
          "output_type": "stream",
          "name": "stderr",
          "text": [
            "[*********************100%%**********************]  1 of 1 completed\n",
            "[*********************100%%**********************]  1 of 1 completed\n",
            "[*********************100%%**********************]  1 of 1 completed\n"
          ]
        },
        {
          "output_type": "stream",
          "name": "stdout",
          "text": [
            "Updated data for UNP saved to /content/Candlestick-Pattern-Recognition-with-Python-and-TA-Lib/datasets/daily/UNP.csv\n",
            "Updated data for UPS saved to /content/Candlestick-Pattern-Recognition-with-Python-and-TA-Lib/datasets/daily/UPS.csv\n",
            "Updated data for URI saved to /content/Candlestick-Pattern-Recognition-with-Python-and-TA-Lib/datasets/daily/URI.csv\n"
          ]
        },
        {
          "output_type": "stream",
          "name": "stderr",
          "text": [
            "\r[*********************100%%**********************]  1 of 1 completed\n"
          ]
        },
        {
          "output_type": "stream",
          "name": "stdout",
          "text": [
            "Updated data for USB saved to /content/Candlestick-Pattern-Recognition-with-Python-and-TA-Lib/datasets/daily/USB.csv\n"
          ]
        },
        {
          "output_type": "stream",
          "name": "stderr",
          "text": [
            "\r[*********************100%%**********************]  1 of 1 completed\n",
            "ERROR:yfinance:\n",
            "1 Failed download:\n",
            "ERROR:yfinance:['UTX']: YFTzMissingError('$%ticker%: possibly delisted; No timezone found')\n",
            "[*********************100%%**********************]  1 of 1 completed\n"
          ]
        },
        {
          "output_type": "stream",
          "name": "stdout",
          "text": [
            "Updated data for UTX saved to /content/Candlestick-Pattern-Recognition-with-Python-and-TA-Lib/datasets/daily/UTX.csv\n",
            "Updated data for V saved to /content/Candlestick-Pattern-Recognition-with-Python-and-TA-Lib/datasets/daily/V.csv\n"
          ]
        },
        {
          "output_type": "stream",
          "name": "stderr",
          "text": [
            "\r[*********************100%%**********************]  1 of 1 completed\n",
            "ERROR:yfinance:\n",
            "1 Failed download:\n",
            "ERROR:yfinance:['VAR']: YFTzMissingError('$%ticker%: possibly delisted; No timezone found')\n",
            "[*********************100%%**********************]  1 of 1 completed\n"
          ]
        },
        {
          "output_type": "stream",
          "name": "stdout",
          "text": [
            "Updated data for VAR saved to /content/Candlestick-Pattern-Recognition-with-Python-and-TA-Lib/datasets/daily/VAR.csv\n",
            "Updated data for VFC saved to /content/Candlestick-Pattern-Recognition-with-Python-and-TA-Lib/datasets/daily/VFC.csv\n"
          ]
        },
        {
          "output_type": "stream",
          "name": "stderr",
          "text": [
            "\r[*********************100%%**********************]  1 of 1 completed\n",
            "ERROR:yfinance:\n",
            "1 Failed download:\n",
            "ERROR:yfinance:['VIAC']: YFTzMissingError('$%ticker%: possibly delisted; No timezone found')\n",
            "[*********************100%%**********************]  1 of 1 completed\n"
          ]
        },
        {
          "output_type": "stream",
          "name": "stdout",
          "text": [
            "Updated data for VIAC saved to /content/Candlestick-Pattern-Recognition-with-Python-and-TA-Lib/datasets/daily/VIAC.csv\n",
            "Updated data for VLO saved to /content/Candlestick-Pattern-Recognition-with-Python-and-TA-Lib/datasets/daily/VLO.csv\n"
          ]
        },
        {
          "output_type": "stream",
          "name": "stderr",
          "text": [
            "[*********************100%%**********************]  1 of 1 completed\n",
            "[*********************100%%**********************]  1 of 1 completed\n"
          ]
        },
        {
          "output_type": "stream",
          "name": "stdout",
          "text": [
            "Updated data for VMC saved to /content/Candlestick-Pattern-Recognition-with-Python-and-TA-Lib/datasets/daily/VMC.csv\n",
            "Updated data for VNO saved to /content/Candlestick-Pattern-Recognition-with-Python-and-TA-Lib/datasets/daily/VNO.csv\n"
          ]
        },
        {
          "output_type": "stream",
          "name": "stderr",
          "text": [
            "[*********************100%%**********************]  1 of 1 completed\n",
            "[*********************100%%**********************]  1 of 1 completed\n",
            "[*********************100%%**********************]  1 of 1 completed\n"
          ]
        },
        {
          "output_type": "stream",
          "name": "stdout",
          "text": [
            "Updated data for VRSK saved to /content/Candlestick-Pattern-Recognition-with-Python-and-TA-Lib/datasets/daily/VRSK.csv\n",
            "Updated data for VRSN saved to /content/Candlestick-Pattern-Recognition-with-Python-and-TA-Lib/datasets/daily/VRSN.csv\n"
          ]
        },
        {
          "output_type": "stream",
          "name": "stderr",
          "text": [
            "\r[*********************100%%**********************]  1 of 1 completed\n"
          ]
        },
        {
          "output_type": "stream",
          "name": "stdout",
          "text": [
            "Updated data for VRTX saved to /content/Candlestick-Pattern-Recognition-with-Python-and-TA-Lib/datasets/daily/VRTX.csv\n",
            "Updated data for VTR saved to /content/Candlestick-Pattern-Recognition-with-Python-and-TA-Lib/datasets/daily/VTR.csv\n"
          ]
        },
        {
          "output_type": "stream",
          "name": "stderr",
          "text": [
            "[*********************100%%**********************]  1 of 1 completed\n",
            "[*********************100%%**********************]  1 of 1 completed\n"
          ]
        },
        {
          "output_type": "stream",
          "name": "stdout",
          "text": [
            "Updated data for VZ saved to /content/Candlestick-Pattern-Recognition-with-Python-and-TA-Lib/datasets/daily/VZ.csv\n",
            "Updated data for WAB saved to /content/Candlestick-Pattern-Recognition-with-Python-and-TA-Lib/datasets/daily/WAB.csv\n"
          ]
        },
        {
          "output_type": "stream",
          "name": "stderr",
          "text": [
            "[*********************100%%**********************]  1 of 1 completed\n",
            "[*********************100%%**********************]  1 of 1 completed\n"
          ]
        },
        {
          "output_type": "stream",
          "name": "stdout",
          "text": [
            "Updated data for WAT saved to /content/Candlestick-Pattern-Recognition-with-Python-and-TA-Lib/datasets/daily/WAT.csv\n",
            "Updated data for WBA saved to /content/Candlestick-Pattern-Recognition-with-Python-and-TA-Lib/datasets/daily/WBA.csv\n"
          ]
        },
        {
          "output_type": "stream",
          "name": "stderr",
          "text": [
            "\r[*********************100%%**********************]  1 of 1 completed\n",
            "ERROR:yfinance:\n",
            "1 Failed download:\n",
            "ERROR:yfinance:['WCG']: YFTzMissingError('$%ticker%: possibly delisted; No timezone found')\n",
            "[*********************100%%**********************]  1 of 1 completed\n"
          ]
        },
        {
          "output_type": "stream",
          "name": "stdout",
          "text": [
            "Updated data for WCG saved to /content/Candlestick-Pattern-Recognition-with-Python-and-TA-Lib/datasets/daily/WCG.csv\n",
            "Updated data for WDC saved to /content/Candlestick-Pattern-Recognition-with-Python-and-TA-Lib/datasets/daily/WDC.csv\n"
          ]
        },
        {
          "output_type": "stream",
          "name": "stderr",
          "text": [
            "[*********************100%%**********************]  1 of 1 completed\n",
            "[*********************100%%**********************]  1 of 1 completed\n"
          ]
        },
        {
          "output_type": "stream",
          "name": "stdout",
          "text": [
            "Updated data for WEC saved to /content/Candlestick-Pattern-Recognition-with-Python-and-TA-Lib/datasets/daily/WEC.csv\n",
            "Updated data for WELL saved to /content/Candlestick-Pattern-Recognition-with-Python-and-TA-Lib/datasets/daily/WELL.csv\n"
          ]
        },
        {
          "output_type": "stream",
          "name": "stderr",
          "text": [
            "[*********************100%%**********************]  1 of 1 completed\n",
            "[*********************100%%**********************]  1 of 1 completed\n"
          ]
        },
        {
          "output_type": "stream",
          "name": "stdout",
          "text": [
            "Updated data for WFC saved to /content/Candlestick-Pattern-Recognition-with-Python-and-TA-Lib/datasets/daily/WFC.csv\n",
            "Updated data for WHR saved to /content/Candlestick-Pattern-Recognition-with-Python-and-TA-Lib/datasets/daily/WHR.csv\n"
          ]
        },
        {
          "output_type": "stream",
          "name": "stderr",
          "text": [
            "\r[*********************100%%**********************]  1 of 1 completed\n",
            "ERROR:yfinance:\n",
            "1 Failed download:\n",
            "ERROR:yfinance:['WLTW']: YFTzMissingError('$%ticker%: possibly delisted; No timezone found')\n",
            "[*********************100%%**********************]  1 of 1 completed\n"
          ]
        },
        {
          "output_type": "stream",
          "name": "stdout",
          "text": [
            "Updated data for WLTW saved to /content/Candlestick-Pattern-Recognition-with-Python-and-TA-Lib/datasets/daily/WLTW.csv\n",
            "Updated data for WM saved to /content/Candlestick-Pattern-Recognition-with-Python-and-TA-Lib/datasets/daily/WM.csv\n"
          ]
        },
        {
          "output_type": "stream",
          "name": "stderr",
          "text": [
            "[*********************100%%**********************]  1 of 1 completed\n",
            "[*********************100%%**********************]  1 of 1 completed\n"
          ]
        },
        {
          "output_type": "stream",
          "name": "stdout",
          "text": [
            "Updated data for WMB saved to /content/Candlestick-Pattern-Recognition-with-Python-and-TA-Lib/datasets/daily/WMB.csv\n",
            "Updated data for WMT saved to /content/Candlestick-Pattern-Recognition-with-Python-and-TA-Lib/datasets/daily/WMT.csv\n"
          ]
        },
        {
          "output_type": "stream",
          "name": "stderr",
          "text": [
            "[*********************100%%**********************]  1 of 1 completed\n",
            "[*********************100%%**********************]  1 of 1 completed\n"
          ]
        },
        {
          "output_type": "stream",
          "name": "stdout",
          "text": [
            "Updated data for WRB saved to /content/Candlestick-Pattern-Recognition-with-Python-and-TA-Lib/datasets/daily/WRB.csv\n",
            "Updated data for WRK saved to /content/Candlestick-Pattern-Recognition-with-Python-and-TA-Lib/datasets/daily/WRK.csv\n"
          ]
        },
        {
          "output_type": "stream",
          "name": "stderr",
          "text": [
            "[*********************100%%**********************]  1 of 1 completed\n",
            "[*********************100%%**********************]  1 of 1 completed\n"
          ]
        },
        {
          "output_type": "stream",
          "name": "stdout",
          "text": [
            "Updated data for WU saved to /content/Candlestick-Pattern-Recognition-with-Python-and-TA-Lib/datasets/daily/WU.csv\n"
          ]
        },
        {
          "output_type": "stream",
          "name": "stderr",
          "text": [
            "\r[*********************100%%**********************]  1 of 1 completed\n"
          ]
        },
        {
          "output_type": "stream",
          "name": "stdout",
          "text": [
            "Updated data for WY saved to /content/Candlestick-Pattern-Recognition-with-Python-and-TA-Lib/datasets/daily/WY.csv\n",
            "Updated data for WYNN saved to /content/Candlestick-Pattern-Recognition-with-Python-and-TA-Lib/datasets/daily/WYNN.csv\n"
          ]
        },
        {
          "output_type": "stream",
          "name": "stderr",
          "text": [
            "\r[*********************100%%**********************]  1 of 1 completed\n",
            "ERROR:yfinance:\n",
            "1 Failed download:\n",
            "ERROR:yfinance:['XEC']: YFTzMissingError('$%ticker%: possibly delisted; No timezone found')\n",
            "[*********************100%%**********************]  1 of 1 completed\n"
          ]
        },
        {
          "output_type": "stream",
          "name": "stdout",
          "text": [
            "Updated data for XEC saved to /content/Candlestick-Pattern-Recognition-with-Python-and-TA-Lib/datasets/daily/XEC.csv\n",
            "Updated data for XEL saved to /content/Candlestick-Pattern-Recognition-with-Python-and-TA-Lib/datasets/daily/XEL.csv\n"
          ]
        },
        {
          "output_type": "stream",
          "name": "stderr",
          "text": [
            "\r[*********************100%%**********************]  1 of 1 completed\n",
            "ERROR:yfinance:\n",
            "1 Failed download:\n",
            "ERROR:yfinance:['XLNX']: YFTzMissingError('$%ticker%: possibly delisted; No timezone found')\n"
          ]
        },
        {
          "output_type": "stream",
          "name": "stdout",
          "text": [
            "Updated data for XLNX saved to /content/Candlestick-Pattern-Recognition-with-Python-and-TA-Lib/datasets/daily/XLNX.csv\n"
          ]
        },
        {
          "output_type": "stream",
          "name": "stderr",
          "text": [
            "\r[*********************100%%**********************]  1 of 1 completed\n"
          ]
        },
        {
          "output_type": "stream",
          "name": "stdout",
          "text": [
            "Updated data for XOM saved to /content/Candlestick-Pattern-Recognition-with-Python-and-TA-Lib/datasets/daily/XOM.csv\n"
          ]
        },
        {
          "output_type": "stream",
          "name": "stderr",
          "text": [
            "[*********************100%%**********************]  1 of 1 completed\n",
            "[*********************100%%**********************]  1 of 1 completed\n"
          ]
        },
        {
          "output_type": "stream",
          "name": "stdout",
          "text": [
            "Updated data for XRAY saved to /content/Candlestick-Pattern-Recognition-with-Python-and-TA-Lib/datasets/daily/XRAY.csv\n",
            "Updated data for XRX saved to /content/Candlestick-Pattern-Recognition-with-Python-and-TA-Lib/datasets/daily/XRX.csv\n"
          ]
        },
        {
          "output_type": "stream",
          "name": "stderr",
          "text": [
            "[*********************100%%**********************]  1 of 1 completed\n",
            "[*********************100%%**********************]  1 of 1 completed\n",
            "[*********************100%%**********************]  1 of 1 completed"
          ]
        },
        {
          "output_type": "stream",
          "name": "stdout",
          "text": [
            "Updated data for XYL saved to /content/Candlestick-Pattern-Recognition-with-Python-and-TA-Lib/datasets/daily/XYL.csv\n",
            "Updated data for YUM saved to /content/Candlestick-Pattern-Recognition-with-Python-and-TA-Lib/datasets/daily/YUM.csv\n"
          ]
        },
        {
          "output_type": "stream",
          "name": "stderr",
          "text": [
            "\n",
            "\r[*********************100%%**********************]  1 of 1 completed\n"
          ]
        },
        {
          "output_type": "stream",
          "name": "stdout",
          "text": [
            "Updated data for ZBH saved to /content/Candlestick-Pattern-Recognition-with-Python-and-TA-Lib/datasets/daily/ZBH.csv\n",
            "Updated data for ZBRA saved to /content/Candlestick-Pattern-Recognition-with-Python-and-TA-Lib/datasets/daily/ZBRA.csv\n"
          ]
        },
        {
          "output_type": "stream",
          "name": "stderr",
          "text": [
            "[*********************100%%**********************]  1 of 1 completed\n",
            "[*********************100%%**********************]  1 of 1 completed"
          ]
        },
        {
          "output_type": "stream",
          "name": "stdout",
          "text": [
            "Updated data for ZION saved to /content/Candlestick-Pattern-Recognition-with-Python-and-TA-Lib/datasets/daily/ZION.csv\n",
            "Updated data for ZTS saved to /content/Candlestick-Pattern-Recognition-with-Python-and-TA-Lib/datasets/daily/ZTS.csv\n"
          ]
        },
        {
          "output_type": "stream",
          "name": "stderr",
          "text": [
            "\n"
          ]
        }
      ]
    },
    {
      "cell_type": "code",
      "source": [
        "!python3 pattern_detect.py"
      ],
      "metadata": {
        "id": "2widqL9j-F4X",
        "outputId": "9bb9ff79-6ba7-4084-b025-b214a04e9f5f",
        "colab": {
          "base_uri": "https://localhost:8080/"
        }
      },
      "execution_count": 45,
      "outputs": [
        {
          "output_type": "stream",
          "name": "stdout",
          "text": [
            "\r[*********************100%%**********************]  1 of 1 completed\n",
            "                  Open        High         Low  ...  Morning_Star  Engulfing  Breakaway\n",
            "Date                                            ...                                    \n",
            "2023-01-03  384.369995  386.429993  377.829987  ...             0          0          0\n",
            "2023-01-04  383.179993  385.880005  380.000000  ...             0          0          0\n",
            "2023-01-05  381.720001  381.839996  378.760010  ...             0          0          0\n",
            "2023-01-06  382.609985  389.250000  379.410004  ...             0          0          0\n",
            "2023-01-09  390.369995  393.700012  387.670013  ...             0          0          0\n",
            "...                ...         ...         ...  ...           ...        ...        ...\n",
            "2023-10-16  433.820007  437.140015  433.570007  ...             0          0          0\n",
            "2023-10-17  432.809998  438.140015  432.450012  ...             0          0          0\n",
            "2023-10-18  434.190002  435.179993  429.089996  ...             0          0          0\n",
            "2023-10-19  430.950012  432.820007  425.730011  ...             0          0          0\n",
            "2023-10-20  425.980011  426.540009  421.079987  ...             0          0          0\n",
            "\n",
            "[202 rows x 9 columns]\n",
            "Date\n",
            "2023-01-20    100\n",
            "2023-05-05    100\n",
            "2023-08-14    100\n",
            "dtype: int32\n",
            "                  Open        High         Low  ...  Morning_Star  Engulfing  Breakaway\n",
            "Date                                            ...                                    \n",
            "2023-01-10  387.250000  390.649994  386.269989  ...             0        100        100\n",
            "2023-03-02  392.679993  398.690002  392.329987  ...             0        100        100\n",
            "2023-03-09  399.739990  401.480011  390.529999  ...             0       -100       -100\n",
            "2023-03-24  391.839996  395.839996  389.399994  ...             0        100        100\n",
            "2023-04-04  411.619995  411.920013  407.239990  ...             0       -100       -100\n",
            "2023-04-06  406.769989  409.480011  405.679993  ...             0        100        100\n",
            "2023-04-17  412.369995  413.959991  411.089996  ...             0        100        100\n",
            "2023-05-12  413.420013  413.640015  409.070007  ...             0       -100       -100\n",
            "2023-06-07  428.440002  429.619995  426.109985  ...             0       -100       -100\n",
            "2023-06-22  433.950012  436.619995  433.600006  ...             0        100        100\n",
            "2023-07-10  438.179993  439.839996  437.589996  ...             0        100        100\n",
            "2023-07-17  449.130005  451.929993  449.079987  ...             0        100        100\n",
            "2023-07-27  459.019989  459.440002  451.549988  ...             0       -100       -100\n",
            "2023-08-04  450.720001  452.899994  446.269989  ...             0       -100       -100\n",
            "2023-08-09  449.029999  449.200012  444.959991  ...             0       -100       -100\n",
            "2023-08-24  444.690002  445.220001  436.859985  ...             0       -100       -100\n",
            "2023-09-20  444.010010  444.440002  438.429993  ...             0       -100       -100\n",
            "2023-09-28  425.480011  430.250000  424.869995  ...             0        100        100\n",
            "2023-10-12  436.950012  437.339996  431.230011  ...             0       -100       -100\n",
            "\n",
            "[19 rows x 9 columns]\n",
            "Date\n",
            "2023-01-10    100\n",
            "2023-03-02    100\n",
            "2023-03-09   -100\n",
            "2023-03-24    100\n",
            "2023-04-04   -100\n",
            "2023-04-06    100\n",
            "2023-04-17    100\n",
            "2023-05-12   -100\n",
            "2023-06-07   -100\n",
            "2023-06-22    100\n",
            "2023-07-10    100\n",
            "2023-07-17    100\n",
            "2023-07-27   -100\n",
            "2023-08-04   -100\n",
            "2023-08-09   -100\n",
            "2023-08-24   -100\n",
            "2023-09-20   -100\n",
            "2023-09-28    100\n",
            "2023-10-12   -100\n",
            "dtype: int32\n"
          ]
        }
      ]
    },
    {
      "cell_type": "code",
      "source": [
        "!python3 app.py"
      ],
      "metadata": {
        "id": "6EArxBlgEhFg",
        "outputId": "5baccbf9-5fb3-4554-aacc-6ec3464ff644",
        "colab": {
          "base_uri": "https://localhost:8080/"
        }
      },
      "execution_count": null,
      "outputs": [
        {
          "metadata": {
            "tags": null
          },
          "name": "stdout",
          "output_type": "stream",
          "text": [
            " * ngrok tunnel \"NgrokTunnel: \"https://9508-34-23-170-118.ngrok-free.app\" -> \"http://localhost:5000\"\" -> \"http://127.0.0.1:5000\"\n",
            " * Serving Flask app 'app'\n",
            " * Debug mode: off\n",
            "\u001b[31m\u001b[1mWARNING: This is a development server. Do not use it in a production deployment. Use a production WSGI server instead.\u001b[0m\n",
            " * Running on http://127.0.0.1:5000\n",
            "\u001b[33mPress CTRL+C to quit\u001b[0m\n",
            "127.0.0.1 - - [01/Jun/2024 15:46:41] \"GET / HTTP/1.1\" 200 -\n",
            "127.0.0.1 - - [01/Jun/2024 15:46:49] \"\u001b[33mGET /favicon.ico HTTP/1.1\u001b[0m\" 404 -\n",
            "failed on filename:  BF.B.csv\n",
            "failed on filename:  ANTM.csv\n",
            "failed on filename:  NLSN.csv\n",
            "failed on filename:  ALXN.csv\n",
            "failed on filename:  CTL.csv\n",
            "failed on filename:  TWTR.csv\n",
            "failed on filename:  WLTW.csv\n",
            "failed on filename:  LB.csv\n",
            "failed on filename:  FBHS.csv\n",
            "failed on filename:  FLT.csv\n",
            "failed on filename:  MYL.csv\n",
            "failed on filename:  ABC.csv\n",
            "failed on filename:  INFO.csv\n",
            "failed on filename:  SIVB.csv\n",
            "failed on filename:  VIAC.csv\n",
            "failed on filename:  DISCK.csv\n",
            "failed on filename:  NLOK.csv\n",
            "failed on filename:  FB.csv\n",
            "failed on filename:  ADS.csv\n",
            "failed on filename:  CERN.csv\n",
            "failed on filename:  XLNX.csv\n",
            "failed on filename:  TIF.csv\n",
            "failed on filename:  AGN.csv\n",
            "failed on filename:  PKI.csv\n",
            "failed on filename:  BRK.B.csv\n",
            "failed on filename:  XEC.csv\n",
            "failed on filename:  ARNC.csv\n",
            "failed on filename:  DISCA.csv\n",
            "failed on filename:  ETFC.csv\n",
            "failed on filename:  VAR.csv\n",
            "failed on filename:  COG.csv\n",
            "failed on filename:  KSU.csv\n",
            "failed on filename:  PBCT.csv\n",
            "failed on filename:  ATVI.csv\n",
            "failed on filename:  NBL.csv\n",
            "failed on filename:  CXO.csv\n",
            "failed on filename:  UTX.csv\n",
            "failed on filename:  WCG.csv\n",
            "failed on filename:  FLIR.csv\n",
            "failed on filename:  BLL.csv\n",
            "failed on filename:  DISH.csv\n",
            "failed on filename:  MXIM.csv\n",
            "failed on filename:  FRC.csv\n",
            "failed on filename:  CTXS.csv\n",
            "failed on filename:  RE.csv\n",
            "failed on filename:  ABMD.csv\n",
            "failed on filename:  PEAK.csv\n",
            "failed on filename:  DRE.csv\n",
            "failed on filename:  HFC.csv\n",
            "failed on filename:  RTN.csv\n",
            "127.0.0.1 - - [01/Jun/2024 15:47:32] \"GET /?pattern=CDLMATCHINGLOW HTTP/1.1\" 200 -\n"
          ]
        }
      ]
    }
  ]
}