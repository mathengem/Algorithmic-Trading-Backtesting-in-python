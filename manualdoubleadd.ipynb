{
  "cells": [
    {
      "cell_type": "markdown",
      "metadata": {
        "id": "view-in-github",
        "colab_type": "text"
      },
      "source": [
        "<a href=\"https://colab.research.google.com/github/mathengem/Algorithmic-Trading-Backtesting-in-python/blob/main/manualdoubleadd.ipynb\" target=\"_parent\"><img src=\"https://colab.research.google.com/assets/colab-badge.svg\" alt=\"Open In Colab\"/></a>"
      ]
    },
    {
      "cell_type": "code",
      "source": [
        "!sudo apt-get install build-essential"
      ],
      "metadata": {
        "colab": {
          "base_uri": "https://localhost:8080/"
        },
        "id": "gDLCtXmLY8B_",
        "outputId": "f55b80e9-87b0-4e89-f5e8-8ae4f740ce14"
      },
      "execution_count": 23,
      "outputs": [
        {
          "output_type": "stream",
          "name": "stdout",
          "text": [
            "Reading package lists... Done\n",
            "Building dependency tree... Done\n",
            "Reading state information... Done\n",
            "build-essential is already the newest version (12.9ubuntu3).\n",
            "0 upgraded, 0 newly installed, 0 to remove and 45 not upgraded.\n"
          ]
        }
      ]
    },
    {
      "cell_type": "code",
      "execution_count": null,
      "metadata": {
        "colab": {
          "base_uri": "https://localhost:8080/"
        },
        "id": "WIc2gjNLAQ9M",
        "outputId": "331c46bd-f501-4972-ffbd-2f37b1045310"
      },
      "outputs": [
        {
          "name": "stdout",
          "output_type": "stream",
          "text": [
            "{'x': 104059883622109321374094289636044428849728529177856482232626205340719788190730, 'y': 112122903140080327253741791678230372394936108416576609264408917599318947489825}\n"
          ]
        }
      ],
      "source": [
        "def inverse(value, p):\n",
        "    # Function to find the modular inverse\n",
        "    return pow(value, p - 2, p)\n",
        "\n",
        "def double(point, a, p):\n",
        "    # slope = (3x₁² + a) / 2y₁\n",
        "    slope = ((3 * point['x'] ** 2 + a) * inverse(2 * point['y'], p)) % p  # using inverse to help with division\n",
        "\n",
        "    # x = slope² - 2x₁\n",
        "    x = (slope ** 2 - (2 * point['x'])) % p\n",
        "\n",
        "    # y = slope * (x₁ - x) - y₁\n",
        "    y = (slope * (point['x'] - x) - point['y']) % p\n",
        "\n",
        "    # Return the new point\n",
        "    return {'x': x, 'y': y}\n",
        "\n",
        "# Given point\n",
        "point = {\n",
        "    'x': 21262057306151627953595685090280431278183829487175876377991189246716355947009,\n",
        "    'y': 41749993296225487051377864631615517161996906063147759678534462689479575333124\n",
        "}\n",
        "\n",
        "# Coefficients\n",
        "a = 0\n",
        "p = 0xFFFFFFFFFFFFFFFFFFFFFFFFFFFFFFFFFFFFFFFFFFFFFFFFFFFFFFFEFFFFFC2F\n",
        "\n",
        "# Double the point\n",
        "new_point = double(point, a, p)\n",
        "print(new_point)"
      ]
    },
    {
      "cell_type": "code",
      "execution_count": 19,
      "metadata": {
        "colab": {
          "base_uri": "https://localhost:8080/"
        },
        "id": "eeWGFb4uCRi_",
        "outputId": "8f35839d-98e1-45c3-8191-80823a789c55"
      },
      "outputs": [
        {
          "output_type": "stream",
          "name": "stdout",
          "text": [
            "Doubled Point: {'x': 104059883622109321374094289636044428849728529177856482232626205340719788190730, 'y': 112122903140080327253741791678230372394936108416576609264408917599318947489825}\n",
            "Added Point: {'x': 100862081773581120499222301212791081193994281440454033593790618293887747050036, 'y': 29883864782608871580821802176208615141762369223249393426421538275393411672951}\n"
          ]
        }
      ],
      "source": [
        "def inverse(value, p):\n",
        "    # Function to find the modular inverse\n",
        "    return pow(value, p - 2, p)\n",
        "\n",
        "def double(point, a, p):\n",
        "    # slope = (3x₁² + a) / 2y₁\n",
        "    slope = ((3 * point['x'] ** 2 + a) * inverse(2 * point['y'], p)) % p  # using inverse to help with division\n",
        "\n",
        "    # x = slope² - 2x₁\n",
        "    x = (slope ** 2 - (2 * point['x'])) % p\n",
        "\n",
        "    # y = slope * (x₁ - x) - y₁\n",
        "    y = (slope * (point['x'] - x) - point['y']) % p\n",
        "\n",
        "    # Return the new point\n",
        "    return {'x': x, 'y': y}\n",
        "\n",
        "def add(point1, point2, p):\n",
        "    # slope = (y₂ - y₁) / (x₂ - x₁)\n",
        "    slope = ((point2['y'] - point1['y']) * inverse(point2['x'] - point1['x'], p)) % p  # using inverse to help with division\n",
        "\n",
        "    # x = slope² - x₁ - x₂\n",
        "    x = (slope ** 2 - point1['x'] - point2['x']) % p\n",
        "\n",
        "    # y = slope * (x₁ - x) - y₁\n",
        "    y = (slope * (point1['x'] - x) - point1['y']) % p\n",
        "\n",
        "    # Return the new point\n",
        "    return {'x': x, 'y': y}\n",
        "\n",
        "# Given point\n",
        "point = {\n",
        "    'x': 21262057306151627953595685090280431278183829487175876377991189246716355947009,\n",
        "    'y': 41749993296225487051377864631615517161996906063147759678534462689479575333124\n",
        "}\n",
        "\n",
        "# Generator point\n",
        "generator_point = {\n",
        "    'x': 55066263022277343669578718895168534326250603453777594175500187360389116729240,\n",
        "    'y': 32670510020758816978083085130507043184471273380659243275938904335757337482424\n",
        "}\n",
        "\n",
        "# Coefficients\n",
        "a = 0\n",
        "p = 0xFFFFFFFFFFFFFFFFFFFFFFFFFFFFFFFFFFFFFFFFFFFFFFFFFFFFFFFEFFFFFC2F\n",
        "\n",
        "# Double the point\n",
        "doubled_point = double(point, a, p)\n",
        "print(\"Doubled Point:\", doubled_point)\n",
        "\n",
        "# Add the generator point to the doubled point\n",
        "added_point = add(doubled_point, generator_point, p)\n",
        "print(\"Added Point:\", added_point)"
      ]
    },
    {
      "cell_type": "code",
      "source": [
        "!g++ -o kangtool kangtool.cpp -lgmp -lgmpxx"
      ],
      "metadata": {
        "id": "A_GvrxJVYW1N"
      },
      "execution_count": 27,
      "outputs": []
    },
    {
      "cell_type": "code",
      "source": [
        "!./kangtool 40 64634588222646747650107927774040249336470261711799549176265954510750567390000 64634588222646747650107927774040249336470261711799549176265954510750567380000"
      ],
      "metadata": {
        "colab": {
          "base_uri": "https://localhost:8080/"
        },
        "id": "l4Xq48HKdMqJ",
        "outputId": "1a72cb3c-d812-45e6-c640-843ed9f2f3cb"
      },
      "execution_count": 28,
      "outputs": [
        {
          "output_type": "stream",
          "name": "stdout",
          "text": [
            "\r\u001b[01;33m[+]\u001b[32m KANGAROO: \u001b[01;33mSun Jul 14 18:16:14 2024\n",
            "\u001b[0m\r[+] [Puzzle]: 40\n",
            "[+] [Lower range limit]: 64634588222646747650107927774040249336470261711799549176265954510750567390000\n",
            "[+] [Upper range limit]: 64634588222646747650107927774040249336470261711799549176265954510750567380000\n",
            "[+] [X]: 63197404024650120172724571987880727514189947072523023896020110619936397598471\n",
            "[+] [Y]: 80245095564283658132644772061384540592156901775253758396148311375001217034987\n",
            "[+] P-table prepared\n",
            "\n",
            "\u001b[01;33m[+]\u001b[32m PUZZLE SOLVED: \u001b[32mSun Jul 14 18:16:16 2024\n",
            "\u001b[01;33m[+]\u001b[32m Private key (dec): \u001b[32m64634588222646747650107927774040249336470261711799549176265954510750567381476\u001b[0m\n",
            "[+] Hops: 326304\n",
            "[+] Average time to solve: 1 sec\n"
          ]
        }
      ]
    }
  ],
  "metadata": {
    "colab": {
      "provenance": [],
      "authorship_tag": "ABX9TyPTtuxOBH3VSaxP4ZoikIDg",
      "include_colab_link": true
    },
    "kernelspec": {
      "display_name": "Python 3",
      "name": "python3"
    },
    "language_info": {
      "name": "python"
    }
  },
  "nbformat": 4,
  "nbformat_minor": 0
}