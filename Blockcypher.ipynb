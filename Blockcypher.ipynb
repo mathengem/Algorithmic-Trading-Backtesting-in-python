{
  "nbformat": 4,
  "nbformat_minor": 0,
  "metadata": {
    "colab": {
      "provenance": [],
      "authorship_tag": "ABX9TyOrouD+aQLGze9VOoKEzo/t",
      "include_colab_link": true
    },
    "kernelspec": {
      "name": "python3",
      "display_name": "Python 3"
    },
    "language_info": {
      "name": "python"
    }
  },
  "cells": [
    {
      "cell_type": "markdown",
      "metadata": {
        "id": "view-in-github",
        "colab_type": "text"
      },
      "source": [
        "<a href=\"https://colab.research.google.com/github/mathengem/Algorithmic-Trading-Backtesting-in-python/blob/main/Blockcypher.ipynb\" target=\"_parent\"><img src=\"https://colab.research.google.com/assets/colab-badge.svg\" alt=\"Open In Colab\"/></a>"
      ]
    },
    {
      "cell_type": "code",
      "source": [
        "!pip3 install blockcypher"
      ],
      "metadata": {
        "colab": {
          "base_uri": "https://localhost:8080/"
        },
        "id": "LG54bcbUP6Vj",
        "outputId": "0c83ef76-7bd0-4655-c92b-69701eaf0eb7"
      },
      "execution_count": 14,
      "outputs": [
        {
          "output_type": "stream",
          "name": "stdout",
          "text": [
            "Collecting blockcypher\n",
            "  Downloading blockcypher-1.0.93-py3-none-any.whl (31 kB)\n",
            "Requirement already satisfied: requests<3.0.0 in /usr/local/lib/python3.10/dist-packages (from blockcypher) (2.31.0)\n",
            "Requirement already satisfied: python-dateutil<3.0.0 in /usr/local/lib/python3.10/dist-packages (from blockcypher) (2.8.2)\n",
            "Collecting bitcoin==1.1.39 (from blockcypher)\n",
            "  Downloading bitcoin-1.1.39.tar.gz (27 kB)\n",
            "  Preparing metadata (setup.py) ... \u001b[?25l\u001b[?25hdone\n",
            "Requirement already satisfied: six>=1.5 in /usr/local/lib/python3.10/dist-packages (from python-dateutil<3.0.0->blockcypher) (1.16.0)\n",
            "Requirement already satisfied: charset-normalizer<4,>=2 in /usr/local/lib/python3.10/dist-packages (from requests<3.0.0->blockcypher) (3.3.2)\n",
            "Requirement already satisfied: idna<4,>=2.5 in /usr/local/lib/python3.10/dist-packages (from requests<3.0.0->blockcypher) (3.7)\n",
            "Requirement already satisfied: urllib3<3,>=1.21.1 in /usr/local/lib/python3.10/dist-packages (from requests<3.0.0->blockcypher) (2.0.7)\n",
            "Requirement already satisfied: certifi>=2017.4.17 in /usr/local/lib/python3.10/dist-packages (from requests<3.0.0->blockcypher) (2024.6.2)\n",
            "Building wheels for collected packages: bitcoin\n",
            "  Building wheel for bitcoin (setup.py) ... \u001b[?25l\u001b[?25hdone\n",
            "  Created wheel for bitcoin: filename=bitcoin-1.1.39-py3-none-any.whl size=28421 sha256=1fd25305b5aa67f8db3bfcbcfa659b34c9769a5c7143e6f32f9c9fbab449445d\n",
            "  Stored in directory: /root/.cache/pip/wheels/83/49/59/01dd3687ca261b46deea85b14c12280c451fc717089775a3ca\n",
            "Successfully built bitcoin\n",
            "Installing collected packages: bitcoin, blockcypher\n",
            "Successfully installed bitcoin-1.1.39 blockcypher-1.0.93\n"
          ]
        }
      ]
    },
    {
      "cell_type": "code",
      "source": [
        "import blockcypher\n",
        "blockcypher.get_total_balance('1BTCorgHwCg6u2YSAWKgS17qUad6kHmtQW')"
      ],
      "metadata": {
        "colab": {
          "base_uri": "https://localhost:8080/"
        },
        "id": "05syi0tQQCwy",
        "outputId": "16f7746c-40e2-4899-ac42-6f9188effc37"
      },
      "execution_count": 15,
      "outputs": [
        {
          "output_type": "execute_result",
          "data": {
            "text/plain": [
              "96704223"
            ]
          },
          "metadata": {},
          "execution_count": 15
        }
      ]
    },
    {
      "cell_type": "code",
      "source": [
        "import blockcypher\n",
        "blockcypher.get_latest_block_height()\n",
        "blockcypher.get_latest_block_hash()"
      ],
      "metadata": {
        "colab": {
          "base_uri": "https://localhost:8080/",
          "height": 35
        },
        "id": "R26kRF1fQkcM",
        "outputId": "1b208bfa-f3fd-4391-998f-fc4f6a7a8b76"
      },
      "execution_count": 19,
      "outputs": [
        {
          "output_type": "execute_result",
          "data": {
            "text/plain": [
              "'00000000000000000002ec99af37b9e894c3c4f2105824a01e44d3c3b2f94be3'"
            ],
            "application/vnd.google.colaboratory.intrinsic+json": {
              "type": "string"
            }
          },
          "metadata": {},
          "execution_count": 19
        }
      ]
    },
    {
      "cell_type": "code",
      "source": [
        "import blockcypher\n",
        "blockcypher.generate_new_address()"
      ],
      "metadata": {
        "colab": {
          "base_uri": "https://localhost:8080/",
          "height": 280
        },
        "id": "ElNNHhsqRbL5",
        "outputId": "e7a25a31-da19-4035-beef-639a514e2bd1"
      },
      "execution_count": 21,
      "outputs": [
        {
          "output_type": "error",
          "ename": "AssertionError",
          "evalue": "api_key required",
          "traceback": [
            "\u001b[0;31m---------------------------------------------------------------------------\u001b[0m",
            "\u001b[0;31mAssertionError\u001b[0m                            Traceback (most recent call last)",
            "\u001b[0;32m<ipython-input-21-381f4ba6f11d>\u001b[0m in \u001b[0;36m<cell line: 2>\u001b[0;34m()\u001b[0m\n\u001b[1;32m      1\u001b[0m \u001b[0;32mimport\u001b[0m \u001b[0mblockcypher\u001b[0m\u001b[0;34m\u001b[0m\u001b[0;34m\u001b[0m\u001b[0m\n\u001b[0;32m----> 2\u001b[0;31m \u001b[0mblockcypher\u001b[0m\u001b[0;34m.\u001b[0m\u001b[0mgenerate_new_address\u001b[0m\u001b[0;34m(\u001b[0m\u001b[0;34m)\u001b[0m\u001b[0;34m\u001b[0m\u001b[0;34m\u001b[0m\u001b[0m\n\u001b[0m",
            "\u001b[0;32m/usr/local/lib/python3.10/dist-packages/blockcypher/api.py\u001b[0m in \u001b[0;36mgenerate_new_address\u001b[0;34m(coin_symbol, api_key)\u001b[0m\n\u001b[1;32m    368\u001b[0m     '''\n\u001b[1;32m    369\u001b[0m \u001b[0;34m\u001b[0m\u001b[0m\n\u001b[0;32m--> 370\u001b[0;31m     \u001b[0;32massert\u001b[0m \u001b[0mapi_key\u001b[0m\u001b[0;34m,\u001b[0m \u001b[0;34m'api_key required'\u001b[0m\u001b[0;34m\u001b[0m\u001b[0;34m\u001b[0m\u001b[0m\n\u001b[0m\u001b[1;32m    371\u001b[0m     \u001b[0;32massert\u001b[0m \u001b[0mis_valid_coin_symbol\u001b[0m\u001b[0;34m(\u001b[0m\u001b[0mcoin_symbol\u001b[0m\u001b[0;34m)\u001b[0m\u001b[0;34m\u001b[0m\u001b[0;34m\u001b[0m\u001b[0m\n\u001b[1;32m    372\u001b[0m \u001b[0;34m\u001b[0m\u001b[0m\n",
            "\u001b[0;31mAssertionError\u001b[0m: api_key required"
          ]
        }
      ]
    }
  ]
}