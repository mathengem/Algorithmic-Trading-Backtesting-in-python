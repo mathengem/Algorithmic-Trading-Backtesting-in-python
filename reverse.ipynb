{
  "cells": [
    {
      "cell_type": "markdown",
      "metadata": {
        "id": "view-in-github",
        "colab_type": "text"
      },
      "source": [
        "<a href=\"https://colab.research.google.com/github/mathengem/Algorithmic-Trading-Backtesting-in-python/blob/main/reverse.ipynb\" target=\"_parent\"><img src=\"https://colab.research.google.com/assets/colab-badge.svg\" alt=\"Open In Colab\"/></a>"
      ]
    },
    {
      "cell_type": "code",
      "execution_count": null,
      "metadata": {
        "colab": {
          "base_uri": "https://localhost:8080/"
        },
        "id": "pK0_fRrp-VJB",
        "outputId": "66c86752-336c-488e-ccd4-628a9fa9749b"
      },
      "outputs": [
        {
          "name": "stdout",
          "output_type": "stream",
          "text": [
            "129\n"
          ]
        }
      ],
      "source": [
        "def bits_to_power_of_2(n):\n",
        "    binary = bin(n)[2:]  # Convert to binary and remove the '0b' prefix\n",
        "    result = 0\n",
        "    for bit in binary:\n",
        "        result += int(bit) ** 2\n",
        "    return result\n",
        "\n",
        "n = 95380476409989927518265284211742463771152233949972759817921272362451499160704\n",
        "print(bits_to_power_of_2(n))"
      ]
    },
    {
      "cell_type": "code",
      "execution_count": null,
      "metadata": {
        "colab": {
          "base_uri": "https://localhost:8080/"
        },
        "id": "5iq-vTLp-iHm",
        "outputId": "631a407e-775d-4057-9049-1dcc617661e5"
      },
      "outputs": [
        {
          "name": "stdout",
          "output_type": "stream",
          "text": [
            "2^255 + 2^254 + 2^252 + 2^249 + 2^247 + 2^246 + 2^244 + 2^243 + 2^242 + 2^241 + 2^240 + 2^238 + 2^237 + 2^235 + 2^234 + 2^233 + 2^232 + 2^231 + 2^230 + 2^224 + 2^223 + 2^219 + 2^218 + 2^216 + 2^215 + 2^214 + 2^213 + 2^210 + 2^209 + 2^208 + 2^206 + 2^204 + 2^203 + 2^201 + 2^196 + 2^191 + 2^187 + 2^185 + 2^183 + 2^182 + 2^181 + 2^180 + 2^174 + 2^173 + 2^170 + 2^168 + 2^166 + 2^165 + 2^164 + 2^163 + 2^158 + 2^156 + 2^155 + 2^154 + 2^153 + 2^150 + 2^149 + 2^146 + 2^142 + 2^141 + 2^139 + 2^136 + 2^133 + 2^132 + 2^131 + 2^130 + 2^129 + 2^128 + 2^126 + 2^123 + 2^122 + 2^119 + 2^118 + 2^116 + 2^115 + 2^113 + 2^110 + 2^105 + 2^103 + 2^102 + 2^101 + 2^100 + 2^98 + 2^97 + 2^95 + 2^93 + 2^91 + 2^90 + 2^89 + 2^88 + 2^82 + 2^81 + 2^79 + 2^76 + 2^75 + 2^74 + 2^72 + 2^70 + 2^67 + 2^66 + 2^63 + 2^62 + 2^59 + 2^58 + 2^57 + 2^56 + 2^55 + 2^54 + 2^52 + 2^49 + 2^47 + 2^46 + 2^44 + 2^43 + 2^42 + 2^41 + 2^40 + 2^38 + 2^35 + 2^27 + 2^26 + 2^25 + 2^21 + 2^18 + 2^17 + 2^16 + 2^12 + 2^10 + 2^7\n"
          ]
        }
      ],
      "source": [
        "def bits_to_power_of_2(n):\n",
        "    binary = bin(n)[2:]  # Convert to binary and remove the '0b' prefix\n",
        "    result = ''\n",
        "    for i, bit in enumerate(reversed(binary)):\n",
        "        if bit == '1':\n",
        "            result = '2^' + str(i) + ' + ' + result\n",
        "    return result.rstrip(' + ')\n",
        "\n",
        "n = 95380476409989927518265284211742463771152233949972759817921272362451499160704\n",
        "print(bits_to_power_of_2(n))"
      ]
    },
    {
      "cell_type": "code",
      "execution_count": null,
      "metadata": {
        "colab": {
          "base_uri": "https://localhost:8080/"
        },
        "id": "wiigXpufECiX",
        "outputId": "2247eb4b-bab7-4743-a35d-c39b58aa2239"
      },
      "outputs": [
        {
          "name": "stdout",
          "output_type": "stream",
          "text": [
            "01110110110101111011100101001011010101111001101101000111010110110100001101101111001110100001001011110011001000110101010101011\n"
          ]
        }
      ],
      "source": [
        "expression = \"2^255 + 2^254 + 2^252 + 2^250 + 2^249 + 2^246 + 2^244 + 2^243 + 2^240 + 2^238 + 2^237 + 2^236 + 2^235 + 2^234 + 2^232 + 2^230 + 2^226 + 2^225 + 2^222 + 2^220 + 2^218 + 2^211 + 2^207 + 2^206 + 2^205 + 2^202 + 2^201 + 2^199 + 2^198 + 2^197 + 2^192 + 2^188 + 2^185 + 2^182 + 2^181 + 2^178 + 2^175 + 2^174 + 2^168 + 2^164 + 2^162 + 2^161 + 2^159 + 2^158 + 2^156 + 2^155 + 2^154 + 2^152 + 2^151 + 2^148 + 2^147 + 2^143 + 2^141 + 2^140 + 2^138 + 2^136 + 2^133 + 2^132 + 2^131 + 2^128 + 2^126 + 2^125 + 2^124 + 2^122 + 2^115 + 2^114 + 2^113 + 2^111 + 2^101 + 2^99 + 2^98 + 2^96 + 2^95 + 2^94 + 2^90 + 2^89 + 2^88 + 2^86 + 2^84 + 2^82 + 2^81 + 2^79 + 2^78 + 2^76 + 2^74 + 2^73 + 2^72 + 2^71 + 2^69 + 2^67 + 2^65 + 2^64 + 2^63 + 2^59 + 2^54 + 2^53 + 2^52 + 2^50 + 2^44 + 2^42 + 2^41 + 2^39 + 2^36 + 2^34 + 2^33 + 2^31 + 2^30 + 2^29 + 2^25 + 2^19 + 2^18 + 2^16 + 2^15 + 2^14 + 2^13 + 2^12 + 2^11 + 2^10 + 2^9 + 2^6 + 2^5 + 2^4 + 2^3 + 2^2 + 2^0\"\n",
        "\n",
        "result = 0\n",
        "binary_result = \"\"\n",
        "for term in expression.split(\" + \"):\n",
        "    n = int(term.strip().split(\"^\")[1])\n",
        "    if n % 2 == 0:\n",
        "        binary_result += \"1\"\n",
        "    else:\n",
        "        binary_result += \"0\"\n",
        "\n",
        "print(binary_result)"
      ]
    },
    {
      "cell_type": "code",
      "execution_count": null,
      "metadata": {
        "colab": {
          "base_uri": "https://localhost:8080/"
        },
        "id": "iqFYbSPDJSuh",
        "outputId": "d4549472-3fef-4fbf-b682-22ee363a0fc9"
      },
      "outputs": [
        {
          "name": "stdout",
          "output_type": "stream",
          "text": [
            "Qx_chunks:\n",
            "b'\\xe1\\xeaJ\\x81\\tD\\xe6\\xb5\\xb1\\xf5\\x98\\xfa\\xe9\\x98F)\\xc6\\xcb\\xcb\\x9c\\x04q\\xf3\\x9cu(\\t\\xb4N\\xd6\\xce\\x11'\n",
            "Processing chunk: 102184347352432016820033851144057611798380677393006808006149235955473719938577\n",
            "Scalar multiplication result: (55066263022277343669578718895168534326250603453777594175500187360389116729240, 32670510020758816978083085130507043184471273380659243275938904335757337482424)\n",
            "Valid scalars:\n",
            "[102184347352432016820033851144057611798380677393006808006149235955473719938577]\n"
          ]
        }
      ],
      "source": [
        "import struct\n",
        "\n",
        "# Define the generator base point and the 255-bit integer\n",
        "Gx = 55066263022277343669578718895168534326250603453777594175500187360389116729240\n",
        "Gy = 32670510020758816978083085130507043184471273380659243275938904335757337482424\n",
        "Qx = 102184347352432016820033851144057611798380677393006808006149235955473719938577\n",
        "Qy = 59133195063798511001762835616747095376330916791910217089881680396376786483431\n",
        "\n",
        "# Convert the 255-bit integer into a byte string\n",
        "Qx_bytes = Qx.to_bytes((Qx.bit_length() + 7) // 8, byteorder='big')\n",
        "\n",
        "# Split the byte string into smaller chunks of 32 bytes (256 bits) each\n",
        "Qx_chunks = [Qx_bytes[i:i+32] for i in range(0, len(Qx_bytes), 32)]\n",
        "\n",
        "# Debug: Print byte chunks\n",
        "print(\"Qx_chunks:\")\n",
        "for chunk in Qx_chunks:\n",
        "    print(chunk)\n",
        "\n",
        "# Placeholder function for scalar multiplication (for demonstration only)\n",
        "def scalar_multiply(base_x, base_y, scalar):\n",
        "    # This function should perform elliptic curve scalar multiplication\n",
        "    # For demonstration purposes, we just return the base point\n",
        "    return (base_x, base_y)\n",
        "\n",
        "# Convert each chunk back into an integer and process\n",
        "valid_scalars = []\n",
        "for chunk in Qx_chunks:\n",
        "    Qx_chunk = int.from_bytes(chunk, byteorder='big')\n",
        "    print(f\"Processing chunk: {Qx_chunk}\")\n",
        "\n",
        "    # Perform scalar multiplication (replace with actual ECC multiplication code)\n",
        "    scalar_Gx, scalar_Gy = scalar_multiply(Gx, Gy, Qx_chunk)\n",
        "\n",
        "    # Debug: Print results of scalar multiplication\n",
        "    print(f\"Scalar multiplication result: ({scalar_Gx}, {scalar_Gy})\")\n",
        "\n",
        "    # Example condition to check if the result is \"valid\" (adjust as needed)\n",
        "    if scalar_Gx <= Qx and scalar_Gy <= Qy:\n",
        "        valid_scalars.append(Qx_chunk)\n",
        "\n",
        "# Print the list of valid scalars\n",
        "print(\"Valid scalars:\")\n",
        "print(valid_scalars)\n"
      ]
    },
    {
      "cell_type": "code",
      "execution_count": null,
      "metadata": {
        "colab": {
          "base_uri": "https://localhost:8080/"
        },
        "id": "bX9EAM6NMuQJ",
        "outputId": "bbc14ce5-ea4e-4887-ea85-14e6e3d4e179"
      },
      "outputs": [
        {
          "name": "stdout",
          "output_type": "stream",
          "text": [
            "Collecting bitarray\n",
            "  Downloading bitarray-2.9.2-cp310-cp310-manylinux_2_17_x86_64.manylinux2014_x86_64.whl (288 kB)\n",
            "\u001b[?25l     \u001b[90m━━━━━━━━━━━━━━━━━━━━━━━━━━━━━━━━━━━━━━━━\u001b[0m \u001b[32m0.0/288.3 kB\u001b[0m \u001b[31m?\u001b[0m eta \u001b[36m-:--:--\u001b[0m\r\u001b[2K     \u001b[91m━━━━━━━━━━━━━━━━━\u001b[0m\u001b[90m╺\u001b[0m\u001b[90m━━━━━━━━━━━━━━━━━━━━━━\u001b[0m \u001b[32m122.9/288.3 kB\u001b[0m \u001b[31m3.5 MB/s\u001b[0m eta \u001b[36m0:00:01\u001b[0m\r\u001b[2K     \u001b[90m━━━━━━━━━━━━━━━━━━━━━━━━━━━━━━━━━━━━━━━━\u001b[0m \u001b[32m288.3/288.3 kB\u001b[0m \u001b[31m4.7 MB/s\u001b[0m eta \u001b[36m0:00:00\u001b[0m\n",
            "\u001b[?25hInstalling collected packages: bitarray\n",
            "Successfully installed bitarray-2.9.2\n"
          ]
        }
      ],
      "source": [
        "!pip install bitarray"
      ]
    },
    {
      "cell_type": "code",
      "execution_count": null,
      "metadata": {
        "colab": {
          "base_uri": "https://localhost:8080/"
        },
        "id": "ZI1EcML5OG3m",
        "outputId": "1265911c-d877-4f76-c5fd-46666e1b7a0d"
      },
      "outputs": [
        {
          "name": "stdout",
          "output_type": "stream",
          "text": [
            "Cloning into 'keysubtracter'...\n",
            "remote: Enumerating objects: 40, done.\u001b[K\n",
            "remote: Counting objects: 100% (40/40), done.\u001b[K\n",
            "remote: Compressing objects: 100% (35/35), done.\u001b[K\n",
            "remote: Total 40 (delta 11), reused 24 (delta 5), pack-reused 0\u001b[K\n",
            "Receiving objects: 100% (40/40), 22.58 KiB | 2.51 MiB/s, done.\n",
            "Resolving deltas: 100% (11/11), done.\n"
          ]
        }
      ],
      "source": [
        "!git clone https://github.com/albertobsd/keysubtracter.git"
      ]
    },
    {
      "cell_type": "code",
      "execution_count": null,
      "metadata": {
        "colab": {
          "base_uri": "https://localhost:8080/"
        },
        "id": "vcFHlPJ-OJyn",
        "outputId": "d3af068e-ebb4-47f3-ced9-ef5231b056f3"
      },
      "outputs": [
        {
          "name": "stdout",
          "output_type": "stream",
          "text": [
            "/content/keysubtracter\n"
          ]
        }
      ],
      "source": [
        "%cd /content/keysubtracter"
      ]
    },
    {
      "cell_type": "code",
      "execution_count": null,
      "metadata": {
        "colab": {
          "base_uri": "https://localhost:8080/"
        },
        "id": "HslAXHgyPF8n",
        "outputId": "2c3541dc-084a-4382-8fdd-3cdae77abb65"
      },
      "outputs": [
        {
          "name": "stdout",
          "output_type": "stream",
          "text": [
            "Reading package lists... Done\n",
            "Building dependency tree... Done\n",
            "Reading state information... Done\n",
            "The following additional packages will be installed:\n",
            "  libgmpxx4ldbl\n",
            "Suggested packages:\n",
            "  gmp-doc libgmp10-doc libmpfr-dev\n",
            "The following NEW packages will be installed:\n",
            "  libgmp-dev libgmpxx4ldbl\n",
            "0 upgraded, 2 newly installed, 0 to remove and 45 not upgraded.\n",
            "Need to get 346 kB of archives.\n",
            "After this operation, 1,702 kB of additional disk space will be used.\n",
            "Get:1 http://archive.ubuntu.com/ubuntu jammy/main amd64 libgmpxx4ldbl amd64 2:6.2.1+dfsg-3ubuntu1 [9,580 B]\n",
            "Get:2 http://archive.ubuntu.com/ubuntu jammy/main amd64 libgmp-dev amd64 2:6.2.1+dfsg-3ubuntu1 [337 kB]\n",
            "Fetched 346 kB in 1s (501 kB/s)\n",
            "Selecting previously unselected package libgmpxx4ldbl:amd64.\n",
            "(Reading database ... 123589 files and directories currently installed.)\n",
            "Preparing to unpack .../libgmpxx4ldbl_2%3a6.2.1+dfsg-3ubuntu1_amd64.deb ...\n",
            "Unpacking libgmpxx4ldbl:amd64 (2:6.2.1+dfsg-3ubuntu1) ...\n",
            "Selecting previously unselected package libgmp-dev:amd64.\n",
            "Preparing to unpack .../libgmp-dev_2%3a6.2.1+dfsg-3ubuntu1_amd64.deb ...\n",
            "Unpacking libgmp-dev:amd64 (2:6.2.1+dfsg-3ubuntu1) ...\n",
            "Setting up libgmpxx4ldbl:amd64 (2:6.2.1+dfsg-3ubuntu1) ...\n",
            "Setting up libgmp-dev:amd64 (2:6.2.1+dfsg-3ubuntu1) ...\n",
            "Processing triggers for libc-bin (2.35-0ubuntu3.4) ...\n",
            "/sbin/ldconfig.real: /usr/local/lib/libtbbbind.so.3 is not a symbolic link\n",
            "\n",
            "/sbin/ldconfig.real: /usr/local/lib/libtbbbind_2_5.so.3 is not a symbolic link\n",
            "\n",
            "/sbin/ldconfig.real: /usr/local/lib/libtbbbind_2_0.so.3 is not a symbolic link\n",
            "\n",
            "/sbin/ldconfig.real: /usr/local/lib/libtbbmalloc_proxy.so.2 is not a symbolic link\n",
            "\n",
            "/sbin/ldconfig.real: /usr/local/lib/libtbbmalloc.so.2 is not a symbolic link\n",
            "\n",
            "/sbin/ldconfig.real: /usr/local/lib/libtbb.so.12 is not a symbolic link\n",
            "\n"
          ]
        }
      ],
      "source": [
        "!apt-get install libgmp-dev"
      ]
    },
    {
      "cell_type": "code",
      "execution_count": null,
      "metadata": {
        "colab": {
          "base_uri": "https://localhost:8080/"
        },
        "id": "TsJNUr8BOr1f",
        "outputId": "677e74d5-ab76-4327-d032-70c503bb64d1"
      },
      "outputs": [
        {
          "name": "stdout",
          "output_type": "stream",
          "text": [
            "gcc -O3 -c sha256/sha256.c -o sha256.o\n",
            "gcc -O3 -c base58/base58.c -o base58.o\n",
            "gcc -O3 -c rmd160/rmd160.c -o rmd160.o\n",
            "gcc -O3 -c gmpecc.c -o gmpecc.o\n",
            "gcc -O3 -c util.c -o util.o\n",
            "gcc -o keysubtracter keysubtracter.c gmpecc.o util.o sha256.o base58.o rmd160.o -lgmp\n"
          ]
        }
      ],
      "source": [
        "!make"
      ]
    },
    {
      "cell_type": "code",
      "execution_count": null,
      "metadata": {
        "colab": {
          "base_uri": "https://localhost:8080/"
        },
        "id": "h2KQSsCmPNLM",
        "outputId": "921145bb-69af-4002-a3c5-c4a4e874740c"
      },
      "outputs": [
        {
          "name": "stdout",
          "output_type": "stream",
          "text": [
            "./keysubtracter: invalid option -- 's'\n",
            "./keysubtracter: invalid option -- '-'\n",
            "./keysubtracter: invalid option -- '-'\n",
            "./keysubtracter: invalid option -- '-'\n",
            "./keysubtracter: invalid option -- '-'\n",
            "./keysubtracter: invalid option -- '-'\n",
            "./keysubtracter: invalid option -- '-'\n",
            "Version: 0.1.20210918\n",
            "[E] there are some missing parameter\n",
            "\n",
            "Usage:\n",
            "-h\t\tshow this help\n",
            "-b bits\t\tFor some puzzles you only need a bit range\n",
            "-f format\tOutput format <publickey, rmd160, address>. Default: publickey\n",
            "-l look\t\tOutput <compress, uncompress>. Default: compress\n",
            "-n number\tNumber of publikeys to be geneted, this numbe will be even\n",
            "-o file\t\tOutput file, if you omit this option the out will go to the standar output\n",
            "-p key\t\tPublickey to be substracted compress or uncompress\n",
            "-r A:B\t\trange A to B\n",
            "-R\t\tSet the publickey substraction Random instead of secuential\n",
            "-x\t\tExclude comment\n",
            "\n",
            "Developed by albertobsd\n",
            "\n"
          ]
        }
      ],
      "source": [
        "!./keysubtracter -s -------  0:fffffffffffffffffffffffff -o puzzle255.txt"
      ]
    },
    {
      "cell_type": "code",
      "execution_count": null,
      "metadata": {
        "colab": {
          "base_uri": "https://localhost:8080/"
        },
        "id": "BfQNIPj49X0z",
        "outputId": "812e83e7-a40f-4f9f-c9d8-4be05a83191d"
      },
      "outputs": [
        {
          "name": "stdout",
          "output_type": "stream",
          "text": [
            "Reading package lists... Done\n",
            "Building dependency tree... Done\n",
            "Reading state information... Done\n",
            "The following additional packages will be installed:\n",
            "  libgmpxx4ldbl\n",
            "Suggested packages:\n",
            "  gmp-doc libgmp10-doc libmpfr-dev\n",
            "The following NEW packages will be installed:\n",
            "  libgmp-dev libgmpxx4ldbl\n",
            "0 upgraded, 2 newly installed, 0 to remove and 45 not upgraded.\n",
            "Need to get 346 kB of archives.\n",
            "After this operation, 1,702 kB of additional disk space will be used.\n",
            "Get:1 http://archive.ubuntu.com/ubuntu jammy/main amd64 libgmpxx4ldbl amd64 2:6.2.1+dfsg-3ubuntu1 [9,580 B]\n",
            "Get:2 http://archive.ubuntu.com/ubuntu jammy/main amd64 libgmp-dev amd64 2:6.2.1+dfsg-3ubuntu1 [337 kB]\n",
            "Fetched 346 kB in 1s (498 kB/s)\n",
            "Selecting previously unselected package libgmpxx4ldbl:amd64.\n",
            "(Reading database ... 123589 files and directories currently installed.)\n",
            "Preparing to unpack .../libgmpxx4ldbl_2%3a6.2.1+dfsg-3ubuntu1_amd64.deb ...\n",
            "Unpacking libgmpxx4ldbl:amd64 (2:6.2.1+dfsg-3ubuntu1) ...\n",
            "Selecting previously unselected package libgmp-dev:amd64.\n",
            "Preparing to unpack .../libgmp-dev_2%3a6.2.1+dfsg-3ubuntu1_amd64.deb ...\n",
            "Unpacking libgmp-dev:amd64 (2:6.2.1+dfsg-3ubuntu1) ...\n",
            "Setting up libgmpxx4ldbl:amd64 (2:6.2.1+dfsg-3ubuntu1) ...\n",
            "Setting up libgmp-dev:amd64 (2:6.2.1+dfsg-3ubuntu1) ...\n",
            "Processing triggers for libc-bin (2.35-0ubuntu3.4) ...\n",
            "/sbin/ldconfig.real: /usr/local/lib/libtbbbind.so.3 is not a symbolic link\n",
            "\n",
            "/sbin/ldconfig.real: /usr/local/lib/libtbbbind_2_5.so.3 is not a symbolic link\n",
            "\n",
            "/sbin/ldconfig.real: /usr/local/lib/libtbbmalloc_proxy.so.2 is not a symbolic link\n",
            "\n",
            "/sbin/ldconfig.real: /usr/local/lib/libtbbbind_2_0.so.3 is not a symbolic link\n",
            "\n",
            "/sbin/ldconfig.real: /usr/local/lib/libtbbmalloc.so.2 is not a symbolic link\n",
            "\n",
            "/sbin/ldconfig.real: /usr/local/lib/libtbb.so.12 is not a symbolic link\n",
            "\n"
          ]
        }
      ],
      "source": [
        "!apt-get install libgmp-dev"
      ]
    },
    {
      "cell_type": "code",
      "execution_count": null,
      "metadata": {
        "id": "ZphqS2Xo84Tw"
      },
      "outputs": [],
      "source": [
        "!g++ -o kangaroo kangaroo.cpp -m64 -march=native -mtune=native -mssse3 -Wall -Wextra -ftree-vectorize -flto -O3 -funroll-loops -ffast-math -fopenmp -lgmp -lgmpxx"
      ]
    },
    {
      "cell_type": "code",
      "execution_count": null,
      "metadata": {
        "colab": {
          "background_save": true,
          "base_uri": "https://localhost:8080/"
        },
        "id": "Yt3215su9i0W",
        "outputId": "bbc8fd0e-97cf-4caa-9e88-49979ed2cbef"
      },
      "outputs": [
        {
          "name": "stdout",
          "output_type": "stream",
          "text": [
            "\u001b[01;33m[+]\u001b[32m KANGAROO: \u001b[01;33mTue Jul 23 14:34:27 2024\n",
            "[+] [Puzzle]: 115\n",
            "[+] [Lower range limit]: 20769187434139310514121985316880384\n",
            "[+] [Upper range limit]: 41538374868278621028243970633760767\n",
            "[+] [EC Point Coordinate X]: 11742512421962323079070871739908959937316844737278800887522263413580122287024\n",
            "[+] [EC Point Coordinate Y]: 61365848898202840818559536430717690039514990543664843712537069311096046238297\n",
            "[+] [Expected Hops: 2^58.00 (288230376151711744)]\n",
            "[+] [Hops: 2^30.27 <-> 272542 h/s] [01:26:02]"
          ]
        }
      ],
      "source": [
        "!./kangaroo"
      ]
    },
    {
      "cell_type": "code",
      "execution_count": null,
      "metadata": {
        "id": "v8owtTo-RlcH"
      },
      "outputs": [],
      "source": [
        "with open('/content/databin.txt', 'r') as file:\n",
        "    for line in file:\n",
        "        if line.startswith('double and add'):\n",
        "            print(1)\n",
        "        elif line.startswith('double'):\n",
        "            print(0)"
      ]
    },
    {
      "cell_type": "code",
      "execution_count": null,
      "metadata": {
        "colab": {
          "base_uri": "https://localhost:8080/"
        },
        "id": "AjGI95ZuSStz",
        "outputId": "f4ae8889-01b9-4adc-c0ad-41c2ee27759a"
      },
      "outputs": [
        {
          "name": "stdout",
          "output_type": "stream",
          "text": [
            "10100101101111101101111110000011000110111100111010110100001000010001010111100000110010101111000010111100110010001101001001111110100110\n"
          ]
        }
      ],
      "source": [
        "results = []\n",
        "\n",
        "with open('/content/databin.txt', 'r') as file:\n",
        "    for line in file:\n",
        "        if line.startswith('double and add'):\n",
        "            results.append('1')\n",
        "        elif line.startswith('double'):\n",
        "            results.append('0')\n",
        "\n",
        "print(''.join(results))"
      ]
    },
    {
      "cell_type": "code",
      "execution_count": null,
      "metadata": {
        "colab": {
          "base_uri": "https://localhost:8080/"
        },
        "id": "8qwx9K6qdu7F",
        "outputId": "34d9ef61-0328-4570-e58b-6bff3331577c"
      },
      "outputs": [
        {
          "name": "stdout",
          "output_type": "stream",
          "text": [
            "Collecting ecdsa\n",
            "  Downloading ecdsa-0.19.0-py2.py3-none-any.whl (149 kB)\n",
            "\u001b[2K     \u001b[90m━━━━━━━━━━━━━━━━━━━━━━━━━━━━━━━━━━━━━━━━\u001b[0m \u001b[32m149.3/149.3 kB\u001b[0m \u001b[31m1.6 MB/s\u001b[0m eta \u001b[36m0:00:00\u001b[0m\n",
            "\u001b[?25hRequirement already satisfied: six>=1.9.0 in /usr/local/lib/python3.10/dist-packages (from ecdsa) (1.16.0)\n",
            "Installing collected packages: ecdsa\n",
            "Successfully installed ecdsa-0.19.0\n"
          ]
        }
      ],
      "source": [
        "!pip install ecdsa"
      ]
    },
    {
      "cell_type": "code",
      "execution_count": null,
      "metadata": {
        "id": "UbCRSO6Bbhed"
      },
      "outputs": [],
      "source": [
        "from ecdsa import curves, numbertheory\n",
        "\n",
        "# Define the secp256k1 curve parameters\n",
        "secp256k1 = curves.SECP256k1\n",
        "curve = secp256k1.curve\n",
        "G = secp256k1.generator\n",
        "\n",
        "# Target coordinates\n",
        "target_x = 102184347352432016820033851144057611798380677393006808006149235955473719938577\n",
        "target_y = 59133195063798511001762835616747095376330916791910217089881680396376786483431\n",
        "target_point = (target_x, target_y)\n",
        "\n",
        "# Scalar range\n",
        "k_min = 95380476409989927518265284211742463771152233949972759817921272362450000000000\n",
        "k_max = 95380476409989927518265284211742463771152233949972759817921272362459999999999\n",
        "\n",
        "# Check if the target point can be obtained by scalar multiplication of G within the given range\n",
        "def find_scalar(G, target_point, k_min, k_max):\n",
        "    for k in range(k_min, k_max + 1):\n",
        "        Q = G * k\n",
        "        if (Q.x(), Q.y()) == target_point:\n",
        "            return k\n",
        "    return None\n",
        "\n",
        "k = find_scalar(G, target_point, k_min, k_max)\n",
        "\n",
        "if k is not None:\n",
        "    print(f\"The target point can be obtained by scalar multiplication of G with k = {k}.\")\n",
        "else:\n",
        "    print(\"The target point cannot be obtained by scalar multiplication of G within the given range.\")"
      ]
    },
    {
      "cell_type": "code",
      "execution_count": null,
      "metadata": {
        "colab": {
          "base_uri": "https://localhost:8080/"
        },
        "id": "KOy9ZOcckK0m",
        "outputId": "5054b5b5-f7f4-4be9-8906-5cb8c8929907"
      },
      "outputs": [
        {
          "name": "stdout",
          "output_type": "stream",
          "text": [
            "Collecting ecdsa\n",
            "  Downloading ecdsa-0.19.0-py2.py3-none-any.whl (149 kB)\n",
            "\u001b[?25l     \u001b[90m━━━━━━━━━━━━━━━━━━━━━━━━━━━━━━━━━━━━━━━━\u001b[0m \u001b[32m0.0/149.3 kB\u001b[0m \u001b[31m?\u001b[0m eta \u001b[36m-:--:--\u001b[0m\r\u001b[2K     \u001b[90m━━━━━━━━━━━━━━━━━━━━━━━━━━━━━━━━━━━━━━━━\u001b[0m \u001b[32m149.3/149.3 kB\u001b[0m \u001b[31m4.9 MB/s\u001b[0m eta \u001b[36m0:00:00\u001b[0m\n",
            "\u001b[?25hRequirement already satisfied: six>=1.9.0 in /usr/local/lib/python3.10/dist-packages (from ecdsa) (1.16.0)\n",
            "Installing collected packages: ecdsa\n",
            "Successfully installed ecdsa-0.19.0\n"
          ]
        }
      ],
      "source": [
        "!pip install ecdsa"
      ]
    },
    {
      "cell_type": "code",
      "execution_count": null,
      "metadata": {
        "id": "Vuk9ol4gj7bt"
      },
      "outputs": [],
      "source": [
        "import numpy as np\n",
        "\n",
        "# Define the large integer to factor\n",
        "n = 2**256 + 1  # SECP256k1 curve order\n",
        "\n",
        "# Initialize the GNFS parameters\n",
        "b1 = 2**10  # base-2 logarithm of n (reduced)\n",
        "b2 = 2**20  # base-2 logarithm of n^0.5 (reduced)\n",
        "B1 = 2**20  # B1 parameter\n",
        "\n",
        "# *** ADJUST THIS PARAMETER ***\n",
        "# Reduce the number of tables to a manageable size\n",
        "num_tables = 2\n",
        "\n",
        "# Initialize the GNFS tables (reduced size)\n",
        "print(f\"Initializing {num_tables} tables with dimensions ({b1}, {b2})\")\n",
        "tables = [np.zeros((b1, b2), dtype=int) for _ in range(num_tables)]\n",
        "\n",
        "# Compute the GNFS relations (adjust loop range accordingly)\n",
        "print(\"Computing GNFS relations...\")\n",
        "for i in range(num_tables):\n",
        "    print(f\"Processing table {i+1}/{num_tables}\")\n",
        "    for j in range(b1):\n",
        "        for k in range(b2):\n",
        "            x = (j * B1 + k) % n\n",
        "            y = np.mod(x, n)\n",
        "            tables[i][j, k] = y\n",
        "\n",
        "# Find the smallest prime factor using GNFS (adjust loop range)\n",
        "print(\"Finding the smallest prime factor...\")\n",
        "p = None\n",
        "for i in range(num_tables):\n",
        "    print(f\"Searching table {i+1}/{num_tables}\")\n",
        "    for j in range(b1):\n",
        "        for k in range(b2):\n",
        "            if tables[i][j, k] > 0:\n",
        "                p = tables[i][j, k]\n",
        "                print(f\"Found potential prime factor: {p}\")\n",
        "                break\n",
        "        if p is not None:\n",
        "            break\n",
        "    if p is not None:\n",
        "        break\n",
        "\n",
        "if p is not None:\n",
        "    print(f\"Smallest prime factor found: {p}\")\n",
        "else:\n",
        "    print(\"No prime factor found within the given range.\")"
      ]
    },
    {
      "cell_type": "code",
      "execution_count": null,
      "metadata": {
        "id": "jHrI4ZdYpDKn"
      },
      "outputs": [],
      "source": [
        "import hashlib\n",
        "from ecdsa import SECP256k1, ellipticcurve\n",
        "\n",
        "# Debug flag\n",
        "DEBUG = True\n",
        "\n",
        "def debug_print(message):\n",
        "    if DEBUG:\n",
        "        print(message)\n",
        "\n",
        "# Define the elliptic curve and the base point\n",
        "curve = SECP256k1.curve\n",
        "G = SECP256k1.generator\n",
        "\n",
        "debug_print(f\"Curve: {curve}\")\n",
        "debug_print(f\"Base Point (G): ({G.x()}, {G.y()})\")\n",
        "\n",
        "# Define the target point as an elliptic curve point\n",
        "target_point = ellipticcurve.Point(curve,\n",
        "    102184347352432016820033851144057611798380677393006808006149235955473719938577,\n",
        "    59133195063798511001762835616747095376330916791910217089881680396376786483431)\n",
        "\n",
        "debug_print(f\"Target Point: ({target_point.x()}, {target_point.y()})\")\n",
        "\n",
        "# Precompute a set of index-calculus pairs\n",
        "index_calculus_pairs = []\n",
        "order = SECP256k1.order\n",
        "for i in range(2**30):  # Adjust the range for performance\n",
        "    scalar = i % order\n",
        "    point = scalar * G\n",
        "    index_calculus_pairs.append((scalar, point))\n",
        "    if i % (2**18) == 0:  # Print debug info at intervals\n",
        "        debug_print(f\"Computed {i} pairs, current point: ({point.x()}, {point.y()})\")\n",
        "\n",
        "# Use the index-calculus pairs to find the discrete logarithm\n",
        "target_scalar = None\n",
        "for scalar, point in index_calculus_pairs:\n",
        "    if point == target_point:\n",
        "        target_scalar = scalar\n",
        "        debug_print(f\"Match found! Scalar: {scalar}\")\n",
        "        break\n",
        "\n",
        "if target_scalar is not None:\n",
        "    print(f\"Target scalar: {target_scalar}\")\n",
        "else:\n",
        "    print(\"Target scalar not found.\")\n"
      ]
    },
    {
      "cell_type": "code",
      "execution_count": null,
      "metadata": {
        "colab": {
          "background_save": true
        },
        "id": "P4_Zkv7j6No8"
      },
      "outputs": [],
      "source": [
        "import hashlib\n",
        "from ecdsa import SECP256k1, ellipticcurve\n",
        "\n",
        "# Debug flag\n",
        "DEBUG = True\n",
        "\n",
        "def debug_print(message):\n",
        "    if DEBUG:\n",
        "        print(message)\n",
        "\n",
        "# Define the elliptic curve and the base point\n",
        "curve = SECP256k1.curve\n",
        "G = SECP256k1.generator\n",
        "\n",
        "debug_print(f\"Curve: {curve}\")\n",
        "debug_print(f\"Base Point (G): ({G.x()}, {G.y()})\")\n",
        "\n",
        "# Define the target point as an elliptic curve point\n",
        "target_point = ellipticcurve.Point(curve,\n",
        "    11742512421962323079070871739908959937316844737278800887522263413580122287024,\n",
        "    61365848898202840818559536430717690039514990543664843712537069311096046238297)\n",
        "\n",
        "debug_print(f\"Target Point: ({target_point.x()}, {target_point.y()})\")\n",
        "\n",
        "order = SECP256k1.order\n",
        "target_scalar = None\n",
        "\n",
        "for i in range(2**60):  # Adjust the range for performance\n",
        "    scalar = i % order\n",
        "    point = scalar * G\n",
        "    if i % (2**18) == 0:  # Print debug info at intervals\n",
        "        debug_print(f\"Computed {i} pairs, current point: ({point.x()}, {point.y()})\")\n",
        "\n",
        "    # Check if the current point matches the target point\n",
        "    if point == target_point:\n",
        "        target_scalar = scalar\n",
        "        debug_print(f\"Match found! Scalar: {scalar}\")\n",
        "        break\n",
        "\n",
        "if target_scalar is not None:\n",
        "    print(f\"Target scalar: {target_scalar}\")\n",
        "else:\n",
        "    print(\"Target scalar not found.\")\n"
      ]
    },
    {
      "cell_type": "code",
      "source": [
        "!pip install ecdsa"
      ],
      "metadata": {
        "colab": {
          "base_uri": "https://localhost:8080/"
        },
        "id": "G1uaioQ8fBr8",
        "outputId": "89e11cdc-1c04-43da-fcc6-7255d8dd8751"
      },
      "execution_count": 5,
      "outputs": [
        {
          "output_type": "stream",
          "name": "stdout",
          "text": [
            "Collecting ecdsa\n",
            "  Downloading ecdsa-0.19.0-py2.py3-none-any.whl.metadata (29 kB)\n",
            "Requirement already satisfied: six>=1.9.0 in /usr/local/lib/python3.10/dist-packages (from ecdsa) (1.16.0)\n",
            "Downloading ecdsa-0.19.0-py2.py3-none-any.whl (149 kB)\n",
            "\u001b[?25l   \u001b[90m━━━━━━━━━━━━━━━━━━━━━━━━━━━━━━━━━━━━━━━━\u001b[0m \u001b[32m0.0/149.3 kB\u001b[0m \u001b[31m?\u001b[0m eta \u001b[36m-:--:--\u001b[0m\r\u001b[2K   \u001b[90m━━━━━━━━━━━━━━━━━━━━━━━━━━━━━━━━━━━━━━━━\u001b[0m \u001b[32m149.3/149.3 kB\u001b[0m \u001b[31m7.8 MB/s\u001b[0m eta \u001b[36m0:00:00\u001b[0m\n",
            "\u001b[?25hInstalling collected packages: ecdsa\n",
            "Successfully installed ecdsa-0.19.0\n"
          ]
        }
      ]
    },
    {
      "cell_type": "code",
      "source": [
        "from ecdsa import SECP256k1, ellipticcurve\n",
        "\n",
        "# Define the curve and generator point\n",
        "curve = SECP256k1.curve\n",
        "G = SECP256k1.generator\n",
        "\n",
        "# Define target coordinates (x, y)\n",
        "target_x = 11742512421962323079070871739908959937316844737278800887522263413580122287024\n",
        "target_y = 61365848898202840818559536430717690039514990543664843712537069311096046238297\n",
        "\n",
        "# Target point on the curve\n",
        "target_point = ellipticcurve.Point(curve, target_x, target_y)\n",
        "\n",
        "# Initialize parameters for search\n",
        "num_tables = 2**10\n",
        "table_size = 2**22  # For illustration; adjust as needed\n",
        "\n",
        "# Search for the target elliptic curve point\n",
        "print(\"Searching for specific elliptic curve points...\")\n",
        "found = False\n",
        "\n",
        "# The search is conducted over different tables, which can be thought of as different ranges or batches\n",
        "for i in range(num_tables):\n",
        "    print(f\"Processing table {i+1}/{num_tables}\")\n",
        "    # In each table, iterate through possible scalar values\n",
        "    for j in range(table_size):\n",
        "        k = i * table_size + j  # Scalar value being tested\n",
        "        point = k * G  # Scalar multiplication on the curve\n",
        "        if point.x() == target_x and point.y() == target_y:\n",
        "            print(f\"Found target coordinates in table {i+1}, entry {j}: k = {k}\")\n",
        "            found = True\n",
        "            break\n",
        "    if found:\n",
        "        break\n",
        "\n",
        "if found:\n",
        "    print(\"Specific elliptic curve point found.\")\n",
        "else:\n",
        "    print(\"Specific elliptic curve point not found within the given range.\")\n"
      ],
      "metadata": {
        "colab": {
          "base_uri": "https://localhost:8080/",
          "height": 408
        },
        "id": "AW_zECbdcCVY",
        "outputId": "3dd5f86a-e455-4264-bf4d-61fa80026281"
      },
      "execution_count": 10,
      "outputs": [
        {
          "metadata": {
            "tags": null
          },
          "name": "stdout",
          "output_type": "stream",
          "text": [
            "Searching for specific elliptic curve points...\n",
            "Processing table 1/1024\n",
            "Processing table 2/1024\n"
          ]
        },
        {
          "output_type": "error",
          "ename": "KeyboardInterrupt",
          "evalue": "",
          "traceback": [
            "\u001b[0;31m---------------------------------------------------------------------------\u001b[0m",
            "\u001b[0;31mKeyboardInterrupt\u001b[0m                         Traceback (most recent call last)",
            "\u001b[0;32m<ipython-input-10-578e7a20ab5c>\u001b[0m in \u001b[0;36m<cell line: 23>\u001b[0;34m()\u001b[0m\n\u001b[1;32m     26\u001b[0m     \u001b[0;32mfor\u001b[0m \u001b[0mj\u001b[0m \u001b[0;32min\u001b[0m \u001b[0mrange\u001b[0m\u001b[0;34m(\u001b[0m\u001b[0mtable_size\u001b[0m\u001b[0;34m)\u001b[0m\u001b[0;34m:\u001b[0m\u001b[0;34m\u001b[0m\u001b[0;34m\u001b[0m\u001b[0m\n\u001b[1;32m     27\u001b[0m         \u001b[0mk\u001b[0m \u001b[0;34m=\u001b[0m \u001b[0mi\u001b[0m \u001b[0;34m*\u001b[0m \u001b[0mtable_size\u001b[0m \u001b[0;34m+\u001b[0m \u001b[0mj\u001b[0m  \u001b[0;31m# Scalar value being tested\u001b[0m\u001b[0;34m\u001b[0m\u001b[0;34m\u001b[0m\u001b[0m\n\u001b[0;32m---> 28\u001b[0;31m         \u001b[0mpoint\u001b[0m \u001b[0;34m=\u001b[0m \u001b[0mk\u001b[0m \u001b[0;34m*\u001b[0m \u001b[0mG\u001b[0m  \u001b[0;31m# Scalar multiplication on the curve\u001b[0m\u001b[0;34m\u001b[0m\u001b[0;34m\u001b[0m\u001b[0m\n\u001b[0m\u001b[1;32m     29\u001b[0m         \u001b[0;32mif\u001b[0m \u001b[0mpoint\u001b[0m\u001b[0;34m.\u001b[0m\u001b[0mx\u001b[0m\u001b[0;34m(\u001b[0m\u001b[0;34m)\u001b[0m \u001b[0;34m==\u001b[0m \u001b[0mtarget_x\u001b[0m \u001b[0;32mand\u001b[0m \u001b[0mpoint\u001b[0m\u001b[0;34m.\u001b[0m\u001b[0my\u001b[0m\u001b[0;34m(\u001b[0m\u001b[0;34m)\u001b[0m \u001b[0;34m==\u001b[0m \u001b[0mtarget_y\u001b[0m\u001b[0;34m:\u001b[0m\u001b[0;34m\u001b[0m\u001b[0;34m\u001b[0m\u001b[0m\n\u001b[1;32m     30\u001b[0m             \u001b[0mprint\u001b[0m\u001b[0;34m(\u001b[0m\u001b[0;34mf\"Found target coordinates in table {i+1}, entry {j}: k = {k}\"\u001b[0m\u001b[0;34m)\u001b[0m\u001b[0;34m\u001b[0m\u001b[0;34m\u001b[0m\u001b[0m\n",
            "\u001b[0;32m/usr/local/lib/python3.10/dist-packages/ecdsa/ellipticcurve.py\u001b[0m in \u001b[0;36m__rmul__\u001b[0;34m(self, other)\u001b[0m\n\u001b[1;32m    924\u001b[0m     \u001b[0;32mdef\u001b[0m \u001b[0m__rmul__\u001b[0m\u001b[0;34m(\u001b[0m\u001b[0mself\u001b[0m\u001b[0;34m,\u001b[0m \u001b[0mother\u001b[0m\u001b[0;34m)\u001b[0m\u001b[0;34m:\u001b[0m\u001b[0;34m\u001b[0m\u001b[0;34m\u001b[0m\u001b[0m\n\u001b[1;32m    925\u001b[0m         \u001b[0;34m\"\"\"Multiply point by an integer.\"\"\"\u001b[0m\u001b[0;34m\u001b[0m\u001b[0;34m\u001b[0m\u001b[0m\n\u001b[0;32m--> 926\u001b[0;31m         \u001b[0;32mreturn\u001b[0m \u001b[0mself\u001b[0m \u001b[0;34m*\u001b[0m \u001b[0mother\u001b[0m\u001b[0;34m\u001b[0m\u001b[0;34m\u001b[0m\u001b[0m\n\u001b[0m\u001b[1;32m    927\u001b[0m \u001b[0;34m\u001b[0m\u001b[0m\n\u001b[1;32m    928\u001b[0m     \u001b[0;32mdef\u001b[0m \u001b[0m_mul_precompute\u001b[0m\u001b[0;34m(\u001b[0m\u001b[0mself\u001b[0m\u001b[0;34m,\u001b[0m \u001b[0mother\u001b[0m\u001b[0;34m)\u001b[0m\u001b[0;34m:\u001b[0m\u001b[0;34m\u001b[0m\u001b[0;34m\u001b[0m\u001b[0m\n",
            "\u001b[0;32m/usr/local/lib/python3.10/dist-packages/ecdsa/ellipticcurve.py\u001b[0m in \u001b[0;36m__mul__\u001b[0;34m(self, other)\u001b[0m\n\u001b[1;32m    956\u001b[0m         \u001b[0mself\u001b[0m\u001b[0;34m.\u001b[0m\u001b[0m_maybe_precompute\u001b[0m\u001b[0;34m(\u001b[0m\u001b[0;34m)\u001b[0m\u001b[0;34m\u001b[0m\u001b[0;34m\u001b[0m\u001b[0m\n\u001b[1;32m    957\u001b[0m         \u001b[0;32mif\u001b[0m \u001b[0mself\u001b[0m\u001b[0;34m.\u001b[0m\u001b[0m__precompute\u001b[0m\u001b[0;34m:\u001b[0m\u001b[0;34m\u001b[0m\u001b[0;34m\u001b[0m\u001b[0m\n\u001b[0;32m--> 958\u001b[0;31m             \u001b[0;32mreturn\u001b[0m \u001b[0mself\u001b[0m\u001b[0;34m.\u001b[0m\u001b[0m_mul_precompute\u001b[0m\u001b[0;34m(\u001b[0m\u001b[0mother\u001b[0m\u001b[0;34m)\u001b[0m\u001b[0;34m\u001b[0m\u001b[0;34m\u001b[0m\u001b[0m\n\u001b[0m\u001b[1;32m    959\u001b[0m \u001b[0;34m\u001b[0m\u001b[0m\n\u001b[1;32m    960\u001b[0m         \u001b[0mself\u001b[0m \u001b[0;34m=\u001b[0m \u001b[0mself\u001b[0m\u001b[0;34m.\u001b[0m\u001b[0mscale\u001b[0m\u001b[0;34m(\u001b[0m\u001b[0;34m)\u001b[0m\u001b[0;34m\u001b[0m\u001b[0;34m\u001b[0m\u001b[0m\n",
            "\u001b[0;32m/usr/local/lib/python3.10/dist-packages/ecdsa/ellipticcurve.py\u001b[0m in \u001b[0;36m_mul_precompute\u001b[0;34m(self, other)\u001b[0m\n\u001b[1;32m    937\u001b[0m                 \u001b[0;32melse\u001b[0m\u001b[0;34m:\u001b[0m\u001b[0;34m\u001b[0m\u001b[0;34m\u001b[0m\u001b[0m\n\u001b[1;32m    938\u001b[0m                     \u001b[0mother\u001b[0m \u001b[0;34m=\u001b[0m \u001b[0;34m(\u001b[0m\u001b[0mother\u001b[0m \u001b[0;34m-\u001b[0m \u001b[0;36m1\u001b[0m\u001b[0;34m)\u001b[0m \u001b[0;34m//\u001b[0m \u001b[0;36m2\u001b[0m\u001b[0;34m\u001b[0m\u001b[0;34m\u001b[0m\u001b[0m\n\u001b[0;32m--> 939\u001b[0;31m                     \u001b[0mX3\u001b[0m\u001b[0;34m,\u001b[0m \u001b[0mY3\u001b[0m\u001b[0;34m,\u001b[0m \u001b[0mZ3\u001b[0m \u001b[0;34m=\u001b[0m \u001b[0m_add\u001b[0m\u001b[0;34m(\u001b[0m\u001b[0mX3\u001b[0m\u001b[0;34m,\u001b[0m \u001b[0mY3\u001b[0m\u001b[0;34m,\u001b[0m \u001b[0mZ3\u001b[0m\u001b[0;34m,\u001b[0m \u001b[0mX2\u001b[0m\u001b[0;34m,\u001b[0m \u001b[0mY2\u001b[0m\u001b[0;34m,\u001b[0m \u001b[0;36m1\u001b[0m\u001b[0;34m,\u001b[0m \u001b[0mp\u001b[0m\u001b[0;34m)\u001b[0m\u001b[0;34m\u001b[0m\u001b[0;34m\u001b[0m\u001b[0m\n\u001b[0m\u001b[1;32m    940\u001b[0m             \u001b[0;32melse\u001b[0m\u001b[0;34m:\u001b[0m\u001b[0;34m\u001b[0m\u001b[0;34m\u001b[0m\u001b[0m\n\u001b[1;32m    941\u001b[0m                 \u001b[0mother\u001b[0m \u001b[0;34m//=\u001b[0m \u001b[0;36m2\u001b[0m\u001b[0;34m\u001b[0m\u001b[0;34m\u001b[0m\u001b[0m\n",
            "\u001b[0;31mKeyboardInterrupt\u001b[0m: "
          ]
        }
      ]
    },
    {
      "cell_type": "code",
      "source": [
        "!pip install pycryptodome"
      ],
      "metadata": {
        "colab": {
          "base_uri": "https://localhost:8080/"
        },
        "id": "FJG5pYsDnupP",
        "outputId": "28272a27-22fe-4d8f-fbf6-e81363c7cec0"
      },
      "execution_count": 15,
      "outputs": [
        {
          "output_type": "stream",
          "name": "stdout",
          "text": [
            "Collecting pycryptodome\n",
            "  Downloading pycryptodome-3.20.0-cp35-abi3-manylinux_2_17_x86_64.manylinux2014_x86_64.whl.metadata (3.4 kB)\n",
            "Downloading pycryptodome-3.20.0-cp35-abi3-manylinux_2_17_x86_64.manylinux2014_x86_64.whl (2.1 MB)\n",
            "\u001b[2K   \u001b[90m━━━━━━━━━━━━━━━━━━━━━━━━━━━━━━━━━━━━━━━━\u001b[0m \u001b[32m2.1/2.1 MB\u001b[0m \u001b[31m31.5 MB/s\u001b[0m eta \u001b[36m0:00:00\u001b[0m\n",
            "\u001b[?25hInstalling collected packages: pycryptodome\n",
            "Successfully installed pycryptodome-3.20.0\n"
          ]
        }
      ]
    },
    {
      "cell_type": "code",
      "source": [
        "import collections\n",
        "import random\n",
        "import hashlib\n",
        "import time\n",
        "from Crypto.Hash import RIPEMD160\n",
        "from Crypto.Hash import SHA256\n",
        "\n",
        "# Use standard secp256k1 parameters\n",
        "EllipticCurve = collections.namedtuple('EllipticCurve', 'name p a b g n h')\n",
        "curve = EllipticCurve(\n",
        "    'secp256k1',\n",
        "    # Field characteristic\n",
        "    p=0xFFFFFFFFFFFFFFFFFFFFFFFFFFFFFFFFFFFFFFFFFFFFFFFFFFFFFFFEFFFFFC2F,\n",
        "    # Curve coefficients\n",
        "    a=0,\n",
        "    b=7,\n",
        "    # Base point\n",
        "    g=(0x79BE667EF9DCBBAC55A06295CE870B07029BFCDB2DCE28D959F2815B16F81798,\n",
        "       0x483ADA7726A3C4655DA4FBFC0E1108A8FD17B448A68554199C47D08FFB10D4B8),\n",
        "    # Subgroup order\n",
        "    n=0x000000000000000000000000000000000000000000000000000000000000ffff,\n",
        "    # Subgroup cofactor\n",
        "    h=1,\n",
        ")\n",
        "\n",
        "# Modular arithmetic\n",
        "def mod_inv(k, p):\n",
        "    return pow(k, p - 2, p)\n",
        "\n",
        "def is_on_curve(point):\n",
        "    if point is None:\n",
        "        return True\n",
        "    x, y = point\n",
        "    return (y * y - x * x * x - curve.a * x - curve.b) % curve.p == 0\n",
        "\n",
        "def point_add(point1, point2):\n",
        "    if point1 is None:\n",
        "        return point2\n",
        "    if point2 is None:\n",
        "        return point1\n",
        "    x1, y1 = point1\n",
        "    x2, y2 = point2\n",
        "    if x1 == x2 and y1 != y2:\n",
        "        return None\n",
        "    if x1 == x2:\n",
        "        m = (3 * x1 * x1 + curve.a) * mod_inv(2 * y1, curve.p)\n",
        "    else:\n",
        "        m = (y1 - y2) * mod_inv(x1 - x2, curve.p)\n",
        "    x3 = m * m - x1 - x2\n",
        "    y3 = y1 + m * (x3 - x1)\n",
        "    return (x3 % curve.p, -y3 % curve.p)\n",
        "\n",
        "def scalar_mult(k, point):\n",
        "    if k % curve.n == 0 or point is None:\n",
        "        return None\n",
        "    if k < 0:\n",
        "        return scalar_mult(-k, (point[0], -point[1] % curve.p))\n",
        "    result = None\n",
        "    addend = point\n",
        "    while k:\n",
        "        if k & 1:\n",
        "            result = point_add(result, addend)\n",
        "        addend = point_add(addend, addend)\n",
        "        k >>= 1\n",
        "    return result\n",
        "\n",
        "def make_keypair():\n",
        "    private_key = random.randrange(1, curve.n)\n",
        "    public_key = scalar_mult(private_key, curve.g)\n",
        "    return private_key, public_key\n",
        "\n",
        "def compress_point(point):\n",
        "    return '02' + format(point[0], '064x') if point[1] % 2 == 0 else '03' + format(point[0], '064x')\n",
        "\n",
        "def hash160(public_key):\n",
        "    sha256 = SHA256.new()\n",
        "    sha256.update(bytes.fromhex(public_key))\n",
        "    ripemd160 = RIPEMD160.new()\n",
        "    ripemd160.update(sha256.digest())\n",
        "    return ripemd160.hexdigest()\n",
        "\n",
        "def main():\n",
        "    start_time = time.time()\n",
        "    target_suffix = \"7a\"\n",
        "    found_keys = 0\n",
        "    iterations = 0\n",
        "\n",
        "    while found_keys < 5:  # Find 5 matching keys\n",
        "        iterations += 1\n",
        "        private_key, public_key = make_keypair()\n",
        "        compressed_key = compress_point(public_key)\n",
        "        hashed_key = hash160(compressed_key)\n",
        "\n",
        "        if hashed_key.endswith(target_suffix):\n",
        "            found_keys += 1\n",
        "            print(f\"Found key {found_keys}:\")\n",
        "            print(f\"Private key: {hex(private_key)}\")\n",
        "            print(f\"Public key: {compressed_key}\")\n",
        "            print(f\"Hash160: {hashed_key}\")\n",
        "            print(f\"Iterations: {iterations}\")\n",
        "            print()\n",
        "\n",
        "    end_time = time.time()\n",
        "    print(f\"Total time: {end_time - start_time:.2f} seconds\")\n",
        "    print(f\"Total iterations: {iterations}\")\n",
        "    print(f\"Iterations per second: {iterations / (end_time - start_time):.2f}\")\n",
        "\n",
        "if __name__ == \"__main__\":\n",
        "    main()"
      ],
      "metadata": {
        "colab": {
          "base_uri": "https://localhost:8080/"
        },
        "id": "dNkLxngxj-yd",
        "outputId": "e092aa62-a1cb-45ea-d94a-64e896588c33"
      },
      "execution_count": 16,
      "outputs": [
        {
          "output_type": "stream",
          "name": "stdout",
          "text": [
            "Found key 1:\n",
            "Private key: 0xc43e\n",
            "Public key: 024e3f5db4cc83f4f0109c358e71c98d12cac259dd61ba6751ca29cf9462ced9cd\n",
            "Hash160: 271f08fc9705370ece51565599a6353ced9e657a\n",
            "Iterations: 104\n",
            "\n",
            "Found key 2:\n",
            "Private key: 0x405f\n",
            "Public key: 02e7836b19bb613fc477f7b900e4f92010dfc61a79eee2cf5983a45d7e58785c62\n",
            "Hash160: e3cdd22ade2fe029c84803591e4faa294bc1e47a\n",
            "Iterations: 446\n",
            "\n",
            "Found key 3:\n",
            "Private key: 0x5e3b\n",
            "Public key: 033469570d57e7dc8af114e082fcf7e17c796df5d0c2409cb56c55375c63c9a275\n",
            "Hash160: 8bf04d8d1a5395c140ca72bafd3bda8a2fc2947a\n",
            "Iterations: 496\n",
            "\n",
            "Found key 4:\n",
            "Private key: 0x1bea\n",
            "Public key: 0284e128f403fa8f8d76f28265e7bf958a39816618094474d8a4c44bb749c25b28\n",
            "Hash160: c85d0682aee7193470b8a394277d00a0b59e7c7a\n",
            "Iterations: 917\n",
            "\n",
            "Found key 5:\n",
            "Private key: 0x44bb\n",
            "Public key: 0348f06be66dbd6e8b82f9f84b56950eb321465fea5bd8ae1125d0680ce56be6a7\n",
            "Hash160: 9feb15ee860f2a6f7d78e63cf86d6cc8629a0b7a\n",
            "Iterations: 1175\n",
            "\n",
            "Total time: 5.43 seconds\n",
            "Total iterations: 1175\n",
            "Iterations per second: 216.29\n"
          ]
        }
      ]
    },
    {
      "cell_type": "code",
      "source": [
        "import collections\n",
        "import secrets\n",
        "import logging\n",
        "\n",
        "# Set up logging\n",
        "logging.basicConfig(level=logging.INFO)\n",
        "\n",
        "EllipticCurve = collections.namedtuple('EllipticCurve', 'name p a b g n h')\n",
        "\n",
        "# Define the elliptic curve parameters for secp256k1\n",
        "curve = EllipticCurve(\n",
        "    'secp256k1',\n",
        "    p=0xfffffffffffffffffffffffffffffffffffffffffffffffffffffffefffffc2f,\n",
        "    a=0,\n",
        "    b=7,\n",
        "    g=(0x79be667ef9dcbbac55a06295ce870b07029bfcdb2dce28d959f2815b16f81798, 0x483ada7726a3c4655da4fbfc0e1108a8fd17b448a68554199c47d08ffb10d4b8),\n",
        "    n=0xfffffffffffffffffffffffffffffffebaaedce6af48a03bbfd25e8cd0364141,\n",
        "    h=1,\n",
        ")\n",
        "\n",
        "def inverse_mod(k, p):\n",
        "    \"\"\"Returns the inverse of k mod p.\"\"\"\n",
        "    if k == 0:\n",
        "        raise ZeroDivisionError('division by zero')\n",
        "    if k < 0:\n",
        "        return p - inverse_mod(-k, p)\n",
        "    s, old_s = 0, 1\n",
        "    t, old_t = 1, 0\n",
        "    r, old_r = p, k\n",
        "    while r != 0:\n",
        "        quotient = old_r // r\n",
        "        old_r, r = r, old_r - quotient * r\n",
        "        old_s, s = s, old_s - quotient * s\n",
        "        old_t, t = t, old_t - quotient * t\n",
        "    gcd, x, y = old_r, old_s, old_t\n",
        "    assert gcd == 1\n",
        "    assert (k * x) % p == 1\n",
        "    return x % p\n",
        "\n",
        "def is_on_curve(point, curve):\n",
        "    \"\"\"Returns True if the given point lies on the elliptic curve.\"\"\"\n",
        "    if point is None:\n",
        "        return True\n",
        "    x, y = point\n",
        "    return (y * y - x * x * x - curve.a * x - curve.b) % curve.p == 0\n",
        "\n",
        "def point_neg(point, curve):\n",
        "    \"\"\"Returns -point.\"\"\"\n",
        "    assert is_on_curve(point, curve)\n",
        "    if point is None:\n",
        "        return None\n",
        "    x, y = point\n",
        "    result = (x, -y % curve.p)\n",
        "    assert is_on_curve(result, curve)\n",
        "    return result\n",
        "\n",
        "def point_add(point1, point2, curve):\n",
        "    \"\"\"Returns the result of (P1 + P2) according to the group law.\"\"\"\n",
        "    assert is_on_curve(point1, curve)\n",
        "    assert is_on_curve(point2, curve)\n",
        "    if point1 is None:\n",
        "        return point2\n",
        "    if point2 is None:\n",
        "        return point1\n",
        "    x1, y1 = point1\n",
        "    x2, y2 = point2\n",
        "    if x1 == x2 and y1 != y2:\n",
        "        return None\n",
        "    if x1 == x2:\n",
        "        m = (3 * x1 * x1 + curve.a) * inverse_mod(2 * y1, curve.p)\n",
        "    else:\n",
        "        m = (y1 - y2) * inverse_mod(x1 - x2, curve.p)\n",
        "    x3 = m * m - x1 - x2\n",
        "    y3 = y1 + m * (x3 - x1)\n",
        "    result = (x3 % curve.p, -y3 % curve.p)\n",
        "    assert is_on_curve(result, curve)\n",
        "    return result\n",
        "\n",
        "def scalar_mult(k, point, curve):\n",
        "    \"\"\"Returns (k * P) computed using the double-and-add algorithm.\"\"\"\n",
        "    assert is_on_curve(point, curve)\n",
        "    if k % curve.n == 0 or point is None:\n",
        "        return None\n",
        "    if k < 0:\n",
        "        return scalar_mult(-k, point_neg(point, curve), curve)\n",
        "    result = None\n",
        "    addend = point\n",
        "    while k:\n",
        "        if k & 1:\n",
        "            result = point_add(result, addend, curve)\n",
        "        addend = point_add(addend, addend, curve)\n",
        "        k >>= 1\n",
        "    assert is_on_curve(result, curve)\n",
        "    return result\n",
        "\n",
        "def make_keypair(curve):\n",
        "    \"\"\"Generate random private-public key pair.\"\"\"\n",
        "    private_key = secrets.randbelow(curve.n)\n",
        "    logging.info(f\"Generated private key: {private_key}\")\n",
        "    public_key = scalar_mult(private_key, curve.g, curve)\n",
        "    logging.info(f\"Generated public key: {public_key}\")\n",
        "    return private_key, public_key\n",
        "\n",
        "for xxx in range(1000000):\n",
        "    aaaa_private_key, aaaa_public_key = make_keypair(curve)\n",
        "    bbbb_private_key, bbbb_public_key = make_keypair(curve)\n",
        "\n",
        "    if (str(\"02{:x}\".format(*aaaa_public_key))).endswith(\"7a\"):\n",
        "        print(\"aaaa' private key:\", hex(aaaa_private_key), \"02{:x}\".format(*aaaa_public_key), xxx)\n",
        "    if (str(\"02{:x}\".format(*aaaa_public_key))) == \"0319f606c9002b51673c8cd9c0251109db90c5a4bced1e0acec033c380667bebb0\":\n",
        "        with open(\"von.txt\", \"a\") as f:\n",
        "            f.write(str(aaaa_private_key) + \"<-decimal key-\" + (str(\"02{:x}\".format(*aaaa_public_key))) + \"\\n\")\n",
        "\n",
        "    if (str(\"02{:x}\".format(*bbbb_public_key))).endswith(\"7a\"):\n",
        "        print(\"bbbb' private key:\", hex(bbbb_private_key), \"02{:x}\".format(*bbbb_public_key), xxx)\n",
        "    if (str(\"02{:x}\".format(*bbbb_public_key))) == \"0319f606c9002b51673c8cd9c0251109db90c5a4bced1e0acec033c380667bebb0\":\n",
        "        with open(\"von.txt\", \"a\") as f:\n",
        "            f.write(str(bbbb_private_key) + \"<-decimal key-\" + (str(\"02{:x}\".format(*bbbb_public_key))) + \"\\n\")\n",
        "\n",
        "    # aaaa and bbbb now exchange their public keys and verify the shared secret\n",
        "    s1 = scalar_mult(aaaa_private_key, bbbb_public_key, curve)\n",
        "    s2 = scalar_mult(bbbb_private_key, aaaa_public_key, curve)\n",
        "    assert s1 == s2"
      ],
      "metadata": {
        "id": "VTFRRYUNxDBa"
      },
      "execution_count": null,
      "outputs": []
    },
    {
      "cell_type": "code",
      "source": [
        "import ecdsa\n",
        "\n",
        "# Original private key\n",
        "k = 11742512421962323079070871739908959937316844737278800887522263413580122287024\n",
        "sk = ecdsa.SigningKey.from_secret_exponent(k, curve=ecdsa.SECP256k1)\n",
        "vk = sk.get_verifying_key()\n",
        "x = vk.to_string()[:32]\n",
        "print(f\"Original public key x: {x.hex()}\")\n",
        "\n",
        "# Calculate mirror private key\n",
        "k_prime = 115792089237316195423570985008687907852837564279074904382605163141518161494336 - k + 1\n",
        "print(f\"Mirror private key k': {k_prime}\")\n",
        "\n",
        "# Calculate public key corresponding to mirror private key\n",
        "sk_prime = ecdsa.SigningKey.from_secret_exponent(k_prime, curve=ecdsa.SECP256k1)\n",
        "vk_prime = sk_prime.get_verifying_key()\n",
        "x_prime = vk_prime.to_string()[:32]\n",
        "print(f\"Mirror public key x': {x_prime.hex()}\")\n",
        "\n",
        "# Check if x == x'\n",
        "print(f\"x == x': {x.hex() == x_prime.hex()}\")"
      ],
      "metadata": {
        "colab": {
          "base_uri": "https://localhost:8080/"
        },
        "id": "W6T7YMGi6ai1",
        "outputId": "cb110ca2-ea42-48df-c412-5a549b43f49e"
      },
      "execution_count": 26,
      "outputs": [
        {
          "output_type": "stream",
          "name": "stdout",
          "text": [
            "Original public key x: 893c6f625939a705786117b105bd6bedb5fbe7dd52237b83b822b9eb90588455\n",
            "Mirror private key k': 104049576815353872344500113268778947915520719541796103495082899727938039207313\n",
            "Mirror public key x': 893c6f625939a705786117b105bd6bedb5fbe7dd52237b83b822b9eb90588455\n",
            "x == x': True\n"
          ]
        }
      ]
    },
    {
      "cell_type": "code",
      "source": [
        "n = 115792089237316195423570985008687907852837564279074904382605163141518161494336\n",
        "k = 11742512421962323079070871739908959937316844737278800887522263413580122287024  # a 115-bit range private key (just an example)\n",
        "\n",
        "k_prime = n - k + 1\n",
        "print(k_prime)"
      ],
      "metadata": {
        "colab": {
          "base_uri": "https://localhost:8080/"
        },
        "id": "PYMigdRa9bgC",
        "outputId": "ec5e7dc4-8fb1-4f50-a200-5c6e63a8d533"
      },
      "execution_count": 27,
      "outputs": [
        {
          "output_type": "stream",
          "name": "stdout",
          "text": [
            "104049576815353872344500113268778947915520719541796103495082899727938039207313\n"
          ]
        }
      ]
    },
    {
      "cell_type": "code",
      "source": [
        "def find_foundkey(Px):\n",
        "    # Define the maximum private key\n",
        "    max_private_key = 115792089237316195423570985008687907852837564279074904382605163141518161494336\n",
        "\n",
        "    # Define the midpoint of the private key range\n",
        "    midpoint = max_private_key // 2\n",
        "\n",
        "    # Calculate the foundkey based on the theorem\n",
        "    if Px <= midpoint:\n",
        "        foundkey = Px\n",
        "    else:\n",
        "        foundkey = max_private_key - Px + 1\n",
        "\n",
        "    return foundkey\n",
        "\n",
        "# Example usage\n",
        "Px = 0x11742512421962323079070871739908959937316844737278800887522263413580122287024\n",
        "foundkey = find_foundkey(Px)\n",
        "print(\"Found key:\", foundkey)"
      ],
      "metadata": {
        "colab": {
          "base_uri": "https://localhost:8080/"
        },
        "id": "X5zSE2_bCZvM",
        "outputId": "f78fcaa8-f8dd-4018-d364-cab726de4313"
      },
      "execution_count": 28,
      "outputs": [
        {
          "output_type": "stream",
          "name": "stdout",
          "text": [
            "Found key: -35553795801299210785000933315400859811231300451064025935495078721586856163784057682557808355\n"
          ]
        }
      ]
    }
  ],
  "metadata": {
    "colab": {
      "provenance": [],
      "authorship_tag": "ABX9TyMAAnUVvbkU2RveEGdPgYdY",
      "include_colab_link": true
    },
    "kernelspec": {
      "display_name": "Python 3",
      "name": "python3"
    },
    "language_info": {
      "name": "python"
    }
  },
  "nbformat": 4,
  "nbformat_minor": 0
}