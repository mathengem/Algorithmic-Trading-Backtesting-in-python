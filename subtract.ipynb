{
  "nbformat": 4,
  "nbformat_minor": 0,
  "metadata": {
    "colab": {
      "provenance": [],
      "authorship_tag": "ABX9TyOPaG2u6k1OkVgjf0ou0qmW",
      "include_colab_link": true
    },
    "kernelspec": {
      "name": "python3",
      "display_name": "Python 3"
    },
    "language_info": {
      "name": "python"
    }
  },
  "cells": [
    {
      "cell_type": "markdown",
      "metadata": {
        "id": "view-in-github",
        "colab_type": "text"
      },
      "source": [
        "<a href=\"https://colab.research.google.com/github/mathengem/Algorithmic-Trading-Backtesting-in-python/blob/main/subtract.ipynb\" target=\"_parent\"><img src=\"https://colab.research.google.com/assets/colab-badge.svg\" alt=\"Open In Colab\"/></a>"
      ]
    },
    {
      "cell_type": "code",
      "execution_count": null,
      "metadata": {
        "colab": {
          "base_uri": "https://localhost:8080/"
        },
        "id": "dTnTnAMPZh_h",
        "outputId": "3898b716-c548-4387-821c-e8565b2fbe7c"
      },
      "outputs": [
        {
          "output_type": "stream",
          "name": "stdout",
          "text": [
            "Elapsed time: 220.366771 seconds\n",
            "Operations per second: 4537889.24\n"
          ]
        }
      ],
      "source": [
        "import time\n",
        "\n",
        "# Function to perform unary minus operation\n",
        "def unary_minus(n):\n",
        "    return -n\n",
        "\n",
        "# Number of operations\n",
        "num_operations = 1_000_000_000\n",
        "\n",
        "# Measure the start time\n",
        "start_time = time.time()\n",
        "\n",
        "# Perform the unary minus operation in a loop\n",
        "result = 0\n",
        "for i in range(num_operations):\n",
        "    result = unary_minus(result)\n",
        "\n",
        "# Measure the end time\n",
        "end_time = time.time()\n",
        "\n",
        "# Calculate elapsed time and operations per second\n",
        "elapsed_time = end_time - start_time\n",
        "ops_per_second = num_operations / elapsed_time\n",
        "\n",
        "print(f\"Elapsed time: {elapsed_time:.6f} seconds\")\n",
        "print(f\"Operations per second: {ops_per_second:.2f}\")\n"
      ]
    },
    {
      "cell_type": "code",
      "source": [
        "!pip install ecdsa"
      ],
      "metadata": {
        "colab": {
          "base_uri": "https://localhost:8080/"
        },
        "id": "IpfzNwBZk2VK",
        "outputId": "5a13ec07-1057-4b19-8710-3b4b35960cbd"
      },
      "execution_count": null,
      "outputs": [
        {
          "output_type": "stream",
          "name": "stdout",
          "text": [
            "Collecting ecdsa\n",
            "  Downloading ecdsa-0.19.0-py2.py3-none-any.whl.metadata (29 kB)\n",
            "Requirement already satisfied: six>=1.9.0 in /usr/local/lib/python3.10/dist-packages (from ecdsa) (1.16.0)\n",
            "Downloading ecdsa-0.19.0-py2.py3-none-any.whl (149 kB)\n",
            "\u001b[?25l   \u001b[90m━━━━━━━━━━━━━━━━━━━━━━━━━━━━━━━━━━━━━━━━\u001b[0m \u001b[32m0.0/149.3 kB\u001b[0m \u001b[31m?\u001b[0m eta \u001b[36m-:--:--\u001b[0m\r\u001b[2K   \u001b[90m━━━━━━━━━━━━━━━━━━━━━━━━━━━━━━━━━━━━━━━━\u001b[0m \u001b[32m149.3/149.3 kB\u001b[0m \u001b[31m9.7 MB/s\u001b[0m eta \u001b[36m0:00:00\u001b[0m\n",
            "\u001b[?25hInstalling collected packages: ecdsa\n",
            "Successfully installed ecdsa-0.19.0\n"
          ]
        }
      ]
    },
    {
      "cell_type": "code",
      "source": [
        "!g++ -O3 -o unary_minus unary_minus.cpp\n"
      ],
      "metadata": {
        "id": "lErdFuXBaErz"
      },
      "execution_count": null,
      "outputs": []
    },
    {
      "cell_type": "code",
      "source": [
        "!./unary_minus\n"
      ],
      "metadata": {
        "colab": {
          "base_uri": "https://localhost:8080/"
        },
        "id": "fr6gRGpXaOGZ",
        "outputId": "bf797970-c3bf-4700-ace0-d402c57fbb85"
      },
      "execution_count": null,
      "outputs": [
        {
          "output_type": "stream",
          "name": "stdout",
          "text": [
            "Elapsed time: 0.000001 seconds\n",
            "Operations per second: 1000000000000.00\n"
          ]
        }
      ]
    },
    {
      "cell_type": "code",
      "source": [
        "!g++ -O3 -o unary_minusadv unary_minusadv.cpp\n"
      ],
      "metadata": {
        "id": "ZUPC8p9YajUT"
      },
      "execution_count": null,
      "outputs": []
    },
    {
      "cell_type": "code",
      "source": [
        "!./unary_minusadv"
      ],
      "metadata": {
        "colab": {
          "base_uri": "https://localhost:8080/"
        },
        "id": "8N0AZJa5apdG",
        "outputId": "accc7f3b-b393-4a51-b7ad-35251ce08b3f"
      },
      "execution_count": null,
      "outputs": [
        {
          "output_type": "stream",
          "name": "stdout",
          "text": [
            "Elapsed time: 0.000000 seconds\n",
            "Operations per second: 61349693251534\n"
          ]
        }
      ]
    },
    {
      "cell_type": "code",
      "source": [
        "!g++ subtraction_comparison -o subtraction_comparison.cpp"
      ],
      "metadata": {
        "colab": {
          "base_uri": "https://localhost:8080/"
        },
        "id": "E4q3LOzqr7Tm",
        "outputId": "536d3b2d-692e-49ce-8cd3-01f67c601b88"
      },
      "execution_count": null,
      "outputs": [
        {
          "output_type": "stream",
          "name": "stdout",
          "text": [
            "/usr/bin/ld: cannot find subtraction_comparison: No such file or directory\n",
            "collect2: error: ld returned 1 exit status\n"
          ]
        }
      ]
    },
    {
      "cell_type": "code",
      "source": [
        "import multiprocessing\n",
        "import logging\n",
        "from ecdsa import ellipticcurve, SECP256k1\n",
        "\n",
        "# Setup logging\n",
        "logging.basicConfig(level=logging.DEBUG, format='%(asctime)s - %(levelname)s - %(message)s')\n",
        "\n",
        "def subtract_points(G, n, start, end, search_points, process_id):\n",
        "    curve = SECP256k1.curve\n",
        "    total_operations = start - end\n",
        "    logging.info(f\"Process {process_id} starting. Range: {start} to {end}\")\n",
        "    with open(f\"FOUNDK_{start}_{end}.TXT\", \"w\") as file:\n",
        "        for k in range(start, end, -1):\n",
        "            kG = k * G\n",
        "            for x, y in search_points:\n",
        "                point = ellipticcurve.Point(curve, x, y, 1)\n",
        "                negative_point = -point\n",
        "                result_point = kG + negative_point\n",
        "                file.write(f\"k = {k}\\nx = {result_point.x()}\\ny = {result_point.y()}\\n\")\n",
        "            # Logging progress\n",
        "            if (start - k) % (total_operations // 10) == 0:\n",
        "                logging.info(f\"Process {process_id} progress: {100 * (start - k) / total_operations:.2f}%\")\n",
        "    logging.info(f\"Process {process_id} completed.\")\n",
        "\n",
        "def backward_subtraction_parallel(G, n, num_processes=4):\n",
        "    search_points = [\n",
        "        \n",
        "    ]\n",
        "\n",
        "    chunk_size = (n - 1) // num_processes\n",
        "    processes = []\n",
        "\n",
        "    for i in range(num_processes):\n",
        "        start = n - 1 - i * chunk_size\n",
        "        end = max(1, start - chunk_size)\n",
        "        p = multiprocessing.Process(target=subtract_points, args=(G, n, start, end, search_points, i))\n",
        "        processes.append(p)\n",
        "        p.start()\n",
        "\n",
        "    for p in processes:\n",
        "        p.join()\n",
        "\n",
        "    logging.info(\"All processes completed and results saved.\")\n",
        "\n",
        "curve = SECP256k1.curve\n",
        "G = SECP256k1.generator\n",
        "n = SECP256k1.order\n",
        "\n",
        "backward_subtraction_parallel(G, n)\n"
      ],
      "metadata": {
        "id": "J5FxN69vszkW"
      },
      "execution_count": null,
      "outputs": []
    }
  ]
}
