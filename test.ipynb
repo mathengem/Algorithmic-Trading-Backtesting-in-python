{
  "cells": [
    {
      "cell_type": "markdown",
      "metadata": {
        "id": "view-in-github",
        "colab_type": "text"
      },
      "source": [
        "<a href=\"https://colab.research.google.com/github/mathengem/Algorithmic-Trading-Backtesting-in-python/blob/main/test.ipynb\" target=\"_parent\"><img src=\"https://colab.research.google.com/assets/colab-badge.svg\" alt=\"Open In Colab\"/></a>"
      ]
    },
    {
      "cell_type": "code",
      "execution_count": null,
      "metadata": {
        "colab": {
          "base_uri": "https://localhost:8080/"
        },
        "id": "3oKGUd_EjAKW",
        "outputId": "1d21bf5c-c590-4217-b3a8-a0005e92a33d"
      },
      "outputs": [
        {
          "name": "stdout",
          "output_type": "stream",
          "text": [
            "Collecting gmpy2\n",
            "  Downloading gmpy2-2.2.1-cp310-cp310-manylinux_2_17_x86_64.manylinux2014_x86_64.whl (1.7 MB)\n",
            "\u001b[2K     \u001b[90m━━━━━━━━━━━━━━━━━━━━━━━━━━━━━━━━━━━━━━━━\u001b[0m \u001b[32m1.7/1.7 MB\u001b[0m \u001b[31m7.1 MB/s\u001b[0m eta \u001b[36m0:00:00\u001b[0m\n",
            "\u001b[?25hInstalling collected packages: gmpy2\n",
            "Successfully installed gmpy2-2.2.1\n"
          ]
        }
      ],
      "source": [
        "!pip install gmpy2\n",
        "\n"
      ]
    },
    {
      "cell_type": "code",
      "execution_count": null,
      "metadata": {
        "colab": {
          "background_save": true,
          "base_uri": "https://localhost:8080/"
        },
        "id": "o6kv07imqWxx",
        "outputId": "da403b1c-5b3b-4b2a-8b97-46ddd4747db4"
      },
      "outputs": [
        {
          "name": "stdout",
          "output_type": "stream",
          "text": [
            "\u001b[?25l\u001b[01;33m[+]\u001b[32m KANGAROO: \u001b[01;33mMon Jul 22 10:33:54 2024\u001b[0m \n",
            "[+] [Puzzle]: 126\n",
            "[+] [Lower range limit]: 0x20000000000000000000000000000000\n",
            "[+] [Upper range limit]: 0x3fffffffffffffffffffffffffffffff\n",
            "[+] [EC Point Coordinate X]: 0xd6597d465408e6e11264c116dd98b539740e802dc756d7eb88741696e20dfe7d\n",
            "[+] [EC Point Coordinate Y]: 0x3588695d2e7ad23cbf0aa056d42afada63036d66a1d9b97070dd6bc0c87ceb0d\n"
          ]
        }
      ],
      "source": [
        "import time, random\n",
        "from gmpy2 import mpz, f_mod, powmod, invert\n",
        "\n",
        "modulo = mpz(0xFFFFFFFFFFFFFFFFFFFFFFFFFFFFFFFFFFFFFFFFFFFFFFFFFFFFFFFEFFFFFC2F)\n",
        "Gx = mpz(0x79BE667EF9DCBBAC55A06295CE870B07029BFCDB2DCE28D959F2815B16F81798)\n",
        "Gy = mpz(0x483ada7726a3c4655da4fbfc0e1108a8fd17b448a68554199c47d08ffb10d4b8)\n",
        "PG = (Gx, Gy)\n",
        "Z = (0, 0)\n",
        "\n",
        "def add(P, Q, p=modulo):\n",
        "    Px, Py = P\n",
        "    Qx, Qy = Q\n",
        "    if P == Z:\n",
        "        return Q\n",
        "    elif Q == Z:\n",
        "        return P\n",
        "    elif Px == Qx:\n",
        "        if Py != Qy or Py == 0:\n",
        "            return Z\n",
        "        num = 3 * Px * Px\n",
        "        denom = 2 * Py\n",
        "    else:\n",
        "        num = Qy - Py\n",
        "        denom = Qx - Px\n",
        "    m = (num * invert(denom, p)) % p\n",
        "    x = (m * m - Px - Qx) % p\n",
        "    y = (m * (Px - x) - Py) % p\n",
        "    return (x, y)\n",
        "\n",
        "def mul(k, P=PG):\n",
        "    R = Z\n",
        "    while k:\n",
        "        if k & 1:\n",
        "            R = add(R, P)\n",
        "        P = add(P, P)\n",
        "        k >>= 1\n",
        "    return R\n",
        "\n",
        "def X2Y(X, y_parity, p=modulo):\n",
        "    X_cubed = powmod(X, 3, p)\n",
        "    tmp = (X_cubed + 7) % p\n",
        "    Y = powmod(tmp, (p + 1) // 4, p)\n",
        "    if y_parity == 1:\n",
        "        Y = (-Y) % p\n",
        "    return Y\n",
        "\n",
        "def comparator(P, Pindex, DP_rarity, t, W, w, T):\n",
        "    if f_mod(P[0], DP_rarity) == 0:\n",
        "        T.append(P[0])\n",
        "        t.append(Pindex)\n",
        "        common_elements = set(T).intersection(W)\n",
        "        if common_elements:\n",
        "            match = common_elements.pop()\n",
        "            tT = t[T.index(match)]\n",
        "            wW = w[W.index(match)]\n",
        "            HEX = '%064x' % abs(tT - wW)\n",
        "            dec = int(HEX, 16)\n",
        "            total_time = time.time() - starttime\n",
        "            print(f\"\\n[+] total time: {total_time:.2f} sec\")\n",
        "            print_status(time.ctime(), 'PUZZLE SOLVED')\n",
        "            print(f\"\\033[32m[+] Private key (hex) : {HEX} \\033[0m\")\n",
        "            log_solution(total_time, dec, HEX)\n",
        "            return True\n",
        "    return False\n",
        "\n",
        "def search(P, W0, DP_rarity, Nw, Nt, hop_modulo, upper, lower):\n",
        "    t = [lower + random.randint(0, upper - lower) for _ in range(Nt)]\n",
        "    T = [mul(ti) for ti in t]\n",
        "    w = [random.randint(0, upper - lower) for _ in range(Nw)]\n",
        "    W = [add(W0, mul(wi)) for wi in w]\n",
        "    Hops, Hops_old = 0, 0\n",
        "    t0 = time.time()\n",
        "    solved = False\n",
        "    while not solved:\n",
        "        for k in range(Nt + Nw):\n",
        "            Hops += 1\n",
        "            if k < Nt:\n",
        "                pw = T[k][0] % hop_modulo\n",
        "                solved = comparator(T[k], t[k], DP_rarity, T, t, W, w)\n",
        "                if solved: break\n",
        "                t[k] += 1 << pw\n",
        "                T[k] = add(P[pw], T[k])\n",
        "            else:\n",
        "                k -= Nt\n",
        "                pw = W[k][0] % hop_modulo\n",
        "                solved = comparator(W[k], w[k], DP_rarity, W, w, T, t)\n",
        "                if solved: break\n",
        "                w[k] += 1 << pw\n",
        "                W[k] = add(P[pw], W[k])\n",
        "        t1 = time.time()\n",
        "        elapsed_time = t1 - starttime\n",
        "        if (t1 - t0) > 1:\n",
        "            hops_per_second = (Hops - Hops_old) / (t1 - t0)\n",
        "            hours, rem = divmod(elapsed_time, 3600)\n",
        "            minutes, seconds = divmod(rem, 60)\n",
        "            elapsed_time_str = f\"{int(hours):02d}:{int(minutes):02d}:{int(seconds):02d}\"\n",
        "            print(f'[+] [Hops: {hops_per_second:.0f} h/s] [{elapsed_time_str}]', end='\\r', flush=True)\n",
        "            t0 = t1\n",
        "            Hops_old = Hops\n",
        "    print('\\r[+] Hops:', Hops)\n",
        "    print('[+] Average time to solve: %.2f sec' % ((time.time() - starttime)))\n",
        "\n",
        "def print_status(t, message):\n",
        "    print(f\"\\033[?25l\\033[01;33m[+]\\033[32m KANGAROO: \\033[01;33m{t}\\033[0m {message}\")\n",
        "\n",
        "def print_puzzle_info(puzzle, lower, upper, X, Y):\n",
        "    print(f\"[+] [Puzzle]: {puzzle}\")\n",
        "    print(f\"[+] [Lower range limit]: {hex(lower)}\")\n",
        "    print(f\"[+] [Upper range limit]: {hex(upper)}\")\n",
        "    print(f\"[+] [EC Point Coordinate X]: {hex(X)}\")\n",
        "    print(f\"[+] [EC Point Coordinate Y]: {hex(Y)}\")\n",
        "\n",
        "def log_solution(total_time, dec, HEX):\n",
        "    t = time.ctime()\n",
        "    dash_line = '-' * 140\n",
        "    with open(\"KEYFOUNDKEYFOUND.txt\", \"a\") as file:\n",
        "        file.write(f\"\\n{dash_line}\")\n",
        "        file.write(\"\\n\\nSOLVED \" + t)\n",
        "        file.write(f\"\\nTotal Time: {total_time:.2f} sec\")\n",
        "        file.write(\"\\nPrivate Key (decimal): \" + str(dec))\n",
        "        file.write(\"\\nPrivate Key (hex): \" + HEX)\n",
        "        file.write(f\"\\n{dash_line}\")\n",
        "\n",
        "t = time.ctime()\n",
        "print_status(t, \"\")\n",
        "\n",
        "# Configuration for the puzzle\n",
        "puzzle = 126\n",
        "compressed_public_key = \"03d6597d465408e6e11264c116dd98b539740e802dc756d7eb88741696e20dfe7d\"\n",
        "kangaroo_power = 11\n",
        "lower = 2 ** (puzzle - 1)\n",
        "upper = (2 ** puzzle) - 1\n",
        "\n",
        "DP_rarity = 1 << int(((puzzle -  2*kangaroo_power)/2 - 2))\n",
        "hop_modulo = ((puzzle - 1) // 2) + kangaroo_power\n",
        "\n",
        "Nt = Nw = 2**kangaroo_power\n",
        "\n",
        "if len(compressed_public_key) == 66:\n",
        "    X = mpz(compressed_public_key[2:66], 16)\n",
        "    Y = X2Y(X, mpz(compressed_public_key[:2]) - 2)\n",
        "else:\n",
        "    print(\"[error] pubkey len(66/130) invalid!\")\n",
        "\n",
        "W0 = (X, Y)\n",
        "starttime = time.time()\n",
        "print_puzzle_info(puzzle, lower, upper, X, Y)\n",
        "Hops = 0\n",
        "solved = False\n",
        "\n",
        "random.seed()\n",
        "\n",
        "P = [PG]\n",
        "for k in range(255):\n",
        "        P.append(add(P[k], P[k]))\n",
        "\n",
        "solved = search(P, W0, DP_rarity, Nw, Nt, hop_modulo, upper, lower)"
      ]
    },
    {
      "cell_type": "code",
      "execution_count": null,
      "metadata": {
        "colab": {
          "base_uri": "https://localhost:8080/"
        },
        "id": "PXaWHCoU3_Yi",
        "outputId": "e007c355-dc84-42fb-cddc-35a16679d95a"
      },
      "outputs": [
        {
          "name": "stdout",
          "output_type": "stream",
          "text": [
            "126\n"
          ]
        }
      ],
      "source": [
        "def bits_to_power_of_2(n):\n",
        "    binary = bin(n)[2:]  # Convert to binary and remove the '0b' prefix\n",
        "    result = 0\n",
        "    for bit in binary:\n",
        "        result += int(bit) ** 2\n",
        "    return result\n",
        "\n",
        "n = 96953063599923793356065023910106792740284067034392039319548634253844580007549\n",
        "print(bits_to_power_of_2(n))"
      ]
    },
    {
      "cell_type": "code",
      "execution_count": null,
      "metadata": {
        "colab": {
          "base_uri": "https://localhost:8080/"
        },
        "id": "Xb_efnLUq-J6",
        "outputId": "23b5be1e-bfa1-4f07-db01-d992c72fac4f"
      },
      "outputs": [
        {
          "name": "stdout",
          "output_type": "stream",
          "text": [
            "2^255 + 2^254 + 2^252 + 2^250 + 2^249 + 2^246 + 2^244 + 2^243 + 2^240 + 2^238 + 2^237 + 2^236 + 2^235 + 2^234 + 2^232 + 2^230 + 2^226 + 2^225 + 2^222 + 2^220 + 2^218 + 2^211 + 2^207 + 2^206 + 2^205 + 2^202 + 2^201 + 2^199 + 2^198 + 2^197 + 2^192 + 2^188 + 2^185 + 2^182 + 2^181 + 2^178 + 2^175 + 2^174 + 2^168 + 2^164 + 2^162 + 2^161 + 2^159 + 2^158 + 2^156 + 2^155 + 2^154 + 2^152 + 2^151 + 2^148 + 2^147 + 2^143 + 2^141 + 2^140 + 2^138 + 2^136 + 2^133 + 2^132 + 2^131 + 2^128 + 2^126 + 2^125 + 2^124 + 2^122 + 2^115 + 2^114 + 2^113 + 2^111 + 2^101 + 2^99 + 2^98 + 2^96 + 2^95 + 2^94 + 2^90 + 2^89 + 2^88 + 2^86 + 2^84 + 2^82 + 2^81 + 2^79 + 2^78 + 2^76 + 2^74 + 2^73 + 2^72 + 2^71 + 2^70 + 2^69 + 2^67 + 2^65 + 2^64 + 2^63 + 2^59 + 2^54 + 2^53 + 2^52 + 2^50 + 2^44 + 2^42 + 2^41 + 2^39 + 2^36 + 2^34 + 2^33 + 2^31 + 2^30 + 2^29 + 2^25 + 2^19 + 2^18 + 2^16 + 2^15 + 2^14 + 2^13 + 2^12 + 2^11 + 2^10 + 2^9 + 2^6 + 2^5 + 2^4 + 2^3 + 2^2 + 2^0\n"
          ]
        }
      ],
      "source": [
        "def bits_to_power_of_2(n):\n",
        "    binary = bin(n)[2:]  # Convert to binary and remove the '0b' prefix\n",
        "    result = ''\n",
        "    for i, bit in enumerate(reversed(binary)):\n",
        "        if bit == '1':\n",
        "            result = '2^' + str(i) + ' + ' + result\n",
        "    return result.rstrip(' + ')\n",
        "\n",
        "n = 96953063599923793356065023910106792740284067034392039319548634253844580007549\n",
        "print(bits_to_power_of_2(n))"
      ]
    },
    {
      "cell_type": "code",
      "source": [
        "!git clone https://github.com/mikorist/Kangaroo-256-bit.git"
      ],
      "metadata": {
        "colab": {
          "base_uri": "https://localhost:8080/"
        },
        "id": "0FgLwk1Hj2ur",
        "outputId": "815f7997-2379-436c-afec-ad496836eba1"
      },
      "execution_count": 29,
      "outputs": [
        {
          "output_type": "stream",
          "name": "stdout",
          "text": [
            "Cloning into 'Kangaroo-256-bit'...\n",
            "remote: Enumerating objects: 68, done.\u001b[K\n",
            "remote: Counting objects: 100% (68/68), done.\u001b[K\n",
            "remote: Compressing objects: 100% (68/68), done.\u001b[K\n",
            "remote: Total 68 (delta 9), reused 0 (delta 0), pack-reused 0\u001b[K\n",
            "Receiving objects: 100% (68/68), 366.06 KiB | 4.52 MiB/s, done.\n",
            "Resolving deltas: 100% (9/9), done.\n"
          ]
        }
      ]
    },
    {
      "cell_type": "code",
      "source": [
        "%cd /content/Kangaroo-256-bit"
      ],
      "metadata": {
        "colab": {
          "base_uri": "https://localhost:8080/"
        },
        "id": "RstkjmpJj67Z",
        "outputId": "98aef4f8-e390-405b-ab2b-da4ee4465136"
      },
      "execution_count": 41,
      "outputs": [
        {
          "output_type": "stream",
          "name": "stdout",
          "text": [
            "/content/Kangaroo-256-bit\n"
          ]
        }
      ]
    },
    {
      "cell_type": "code",
      "source": [
        "ls"
      ],
      "metadata": {
        "colab": {
          "base_uri": "https://localhost:8080/"
        },
        "id": "Bql8z-MkkFzg",
        "outputId": "2a82d3ea-7f5a-43a4-9c3d-93ea2a71feb1"
      },
      "execution_count": 42,
      "outputs": [
        {
          "output_type": "stream",
          "name": "stdout",
          "text": [
            "130.txt      detect_cuda.sh  HashTable.h   Makefile       README.md   \u001b[0m\u001b[01;34mVC_CUDA10\u001b[0m/\n",
            "65.txt       \u001b[01;34mdeviceQuery\u001b[0m/    Kangaroo.cpp  Merge.cpp      \u001b[01;34mSECPK1\u001b[0m/     \u001b[01;34mVC_CUDA102\u001b[0m/\n",
            "Backup.cpp   \u001b[01;34mDOC\u001b[0m/            Kangaroo.h    Network.cpp    Thread.cpp  \u001b[01;34mVC_CUDA118\u001b[0m/\n",
            "Check.cpp    \u001b[01;34mGPU\u001b[0m/            LICENSE       PartMerge.cpp  Timer.cpp   \u001b[01;34mVC_CUDA8\u001b[0m/\n",
            "Constants.h  HashTable.cpp   main.cpp      puzzle32.txt   Timer.h     WindowsErrors.h\n"
          ]
        }
      ]
    },
    {
      "cell_type": "code",
      "source": [
        "!make all"
      ],
      "metadata": {
        "colab": {
          "base_uri": "https://localhost:8080/"
        },
        "id": "1D7Kxo3mkVpz",
        "outputId": "17d7cf08-1bd4-49b1-982c-8ca03cae987b"
      },
      "execution_count": 43,
      "outputs": [
        {
          "output_type": "stream",
          "name": "stdout",
          "text": [
            "mkdir -p obj\n",
            "cd obj &&\tmkdir -p SECPK1\n",
            "cd obj && mkdir -p GPU\n",
            "g++ -m64 -mssse3 -Wno-unused-result -Wno-write-strings -O2 -I. -I/usr/local/cuda/include -o obj/SECPK1/IntGroup.o -c SECPK1/IntGroup.cpp\n",
            "g++ -m64 -mssse3 -Wno-unused-result -Wno-write-strings -O2 -I. -I/usr/local/cuda/include -o obj/main.o -c main.cpp\n",
            "g++ -m64 -mssse3 -Wno-unused-result -Wno-write-strings -O2 -I. -I/usr/local/cuda/include -o obj/SECPK1/Random.o -c SECPK1/Random.cpp\n",
            "g++ -m64 -mssse3 -Wno-unused-result -Wno-write-strings -O2 -I. -I/usr/local/cuda/include -o obj/Timer.o -c Timer.cpp\n",
            "g++ -m64 -mssse3 -Wno-unused-result -Wno-write-strings -O2 -I. -I/usr/local/cuda/include -o obj/SECPK1/Int.o -c SECPK1/Int.cpp\n",
            "g++ -m64 -mssse3 -Wno-unused-result -Wno-write-strings -O2 -I. -I/usr/local/cuda/include -o obj/SECPK1/IntMod.o -c SECPK1/IntMod.cpp\n",
            "g++ -m64 -mssse3 -Wno-unused-result -Wno-write-strings -O2 -I. -I/usr/local/cuda/include -o obj/SECPK1/Point.o -c SECPK1/Point.cpp\n",
            "g++ -m64 -mssse3 -Wno-unused-result -Wno-write-strings -O2 -I. -I/usr/local/cuda/include -o obj/SECPK1/SECP256K1.o -c SECPK1/SECP256K1.cpp\n",
            "g++ -m64 -mssse3 -Wno-unused-result -Wno-write-strings -O2 -I. -I/usr/local/cuda/include -o obj/Kangaroo.o -c Kangaroo.cpp\n",
            "g++ -m64 -mssse3 -Wno-unused-result -Wno-write-strings -O2 -I. -I/usr/local/cuda/include -o obj/HashTable.o -c HashTable.cpp\n",
            "g++ -m64 -mssse3 -Wno-unused-result -Wno-write-strings -O2 -I. -I/usr/local/cuda/include -o obj/Thread.o -c Thread.cpp\n",
            "g++ -m64 -mssse3 -Wno-unused-result -Wno-write-strings -O2 -I. -I/usr/local/cuda/include -o obj/Check.o -c Check.cpp\n",
            "g++ -m64 -mssse3 -Wno-unused-result -Wno-write-strings -O2 -I. -I/usr/local/cuda/include -o obj/Backup.o -c Backup.cpp\n",
            "g++ -m64 -mssse3 -Wno-unused-result -Wno-write-strings -O2 -I. -I/usr/local/cuda/include -o obj/Network.o -c Network.cpp\n",
            "g++ -m64 -mssse3 -Wno-unused-result -Wno-write-strings -O2 -I. -I/usr/local/cuda/include -o obj/Merge.o -c Merge.cpp\n",
            "g++ -m64 -mssse3 -Wno-unused-result -Wno-write-strings -O2 -I. -I/usr/local/cuda/include -o obj/PartMerge.o -c PartMerge.cpp\n",
            "Making Kangaroo-256...\n",
            "g++ obj/SECPK1/IntGroup.o obj/main.o obj/SECPK1/Random.o obj/Timer.o obj/SECPK1/Int.o obj/SECPK1/IntMod.o obj/SECPK1/Point.o obj/SECPK1/SECP256K1.o obj/Kangaroo.o obj/HashTable.o obj/Thread.o obj/Check.o obj/Backup.o obj/Network.o obj/Merge.o obj/PartMerge.o -lpthread -o kangaroo-256\n"
          ]
        }
      ]
    },
    {
      "cell_type": "code",
      "source": [
        "!./kangaroo-256 outputpubtopoint.txt"
      ],
      "metadata": {
        "colab": {
          "base_uri": "https://localhost:8080/"
        },
        "id": "smIOHYVOkZ-O",
        "outputId": "1d3a8623-f58f-45b2-e4b3-ec467fdb3405"
      },
      "execution_count": null,
      "outputs": [
        {
          "output_type": "stream",
          "name": "stdout",
          "text": [
            "\u001b[H\u001b[2J\u001b[01;33m[+] Kangaroo v2.3 [256 range edition]\n",
            "\u001b[01;33m[+] Mon Jul 22 23:30:10 2024\n",
            "[+] Start:40000000000000000000000000000\n",
            "[+] Stop :80000000000000000000000000000\n",
            "[+] Keys :97\n",
            "[+] Number of CPU thread: 2\n",
            "[+] Range width: 2^115\n",
            "[+] Jump Avg distance: 2^56.95\n",
            "[+] Number of kangaroos: 2^11.00\n",
            "[+] Suggested DP: 43\n",
            "[+] Expected operations: 2^58.59\n",
            "[+] Expected RAM: 15.8MB\n",
            "[+] DP size: 43 [0x0007ffffffffff]\n",
            "[+] SolveKeyCPU Thread 01: 1024 kangaroos\n",
            "[+] SolveKeyCPU Thread 00: 1024 kangaroos\n"
          ]
        }
      ]
    },
    {
      "cell_type": "code",
      "source": [
        "!git clone https://github.com/AntonKueltz/fastecdsa.git"
      ],
      "metadata": {
        "colab": {
          "base_uri": "https://localhost:8080/"
        },
        "id": "SANKC4_FtWr5",
        "outputId": "6800a3fc-a4d5-4eab-e48c-fc0bc34f904c"
      },
      "execution_count": 55,
      "outputs": [
        {
          "output_type": "stream",
          "name": "stdout",
          "text": [
            "Cloning into 'fastecdsa'...\n",
            "remote: Enumerating objects: 1715, done.\u001b[K\n",
            "remote: Counting objects: 100% (266/266), done.\u001b[K\n",
            "remote: Compressing objects: 100% (56/56), done.\u001b[K\n",
            "remote: Total 1715 (delta 215), reused 248 (delta 210), pack-reused 1449\u001b[K\n",
            "Receiving objects: 100% (1715/1715), 1.44 MiB | 14.58 MiB/s, done.\n",
            "Resolving deltas: 100% (1094/1094), done.\n"
          ]
        }
      ]
    },
    {
      "cell_type": "code",
      "source": [
        "%cd /content/Kangaroo-256-bit/fastecdsa"
      ],
      "metadata": {
        "colab": {
          "base_uri": "https://localhost:8080/"
        },
        "id": "7ocS-J3qtn0z",
        "outputId": "06c253cd-1893-47e5-9990-a23916701f3b"
      },
      "execution_count": 57,
      "outputs": [
        {
          "output_type": "stream",
          "name": "stdout",
          "text": [
            "/content/Kangaroo-256-bit/fastecdsa\n"
          ]
        }
      ]
    },
    {
      "cell_type": "code",
      "source": [
        "!pip install fastecdsa"
      ],
      "metadata": {
        "colab": {
          "base_uri": "https://localhost:8080/"
        },
        "id": "MWvMoVWns-s1",
        "outputId": "c67ebabb-47fe-4829-a5c5-051702d1c93a"
      },
      "execution_count": 58,
      "outputs": [
        {
          "output_type": "stream",
          "name": "stdout",
          "text": [
            "Collecting fastecdsa\n",
            "  Using cached fastecdsa-2.3.2.tar.gz (47 kB)\n",
            "  Installing build dependencies ... \u001b[?25l\u001b[?25hdone\n",
            "  Getting requirements to build wheel ... \u001b[?25l\u001b[?25hdone\n",
            "  Preparing metadata (pyproject.toml) ... \u001b[?25l\u001b[?25hdone\n",
            "Building wheels for collected packages: fastecdsa\n",
            "  Building wheel for fastecdsa (pyproject.toml) ... \u001b[?25l\u001b[?25hdone\n",
            "  Created wheel for fastecdsa: filename=fastecdsa-2.3.2-cp310-cp310-linux_x86_64.whl size=88121 sha256=9ad9ff170cccb92f6489143e4f2dcb63f787a9e036ecf9f76907a0501ca389b1\n",
            "  Stored in directory: /root/.cache/pip/wheels/1c/f6/86/44d8cb71db6987b0d6f7764a5279b61e6a61482d3a8c46d9f8\n",
            "Successfully built fastecdsa\n",
            "Installing collected packages: fastecdsa\n",
            "Successfully installed fastecdsa-2.3.2\n"
          ]
        }
      ]
    },
    {
      "cell_type": "code",
      "source": [
        "!pip install bit"
      ],
      "metadata": {
        "colab": {
          "base_uri": "https://localhost:8080/"
        },
        "id": "2tRqal_quqnL",
        "outputId": "94bbab76-1399-4520-dfab-9a5ac79d43ff"
      },
      "execution_count": 2,
      "outputs": [
        {
          "output_type": "stream",
          "name": "stdout",
          "text": [
            "Collecting bit\n",
            "  Downloading bit-0.8.0-py3-none-any.whl (68 kB)\n",
            "\u001b[2K     \u001b[90m━━━━━━━━━━━━━━━━━━━━━━━━━━━━━━━━━━━━━━━━\u001b[0m \u001b[32m68.9/68.9 kB\u001b[0m \u001b[31m2.1 MB/s\u001b[0m eta \u001b[36m0:00:00\u001b[0m\n",
            "\u001b[?25hCollecting coincurve>=4.3.0 (from bit)\n",
            "  Downloading coincurve-20.0.0-cp310-cp310-manylinux_2_17_x86_64.manylinux2014_x86_64.whl (1.2 MB)\n",
            "\u001b[2K     \u001b[90m━━━━━━━━━━━━━━━━━━━━━━━━━━━━━━━━━━━━━━━━\u001b[0m \u001b[32m1.2/1.2 MB\u001b[0m \u001b[31m7.4 MB/s\u001b[0m eta \u001b[36m0:00:00\u001b[0m\n",
            "\u001b[?25hRequirement already satisfied: requests in /usr/local/lib/python3.10/dist-packages (from bit) (2.31.0)\n",
            "Collecting asn1crypto (from coincurve>=4.3.0->bit)\n",
            "  Downloading asn1crypto-1.5.1-py2.py3-none-any.whl (105 kB)\n",
            "\u001b[2K     \u001b[90m━━━━━━━━━━━━━━━━━━━━━━━━━━━━━━━━━━━━━━━━\u001b[0m \u001b[32m105.0/105.0 kB\u001b[0m \u001b[31m10.7 MB/s\u001b[0m eta \u001b[36m0:00:00\u001b[0m\n",
            "\u001b[?25hRequirement already satisfied: cffi>=1.3.0 in /usr/local/lib/python3.10/dist-packages (from coincurve>=4.3.0->bit) (1.16.0)\n",
            "Requirement already satisfied: charset-normalizer<4,>=2 in /usr/local/lib/python3.10/dist-packages (from requests->bit) (3.3.2)\n",
            "Requirement already satisfied: idna<4,>=2.5 in /usr/local/lib/python3.10/dist-packages (from requests->bit) (3.7)\n",
            "Requirement already satisfied: urllib3<3,>=1.21.1 in /usr/local/lib/python3.10/dist-packages (from requests->bit) (2.0.7)\n",
            "Requirement already satisfied: certifi>=2017.4.17 in /usr/local/lib/python3.10/dist-packages (from requests->bit) (2024.7.4)\n",
            "Requirement already satisfied: pycparser in /usr/local/lib/python3.10/dist-packages (from cffi>=1.3.0->coincurve>=4.3.0->bit) (2.22)\n",
            "Installing collected packages: asn1crypto, coincurve, bit\n",
            "Successfully installed asn1crypto-1.5.1 bit-0.8.0 coincurve-20.0.0\n"
          ]
        }
      ]
    },
    {
      "cell_type": "code",
      "source": [
        "from fastecdsa import curve, keys\n",
        "from fastecdsa.point import Point\n",
        "import bit\n",
        "\n",
        "G = curve.secp256k1.G\n",
        "N = curve.secp256k1.q\n",
        "\n",
        "pubkey = '03e1ea4a810944e6b5b1f598fae9984629c6cbcb9c0471f39c752809b44ed6ce11'\n",
        "\n",
        "def pub2point(pub_hex):\n",
        "    x = int(pub_hex[2:66], 16)\n",
        "    if len(pub_hex) < 70:\n",
        "        y = bit.format.x_to_y(x, int(pub_hex[:2], 16) % 2)\n",
        "    else:\n",
        "        y = int(pub_hex[66:], 16)\n",
        "    return Point(x, y, curve=curve.secp256k1)\n",
        "\n",
        "\n",
        "\n",
        "# This function makes all the downscaled pubkeys obtained from subtracting\n",
        "# numbers between 0 and divisor, before dividing the pubkeys by divisor.\n",
        "def shiftdown(pubkey, divisor):\n",
        "    Q = pub2point(pubkey)\n",
        "    # k = 1/divisor\n",
        "    k = pow(divisor, N - 2, N)\n",
        "    for i in range(divisor+1):\n",
        "        P = Q - (i * G)\n",
        "        P = k * P\n",
        "        if (P.y % 2 == 0):\n",
        "            prefix = \"02\"\n",
        "        else:\n",
        "            prefix = \"03\"\n",
        "        hx = hex(P.x)[2:].zfill(64)\n",
        "        hy = hex(P.y)[2:].zfill(64)\n",
        "        print(prefix+hx, \"04\"+hx+hy)\n",
        "\n",
        "shiftdown(pubkey, 96)"
      ],
      "metadata": {
        "id": "jOS9T1AOuJXe"
      },
      "execution_count": null,
      "outputs": []
    },
    {
      "cell_type": "code",
      "source": [
        "%cd /content/Kangaroo-256-bit"
      ],
      "metadata": {
        "colab": {
          "base_uri": "https://localhost:8080/"
        },
        "id": "Pc8t0-M_wFz5",
        "outputId": "e4ff19eb-89ad-498e-8ab3-3bf4225e2f0d"
      },
      "execution_count": 7,
      "outputs": [
        {
          "output_type": "stream",
          "name": "stdout",
          "text": [
            "/content/Kangaroo-256-bit\n"
          ]
        }
      ]
    },
    {
      "cell_type": "code",
      "source": [
        "!awk '{gsub(/ 04[0-9a-fA-F]+/, \"\"); print}' inputpubtopoint.txt > outputpubtopoint.txt"
      ],
      "metadata": {
        "id": "y0k2B9dOv3_6"
      },
      "execution_count": 12,
      "outputs": []
    }
  ],
  "metadata": {
    "colab": {
      "provenance": [],
      "authorship_tag": "ABX9TyMJ11m6Fqnf5bEuSylFKAY1",
      "include_colab_link": true
    },
    "kernelspec": {
      "display_name": "Python 3",
      "name": "python3"
    },
    "language_info": {
      "name": "python"
    }
  },
  "nbformat": 4,
  "nbformat_minor": 0
}