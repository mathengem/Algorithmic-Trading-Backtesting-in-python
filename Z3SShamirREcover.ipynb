{
  "nbformat": 4,
  "nbformat_minor": 0,
  "metadata": {
    "colab": {
      "provenance": [],
      "authorship_tag": "ABX9TyPilNrLWQoc/1a748Fhp7E+",
      "include_colab_link": true
    },
    "kernelspec": {
      "name": "python3",
      "display_name": "Python 3"
    },
    "language_info": {
      "name": "python"
    }
  },
  "cells": [
    {
      "cell_type": "markdown",
      "metadata": {
        "id": "view-in-github",
        "colab_type": "text"
      },
      "source": [
        "<a href=\"https://colab.research.google.com/github/mathengem/Algorithmic-Trading-Backtesting-in-python/blob/main/Z3SShamirREcover.ipynb\" target=\"_parent\"><img src=\"https://colab.research.google.com/assets/colab-badge.svg\" alt=\"Open In Colab\"/></a>"
      ]
    },
    {
      "cell_type": "code",
      "source": [
        "!pip install z3-solver"
      ],
      "metadata": {
        "colab": {
          "base_uri": "https://localhost:8080/"
        },
        "id": "nNXxjWmxUDeT",
        "outputId": "4e998060-c5c6-4a6e-e52e-4292560ee93c"
      },
      "execution_count": 2,
      "outputs": [
        {
          "output_type": "stream",
          "name": "stdout",
          "text": [
            "Collecting z3-solver\n",
            "  Downloading z3_solver-4.13.0.0-py2.py3-none-manylinux2014_x86_64.whl (57.3 MB)\n",
            "\u001b[2K     \u001b[90m━━━━━━━━━━━━━━━━━━━━━━━━━━━━━━━━━━━━━━━━\u001b[0m \u001b[32m57.3/57.3 MB\u001b[0m \u001b[31m7.0 MB/s\u001b[0m eta \u001b[36m0:00:00\u001b[0m\n",
            "\u001b[?25hInstalling collected packages: z3-solver\n",
            "Successfully installed z3-solver-4.13.0.0\n"
          ]
        }
      ]
    },
    {
      "cell_type": "code",
      "source": [
        "import random\n",
        "from z3 import *\n",
        "\n",
        "# Constants\n",
        "NUM_GUESSES = 1000  # Number of guesses to generate\n",
        "SHARE_LENGTH = 12    # Length of each share\n",
        "\n",
        "# Function to generate guesses for the remaining share(s) based on vulnerabilities\n",
        "def generate_guesses():\n",
        "    # We exploit the vulnerability of biased coefficient generation\n",
        "    # Generate guesses by considering the bias introduced in coefficient generation\n",
        "    guesses = []\n",
        "    for _ in range(NUM_GUESSES):\n",
        "        guess = []\n",
        "        for _ in range(SHARE_LENGTH):\n",
        "            # Simulate biased coefficient generation\n",
        "            coefficient = random.randint(1, 254)  # Coefficients are never 255\n",
        "            guess.append(coefficient)\n",
        "        guesses.append(guess)\n",
        "    return guesses\n",
        "\n",
        "# Function to calculate probability distributions of the secret\n",
        "def calculate_probability_distribution():\n",
        "    # Calculate probability distributions based on the reduced entropy\n",
        "    # We can estimate the entropy reduction using known formulas or simulations\n",
        "    # For simplicity, let's assume a fixed reduction in entropy for each byte of the secret\n",
        "    entropy_reduction_per_byte = 7.72  # Estimated entropy reduction per byte\n",
        "    probability_distribution = {}\n",
        "    for i in range(SHARE_LENGTH):\n",
        "        probability_distribution[i] = 2 ** (-entropy_reduction_per_byte / 8)\n",
        "    return probability_distribution\n",
        "\n",
        "# Main function\n",
        "def main():\n",
        "    # Given shares\n",
        "    share1 = [ord(char) for char in \"session cigar grape merry useful churn fatal thought very any arm unaware\"]\n",
        "    share2 = [ord(char) for char in \"clock fresh security field caution effort gorilla speed plastic common tomato echo\"]\n",
        "\n",
        "    # Generate guesses for remaining share(s)\n",
        "    guesses = generate_guesses()\n",
        "\n",
        "    # Calculate probability distributions of the secret\n",
        "    probability_distribution = calculate_probability_distribution()\n",
        "\n",
        "    # Create Z3 variables as bit vectors\n",
        "    secret = [BitVec(f'secret_{i}', 8) for i in range(SHARE_LENGTH)]\n",
        "\n",
        "    # Create Z3 solver\n",
        "    solver = Solver()\n",
        "\n",
        "    # Add constraints based on known shares\n",
        "    for i in range(SHARE_LENGTH):\n",
        "        solver.add(secret[i] ^ share1[i] ^ share2[i] == 0)\n",
        "\n",
        "    # Add constraints based on probability distributions\n",
        "    for i in range(SHARE_LENGTH):\n",
        "        solver.add(If(secret[i] != 0, probability_distribution[i], 0) == 1)\n",
        "\n",
        "    # Add constraints to ensure secret is printable ASCII characters\n",
        "    for i in range(SHARE_LENGTH):\n",
        "        solver.add(And(secret[i] >= 32, secret[i] <= 126))\n",
        "\n",
        "    # Check if solver is satisfiable\n",
        "    if solver.check() == sat:\n",
        "        model = solver.model()\n",
        "        reconstructed_secret = ''.join([chr(model[secret[i]].as_long()) for i in range(SHARE_LENGTH)])\n",
        "        print(f\"Reconstructed Secret: {reconstructed_secret}\")\n",
        "    else:\n",
        "        print(\"No solution found.\")\n",
        "\n",
        "if __name__ == \"__main__\":\n",
        "    main()\n"
      ],
      "metadata": {
        "colab": {
          "base_uri": "https://localhost:8080/"
        },
        "id": "Zvo7S2TjV6S5",
        "outputId": "2d6b2ec9-21e2-4a88-b726-a454991b8895"
      },
      "execution_count": 6,
      "outputs": [
        {
          "output_type": "stream",
          "name": "stdout",
          "text": [
            "No solution found.\n"
          ]
        }
      ]
    },
    {
      "cell_type": "code",
      "source": [
        "import random\n",
        "from z3 import *\n",
        "\n",
        "# Constants\n",
        "NUM_GUESSES = 1000  # Number of guesses to generate\n",
        "SHARE_LENGTH = 12    # Length of each share\n",
        "\n",
        "# Function to generate guesses for the remaining share(s) based on vulnerabilities\n",
        "def generate_guesses():\n",
        "    # We exploit the vulnerability of biased coefficient generation\n",
        "    # Generate guesses by considering the bias introduced in coefficient generation\n",
        "    guesses = []\n",
        "    for _ in range(NUM_GUESSES):\n",
        "        guess = []\n",
        "        for _ in range(SHARE_LENGTH):\n",
        "            # Simulate biased coefficient generation\n",
        "            coefficient = random.randint(1, 254)  # Coefficients are never 255\n",
        "            guess.append(coefficient)\n",
        "        guesses.append(guess)\n",
        "    return guesses\n",
        "\n",
        "# Function to calculate probability distributions of the secret\n",
        "def calculate_probability_distribution():\n",
        "    # Calculate probability distributions based on the reduced entropy\n",
        "    # We can estimate the entropy reduction using known formulas or simulations\n",
        "    # For simplicity, let's assume a fixed reduction in entropy for each byte of the secret\n",
        "    entropy_reduction_per_byte = 7.72  # Estimated entropy reduction per byte\n",
        "    probability_distribution = {}\n",
        "    for i in range(SHARE_LENGTH):\n",
        "        probability_distribution[i] = 2 ** (-entropy_reduction_per_byte / 8)\n",
        "    return probability_distribution\n",
        "\n",
        "# Main function\n",
        "def main():\n",
        "    # Given shares (corrected to be lists of integers)\n",
        "    share1 = [115, 101, 115, 115, 105, 111, 110, 32, 99, 105, 103, 97]\n",
        "    share2 = [114, 32, 103, 114, 97, 112, 101, 32, 109, 101, 114, 114]\n",
        "\n",
        "    # Generate guesses for remaining share(s)\n",
        "    guesses = generate_guesses()\n",
        "\n",
        "    # Calculate probability distributions of the secret\n",
        "    probability_distribution = calculate_probability_distribution()\n",
        "\n",
        "    # Create Z3 variables as bit vectors\n",
        "    secret = [BitVec(f'secret_{i}', 8) for i in range(SHARE_LENGTH)]\n",
        "\n",
        "    # Create Z3 solver\n",
        "    solver = Solver()\n",
        "\n",
        "    # Add constraints based on known shares\n",
        "    for i in range(SHARE_LENGTH):\n",
        "        solver.add(secret[i] == share1[i] ^ share2[i])\n",
        "\n",
        "    # Add constraints to ensure secret is printable ASCII characters\n",
        "    for i in range(SHARE_LENGTH):\n",
        "        solver.add(And(secret[i] >= 32, secret[i] <= 126))\n",
        "\n",
        "    # Check if solver is satisfiable\n",
        "    if solver.check() == sat:\n",
        "        model = solver.model()\n",
        "        reconstructed_secret = ''.join([chr(model[secret[i]].as_long()) for i in range(SHARE_LENGTH)])\n",
        "        print(f\"Reconstructed Secret: {reconstructed_secret}\")\n",
        "    else:\n",
        "        print(\"No solution found.\")\n",
        "\n",
        "if __name__ == \"__main__\":\n",
        "    main()"
      ],
      "metadata": {
        "colab": {
          "base_uri": "https://localhost:8080/"
        },
        "id": "0R2lzp7xWL4l",
        "outputId": "499cec87-a24e-470d-a407-49d08972a7bf"
      },
      "execution_count": 7,
      "outputs": [
        {
          "output_type": "stream",
          "name": "stdout",
          "text": [
            "No solution found.\n"
          ]
        }
      ]
    },
    {
      "cell_type": "code",
      "source": [
        "import random\n",
        "from z3 import *\n",
        "\n",
        "# Constants\n",
        "NUM_GUESSES = 10000  # Increase the number of guesses\n",
        "SHARE_LENGTH = 12    # Length of each share\n",
        "\n",
        "# Function to generate guesses for the remaining share(s) based on vulnerabilities\n",
        "def generate_guesses():\n",
        "    # We exploit the vulnerability of biased coefficient generation\n",
        "    # Generate guesses by considering the bias introduced in coefficient generation\n",
        "    guesses = []\n",
        "    for _ in range(NUM_GUESSES):\n",
        "        guess = []\n",
        "        for _ in range(SHARE_LENGTH):\n",
        "            # Simulate biased coefficient generation\n",
        "            coefficient = random.randint(1, 254)  # Coefficients are never 255\n",
        "            guess.append(chr(coefficient))\n",
        "        guesses.append(guess)\n",
        "    return guesses\n",
        "\n",
        "# Function to calculate probability distributions of the secret\n",
        "def calculate_probability_distribution():\n",
        "    # Calculate probability distributions based on the reduced entropy\n",
        "    # We can estimate the entropy reduction using known formulas or simulations\n",
        "    # For simplicity, let's assume a fixed reduction in entropy for each byte of the secret\n",
        "    entropy_reduction_per_byte = 7.72  # Estimated entropy reduction per byte\n",
        "    probability_distribution = {}\n",
        "    for i in range(SHARE_LENGTH):\n",
        "        probability_distribution[i] = 2 ** (-entropy_reduction_per_byte / 8)\n",
        "    return probability_distribution\n",
        "\n",
        "# Main function\n",
        "def main():\n",
        "    # Given shares (as words)\n",
        "    share1 = \"session cigar grape merry useful churn fatal thought very any arm unaware\"\n",
        "    share2 = \"clock fresh security field caution effort gorilla speed plastic common tomato echo\"\n",
        "\n",
        "    # Generate guesses for remaining share(s)\n",
        "    guesses = generate_guesses()\n",
        "\n",
        "    # Calculate probability distributions of the secret\n",
        "    probability_distribution = calculate_probability_distribution()\n",
        "\n",
        "    # Create Z3 variables as bit vectors\n",
        "    secret = [BitVec(f'secret_{i}', 8) for i in range(SHARE_LENGTH)]\n",
        "\n",
        "    # Create Z3 solver\n",
        "    solver = Solver()\n",
        "\n",
        "    # Add constraints based on known shares\n",
        "    for i in range(SHARE_LENGTH):\n",
        "        solver.add(secret[i] == ord(share1[i]) ^ ord(share2[i]))\n",
        "\n",
        "    # Add constraints to ensure secret is printable ASCII characters and guided by probability distribution\n",
        "    for i in range(SHARE_LENGTH):\n",
        "        solver.add(And(secret[i] >= 32, secret[i] <= 126))\n",
        "        solver.add(secret[i] == If(probability_distribution[i] > 0.5,\n",
        "                                  BitVec(f'secret_{i}', 8),\n",
        "                                  BitVec(f'secret_{i}', 8) + 1))\n",
        "\n",
        "    # Check if solver is satisfiable\n",
        "    if solver.check() == sat:\n",
        "        model = solver.model()\n",
        "        reconstructed_secret = ''.join([chr(model[secret[i]].as_long()) for i in range(SHARE_LENGTH)])\n",
        "        print(f\"Reconstructed Secret: {reconstructed_secret}\")\n",
        "    else:\n",
        "        print(\"No solution found.\")\n",
        "\n",
        "if __name__ == \"__main__\":\n",
        "    main()"
      ],
      "metadata": {
        "colab": {
          "base_uri": "https://localhost:8080/"
        },
        "id": "qSQgMr8vXjVq",
        "outputId": "0bb5357f-6598-4af6-bccb-5c55980139be"
      },
      "execution_count": 10,
      "outputs": [
        {
          "output_type": "stream",
          "name": "stdout",
          "text": [
            "No solution found.\n"
          ]
        }
      ]
    },
    {
      "cell_type": "code",
      "source": [],
      "metadata": {
        "id": "ieIx-VOfaKcb"
      },
      "execution_count": null,
      "outputs": []
    }
  ]
}