{
  "nbformat": 4,
  "nbformat_minor": 0,
  "metadata": {
    "colab": {
      "provenance": [],
      "authorship_tag": "ABX9TyMrMGnOFAF8dmSVsfUM9WwJ",
      "include_colab_link": true
    },
    "kernelspec": {
      "name": "python3",
      "display_name": "Python 3"
    },
    "language_info": {
      "name": "python"
    }
  },
  "cells": [
    {
      "cell_type": "markdown",
      "metadata": {
        "id": "view-in-github",
        "colab_type": "text"
      },
      "source": [
        "<a href=\"https://colab.research.google.com/github/mathengem/Algorithmic-Trading-Backtesting-in-python/blob/main/BTCrecover.ipynb\" target=\"_parent\"><img src=\"https://colab.research.google.com/assets/colab-badge.svg\" alt=\"Open In Colab\"/></a>"
      ]
    },
    {
      "cell_type": "code",
      "execution_count": 1,
      "metadata": {
        "colab": {
          "base_uri": "https://localhost:8080/"
        },
        "id": "CuL_MGG07bQC",
        "outputId": "5a18d84d-0493-473e-8669-41ade911a348"
      },
      "outputs": [
        {
          "output_type": "stream",
          "name": "stdout",
          "text": [
            "fatal: destination path 'btcrecover' already exists and is not an empty directory.\n"
          ]
        }
      ],
      "source": [
        "!git clone https://github.com/3rdIteration/btcrecover.git"
      ]
    },
    {
      "cell_type": "code",
      "source": [
        "cd btcrecover"
      ],
      "metadata": {
        "colab": {
          "base_uri": "https://localhost:8080/"
        },
        "id": "LbAZXUNy7rdb",
        "outputId": "afcaeb4d-6871-4199-aa97-25917eee72a5"
      },
      "execution_count": 2,
      "outputs": [
        {
          "output_type": "stream",
          "name": "stdout",
          "text": [
            "/content/btcrecover\n"
          ]
        }
      ]
    },
    {
      "cell_type": "code",
      "source": [
        "!pip install -r requirements.txt"
      ],
      "metadata": {
        "colab": {
          "base_uri": "https://localhost:8080/"
        },
        "id": "5S0RKYiT7u7s",
        "outputId": "07da5781-73ef-4c37-e040-2e3ac0b79efc"
      },
      "execution_count": 3,
      "outputs": [
        {
          "output_type": "stream",
          "name": "stdout",
          "text": [
            "Requirement already satisfied: coincurve~=19.0.0 in /usr/local/lib/python3.10/dist-packages (from -r requirements.txt (line 1)) (19.0.1)\n",
            "Requirement already satisfied: green~=3.3.0 in /usr/local/lib/python3.10/dist-packages (from -r requirements.txt (line 2)) (3.3.0)\n",
            "Requirement already satisfied: protobuf~=3.19.1 in /usr/local/lib/python3.10/dist-packages (from -r requirements.txt (line 3)) (3.19.6)\n",
            "Requirement already satisfied: pycryptodome~=3.19.1 in /usr/local/lib/python3.10/dist-packages (from -r requirements.txt (line 4)) (3.19.1)\n",
            "Requirement already satisfied: asn1crypto in /usr/local/lib/python3.10/dist-packages (from coincurve~=19.0.0->-r requirements.txt (line 1)) (1.5.1)\n",
            "Requirement already satisfied: cffi>=1.3.0 in /usr/local/lib/python3.10/dist-packages (from coincurve~=19.0.0->-r requirements.txt (line 1)) (1.16.0)\n",
            "Requirement already satisfied: colorama in /usr/local/lib/python3.10/dist-packages (from green~=3.3.0->-r requirements.txt (line 2)) (0.4.6)\n",
            "Requirement already satisfied: coverage in /usr/local/lib/python3.10/dist-packages (from green~=3.3.0->-r requirements.txt (line 2)) (7.5.3)\n",
            "Requirement already satisfied: unidecode in /usr/local/lib/python3.10/dist-packages (from green~=3.3.0->-r requirements.txt (line 2)) (1.3.8)\n",
            "Requirement already satisfied: lxml in /usr/local/lib/python3.10/dist-packages (from green~=3.3.0->-r requirements.txt (line 2)) (4.9.4)\n",
            "Requirement already satisfied: pycparser in /usr/local/lib/python3.10/dist-packages (from cffi>=1.3.0->coincurve~=19.0.0->-r requirements.txt (line 1)) (2.22)\n"
          ]
        }
      ]
    },
    {
      "cell_type": "code",
      "source": [
        "!sudo apt-get update"
      ],
      "metadata": {
        "colab": {
          "base_uri": "https://localhost:8080/"
        },
        "id": "x2U6reDd8CiX",
        "outputId": "b1ae1872-e401-4b6b-c88c-1e58b84061b6"
      },
      "execution_count": 6,
      "outputs": [
        {
          "output_type": "stream",
          "name": "stdout",
          "text": [
            "\r0% [Working]\r            \rHit:1 http://archive.ubuntu.com/ubuntu jammy InRelease\n",
            "\r0% [Connecting to security.ubuntu.com (185.125.190.36)] [Waiting for headers] [\r                                                                               \rGet:2 https://cloud.r-project.org/bin/linux/ubuntu jammy-cran40/ InRelease [3,626 B]\n",
            "\r0% [Waiting for headers] [Waiting for headers] [2 InRelease 3,626 B/3,626 B 100\r                                                                               \rGet:3 http://archive.ubuntu.com/ubuntu jammy-updates InRelease [128 kB]\n",
            "Get:4 https://developer.download.nvidia.com/compute/cuda/repos/ubuntu2204/x86_64  InRelease [1,581 B]\n",
            "Get:5 http://security.ubuntu.com/ubuntu jammy-security InRelease [129 kB]\n",
            "Get:6 http://archive.ubuntu.com/ubuntu jammy-backports InRelease [127 kB]\n",
            "Get:7 https://cloud.r-project.org/bin/linux/ubuntu jammy-cran40/ Packages [53.5 kB]\n",
            "Get:8 https://developer.download.nvidia.com/compute/cuda/repos/ubuntu2204/x86_64  Packages [917 kB]\n",
            "Hit:9 https://ppa.launchpadcontent.net/c2d4u.team/c2d4u4.0+/ubuntu jammy InRelease\n",
            "Get:10 http://archive.ubuntu.com/ubuntu jammy-updates/main amd64 Packages [2,160 kB]\n",
            "Get:11 https://ppa.launchpadcontent.net/deadsnakes/ppa/ubuntu jammy InRelease [18.1 kB]\n",
            "Get:12 http://archive.ubuntu.com/ubuntu jammy-updates/universe amd64 Packages [1,389 kB]\n",
            "Get:13 http://archive.ubuntu.com/ubuntu jammy-updates/multiverse amd64 Packages [51.5 kB]\n",
            "Get:14 https://ppa.launchpadcontent.net/graphics-drivers/ppa/ubuntu jammy InRelease [24.3 kB]\n",
            "Get:15 http://archive.ubuntu.com/ubuntu jammy-backports/universe amd64 Packages [31.8 kB]\n",
            "Hit:16 https://ppa.launchpadcontent.net/ubuntugis/ppa/ubuntu jammy InRelease\n",
            "Get:17 http://security.ubuntu.com/ubuntu jammy-security/universe amd64 Packages [1,088 kB]\n",
            "Get:18 https://ppa.launchpadcontent.net/deadsnakes/ppa/ubuntu jammy/main amd64 Packages [27.8 kB]\n",
            "Get:19 https://ppa.launchpadcontent.net/graphics-drivers/ppa/ubuntu jammy/main amd64 Packages [47.9 kB]\n",
            "Get:20 http://security.ubuntu.com/ubuntu jammy-security/main amd64 Packages [1,885 kB]\n",
            "Get:21 http://security.ubuntu.com/ubuntu jammy-security/restricted amd64 Packages [2,439 kB]\n",
            "Fetched 10.5 MB in 18s (599 kB/s)\n",
            "Reading package lists... Done\n"
          ]
        }
      ]
    },
    {
      "cell_type": "code",
      "source": [
        "!sudo apt-get install crunch"
      ],
      "metadata": {
        "colab": {
          "base_uri": "https://localhost:8080/"
        },
        "id": "FUXZYvO38gd7",
        "outputId": "baa18c58-3d4b-455c-9e1d-6dac89f5ba94"
      },
      "execution_count": 7,
      "outputs": [
        {
          "output_type": "stream",
          "name": "stdout",
          "text": [
            "Reading package lists... Done\n",
            "Building dependency tree... Done\n",
            "Reading state information... Done\n",
            "The following NEW packages will be installed:\n",
            "  crunch\n",
            "0 upgraded, 1 newly installed, 0 to remove and 49 not upgraded.\n",
            "Need to get 30.5 kB of archives.\n",
            "After this operation, 86.0 kB of additional disk space will be used.\n",
            "Get:1 http://archive.ubuntu.com/ubuntu jammy/universe amd64 crunch amd64 3.6-3 [30.5 kB]\n",
            "Fetched 30.5 kB in 0s (81.2 kB/s)\n",
            "debconf: unable to initialize frontend: Dialog\n",
            "debconf: (No usable dialog-like program is installed, so the dialog based frontend cannot be used. at /usr/share/perl5/Debconf/FrontEnd/Dialog.pm line 78, <> line 1.)\n",
            "debconf: falling back to frontend: Readline\n",
            "debconf: unable to initialize frontend: Readline\n",
            "debconf: (This frontend requires a controlling tty.)\n",
            "debconf: falling back to frontend: Teletype\n",
            "dpkg-preconfigure: unable to re-open stdin: \n",
            "Selecting previously unselected package crunch.\n",
            "(Reading database ... 121913 files and directories currently installed.)\n",
            "Preparing to unpack .../crunch_3.6-3_amd64.deb ...\n",
            "Unpacking crunch (3.6-3) ...\n",
            "Setting up crunch (3.6-3) ...\n",
            "Processing triggers for man-db (2.10.2-1) ...\n"
          ]
        }
      ]
    },
    {
      "cell_type": "code",
      "source": [
        "!pip3 install ecdsa"
      ],
      "metadata": {
        "colab": {
          "base_uri": "https://localhost:8080/"
        },
        "id": "hkm0Ckni-Bu8",
        "outputId": "2a3c7b4d-4ad6-4eeb-916b-5c0dbbf4c1ba"
      },
      "execution_count": 12,
      "outputs": [
        {
          "output_type": "stream",
          "name": "stdout",
          "text": [
            "Collecting ecdsa\n",
            "  Downloading ecdsa-0.19.0-py2.py3-none-any.whl (149 kB)\n",
            "\u001b[?25l     \u001b[90m━━━━━━━━━━━━━━━━━━━━━━━━━━━━━━━━━━━━━━━━\u001b[0m \u001b[32m0.0/149.3 kB\u001b[0m \u001b[31m?\u001b[0m eta \u001b[36m-:--:--\u001b[0m\r\u001b[2K     \u001b[91m━━━━━━━━━━━━━━━━━━━━━━━━━━━━━━━━━━━━━━\u001b[0m\u001b[90m╺\u001b[0m\u001b[90m━\u001b[0m \u001b[32m143.4/149.3 kB\u001b[0m \u001b[31m3.6 MB/s\u001b[0m eta \u001b[36m0:00:01\u001b[0m\r\u001b[2K     \u001b[90m━━━━━━━━━━━━━━━━━━━━━━━━━━━━━━━━━━━━━━━━\u001b[0m \u001b[32m149.3/149.3 kB\u001b[0m \u001b[31m2.8 MB/s\u001b[0m eta \u001b[36m0:00:00\u001b[0m\n",
            "\u001b[?25hRequirement already satisfied: six>=1.9.0 in /usr/local/lib/python3.10/dist-packages (from ecdsa) (1.16.0)\n",
            "Installing collected packages: ecdsa\n",
            "Successfully installed ecdsa-0.19.0\n"
          ]
        }
      ]
    },
    {
      "cell_type": "code",
      "source": [
        "!crunch 24 24 -t @@@@-@@@@-@@@@-@@@@-@@@@ -o START -b 5GB"
      ],
      "metadata": {
        "colab": {
          "base_uri": "https://localhost:8080/"
        },
        "id": "jmFH7Vap8mKi",
        "outputId": "d4e45af0-029f-4307-9987-babcd6807373"
      },
      "execution_count": 19,
      "outputs": [
        {
          "output_type": "stream",
          "name": "stdout",
          "text": [
            "Crunch will now generate the following amount of data: 4626592094185586688 bytes\n",
            "4412262052713 MB\n",
            "4308849660 GB\n",
            "4207860 TB\n",
            "4109 PB\n",
            "Crunch will now generate the following number of lines: 5350152024406097920 \n",
            "\n",
            "crunch:   0% completed generating output\n",
            "\n",
            "crunch:   0% completed generating output\n",
            "\n",
            "crunch:   0% completed generating output\n",
            "\n",
            "crunch:   0% completed generating output\n",
            "\n",
            "crunch:   0% completed generating output\n",
            "\n",
            "crunch:   0% completed generating output\n",
            "\n",
            "crunch:   0% completed generating output\n",
            "\n",
            "crunch:   0% completed generating output\n",
            "\n",
            "crunch:   0% completed generating output\n",
            "\n",
            "crunch:   0% completed generating output\n",
            "\n",
            "crunch:   0% completed generating output\n",
            "\n",
            "crunch:   0% completed generating output\n",
            "\n",
            "crunch:   0% completed generating output\n",
            "\n",
            "crunch:   0% completed generating output\n",
            "Crunch ending at aaaa-aaaa-aaaa-aaqg-adag\n",
            "^C\n"
          ]
        }
      ]
    },
    {
      "cell_type": "code",
      "source": [
        "!python3 btcrecover.py --bip38-enc-privkey 6PnQmAyBky9ZXJyZBv9QSGRUXkKh9HfnVsZWPn4YtcwoKy5vufUgfA3Ld7 --passwordlist wordlist.txt --max-eta 240"
      ],
      "metadata": {
        "colab": {
          "base_uri": "https://localhost:8080/"
        },
        "id": "jN0HV_oH835X",
        "outputId": "57a60c97-6093-4971-8c38-ddc3ceb7ff95"
      },
      "execution_count": 21,
      "outputs": [
        {
          "output_type": "stream",
          "name": "stdout",
          "text": [
            "\n",
            "Starting btcrecover 1.13.0-Cryptoguide on Python 3.10.12 64-bit, 21-bit unicodes, 64-bit ints\n",
            "* * * * * * * * * * * * * * * * * * * *\n",
            "*          Security: Warning          *\n",
            "* * * * * * * * * * * * * * * * * * * *\n",
            "\n",
            "Most crypto wallet software and hardware wallets go to great lengths to protect your wallet password, seed phrase and private keys. BTCRecover isn't designed to offer this level of security, so it is possible that malware on your PC could gain access to this sensitive information while it is stored in memory in the use of this tool...\n",
            "\n",
            "As a precaution, you should run this tool in a secure, offline environment and not simply use your normal, internet connected desktop environment... At the very least, you should disconnect your PC from the network and only reconnect it after moving your funds to a new seed... (Or if you run the tool on your internet conencted PC, move it to a new seed as soon as practical)\n",
            "\n",
            "You can disable this message by running this tool with the --dsw argument\n",
            "\n",
            "* * * * * * * * * * * * * * * * * * * *\n",
            "*          Security: Warning          *\n",
            "* * * * * * * * * * * * * * * * * * * *\n",
            "\n",
            "Wallet Type: btcrpass.WalletBIP38\n",
            "Wallet difficulty: sCrypt N=14, r=8, p=8\n",
            "Notice: Loading File:  wordlist.txt\n",
            "Counting passwords ...\n",
            "at least 2,800,000 passwords to try, ETA > --max-eta option (240 hours), exiting\n"
          ]
        }
      ]
    }
  ]
}