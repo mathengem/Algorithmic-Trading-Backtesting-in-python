{
  "nbformat": 4,
  "nbformat_minor": 0,
  "metadata": {
    "colab": {
      "name": "z3-shamir-secret-sharing.ipynb",
      "provenance": [],
      "include_colab_link": true
    },
    "kernelspec": {
      "name": "python3",
      "display_name": "Python 3"
    }
  },
  "cells": [
    {
      "cell_type": "markdown",
      "metadata": {
        "id": "view-in-github",
        "colab_type": "text"
      },
      "source": [
        "<a href=\"https://colab.research.google.com/github/mathengem/Algorithmic-Trading-Backtesting-in-python/blob/main/z3-shamir-secret-sharing.ipynb\" target=\"_parent\"><img src=\"https://colab.research.google.com/assets/colab-badge.svg\" alt=\"Open In Colab\"/></a>"
      ]
    },
    {
      "metadata": {
        "id": "v-nPb_dQmluX",
        "colab": {
          "base_uri": "https://localhost:8080/"
        },
        "outputId": "5f3799c1-cd77-47e6-bee2-2f493bb31d3b"
      },
      "cell_type": "code",
      "source": [
        "!pip install z3-solver"
      ],
      "execution_count": 1,
      "outputs": [
        {
          "output_type": "stream",
          "name": "stdout",
          "text": [
            "Collecting z3-solver\n",
            "  Downloading z3_solver-4.13.0.0-py2.py3-none-manylinux2014_x86_64.whl (57.3 MB)\n",
            "\u001b[2K     \u001b[90m━━━━━━━━━━━━━━━━━━━━━━━━━━━━━━━━━━━━━━━━\u001b[0m \u001b[32m57.3/57.3 MB\u001b[0m \u001b[31m10.1 MB/s\u001b[0m eta \u001b[36m0:00:00\u001b[0m\n",
            "\u001b[?25hInstalling collected packages: z3-solver\n",
            "Successfully installed z3-solver-4.13.0.0\n"
          ]
        }
      ]
    },
    {
      "metadata": {
        "id": "CX6NfTeIuRVR"
      },
      "cell_type": "code",
      "source": [
        "# Definition of simple functions to encode a string into an integer and back\n",
        "\n",
        "import binascii\n",
        "\n",
        "def str_to_int(str):\n",
        "  byts = str.encode(\"utf-8\")\n",
        "  return int(binascii.hexlify(byts), 16)\n",
        "\n",
        "def int_to_str(i):\n",
        "  hx = hex(i)[2:]\n",
        "  secret = binascii.unhexlify(hx)\n",
        "  return secret.decode(\"utf-8\")"
      ],
      "execution_count": 2,
      "outputs": []
    },
    {
      "metadata": {
        "id": "cEFJK3hqzBIw"
      },
      "cell_type": "code",
      "source": [
        "import random\n",
        "\n",
        "# Function that generates another function given a list of coefficient.\n",
        "# (also determining the polynomial's degree)\n",
        "# https://en.wikipedia.org/wiki/Shamir%27s_Secret_Sharing#Usage\n",
        "def generate_polynomial_fn(a_vars):\n",
        "  parts = []\n",
        "  for degree in range(len(a_vars)):\n",
        "    # closure on variable 'degree' using default parameter\n",
        "    def polynomial_part(x, d=degree):\n",
        "      return a_vars[d] * x**d\n",
        "    parts.append(polynomial_part)\n",
        "\n",
        "  # Returns a lambda that sums all part of the polynomial for a given 'x'\n",
        "  return lambda x: sum(map(lambda f: f(x), parts))"
      ],
      "execution_count": 3,
      "outputs": []
    },
    {
      "metadata": {
        "id": "FirYCvc_QBv-"
      },
      "cell_type": "code",
      "source": [
        "def shamir_split(m, n, secret):\n",
        "  # Choosing random numbers that are not too far away from our secret\n",
        "  rnds = [int(random.uniform(0.2, 0.8) * secret) for _ in range(m - 1)]\n",
        "  f = generate_polynomial_fn([secret] + rnds)\n",
        "  # returns the evaluation of the polynomial function for 0 < x < n+1\n",
        "  # WARNING: here x=0 would reveal the secret (f(0) == secret)\n",
        "  return [(x, f(x)) for x in range(1, n + 1)]"
      ],
      "execution_count": 4,
      "outputs": []
    },
    {
      "metadata": {
        "id": "LhHMr-2RI54t"
      },
      "cell_type": "code",
      "source": [
        "from z3 import *\n",
        "\n",
        "# https://en.wikipedia.org/wiki/Shamir%27s_Secret_Sharing#Solution\n",
        "def shamir_resolve(splits):\n",
        "  degree = len(splits)\n",
        "\n",
        "  # Z3 way of declaring unknown variables\n",
        "  a = [Int(f'a{i}') for i in range(0, degree)]\n",
        "  solver = Solver()\n",
        "\n",
        "  # Create a simple system of equations from the splits\n",
        "  for x, y in splits:\n",
        "    p = generate_polynomial_fn(a)\n",
        "    solver.add(y == p(x))\n",
        "\n",
        "  # This part is Z3 specific, we check and solve the system of equations\n",
        "  solver.check()\n",
        "  model = solver.model()\n",
        "  sec_int = model[a[0]].as_long()\n",
        "\n",
        "  return int_to_str(sec_int)"
      ],
      "execution_count": 5,
      "outputs": []
    },
    {
      "metadata": {
        "id": "5CYyGBqAtcYQ"
      },
      "cell_type": "code",
      "source": [
        "secret = \"this is so secret\"\n",
        "\n",
        "# We encode our secret into an integer\n",
        "sec_int = str_to_int(secret)\n",
        "\n",
        "# Make sure our reverse function works as expected\n",
        "assert(int_to_str(sec_int) == secret)"
      ],
      "execution_count": 6,
      "outputs": []
    },
    {
      "metadata": {
        "id": "rgsF-5tQ0dM9",
        "outputId": "026dbad0-77a8-4142-a22f-5688a18544c1",
        "colab": {
          "base_uri": "https://localhost:8080/"
        }
      },
      "cell_type": "code",
      "source": [
        "m = 7\n",
        "n = 12\n",
        "splits = shamir_split(m, n, sec_int)\n",
        "\n",
        "assert(len(splits) == n)\n",
        "print(splits)"
      ],
      "execution_count": 7,
      "outputs": [
        {
          "output_type": "stream",
          "name": "stdout",
          "text": [
            "[(1, 148772187351307516223958825888253161399668), (2, 1832287510622872199803291348696175142397300), (3, 13647066194289311204120363767881218219206004), (4, 63449689653549424152499172004375621989983604), (5, 217217532210100922514935980224419165161809268), (6, 604489697253030327772674673511088579138446708), (7, 1450427769386618644050522403294640912750241140), (8, 3114496382565062805216905525541670848126150004), (9, 6135763604214112896451665831703081967707907444), (10, 11284821135339625150281597072420871972406322548), (11, 19622324326623030717083721773993731850899711348), (12, 32564152010503720210056308347601459000074462580)]\n"
          ]
        }
      ]
    },
    {
      "metadata": {
        "id": "9qA34g-K0fnD",
        "outputId": "aa64079e-9bce-456a-bbf8-f8a255aa3b3a",
        "colab": {
          "base_uri": "https://localhost:8080/",
          "height": 35
        }
      },
      "cell_type": "code",
      "source": [
        "# Picking arbitrarily a subset of the splits\n",
        "split_subset = splits[3:10]\n",
        "\n",
        "# Make sure the chosen subset is greater or equal to m\n",
        "assert(len(split_subset) >= m)\n",
        "\n",
        "# Reconstruct the secret using only the splits (and the 'x' value)\n",
        "shamir_resolve(split_subset)"
      ],
      "execution_count": 8,
      "outputs": [
        {
          "output_type": "execute_result",
          "data": {
            "text/plain": [
              "'this is so secret'"
            ],
            "application/vnd.google.colaboratory.intrinsic+json": {
              "type": "string"
            }
          },
          "metadata": {},
          "execution_count": 8
        }
      ]
    }
  ]
}